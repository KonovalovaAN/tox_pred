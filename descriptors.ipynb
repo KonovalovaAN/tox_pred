{
 "cells": [
  {
   "cell_type": "markdown",
   "id": "0f613c73",
   "metadata": {},
   "source": [
    "## Импорт библиотек\n",
    "\n",
    "Загружаются основные библиотеки для анализа химических структур:\n",
    "\n",
    "- `rdkit`: для обработки SMILES и построения молекул;\n",
    "- `descriptastorus`: генерация дескрипторов RDKit2D;\n",
    "- `mordred`: расширенная генерация химико-информатических дескрипторов;\n",
    "- `pandas`/`numpy`: для работы с табличными и числовыми данными.\n",
    "\n",
    "Импортируются генераторы дескрипторов, включая `MakeGenerator`, с возможностью получения предобученных дескрипторных векторов."
   ]
  },
  {
   "cell_type": "code",
   "execution_count": 91,
   "id": "ad913cd4",
   "metadata": {},
   "outputs": [],
   "source": [
    "import pandas as pd\n",
    "import numpy as np\n",
    "\n",
    "from rdkit import Chem\n",
    "from rdkit.Chem import Draw\n",
    "from rdkit.Chem import PandasTools\n",
    "from rdkit.Chem.Draw import IPythonConsole\n",
    "from rdkit.Chem import AllChem\n",
    "from rdkit.Chem import rdFingerprintGenerator\n",
    "from rdkit import DataStructs\n",
    "from rdkit.Chem import MACCSkeys\n",
    "from rdkit.Chem.Fingerprints import FingerprintMols\n",
    "from descriptastorus.descriptors.DescriptorGenerator import MakeGenerator\n",
    "from mordred import Calculator, descriptors\n",
    "from rdkit.Chem.rdFingerprintGenerator import GetMorganGenerator"
   ]
  },
  {
   "cell_type": "markdown",
   "id": "6da529c8",
   "metadata": {},
   "source": [
    "## Загрузка данных\n",
    "\n",
    "Загружаются обучающая и тестовая выборки. В качестве индекса используется идентификатор CASRN. "
   ]
  },
  {
   "cell_type": "code",
   "execution_count": 92,
   "id": "22b9aefd",
   "metadata": {},
   "outputs": [],
   "source": [
    "train = pd.read_csv('data/row/train.csv', index_col = 'CASRN')\n",
    "test = pd.read_csv('data/row/test.csv', index_col = 'CASRN')"
   ]
  },
  {
   "cell_type": "markdown",
   "id": "95259cba",
   "metadata": {},
   "source": [
    "## Конвертация SMILES в молекулы\n",
    "С помощью RDKit SMILES-строки преобразуются в молекулярные объекты (ROMol). Это необходимо для извлечения структурных признаков."
   ]
  },
  {
   "cell_type": "code",
   "execution_count": 93,
   "id": "04a5bf0f",
   "metadata": {},
   "outputs": [],
   "source": [
    "PandasTools.AddMoleculeColumnToFrame(train,smilesCol='SMILES')\n",
    "PandasTools.AddMoleculeColumnToFrame(test,smilesCol='SMILES')"
   ]
  },
  {
   "cell_type": "markdown",
   "id": "6f87bbd7",
   "metadata": {},
   "source": [
    "# ECFP6 Bits"
   ]
  },
  {
   "cell_type": "markdown",
   "id": "e171de3e",
   "metadata": {},
   "source": [
    "#### Генерация ECFP6 с заданными параметрами (радиус 3, размер 2048 бит)\n",
    "\n",
    "Используется объект `GetMorganGenerator` из RDKit для создания фингерпринтов ECFP6:\n",
    "\n",
    "- `radius=3` — радиус охвата атомов (ECFP6);\n",
    "- `fpSize=2048` — размер выходного бинарного вектора.\n",
    "\n"
   ]
  },
  {
   "cell_type": "code",
   "execution_count": 94,
   "id": "b82c60e1",
   "metadata": {},
   "outputs": [],
   "source": [
    "generator = GetMorganGenerator(radius=3, fpSize=2048)"
   ]
  },
  {
   "cell_type": "code",
   "execution_count": 95,
   "id": "896d35ee",
   "metadata": {},
   "outputs": [],
   "source": [
    "train_ECFP6 = [generator.GetFingerprint(x) for x in train['ROMol']]\n",
    "test_ECFP6 = [generator.GetFingerprint(x) for x in test['ROMol']]"
   ]
  },
  {
   "cell_type": "markdown",
   "id": "45164f0c",
   "metadata": {},
   "source": [
    "#### Преобразование ECFP6-фингерпринтов в списки\n",
    "\n",
    "Преобразуются RDKit-фингерпринты в обычные списки Python (поэлементно: 0/1).  \n",
    "Это необходимо для последующей упаковки в датафреймы или массивы `NumPy`, чтобы использовать их в качестве входных данных в модели машинного обучения."
   ]
  },
  {
   "cell_type": "code",
   "execution_count": 96,
   "id": "c4ce596a",
   "metadata": {},
   "outputs": [],
   "source": [
    "train_ecfp6_lists = [list(l) for l in train_ECFP6]\n",
    "test_ecfp6_lists = [list(l) for l in test_ECFP6]"
   ]
  },
  {
   "cell_type": "markdown",
   "id": "9fd1db9e",
   "metadata": {},
   "source": [
    "Генерируем список строк `Bit_0`, `Bit_1`, ..., `Bit_2047`.\n"
   ]
  },
  {
   "cell_type": "code",
   "execution_count": 97,
   "id": "0a1977a1",
   "metadata": {},
   "outputs": [],
   "source": [
    "ecfp6_name = [f'Bit_{i}' for i in range(2048)]"
   ]
  },
  {
   "cell_type": "markdown",
   "id": "bda416e2",
   "metadata": {},
   "source": [
    "Создаются DataFrame для тренировочных и тестовых данных, где строки индексированы по индексам `train` и `test`, а столбцы названы в соответствии с `ecfp6_name`.\n"
   ]
  },
  {
   "cell_type": "code",
   "execution_count": 98,
   "id": "2f6f4e4a",
   "metadata": {},
   "outputs": [],
   "source": [
    "train_ecfp6_df = pd.DataFrame(train_ecfp6_lists, index = train.index, columns=ecfp6_name)\n",
    "test_ecfp6_df = pd.DataFrame(test_ecfp6_lists, index = test.index, columns=ecfp6_name)"
   ]
  },
  {
   "cell_type": "markdown",
   "id": "ea9dcd42",
   "metadata": {},
   "source": [
    "Вывод размеров DataFrame для тренировочных и тестовых данных: `train_ecfp6_df` и `test_ecfp6_df`.\n"
   ]
  },
  {
   "cell_type": "code",
   "execution_count": 99,
   "id": "1e0f8548",
   "metadata": {},
   "outputs": [
    {
     "data": {
      "text/plain": [
       "((8221, 2048), (2849, 2048))"
      ]
     },
     "execution_count": 99,
     "metadata": {},
     "output_type": "execute_result"
    }
   ],
   "source": [
    "train_ecfp6_df.shape, test_ecfp6_df.shape\n"
   ]
  },
  {
   "cell_type": "markdown",
   "id": "829c485b",
   "metadata": {},
   "source": [
    "Сохранение DataFrame с тренировочными и тестовыми данными в CSV файлы: `train_ecfp6_bits.csv` и `test_ecfp6_bits.csv`.\n"
   ]
  },
  {
   "cell_type": "code",
   "execution_count": 100,
   "id": "4058bfe0",
   "metadata": {},
   "outputs": [],
   "source": [
    "train_ecfp6_df.to_csv('data/descriptors/train_ecfp6_bits.csv')\n",
    "test_ecfp6_df.to_csv('data/descriptors/test_ecfp6_bits.csv')"
   ]
  },
  {
   "cell_type": "markdown",
   "id": "416f6ea9",
   "metadata": {},
   "source": [
    "#### Далее аналогично"
   ]
  },
  {
   "cell_type": "markdown",
   "id": "a91ecf88",
   "metadata": {},
   "source": [
    "## ECFP6 counts"
   ]
  },
  {
   "cell_type": "markdown",
   "id": "cf10ae74",
   "metadata": {},
   "source": [
    "Создание генератора с подсчётом частот (counts), радиус = 3, размер вектора = 2048"
   ]
  },
  {
   "cell_type": "code",
   "execution_count": 101,
   "id": "93b35a1f",
   "metadata": {},
   "outputs": [],
   "source": [
    "generator = GetMorganGenerator(radius=3, fpSize=2048, countSimulation=True)"
   ]
  },
  {
   "cell_type": "markdown",
   "id": "138f62ef",
   "metadata": {},
   "source": [
    "Генерация фингерпринтов для train и test"
   ]
  },
  {
   "cell_type": "code",
   "execution_count": 102,
   "id": "27de9209",
   "metadata": {},
   "outputs": [],
   "source": [
    "train_ECFP6_counts = [generator.GetFingerprint(x) for x in train['ROMol']]\n",
    "test_ECFP6_counts = [generator.GetFingerprint(x) for x in test['ROMol']]"
   ]
  },
  {
   "cell_type": "markdown",
   "id": "ba6e4a22",
   "metadata": {},
   "source": [
    "Преобразование объектов типа RDKit ExplicitBitVect в списки"
   ]
  },
  {
   "cell_type": "code",
   "execution_count": 103,
   "id": "9c7a1056",
   "metadata": {},
   "outputs": [],
   "source": [
    "train_ecfp6_counts_lists = [list(l) for l in train_ECFP6_counts]\n",
    "test_ecfp6__counts_lists = [list(l) for l in test_ECFP6_counts]"
   ]
  },
  {
   "cell_type": "markdown",
   "id": "f0ca0bef",
   "metadata": {},
   "source": [
    "Создание DataFrame"
   ]
  },
  {
   "cell_type": "code",
   "execution_count": 104,
   "id": "d7c9a5c0",
   "metadata": {},
   "outputs": [],
   "source": [
    "train_ecfp6_counts_df = pd.DataFrame(train_ecfp6_counts_lists, index = train.index, columns=ecfp6_name)\n",
    "test_ecfp6_counts_df = pd.DataFrame(test_ecfp6__counts_lists, index = test.index, columns=ecfp6_name)"
   ]
  },
  {
   "cell_type": "code",
   "execution_count": 105,
   "id": "cb6c483e",
   "metadata": {},
   "outputs": [
    {
     "data": {
      "text/plain": [
       "((8221, 2048), (2849, 2048))"
      ]
     },
     "execution_count": 105,
     "metadata": {},
     "output_type": "execute_result"
    }
   ],
   "source": [
    "train_ecfp6_counts_df.shape, test_ecfp6_counts_df.shape"
   ]
  },
  {
   "cell_type": "code",
   "execution_count": 106,
   "id": "80ed7e57",
   "metadata": {},
   "outputs": [],
   "source": [
    "train_ecfp6_counts_df.to_csv('data/descriptors/train_ecfp6_counts.csv')\n",
    "test_ecfp6_counts_df.to_csv('data/descriptors/test_ecfp6_counts.csv')"
   ]
  },
  {
   "cell_type": "markdown",
   "id": "4338e82c",
   "metadata": {},
   "source": [
    "## MACCS keys"
   ]
  },
  {
   "cell_type": "markdown",
   "id": "79fc8066",
   "metadata": {},
   "source": [
    "#### Генерация MACCS ключей для молекул"
   ]
  },
  {
   "cell_type": "markdown",
   "id": "5a4b65a0",
   "metadata": {},
   "source": [
    "Генерация MACCS fingerprints для обучающей и тестовой выборок"
   ]
  },
  {
   "cell_type": "code",
   "execution_count": 107,
   "id": "a4b14ede",
   "metadata": {},
   "outputs": [],
   "source": [
    "# MACCS keys\n",
    "train_maccs = [MACCSkeys.GenMACCSKeys(x) for x in train['ROMol']]\n",
    "test_maccs = [MACCSkeys.GenMACCSKeys(x) for x in test['ROMol']]"
   ]
  },
  {
   "cell_type": "markdown",
   "id": "d3cbdd8d",
   "metadata": {},
   "source": [
    " Преобразуем RDKit объекты фингерпринтов в списки битов (0 или 1)"
   ]
  },
  {
   "cell_type": "code",
   "execution_count": 108,
   "id": "62d19b84",
   "metadata": {},
   "outputs": [],
   "source": [
    "train_maccs_lists = [list(l) for l in train_maccs]\n",
    "test_maccs_lists = [list(l) for l in test_maccs]"
   ]
  },
  {
   "cell_type": "markdown",
   "id": "9bde7cd4",
   "metadata": {},
   "source": [
    "Генерируем имена колонок: MACCS включает 167 битов (от 0 до 166)"
   ]
  },
  {
   "cell_type": "code",
   "execution_count": 109,
   "id": "01e032b6",
   "metadata": {},
   "outputs": [],
   "source": [
    "maccs_name = [f'Bit_{i}' for i in range(167)]"
   ]
  },
  {
   "cell_type": "markdown",
   "id": "3767cb1b",
   "metadata": {},
   "source": [
    "Создаём датафреймы с индексами как в оригинальных данных и названиями колонок"
   ]
  },
  {
   "cell_type": "code",
   "execution_count": 110,
   "id": "1725b99a",
   "metadata": {},
   "outputs": [],
   "source": [
    "train_maccs_df = pd.DataFrame(train_maccs_lists, index = train.index, columns=maccs_name)\n",
    "test_maccs_df = pd.DataFrame(test_maccs_lists, index = test.index, columns=maccs_name)"
   ]
  },
  {
   "cell_type": "markdown",
   "id": "189d6850",
   "metadata": {},
   "source": [
    "Проверка размеров полученных датафреймов"
   ]
  },
  {
   "cell_type": "code",
   "execution_count": 111,
   "id": "de3fec2c",
   "metadata": {},
   "outputs": [
    {
     "data": {
      "text/plain": [
       "((8221, 167), (2849, 167))"
      ]
     },
     "execution_count": 111,
     "metadata": {},
     "output_type": "execute_result"
    }
   ],
   "source": [
    "train_maccs_df.shape, test_maccs_df.shape\n"
   ]
  },
  {
   "cell_type": "markdown",
   "id": "c81fd179",
   "metadata": {},
   "source": [
    "Сохранение MACCS фингерпринтов в CSV"
   ]
  },
  {
   "cell_type": "code",
   "execution_count": 112,
   "id": "e4fad2f9",
   "metadata": {},
   "outputs": [],
   "source": [
    "train_maccs_df.to_csv('data/descriptors/train_maccs.csv')\n",
    "test_maccs_df.to_csv('data/descriptors/test_maccs.csv')"
   ]
  },
  {
   "cell_type": "markdown",
   "id": "b0645d19",
   "metadata": {},
   "source": [
    "## RDKit"
   ]
  },
  {
   "cell_type": "markdown",
   "id": "03fb9bc0",
   "metadata": {},
   "source": [
    "Инициализация генератора дескрипторов RDKit2D"
   ]
  },
  {
   "cell_type": "markdown",
   "id": "f7ba27be",
   "metadata": {},
   "source": [
    "generator = MakeGenerator((\"RDKit2D\",))"
   ]
  },
  {
   "cell_type": "markdown",
   "id": "f899b1a1",
   "metadata": {},
   "source": [
    "Генерация RDKit2D дескрипторов с помощью MakeGenerator"
   ]
  },
  {
   "cell_type": "code",
   "execution_count": null,
   "id": "c76719dc",
   "metadata": {},
   "outputs": [],
   "source": [
    "train_rdkit2d = [generator.process(x)[1:] for x in train['SMILES']]\n",
    "test_rdkit2d = [generator.process(x)[1:] for x in test['SMILES']]"
   ]
  },
  {
   "cell_type": "markdown",
   "id": "b3f7edd5",
   "metadata": {},
   "source": [
    "Получаем имена всех дескрипторов (начиная со второго — пропускаем ID)"
   ]
  },
  {
   "cell_type": "code",
   "execution_count": null,
   "id": "57fec37a",
   "metadata": {},
   "outputs": [],
   "source": [
    "rdkit2d_name = []\n",
    "for name, numpy_type in generator.GetColumns():\n",
    "    rdkit2d_name.append(name)"
   ]
  },
  {
   "cell_type": "markdown",
   "id": "87cd429e",
   "metadata": {},
   "source": [
    "Создание датафреймов RDKit2D дескрипторов"
   ]
  },
  {
   "cell_type": "code",
   "execution_count": 115,
   "id": "02e6f0b6",
   "metadata": {},
   "outputs": [],
   "source": [
    "train_rdkit2d_df = pd.DataFrame(train_rdkit2d, index = train.index, columns=rdkit2d_name[1:])\n",
    "test_rdkit2d_df = pd.DataFrame(test_rdkit2d, index = test.index, columns=rdkit2d_name[1:])"
   ]
  },
  {
   "cell_type": "markdown",
   "id": "c1c040ea",
   "metadata": {},
   "source": [
    "Проверка размеров датафреймов"
   ]
  },
  {
   "cell_type": "code",
   "execution_count": 116,
   "id": "23aa65fd",
   "metadata": {},
   "outputs": [
    {
     "data": {
      "text/plain": [
       "((8221, 200), (2849, 200))"
      ]
     },
     "execution_count": 116,
     "metadata": {},
     "output_type": "execute_result"
    }
   ],
   "source": [
    "train_rdkit2d_df.shape, test_rdkit2d_df.shape"
   ]
  },
  {
   "cell_type": "markdown",
   "id": "b9b44fd1",
   "metadata": {},
   "source": [
    "Сохранение RDKit2D дескрипторов в .csv"
   ]
  },
  {
   "cell_type": "code",
   "execution_count": 117,
   "id": "8be0c332",
   "metadata": {},
   "outputs": [],
   "source": [
    "train_rdkit2d_df.to_csv('data/descriptors/train_rdkit2d.csv')\n",
    "test_rdkit2d_df.to_csv('data/descriptors/test_rdkit2d.csv')"
   ]
  },
  {
   "cell_type": "markdown",
   "id": "46db66a7",
   "metadata": {},
   "source": [
    "## Mordred"
   ]
  },
  {
   "cell_type": "markdown",
   "id": "c2e5a4d8",
   "metadata": {},
   "source": [
    "Создаем объект калькулятора молекулярных дескрипторов Mordred, игнорируя 3D-данные (так как они не нужны без SDF или MOL файла)"
   ]
  },
  {
   "cell_type": "code",
   "execution_count": null,
   "id": "ead407a6",
   "metadata": {},
   "outputs": [],
   "source": [
    "mordred_calc = Calculator(descriptors, ignore_3D=True) "
   ]
  },
  {
   "cell_type": "markdown",
   "id": "bf0f3626",
   "metadata": {},
   "source": [
    "Применяем калькулятор к наборам молекул для обучающей и тестовой выборок и сохраняем результат в DataFrame"
   ]
  },
  {
   "cell_type": "code",
   "execution_count": null,
   "id": "fec06e3d",
   "metadata": {},
   "outputs": [
    {
     "name": "stderr",
     "output_type": "stream",
     "text": [
      "  2%|▏         | 125/8221 [00:10<10:34, 12.76it/s]"
     ]
    },
    {
     "name": "stdout",
     "output_type": "stream",
     "text": [
      "c:\\Users\\PC\\anaconda3\\Lib\\site-packages\\numpy\\core\\fromnumeric.py:88: RuntimeWarning: overflow encountered in reduce\n",
      "  return ufunc.reduce(obj, axis, dtype, out, **passkwargs)\n",
      "c:\\Users\\PC\\anaconda3\\Lib\\site-packages\\numpy\\core\\fromnumeric.py:88: RuntimeWarning: overflow encountered in reduce\n",
      "  return ufunc.reduce(obj, axis, dtype, out, **passkwargs)\n"
     ]
    },
    {
     "name": "stderr",
     "output_type": "stream",
     "text": [
      "  2%|▏         | 171/8221 [00:13<07:29, 17.91it/s]"
     ]
    },
    {
     "name": "stdout",
     "output_type": "stream",
     "text": [
      "c:\\Users\\PC\\anaconda3\\Lib\\site-packages\\numpy\\core\\fromnumeric.py:88: RuntimeWarning: overflow encountered in reduce\n",
      "  return ufunc.reduce(obj, axis, dtype, out, **passkwargs)\n"
     ]
    },
    {
     "name": "stderr",
     "output_type": "stream",
     "text": [
      "  3%|▎         | 236/8221 [00:16<06:03, 21.95it/s]"
     ]
    },
    {
     "name": "stdout",
     "output_type": "stream",
     "text": [
      "c:\\Users\\PC\\anaconda3\\Lib\\site-packages\\numpy\\core\\fromnumeric.py:88: RuntimeWarning: overflow encountered in reduce\n",
      "  return ufunc.reduce(obj, axis, dtype, out, **passkwargs)\n",
      "c:\\Users\\PC\\anaconda3\\Lib\\site-packages\\numpy\\core\\fromnumeric.py:88: RuntimeWarning: overflow encountered in reduce\n",
      "  return ufunc.reduce(obj, axis, dtype, out, **passkwargs)\n"
     ]
    },
    {
     "name": "stderr",
     "output_type": "stream",
     "text": [
      "  7%|▋         | 546/8221 [00:36<06:15, 20.44it/s]"
     ]
    },
    {
     "name": "stdout",
     "output_type": "stream",
     "text": [
      "c:\\Users\\PC\\anaconda3\\Lib\\site-packages\\numpy\\core\\fromnumeric.py:88: RuntimeWarning: overflow encountered in reduce\n",
      "  return ufunc.reduce(obj, axis, dtype, out, **passkwargs)\n"
     ]
    },
    {
     "name": "stderr",
     "output_type": "stream",
     "text": [
      "  7%|▋         | 553/8221 [00:36<08:29, 15.04it/s]"
     ]
    },
    {
     "name": "stdout",
     "output_type": "stream",
     "text": [
      "c:\\Users\\PC\\anaconda3\\Lib\\site-packages\\numpy\\core\\fromnumeric.py:88: RuntimeWarning: overflow encountered in reduce\n",
      "  return ufunc.reduce(obj, axis, dtype, out, **passkwargs)\n"
     ]
    },
    {
     "name": "stderr",
     "output_type": "stream",
     "text": [
      "  7%|▋         | 614/8221 [00:39<06:32, 19.38it/s]"
     ]
    },
    {
     "name": "stdout",
     "output_type": "stream",
     "text": [
      "c:\\Users\\PC\\anaconda3\\Lib\\site-packages\\numpy\\core\\fromnumeric.py:88: RuntimeWarning: overflow encountered in reduce\n",
      "  return ufunc.reduce(obj, axis, dtype, out, **passkwargs)\n",
      "c:\\Users\\PC\\anaconda3\\Lib\\site-packages\\numpy\\core\\fromnumeric.py:88: RuntimeWarning: overflow encountered in reduce\n",
      "  return ufunc.reduce(obj, axis, dtype, out, **passkwargs)\n",
      "c:\\Users\\PC\\anaconda3\\Lib\\site-packages\\numpy\\core\\fromnumeric.py:88: RuntimeWarning: overflow encountered in reduce\n",
      "  return ufunc.reduce(obj, axis, dtype, out, **passkwargs)\n",
      "c:\\Users\\PC\\anaconda3\\Lib\\site-packages\\numpy\\core\\fromnumeric.py:88: RuntimeWarning: overflow encountered in reduce\n",
      "  return ufunc.reduce(obj, axis, dtype, out, **passkwargs)\n",
      "c:\\Users\\PC\\anaconda3\\Lib\\site-packages\\numpy\\core\\fromnumeric.py:88: RuntimeWarning: overflow encountered in reduce\n",
      "  return ufunc.reduce(obj, axis, dtype, out, **passkwargs)\n",
      "c:\\Users\\PC\\anaconda3\\Lib\\site-packages\\numpy\\core\\fromnumeric.py:88: RuntimeWarning: overflow encountered in reduce\n",
      "  return ufunc.reduce(obj, axis, dtype, out, **passkwargs)\n"
     ]
    },
    {
     "name": "stderr",
     "output_type": "stream",
     "text": [
      " 11%|█         | 890/8221 [00:53<07:22, 16.57it/s]\n"
     ]
    },
    {
     "ename": "KeyboardInterrupt",
     "evalue": "",
     "output_type": "error",
     "traceback": [
      "\u001b[1;31m---------------------------------------------------------------------------\u001b[0m",
      "\u001b[1;31mKeyboardInterrupt\u001b[0m                         Traceback (most recent call last)",
      "Cell \u001b[1;32mIn[118], line 4\u001b[0m\n\u001b[0;32m      1\u001b[0m \u001b[38;5;66;03m#mordred\u001b[39;00m\n\u001b[0;32m      2\u001b[0m mordred_calc \u001b[38;5;241m=\u001b[39m Calculator(descriptors, ignore_3D\u001b[38;5;241m=\u001b[39m\u001b[38;5;28;01mTrue\u001b[39;00m)  \u001b[38;5;66;03m# can't do 3D without sdf or mol file\u001b[39;00m\n\u001b[1;32m----> 4\u001b[0m train_mordred \u001b[38;5;241m=\u001b[39m \u001b[43mmordred_calc\u001b[49m\u001b[38;5;241;43m.\u001b[39;49m\u001b[43mpandas\u001b[49m\u001b[43m(\u001b[49m\u001b[43m[\u001b[49m\u001b[43mmol\u001b[49m\u001b[43m \u001b[49m\u001b[38;5;28;43;01mfor\u001b[39;49;00m\u001b[43m \u001b[49m\u001b[43mmol\u001b[49m\u001b[43m \u001b[49m\u001b[38;5;129;43;01min\u001b[39;49;00m\u001b[43m \u001b[49m\u001b[43mtrain\u001b[49m\u001b[43m[\u001b[49m\u001b[38;5;124;43m'\u001b[39;49m\u001b[38;5;124;43mROMol\u001b[39;49m\u001b[38;5;124;43m'\u001b[39;49m\u001b[43m]\u001b[49m\u001b[43m]\u001b[49m\u001b[43m)\u001b[49m\n\u001b[0;32m      5\u001b[0m test_mordred \u001b[38;5;241m=\u001b[39m mordred_calc\u001b[38;5;241m.\u001b[39mpandas([mol \u001b[38;5;28;01mfor\u001b[39;00m mol \u001b[38;5;129;01min\u001b[39;00m test[\u001b[38;5;124m'\u001b[39m\u001b[38;5;124mROMol\u001b[39m\u001b[38;5;124m'\u001b[39m]])\n",
      "File \u001b[1;32mc:\\Users\\PC\\anaconda3\\Lib\\site-packages\\mordred\\_base\\calculator.py:397\u001b[0m, in \u001b[0;36mCalculator.pandas\u001b[1;34m(self, mols, nproc, nmols, quiet, ipynb, id)\u001b[0m\n\u001b[0;32m    394\u001b[0m \u001b[38;5;28;01melse\u001b[39;00m:\n\u001b[0;32m    395\u001b[0m     index \u001b[38;5;241m=\u001b[39m \u001b[38;5;28;01mNone\u001b[39;00m\n\u001b[1;32m--> 397\u001b[0m \u001b[38;5;28;01mreturn\u001b[39;00m \u001b[43mMordredDataFrame\u001b[49m\u001b[43m(\u001b[49m\n\u001b[0;32m    398\u001b[0m \u001b[43m    \u001b[49m\u001b[43m(\u001b[49m\u001b[38;5;28;43mlist\u001b[39;49m\u001b[43m(\u001b[49m\u001b[43mr\u001b[49m\u001b[43m)\u001b[49m\u001b[43m \u001b[49m\u001b[38;5;28;43;01mfor\u001b[39;49;00m\u001b[43m \u001b[49m\u001b[43mr\u001b[49m\u001b[43m \u001b[49m\u001b[38;5;129;43;01min\u001b[39;49;00m\u001b[43m \u001b[49m\u001b[38;5;28;43mself\u001b[39;49m\u001b[38;5;241;43m.\u001b[39;49m\u001b[43mmap\u001b[49m\u001b[43m(\u001b[49m\u001b[43mmols\u001b[49m\u001b[43m,\u001b[49m\u001b[43m \u001b[49m\u001b[43mnproc\u001b[49m\u001b[43m,\u001b[49m\u001b[43m \u001b[49m\u001b[43mnmols\u001b[49m\u001b[43m,\u001b[49m\u001b[43m \u001b[49m\u001b[43mquiet\u001b[49m\u001b[43m,\u001b[49m\u001b[43m \u001b[49m\u001b[43mipynb\u001b[49m\u001b[43m,\u001b[49m\u001b[43m \u001b[49m\u001b[38;5;28;43mid\u001b[39;49m\u001b[43m)\u001b[49m\u001b[43m)\u001b[49m\u001b[43m,\u001b[49m\n\u001b[0;32m    399\u001b[0m \u001b[43m    \u001b[49m\u001b[43mcolumns\u001b[49m\u001b[38;5;241;43m=\u001b[39;49m\u001b[43m[\u001b[49m\u001b[38;5;28;43mstr\u001b[39;49m\u001b[43m(\u001b[49m\u001b[43md\u001b[49m\u001b[43m)\u001b[49m\u001b[43m \u001b[49m\u001b[38;5;28;43;01mfor\u001b[39;49;00m\u001b[43m \u001b[49m\u001b[43md\u001b[49m\u001b[43m \u001b[49m\u001b[38;5;129;43;01min\u001b[39;49;00m\u001b[43m \u001b[49m\u001b[38;5;28;43mself\u001b[39;49m\u001b[38;5;241;43m.\u001b[39;49m\u001b[43mdescriptors\u001b[49m\u001b[43m]\u001b[49m\u001b[43m,\u001b[49m\n\u001b[0;32m    400\u001b[0m \u001b[43m    \u001b[49m\u001b[43mindex\u001b[49m\u001b[38;5;241;43m=\u001b[39;49m\u001b[43mindex\u001b[49m\u001b[43m,\u001b[49m\n\u001b[0;32m    401\u001b[0m \u001b[43m\u001b[49m\u001b[43m)\u001b[49m\n",
      "File \u001b[1;32mc:\\Users\\PC\\anaconda3\\Lib\\site-packages\\pandas\\core\\frame.py:843\u001b[0m, in \u001b[0;36mDataFrame.__init__\u001b[1;34m(self, data, index, columns, dtype, copy)\u001b[0m\n\u001b[0;32m    841\u001b[0m         data \u001b[38;5;241m=\u001b[39m np\u001b[38;5;241m.\u001b[39masarray(data)\n\u001b[0;32m    842\u001b[0m     \u001b[38;5;28;01melse\u001b[39;00m:\n\u001b[1;32m--> 843\u001b[0m         data \u001b[38;5;241m=\u001b[39m \u001b[38;5;28;43mlist\u001b[39;49m\u001b[43m(\u001b[49m\u001b[43mdata\u001b[49m\u001b[43m)\u001b[49m\n\u001b[0;32m    844\u001b[0m \u001b[38;5;28;01mif\u001b[39;00m \u001b[38;5;28mlen\u001b[39m(data) \u001b[38;5;241m>\u001b[39m \u001b[38;5;241m0\u001b[39m:\n\u001b[0;32m    845\u001b[0m     \u001b[38;5;28;01mif\u001b[39;00m is_dataclass(data[\u001b[38;5;241m0\u001b[39m]):\n",
      "File \u001b[1;32mc:\\Users\\PC\\anaconda3\\Lib\\site-packages\\mordred\\_base\\calculator.py:398\u001b[0m, in \u001b[0;36m<genexpr>\u001b[1;34m(.0)\u001b[0m\n\u001b[0;32m    394\u001b[0m \u001b[38;5;28;01melse\u001b[39;00m:\n\u001b[0;32m    395\u001b[0m     index \u001b[38;5;241m=\u001b[39m \u001b[38;5;28;01mNone\u001b[39;00m\n\u001b[0;32m    397\u001b[0m \u001b[38;5;28;01mreturn\u001b[39;00m MordredDataFrame(\n\u001b[1;32m--> 398\u001b[0m     \u001b[43m(\u001b[49m\u001b[38;5;28;43mlist\u001b[39;49m\u001b[43m(\u001b[49m\u001b[43mr\u001b[49m\u001b[43m)\u001b[49m\u001b[43m \u001b[49m\u001b[38;5;28;43;01mfor\u001b[39;49;00m\u001b[43m \u001b[49m\u001b[43mr\u001b[49m\u001b[43m \u001b[49m\u001b[38;5;129;43;01min\u001b[39;49;00m\u001b[43m \u001b[49m\u001b[38;5;28;43mself\u001b[39;49m\u001b[38;5;241;43m.\u001b[39;49m\u001b[43mmap\u001b[49m\u001b[43m(\u001b[49m\u001b[43mmols\u001b[49m\u001b[43m,\u001b[49m\u001b[43m \u001b[49m\u001b[43mnproc\u001b[49m\u001b[43m,\u001b[49m\u001b[43m \u001b[49m\u001b[43mnmols\u001b[49m\u001b[43m,\u001b[49m\u001b[43m \u001b[49m\u001b[43mquiet\u001b[49m\u001b[43m,\u001b[49m\u001b[43m \u001b[49m\u001b[43mipynb\u001b[49m\u001b[43m,\u001b[49m\u001b[43m \u001b[49m\u001b[38;5;28;43mid\u001b[39;49m\u001b[43m)\u001b[49m\u001b[43m)\u001b[49m,\n\u001b[0;32m    399\u001b[0m     columns\u001b[38;5;241m=\u001b[39m[\u001b[38;5;28mstr\u001b[39m(d) \u001b[38;5;28;01mfor\u001b[39;00m d \u001b[38;5;129;01min\u001b[39;00m \u001b[38;5;28mself\u001b[39m\u001b[38;5;241m.\u001b[39mdescriptors],\n\u001b[0;32m    400\u001b[0m     index\u001b[38;5;241m=\u001b[39mindex,\n\u001b[0;32m    401\u001b[0m )\n",
      "File \u001b[1;32mc:\\Users\\PC\\anaconda3\\Lib\\site-packages\\mordred\\_base\\parallel.py:79\u001b[0m, in \u001b[0;36mparallel\u001b[1;34m(calc, mols, nproc, nmols, quiet, ipynb, id)\u001b[0m\n\u001b[0;32m     77\u001b[0m \u001b[38;5;28;01mdef\u001b[39;00m \u001b[38;5;21mparallel\u001b[39m(calc, mols, nproc, nmols, quiet, ipynb, \u001b[38;5;28mid\u001b[39m):\n\u001b[0;32m     78\u001b[0m     \u001b[38;5;28;01mwith\u001b[39;00m MolPool(calc, nproc) \u001b[38;5;28;01mas\u001b[39;00m pool, calc\u001b[38;5;241m.\u001b[39m_progress(quiet, nmols, ipynb) \u001b[38;5;28;01mas\u001b[39;00m bar:\n\u001b[1;32m---> 79\u001b[0m \u001b[43m        \u001b[49m\u001b[38;5;28;43;01mfor\u001b[39;49;00m\u001b[43m \u001b[49m\u001b[43mmol\u001b[49m\u001b[43m,\u001b[49m\u001b[43m \u001b[49m\u001b[43m(\u001b[49m\u001b[43mr\u001b[49m\u001b[43m,\u001b[49m\u001b[43m \u001b[49m\u001b[43merr\u001b[49m\u001b[43m)\u001b[49m\u001b[43m \u001b[49m\u001b[38;5;129;43;01min\u001b[39;49;00m\u001b[43m \u001b[49m\u001b[43mpool\u001b[49m\u001b[38;5;241;43m.\u001b[39;49m\u001b[43mmap\u001b[49m\u001b[43m(\u001b[49m\u001b[43mmols\u001b[49m\u001b[43m,\u001b[49m\u001b[43m \u001b[49m\u001b[38;5;28;43mid\u001b[39;49m\u001b[43m)\u001b[49m\u001b[43m:\u001b[49m\n\u001b[0;32m     80\u001b[0m \u001b[43m            \u001b[49m\u001b[38;5;28;43;01mfor\u001b[39;49;00m\u001b[43m \u001b[49m\u001b[43me\u001b[49m\u001b[43m \u001b[49m\u001b[38;5;129;43;01min\u001b[39;49;00m\u001b[43m \u001b[49m\u001b[43merr\u001b[49m\u001b[43m:\u001b[49m\n\u001b[0;32m     81\u001b[0m \u001b[43m                \u001b[49m\u001b[43me\u001b[49m\u001b[43m \u001b[49m\u001b[38;5;241;43m=\u001b[39;49m\u001b[43m \u001b[49m\u001b[43me\u001b[49m\u001b[38;5;241;43m.\u001b[39;49m\u001b[43mrstrip\u001b[49m\u001b[43m(\u001b[49m\u001b[43m)\u001b[49m\n",
      "File \u001b[1;32mc:\\Users\\PC\\anaconda3\\Lib\\site-packages\\mordred\\_base\\parallel.py:70\u001b[0m, in \u001b[0;36mMolIterator.__next__\u001b[1;34m(self)\u001b[0m\n\u001b[0;32m     68\u001b[0m \u001b[38;5;28;01mtry\u001b[39;00m:\n\u001b[0;32m     69\u001b[0m     mol, fut \u001b[38;5;241m=\u001b[39m \u001b[38;5;28mself\u001b[39m\u001b[38;5;241m.\u001b[39mfutures\u001b[38;5;241m.\u001b[39mpopleft()\n\u001b[1;32m---> 70\u001b[0m     \u001b[38;5;28;01mreturn\u001b[39;00m mol, \u001b[43mfut\u001b[49m\u001b[38;5;241;43m.\u001b[39;49m\u001b[43mget\u001b[49m\u001b[43m(\u001b[49m\u001b[43m)\u001b[49m\n\u001b[0;32m     71\u001b[0m \u001b[38;5;28;01mexcept\u001b[39;00m \u001b[38;5;167;01mIndexError\u001b[39;00m:\n\u001b[0;32m     72\u001b[0m     \u001b[38;5;28;01mraise\u001b[39;00m \u001b[38;5;167;01mStopIteration\u001b[39;00m\n",
      "File \u001b[1;32mc:\\Users\\PC\\anaconda3\\Lib\\multiprocessing\\pool.py:768\u001b[0m, in \u001b[0;36mApplyResult.get\u001b[1;34m(self, timeout)\u001b[0m\n\u001b[0;32m    767\u001b[0m \u001b[38;5;28;01mdef\u001b[39;00m \u001b[38;5;21mget\u001b[39m(\u001b[38;5;28mself\u001b[39m, timeout\u001b[38;5;241m=\u001b[39m\u001b[38;5;28;01mNone\u001b[39;00m):\n\u001b[1;32m--> 768\u001b[0m     \u001b[38;5;28;43mself\u001b[39;49m\u001b[38;5;241;43m.\u001b[39;49m\u001b[43mwait\u001b[49m\u001b[43m(\u001b[49m\u001b[43mtimeout\u001b[49m\u001b[43m)\u001b[49m\n\u001b[0;32m    769\u001b[0m     \u001b[38;5;28;01mif\u001b[39;00m \u001b[38;5;129;01mnot\u001b[39;00m \u001b[38;5;28mself\u001b[39m\u001b[38;5;241m.\u001b[39mready():\n\u001b[0;32m    770\u001b[0m         \u001b[38;5;28;01mraise\u001b[39;00m \u001b[38;5;167;01mTimeoutError\u001b[39;00m\n",
      "File \u001b[1;32mc:\\Users\\PC\\anaconda3\\Lib\\multiprocessing\\pool.py:765\u001b[0m, in \u001b[0;36mApplyResult.wait\u001b[1;34m(self, timeout)\u001b[0m\n\u001b[0;32m    764\u001b[0m \u001b[38;5;28;01mdef\u001b[39;00m \u001b[38;5;21mwait\u001b[39m(\u001b[38;5;28mself\u001b[39m, timeout\u001b[38;5;241m=\u001b[39m\u001b[38;5;28;01mNone\u001b[39;00m):\n\u001b[1;32m--> 765\u001b[0m     \u001b[38;5;28;43mself\u001b[39;49m\u001b[38;5;241;43m.\u001b[39;49m\u001b[43m_event\u001b[49m\u001b[38;5;241;43m.\u001b[39;49m\u001b[43mwait\u001b[49m\u001b[43m(\u001b[49m\u001b[43mtimeout\u001b[49m\u001b[43m)\u001b[49m\n",
      "File \u001b[1;32mc:\\Users\\PC\\anaconda3\\Lib\\threading.py:655\u001b[0m, in \u001b[0;36mEvent.wait\u001b[1;34m(self, timeout)\u001b[0m\n\u001b[0;32m    653\u001b[0m signaled \u001b[38;5;241m=\u001b[39m \u001b[38;5;28mself\u001b[39m\u001b[38;5;241m.\u001b[39m_flag\n\u001b[0;32m    654\u001b[0m \u001b[38;5;28;01mif\u001b[39;00m \u001b[38;5;129;01mnot\u001b[39;00m signaled:\n\u001b[1;32m--> 655\u001b[0m     signaled \u001b[38;5;241m=\u001b[39m \u001b[38;5;28;43mself\u001b[39;49m\u001b[38;5;241;43m.\u001b[39;49m\u001b[43m_cond\u001b[49m\u001b[38;5;241;43m.\u001b[39;49m\u001b[43mwait\u001b[49m\u001b[43m(\u001b[49m\u001b[43mtimeout\u001b[49m\u001b[43m)\u001b[49m\n\u001b[0;32m    656\u001b[0m \u001b[38;5;28;01mreturn\u001b[39;00m signaled\n",
      "File \u001b[1;32mc:\\Users\\PC\\anaconda3\\Lib\\threading.py:355\u001b[0m, in \u001b[0;36mCondition.wait\u001b[1;34m(self, timeout)\u001b[0m\n\u001b[0;32m    353\u001b[0m \u001b[38;5;28;01mtry\u001b[39;00m:    \u001b[38;5;66;03m# restore state no matter what (e.g., KeyboardInterrupt)\u001b[39;00m\n\u001b[0;32m    354\u001b[0m     \u001b[38;5;28;01mif\u001b[39;00m timeout \u001b[38;5;129;01mis\u001b[39;00m \u001b[38;5;28;01mNone\u001b[39;00m:\n\u001b[1;32m--> 355\u001b[0m         \u001b[43mwaiter\u001b[49m\u001b[38;5;241;43m.\u001b[39;49m\u001b[43macquire\u001b[49m\u001b[43m(\u001b[49m\u001b[43m)\u001b[49m\n\u001b[0;32m    356\u001b[0m         gotit \u001b[38;5;241m=\u001b[39m \u001b[38;5;28;01mTrue\u001b[39;00m\n\u001b[0;32m    357\u001b[0m     \u001b[38;5;28;01melse\u001b[39;00m:\n",
      "\u001b[1;31mKeyboardInterrupt\u001b[0m: "
     ]
    }
   ],
   "source": [
    "train_mordred = mordred_calc.pandas([mol for mol in train['ROMol']])\n",
    "test_mordred = mordred_calc.pandas([mol for mol in test['ROMol']])"
   ]
  },
  {
   "cell_type": "markdown",
   "id": "62aa2247",
   "metadata": {},
   "source": [
    "Проверка размеров датафреймов"
   ]
  },
  {
   "cell_type": "code",
   "execution_count": null,
   "id": "381292b9",
   "metadata": {},
   "outputs": [],
   "source": [
    "train_mordred.shape, test_mordred.shape"
   ]
  },
  {
   "cell_type": "markdown",
   "id": "27426890",
   "metadata": {},
   "source": [
    "Удаляем ненумерические признаки (оставляем только числовые типы данных)"
   ]
  },
  {
   "cell_type": "code",
   "execution_count": null,
   "id": "926abc53",
   "metadata": {},
   "outputs": [],
   "source": [
    "train_mordred = train_mordred.select_dtypes(include=['float64', 'int64', 'float'])"
   ]
  },
  {
   "cell_type": "markdown",
   "id": "2bf9c3c7",
   "metadata": {},
   "source": [
    "Приводим тестовый набор данных к тем же признакам, что и в обучающем наборе"
   ]
  },
  {
   "cell_type": "code",
   "execution_count": null,
   "id": "6bd831a3",
   "metadata": {},
   "outputs": [],
   "source": [
    "test_mordred = test_mordred[list(train_mordred)]"
   ]
  },
  {
   "cell_type": "markdown",
   "id": "3054e170",
   "metadata": {},
   "source": [
    "Выводим размеры обучающего и тестового наборов данных"
   ]
  },
  {
   "cell_type": "code",
   "execution_count": null,
   "id": "f35a27f2",
   "metadata": {},
   "outputs": [],
   "source": [
    "train_mordred.shape, test_mordred.shape"
   ]
  },
  {
   "cell_type": "markdown",
   "id": "a210fc8a",
   "metadata": {},
   "source": [
    "Выводим первые строки тестового набора данных для проверки его структуры"
   ]
  },
  {
   "cell_type": "code",
   "execution_count": null,
   "id": "ff431a27",
   "metadata": {},
   "outputs": [],
   "source": [
    "test_mordred.head(1)"
   ]
  },
  {
   "cell_type": "markdown",
   "id": "85af4ce1",
   "metadata": {},
   "source": [
    "Сравниваем список признаков в обучающем и тестовом наборах данных, чтобы убедиться, что они одинаковы"
   ]
  },
  {
   "cell_type": "code",
   "execution_count": null,
   "id": "2796a602",
   "metadata": {},
   "outputs": [],
   "source": [
    "list(train_mordred) == list(test_mordred)"
   ]
  },
  {
   "cell_type": "markdown",
   "id": "bf61be75",
   "metadata": {},
   "source": [
    "Устанавливаем индексы для обучающего и тестового наборов данных, чтобы они совпадали с исходными индексами"
   ]
  },
  {
   "cell_type": "code",
   "execution_count": null,
   "id": "7e9ab087",
   "metadata": {},
   "outputs": [],
   "source": [
    "train_mordred.index = train.index\n",
    "test_mordred.index = test.index"
   ]
  },
  {
   "cell_type": "markdown",
   "id": "97a0faeb",
   "metadata": {},
   "source": [
    "Выводим размеры обучающего и тестового наборов данных"
   ]
  },
  {
   "cell_type": "code",
   "execution_count": null,
   "id": "e92c8627",
   "metadata": {},
   "outputs": [],
   "source": [
    "train_mordred.shape, test_mordred.shape\n"
   ]
  },
  {
   "cell_type": "markdown",
   "id": "3484011f",
   "metadata": {},
   "source": [
    "Сохраняем обучающий и тестовый наборы данных с дескрипторами в CSV файлы для дальнейшего использования"
   ]
  },
  {
   "cell_type": "code",
   "execution_count": null,
   "id": "93608935",
   "metadata": {},
   "outputs": [],
   "source": [
    "train_mordred.to_csv('data/descriptors/train_mordred.csv')\n",
    "test_mordred.to_csv('data/descriptors/test_mordred.csv')"
   ]
  }
 ],
 "metadata": {
  "kernelspec": {
   "display_name": "base",
   "language": "python",
   "name": "python3"
  },
  "language_info": {
   "codemirror_mode": {
    "name": "ipython",
    "version": 3
   },
   "file_extension": ".py",
   "mimetype": "text/x-python",
   "name": "python",
   "nbconvert_exporter": "python",
   "pygments_lexer": "ipython3",
   "version": "3.12.3"
  }
 },
 "nbformat": 4,
 "nbformat_minor": 5
}
