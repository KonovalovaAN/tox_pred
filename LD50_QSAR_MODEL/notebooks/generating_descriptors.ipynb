{
 "cells": [
  {
   "cell_type": "markdown",
   "id": "0f613c73",
   "metadata": {},
   "source": [
    "## Импорт библиотек\n",
    "\n",
    "Загружаются основные библиотеки для анализа химических структур:\n",
    "\n",
    "- `rdkit`: для обработки SMILES и построения молекул;\n",
    "- `descriptastorus`: генерация дескрипторов RDKit2D;\n",
    "- `mordred`: расширенная генерация химико-информатических дескрипторов;\n",
    "- `pandas`/`numpy`: для работы с табличными и числовыми данными.\n",
    "\n",
    "Импортируются генераторы дескрипторов, включая `MakeGenerator`, с возможностью получения предобученных дескрипторных векторов."
   ]
  },
  {
   "cell_type": "code",
   "execution_count": 40,
   "id": "ad913cd4",
   "metadata": {},
   "outputs": [],
   "source": [
    "import pandas as pd\n",
    "\n",
    "\n",
    "from rdkit.Chem import PandasTools\n",
    "from rdkit.Chem import MACCSkeys\n",
    "from descriptastorus.descriptors.DescriptorGenerator import MakeGenerator\n",
    "from mordred import Calculator, descriptors\n",
    "from rdkit.Chem.rdFingerprintGenerator import GetMorganGenerator"
   ]
  },
  {
   "cell_type": "markdown",
   "id": "6da529c8",
   "metadata": {},
   "source": [
    "## Загрузка данных\n",
    "\n",
    "Загружаются обучающая и тестовая выборки. В качестве индекса используется идентификатор CASRN. "
   ]
  },
  {
   "cell_type": "code",
   "execution_count": 41,
   "id": "22b9aefd",
   "metadata": {},
   "outputs": [],
   "source": [
    "train = pd.read_csv('../data/row/simplified_data/train.csv', index_col = 'CASRN')\n",
    "test = pd.read_csv('../data/row/simplified_data/test.csv', index_col = 'CASRN')"
   ]
  },
  {
   "cell_type": "markdown",
   "id": "95259cba",
   "metadata": {},
   "source": [
    "## Конвертация SMILES в молекулы\n",
    "С помощью RDKit SMILES-строки преобразуются в молекулярные объекты (ROMol). Это необходимо для извлечения структурных признаков."
   ]
  },
  {
   "cell_type": "code",
   "execution_count": 42,
   "id": "04a5bf0f",
   "metadata": {},
   "outputs": [],
   "source": [
    "PandasTools.AddMoleculeColumnToFrame(train,smilesCol='SMILES')\n",
    "PandasTools.AddMoleculeColumnToFrame(test,smilesCol='SMILES')"
   ]
  },
  {
   "cell_type": "markdown",
   "id": "6f87bbd7",
   "metadata": {},
   "source": [
    "# ECFP6 Bits"
   ]
  },
  {
   "cell_type": "markdown",
   "id": "e171de3e",
   "metadata": {},
   "source": [
    "#### Генерация ECFP6 с заданными параметрами (радиус 3, размер 2048 бит)\n",
    "\n",
    "Используется объект `GetMorganGenerator` из RDKit для создания фингерпринтов ECFP6:\n",
    "\n",
    "- `radius=3` — радиус охвата атомов (ECFP6);\n",
    "- `fpSize=2048` — размер выходного бинарного вектора.\n",
    "\n"
   ]
  },
  {
   "cell_type": "code",
   "execution_count": 43,
   "id": "b82c60e1",
   "metadata": {},
   "outputs": [],
   "source": [
    "generator = GetMorganGenerator(radius=3, fpSize=2048)"
   ]
  },
  {
   "cell_type": "code",
   "execution_count": 44,
   "id": "896d35ee",
   "metadata": {},
   "outputs": [],
   "source": [
    "train_ECFP6 = [generator.GetFingerprint(x) for x in train['ROMol']]\n",
    "test_ECFP6 = [generator.GetFingerprint(x) for x in test['ROMol']]"
   ]
  },
  {
   "cell_type": "markdown",
   "id": "45164f0c",
   "metadata": {},
   "source": [
    "#### Преобразование ECFP6-фингерпринтов в списки\n",
    "\n",
    "Преобразуются RDKit-фингерпринты в обычные списки Python (поэлементно: 0/1).  \n",
    "Это необходимо для последующей упаковки в датафреймы или массивы `NumPy`, чтобы использовать их в качестве входных данных в модели машинного обучения."
   ]
  },
  {
   "cell_type": "code",
   "execution_count": 45,
   "id": "c4ce596a",
   "metadata": {},
   "outputs": [],
   "source": [
    "train_ecfp6_lists = [list(l) for l in train_ECFP6]\n",
    "test_ecfp6_lists = [list(l) for l in test_ECFP6]"
   ]
  },
  {
   "cell_type": "markdown",
   "id": "9fd1db9e",
   "metadata": {},
   "source": [
    "Генерируем список строк `Bit_0`, `Bit_1`, ..., `Bit_2047`.\n"
   ]
  },
  {
   "cell_type": "code",
   "execution_count": 46,
   "id": "0a1977a1",
   "metadata": {},
   "outputs": [],
   "source": [
    "ecfp6_name = [f'Bit_{i}' for i in range(2048)]"
   ]
  },
  {
   "cell_type": "markdown",
   "id": "bda416e2",
   "metadata": {},
   "source": [
    "Создаются DataFrame для тренировочных и тестовых данных, где строки индексированы по индексам `train` и `test`, а столбцы названы в соответствии с `ecfp6_name`.\n"
   ]
  },
  {
   "cell_type": "code",
   "execution_count": 47,
   "id": "2f6f4e4a",
   "metadata": {},
   "outputs": [],
   "source": [
    "train_ecfp6_df = pd.DataFrame(train_ecfp6_lists, index = train.index, columns=ecfp6_name)\n",
    "test_ecfp6_df = pd.DataFrame(test_ecfp6_lists, index = test.index, columns=ecfp6_name)"
   ]
  },
  {
   "cell_type": "markdown",
   "id": "ea9dcd42",
   "metadata": {},
   "source": [
    "Вывод размеров DataFrame для тренировочных и тестовых данных: `train_ecfp6_df` и `test_ecfp6_df`.\n"
   ]
  },
  {
   "cell_type": "code",
   "execution_count": 48,
   "id": "1e0f8548",
   "metadata": {},
   "outputs": [
    {
     "data": {
      "text/plain": [
       "((8221, 2048), (2849, 2048))"
      ]
     },
     "execution_count": 48,
     "metadata": {},
     "output_type": "execute_result"
    }
   ],
   "source": [
    "train_ecfp6_df.shape, test_ecfp6_df.shape\n"
   ]
  },
  {
   "cell_type": "markdown",
   "id": "829c485b",
   "metadata": {},
   "source": [
    "Сохранение DataFrame с тренировочными и тестовыми данными в CSV файлы: `train_ecfp6_bits.csv` и `test_ecfp6_bits.csv`.\n"
   ]
  },
  {
   "cell_type": "code",
   "execution_count": 49,
   "id": "4058bfe0",
   "metadata": {},
   "outputs": [],
   "source": [
    "train_ecfp6_df.to_csv('../data/descriptors/train_ecfp6_bits.csv')\n",
    "test_ecfp6_df.to_csv('../data/descriptors/test_ecfp6_bits.csv')"
   ]
  },
  {
   "cell_type": "markdown",
   "id": "416f6ea9",
   "metadata": {},
   "source": [
    "#### Далее аналогично"
   ]
  },
  {
   "cell_type": "markdown",
   "id": "a91ecf88",
   "metadata": {},
   "source": [
    "## ECFP6 counts"
   ]
  },
  {
   "cell_type": "markdown",
   "id": "cf10ae74",
   "metadata": {},
   "source": [
    "Создание генератора с подсчётом частот (counts), радиус = 3, размер вектора = 2048"
   ]
  },
  {
   "cell_type": "code",
   "execution_count": 50,
   "id": "93b35a1f",
   "metadata": {},
   "outputs": [],
   "source": [
    "generator = GetMorganGenerator(radius=3, fpSize=2048, countSimulation=True)"
   ]
  },
  {
   "cell_type": "markdown",
   "id": "138f62ef",
   "metadata": {},
   "source": [
    "Генерация фингерпринтов для train и test"
   ]
  },
  {
   "cell_type": "code",
   "execution_count": 51,
   "id": "27de9209",
   "metadata": {},
   "outputs": [],
   "source": [
    "train_ECFP6_counts = [generator.GetFingerprint(x) for x in train['ROMol']]\n",
    "test_ECFP6_counts = [generator.GetFingerprint(x) for x in test['ROMol']]"
   ]
  },
  {
   "cell_type": "markdown",
   "id": "ba6e4a22",
   "metadata": {},
   "source": [
    "Преобразование объектов типа RDKit ExplicitBitVect в списки"
   ]
  },
  {
   "cell_type": "code",
   "execution_count": 52,
   "id": "9c7a1056",
   "metadata": {},
   "outputs": [],
   "source": [
    "train_ecfp6_counts_lists = [list(l) for l in train_ECFP6_counts]\n",
    "test_ecfp6__counts_lists = [list(l) for l in test_ECFP6_counts]"
   ]
  },
  {
   "cell_type": "markdown",
   "id": "f0ca0bef",
   "metadata": {},
   "source": [
    "Создание DataFrame"
   ]
  },
  {
   "cell_type": "code",
   "execution_count": 53,
   "id": "d7c9a5c0",
   "metadata": {},
   "outputs": [],
   "source": [
    "train_ecfp6_counts_df = pd.DataFrame(train_ecfp6_counts_lists, index = train.index, columns=ecfp6_name)\n",
    "test_ecfp6_counts_df = pd.DataFrame(test_ecfp6__counts_lists, index = test.index, columns=ecfp6_name)"
   ]
  },
  {
   "cell_type": "code",
   "execution_count": 54,
   "id": "cb6c483e",
   "metadata": {},
   "outputs": [
    {
     "data": {
      "text/plain": [
       "((8221, 2048), (2849, 2048))"
      ]
     },
     "execution_count": 54,
     "metadata": {},
     "output_type": "execute_result"
    }
   ],
   "source": [
    "train_ecfp6_counts_df.shape, test_ecfp6_counts_df.shape"
   ]
  },
  {
   "cell_type": "code",
   "execution_count": 55,
   "id": "80ed7e57",
   "metadata": {},
   "outputs": [],
   "source": [
    "train_ecfp6_counts_df.to_csv('../data/descriptors/train_ecfp6_counts.csv')\n",
    "test_ecfp6_counts_df.to_csv('../data/descriptors/test_ecfp6_counts.csv')"
   ]
  },
  {
   "cell_type": "markdown",
   "id": "4338e82c",
   "metadata": {},
   "source": [
    "## MACCS keys"
   ]
  },
  {
   "cell_type": "markdown",
   "id": "79fc8066",
   "metadata": {},
   "source": [
    "#### Генерация MACCS ключей для молекул"
   ]
  },
  {
   "cell_type": "markdown",
   "id": "5a4b65a0",
   "metadata": {},
   "source": [
    "Генерация MACCS fingerprints для обучающей и тестовой выборок"
   ]
  },
  {
   "cell_type": "code",
   "execution_count": 56,
   "id": "a4b14ede",
   "metadata": {},
   "outputs": [],
   "source": [
    "train_maccs = [MACCSkeys.GenMACCSKeys(x) for x in train['ROMol']]\n",
    "test_maccs = [MACCSkeys.GenMACCSKeys(x) for x in test['ROMol']]"
   ]
  },
  {
   "cell_type": "markdown",
   "id": "d3cbdd8d",
   "metadata": {},
   "source": [
    " Преобразуем RDKit объекты фингерпринтов в списки битов (0 или 1)"
   ]
  },
  {
   "cell_type": "code",
   "execution_count": 57,
   "id": "62d19b84",
   "metadata": {},
   "outputs": [],
   "source": [
    "train_maccs_lists = [list(l) for l in train_maccs]\n",
    "test_maccs_lists = [list(l) for l in test_maccs]"
   ]
  },
  {
   "cell_type": "markdown",
   "id": "9bde7cd4",
   "metadata": {},
   "source": [
    "Генерируем имена колонок: MACCS включает 167 битов (от 0 до 166)"
   ]
  },
  {
   "cell_type": "code",
   "execution_count": 58,
   "id": "01e032b6",
   "metadata": {},
   "outputs": [],
   "source": [
    "maccs_name = [f'Bit_{i}' for i in range(167)]"
   ]
  },
  {
   "cell_type": "markdown",
   "id": "3767cb1b",
   "metadata": {},
   "source": [
    "Создаём датафреймы с индексами как в оригинальных данных и названиями колонок"
   ]
  },
  {
   "cell_type": "code",
   "execution_count": 59,
   "id": "1725b99a",
   "metadata": {},
   "outputs": [],
   "source": [
    "train_maccs_df = pd.DataFrame(train_maccs_lists, index = train.index, columns=maccs_name)\n",
    "test_maccs_df = pd.DataFrame(test_maccs_lists, index = test.index, columns=maccs_name)"
   ]
  },
  {
   "cell_type": "markdown",
   "id": "189d6850",
   "metadata": {},
   "source": [
    "Проверка размеров полученных датафреймов"
   ]
  },
  {
   "cell_type": "code",
   "execution_count": 60,
   "id": "de3fec2c",
   "metadata": {},
   "outputs": [
    {
     "data": {
      "text/plain": [
       "((8221, 167), (2849, 167))"
      ]
     },
     "execution_count": 60,
     "metadata": {},
     "output_type": "execute_result"
    }
   ],
   "source": [
    "train_maccs_df.shape, test_maccs_df.shape\n"
   ]
  },
  {
   "cell_type": "markdown",
   "id": "c81fd179",
   "metadata": {},
   "source": [
    "Сохранение MACCS фингерпринтов в CSV"
   ]
  },
  {
   "cell_type": "code",
   "execution_count": 61,
   "id": "e4fad2f9",
   "metadata": {},
   "outputs": [],
   "source": [
    "train_maccs_df.to_csv('../data/descriptors/train_maccs.csv')\n",
    "test_maccs_df.to_csv('../data/descriptors/test_maccs.csv')"
   ]
  },
  {
   "cell_type": "markdown",
   "id": "b0645d19",
   "metadata": {},
   "source": [
    "## RDKit"
   ]
  },
  {
   "cell_type": "markdown",
   "id": "03fb9bc0",
   "metadata": {},
   "source": [
    "Инициализация генератора дескрипторов RDKit2D"
   ]
  },
  {
   "cell_type": "code",
   "execution_count": 62,
   "id": "10b5e55c",
   "metadata": {},
   "outputs": [],
   "source": [
    "generator = MakeGenerator((\"RDKit2D\",))"
   ]
  },
  {
   "cell_type": "markdown",
   "id": "f899b1a1",
   "metadata": {},
   "source": [
    "Генерация RDKit2D дескрипторов с помощью MakeGenerator"
   ]
  },
  {
   "cell_type": "code",
   "execution_count": 63,
   "id": "c76719dc",
   "metadata": {},
   "outputs": [],
   "source": [
    "train_rdkit2d = [generator.process(x)[1:] for x in train['SMILES']]\n",
    "test_rdkit2d = [generator.process(x)[1:] for x in test['SMILES']]"
   ]
  },
  {
   "cell_type": "markdown",
   "id": "b3f7edd5",
   "metadata": {},
   "source": [
    "Получаем имена всех дескрипторов (начиная со второго — пропускаем ID)"
   ]
  },
  {
   "cell_type": "code",
   "execution_count": 64,
   "id": "57fec37a",
   "metadata": {},
   "outputs": [],
   "source": [
    "rdkit2d_name = []\n",
    "for name, numpy_type in generator.GetColumns():\n",
    "    rdkit2d_name.append(name)"
   ]
  },
  {
   "cell_type": "markdown",
   "id": "87cd429e",
   "metadata": {},
   "source": [
    "Создание датафреймов RDKit2D дескрипторов"
   ]
  },
  {
   "cell_type": "code",
   "execution_count": 65,
   "id": "02e6f0b6",
   "metadata": {},
   "outputs": [],
   "source": [
    "train_rdkit2d_df = pd.DataFrame(train_rdkit2d, index = train.index, columns=rdkit2d_name[1:])\n",
    "test_rdkit2d_df = pd.DataFrame(test_rdkit2d, index = test.index, columns=rdkit2d_name[1:])"
   ]
  },
  {
   "cell_type": "markdown",
   "id": "c1c040ea",
   "metadata": {},
   "source": [
    "Проверка размеров датафреймов"
   ]
  },
  {
   "cell_type": "code",
   "execution_count": 66,
   "id": "23aa65fd",
   "metadata": {},
   "outputs": [
    {
     "data": {
      "text/plain": [
       "((8221, 200), (2849, 200))"
      ]
     },
     "execution_count": 66,
     "metadata": {},
     "output_type": "execute_result"
    }
   ],
   "source": [
    "train_rdkit2d_df.shape, test_rdkit2d_df.shape"
   ]
  },
  {
   "cell_type": "markdown",
   "id": "b9b44fd1",
   "metadata": {},
   "source": [
    "Сохранение RDKit2D дескрипторов в .csv"
   ]
  },
  {
   "cell_type": "code",
   "execution_count": 67,
   "id": "8be0c332",
   "metadata": {},
   "outputs": [],
   "source": [
    "train_rdkit2d_df.to_csv('../data/descriptors/train_rdkit2d.csv')\n",
    "test_rdkit2d_df.to_csv('../data/descriptors/test_rdkit2d.csv')"
   ]
  },
  {
   "cell_type": "markdown",
   "id": "46db66a7",
   "metadata": {},
   "source": [
    "## Mordred"
   ]
  },
  {
   "cell_type": "markdown",
   "id": "c2e5a4d8",
   "metadata": {},
   "source": [
    "Создаем объект калькулятора молекулярных дескрипторов Mordred, игнорируя 3D-данные (так как они не нужны без SDF или MOL файла)"
   ]
  },
  {
   "cell_type": "code",
   "execution_count": 68,
   "id": "ead407a6",
   "metadata": {},
   "outputs": [],
   "source": [
    "mordred_calc = Calculator(descriptors, ignore_3D=True) "
   ]
  },
  {
   "cell_type": "markdown",
   "id": "bf0f3626",
   "metadata": {},
   "source": [
    "Применяем калькулятор к наборам молекул для обучающей и тестовой выборок и сохраняем результат в DataFrame"
   ]
  },
  {
   "cell_type": "code",
   "execution_count": 69,
   "id": "fec06e3d",
   "metadata": {},
   "outputs": [
    {
     "name": "stderr",
     "output_type": "stream",
     "text": [
      "  2%|▏         | 125/8221 [00:10<09:38, 14.00it/s]"
     ]
    },
    {
     "name": "stdout",
     "output_type": "stream",
     "text": [
      "c:\\Users\\PC\\anaconda3\\Lib\\site-packages\\numpy\\core\\fromnumeric.py:88: RuntimeWarning: overflow encountered in reduce\n",
      "  return ufunc.reduce(obj, axis, dtype, out, **passkwargs)\n",
      "c:\\Users\\PC\\anaconda3\\Lib\\site-packages\\numpy\\core\\fromnumeric.py:88: RuntimeWarning: overflow encountered in reduce\n",
      "  return ufunc.reduce(obj, axis, dtype, out, **passkwargs)\n"
     ]
    },
    {
     "name": "stderr",
     "output_type": "stream",
     "text": [
      "  2%|▏         | 178/8221 [00:13<06:25, 20.88it/s]"
     ]
    },
    {
     "name": "stdout",
     "output_type": "stream",
     "text": [
      "c:\\Users\\PC\\anaconda3\\Lib\\site-packages\\numpy\\core\\fromnumeric.py:88: RuntimeWarning: overflow encountered in reduce\n",
      "  return ufunc.reduce(obj, axis, dtype, out, **passkwargs)\n"
     ]
    },
    {
     "name": "stderr",
     "output_type": "stream",
     "text": [
      "  3%|▎         | 231/8221 [00:16<06:19, 21.04it/s]"
     ]
    },
    {
     "name": "stdout",
     "output_type": "stream",
     "text": [
      "c:\\Users\\PC\\anaconda3\\Lib\\site-packages\\numpy\\core\\fromnumeric.py:88: RuntimeWarning: overflow encountered in reduce\n",
      "  return ufunc.reduce(obj, axis, dtype, out, **passkwargs)\n",
      "c:\\Users\\PC\\anaconda3\\Lib\\site-packages\\numpy\\core\\fromnumeric.py:88: RuntimeWarning: overflow encountered in reduce\n",
      "  return ufunc.reduce(obj, axis, dtype, out, **passkwargs)\n"
     ]
    },
    {
     "name": "stderr",
     "output_type": "stream",
     "text": [
      "  5%|▌         | 431/8221 [00:28<10:26, 12.43it/s]"
     ]
    },
    {
     "name": "stdout",
     "output_type": "stream",
     "text": [
      "c:\\Users\\PC\\anaconda3\\Lib\\site-packages\\numpy\\core\\fromnumeric.py:88: RuntimeWarning: overflow encountered in reduce\n",
      "  return ufunc.reduce(obj, axis, dtype, out, **passkwargs)\n"
     ]
    },
    {
     "name": "stderr",
     "output_type": "stream",
     "text": [
      "  6%|▌         | 494/8221 [00:31<10:07, 12.73it/s]"
     ]
    },
    {
     "name": "stdout",
     "output_type": "stream",
     "text": [
      "c:\\Users\\PC\\anaconda3\\Lib\\site-packages\\numpy\\core\\fromnumeric.py:88: RuntimeWarning: overflow encountered in reduce\n",
      "  return ufunc.reduce(obj, axis, dtype, out, **passkwargs)\n"
     ]
    },
    {
     "name": "stderr",
     "output_type": "stream",
     "text": [
      "  7%|▋         | 548/8221 [00:35<06:15, 20.44it/s]"
     ]
    },
    {
     "name": "stdout",
     "output_type": "stream",
     "text": [
      "c:\\Users\\PC\\anaconda3\\Lib\\site-packages\\numpy\\core\\fromnumeric.py:88: RuntimeWarning: overflow encountered in reduce\n",
      "  return ufunc.reduce(obj, axis, dtype, out, **passkwargs)\n"
     ]
    },
    {
     "name": "stderr",
     "output_type": "stream",
     "text": [
      "  7%|▋         | 614/8221 [00:37<05:20, 23.74it/s]"
     ]
    },
    {
     "name": "stdout",
     "output_type": "stream",
     "text": [
      "c:\\Users\\PC\\anaconda3\\Lib\\site-packages\\numpy\\core\\fromnumeric.py:88: RuntimeWarning: overflow encountered in reduce\n",
      "  return ufunc.reduce(obj, axis, dtype, out, **passkwargs)\n",
      "c:\\Users\\PC\\anaconda3\\Lib\\site-packages\\numpy\\core\\fromnumeric.py:88: RuntimeWarning: overflow encountered in reduce\n",
      "  return ufunc.reduce(obj, axis, dtype, out, **passkwargs)\n",
      "c:\\Users\\PC\\anaconda3\\Lib\\site-packages\\numpy\\core\\fromnumeric.py:88: RuntimeWarning: overflow encountered in reduce\n",
      "  return ufunc.reduce(obj, axis, dtype, out, **passkwargs)\n",
      "c:\\Users\\PC\\anaconda3\\Lib\\site-packages\\numpy\\core\\fromnumeric.py:88: RuntimeWarning: overflow encountered in reduce\n",
      "  return ufunc.reduce(obj, axis, dtype, out, **passkwargs)\n",
      "c:\\Users\\PC\\anaconda3\\Lib\\site-packages\\numpy\\core\\fromnumeric.py:88: RuntimeWarning: overflow encountered in reduce\n",
      "  return ufunc.reduce(obj, axis, dtype, out, **passkwargs)\n"
     ]
    },
    {
     "name": "stderr",
     "output_type": "stream",
     "text": [
      "  8%|▊         | 619/8221 [00:39<07:49, 16.21it/s]"
     ]
    },
    {
     "name": "stdout",
     "output_type": "stream",
     "text": [
      "c:\\Users\\PC\\anaconda3\\Lib\\site-packages\\numpy\\core\\fromnumeric.py:88: RuntimeWarning: overflow encountered in reduce\n",
      "  return ufunc.reduce(obj, axis, dtype, out, **passkwargs)\n"
     ]
    },
    {
     "name": "stderr",
     "output_type": "stream",
     "text": [
      "  8%|▊         | 624/8221 [00:40<10:41, 11.84it/s]"
     ]
    },
    {
     "name": "stdout",
     "output_type": "stream",
     "text": [
      "c:\\Users\\PC\\anaconda3\\Lib\\site-packages\\numpy\\core\\fromnumeric.py:88: RuntimeWarning: overflow encountered in reduce\n",
      "  return ufunc.reduce(obj, axis, dtype, out, **passkwargs)\n"
     ]
    },
    {
     "name": "stderr",
     "output_type": "stream",
     "text": [
      "100%|██████████| 8221/8221 [07:33<00:00, 18.13it/s]\n",
      "  0%|          | 5/2849 [00:06<45:05,  1.05it/s]  "
     ]
    },
    {
     "name": "stdout",
     "output_type": "stream",
     "text": [
      "c:\\Users\\PC\\anaconda3\\Lib\\site-packages\\numpy\\core\\fromnumeric.py:88: RuntimeWarning: overflow encountered in reduce\n",
      "  return ufunc.reduce(obj, axis, dtype, out, **passkwargs)\n"
     ]
    },
    {
     "name": "stderr",
     "output_type": "stream",
     "text": [
      "  1%|          | 25/2849 [00:07<33:48,  1.39it/s]"
     ]
    },
    {
     "name": "stdout",
     "output_type": "stream",
     "text": [
      "c:\\Users\\PC\\anaconda3\\Lib\\site-packages\\numpy\\core\\fromnumeric.py:88: RuntimeWarning: overflow encountered in reduce\n",
      "  return ufunc.reduce(obj, axis, dtype, out, **passkwargs)\n",
      "c:\\Users\\PC\\anaconda3\\Lib\\site-packages\\numpy\\core\\fromnumeric.py:88: RuntimeWarning: overflow encountered in reduce\n",
      "  return ufunc.reduce(obj, axis, dtype, out, **passkwargs)\n"
     ]
    },
    {
     "name": "stderr",
     "output_type": "stream",
     "text": [
      "  2%|▏         | 64/2849 [00:13<08:20,  5.56it/s]"
     ]
    },
    {
     "name": "stdout",
     "output_type": "stream",
     "text": [
      "c:\\Users\\PC\\anaconda3\\Lib\\site-packages\\numpy\\core\\fromnumeric.py:88: RuntimeWarning: overflow encountered in reduce\n",
      "  return ufunc.reduce(obj, axis, dtype, out, **passkwargs)\n"
     ]
    },
    {
     "name": "stderr",
     "output_type": "stream",
     "text": [
      "  9%|▉         | 253/2849 [00:26<03:55, 11.04it/s]"
     ]
    },
    {
     "name": "stdout",
     "output_type": "stream",
     "text": [
      "c:\\Users\\PC\\anaconda3\\Lib\\site-packages\\numpy\\core\\fromnumeric.py:88: RuntimeWarning: overflow encountered in reduce\n",
      "  return ufunc.reduce(obj, axis, dtype, out, **passkwargs)\n"
     ]
    },
    {
     "name": "stderr",
     "output_type": "stream",
     "text": [
      " 10%|▉         | 282/2849 [00:26<01:50, 23.26it/s]"
     ]
    },
    {
     "name": "stdout",
     "output_type": "stream",
     "text": [
      "c:\\Users\\PC\\anaconda3\\Lib\\site-packages\\numpy\\core\\fromnumeric.py:88: RuntimeWarning: overflow encountered in reduce\n",
      "  return ufunc.reduce(obj, axis, dtype, out, **passkwargs)\n"
     ]
    },
    {
     "name": "stderr",
     "output_type": "stream",
     "text": [
      " 10%|█         | 294/2849 [00:29<04:40,  9.11it/s]"
     ]
    },
    {
     "name": "stdout",
     "output_type": "stream",
     "text": [
      "c:\\Users\\PC\\anaconda3\\Lib\\site-packages\\numpy\\core\\fromnumeric.py:88: RuntimeWarning: overflow encountered in reduce\n",
      "  return ufunc.reduce(obj, axis, dtype, out, **passkwargs)\n"
     ]
    },
    {
     "name": "stderr",
     "output_type": "stream",
     "text": [
      " 11%|█▏        | 327/2849 [00:33<06:22,  6.59it/s]"
     ]
    },
    {
     "name": "stdout",
     "output_type": "stream",
     "text": [
      "c:\\Users\\PC\\anaconda3\\Lib\\site-packages\\numpy\\core\\fromnumeric.py:88: RuntimeWarning: overflow encountered in reduce\n",
      "  return ufunc.reduce(obj, axis, dtype, out, **passkwargs)\n"
     ]
    },
    {
     "name": "stderr",
     "output_type": "stream",
     "text": [
      " 15%|█▍        | 422/2849 [00:41<03:23, 11.91it/s]"
     ]
    },
    {
     "name": "stdout",
     "output_type": "stream",
     "text": [
      "c:\\Users\\PC\\anaconda3\\Lib\\site-packages\\numpy\\core\\fromnumeric.py:88: RuntimeWarning: overflow encountered in reduce\n",
      "  return ufunc.reduce(obj, axis, dtype, out, **passkwargs)\n",
      "c:\\Users\\PC\\anaconda3\\Lib\\site-packages\\numpy\\core\\fromnumeric.py:88: RuntimeWarning: overflow encountered in reduce\n",
      "  return ufunc.reduce(obj, axis, dtype, out, **passkwargs)\n",
      "c:\\Users\\PC\\anaconda3\\Lib\\site-packages\\numpy\\core\\fromnumeric.py:88: RuntimeWarning: overflow encountered in reduce\n",
      "  return ufunc.reduce(obj, axis, dtype, out, **passkwargs)\n"
     ]
    },
    {
     "name": "stderr",
     "output_type": "stream",
     "text": [
      " 20%|██        | 573/2849 [00:54<03:43, 10.19it/s]"
     ]
    },
    {
     "name": "stdout",
     "output_type": "stream",
     "text": [
      "c:\\Users\\PC\\anaconda3\\Lib\\site-packages\\numpy\\core\\fromnumeric.py:88: RuntimeWarning: overflow encountered in reduce\n",
      "  return ufunc.reduce(obj, axis, dtype, out, **passkwargs)\n"
     ]
    },
    {
     "name": "stderr",
     "output_type": "stream",
     "text": [
      " 27%|██▋       | 762/2849 [01:04<01:27, 23.98it/s]"
     ]
    },
    {
     "name": "stdout",
     "output_type": "stream",
     "text": [
      "c:\\Users\\PC\\anaconda3\\Lib\\site-packages\\numpy\\core\\fromnumeric.py:88: RuntimeWarning: overflow encountered in reduce\n",
      "  return ufunc.reduce(obj, axis, dtype, out, **passkwargs)\n"
     ]
    },
    {
     "name": "stderr",
     "output_type": "stream",
     "text": [
      " 67%|██████▋   | 1917/2849 [02:04<01:18, 11.89it/s]"
     ]
    },
    {
     "name": "stdout",
     "output_type": "stream",
     "text": [
      "c:\\Users\\PC\\anaconda3\\Lib\\site-packages\\numpy\\core\\fromnumeric.py:88: RuntimeWarning: overflow encountered in reduce\n",
      "  return ufunc.reduce(obj, axis, dtype, out, **passkwargs)\n"
     ]
    },
    {
     "name": "stderr",
     "output_type": "stream",
     "text": [
      " 72%|███████▏  | 2041/2849 [02:10<00:37, 21.75it/s]"
     ]
    },
    {
     "name": "stdout",
     "output_type": "stream",
     "text": [
      "c:\\Users\\PC\\anaconda3\\Lib\\site-packages\\numpy\\core\\fromnumeric.py:88: RuntimeWarning: overflow encountered in reduce\n",
      "  return ufunc.reduce(obj, axis, dtype, out, **passkwargs)\n"
     ]
    },
    {
     "name": "stderr",
     "output_type": "stream",
     "text": [
      "100%|██████████| 2849/2849 [02:50<00:00, 16.68it/s]\n"
     ]
    }
   ],
   "source": [
    "train_mordred = mordred_calc.pandas([mol for mol in train['ROMol']])\n",
    "test_mordred = mordred_calc.pandas([mol for mol in test['ROMol']])"
   ]
  },
  {
   "cell_type": "markdown",
   "id": "62aa2247",
   "metadata": {},
   "source": [
    "Проверка размеров датафреймов"
   ]
  },
  {
   "cell_type": "code",
   "execution_count": 70,
   "id": "381292b9",
   "metadata": {},
   "outputs": [
    {
     "data": {
      "text/plain": [
       "((8221, 1613), (2849, 1613))"
      ]
     },
     "execution_count": 70,
     "metadata": {},
     "output_type": "execute_result"
    }
   ],
   "source": [
    "train_mordred.shape, test_mordred.shape"
   ]
  },
  {
   "cell_type": "markdown",
   "id": "27426890",
   "metadata": {},
   "source": [
    "Удаляем ненумерические признаки (оставляем только числовые типы данных)"
   ]
  },
  {
   "cell_type": "code",
   "execution_count": 71,
   "id": "926abc53",
   "metadata": {},
   "outputs": [],
   "source": [
    "train_mordred = train_mordred.select_dtypes(include=['float64', 'int64', 'float'])"
   ]
  },
  {
   "cell_type": "markdown",
   "id": "2bf9c3c7",
   "metadata": {},
   "source": [
    "Приводим тестовый набор данных к тем же признакам, что и в обучающем наборе"
   ]
  },
  {
   "cell_type": "code",
   "execution_count": 72,
   "id": "6bd831a3",
   "metadata": {},
   "outputs": [],
   "source": [
    "test_mordred = test_mordred[list(train_mordred)]"
   ]
  },
  {
   "cell_type": "markdown",
   "id": "3054e170",
   "metadata": {},
   "source": [
    "Выводим размеры обучающего и тестового наборов данных"
   ]
  },
  {
   "cell_type": "code",
   "execution_count": 73,
   "id": "f35a27f2",
   "metadata": {},
   "outputs": [
    {
     "data": {
      "text/plain": [
       "((8221, 1056), (2849, 1056))"
      ]
     },
     "execution_count": 73,
     "metadata": {},
     "output_type": "execute_result"
    }
   ],
   "source": [
    "train_mordred.shape, test_mordred.shape"
   ]
  },
  {
   "cell_type": "markdown",
   "id": "a210fc8a",
   "metadata": {},
   "source": [
    "Выводим первые строки тестового набора данных для проверки его структуры"
   ]
  },
  {
   "cell_type": "code",
   "execution_count": 74,
   "id": "ff431a27",
   "metadata": {},
   "outputs": [
    {
     "data": {
      "text/html": [
       "<div>\n",
       "<style scoped>\n",
       "    .dataframe tbody tr th:only-of-type {\n",
       "        vertical-align: middle;\n",
       "    }\n",
       "\n",
       "    .dataframe tbody tr th {\n",
       "        vertical-align: top;\n",
       "    }\n",
       "\n",
       "    .dataframe thead th {\n",
       "        text-align: right;\n",
       "    }\n",
       "</style>\n",
       "<table border=\"1\" class=\"dataframe\">\n",
       "  <thead>\n",
       "    <tr style=\"text-align: right;\">\n",
       "      <th></th>\n",
       "      <th>nAcid</th>\n",
       "      <th>nBase</th>\n",
       "      <th>SpAbs_A</th>\n",
       "      <th>SpMax_A</th>\n",
       "      <th>SpDiam_A</th>\n",
       "      <th>SpAD_A</th>\n",
       "      <th>SpMAD_A</th>\n",
       "      <th>LogEE_A</th>\n",
       "      <th>VE1_A</th>\n",
       "      <th>VE2_A</th>\n",
       "      <th>...</th>\n",
       "      <th>SRW09</th>\n",
       "      <th>SRW10</th>\n",
       "      <th>TSRW10</th>\n",
       "      <th>MW</th>\n",
       "      <th>AMW</th>\n",
       "      <th>WPath</th>\n",
       "      <th>WPol</th>\n",
       "      <th>Zagreb1</th>\n",
       "      <th>Zagreb2</th>\n",
       "      <th>mZagreb2</th>\n",
       "    </tr>\n",
       "  </thead>\n",
       "  <tbody>\n",
       "    <tr>\n",
       "      <th>0</th>\n",
       "      <td>0</td>\n",
       "      <td>0</td>\n",
       "      <td>38.352025</td>\n",
       "      <td>2.405459</td>\n",
       "      <td>4.633113</td>\n",
       "      <td>38.352025</td>\n",
       "      <td>1.237162</td>\n",
       "      <td>4.31797</td>\n",
       "      <td>3.489499</td>\n",
       "      <td>0.112564</td>\n",
       "      <td>...</td>\n",
       "      <td>6.985642</td>\n",
       "      <td>9.897721</td>\n",
       "      <td>79.938464</td>\n",
       "      <td>432.287574</td>\n",
       "      <td>6.088557</td>\n",
       "      <td>3531</td>\n",
       "      <td>39</td>\n",
       "      <td>146.0</td>\n",
       "      <td>161.0</td>\n",
       "      <td>7.083333</td>\n",
       "    </tr>\n",
       "  </tbody>\n",
       "</table>\n",
       "<p>1 rows × 1056 columns</p>\n",
       "</div>"
      ],
      "text/plain": [
       "   nAcid  nBase    SpAbs_A   SpMax_A  SpDiam_A     SpAD_A   SpMAD_A  LogEE_A  \\\n",
       "0      0      0  38.352025  2.405459  4.633113  38.352025  1.237162  4.31797   \n",
       "\n",
       "      VE1_A     VE2_A  ...     SRW09     SRW10     TSRW10          MW  \\\n",
       "0  3.489499  0.112564  ...  6.985642  9.897721  79.938464  432.287574   \n",
       "\n",
       "        AMW  WPath  WPol  Zagreb1  Zagreb2  mZagreb2  \n",
       "0  6.088557   3531    39    146.0    161.0  7.083333  \n",
       "\n",
       "[1 rows x 1056 columns]"
      ]
     },
     "execution_count": 74,
     "metadata": {},
     "output_type": "execute_result"
    }
   ],
   "source": [
    "test_mordred.head(1)"
   ]
  },
  {
   "cell_type": "markdown",
   "id": "85af4ce1",
   "metadata": {},
   "source": [
    "Сравниваем список признаков в обучающем и тестовом наборах данных, чтобы убедиться, что они одинаковы"
   ]
  },
  {
   "cell_type": "code",
   "execution_count": 75,
   "id": "2796a602",
   "metadata": {},
   "outputs": [
    {
     "data": {
      "text/plain": [
       "True"
      ]
     },
     "execution_count": 75,
     "metadata": {},
     "output_type": "execute_result"
    }
   ],
   "source": [
    "list(train_mordred) == list(test_mordred)"
   ]
  },
  {
   "cell_type": "markdown",
   "id": "bf61be75",
   "metadata": {},
   "source": [
    "Устанавливаем индексы для обучающего и тестового наборов данных, чтобы они совпадали с исходными индексами"
   ]
  },
  {
   "cell_type": "code",
   "execution_count": 76,
   "id": "7e9ab087",
   "metadata": {},
   "outputs": [],
   "source": [
    "train_mordred.index = train.index\n",
    "test_mordred.index = test.index"
   ]
  },
  {
   "cell_type": "markdown",
   "id": "97a0faeb",
   "metadata": {},
   "source": [
    "Выводим размеры обучающего и тестового наборов данных"
   ]
  },
  {
   "cell_type": "code",
   "execution_count": 77,
   "id": "e92c8627",
   "metadata": {},
   "outputs": [
    {
     "data": {
      "text/plain": [
       "((8221, 1056), (2849, 1056))"
      ]
     },
     "execution_count": 77,
     "metadata": {},
     "output_type": "execute_result"
    }
   ],
   "source": [
    "train_mordred.shape, test_mordred.shape\n"
   ]
  },
  {
   "cell_type": "markdown",
   "id": "3484011f",
   "metadata": {},
   "source": [
    "Сохраняем обучающий и тестовый наборы данных с дескрипторами в CSV файлы для дальнейшего использования"
   ]
  },
  {
   "cell_type": "code",
   "execution_count": 78,
   "id": "93608935",
   "metadata": {},
   "outputs": [],
   "source": [
    "train_mordred.to_csv('../data/descriptors/train_mordred.csv')\n",
    "test_mordred.to_csv('../data/descriptors/test_mordred.csv')"
   ]
  }
 ],
 "metadata": {
  "kernelspec": {
   "display_name": "base",
   "language": "python",
   "name": "python3"
  },
  "language_info": {
   "codemirror_mode": {
    "name": "ipython",
    "version": 3
   },
   "file_extension": ".py",
   "mimetype": "text/x-python",
   "name": "python",
   "nbconvert_exporter": "python",
   "pygments_lexer": "ipython3",
   "version": "3.12.3"
  }
 },
 "nbformat": 4,
 "nbformat_minor": 5
}
