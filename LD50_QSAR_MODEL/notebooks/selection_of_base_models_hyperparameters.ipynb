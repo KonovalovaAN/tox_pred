{
 "cells": [
  {
   "cell_type": "markdown",
   "id": "5aaebfef",
   "metadata": {},
   "source": [
    "## Импорт библиотек\n",
    "\n",
    "Загружаем все необходимые библиотеки для обработки данных, визуализации, построения моделей и оценки качества. Включены библиотеки `pandas`, `numpy`, `matplotlib`, а также модели из `scikit-learn` и `xgboost`.\n"
   ]
  },
  {
   "cell_type": "code",
   "execution_count": null,
   "id": "6bcec800",
   "metadata": {},
   "outputs": [],
   "source": [
    "from xgboost import XGBClassifier, XGBRegressor\n",
    "from sklearn.ensemble import RandomForestClassifier, RandomForestRegressor\n",
    "from sklearn.svm import SVC, SVR\n",
    "from sklearn.neighbors import KNeighborsClassifier, KNeighborsRegressor"
   ]
  },
  {
   "cell_type": "code",
   "execution_count": null,
   "id": "7ebb6dac",
   "metadata": {},
   "outputs": [],
   "source": [
    "import pandas as pd\n",
    "import numpy as np\n",
    "import matplotlib.pyplot as plt\n",
    "import math\n",
    "import itertools\n",
    "from pprint import pprint\n",
    "import joblib\n",
    "\n",
    "from sklearn.preprocessing import LabelEncoder\n",
    "from sklearn.model_selection import KFold, cross_validate, GridSearchCV, cross_val_score, RandomizedSearchCV \n",
    "from sklearn.model_selection import cross_val_predict\n",
    "from sklearn.pipeline import Pipeline\n",
    "from sklearn.metrics import make_scorer\n",
    "from sklearn.metrics import mean_absolute_error , mean_squared_error, r2_score\n",
    "from sklearn.metrics import accuracy_score, confusion_matrix, classification_report\n",
    "from sklearn.base import BaseEstimator\n",
    "from sklearn.base import ClassifierMixin\n",
    "from sklearn.base import TransformerMixin\n",
    "from sklearn.base import clone\n",
    "from sklearn.model_selection._split import check_cv\n",
    "from utils import *"
   ]
  },
  {
   "cell_type": "markdown",
   "id": "8a9b1e3d",
   "metadata": {},
   "source": [
    "## Загрузка целевых меток\n",
    "\n",
    "Загружаем файлы с целевыми переменными для обучающей и тестовой выборок. Идентификатором является `CASRN`.\n"
   ]
  },
  {
   "cell_type": "code",
   "execution_count": null,
   "id": "af209485",
   "metadata": {},
   "outputs": [],
   "source": [
    "train_labels = pd.read_csv('../data/processed/train_labels.csv', index_col = 'CASRN')\n",
    "\n",
    "train_ecfp6_bits = pd.read_csv('../data/Bmodel_features/modeling_train_ecfp6_bits.csv', index_col='CASRN')\n",
    "train_ecfp6_counts = pd.read_csv('../data/Bmodel_features/modeling_train_ecfp6_counts.csv', index_col='CASRN')\n",
    "train_maccs = pd.read_csv('../data/Bmodel_features/modeling_train_maccs.csv', index_col='CASRN')\n",
    "train_rdkit2d = pd.read_csv('../data/Bmodel_features/modeling_train_rdkit2d.csv', index_col='CASRN')\n",
    "train_mordred = pd.read_csv('../data/Bmodel_features/modeling_train_mordred.csv', index_col='CASRN')"
   ]
  },
  {
   "cell_type": "markdown",
   "id": "6eb711f9",
   "metadata": {},
   "source": [
    "Создаём экземпляры моделей"
   ]
  },
  {
   "cell_type": "code",
   "execution_count": null,
   "id": "7f693ce6",
   "metadata": {},
   "outputs": [],
   "source": [
    "knn_reg = KNeighborsRegressor()\n",
    "svr = SVR()\n",
    "xgb_reg = XGBRegressor(random_state =123, n_jobs=6 ,objective ='reg:squarederror')\n",
    "rf_reg =  RandomForestRegressor(random_state =123, n_jobs=6)\n",
    "\n",
    "svc = SVC(random_state =42)\n",
    "knn_clf = KNeighborsClassifier()\n",
    "xgb_clf = XGBClassifier(random_state =123, n_jobs=6)\n",
    "rf_clf =  RandomForestClassifier(random_state =123, n_jobs=6)"
   ]
  },
  {
   "cell_type": "markdown",
   "id": "5db1406e",
   "metadata": {},
   "source": [
    "Задаём выборку из гиперпараметров для моделей"
   ]
  },
  {
   "cell_type": "code",
   "execution_count": 7,
   "id": "1206cbc6",
   "metadata": {},
   "outputs": [],
   "source": [
    "knn_grid_parameters_des = {'n_neighbors': [5,9,15,19,25,35,45,55,71], 'weights': ['distance'],'p': [1,2]}\n",
    "knn_grid_parameters_fp = {'n_neighbors': [5,9,15,19,23,25,35,45,55,71], 'weights': ['distance'],\n",
    "                          'metric': ['jaccard', 'dice', 'rogerstanimoto']}\n",
    "knn_grid_parameters_fpcounts = {'n_neighbors': [5,9,15,19,25,35,45,55,71], 'weights': ['distance'],\n",
    "                          'metric': ['hamming', 'canberra', 'braycurtis']}\n"
   ]
  },
  {
   "cell_type": "code",
   "execution_count": 8,
   "id": "37072e9d",
   "metadata": {},
   "outputs": [],
   "source": [
    "svm_grid_parameters = [\n",
    "  {'C': [0.01, 0.1, 1, 10, 100, 200, 400, 1000], 'kernel': ['linear']},\n",
    "  {'C': [0.01, 0.1, 1, 10, 100, 200, 400, 1000], 'gamma': [100,10,1,1e-1,1e-2, 1e-3], 'kernel': ['rbf']},\n",
    " ]\n"
   ]
  },
  {
   "cell_type": "code",
   "execution_count": 9,
   "id": "7c1ca648",
   "metadata": {},
   "outputs": [],
   "source": [
    "svm_grid_parameters = { 'gamma': [10,1,1e-1,1e-2],\n",
    "                     'C': [1, 10, 100]}"
   ]
  },
  {
   "cell_type": "code",
   "execution_count": 10,
   "id": "d57fb91c",
   "metadata": {},
   "outputs": [],
   "source": [
    "svm_grid_parameters_1 = { 'gamma': [1,1e-1],\n",
    "                     'C': [1, 10]}\n"
   ]
  },
  {
   "cell_type": "code",
   "execution_count": 11,
   "id": "82fa861d",
   "metadata": {},
   "outputs": [],
   "source": [
    "svm_grid_parameters_2 = [\n",
    "  {'C': [1, 10], 'kernel': ['linear']},\n",
    "  {'C': [1, 10], 'gamma': [1,1e-1], 'kernel': ['rbf']},\n",
    " ]"
   ]
  },
  {
   "cell_type": "code",
   "execution_count": null,
   "id": "e9bca3fe",
   "metadata": {},
   "outputs": [
    {
     "name": "stdout",
     "output_type": "stream",
     "text": [
      "{'bootstrap': [True, False],\n",
      " 'max_depth': [5, 20, 35, 50, 65, 80, None],\n",
      " 'max_features': ['log2', 'sqrt'],\n",
      " 'min_samples_leaf': [2, 4, 6],\n",
      " 'min_samples_split': [2, 5, 10],\n",
      " 'n_estimators': [500, 1500]}\n"
     ]
    }
   ],
   "source": [
    "n_estimators = [int(x) for x in np.linspace(start = 500, stop = 1500, num = 2)]\n",
    "max_features = ['log2', 'sqrt']\n",
    "max_depth = [int(x) for x in np.linspace(5, 80, num = 6)]\n",
    "max_depth.append(None)\n",
    "min_samples_split = [2, 5, 10]\n",
    "min_samples_leaf = [2, 4, 6]\n",
    "bootstrap = [True, False]\n",
    "\n",
    "rf_grid_parameters = {'n_estimators': n_estimators,\n",
    "               'max_features': max_features,\n",
    "               'max_depth': max_depth,\n",
    "               'min_samples_split': min_samples_split,\n",
    "               'min_samples_leaf': min_samples_leaf,\n",
    "               'bootstrap': bootstrap}\n",
    "\n",
    "pprint(rf_grid_parameters)"
   ]
  },
  {
   "cell_type": "code",
   "execution_count": 14,
   "id": "0773e734",
   "metadata": {},
   "outputs": [],
   "source": [
    "xgb_grid_parameters = {\n",
    "    'learning_rate': [0.01,0.1],\n",
    "    'max_depth': [3,6,10],\n",
    "    'min_child_weight':[1,3,5], \n",
    "    'gamma':[0,1,5],  \n",
    "    'subsample':[i/10.0 for i in range(6,11)],\n",
    "    'colsample_bytree':[i/10.0 for i in range(5,11)], \n",
    "    'n_estimators': [500,1500]}"
   ]
  },
  {
   "cell_type": "markdown",
   "id": "3dea7e76",
   "metadata": {},
   "source": [
    "Напишем функцию для структурированного вывода полученных результатов"
   ]
  },
  {
   "cell_type": "code",
   "execution_count": null,
   "id": "d3287ce3",
   "metadata": {},
   "outputs": [],
   "source": [
    "def result_model_selection(results, name):\n",
    "    df_results = pd.DataFrame({'model': [name] * len(results.cv_results_['params']),\n",
    "                               'params': results.cv_results_['params'],\n",
    "                              'mean score': results.cv_results_['mean_test_score'],\n",
    "                              'std score': results.cv_results_['std_test_score'],\n",
    "                               'rank': results.cv_results_['rank_test_score']\n",
    "                              })\n",
    "    return df_results"
   ]
  },
  {
   "cell_type": "markdown",
   "id": "ff239b01",
   "metadata": {},
   "source": [
    "## Проводим анализ"
   ]
  },
  {
   "cell_type": "markdown",
   "id": "ba5e4d5b",
   "metadata": {},
   "source": [
    "kNN\n",
    "Endpoint 1: VeryToxic"
   ]
  },
  {
   "cell_type": "code",
   "execution_count": 59,
   "id": "b653d3a3",
   "metadata": {},
   "outputs": [],
   "source": [
    "encoder_verytoxic = joblib.load('../encoder_models/encoder_verytoxic.joblib')\n"
   ]
  },
  {
   "cell_type": "code",
   "execution_count": 60,
   "id": "dcc8a5b2",
   "metadata": {},
   "outputs": [
    {
     "name": "stdout",
     "output_type": "stream",
     "text": [
      "Best parameters set found on development set: {'metric': 'dice', 'n_neighbors': 25, 'weights': 'distance'}\n",
      "Best score: 0.8333423642625253\n",
      "Grid scores on development set:\n",
      "\n",
      "0.794 (+/-0.106) for {'metric': 'jaccard', 'n_neighbors': 5, 'weights': 'distance'}\n",
      "0.814 (+/-0.107) for {'metric': 'jaccard', 'n_neighbors': 9, 'weights': 'distance'}\n",
      "0.826 (+/-0.113) for {'metric': 'jaccard', 'n_neighbors': 15, 'weights': 'distance'}\n",
      "0.829 (+/-0.113) for {'metric': 'jaccard', 'n_neighbors': 19, 'weights': 'distance'}\n",
      "0.832 (+/-0.119) for {'metric': 'jaccard', 'n_neighbors': 23, 'weights': 'distance'}\n",
      "0.832 (+/-0.119) for {'metric': 'jaccard', 'n_neighbors': 25, 'weights': 'distance'}\n",
      "0.828 (+/-0.126) for {'metric': 'jaccard', 'n_neighbors': 35, 'weights': 'distance'}\n",
      "0.828 (+/-0.126) for {'metric': 'jaccard', 'n_neighbors': 45, 'weights': 'distance'}\n",
      "0.828 (+/-0.125) for {'metric': 'jaccard', 'n_neighbors': 55, 'weights': 'distance'}\n",
      "0.824 (+/-0.134) for {'metric': 'jaccard', 'n_neighbors': 71, 'weights': 'distance'}\n",
      "0.794 (+/-0.105) for {'metric': 'dice', 'n_neighbors': 5, 'weights': 'distance'}\n",
      "0.814 (+/-0.107) for {'metric': 'dice', 'n_neighbors': 9, 'weights': 'distance'}\n",
      "0.826 (+/-0.112) for {'metric': 'dice', 'n_neighbors': 15, 'weights': 'distance'}\n",
      "0.829 (+/-0.113) for {'metric': 'dice', 'n_neighbors': 19, 'weights': 'distance'}\n",
      "0.833 (+/-0.118) for {'metric': 'dice', 'n_neighbors': 23, 'weights': 'distance'}\n",
      "0.833 (+/-0.118) for {'metric': 'dice', 'n_neighbors': 25, 'weights': 'distance'}\n",
      "0.829 (+/-0.124) for {'metric': 'dice', 'n_neighbors': 35, 'weights': 'distance'}\n",
      "0.829 (+/-0.125) for {'metric': 'dice', 'n_neighbors': 45, 'weights': 'distance'}\n",
      "0.829 (+/-0.124) for {'metric': 'dice', 'n_neighbors': 55, 'weights': 'distance'}\n",
      "0.825 (+/-0.132) for {'metric': 'dice', 'n_neighbors': 71, 'weights': 'distance'}\n",
      "0.736 (+/-0.064) for {'metric': 'rogerstanimoto', 'n_neighbors': 5, 'weights': 'distance'}\n",
      "0.750 (+/-0.067) for {'metric': 'rogerstanimoto', 'n_neighbors': 9, 'weights': 'distance'}\n",
      "0.762 (+/-0.078) for {'metric': 'rogerstanimoto', 'n_neighbors': 15, 'weights': 'distance'}\n",
      "0.760 (+/-0.074) for {'metric': 'rogerstanimoto', 'n_neighbors': 19, 'weights': 'distance'}\n",
      "0.757 (+/-0.083) for {'metric': 'rogerstanimoto', 'n_neighbors': 23, 'weights': 'distance'}\n",
      "0.758 (+/-0.083) for {'metric': 'rogerstanimoto', 'n_neighbors': 25, 'weights': 'distance'}\n",
      "0.764 (+/-0.093) for {'metric': 'rogerstanimoto', 'n_neighbors': 35, 'weights': 'distance'}\n",
      "0.768 (+/-0.096) for {'metric': 'rogerstanimoto', 'n_neighbors': 45, 'weights': 'distance'}\n",
      "0.768 (+/-0.109) for {'metric': 'rogerstanimoto', 'n_neighbors': 55, 'weights': 'distance'}\n",
      "0.767 (+/-0.111) for {'metric': 'rogerstanimoto', 'n_neighbors': 71, 'weights': 'distance'}\n",
      "CPU times: total: 14.9 s\n",
      "Wall time: 28min 27s\n"
     ]
    }
   ],
   "source": [
    "%%time\n",
    "a,b,c,d,e = prepare_input(train_labels, train_ecfp6_bits, target = 'verytoxic', encoder = encoder_verytoxic)\n",
    "\n",
    "vt_knn_ecfp6bits = model_selection(knn_clf, knn_grid_parameters_fp, a, c, scoring = 'roc_auc', cv=5, GridSearch = True)\n"
   ]
  },
  {
   "cell_type": "code",
   "execution_count": 61,
   "id": "842f1592",
   "metadata": {},
   "outputs": [
    {
     "name": "stdout",
     "output_type": "stream",
     "text": [
      "Best parameters set found on development set: {'metric': 'dice', 'n_neighbors': 35, 'weights': 'distance'}\n",
      "Best score: 0.8353930162092229\n",
      "Grid scores on development set:\n",
      "\n",
      "0.799 (+/-0.120) for {'metric': 'jaccard', 'n_neighbors': 5, 'weights': 'distance'}\n",
      "0.819 (+/-0.106) for {'metric': 'jaccard', 'n_neighbors': 9, 'weights': 'distance'}\n",
      "0.829 (+/-0.108) for {'metric': 'jaccard', 'n_neighbors': 15, 'weights': 'distance'}\n",
      "0.832 (+/-0.104) for {'metric': 'jaccard', 'n_neighbors': 19, 'weights': 'distance'}\n",
      "0.834 (+/-0.102) for {'metric': 'jaccard', 'n_neighbors': 23, 'weights': 'distance'}\n",
      "0.833 (+/-0.103) for {'metric': 'jaccard', 'n_neighbors': 25, 'weights': 'distance'}\n",
      "0.834 (+/-0.097) for {'metric': 'jaccard', 'n_neighbors': 35, 'weights': 'distance'}\n",
      "0.830 (+/-0.105) for {'metric': 'jaccard', 'n_neighbors': 45, 'weights': 'distance'}\n",
      "0.830 (+/-0.105) for {'metric': 'jaccard', 'n_neighbors': 55, 'weights': 'distance'}\n",
      "0.825 (+/-0.110) for {'metric': 'jaccard', 'n_neighbors': 71, 'weights': 'distance'}\n",
      "0.799 (+/-0.120) for {'metric': 'dice', 'n_neighbors': 5, 'weights': 'distance'}\n",
      "0.820 (+/-0.106) for {'metric': 'dice', 'n_neighbors': 9, 'weights': 'distance'}\n",
      "0.829 (+/-0.108) for {'metric': 'dice', 'n_neighbors': 15, 'weights': 'distance'}\n",
      "0.833 (+/-0.104) for {'metric': 'dice', 'n_neighbors': 19, 'weights': 'distance'}\n",
      "0.835 (+/-0.102) for {'metric': 'dice', 'n_neighbors': 23, 'weights': 'distance'}\n",
      "0.834 (+/-0.103) for {'metric': 'dice', 'n_neighbors': 25, 'weights': 'distance'}\n",
      "0.835 (+/-0.097) for {'metric': 'dice', 'n_neighbors': 35, 'weights': 'distance'}\n",
      "0.831 (+/-0.104) for {'metric': 'dice', 'n_neighbors': 45, 'weights': 'distance'}\n",
      "0.831 (+/-0.104) for {'metric': 'dice', 'n_neighbors': 55, 'weights': 'distance'}\n",
      "0.827 (+/-0.108) for {'metric': 'dice', 'n_neighbors': 71, 'weights': 'distance'}\n",
      "0.796 (+/-0.125) for {'metric': 'rogerstanimoto', 'n_neighbors': 5, 'weights': 'distance'}\n",
      "0.819 (+/-0.119) for {'metric': 'rogerstanimoto', 'n_neighbors': 9, 'weights': 'distance'}\n",
      "0.829 (+/-0.115) for {'metric': 'rogerstanimoto', 'n_neighbors': 15, 'weights': 'distance'}\n",
      "0.834 (+/-0.103) for {'metric': 'rogerstanimoto', 'n_neighbors': 19, 'weights': 'distance'}\n",
      "0.834 (+/-0.100) for {'metric': 'rogerstanimoto', 'n_neighbors': 23, 'weights': 'distance'}\n",
      "0.835 (+/-0.100) for {'metric': 'rogerstanimoto', 'n_neighbors': 25, 'weights': 'distance'}\n",
      "0.835 (+/-0.101) for {'metric': 'rogerstanimoto', 'n_neighbors': 35, 'weights': 'distance'}\n",
      "0.835 (+/-0.102) for {'metric': 'rogerstanimoto', 'n_neighbors': 45, 'weights': 'distance'}\n",
      "0.832 (+/-0.105) for {'metric': 'rogerstanimoto', 'n_neighbors': 55, 'weights': 'distance'}\n",
      "0.828 (+/-0.107) for {'metric': 'rogerstanimoto', 'n_neighbors': 71, 'weights': 'distance'}\n",
      "CPU times: total: 1.2 s\n",
      "Wall time: 2min 25s\n"
     ]
    }
   ],
   "source": [
    "%%time\n",
    "a,b,c,d,e = prepare_input(train_labels, train_maccs, target = 'verytoxic', encoder = encoder_verytoxic)\n",
    "\n",
    "vt_knn_maccs = model_selection(knn_clf, knn_grid_parameters_fp, a, c, scoring = 'roc_auc', cv=5, GridSearch = True)"
   ]
  },
  {
   "cell_type": "code",
   "execution_count": 62,
   "id": "2f39530b",
   "metadata": {},
   "outputs": [
    {
     "name": "stdout",
     "output_type": "stream",
     "text": [
      "Best parameters set found on development set: {'metric': 'braycurtis', 'n_neighbors': 19, 'weights': 'distance'}\n",
      "Best score: 0.8283099373483698\n",
      "Grid scores on development set:\n",
      "\n",
      "0.742 (+/-0.120) for {'metric': 'hamming', 'n_neighbors': 5, 'weights': 'distance'}\n",
      "0.762 (+/-0.126) for {'metric': 'hamming', 'n_neighbors': 9, 'weights': 'distance'}\n",
      "0.769 (+/-0.122) for {'metric': 'hamming', 'n_neighbors': 15, 'weights': 'distance'}\n",
      "0.774 (+/-0.121) for {'metric': 'hamming', 'n_neighbors': 19, 'weights': 'distance'}\n",
      "0.775 (+/-0.121) for {'metric': 'hamming', 'n_neighbors': 25, 'weights': 'distance'}\n",
      "0.781 (+/-0.113) for {'metric': 'hamming', 'n_neighbors': 35, 'weights': 'distance'}\n",
      "0.783 (+/-0.125) for {'metric': 'hamming', 'n_neighbors': 45, 'weights': 'distance'}\n",
      "0.779 (+/-0.130) for {'metric': 'hamming', 'n_neighbors': 55, 'weights': 'distance'}\n",
      "0.780 (+/-0.132) for {'metric': 'hamming', 'n_neighbors': 71, 'weights': 'distance'}\n",
      "0.749 (+/-0.116) for {'metric': 'canberra', 'n_neighbors': 5, 'weights': 'distance'}\n",
      "0.761 (+/-0.119) for {'metric': 'canberra', 'n_neighbors': 9, 'weights': 'distance'}\n",
      "0.775 (+/-0.124) for {'metric': 'canberra', 'n_neighbors': 15, 'weights': 'distance'}\n",
      "0.775 (+/-0.128) for {'metric': 'canberra', 'n_neighbors': 19, 'weights': 'distance'}\n",
      "0.780 (+/-0.122) for {'metric': 'canberra', 'n_neighbors': 25, 'weights': 'distance'}\n",
      "0.781 (+/-0.117) for {'metric': 'canberra', 'n_neighbors': 35, 'weights': 'distance'}\n",
      "0.783 (+/-0.122) for {'metric': 'canberra', 'n_neighbors': 45, 'weights': 'distance'}\n",
      "0.779 (+/-0.132) for {'metric': 'canberra', 'n_neighbors': 55, 'weights': 'distance'}\n",
      "0.782 (+/-0.137) for {'metric': 'canberra', 'n_neighbors': 71, 'weights': 'distance'}\n",
      "0.788 (+/-0.129) for {'metric': 'braycurtis', 'n_neighbors': 5, 'weights': 'distance'}\n",
      "0.809 (+/-0.125) for {'metric': 'braycurtis', 'n_neighbors': 9, 'weights': 'distance'}\n",
      "0.825 (+/-0.116) for {'metric': 'braycurtis', 'n_neighbors': 15, 'weights': 'distance'}\n",
      "0.828 (+/-0.110) for {'metric': 'braycurtis', 'n_neighbors': 19, 'weights': 'distance'}\n",
      "0.825 (+/-0.111) for {'metric': 'braycurtis', 'n_neighbors': 25, 'weights': 'distance'}\n",
      "0.826 (+/-0.109) for {'metric': 'braycurtis', 'n_neighbors': 35, 'weights': 'distance'}\n",
      "0.827 (+/-0.113) for {'metric': 'braycurtis', 'n_neighbors': 45, 'weights': 'distance'}\n",
      "0.825 (+/-0.118) for {'metric': 'braycurtis', 'n_neighbors': 55, 'weights': 'distance'}\n",
      "0.818 (+/-0.125) for {'metric': 'braycurtis', 'n_neighbors': 71, 'weights': 'distance'}\n",
      "CPU times: total: 4.3 s\n",
      "Wall time: 8min 6s\n"
     ]
    }
   ],
   "source": [
    "%%time\n",
    "a,b,c,d,e = prepare_input(train_labels, train_ecfp6_counts, target = 'verytoxic', encoder = encoder_verytoxic)\n",
    "\n",
    "vt_knn_ecfp6count = model_selection(knn_clf, knn_grid_parameters_fpcounts, a, c, scoring = 'roc_auc', cv=5, GridSearch = True)\n"
   ]
  },
  {
   "cell_type": "code",
   "execution_count": 63,
   "id": "8f57924c",
   "metadata": {},
   "outputs": [
    {
     "name": "stdout",
     "output_type": "stream",
     "text": [
      "Best parameters set found on development set: {'n_neighbors': 35, 'p': 1, 'weights': 'distance'}\n",
      "Best score: 0.8246999522990495\n",
      "Grid scores on development set:\n",
      "\n",
      "0.788 (+/-0.110) for {'n_neighbors': 5, 'p': 1, 'weights': 'distance'}\n",
      "0.773 (+/-0.109) for {'n_neighbors': 5, 'p': 2, 'weights': 'distance'}\n",
      "0.808 (+/-0.116) for {'n_neighbors': 9, 'p': 1, 'weights': 'distance'}\n",
      "0.789 (+/-0.115) for {'n_neighbors': 9, 'p': 2, 'weights': 'distance'}\n",
      "0.820 (+/-0.121) for {'n_neighbors': 15, 'p': 1, 'weights': 'distance'}\n",
      "0.799 (+/-0.132) for {'n_neighbors': 15, 'p': 2, 'weights': 'distance'}\n",
      "0.824 (+/-0.115) for {'n_neighbors': 19, 'p': 1, 'weights': 'distance'}\n",
      "0.809 (+/-0.132) for {'n_neighbors': 19, 'p': 2, 'weights': 'distance'}\n",
      "0.824 (+/-0.124) for {'n_neighbors': 25, 'p': 1, 'weights': 'distance'}\n",
      "0.810 (+/-0.131) for {'n_neighbors': 25, 'p': 2, 'weights': 'distance'}\n",
      "0.825 (+/-0.122) for {'n_neighbors': 35, 'p': 1, 'weights': 'distance'}\n",
      "0.808 (+/-0.134) for {'n_neighbors': 35, 'p': 2, 'weights': 'distance'}\n",
      "0.822 (+/-0.128) for {'n_neighbors': 45, 'p': 1, 'weights': 'distance'}\n",
      "0.806 (+/-0.136) for {'n_neighbors': 45, 'p': 2, 'weights': 'distance'}\n",
      "0.819 (+/-0.128) for {'n_neighbors': 55, 'p': 1, 'weights': 'distance'}\n",
      "0.802 (+/-0.142) for {'n_neighbors': 55, 'p': 2, 'weights': 'distance'}\n",
      "0.810 (+/-0.139) for {'n_neighbors': 71, 'p': 1, 'weights': 'distance'}\n",
      "0.794 (+/-0.148) for {'n_neighbors': 71, 'p': 2, 'weights': 'distance'}\n",
      "CPU times: total: 203 ms\n",
      "Wall time: 11.4 s\n"
     ]
    }
   ],
   "source": [
    "%%time\n",
    "a,b,c,d,e = prepare_input(train_labels, train_rdkit2d, target = 'verytoxic', encoder = encoder_verytoxic)\n",
    "\n",
    "vt_knn_rdkit2d = model_selection(knn_clf, knn_grid_parameters_des, a, c, scoring = 'roc_auc', cv=5, GridSearch = True)\n"
   ]
  },
  {
   "cell_type": "code",
   "execution_count": 64,
   "id": "75cdf29d",
   "metadata": {},
   "outputs": [
    {
     "name": "stdout",
     "output_type": "stream",
     "text": [
      "Best parameters set found on development set: {'n_neighbors': 45, 'p': 1, 'weights': 'distance'}\n",
      "Best score: 0.8251542029500607\n",
      "Grid scores on development set:\n",
      "\n",
      "0.809 (+/-0.107) for {'n_neighbors': 5, 'p': 1, 'weights': 'distance'}\n",
      "0.797 (+/-0.115) for {'n_neighbors': 5, 'p': 2, 'weights': 'distance'}\n",
      "0.824 (+/-0.107) for {'n_neighbors': 9, 'p': 1, 'weights': 'distance'}\n",
      "0.808 (+/-0.120) for {'n_neighbors': 9, 'p': 2, 'weights': 'distance'}\n",
      "0.823 (+/-0.125) for {'n_neighbors': 15, 'p': 1, 'weights': 'distance'}\n",
      "0.821 (+/-0.123) for {'n_neighbors': 15, 'p': 2, 'weights': 'distance'}\n",
      "0.825 (+/-0.127) for {'n_neighbors': 19, 'p': 1, 'weights': 'distance'}\n",
      "0.822 (+/-0.124) for {'n_neighbors': 19, 'p': 2, 'weights': 'distance'}\n",
      "0.825 (+/-0.125) for {'n_neighbors': 25, 'p': 1, 'weights': 'distance'}\n",
      "0.819 (+/-0.126) for {'n_neighbors': 25, 'p': 2, 'weights': 'distance'}\n",
      "0.824 (+/-0.127) for {'n_neighbors': 35, 'p': 1, 'weights': 'distance'}\n",
      "0.818 (+/-0.129) for {'n_neighbors': 35, 'p': 2, 'weights': 'distance'}\n",
      "0.825 (+/-0.123) for {'n_neighbors': 45, 'p': 1, 'weights': 'distance'}\n",
      "0.819 (+/-0.125) for {'n_neighbors': 45, 'p': 2, 'weights': 'distance'}\n",
      "0.825 (+/-0.124) for {'n_neighbors': 55, 'p': 1, 'weights': 'distance'}\n",
      "0.819 (+/-0.125) for {'n_neighbors': 55, 'p': 2, 'weights': 'distance'}\n",
      "0.823 (+/-0.128) for {'n_neighbors': 71, 'p': 1, 'weights': 'distance'}\n",
      "0.816 (+/-0.129) for {'n_neighbors': 71, 'p': 2, 'weights': 'distance'}\n",
      "CPU times: total: 609 ms\n",
      "Wall time: 30.2 s\n"
     ]
    }
   ],
   "source": [
    "%%time\n",
    "a,b,c,d,e = prepare_input(train_labels, train_mordred, target = 'verytoxic', encoder = encoder_verytoxic)\n",
    "\n",
    "vt_knn_mordred = model_selection(knn_clf, knn_grid_parameters_des, a, c, scoring = 'roc_auc', cv=5, GridSearch = True)"
   ]
  },
  {
   "cell_type": "markdown",
   "id": "721489b7",
   "metadata": {},
   "source": [
    "Endpoint 2: toxic"
   ]
  },
  {
   "cell_type": "code",
   "execution_count": 65,
   "id": "d5de66d4",
   "metadata": {},
   "outputs": [],
   "source": [
    "encoder_toxic = joblib.load('../encoder_models/encoder_toxic.joblib')"
   ]
  },
  {
   "cell_type": "code",
   "execution_count": 66,
   "id": "ea26c6ca",
   "metadata": {},
   "outputs": [
    {
     "name": "stdout",
     "output_type": "stream",
     "text": [
      "Best parameters set found on development set: {'metric': 'dice', 'n_neighbors': 19, 'weights': 'distance'}\n",
      "Best score: 0.7765003505028532\n",
      "Grid scores on development set:\n",
      "\n",
      "0.761 (+/-0.065) for {'metric': 'jaccard', 'n_neighbors': 5, 'weights': 'distance'}\n",
      "0.770 (+/-0.056) for {'metric': 'jaccard', 'n_neighbors': 9, 'weights': 'distance'}\n",
      "0.774 (+/-0.051) for {'metric': 'jaccard', 'n_neighbors': 15, 'weights': 'distance'}\n",
      "0.775 (+/-0.054) for {'metric': 'jaccard', 'n_neighbors': 19, 'weights': 'distance'}\n",
      "0.773 (+/-0.059) for {'metric': 'jaccard', 'n_neighbors': 23, 'weights': 'distance'}\n",
      "0.772 (+/-0.061) for {'metric': 'jaccard', 'n_neighbors': 25, 'weights': 'distance'}\n",
      "0.767 (+/-0.065) for {'metric': 'jaccard', 'n_neighbors': 35, 'weights': 'distance'}\n",
      "0.764 (+/-0.067) for {'metric': 'jaccard', 'n_neighbors': 45, 'weights': 'distance'}\n",
      "0.761 (+/-0.065) for {'metric': 'jaccard', 'n_neighbors': 55, 'weights': 'distance'}\n",
      "0.756 (+/-0.064) for {'metric': 'jaccard', 'n_neighbors': 71, 'weights': 'distance'}\n",
      "0.761 (+/-0.065) for {'metric': 'dice', 'n_neighbors': 5, 'weights': 'distance'}\n",
      "0.771 (+/-0.056) for {'metric': 'dice', 'n_neighbors': 9, 'weights': 'distance'}\n",
      "0.775 (+/-0.052) for {'metric': 'dice', 'n_neighbors': 15, 'weights': 'distance'}\n",
      "0.777 (+/-0.054) for {'metric': 'dice', 'n_neighbors': 19, 'weights': 'distance'}\n",
      "0.775 (+/-0.059) for {'metric': 'dice', 'n_neighbors': 23, 'weights': 'distance'}\n",
      "0.775 (+/-0.061) for {'metric': 'dice', 'n_neighbors': 25, 'weights': 'distance'}\n",
      "0.769 (+/-0.065) for {'metric': 'dice', 'n_neighbors': 35, 'weights': 'distance'}\n",
      "0.767 (+/-0.067) for {'metric': 'dice', 'n_neighbors': 45, 'weights': 'distance'}\n",
      "0.765 (+/-0.066) for {'metric': 'dice', 'n_neighbors': 55, 'weights': 'distance'}\n",
      "0.760 (+/-0.064) for {'metric': 'dice', 'n_neighbors': 71, 'weights': 'distance'}\n",
      "0.725 (+/-0.071) for {'metric': 'rogerstanimoto', 'n_neighbors': 5, 'weights': 'distance'}\n",
      "0.727 (+/-0.060) for {'metric': 'rogerstanimoto', 'n_neighbors': 9, 'weights': 'distance'}\n",
      "0.723 (+/-0.061) for {'metric': 'rogerstanimoto', 'n_neighbors': 15, 'weights': 'distance'}\n",
      "0.718 (+/-0.062) for {'metric': 'rogerstanimoto', 'n_neighbors': 19, 'weights': 'distance'}\n",
      "0.715 (+/-0.066) for {'metric': 'rogerstanimoto', 'n_neighbors': 23, 'weights': 'distance'}\n",
      "0.715 (+/-0.067) for {'metric': 'rogerstanimoto', 'n_neighbors': 25, 'weights': 'distance'}\n",
      "0.713 (+/-0.071) for {'metric': 'rogerstanimoto', 'n_neighbors': 35, 'weights': 'distance'}\n",
      "0.706 (+/-0.074) for {'metric': 'rogerstanimoto', 'n_neighbors': 45, 'weights': 'distance'}\n",
      "0.705 (+/-0.074) for {'metric': 'rogerstanimoto', 'n_neighbors': 55, 'weights': 'distance'}\n",
      "0.704 (+/-0.069) for {'metric': 'rogerstanimoto', 'n_neighbors': 71, 'weights': 'distance'}\n",
      "CPU times: total: 15.2 s\n",
      "Wall time: 28min 51s\n"
     ]
    }
   ],
   "source": [
    "%%time\n",
    "a,b,c,d,e = prepare_input(train_labels, train_ecfp6_bits, target = 'toxic', encoder = encoder_toxic)\n",
    "\n",
    "t_knn_ecfp6bits = model_selection(knn_clf, knn_grid_parameters_fp, a, c, scoring = 'roc_auc', cv=5, GridSearch = True)"
   ]
  },
  {
   "cell_type": "code",
   "execution_count": 67,
   "id": "3f7f141e",
   "metadata": {},
   "outputs": [
    {
     "name": "stdout",
     "output_type": "stream",
     "text": [
      "Best parameters set found on development set: {'metric': 'rogerstanimoto', 'n_neighbors': 19, 'weights': 'distance'}\n",
      "Best score: 0.8005131593622032\n",
      "Grid scores on development set:\n",
      "\n",
      "0.790 (+/-0.083) for {'metric': 'jaccard', 'n_neighbors': 5, 'weights': 'distance'}\n",
      "0.798 (+/-0.081) for {'metric': 'jaccard', 'n_neighbors': 9, 'weights': 'distance'}\n",
      "0.798 (+/-0.085) for {'metric': 'jaccard', 'n_neighbors': 15, 'weights': 'distance'}\n",
      "0.797 (+/-0.087) for {'metric': 'jaccard', 'n_neighbors': 19, 'weights': 'distance'}\n",
      "0.796 (+/-0.085) for {'metric': 'jaccard', 'n_neighbors': 23, 'weights': 'distance'}\n",
      "0.796 (+/-0.085) for {'metric': 'jaccard', 'n_neighbors': 25, 'weights': 'distance'}\n",
      "0.792 (+/-0.085) for {'metric': 'jaccard', 'n_neighbors': 35, 'weights': 'distance'}\n",
      "0.790 (+/-0.081) for {'metric': 'jaccard', 'n_neighbors': 45, 'weights': 'distance'}\n",
      "0.787 (+/-0.081) for {'metric': 'jaccard', 'n_neighbors': 55, 'weights': 'distance'}\n",
      "0.784 (+/-0.078) for {'metric': 'jaccard', 'n_neighbors': 71, 'weights': 'distance'}\n",
      "0.790 (+/-0.083) for {'metric': 'dice', 'n_neighbors': 5, 'weights': 'distance'}\n",
      "0.798 (+/-0.081) for {'metric': 'dice', 'n_neighbors': 9, 'weights': 'distance'}\n",
      "0.800 (+/-0.085) for {'metric': 'dice', 'n_neighbors': 15, 'weights': 'distance'}\n",
      "0.799 (+/-0.087) for {'metric': 'dice', 'n_neighbors': 19, 'weights': 'distance'}\n",
      "0.798 (+/-0.085) for {'metric': 'dice', 'n_neighbors': 23, 'weights': 'distance'}\n",
      "0.798 (+/-0.085) for {'metric': 'dice', 'n_neighbors': 25, 'weights': 'distance'}\n",
      "0.794 (+/-0.085) for {'metric': 'dice', 'n_neighbors': 35, 'weights': 'distance'}\n",
      "0.792 (+/-0.081) for {'metric': 'dice', 'n_neighbors': 45, 'weights': 'distance'}\n",
      "0.789 (+/-0.081) for {'metric': 'dice', 'n_neighbors': 55, 'weights': 'distance'}\n",
      "0.786 (+/-0.079) for {'metric': 'dice', 'n_neighbors': 71, 'weights': 'distance'}\n",
      "0.788 (+/-0.079) for {'metric': 'rogerstanimoto', 'n_neighbors': 5, 'weights': 'distance'}\n",
      "0.797 (+/-0.077) for {'metric': 'rogerstanimoto', 'n_neighbors': 9, 'weights': 'distance'}\n",
      "0.800 (+/-0.077) for {'metric': 'rogerstanimoto', 'n_neighbors': 15, 'weights': 'distance'}\n",
      "0.801 (+/-0.077) for {'metric': 'rogerstanimoto', 'n_neighbors': 19, 'weights': 'distance'}\n",
      "0.798 (+/-0.076) for {'metric': 'rogerstanimoto', 'n_neighbors': 23, 'weights': 'distance'}\n",
      "0.799 (+/-0.076) for {'metric': 'rogerstanimoto', 'n_neighbors': 25, 'weights': 'distance'}\n",
      "0.794 (+/-0.077) for {'metric': 'rogerstanimoto', 'n_neighbors': 35, 'weights': 'distance'}\n",
      "0.793 (+/-0.076) for {'metric': 'rogerstanimoto', 'n_neighbors': 45, 'weights': 'distance'}\n",
      "0.791 (+/-0.075) for {'metric': 'rogerstanimoto', 'n_neighbors': 55, 'weights': 'distance'}\n",
      "0.788 (+/-0.073) for {'metric': 'rogerstanimoto', 'n_neighbors': 71, 'weights': 'distance'}\n",
      "CPU times: total: 1.16 s\n",
      "Wall time: 2min 23s\n"
     ]
    }
   ],
   "source": [
    "%%time\n",
    "a,b,c,d,e = prepare_input(train_labels, train_maccs, target = 'toxic', encoder = encoder_toxic)\n",
    "\n",
    "t_knn_maccs = model_selection(knn_clf, knn_grid_parameters_fp, a, c, scoring = 'roc_auc', cv=5, GridSearch = True)"
   ]
  },
  {
   "cell_type": "code",
   "execution_count": 68,
   "id": "757684c3",
   "metadata": {},
   "outputs": [
    {
     "name": "stdout",
     "output_type": "stream",
     "text": [
      "Best parameters set found on development set: {'metric': 'braycurtis', 'n_neighbors': 15, 'weights': 'distance'}\n",
      "Best score: 0.7758825346243101\n",
      "Grid scores on development set:\n",
      "\n",
      "0.728 (+/-0.062) for {'metric': 'hamming', 'n_neighbors': 5, 'weights': 'distance'}\n",
      "0.730 (+/-0.062) for {'metric': 'hamming', 'n_neighbors': 9, 'weights': 'distance'}\n",
      "0.733 (+/-0.049) for {'metric': 'hamming', 'n_neighbors': 15, 'weights': 'distance'}\n",
      "0.735 (+/-0.045) for {'metric': 'hamming', 'n_neighbors': 19, 'weights': 'distance'}\n",
      "0.731 (+/-0.041) for {'metric': 'hamming', 'n_neighbors': 25, 'weights': 'distance'}\n",
      "0.725 (+/-0.041) for {'metric': 'hamming', 'n_neighbors': 35, 'weights': 'distance'}\n",
      "0.728 (+/-0.039) for {'metric': 'hamming', 'n_neighbors': 45, 'weights': 'distance'}\n",
      "0.724 (+/-0.040) for {'metric': 'hamming', 'n_neighbors': 55, 'weights': 'distance'}\n",
      "0.718 (+/-0.038) for {'metric': 'hamming', 'n_neighbors': 71, 'weights': 'distance'}\n",
      "0.729 (+/-0.061) for {'metric': 'canberra', 'n_neighbors': 5, 'weights': 'distance'}\n",
      "0.733 (+/-0.057) for {'metric': 'canberra', 'n_neighbors': 9, 'weights': 'distance'}\n",
      "0.735 (+/-0.053) for {'metric': 'canberra', 'n_neighbors': 15, 'weights': 'distance'}\n",
      "0.734 (+/-0.046) for {'metric': 'canberra', 'n_neighbors': 19, 'weights': 'distance'}\n",
      "0.730 (+/-0.046) for {'metric': 'canberra', 'n_neighbors': 25, 'weights': 'distance'}\n",
      "0.728 (+/-0.038) for {'metric': 'canberra', 'n_neighbors': 35, 'weights': 'distance'}\n",
      "0.726 (+/-0.043) for {'metric': 'canberra', 'n_neighbors': 45, 'weights': 'distance'}\n",
      "0.721 (+/-0.042) for {'metric': 'canberra', 'n_neighbors': 55, 'weights': 'distance'}\n",
      "0.718 (+/-0.040) for {'metric': 'canberra', 'n_neighbors': 71, 'weights': 'distance'}\n",
      "0.764 (+/-0.063) for {'metric': 'braycurtis', 'n_neighbors': 5, 'weights': 'distance'}\n",
      "0.773 (+/-0.060) for {'metric': 'braycurtis', 'n_neighbors': 9, 'weights': 'distance'}\n",
      "0.776 (+/-0.063) for {'metric': 'braycurtis', 'n_neighbors': 15, 'weights': 'distance'}\n",
      "0.774 (+/-0.064) for {'metric': 'braycurtis', 'n_neighbors': 19, 'weights': 'distance'}\n",
      "0.772 (+/-0.060) for {'metric': 'braycurtis', 'n_neighbors': 25, 'weights': 'distance'}\n",
      "0.768 (+/-0.059) for {'metric': 'braycurtis', 'n_neighbors': 35, 'weights': 'distance'}\n",
      "0.767 (+/-0.062) for {'metric': 'braycurtis', 'n_neighbors': 45, 'weights': 'distance'}\n",
      "0.763 (+/-0.063) for {'metric': 'braycurtis', 'n_neighbors': 55, 'weights': 'distance'}\n",
      "0.761 (+/-0.062) for {'metric': 'braycurtis', 'n_neighbors': 71, 'weights': 'distance'}\n",
      "CPU times: total: 4.06 s\n",
      "Wall time: 7min 55s\n"
     ]
    }
   ],
   "source": [
    "%%time\n",
    "a,b,c,d,e = prepare_input(train_labels, train_ecfp6_counts, target = 'toxic', encoder = encoder_toxic)\n",
    "\n",
    "t_knn_ecfp6count = model_selection(knn_clf, knn_grid_parameters_fpcounts, a, c, scoring = 'roc_auc', cv=5, GridSearch = True)\n"
   ]
  },
  {
   "cell_type": "code",
   "execution_count": 69,
   "id": "dee2942c",
   "metadata": {},
   "outputs": [
    {
     "name": "stdout",
     "output_type": "stream",
     "text": [
      "Best parameters set found on development set: {'n_neighbors': 15, 'p': 1, 'weights': 'distance'}\n",
      "Best score: 0.8032485798583557\n",
      "Grid scores on development set:\n",
      "\n",
      "0.794 (+/-0.075) for {'n_neighbors': 5, 'p': 1, 'weights': 'distance'}\n",
      "0.778 (+/-0.077) for {'n_neighbors': 5, 'p': 2, 'weights': 'distance'}\n",
      "0.802 (+/-0.074) for {'n_neighbors': 9, 'p': 1, 'weights': 'distance'}\n",
      "0.782 (+/-0.081) for {'n_neighbors': 9, 'p': 2, 'weights': 'distance'}\n",
      "0.803 (+/-0.068) for {'n_neighbors': 15, 'p': 1, 'weights': 'distance'}\n",
      "0.781 (+/-0.076) for {'n_neighbors': 15, 'p': 2, 'weights': 'distance'}\n",
      "0.801 (+/-0.065) for {'n_neighbors': 19, 'p': 1, 'weights': 'distance'}\n",
      "0.778 (+/-0.074) for {'n_neighbors': 19, 'p': 2, 'weights': 'distance'}\n",
      "0.798 (+/-0.065) for {'n_neighbors': 25, 'p': 1, 'weights': 'distance'}\n",
      "0.776 (+/-0.067) for {'n_neighbors': 25, 'p': 2, 'weights': 'distance'}\n",
      "0.792 (+/-0.067) for {'n_neighbors': 35, 'p': 1, 'weights': 'distance'}\n",
      "0.771 (+/-0.062) for {'n_neighbors': 35, 'p': 2, 'weights': 'distance'}\n",
      "0.788 (+/-0.066) for {'n_neighbors': 45, 'p': 1, 'weights': 'distance'}\n",
      "0.765 (+/-0.062) for {'n_neighbors': 45, 'p': 2, 'weights': 'distance'}\n",
      "0.785 (+/-0.063) for {'n_neighbors': 55, 'p': 1, 'weights': 'distance'}\n",
      "0.762 (+/-0.062) for {'n_neighbors': 55, 'p': 2, 'weights': 'distance'}\n",
      "0.781 (+/-0.062) for {'n_neighbors': 71, 'p': 1, 'weights': 'distance'}\n",
      "0.757 (+/-0.062) for {'n_neighbors': 71, 'p': 2, 'weights': 'distance'}\n",
      "CPU times: total: 344 ms\n",
      "Wall time: 11.6 s\n"
     ]
    }
   ],
   "source": [
    "%%time\n",
    "a,b,c,d,e = prepare_input(train_labels, train_rdkit2d, target = 'toxic', encoder = encoder_toxic)\n",
    "\n",
    "t_knn_rdkit2d = model_selection(knn_clf, knn_grid_parameters_des, a, c, scoring = 'roc_auc', cv=5, GridSearch = True)"
   ]
  },
  {
   "cell_type": "code",
   "execution_count": 70,
   "id": "7f8dcdb7",
   "metadata": {},
   "outputs": [
    {
     "name": "stdout",
     "output_type": "stream",
     "text": [
      "Best parameters set found on development set: {'n_neighbors': 15, 'p': 1, 'weights': 'distance'}\n",
      "Best score: 0.8050440160843321\n",
      "Grid scores on development set:\n",
      "\n",
      "0.794 (+/-0.074) for {'n_neighbors': 5, 'p': 1, 'weights': 'distance'}\n",
      "0.783 (+/-0.076) for {'n_neighbors': 5, 'p': 2, 'weights': 'distance'}\n",
      "0.803 (+/-0.072) for {'n_neighbors': 9, 'p': 1, 'weights': 'distance'}\n",
      "0.792 (+/-0.083) for {'n_neighbors': 9, 'p': 2, 'weights': 'distance'}\n",
      "0.805 (+/-0.070) for {'n_neighbors': 15, 'p': 1, 'weights': 'distance'}\n",
      "0.789 (+/-0.081) for {'n_neighbors': 15, 'p': 2, 'weights': 'distance'}\n",
      "0.802 (+/-0.074) for {'n_neighbors': 19, 'p': 1, 'weights': 'distance'}\n",
      "0.788 (+/-0.079) for {'n_neighbors': 19, 'p': 2, 'weights': 'distance'}\n",
      "0.799 (+/-0.071) for {'n_neighbors': 25, 'p': 1, 'weights': 'distance'}\n",
      "0.788 (+/-0.074) for {'n_neighbors': 25, 'p': 2, 'weights': 'distance'}\n",
      "0.797 (+/-0.068) for {'n_neighbors': 35, 'p': 1, 'weights': 'distance'}\n",
      "0.784 (+/-0.073) for {'n_neighbors': 35, 'p': 2, 'weights': 'distance'}\n",
      "0.794 (+/-0.066) for {'n_neighbors': 45, 'p': 1, 'weights': 'distance'}\n",
      "0.780 (+/-0.069) for {'n_neighbors': 45, 'p': 2, 'weights': 'distance'}\n",
      "0.791 (+/-0.067) for {'n_neighbors': 55, 'p': 1, 'weights': 'distance'}\n",
      "0.776 (+/-0.067) for {'n_neighbors': 55, 'p': 2, 'weights': 'distance'}\n",
      "0.788 (+/-0.065) for {'n_neighbors': 71, 'p': 1, 'weights': 'distance'}\n",
      "0.771 (+/-0.066) for {'n_neighbors': 71, 'p': 2, 'weights': 'distance'}\n",
      "CPU times: total: 391 ms\n",
      "Wall time: 29.4 s\n"
     ]
    }
   ],
   "source": [
    "%%time\n",
    "a,b,c,d,e = prepare_input(train_labels, train_mordred, target = 'toxic', encoder = encoder_toxic)\n",
    "\n",
    "t_knn_mordred = model_selection(knn_clf, knn_grid_parameters_des, a, c, scoring = 'roc_auc', cv=5, GridSearch = True)"
   ]
  },
  {
   "cell_type": "markdown",
   "id": "9232067f",
   "metadata": {},
   "source": [
    "Endpoint 3: EPA"
   ]
  },
  {
   "cell_type": "code",
   "execution_count": 71,
   "id": "e2cf9887",
   "metadata": {},
   "outputs": [],
   "source": [
    "encoder_epa = joblib.load('../encoder_models/encoder_epa.joblib')\n"
   ]
  },
  {
   "cell_type": "code",
   "execution_count": 72,
   "id": "aed9c0af",
   "metadata": {},
   "outputs": [
    {
     "name": "stdout",
     "output_type": "stream",
     "text": [
      "Best parameters set found on development set: {'metric': 'dice', 'n_neighbors': 9, 'weights': 'distance'}\n",
      "Best score: 0.5280720565764737\n",
      "Grid scores on development set:\n",
      "\n",
      "0.525 (+/-0.028) for {'metric': 'jaccard', 'n_neighbors': 5, 'weights': 'distance'}\n",
      "0.527 (+/-0.032) for {'metric': 'jaccard', 'n_neighbors': 9, 'weights': 'distance'}\n",
      "0.524 (+/-0.045) for {'metric': 'jaccard', 'n_neighbors': 15, 'weights': 'distance'}\n",
      "0.514 (+/-0.058) for {'metric': 'jaccard', 'n_neighbors': 19, 'weights': 'distance'}\n",
      "0.511 (+/-0.058) for {'metric': 'jaccard', 'n_neighbors': 23, 'weights': 'distance'}\n",
      "0.507 (+/-0.063) for {'metric': 'jaccard', 'n_neighbors': 25, 'weights': 'distance'}\n",
      "0.495 (+/-0.067) for {'metric': 'jaccard', 'n_neighbors': 35, 'weights': 'distance'}\n",
      "0.481 (+/-0.061) for {'metric': 'jaccard', 'n_neighbors': 45, 'weights': 'distance'}\n",
      "0.471 (+/-0.059) for {'metric': 'jaccard', 'n_neighbors': 55, 'weights': 'distance'}\n",
      "0.457 (+/-0.065) for {'metric': 'jaccard', 'n_neighbors': 71, 'weights': 'distance'}\n",
      "0.526 (+/-0.036) for {'metric': 'dice', 'n_neighbors': 5, 'weights': 'distance'}\n",
      "0.528 (+/-0.038) for {'metric': 'dice', 'n_neighbors': 9, 'weights': 'distance'}\n",
      "0.527 (+/-0.044) for {'metric': 'dice', 'n_neighbors': 15, 'weights': 'distance'}\n",
      "0.517 (+/-0.054) for {'metric': 'dice', 'n_neighbors': 19, 'weights': 'distance'}\n",
      "0.515 (+/-0.060) for {'metric': 'dice', 'n_neighbors': 23, 'weights': 'distance'}\n",
      "0.511 (+/-0.061) for {'metric': 'dice', 'n_neighbors': 25, 'weights': 'distance'}\n",
      "0.502 (+/-0.072) for {'metric': 'dice', 'n_neighbors': 35, 'weights': 'distance'}\n",
      "0.487 (+/-0.065) for {'metric': 'dice', 'n_neighbors': 45, 'weights': 'distance'}\n",
      "0.478 (+/-0.061) for {'metric': 'dice', 'n_neighbors': 55, 'weights': 'distance'}\n",
      "0.463 (+/-0.069) for {'metric': 'dice', 'n_neighbors': 71, 'weights': 'distance'}\n",
      "0.483 (+/-0.039) for {'metric': 'rogerstanimoto', 'n_neighbors': 5, 'weights': 'distance'}\n",
      "0.479 (+/-0.037) for {'metric': 'rogerstanimoto', 'n_neighbors': 9, 'weights': 'distance'}\n",
      "0.468 (+/-0.057) for {'metric': 'rogerstanimoto', 'n_neighbors': 15, 'weights': 'distance'}\n",
      "0.464 (+/-0.056) for {'metric': 'rogerstanimoto', 'n_neighbors': 19, 'weights': 'distance'}\n",
      "0.449 (+/-0.063) for {'metric': 'rogerstanimoto', 'n_neighbors': 23, 'weights': 'distance'}\n",
      "0.447 (+/-0.069) for {'metric': 'rogerstanimoto', 'n_neighbors': 25, 'weights': 'distance'}\n",
      "0.439 (+/-0.054) for {'metric': 'rogerstanimoto', 'n_neighbors': 35, 'weights': 'distance'}\n",
      "0.433 (+/-0.048) for {'metric': 'rogerstanimoto', 'n_neighbors': 45, 'weights': 'distance'}\n",
      "0.418 (+/-0.039) for {'metric': 'rogerstanimoto', 'n_neighbors': 55, 'weights': 'distance'}\n",
      "0.402 (+/-0.042) for {'metric': 'rogerstanimoto', 'n_neighbors': 71, 'weights': 'distance'}\n",
      "CPU times: total: 13.9 s\n",
      "Wall time: 28min 12s\n"
     ]
    }
   ],
   "source": [
    "%%time\n",
    "a,b,c,d,e = prepare_input(train_labels, train_ecfp6_bits, target = 'EPA_category', encoder = encoder_epa)\n",
    "\n",
    "epa_knn_ecfp6bits = model_selection(knn_clf, knn_grid_parameters_fp, a, c, scoring = 'f1_weighted', cv=5, GridSearch = True)\n",
    "\n"
   ]
  },
  {
   "cell_type": "code",
   "execution_count": 73,
   "id": "8b2f2edc",
   "metadata": {},
   "outputs": [
    {
     "name": "stdout",
     "output_type": "stream",
     "text": [
      "Best parameters set found on development set: {'metric': 'rogerstanimoto', 'n_neighbors': 15, 'weights': 'distance'}\n",
      "Best score: 0.5400022074386337\n",
      "Grid scores on development set:\n",
      "\n",
      "0.531 (+/-0.049) for {'metric': 'jaccard', 'n_neighbors': 5, 'weights': 'distance'}\n",
      "0.535 (+/-0.052) for {'metric': 'jaccard', 'n_neighbors': 9, 'weights': 'distance'}\n",
      "0.533 (+/-0.065) for {'metric': 'jaccard', 'n_neighbors': 15, 'weights': 'distance'}\n",
      "0.533 (+/-0.072) for {'metric': 'jaccard', 'n_neighbors': 19, 'weights': 'distance'}\n",
      "0.530 (+/-0.070) for {'metric': 'jaccard', 'n_neighbors': 23, 'weights': 'distance'}\n",
      "0.531 (+/-0.070) for {'metric': 'jaccard', 'n_neighbors': 25, 'weights': 'distance'}\n",
      "0.521 (+/-0.080) for {'metric': 'jaccard', 'n_neighbors': 35, 'weights': 'distance'}\n",
      "0.515 (+/-0.084) for {'metric': 'jaccard', 'n_neighbors': 45, 'weights': 'distance'}\n",
      "0.509 (+/-0.070) for {'metric': 'jaccard', 'n_neighbors': 55, 'weights': 'distance'}\n",
      "0.500 (+/-0.065) for {'metric': 'jaccard', 'n_neighbors': 71, 'weights': 'distance'}\n",
      "0.532 (+/-0.049) for {'metric': 'dice', 'n_neighbors': 5, 'weights': 'distance'}\n",
      "0.537 (+/-0.051) for {'metric': 'dice', 'n_neighbors': 9, 'weights': 'distance'}\n",
      "0.536 (+/-0.066) for {'metric': 'dice', 'n_neighbors': 15, 'weights': 'distance'}\n",
      "0.534 (+/-0.071) for {'metric': 'dice', 'n_neighbors': 19, 'weights': 'distance'}\n",
      "0.532 (+/-0.071) for {'metric': 'dice', 'n_neighbors': 23, 'weights': 'distance'}\n",
      "0.532 (+/-0.070) for {'metric': 'dice', 'n_neighbors': 25, 'weights': 'distance'}\n",
      "0.526 (+/-0.082) for {'metric': 'dice', 'n_neighbors': 35, 'weights': 'distance'}\n",
      "0.518 (+/-0.080) for {'metric': 'dice', 'n_neighbors': 45, 'weights': 'distance'}\n",
      "0.511 (+/-0.070) for {'metric': 'dice', 'n_neighbors': 55, 'weights': 'distance'}\n",
      "0.504 (+/-0.070) for {'metric': 'dice', 'n_neighbors': 71, 'weights': 'distance'}\n",
      "0.537 (+/-0.053) for {'metric': 'rogerstanimoto', 'n_neighbors': 5, 'weights': 'distance'}\n",
      "0.537 (+/-0.059) for {'metric': 'rogerstanimoto', 'n_neighbors': 9, 'weights': 'distance'}\n",
      "0.540 (+/-0.072) for {'metric': 'rogerstanimoto', 'n_neighbors': 15, 'weights': 'distance'}\n",
      "0.535 (+/-0.071) for {'metric': 'rogerstanimoto', 'n_neighbors': 19, 'weights': 'distance'}\n",
      "0.536 (+/-0.071) for {'metric': 'rogerstanimoto', 'n_neighbors': 23, 'weights': 'distance'}\n",
      "0.534 (+/-0.075) for {'metric': 'rogerstanimoto', 'n_neighbors': 25, 'weights': 'distance'}\n",
      "0.528 (+/-0.078) for {'metric': 'rogerstanimoto', 'n_neighbors': 35, 'weights': 'distance'}\n",
      "0.520 (+/-0.080) for {'metric': 'rogerstanimoto', 'n_neighbors': 45, 'weights': 'distance'}\n",
      "0.511 (+/-0.079) for {'metric': 'rogerstanimoto', 'n_neighbors': 55, 'weights': 'distance'}\n",
      "0.501 (+/-0.082) for {'metric': 'rogerstanimoto', 'n_neighbors': 71, 'weights': 'distance'}\n",
      "CPU times: total: 1.42 s\n",
      "Wall time: 2min 21s\n"
     ]
    }
   ],
   "source": [
    "%%time\n",
    "a,b,c,d,e = prepare_input(train_labels, train_maccs, target = 'EPA_category', encoder = encoder_epa)\n",
    "\n",
    "epa_knn_maccs = model_selection(knn_clf, knn_grid_parameters_fp, a, c, scoring = 'f1_weighted', cv=5, GridSearch = True)\n"
   ]
  },
  {
   "cell_type": "code",
   "execution_count": 74,
   "id": "2c3549bb",
   "metadata": {},
   "outputs": [
    {
     "name": "stdout",
     "output_type": "stream",
     "text": [
      "Best parameters set found on development set: {'metric': 'braycurtis', 'n_neighbors': 9, 'weights': 'distance'}\n",
      "Best score: 0.5286790743951763\n",
      "Grid scores on development set:\n",
      "\n",
      "0.489 (+/-0.024) for {'metric': 'hamming', 'n_neighbors': 5, 'weights': 'distance'}\n",
      "0.492 (+/-0.034) for {'metric': 'hamming', 'n_neighbors': 9, 'weights': 'distance'}\n",
      "0.479 (+/-0.030) for {'metric': 'hamming', 'n_neighbors': 15, 'weights': 'distance'}\n",
      "0.472 (+/-0.026) for {'metric': 'hamming', 'n_neighbors': 19, 'weights': 'distance'}\n",
      "0.466 (+/-0.041) for {'metric': 'hamming', 'n_neighbors': 25, 'weights': 'distance'}\n",
      "0.448 (+/-0.033) for {'metric': 'hamming', 'n_neighbors': 35, 'weights': 'distance'}\n",
      "0.433 (+/-0.042) for {'metric': 'hamming', 'n_neighbors': 45, 'weights': 'distance'}\n",
      "0.418 (+/-0.042) for {'metric': 'hamming', 'n_neighbors': 55, 'weights': 'distance'}\n",
      "0.407 (+/-0.041) for {'metric': 'hamming', 'n_neighbors': 71, 'weights': 'distance'}\n",
      "0.489 (+/-0.031) for {'metric': 'canberra', 'n_neighbors': 5, 'weights': 'distance'}\n",
      "0.495 (+/-0.043) for {'metric': 'canberra', 'n_neighbors': 9, 'weights': 'distance'}\n",
      "0.483 (+/-0.026) for {'metric': 'canberra', 'n_neighbors': 15, 'weights': 'distance'}\n",
      "0.475 (+/-0.029) for {'metric': 'canberra', 'n_neighbors': 19, 'weights': 'distance'}\n",
      "0.463 (+/-0.031) for {'metric': 'canberra', 'n_neighbors': 25, 'weights': 'distance'}\n",
      "0.446 (+/-0.042) for {'metric': 'canberra', 'n_neighbors': 35, 'weights': 'distance'}\n",
      "0.429 (+/-0.044) for {'metric': 'canberra', 'n_neighbors': 45, 'weights': 'distance'}\n",
      "0.418 (+/-0.040) for {'metric': 'canberra', 'n_neighbors': 55, 'weights': 'distance'}\n",
      "0.406 (+/-0.047) for {'metric': 'canberra', 'n_neighbors': 71, 'weights': 'distance'}\n",
      "0.521 (+/-0.039) for {'metric': 'braycurtis', 'n_neighbors': 5, 'weights': 'distance'}\n",
      "0.529 (+/-0.047) for {'metric': 'braycurtis', 'n_neighbors': 9, 'weights': 'distance'}\n",
      "0.516 (+/-0.050) for {'metric': 'braycurtis', 'n_neighbors': 15, 'weights': 'distance'}\n",
      "0.508 (+/-0.052) for {'metric': 'braycurtis', 'n_neighbors': 19, 'weights': 'distance'}\n",
      "0.504 (+/-0.060) for {'metric': 'braycurtis', 'n_neighbors': 25, 'weights': 'distance'}\n",
      "0.494 (+/-0.046) for {'metric': 'braycurtis', 'n_neighbors': 35, 'weights': 'distance'}\n",
      "0.481 (+/-0.055) for {'metric': 'braycurtis', 'n_neighbors': 45, 'weights': 'distance'}\n",
      "0.468 (+/-0.057) for {'metric': 'braycurtis', 'n_neighbors': 55, 'weights': 'distance'}\n",
      "0.453 (+/-0.062) for {'metric': 'braycurtis', 'n_neighbors': 71, 'weights': 'distance'}\n",
      "CPU times: total: 4 s\n",
      "Wall time: 7min 49s\n"
     ]
    }
   ],
   "source": [
    "%%time\n",
    "a,b,c,d,e = prepare_input(train_labels, train_ecfp6_counts, target = 'EPA_category', encoder = encoder_epa)\n",
    "\n",
    "epa_knn_ecfp6count = model_selection(knn_clf, knn_grid_parameters_fpcounts, a, c, scoring = 'f1_weighted', cv=5, GridSearch = True)\n"
   ]
  },
  {
   "cell_type": "code",
   "execution_count": 75,
   "id": "88132a00",
   "metadata": {},
   "outputs": [
    {
     "name": "stdout",
     "output_type": "stream",
     "text": [
      "Best parameters set found on development set: {'n_neighbors': 9, 'p': 1, 'weights': 'distance'}\n",
      "Best score: 0.5394396679306864\n",
      "Grid scores on development set:\n",
      "\n",
      "0.535 (+/-0.044) for {'n_neighbors': 5, 'p': 1, 'weights': 'distance'}\n",
      "0.518 (+/-0.039) for {'n_neighbors': 5, 'p': 2, 'weights': 'distance'}\n",
      "0.539 (+/-0.057) for {'n_neighbors': 9, 'p': 1, 'weights': 'distance'}\n",
      "0.519 (+/-0.048) for {'n_neighbors': 9, 'p': 2, 'weights': 'distance'}\n",
      "0.532 (+/-0.067) for {'n_neighbors': 15, 'p': 1, 'weights': 'distance'}\n",
      "0.515 (+/-0.060) for {'n_neighbors': 15, 'p': 2, 'weights': 'distance'}\n",
      "0.527 (+/-0.072) for {'n_neighbors': 19, 'p': 1, 'weights': 'distance'}\n",
      "0.507 (+/-0.063) for {'n_neighbors': 19, 'p': 2, 'weights': 'distance'}\n",
      "0.520 (+/-0.075) for {'n_neighbors': 25, 'p': 1, 'weights': 'distance'}\n",
      "0.500 (+/-0.071) for {'n_neighbors': 25, 'p': 2, 'weights': 'distance'}\n",
      "0.509 (+/-0.081) for {'n_neighbors': 35, 'p': 1, 'weights': 'distance'}\n",
      "0.492 (+/-0.077) for {'n_neighbors': 35, 'p': 2, 'weights': 'distance'}\n",
      "0.501 (+/-0.082) for {'n_neighbors': 45, 'p': 1, 'weights': 'distance'}\n",
      "0.482 (+/-0.071) for {'n_neighbors': 45, 'p': 2, 'weights': 'distance'}\n",
      "0.493 (+/-0.083) for {'n_neighbors': 55, 'p': 1, 'weights': 'distance'}\n",
      "0.473 (+/-0.072) for {'n_neighbors': 55, 'p': 2, 'weights': 'distance'}\n",
      "0.481 (+/-0.080) for {'n_neighbors': 71, 'p': 1, 'weights': 'distance'}\n",
      "0.457 (+/-0.068) for {'n_neighbors': 71, 'p': 2, 'weights': 'distance'}\n",
      "CPU times: total: 250 ms\n",
      "Wall time: 11.5 s\n"
     ]
    }
   ],
   "source": [
    "%%time\n",
    "a,b,c,d,e = prepare_input(train_labels, train_rdkit2d, target = 'EPA_category', encoder = encoder_epa)\n",
    "\n",
    "epa_knn_rdkit2d = model_selection(knn_clf, knn_grid_parameters_des, a, c, scoring = 'f1_weighted', cv=5, GridSearch = True)\n"
   ]
  },
  {
   "cell_type": "code",
   "execution_count": 76,
   "id": "295acfb1",
   "metadata": {},
   "outputs": [
    {
     "name": "stdout",
     "output_type": "stream",
     "text": [
      "Best parameters set found on development set: {'n_neighbors': 9, 'p': 1, 'weights': 'distance'}\n",
      "Best score: 0.5397530479270659\n",
      "Grid scores on development set:\n",
      "\n",
      "0.535 (+/-0.043) for {'n_neighbors': 5, 'p': 1, 'weights': 'distance'}\n",
      "0.529 (+/-0.050) for {'n_neighbors': 5, 'p': 2, 'weights': 'distance'}\n",
      "0.540 (+/-0.038) for {'n_neighbors': 9, 'p': 1, 'weights': 'distance'}\n",
      "0.531 (+/-0.054) for {'n_neighbors': 9, 'p': 2, 'weights': 'distance'}\n",
      "0.535 (+/-0.055) for {'n_neighbors': 15, 'p': 1, 'weights': 'distance'}\n",
      "0.528 (+/-0.062) for {'n_neighbors': 15, 'p': 2, 'weights': 'distance'}\n",
      "0.530 (+/-0.060) for {'n_neighbors': 19, 'p': 1, 'weights': 'distance'}\n",
      "0.520 (+/-0.057) for {'n_neighbors': 19, 'p': 2, 'weights': 'distance'}\n",
      "0.524 (+/-0.069) for {'n_neighbors': 25, 'p': 1, 'weights': 'distance'}\n",
      "0.512 (+/-0.062) for {'n_neighbors': 25, 'p': 2, 'weights': 'distance'}\n",
      "0.512 (+/-0.062) for {'n_neighbors': 35, 'p': 1, 'weights': 'distance'}\n",
      "0.499 (+/-0.064) for {'n_neighbors': 35, 'p': 2, 'weights': 'distance'}\n",
      "0.504 (+/-0.073) for {'n_neighbors': 45, 'p': 1, 'weights': 'distance'}\n",
      "0.486 (+/-0.065) for {'n_neighbors': 45, 'p': 2, 'weights': 'distance'}\n",
      "0.492 (+/-0.074) for {'n_neighbors': 55, 'p': 1, 'weights': 'distance'}\n",
      "0.479 (+/-0.071) for {'n_neighbors': 55, 'p': 2, 'weights': 'distance'}\n",
      "0.484 (+/-0.073) for {'n_neighbors': 71, 'p': 1, 'weights': 'distance'}\n",
      "0.473 (+/-0.068) for {'n_neighbors': 71, 'p': 2, 'weights': 'distance'}\n",
      "CPU times: total: 406 ms\n",
      "Wall time: 29.1 s\n"
     ]
    }
   ],
   "source": [
    "%%time\n",
    "a,b,c,d,e = prepare_input(train_labels, train_mordred, target = 'EPA_category', encoder = encoder_epa)\n",
    "\n",
    "epa_knn_mordred = model_selection(knn_clf, knn_grid_parameters_des, a, c, scoring = 'f1_weighted', cv=5, GridSearch = True)\n"
   ]
  },
  {
   "cell_type": "markdown",
   "id": "ff225554",
   "metadata": {},
   "source": [
    "Endpoint 4: logLD50"
   ]
  },
  {
   "cell_type": "code",
   "execution_count": 77,
   "id": "0a490664",
   "metadata": {},
   "outputs": [
    {
     "name": "stdout",
     "output_type": "stream",
     "text": [
      "Best parameters set found on development set: {'metric': 'dice', 'n_neighbors': 15, 'weights': 'distance'}\n",
      "Best score: -0.5332636774453705\n",
      "Grid scores on development set:\n",
      "\n",
      "-0.554 (+/-0.148) for {'metric': 'jaccard', 'n_neighbors': 5, 'weights': 'distance'}\n",
      "-0.543 (+/-0.169) for {'metric': 'jaccard', 'n_neighbors': 9, 'weights': 'distance'}\n",
      "-0.538 (+/-0.175) for {'metric': 'jaccard', 'n_neighbors': 15, 'weights': 'distance'}\n",
      "-0.541 (+/-0.173) for {'metric': 'jaccard', 'n_neighbors': 19, 'weights': 'distance'}\n",
      "-0.546 (+/-0.171) for {'metric': 'jaccard', 'n_neighbors': 23, 'weights': 'distance'}\n",
      "-0.548 (+/-0.171) for {'metric': 'jaccard', 'n_neighbors': 25, 'weights': 'distance'}\n",
      "-0.559 (+/-0.168) for {'metric': 'jaccard', 'n_neighbors': 35, 'weights': 'distance'}\n",
      "-0.566 (+/-0.167) for {'metric': 'jaccard', 'n_neighbors': 45, 'weights': 'distance'}\n",
      "-0.575 (+/-0.172) for {'metric': 'jaccard', 'n_neighbors': 55, 'weights': 'distance'}\n",
      "-0.589 (+/-0.182) for {'metric': 'jaccard', 'n_neighbors': 71, 'weights': 'distance'}\n",
      "-0.551 (+/-0.147) for {'metric': 'dice', 'n_neighbors': 5, 'weights': 'distance'}\n",
      "-0.539 (+/-0.167) for {'metric': 'dice', 'n_neighbors': 9, 'weights': 'distance'}\n",
      "-0.533 (+/-0.174) for {'metric': 'dice', 'n_neighbors': 15, 'weights': 'distance'}\n",
      "-0.536 (+/-0.172) for {'metric': 'dice', 'n_neighbors': 19, 'weights': 'distance'}\n",
      "-0.541 (+/-0.171) for {'metric': 'dice', 'n_neighbors': 23, 'weights': 'distance'}\n",
      "-0.543 (+/-0.171) for {'metric': 'dice', 'n_neighbors': 25, 'weights': 'distance'}\n",
      "-0.554 (+/-0.168) for {'metric': 'dice', 'n_neighbors': 35, 'weights': 'distance'}\n",
      "-0.560 (+/-0.167) for {'metric': 'dice', 'n_neighbors': 45, 'weights': 'distance'}\n",
      "-0.570 (+/-0.172) for {'metric': 'dice', 'n_neighbors': 55, 'weights': 'distance'}\n",
      "-0.583 (+/-0.181) for {'metric': 'dice', 'n_neighbors': 71, 'weights': 'distance'}\n",
      "-0.737 (+/-0.261) for {'metric': 'rogerstanimoto', 'n_neighbors': 5, 'weights': 'distance'}\n",
      "-0.752 (+/-0.296) for {'metric': 'rogerstanimoto', 'n_neighbors': 9, 'weights': 'distance'}\n",
      "-0.775 (+/-0.321) for {'metric': 'rogerstanimoto', 'n_neighbors': 15, 'weights': 'distance'}\n",
      "-0.786 (+/-0.331) for {'metric': 'rogerstanimoto', 'n_neighbors': 19, 'weights': 'distance'}\n",
      "-0.796 (+/-0.336) for {'metric': 'rogerstanimoto', 'n_neighbors': 23, 'weights': 'distance'}\n",
      "-0.800 (+/-0.341) for {'metric': 'rogerstanimoto', 'n_neighbors': 25, 'weights': 'distance'}\n",
      "-0.825 (+/-0.363) for {'metric': 'rogerstanimoto', 'n_neighbors': 35, 'weights': 'distance'}\n",
      "-0.845 (+/-0.383) for {'metric': 'rogerstanimoto', 'n_neighbors': 45, 'weights': 'distance'}\n",
      "-0.861 (+/-0.393) for {'metric': 'rogerstanimoto', 'n_neighbors': 55, 'weights': 'distance'}\n",
      "-0.877 (+/-0.412) for {'metric': 'rogerstanimoto', 'n_neighbors': 71, 'weights': 'distance'}\n",
      "CPU times: total: 8.3 s\n",
      "Wall time: 15min 39s\n"
     ]
    }
   ],
   "source": [
    "%%time\n",
    "a,b,c,d,e = prepare_input(train_labels, train_ecfp6_bits, target = 'logLD50_mmolkg', encoder = None)\n",
    "\n",
    "ld50_knn_ecfp6bits = model_selection(knn_reg, knn_grid_parameters_fp, a, c, scoring = 'neg_mean_squared_error', cv=5, GridSearch = True)\n"
   ]
  },
  {
   "cell_type": "code",
   "execution_count": 78,
   "id": "50db8674",
   "metadata": {},
   "outputs": [
    {
     "name": "stdout",
     "output_type": "stream",
     "text": [
      "Best parameters set found on development set: {'metric': 'rogerstanimoto', 'n_neighbors': 9, 'weights': 'distance'}\n",
      "Best score: -0.489269050087817\n",
      "Grid scores on development set:\n",
      "\n",
      "-0.504 (+/-0.081) for {'metric': 'jaccard', 'n_neighbors': 5, 'weights': 'distance'}\n",
      "-0.500 (+/-0.106) for {'metric': 'jaccard', 'n_neighbors': 9, 'weights': 'distance'}\n",
      "-0.503 (+/-0.134) for {'metric': 'jaccard', 'n_neighbors': 15, 'weights': 'distance'}\n",
      "-0.509 (+/-0.143) for {'metric': 'jaccard', 'n_neighbors': 19, 'weights': 'distance'}\n",
      "-0.516 (+/-0.147) for {'metric': 'jaccard', 'n_neighbors': 23, 'weights': 'distance'}\n",
      "-0.519 (+/-0.148) for {'metric': 'jaccard', 'n_neighbors': 25, 'weights': 'distance'}\n",
      "-0.532 (+/-0.152) for {'metric': 'jaccard', 'n_neighbors': 35, 'weights': 'distance'}\n",
      "-0.543 (+/-0.155) for {'metric': 'jaccard', 'n_neighbors': 45, 'weights': 'distance'}\n",
      "-0.552 (+/-0.156) for {'metric': 'jaccard', 'n_neighbors': 55, 'weights': 'distance'}\n",
      "-0.561 (+/-0.157) for {'metric': 'jaccard', 'n_neighbors': 71, 'weights': 'distance'}\n",
      "-0.502 (+/-0.080) for {'metric': 'dice', 'n_neighbors': 5, 'weights': 'distance'}\n",
      "-0.497 (+/-0.102) for {'metric': 'dice', 'n_neighbors': 9, 'weights': 'distance'}\n",
      "-0.499 (+/-0.129) for {'metric': 'dice', 'n_neighbors': 15, 'weights': 'distance'}\n",
      "-0.504 (+/-0.138) for {'metric': 'dice', 'n_neighbors': 19, 'weights': 'distance'}\n",
      "-0.511 (+/-0.142) for {'metric': 'dice', 'n_neighbors': 23, 'weights': 'distance'}\n",
      "-0.515 (+/-0.143) for {'metric': 'dice', 'n_neighbors': 25, 'weights': 'distance'}\n",
      "-0.527 (+/-0.148) for {'metric': 'dice', 'n_neighbors': 35, 'weights': 'distance'}\n",
      "-0.538 (+/-0.151) for {'metric': 'dice', 'n_neighbors': 45, 'weights': 'distance'}\n",
      "-0.546 (+/-0.152) for {'metric': 'dice', 'n_neighbors': 55, 'weights': 'distance'}\n",
      "-0.555 (+/-0.153) for {'metric': 'dice', 'n_neighbors': 71, 'weights': 'distance'}\n",
      "-0.497 (+/-0.085) for {'metric': 'rogerstanimoto', 'n_neighbors': 5, 'weights': 'distance'}\n",
      "-0.489 (+/-0.102) for {'metric': 'rogerstanimoto', 'n_neighbors': 9, 'weights': 'distance'}\n",
      "-0.499 (+/-0.127) for {'metric': 'rogerstanimoto', 'n_neighbors': 15, 'weights': 'distance'}\n",
      "-0.508 (+/-0.138) for {'metric': 'rogerstanimoto', 'n_neighbors': 19, 'weights': 'distance'}\n",
      "-0.512 (+/-0.144) for {'metric': 'rogerstanimoto', 'n_neighbors': 23, 'weights': 'distance'}\n",
      "-0.516 (+/-0.148) for {'metric': 'rogerstanimoto', 'n_neighbors': 25, 'weights': 'distance'}\n",
      "-0.531 (+/-0.152) for {'metric': 'rogerstanimoto', 'n_neighbors': 35, 'weights': 'distance'}\n",
      "-0.542 (+/-0.155) for {'metric': 'rogerstanimoto', 'n_neighbors': 45, 'weights': 'distance'}\n",
      "-0.551 (+/-0.160) for {'metric': 'rogerstanimoto', 'n_neighbors': 55, 'weights': 'distance'}\n",
      "-0.563 (+/-0.166) for {'metric': 'rogerstanimoto', 'n_neighbors': 71, 'weights': 'distance'}\n",
      "CPU times: total: 766 ms\n",
      "Wall time: 1min 18s\n"
     ]
    }
   ],
   "source": [
    "%%time\n",
    "a,b,c,d,e = prepare_input(train_labels, train_maccs, target = 'logLD50_mmolkg', encoder = None)\n",
    "\n",
    "ld50_knn_maccs = model_selection(knn_reg, knn_grid_parameters_fp, a, c, scoring = 'neg_mean_squared_error', cv=5, GridSearch = True)\n",
    "\n"
   ]
  },
  {
   "cell_type": "code",
   "execution_count": 79,
   "id": "74f850df",
   "metadata": {},
   "outputs": [
    {
     "name": "stdout",
     "output_type": "stream",
     "text": [
      "Best parameters set found on development set: {'metric': 'braycurtis', 'n_neighbors': 9, 'weights': 'distance'}\n",
      "Best score: -0.5249314216982528\n",
      "Grid scores on development set:\n",
      "\n",
      "-0.682 (+/-0.228) for {'metric': 'hamming', 'n_neighbors': 5, 'weights': 'distance'}\n",
      "-0.696 (+/-0.273) for {'metric': 'hamming', 'n_neighbors': 9, 'weights': 'distance'}\n",
      "-0.719 (+/-0.295) for {'metric': 'hamming', 'n_neighbors': 15, 'weights': 'distance'}\n",
      "-0.732 (+/-0.296) for {'metric': 'hamming', 'n_neighbors': 19, 'weights': 'distance'}\n",
      "-0.749 (+/-0.309) for {'metric': 'hamming', 'n_neighbors': 25, 'weights': 'distance'}\n",
      "-0.770 (+/-0.325) for {'metric': 'hamming', 'n_neighbors': 35, 'weights': 'distance'}\n",
      "-0.787 (+/-0.340) for {'metric': 'hamming', 'n_neighbors': 45, 'weights': 'distance'}\n",
      "-0.799 (+/-0.346) for {'metric': 'hamming', 'n_neighbors': 55, 'weights': 'distance'}\n",
      "-0.817 (+/-0.355) for {'metric': 'hamming', 'n_neighbors': 71, 'weights': 'distance'}\n",
      "-0.679 (+/-0.229) for {'metric': 'canberra', 'n_neighbors': 5, 'weights': 'distance'}\n",
      "-0.701 (+/-0.282) for {'metric': 'canberra', 'n_neighbors': 9, 'weights': 'distance'}\n",
      "-0.724 (+/-0.298) for {'metric': 'canberra', 'n_neighbors': 15, 'weights': 'distance'}\n",
      "-0.738 (+/-0.312) for {'metric': 'canberra', 'n_neighbors': 19, 'weights': 'distance'}\n",
      "-0.753 (+/-0.322) for {'metric': 'canberra', 'n_neighbors': 25, 'weights': 'distance'}\n",
      "-0.775 (+/-0.332) for {'metric': 'canberra', 'n_neighbors': 35, 'weights': 'distance'}\n",
      "-0.793 (+/-0.343) for {'metric': 'canberra', 'n_neighbors': 45, 'weights': 'distance'}\n",
      "-0.806 (+/-0.352) for {'metric': 'canberra', 'n_neighbors': 55, 'weights': 'distance'}\n",
      "-0.823 (+/-0.364) for {'metric': 'canberra', 'n_neighbors': 71, 'weights': 'distance'}\n",
      "-0.534 (+/-0.136) for {'metric': 'braycurtis', 'n_neighbors': 5, 'weights': 'distance'}\n",
      "-0.525 (+/-0.153) for {'metric': 'braycurtis', 'n_neighbors': 9, 'weights': 'distance'}\n",
      "-0.527 (+/-0.155) for {'metric': 'braycurtis', 'n_neighbors': 15, 'weights': 'distance'}\n",
      "-0.533 (+/-0.164) for {'metric': 'braycurtis', 'n_neighbors': 19, 'weights': 'distance'}\n",
      "-0.542 (+/-0.167) for {'metric': 'braycurtis', 'n_neighbors': 25, 'weights': 'distance'}\n",
      "-0.556 (+/-0.168) for {'metric': 'braycurtis', 'n_neighbors': 35, 'weights': 'distance'}\n",
      "-0.566 (+/-0.169) for {'metric': 'braycurtis', 'n_neighbors': 45, 'weights': 'distance'}\n",
      "-0.575 (+/-0.170) for {'metric': 'braycurtis', 'n_neighbors': 55, 'weights': 'distance'}\n",
      "-0.588 (+/-0.175) for {'metric': 'braycurtis', 'n_neighbors': 71, 'weights': 'distance'}\n",
      "CPU times: total: 2.53 s\n",
      "Wall time: 4min 30s\n"
     ]
    }
   ],
   "source": [
    "%%time\n",
    "a,b,c,d,e = prepare_input(train_labels, train_ecfp6_counts, target = 'logLD50_mmolkg', encoder = None)\n",
    "\n",
    "ld50_knn_ecfp6count = model_selection(knn_reg, knn_grid_parameters_fpcounts, a, c, scoring = 'neg_mean_squared_error', cv=5, GridSearch = True)\n"
   ]
  },
  {
   "cell_type": "code",
   "execution_count": 80,
   "id": "9203b6ec",
   "metadata": {},
   "outputs": [
    {
     "name": "stdout",
     "output_type": "stream",
     "text": [
      "Best parameters set found on development set: {'n_neighbors': 9, 'p': 1, 'weights': 'distance'}\n",
      "Best score: -0.49686610339448434\n",
      "Grid scores on development set:\n",
      "\n",
      "-0.509 (+/-0.124) for {'n_neighbors': 5, 'p': 1, 'weights': 'distance'}\n",
      "-0.550 (+/-0.160) for {'n_neighbors': 5, 'p': 2, 'weights': 'distance'}\n",
      "-0.497 (+/-0.126) for {'n_neighbors': 9, 'p': 1, 'weights': 'distance'}\n",
      "-0.538 (+/-0.151) for {'n_neighbors': 9, 'p': 2, 'weights': 'distance'}\n",
      "-0.504 (+/-0.138) for {'n_neighbors': 15, 'p': 1, 'weights': 'distance'}\n",
      "-0.539 (+/-0.168) for {'n_neighbors': 15, 'p': 2, 'weights': 'distance'}\n",
      "-0.511 (+/-0.140) for {'n_neighbors': 19, 'p': 1, 'weights': 'distance'}\n",
      "-0.544 (+/-0.159) for {'n_neighbors': 19, 'p': 2, 'weights': 'distance'}\n",
      "-0.520 (+/-0.148) for {'n_neighbors': 25, 'p': 1, 'weights': 'distance'}\n",
      "-0.554 (+/-0.164) for {'n_neighbors': 25, 'p': 2, 'weights': 'distance'}\n",
      "-0.535 (+/-0.148) for {'n_neighbors': 35, 'p': 1, 'weights': 'distance'}\n",
      "-0.565 (+/-0.164) for {'n_neighbors': 35, 'p': 2, 'weights': 'distance'}\n",
      "-0.549 (+/-0.156) for {'n_neighbors': 45, 'p': 1, 'weights': 'distance'}\n",
      "-0.577 (+/-0.170) for {'n_neighbors': 45, 'p': 2, 'weights': 'distance'}\n",
      "-0.561 (+/-0.163) for {'n_neighbors': 55, 'p': 1, 'weights': 'distance'}\n",
      "-0.588 (+/-0.178) for {'n_neighbors': 55, 'p': 2, 'weights': 'distance'}\n",
      "-0.578 (+/-0.172) for {'n_neighbors': 71, 'p': 1, 'weights': 'distance'}\n",
      "-0.604 (+/-0.191) for {'n_neighbors': 71, 'p': 2, 'weights': 'distance'}\n",
      "CPU times: total: 266 ms\n",
      "Wall time: 7.01 s\n"
     ]
    }
   ],
   "source": [
    "%%time\n",
    "a,b,c,d,e = prepare_input(train_labels, train_rdkit2d, target = 'logLD50_mmolkg', encoder = None)\n",
    "\n",
    "ld50_knn_rdkit2d = model_selection(knn_reg, knn_grid_parameters_des, a, c, scoring = 'neg_mean_squared_error', cv=5, GridSearch = True)\n"
   ]
  },
  {
   "cell_type": "code",
   "execution_count": 81,
   "id": "44dad1de",
   "metadata": {},
   "outputs": [
    {
     "name": "stdout",
     "output_type": "stream",
     "text": [
      "Best parameters set found on development set: {'n_neighbors': 9, 'p': 1, 'weights': 'distance'}\n",
      "Best score: -0.47073453589854897\n",
      "Grid scores on development set:\n",
      "\n",
      "-0.475 (+/-0.083) for {'n_neighbors': 5, 'p': 1, 'weights': 'distance'}\n",
      "-0.495 (+/-0.092) for {'n_neighbors': 5, 'p': 2, 'weights': 'distance'}\n",
      "-0.471 (+/-0.122) for {'n_neighbors': 9, 'p': 1, 'weights': 'distance'}\n",
      "-0.491 (+/-0.111) for {'n_neighbors': 9, 'p': 2, 'weights': 'distance'}\n",
      "-0.480 (+/-0.141) for {'n_neighbors': 15, 'p': 1, 'weights': 'distance'}\n",
      "-0.496 (+/-0.129) for {'n_neighbors': 15, 'p': 2, 'weights': 'distance'}\n",
      "-0.487 (+/-0.139) for {'n_neighbors': 19, 'p': 1, 'weights': 'distance'}\n",
      "-0.503 (+/-0.131) for {'n_neighbors': 19, 'p': 2, 'weights': 'distance'}\n",
      "-0.495 (+/-0.136) for {'n_neighbors': 25, 'p': 1, 'weights': 'distance'}\n",
      "-0.508 (+/-0.130) for {'n_neighbors': 25, 'p': 2, 'weights': 'distance'}\n",
      "-0.509 (+/-0.135) for {'n_neighbors': 35, 'p': 1, 'weights': 'distance'}\n",
      "-0.520 (+/-0.128) for {'n_neighbors': 35, 'p': 2, 'weights': 'distance'}\n",
      "-0.519 (+/-0.133) for {'n_neighbors': 45, 'p': 1, 'weights': 'distance'}\n",
      "-0.532 (+/-0.128) for {'n_neighbors': 45, 'p': 2, 'weights': 'distance'}\n",
      "-0.528 (+/-0.138) for {'n_neighbors': 55, 'p': 1, 'weights': 'distance'}\n",
      "-0.540 (+/-0.129) for {'n_neighbors': 55, 'p': 2, 'weights': 'distance'}\n",
      "-0.541 (+/-0.143) for {'n_neighbors': 71, 'p': 1, 'weights': 'distance'}\n",
      "-0.552 (+/-0.134) for {'n_neighbors': 71, 'p': 2, 'weights': 'distance'}\n",
      "CPU times: total: 469 ms\n",
      "Wall time: 17.1 s\n"
     ]
    }
   ],
   "source": [
    "%%time\n",
    "a,b,c,d,e = prepare_input(train_labels, train_mordred, target = 'logLD50_mmolkg', encoder = None)\n",
    "\n",
    "ld50_knn_mordred = model_selection(knn_reg, knn_grid_parameters_des, a, c, scoring = 'neg_mean_squared_error', cv=5, GridSearch = True)\n"
   ]
  },
  {
   "cell_type": "markdown",
   "id": "455150ee",
   "metadata": {},
   "source": [
    "SVM\n",
    "Endpoint 1: verytoxic\n",
    "Endpoint 1: toxic"
   ]
  },
  {
   "cell_type": "code",
   "execution_count": 82,
   "id": "a6c83312",
   "metadata": {},
   "outputs": [],
   "source": [
    "encoder_toxic = joblib.load('../encoder_models/encoder_toxic.joblib')"
   ]
  },
  {
   "cell_type": "code",
   "execution_count": 83,
   "id": "a4b148d9",
   "metadata": {},
   "outputs": [
    {
     "name": "stdout",
     "output_type": "stream",
     "text": [
      "Best parameters set found on development set: {'C': 1, 'gamma': 0.01}\n",
      "Best score: 0.7615940094038895\n",
      "Grid scores on development set:\n",
      "\n",
      "0.501 (+/-0.002) for {'C': 1, 'gamma': 10}\n",
      "0.677 (+/-0.065) for {'C': 1, 'gamma': 1}\n",
      "0.761 (+/-0.081) for {'C': 1, 'gamma': 0.1}\n",
      "0.762 (+/-0.067) for {'C': 1, 'gamma': 0.01}\n",
      "0.501 (+/-0.002) for {'C': 10, 'gamma': 10}\n",
      "0.678 (+/-0.067) for {'C': 10, 'gamma': 1}\n",
      "0.759 (+/-0.082) for {'C': 10, 'gamma': 0.1}\n",
      "0.747 (+/-0.051) for {'C': 10, 'gamma': 0.01}\n",
      "0.501 (+/-0.002) for {'C': 100, 'gamma': 10}\n",
      "0.678 (+/-0.067) for {'C': 100, 'gamma': 1}\n",
      "0.758 (+/-0.082) for {'C': 100, 'gamma': 0.1}\n",
      "0.717 (+/-0.056) for {'C': 100, 'gamma': 0.01}\n",
      "CPU times: total: 1min 30s\n",
      "Wall time: 20min 53s\n"
     ]
    }
   ],
   "source": [
    "%%time\n",
    "a,b,c,d,e = prepare_input(train_labels, train_ecfp6_bits, target = 'toxic', encoder = encoder_toxic)\n",
    "\n",
    "t_svc_ecfp6bits = model_selection(svc, svm_grid_parameters, a, c, scoring = 'roc_auc', cv=5, GridSearch = True, n_jobs=6)\n"
   ]
  },
  {
   "cell_type": "code",
   "execution_count": 84,
   "id": "d49615d8",
   "metadata": {},
   "outputs": [
    {
     "name": "stdout",
     "output_type": "stream",
     "text": [
      "Best parameters set found on development set: {'C': 1, 'gamma': 0.1}\n",
      "Best score: 0.8142373488655791\n",
      "Grid scores on development set:\n",
      "\n",
      "0.614 (+/-0.073) for {'C': 1, 'gamma': 10}\n",
      "0.750 (+/-0.108) for {'C': 1, 'gamma': 1}\n",
      "0.814 (+/-0.067) for {'C': 1, 'gamma': 0.1}\n",
      "0.785 (+/-0.065) for {'C': 1, 'gamma': 0.01}\n",
      "0.614 (+/-0.073) for {'C': 10, 'gamma': 10}\n",
      "0.748 (+/-0.107) for {'C': 10, 'gamma': 1}\n",
      "0.793 (+/-0.081) for {'C': 10, 'gamma': 0.1}\n",
      "0.801 (+/-0.068) for {'C': 10, 'gamma': 0.01}\n",
      "0.614 (+/-0.073) for {'C': 100, 'gamma': 10}\n",
      "0.748 (+/-0.107) for {'C': 100, 'gamma': 1}\n",
      "0.790 (+/-0.077) for {'C': 100, 'gamma': 0.1}\n",
      "0.781 (+/-0.080) for {'C': 100, 'gamma': 0.01}\n",
      "CPU times: total: 7min 51s\n",
      "Wall time: 8min 4s\n"
     ]
    }
   ],
   "source": [
    "%%time\n",
    "a,b,c,d,e = prepare_input(train_labels, train_maccs, target = 'toxic', encoder = encoder_toxic)\n",
    "\n",
    "t_svc_maccs = model_selection(svc, svm_grid_parameters, a, c, scoring = 'roc_auc', cv=5, GridSearch = True, n_jobs=1)\n"
   ]
  },
  {
   "cell_type": "code",
   "execution_count": 85,
   "id": "4dfe19ea",
   "metadata": {},
   "outputs": [
    {
     "name": "stdout",
     "output_type": "stream",
     "text": [
      "Best parameters set found on development set: {'C': 1, 'gamma': 0.01}\n",
      "Best score: 0.756896105732593\n",
      "Grid scores on development set:\n",
      "\n",
      "0.500 (+/-0.001) for {'C': 1, 'gamma': 10}\n",
      "0.662 (+/-0.042) for {'C': 1, 'gamma': 1}\n",
      "0.753 (+/-0.070) for {'C': 1, 'gamma': 0.1}\n",
      "0.757 (+/-0.060) for {'C': 1, 'gamma': 0.01}\n",
      "0.500 (+/-0.001) for {'C': 10, 'gamma': 10}\n",
      "0.662 (+/-0.043) for {'C': 10, 'gamma': 1}\n",
      "0.752 (+/-0.073) for {'C': 10, 'gamma': 0.1}\n",
      "0.753 (+/-0.049) for {'C': 10, 'gamma': 0.01}\n",
      "0.500 (+/-0.001) for {'C': 100, 'gamma': 10}\n",
      "0.662 (+/-0.043) for {'C': 100, 'gamma': 1}\n",
      "0.752 (+/-0.072) for {'C': 100, 'gamma': 0.1}\n",
      "0.729 (+/-0.041) for {'C': 100, 'gamma': 0.01}\n",
      "CPU times: total: 1min 8s\n",
      "Wall time: 16min 39s\n"
     ]
    }
   ],
   "source": [
    "%%time\n",
    "a,b,c,d,e = prepare_input(train_labels, train_ecfp6_counts, target = 'toxic', encoder = encoder_toxic)\n",
    "\n",
    "t_svc_ecfp6counts = model_selection(svc, svm_grid_parameters, a, c, scoring = 'roc_auc', cv=5, GridSearch = True, n_jobs=6)\n"
   ]
  },
  {
   "cell_type": "code",
   "execution_count": 86,
   "id": "866a2c8f",
   "metadata": {},
   "outputs": [
    {
     "name": "stdout",
     "output_type": "stream",
     "text": [
      "Best parameters set found on development set: {'C': 1, 'gamma': 1}\n",
      "Best score: 0.8141723132585037\n",
      "Grid scores on development set:\n",
      "\n",
      "0.777 (+/-0.092) for {'C': 1, 'gamma': 10}\n",
      "0.814 (+/-0.069) for {'C': 1, 'gamma': 1}\n",
      "0.760 (+/-0.049) for {'C': 1, 'gamma': 0.1}\n",
      "0.710 (+/-0.036) for {'C': 1, 'gamma': 0.01}\n",
      "0.769 (+/-0.083) for {'C': 10, 'gamma': 10}\n",
      "0.812 (+/-0.074) for {'C': 10, 'gamma': 1}\n",
      "0.796 (+/-0.066) for {'C': 10, 'gamma': 0.1}\n",
      "0.745 (+/-0.046) for {'C': 10, 'gamma': 0.01}\n",
      "0.768 (+/-0.080) for {'C': 100, 'gamma': 10}\n",
      "0.775 (+/-0.080) for {'C': 100, 'gamma': 1}\n",
      "0.805 (+/-0.075) for {'C': 100, 'gamma': 0.1}\n",
      "0.772 (+/-0.064) for {'C': 100, 'gamma': 0.01}\n",
      "CPU times: total: 8min 3s\n",
      "Wall time: 8min 19s\n"
     ]
    }
   ],
   "source": [
    "\n",
    "%%time\n",
    "a,b,c,d,e = prepare_input(train_labels, train_rdkit2d, target = 'toxic', encoder = encoder_toxic)\n",
    "\n",
    "t_svc_rdkit2d = model_selection(svc, svm_grid_parameters, a, c, scoring = 'roc_auc', cv=5, GridSearch = True, n_jobs=1)\n"
   ]
  },
  {
   "cell_type": "code",
   "execution_count": 87,
   "id": "9e7199ad",
   "metadata": {},
   "outputs": [
    {
     "name": "stdout",
     "output_type": "stream",
     "text": [
      "Best parameters set found on development set: {'C': 10, 'gamma': 0.1}\n",
      "Best score: 0.8216012931247432\n",
      "Grid scores on development set:\n",
      "\n",
      "0.750 (+/-0.090) for {'C': 1, 'gamma': 10}\n",
      "0.814 (+/-0.075) for {'C': 1, 'gamma': 1}\n",
      "0.803 (+/-0.063) for {'C': 1, 'gamma': 0.1}\n",
      "0.758 (+/-0.066) for {'C': 1, 'gamma': 0.01}\n",
      "0.747 (+/-0.090) for {'C': 10, 'gamma': 10}\n",
      "0.797 (+/-0.091) for {'C': 10, 'gamma': 1}\n",
      "0.822 (+/-0.060) for {'C': 10, 'gamma': 0.1}\n",
      "0.784 (+/-0.066) for {'C': 10, 'gamma': 0.01}\n",
      "0.747 (+/-0.090) for {'C': 100, 'gamma': 10}\n",
      "0.789 (+/-0.092) for {'C': 100, 'gamma': 1}\n",
      "0.806 (+/-0.067) for {'C': 100, 'gamma': 0.1}\n",
      "0.797 (+/-0.059) for {'C': 100, 'gamma': 0.01}\n",
      "CPU times: total: 18min 44s\n",
      "Wall time: 19min 21s\n"
     ]
    }
   ],
   "source": [
    "%%time\n",
    "a,b,c,d,e = prepare_input(train_labels, train_mordred, target = 'toxic', encoder = encoder_toxic)\n",
    "\n",
    "t_svc_mordred = model_selection(svc, svm_grid_parameters, a, c, scoring = 'roc_auc', cv=5, GridSearch = True, n_jobs=1)\n"
   ]
  },
  {
   "cell_type": "markdown",
   "id": "7240c56e",
   "metadata": {},
   "source": [
    "Endpoint 2: EPA"
   ]
  },
  {
   "cell_type": "code",
   "execution_count": 88,
   "id": "dc2d0568",
   "metadata": {},
   "outputs": [],
   "source": [
    "encoder_epa = joblib.load('../encoder_models/encoder_epa.joblib')"
   ]
  },
  {
   "cell_type": "code",
   "execution_count": 89,
   "id": "fd1a5752",
   "metadata": {},
   "outputs": [
    {
     "name": "stdout",
     "output_type": "stream",
     "text": [
      "Best parameters set found on development set: {'C': 10, 'gamma': 0.01}\n",
      "Best score: 0.502214881274199\n",
      "Grid scores on development set:\n",
      "\n",
      "0.335 (+/-0.002) for {'C': 1, 'gamma': 10}\n",
      "0.335 (+/-0.002) for {'C': 1, 'gamma': 1}\n",
      "0.385 (+/-0.032) for {'C': 1, 'gamma': 0.1}\n",
      "0.473 (+/-0.071) for {'C': 1, 'gamma': 0.01}\n",
      "0.335 (+/-0.002) for {'C': 10, 'gamma': 10}\n",
      "0.334 (+/-0.002) for {'C': 10, 'gamma': 1}\n",
      "0.415 (+/-0.041) for {'C': 10, 'gamma': 0.1}\n",
      "0.502 (+/-0.046) for {'C': 10, 'gamma': 0.01}\n",
      "0.335 (+/-0.002) for {'C': 100, 'gamma': 10}\n",
      "0.334 (+/-0.002) for {'C': 100, 'gamma': 1}\n",
      "0.415 (+/-0.041) for {'C': 100, 'gamma': 0.1}\n",
      "0.473 (+/-0.048) for {'C': 100, 'gamma': 0.01}\n",
      "CPU times: total: 2min 26s\n",
      "Wall time: 32min 17s\n"
     ]
    }
   ],
   "source": [
    "%%time\n",
    "a,b,c,d,e = prepare_input(train_labels, train_ecfp6_bits, target = 'EPA_category', encoder = encoder_epa)\n",
    "\n",
    "epa_svc_ecfp6bits = model_selection(svc, svm_grid_parameters, a, c, scoring = 'f1_weighted', cv=5, GridSearch = True, n_jobs=6)\n"
   ]
  },
  {
   "cell_type": "code",
   "execution_count": 90,
   "id": "dfd59527",
   "metadata": {},
   "outputs": [
    {
     "name": "stdout",
     "output_type": "stream",
     "text": [
      "Best parameters set found on development set: {'C': 10, 'gamma': 0.01}\n",
      "Best score: 0.507425711140356\n",
      "Grid scores on development set:\n",
      "\n",
      "0.335 (+/-0.002) for {'C': 1, 'gamma': 10}\n",
      "0.335 (+/-0.002) for {'C': 1, 'gamma': 1}\n",
      "0.361 (+/-0.013) for {'C': 1, 'gamma': 0.1}\n",
      "0.468 (+/-0.057) for {'C': 1, 'gamma': 0.01}\n",
      "0.335 (+/-0.002) for {'C': 10, 'gamma': 10}\n",
      "0.335 (+/-0.002) for {'C': 10, 'gamma': 1}\n",
      "0.383 (+/-0.019) for {'C': 10, 'gamma': 0.1}\n",
      "0.507 (+/-0.047) for {'C': 10, 'gamma': 0.01}\n",
      "0.335 (+/-0.002) for {'C': 100, 'gamma': 10}\n",
      "0.335 (+/-0.002) for {'C': 100, 'gamma': 1}\n",
      "0.383 (+/-0.019) for {'C': 100, 'gamma': 0.1}\n",
      "0.476 (+/-0.045) for {'C': 100, 'gamma': 0.01}\n",
      "CPU times: total: 2min 2s\n",
      "Wall time: 25min 19s\n"
     ]
    }
   ],
   "source": [
    "%%time\n",
    "a,b,c,d,e = prepare_input(train_labels, train_ecfp6_counts, target = 'EPA_category', encoder = encoder_epa)\n",
    "\n",
    "epa_svc_ecfp6counts = model_selection(svc, svm_grid_parameters, a, c, scoring = 'f1_weighted', cv=5, GridSearch = True, n_jobs=6)\n"
   ]
  },
  {
   "cell_type": "code",
   "execution_count": 91,
   "id": "f65bf7a0",
   "metadata": {},
   "outputs": [
    {
     "name": "stdout",
     "output_type": "stream",
     "text": [
      "Best parameters set found on development set: {'C': 100, 'gamma': 0.1}\n",
      "Best score: 0.538085334634762\n",
      "Grid scores on development set:\n",
      "\n",
      "0.349 (+/-0.012) for {'C': 1, 'gamma': 10}\n",
      "0.362 (+/-0.038) for {'C': 1, 'gamma': 1}\n",
      "0.532 (+/-0.089) for {'C': 1, 'gamma': 0.1}\n",
      "0.443 (+/-0.019) for {'C': 1, 'gamma': 0.01}\n",
      "0.349 (+/-0.012) for {'C': 10, 'gamma': 10}\n",
      "0.375 (+/-0.038) for {'C': 10, 'gamma': 1}\n",
      "0.538 (+/-0.039) for {'C': 10, 'gamma': 0.1}\n",
      "0.526 (+/-0.042) for {'C': 10, 'gamma': 0.01}\n",
      "0.349 (+/-0.012) for {'C': 100, 'gamma': 10}\n",
      "0.375 (+/-0.038) for {'C': 100, 'gamma': 1}\n",
      "0.538 (+/-0.034) for {'C': 100, 'gamma': 0.1}\n",
      "0.507 (+/-0.043) for {'C': 100, 'gamma': 0.01}\n",
      "CPU times: total: 15.9 s\n",
      "Wall time: 3min 35s\n"
     ]
    }
   ],
   "source": [
    "%%time\n",
    "a,b,c,d,e = prepare_input(train_labels, train_maccs, target = 'EPA_category', encoder = encoder_epa)\n",
    "\n",
    "epa_svc_maccs = model_selection(svc, svm_grid_parameters, a, c, scoring = 'f1_weighted', cv=5, GridSearch = True)\n"
   ]
  },
  {
   "cell_type": "code",
   "execution_count": 92,
   "id": "b706c85e",
   "metadata": {},
   "outputs": [
    {
     "name": "stdout",
     "output_type": "stream",
     "text": [
      "Best parameters set found on development set: {'C': 10, 'gamma': 1}\n",
      "Best score: 0.5396127137198012\n",
      "Grid scores on development set:\n",
      "\n",
      "0.450 (+/-0.090) for {'C': 1, 'gamma': 10}\n",
      "0.501 (+/-0.079) for {'C': 1, 'gamma': 1}\n",
      "0.364 (+/-0.027) for {'C': 1, 'gamma': 0.1}\n",
      "0.335 (+/-0.002) for {'C': 1, 'gamma': 0.01}\n",
      "0.480 (+/-0.086) for {'C': 10, 'gamma': 10}\n",
      "0.540 (+/-0.056) for {'C': 10, 'gamma': 1}\n",
      "0.469 (+/-0.058) for {'C': 10, 'gamma': 0.1}\n",
      "0.352 (+/-0.016) for {'C': 10, 'gamma': 0.01}\n",
      "0.481 (+/-0.084) for {'C': 100, 'gamma': 10}\n",
      "0.514 (+/-0.056) for {'C': 100, 'gamma': 1}\n",
      "0.523 (+/-0.055) for {'C': 100, 'gamma': 0.1}\n",
      "0.435 (+/-0.033) for {'C': 100, 'gamma': 0.01}\n",
      "CPU times: total: 14.9 s\n",
      "Wall time: 3min 15s\n"
     ]
    }
   ],
   "source": [
    "%%time\n",
    "a,b,c,d,e = prepare_input(train_labels, train_rdkit2d, target = 'EPA_category', encoder = encoder_epa)\n",
    "\n",
    "epa_svc_rdkit2d = model_selection(svc, svm_grid_parameters, a, c, scoring = 'f1_weighted', cv=5, GridSearch = True)\n",
    "\n"
   ]
  },
  {
   "cell_type": "code",
   "execution_count": 93,
   "id": "cbbb5d98",
   "metadata": {},
   "outputs": [
    {
     "name": "stdout",
     "output_type": "stream",
     "text": [
      "Best parameters set found on development set: {'C': 10, 'gamma': 1}\n",
      "Best score: 0.5365768484152484\n",
      "Grid scores on development set:\n",
      "\n",
      "0.348 (+/-0.019) for {'C': 1, 'gamma': 10}\n",
      "0.523 (+/-0.085) for {'C': 1, 'gamma': 1}\n",
      "0.450 (+/-0.078) for {'C': 1, 'gamma': 0.1}\n",
      "0.338 (+/-0.005) for {'C': 1, 'gamma': 0.01}\n",
      "0.365 (+/-0.039) for {'C': 10, 'gamma': 10}\n",
      "0.537 (+/-0.056) for {'C': 10, 'gamma': 1}\n",
      "0.535 (+/-0.056) for {'C': 10, 'gamma': 0.1}\n",
      "0.426 (+/-0.073) for {'C': 10, 'gamma': 0.01}\n",
      "0.365 (+/-0.039) for {'C': 100, 'gamma': 10}\n",
      "0.532 (+/-0.053) for {'C': 100, 'gamma': 1}\n",
      "0.534 (+/-0.050) for {'C': 100, 'gamma': 0.1}\n",
      "0.487 (+/-0.073) for {'C': 100, 'gamma': 0.01}\n",
      "CPU times: total: 48.7 s\n",
      "Wall time: 7min 34s\n"
     ]
    }
   ],
   "source": [
    "%%time\n",
    "a,b,c,d,e = prepare_input(train_labels, train_mordred, target = 'EPA_category', encoder = encoder_epa)\n",
    "\n",
    "epa_svc_mordred = model_selection(svc, svm_grid_parameters, a, c, scoring = 'f1_weighted', cv=5, GridSearch = True)\n"
   ]
  },
  {
   "cell_type": "code",
   "execution_count": 94,
   "id": "2f71c41a",
   "metadata": {},
   "outputs": [],
   "source": [
    "df_epa_svc_mordred = result_model_selection(epa_svc_mordred, 'epa_svc_mordred')"
   ]
  },
  {
   "cell_type": "markdown",
   "id": "b385d87a",
   "metadata": {},
   "source": [
    "Endpoint 3: logLD50"
   ]
  },
  {
   "cell_type": "code",
   "execution_count": 95,
   "id": "c64657f3",
   "metadata": {},
   "outputs": [
    {
     "name": "stdout",
     "output_type": "stream",
     "text": [
      "Best parameters set found on development set: {'C': 1, 'gamma': 0.01}\n",
      "Best score: -0.5503405736122804\n",
      "Grid scores on development set:\n",
      "\n",
      "-0.827 (+/-0.309) for {'C': 1, 'gamma': 10}\n",
      "-0.827 (+/-0.309) for {'C': 1, 'gamma': 1}\n",
      "-0.627 (+/-0.226) for {'C': 1, 'gamma': 0.1}\n",
      "-0.550 (+/-0.192) for {'C': 1, 'gamma': 0.01}\n",
      "-0.823 (+/-0.278) for {'C': 10, 'gamma': 10}\n",
      "-0.823 (+/-0.277) for {'C': 10, 'gamma': 1}\n",
      "-0.613 (+/-0.202) for {'C': 10, 'gamma': 0.1}\n",
      "-0.583 (+/-0.185) for {'C': 10, 'gamma': 0.01}\n",
      "-0.823 (+/-0.278) for {'C': 100, 'gamma': 10}\n",
      "-0.823 (+/-0.277) for {'C': 100, 'gamma': 1}\n",
      "-0.613 (+/-0.202) for {'C': 100, 'gamma': 0.1}\n",
      "-0.666 (+/-0.142) for {'C': 100, 'gamma': 0.01}\n",
      "CPU times: total: 51.7 s\n",
      "Wall time: 10min 31s\n"
     ]
    }
   ],
   "source": [
    "%%time\n",
    "a,b,c,d,e = prepare_input(train_labels, train_ecfp6_bits, target = 'logLD50_mmolkg', encoder = None)\n",
    "\n",
    "ld50_svr_ecfp6bits = model_selection(svr, svm_grid_parameters, a, c, scoring = 'neg_mean_squared_error', cv=5, GridSearch = True, n_jobs = 6)\n"
   ]
  },
  {
   "cell_type": "code",
   "execution_count": 96,
   "id": "2df11de8",
   "metadata": {},
   "outputs": [
    {
     "name": "stdout",
     "output_type": "stream",
     "text": [
      "Best parameters set found on development set: {'C': 10, 'gamma': 0.01}\n",
      "Best score: -0.5453515648632298\n",
      "Grid scores on development set:\n",
      "\n",
      "-0.827 (+/-0.309) for {'C': 1, 'gamma': 10}\n",
      "-0.827 (+/-0.309) for {'C': 1, 'gamma': 1}\n",
      "-0.675 (+/-0.262) for {'C': 1, 'gamma': 0.1}\n",
      "-0.565 (+/-0.187) for {'C': 1, 'gamma': 0.01}\n",
      "-0.823 (+/-0.278) for {'C': 10, 'gamma': 10}\n",
      "-0.823 (+/-0.278) for {'C': 10, 'gamma': 1}\n",
      "-0.661 (+/-0.239) for {'C': 10, 'gamma': 0.1}\n",
      "-0.545 (+/-0.164) for {'C': 10, 'gamma': 0.01}\n",
      "-0.823 (+/-0.278) for {'C': 100, 'gamma': 10}\n",
      "-0.823 (+/-0.278) for {'C': 100, 'gamma': 1}\n",
      "-0.661 (+/-0.239) for {'C': 100, 'gamma': 0.1}\n",
      "-0.591 (+/-0.133) for {'C': 100, 'gamma': 0.01}\n",
      "CPU times: total: 38.4 s\n",
      "Wall time: 8min\n"
     ]
    }
   ],
   "source": [
    "%%time\n",
    "a,b,c,d,e = prepare_input(train_labels, train_ecfp6_counts, target = 'logLD50_mmolkg', encoder = None)\n",
    "\n",
    "ld50_svr_ecfp6counts = model_selection(svr, svm_grid_parameters, a, c, scoring = 'neg_mean_squared_error', cv=5, GridSearch = True, n_jobs = 6)\n",
    "\n"
   ]
  },
  {
   "cell_type": "code",
   "execution_count": 97,
   "id": "0a25b9ee",
   "metadata": {},
   "outputs": [
    {
     "name": "stdout",
     "output_type": "stream",
     "text": [
      "Best parameters set found on development set: {'C': 10, 'gamma': 0.1}\n",
      "Best score: -0.45290928375622946\n",
      "Grid scores on development set:\n",
      "\n",
      "-0.812 (+/-0.279) for {'C': 1, 'gamma': 10}\n",
      "-0.766 (+/-0.262) for {'C': 1, 'gamma': 1}\n",
      "-0.464 (+/-0.141) for {'C': 1, 'gamma': 0.1}\n",
      "-0.522 (+/-0.140) for {'C': 1, 'gamma': 0.01}\n",
      "-0.808 (+/-0.254) for {'C': 10, 'gamma': 10}\n",
      "-0.754 (+/-0.243) for {'C': 10, 'gamma': 1}\n",
      "-0.453 (+/-0.084) for {'C': 10, 'gamma': 0.1}\n",
      "-0.478 (+/-0.163) for {'C': 10, 'gamma': 0.01}\n",
      "-0.808 (+/-0.254) for {'C': 100, 'gamma': 10}\n",
      "-0.754 (+/-0.243) for {'C': 100, 'gamma': 1}\n",
      "-0.457 (+/-0.081) for {'C': 100, 'gamma': 0.1}\n",
      "-0.554 (+/-0.176) for {'C': 100, 'gamma': 0.01}\n",
      "CPU times: total: 5.77 s\n",
      "Wall time: 1min 15s\n"
     ]
    }
   ],
   "source": [
    "%%time\n",
    "a,b,c,d,e = prepare_input(train_labels, train_maccs, target = 'logLD50_mmolkg', encoder = None)\n",
    "\n",
    "ld50_svr_maccs = model_selection(svr, svm_grid_parameters, a, c, scoring = 'neg_mean_squared_error', cv=5, GridSearch = True)\n"
   ]
  },
  {
   "cell_type": "code",
   "execution_count": 98,
   "id": "3f383eac",
   "metadata": {},
   "outputs": [
    {
     "name": "stdout",
     "output_type": "stream",
     "text": [
      "Best parameters set found on development set: {'C': 1, 'gamma': 1}\n",
      "Best score: -0.49409442627621375\n",
      "Grid scores on development set:\n",
      "\n",
      "-0.593 (+/-0.224) for {'C': 1, 'gamma': 10}\n",
      "-0.494 (+/-0.148) for {'C': 1, 'gamma': 1}\n",
      "-0.590 (+/-0.171) for {'C': 1, 'gamma': 0.1}\n",
      "-0.687 (+/-0.269) for {'C': 1, 'gamma': 0.01}\n",
      "-0.580 (+/-0.211) for {'C': 10, 'gamma': 10}\n",
      "-0.499 (+/-0.179) for {'C': 10, 'gamma': 1}\n",
      "-0.533 (+/-0.139) for {'C': 10, 'gamma': 0.1}\n",
      "-0.620 (+/-0.180) for {'C': 10, 'gamma': 0.01}\n",
      "-0.580 (+/-0.212) for {'C': 100, 'gamma': 10}\n",
      "-0.592 (+/-0.226) for {'C': 100, 'gamma': 1}\n",
      "-0.530 (+/-0.167) for {'C': 100, 'gamma': 0.1}\n",
      "-0.576 (+/-0.147) for {'C': 100, 'gamma': 0.01}\n",
      "CPU times: total: 4.73 s\n",
      "Wall time: 1min 8s\n"
     ]
    }
   ],
   "source": [
    "%%time\n",
    "a,b,c,d,e = prepare_input(train_labels, train_rdkit2d, target = 'logLD50_mmolkg', encoder = None)\n",
    "\n",
    "ld50_svr_rdkit2d = model_selection(svr, svm_grid_parameters, a, c, scoring = 'neg_mean_squared_error', cv=5, GridSearch = True)\n"
   ]
  },
  {
   "cell_type": "code",
   "execution_count": 99,
   "id": "8dbe94f9",
   "metadata": {},
   "outputs": [
    {
     "name": "stdout",
     "output_type": "stream",
     "text": [
      "Best parameters set found on development set: {'C': 10, 'gamma': 0.1}\n",
      "Best score: -0.46021540702351055\n",
      "Grid scores on development set:\n",
      "\n",
      "-0.788 (+/-0.294) for {'C': 1, 'gamma': 10}\n",
      "-0.473 (+/-0.155) for {'C': 1, 'gamma': 1}\n",
      "-0.496 (+/-0.098) for {'C': 1, 'gamma': 0.1}\n",
      "-0.601 (+/-0.176) for {'C': 1, 'gamma': 0.01}\n",
      "-0.777 (+/-0.267) for {'C': 10, 'gamma': 10}\n",
      "-0.471 (+/-0.141) for {'C': 10, 'gamma': 1}\n",
      "-0.460 (+/-0.102) for {'C': 10, 'gamma': 0.1}\n",
      "-0.548 (+/-0.127) for {'C': 10, 'gamma': 0.01}\n",
      "-0.777 (+/-0.267) for {'C': 100, 'gamma': 10}\n",
      "-0.476 (+/-0.141) for {'C': 100, 'gamma': 1}\n",
      "-0.537 (+/-0.161) for {'C': 100, 'gamma': 0.1}\n",
      "-0.507 (+/-0.120) for {'C': 100, 'gamma': 0.01}\n",
      "CPU times: total: 11 s\n",
      "Wall time: 2min 23s\n"
     ]
    }
   ],
   "source": [
    "%%time\n",
    "a,b,c,d,e = prepare_input(train_labels, train_mordred, target = 'logLD50_mmolkg', encoder = None)\n",
    "\n",
    "ld50_svr_mordred = model_selection(svr, svm_grid_parameters, a, c, scoring = 'neg_mean_squared_error', cv=5, GridSearch = True)\n"
   ]
  },
  {
   "cell_type": "markdown",
   "id": "709b898d",
   "metadata": {},
   "source": [
    "Random Forest Model\n",
    "Endpoint 1: toxic"
   ]
  },
  {
   "cell_type": "code",
   "execution_count": 30,
   "id": "42ca63d2",
   "metadata": {},
   "outputs": [],
   "source": [
    "encoder_toxic = joblib.load('../encoder_models/encoder_toxic.joblib')"
   ]
  },
  {
   "cell_type": "code",
   "execution_count": 101,
   "id": "902b07d2",
   "metadata": {},
   "outputs": [
    {
     "name": "stdout",
     "output_type": "stream",
     "text": [
      "Best parameters set found on development set: {'n_estimators': 500, 'min_samples_split': 10, 'min_samples_leaf': 4, 'max_features': 'sqrt', 'max_depth': 80, 'bootstrap': False}\n",
      "Best score: 0.7962032805553361\n",
      "Grid scores on development set:\n",
      "\n",
      "0.762 (+/-0.077) for {'n_estimators': 1500, 'min_samples_split': 2, 'min_samples_leaf': 6, 'max_features': 'log2', 'max_depth': 35, 'bootstrap': True}\n",
      "0.795 (+/-0.067) for {'n_estimators': 500, 'min_samples_split': 10, 'min_samples_leaf': 4, 'max_features': 'sqrt', 'max_depth': 50, 'bootstrap': False}\n",
      "0.787 (+/-0.072) for {'n_estimators': 1500, 'min_samples_split': 5, 'min_samples_leaf': 2, 'max_features': 'log2', 'max_depth': 65, 'bootstrap': True}\n",
      "0.733 (+/-0.079) for {'n_estimators': 1500, 'min_samples_split': 10, 'min_samples_leaf': 6, 'max_features': 'log2', 'max_depth': 5, 'bootstrap': False}\n",
      "0.733 (+/-0.074) for {'n_estimators': 500, 'min_samples_split': 2, 'min_samples_leaf': 4, 'max_features': 'log2', 'max_depth': 5, 'bootstrap': False}\n",
      "0.754 (+/-0.078) for {'n_estimators': 1500, 'min_samples_split': 5, 'min_samples_leaf': 6, 'max_features': 'log2', 'max_depth': 20, 'bootstrap': True}\n",
      "0.782 (+/-0.070) for {'n_estimators': 500, 'min_samples_split': 2, 'min_samples_leaf': 6, 'max_features': 'sqrt', 'max_depth': None, 'bootstrap': True}\n",
      "0.734 (+/-0.080) for {'n_estimators': 1500, 'min_samples_split': 2, 'min_samples_leaf': 4, 'max_features': 'log2', 'max_depth': 5, 'bootstrap': True}\n",
      "0.771 (+/-0.072) for {'n_estimators': 500, 'min_samples_split': 10, 'min_samples_leaf': 6, 'max_features': 'sqrt', 'max_depth': 20, 'bootstrap': False}\n",
      "0.787 (+/-0.073) for {'n_estimators': 1500, 'min_samples_split': 10, 'min_samples_leaf': 2, 'max_features': 'log2', 'max_depth': 65, 'bootstrap': True}\n",
      "0.790 (+/-0.069) for {'n_estimators': 500, 'min_samples_split': 2, 'min_samples_leaf': 6, 'max_features': 'sqrt', 'max_depth': 80, 'bootstrap': False}\n",
      "0.775 (+/-0.072) for {'n_estimators': 1500, 'min_samples_split': 2, 'min_samples_leaf': 2, 'max_features': 'sqrt', 'max_depth': 20, 'bootstrap': True}\n",
      "0.764 (+/-0.075) for {'n_estimators': 1500, 'min_samples_split': 5, 'min_samples_leaf': 4, 'max_features': 'log2', 'max_depth': 20, 'bootstrap': False}\n",
      "0.796 (+/-0.067) for {'n_estimators': 500, 'min_samples_split': 10, 'min_samples_leaf': 4, 'max_features': 'sqrt', 'max_depth': 80, 'bootstrap': False}\n",
      "0.776 (+/-0.075) for {'n_estimators': 1500, 'min_samples_split': 10, 'min_samples_leaf': 6, 'max_features': 'log2', 'max_depth': None, 'bootstrap': False}\n",
      "0.723 (+/-0.075) for {'n_estimators': 1500, 'min_samples_split': 10, 'min_samples_leaf': 2, 'max_features': 'sqrt', 'max_depth': 5, 'bootstrap': False}\n",
      "0.760 (+/-0.075) for {'n_estimators': 500, 'min_samples_split': 5, 'min_samples_leaf': 6, 'max_features': 'log2', 'max_depth': 35, 'bootstrap': True}\n",
      "0.782 (+/-0.070) for {'n_estimators': 1500, 'min_samples_split': 5, 'min_samples_leaf': 6, 'max_features': 'sqrt', 'max_depth': 65, 'bootstrap': True}\n",
      "0.732 (+/-0.076) for {'n_estimators': 500, 'min_samples_split': 2, 'min_samples_leaf': 2, 'max_features': 'log2', 'max_depth': 5, 'bootstrap': True}\n",
      "0.795 (+/-0.066) for {'n_estimators': 1500, 'min_samples_split': 10, 'min_samples_leaf': 2, 'max_features': 'sqrt', 'max_depth': 50, 'bootstrap': True}\n",
      "CPU times: total: 1h 54min 27s\n",
      "Wall time: 21min 16s\n"
     ]
    }
   ],
   "source": [
    "%%time\n",
    "a,b,c,d,e = prepare_input(train_labels, train_ecfp6_bits, target = 'toxic', encoder = encoder_toxic)\n",
    "\n",
    "t_rf_ecfp6bits = model_selection(rf_clf, rf_grid_parameters, a, c, scoring = 'roc_auc', cv=5, GridSearch = False, n_iter=20,n_jobs=1)\n"
   ]
  },
  {
   "cell_type": "code",
   "execution_count": 102,
   "id": "b6ed5c38",
   "metadata": {},
   "outputs": [
    {
     "name": "stdout",
     "output_type": "stream",
     "text": [
      "Best parameters set found on development set: {'n_estimators': 1500, 'min_samples_split': 5, 'min_samples_leaf': 2, 'max_features': 'sqrt', 'max_depth': 20, 'bootstrap': False}\n",
      "Best score: 0.8377562807671433\n",
      "Grid scores on development set:\n",
      "\n",
      "0.837 (+/-0.059) for {'n_estimators': 1500, 'min_samples_split': 10, 'min_samples_leaf': 2, 'max_features': 'sqrt', 'max_depth': 20, 'bootstrap': False}\n",
      "0.767 (+/-0.064) for {'n_estimators': 500, 'min_samples_split': 10, 'min_samples_leaf': 6, 'max_features': 'log2', 'max_depth': 5, 'bootstrap': False}\n",
      "0.833 (+/-0.059) for {'n_estimators': 500, 'min_samples_split': 5, 'min_samples_leaf': 2, 'max_features': 'log2', 'max_depth': 35, 'bootstrap': True}\n",
      "0.830 (+/-0.057) for {'n_estimators': 1500, 'min_samples_split': 10, 'min_samples_leaf': 2, 'max_features': 'log2', 'max_depth': 20, 'bootstrap': True}\n",
      "0.831 (+/-0.058) for {'n_estimators': 500, 'min_samples_split': 2, 'min_samples_leaf': 6, 'max_features': 'log2', 'max_depth': 20, 'bootstrap': False}\n",
      "0.772 (+/-0.067) for {'n_estimators': 500, 'min_samples_split': 5, 'min_samples_leaf': 2, 'max_features': 'sqrt', 'max_depth': 5, 'bootstrap': False}\n",
      "0.825 (+/-0.057) for {'n_estimators': 1500, 'min_samples_split': 2, 'min_samples_leaf': 6, 'max_features': 'log2', 'max_depth': 80, 'bootstrap': True}\n",
      "0.767 (+/-0.062) for {'n_estimators': 1500, 'min_samples_split': 5, 'min_samples_leaf': 2, 'max_features': 'log2', 'max_depth': 5, 'bootstrap': True}\n",
      "0.837 (+/-0.059) for {'n_estimators': 1500, 'min_samples_split': 2, 'min_samples_leaf': 2, 'max_features': 'sqrt', 'max_depth': 65, 'bootstrap': False}\n",
      "0.836 (+/-0.059) for {'n_estimators': 500, 'min_samples_split': 2, 'min_samples_leaf': 2, 'max_features': 'sqrt', 'max_depth': 65, 'bootstrap': False}\n",
      "0.771 (+/-0.065) for {'n_estimators': 1500, 'min_samples_split': 10, 'min_samples_leaf': 4, 'max_features': 'sqrt', 'max_depth': 5, 'bootstrap': True}\n",
      "0.772 (+/-0.066) for {'n_estimators': 1500, 'min_samples_split': 2, 'min_samples_leaf': 4, 'max_features': 'sqrt', 'max_depth': 5, 'bootstrap': False}\n",
      "0.835 (+/-0.058) for {'n_estimators': 1500, 'min_samples_split': 5, 'min_samples_leaf': 4, 'max_features': 'log2', 'max_depth': 20, 'bootstrap': False}\n",
      "0.834 (+/-0.058) for {'n_estimators': 1500, 'min_samples_split': 10, 'min_samples_leaf': 6, 'max_features': 'sqrt', 'max_depth': None, 'bootstrap': False}\n",
      "0.825 (+/-0.057) for {'n_estimators': 1500, 'min_samples_split': 5, 'min_samples_leaf': 6, 'max_features': 'log2', 'max_depth': 80, 'bootstrap': True}\n",
      "0.837 (+/-0.058) for {'n_estimators': 1500, 'min_samples_split': 2, 'min_samples_leaf': 2, 'max_features': 'log2', 'max_depth': None, 'bootstrap': False}\n",
      "0.772 (+/-0.066) for {'n_estimators': 1500, 'min_samples_split': 2, 'min_samples_leaf': 2, 'max_features': 'sqrt', 'max_depth': 5, 'bootstrap': False}\n",
      "0.768 (+/-0.063) for {'n_estimators': 1500, 'min_samples_split': 5, 'min_samples_leaf': 4, 'max_features': 'log2', 'max_depth': 5, 'bootstrap': False}\n",
      "0.772 (+/-0.066) for {'n_estimators': 1500, 'min_samples_split': 10, 'min_samples_leaf': 2, 'max_features': 'sqrt', 'max_depth': 5, 'bootstrap': False}\n",
      "0.768 (+/-0.063) for {'n_estimators': 1500, 'min_samples_split': 10, 'min_samples_leaf': 2, 'max_features': 'log2', 'max_depth': 5, 'bootstrap': False}\n",
      "0.837 (+/-0.059) for {'n_estimators': 500, 'min_samples_split': 5, 'min_samples_leaf': 2, 'max_features': 'sqrt', 'max_depth': 35, 'bootstrap': False}\n",
      "0.836 (+/-0.058) for {'n_estimators': 500, 'min_samples_split': 10, 'min_samples_leaf': 2, 'max_features': 'log2', 'max_depth': None, 'bootstrap': False}\n",
      "0.771 (+/-0.065) for {'n_estimators': 500, 'min_samples_split': 2, 'min_samples_leaf': 2, 'max_features': 'sqrt', 'max_depth': 5, 'bootstrap': True}\n",
      "0.833 (+/-0.058) for {'n_estimators': 1500, 'min_samples_split': 2, 'min_samples_leaf': 6, 'max_features': 'log2', 'max_depth': 50, 'bootstrap': False}\n",
      "0.828 (+/-0.058) for {'n_estimators': 1500, 'min_samples_split': 2, 'min_samples_leaf': 6, 'max_features': 'sqrt', 'max_depth': 80, 'bootstrap': True}\n",
      "0.831 (+/-0.058) for {'n_estimators': 500, 'min_samples_split': 10, 'min_samples_leaf': 6, 'max_features': 'log2', 'max_depth': 20, 'bootstrap': False}\n",
      "0.834 (+/-0.058) for {'n_estimators': 500, 'min_samples_split': 2, 'min_samples_leaf': 6, 'max_features': 'sqrt', 'max_depth': None, 'bootstrap': False}\n",
      "0.834 (+/-0.059) for {'n_estimators': 500, 'min_samples_split': 10, 'min_samples_leaf': 4, 'max_features': 'sqrt', 'max_depth': 50, 'bootstrap': False}\n",
      "0.838 (+/-0.058) for {'n_estimators': 1500, 'min_samples_split': 5, 'min_samples_leaf': 2, 'max_features': 'sqrt', 'max_depth': 20, 'bootstrap': False}\n",
      "0.830 (+/-0.058) for {'n_estimators': 1500, 'min_samples_split': 10, 'min_samples_leaf': 4, 'max_features': 'sqrt', 'max_depth': None, 'bootstrap': True}\n",
      "CPU times: total: 1h 31min 4s\n",
      "Wall time: 18min 18s\n"
     ]
    }
   ],
   "source": [
    "%%time\n",
    "a,b,c,d,e = prepare_input(train_labels, train_rdkit2d, target = 'toxic', encoder = encoder_toxic)\n",
    "\n",
    "t_rf_rdkit2d = model_selection(rf_clf, rf_grid_parameters, a, c, scoring = 'roc_auc', cv=5, GridSearch = False, n_iter=30,n_jobs=1)\n"
   ]
  },
  {
   "cell_type": "code",
   "execution_count": 103,
   "id": "08ef8af6",
   "metadata": {},
   "outputs": [
    {
     "name": "stdout",
     "output_type": "stream",
     "text": [
      "Best parameters set found on development set: {'n_estimators': 1500, 'min_samples_split': 2, 'min_samples_leaf': 4, 'max_features': 'sqrt', 'max_depth': None, 'bootstrap': False}\n",
      "Best score: 0.8350463294079058\n",
      "Grid scores on development set:\n",
      "\n",
      "0.783 (+/-0.063) for {'n_estimators': 500, 'min_samples_split': 5, 'min_samples_leaf': 4, 'max_features': 'log2', 'max_depth': 5, 'bootstrap': True}\n",
      "0.832 (+/-0.060) for {'n_estimators': 1500, 'min_samples_split': 2, 'min_samples_leaf': 4, 'max_features': 'log2', 'max_depth': 20, 'bootstrap': False}\n",
      "0.831 (+/-0.061) for {'n_estimators': 500, 'min_samples_split': 5, 'min_samples_leaf': 4, 'max_features': 'log2', 'max_depth': 20, 'bootstrap': False}\n",
      "0.829 (+/-0.062) for {'n_estimators': 500, 'min_samples_split': 5, 'min_samples_leaf': 2, 'max_features': 'sqrt', 'max_depth': None, 'bootstrap': True}\n",
      "0.829 (+/-0.061) for {'n_estimators': 1500, 'min_samples_split': 2, 'min_samples_leaf': 2, 'max_features': 'log2', 'max_depth': 50, 'bootstrap': True}\n",
      "0.830 (+/-0.062) for {'n_estimators': 500, 'min_samples_split': 2, 'min_samples_leaf': 2, 'max_features': 'sqrt', 'max_depth': 35, 'bootstrap': True}\n",
      "0.829 (+/-0.060) for {'n_estimators': 500, 'min_samples_split': 10, 'min_samples_leaf': 6, 'max_features': 'log2', 'max_depth': 80, 'bootstrap': False}\n",
      "0.830 (+/-0.061) for {'n_estimators': 500, 'min_samples_split': 2, 'min_samples_leaf': 4, 'max_features': 'sqrt', 'max_depth': 80, 'bootstrap': True}\n",
      "0.829 (+/-0.061) for {'n_estimators': 1500, 'min_samples_split': 5, 'min_samples_leaf': 2, 'max_features': 'log2', 'max_depth': 20, 'bootstrap': True}\n",
      "0.828 (+/-0.062) for {'n_estimators': 500, 'min_samples_split': 10, 'min_samples_leaf': 4, 'max_features': 'sqrt', 'max_depth': 50, 'bootstrap': True}\n",
      "0.784 (+/-0.063) for {'n_estimators': 1500, 'min_samples_split': 10, 'min_samples_leaf': 4, 'max_features': 'log2', 'max_depth': 5, 'bootstrap': False}\n",
      "0.831 (+/-0.061) for {'n_estimators': 500, 'min_samples_split': 2, 'min_samples_leaf': 4, 'max_features': 'log2', 'max_depth': 20, 'bootstrap': False}\n",
      "0.828 (+/-0.061) for {'n_estimators': 1500, 'min_samples_split': 10, 'min_samples_leaf': 2, 'max_features': 'log2', 'max_depth': 50, 'bootstrap': True}\n",
      "0.828 (+/-0.061) for {'n_estimators': 500, 'min_samples_split': 10, 'min_samples_leaf': 2, 'max_features': 'sqrt', 'max_depth': 50, 'bootstrap': True}\n",
      "0.783 (+/-0.062) for {'n_estimators': 1500, 'min_samples_split': 2, 'min_samples_leaf': 2, 'max_features': 'log2', 'max_depth': 5, 'bootstrap': True}\n",
      "0.828 (+/-0.060) for {'n_estimators': 500, 'min_samples_split': 10, 'min_samples_leaf': 2, 'max_features': 'log2', 'max_depth': 80, 'bootstrap': True}\n",
      "0.833 (+/-0.062) for {'n_estimators': 500, 'min_samples_split': 10, 'min_samples_leaf': 2, 'max_features': 'sqrt', 'max_depth': 80, 'bootstrap': False}\n",
      "0.825 (+/-0.060) for {'n_estimators': 1500, 'min_samples_split': 10, 'min_samples_leaf': 6, 'max_features': 'log2', 'max_depth': None, 'bootstrap': True}\n",
      "0.784 (+/-0.063) for {'n_estimators': 1500, 'min_samples_split': 5, 'min_samples_leaf': 6, 'max_features': 'log2', 'max_depth': 5, 'bootstrap': False}\n",
      "0.828 (+/-0.062) for {'n_estimators': 500, 'min_samples_split': 10, 'min_samples_leaf': 4, 'max_features': 'sqrt', 'max_depth': 80, 'bootstrap': True}\n",
      "0.828 (+/-0.060) for {'n_estimators': 500, 'min_samples_split': 5, 'min_samples_leaf': 6, 'max_features': 'sqrt', 'max_depth': None, 'bootstrap': True}\n",
      "0.830 (+/-0.061) for {'n_estimators': 500, 'min_samples_split': 5, 'min_samples_leaf': 4, 'max_features': 'sqrt', 'max_depth': 35, 'bootstrap': True}\n",
      "0.825 (+/-0.060) for {'n_estimators': 1500, 'min_samples_split': 5, 'min_samples_leaf': 6, 'max_features': 'log2', 'max_depth': 35, 'bootstrap': True}\n",
      "0.832 (+/-0.063) for {'n_estimators': 500, 'min_samples_split': 5, 'min_samples_leaf': 2, 'max_features': 'log2', 'max_depth': 80, 'bootstrap': False}\n",
      "0.835 (+/-0.060) for {'n_estimators': 1500, 'min_samples_split': 2, 'min_samples_leaf': 4, 'max_features': 'sqrt', 'max_depth': None, 'bootstrap': False}\n",
      "0.830 (+/-0.061) for {'n_estimators': 500, 'min_samples_split': 2, 'min_samples_leaf': 4, 'max_features': 'sqrt', 'max_depth': None, 'bootstrap': True}\n",
      "0.834 (+/-0.061) for {'n_estimators': 500, 'min_samples_split': 2, 'min_samples_leaf': 2, 'max_features': 'sqrt', 'max_depth': 65, 'bootstrap': False}\n",
      "0.830 (+/-0.060) for {'n_estimators': 1500, 'min_samples_split': 2, 'min_samples_leaf': 4, 'max_features': 'sqrt', 'max_depth': 50, 'bootstrap': True}\n",
      "0.783 (+/-0.062) for {'n_estimators': 500, 'min_samples_split': 2, 'min_samples_leaf': 6, 'max_features': 'log2', 'max_depth': 5, 'bootstrap': True}\n",
      "0.835 (+/-0.060) for {'n_estimators': 500, 'min_samples_split': 5, 'min_samples_leaf': 4, 'max_features': 'sqrt', 'max_depth': 65, 'bootstrap': False}\n",
      "CPU times: total: 2h 55min 23s\n",
      "Wall time: 31min 53s\n"
     ]
    }
   ],
   "source": [
    "%%time\n",
    "a,b,c,d,e = prepare_input(train_labels, train_mordred, target = 'toxic', encoder = encoder_toxic)\n",
    "\n",
    "t_rf_mordred = model_selection(rf_clf, rf_grid_parameters, a, c, scoring = 'roc_auc', cv=5, GridSearch = False, n_iter=30,n_jobs=1)\n"
   ]
  },
  {
   "cell_type": "code",
   "execution_count": 104,
   "id": "74f7ec10",
   "metadata": {},
   "outputs": [
    {
     "name": "stdout",
     "output_type": "stream",
     "text": [
      "Best parameters set found on development set: {'n_estimators': 1500, 'min_samples_split': 2, 'min_samples_leaf': 2, 'max_features': 'sqrt', 'max_depth': None, 'bootstrap': False}\n",
      "Best score: 0.7997123705018435\n",
      "Grid scores on development set:\n",
      "\n",
      "0.779 (+/-0.064) for {'n_estimators': 1500, 'min_samples_split': 10, 'min_samples_leaf': 6, 'max_features': 'sqrt', 'max_depth': 35, 'bootstrap': True}\n",
      "0.710 (+/-0.063) for {'n_estimators': 1500, 'min_samples_split': 2, 'min_samples_leaf': 2, 'max_features': 'sqrt', 'max_depth': 5, 'bootstrap': True}\n",
      "0.761 (+/-0.066) for {'n_estimators': 500, 'min_samples_split': 5, 'min_samples_leaf': 4, 'max_features': 'log2', 'max_depth': 20, 'bootstrap': True}\n",
      "0.760 (+/-0.067) for {'n_estimators': 1500, 'min_samples_split': 2, 'min_samples_leaf': 4, 'max_features': 'log2', 'max_depth': 20, 'bootstrap': True}\n",
      "0.792 (+/-0.062) for {'n_estimators': 1500, 'min_samples_split': 10, 'min_samples_leaf': 4, 'max_features': 'sqrt', 'max_depth': 35, 'bootstrap': False}\n",
      "0.793 (+/-0.061) for {'n_estimators': 500, 'min_samples_split': 5, 'min_samples_leaf': 2, 'max_features': 'sqrt', 'max_depth': None, 'bootstrap': True}\n",
      "0.780 (+/-0.063) for {'n_estimators': 500, 'min_samples_split': 5, 'min_samples_leaf': 6, 'max_features': 'sqrt', 'max_depth': 50, 'bootstrap': True}\n",
      "0.777 (+/-0.064) for {'n_estimators': 500, 'min_samples_split': 2, 'min_samples_leaf': 6, 'max_features': 'sqrt', 'max_depth': 20, 'bootstrap': False}\n",
      "0.773 (+/-0.063) for {'n_estimators': 500, 'min_samples_split': 10, 'min_samples_leaf': 4, 'max_features': 'log2', 'max_depth': 65, 'bootstrap': True}\n",
      "0.766 (+/-0.064) for {'n_estimators': 500, 'min_samples_split': 2, 'min_samples_leaf': 4, 'max_features': 'log2', 'max_depth': 20, 'bootstrap': False}\n",
      "0.788 (+/-0.065) for {'n_estimators': 500, 'min_samples_split': 2, 'min_samples_leaf': 2, 'max_features': 'sqrt', 'max_depth': 20, 'bootstrap': False}\n",
      "0.795 (+/-0.064) for {'n_estimators': 1500, 'min_samples_split': 2, 'min_samples_leaf': 2, 'max_features': 'sqrt', 'max_depth': 65, 'bootstrap': True}\n",
      "0.794 (+/-0.062) for {'n_estimators': 1500, 'min_samples_split': 10, 'min_samples_leaf': 4, 'max_features': 'sqrt', 'max_depth': 80, 'bootstrap': False}\n",
      "0.788 (+/-0.061) for {'n_estimators': 500, 'min_samples_split': 5, 'min_samples_leaf': 6, 'max_features': 'sqrt', 'max_depth': 65, 'bootstrap': False}\n",
      "0.755 (+/-0.067) for {'n_estimators': 1500, 'min_samples_split': 2, 'min_samples_leaf': 6, 'max_features': 'log2', 'max_depth': 20, 'bootstrap': True}\n",
      "0.777 (+/-0.060) for {'n_estimators': 500, 'min_samples_split': 5, 'min_samples_leaf': 4, 'max_features': 'log2', 'max_depth': 35, 'bootstrap': False}\n",
      "0.781 (+/-0.061) for {'n_estimators': 1500, 'min_samples_split': 5, 'min_samples_leaf': 4, 'max_features': 'log2', 'max_depth': 65, 'bootstrap': False}\n",
      "0.709 (+/-0.060) for {'n_estimators': 500, 'min_samples_split': 2, 'min_samples_leaf': 2, 'max_features': 'sqrt', 'max_depth': 5, 'bootstrap': True}\n",
      "0.777 (+/-0.060) for {'n_estimators': 500, 'min_samples_split': 2, 'min_samples_leaf': 4, 'max_features': 'log2', 'max_depth': 35, 'bootstrap': False}\n",
      "0.800 (+/-0.061) for {'n_estimators': 1500, 'min_samples_split': 2, 'min_samples_leaf': 2, 'max_features': 'sqrt', 'max_depth': None, 'bootstrap': False}\n",
      "CPU times: total: 1h 13min 46s\n",
      "Wall time: 17min 18s\n"
     ]
    }
   ],
   "source": [
    "%%time\n",
    "a,b,c,d,e = prepare_input(train_labels, train_ecfp6_counts, target = 'toxic', encoder = encoder_toxic)\n",
    "\n",
    "t_rf_ecfp6count = model_selection(rf_clf, rf_grid_parameters, a, c, scoring = 'roc_auc', cv=5, GridSearch = False, n_iter=20,n_jobs=1)\n"
   ]
  },
  {
   "cell_type": "code",
   "execution_count": 31,
   "id": "76a58574",
   "metadata": {},
   "outputs": [
    {
     "name": "stdout",
     "output_type": "stream",
     "text": [
      "Best parameters set found on development set: {'n_estimators': 1500, 'min_samples_split': 2, 'min_samples_leaf': 2, 'max_features': 'log2', 'max_depth': None, 'bootstrap': False}\n",
      "Best score: 0.8220226523893197\n",
      "Grid scores on development set:\n",
      "\n",
      "0.822 (+/-0.067) for {'n_estimators': 1500, 'min_samples_split': 2, 'min_samples_leaf': 2, 'max_features': 'sqrt', 'max_depth': 80, 'bootstrap': False}\n",
      "0.822 (+/-0.068) for {'n_estimators': 500, 'min_samples_split': 5, 'min_samples_leaf': 2, 'max_features': 'sqrt', 'max_depth': 50, 'bootstrap': False}\n",
      "0.822 (+/-0.065) for {'n_estimators': 1500, 'min_samples_split': 2, 'min_samples_leaf': 2, 'max_features': 'log2', 'max_depth': None, 'bootstrap': False}\n",
      "0.822 (+/-0.065) for {'n_estimators': 1500, 'min_samples_split': 2, 'min_samples_leaf': 2, 'max_features': 'log2', 'max_depth': 50, 'bootstrap': False}\n",
      "0.760 (+/-0.073) for {'n_estimators': 500, 'min_samples_split': 2, 'min_samples_leaf': 6, 'max_features': 'log2', 'max_depth': 5, 'bootstrap': False}\n",
      "0.822 (+/-0.067) for {'n_estimators': 1500, 'min_samples_split': 2, 'min_samples_leaf': 2, 'max_features': 'sqrt', 'max_depth': 35, 'bootstrap': False}\n",
      "0.812 (+/-0.066) for {'n_estimators': 500, 'min_samples_split': 5, 'min_samples_leaf': 4, 'max_features': 'log2', 'max_depth': 50, 'bootstrap': True}\n",
      "0.820 (+/-0.066) for {'n_estimators': 1500, 'min_samples_split': 2, 'min_samples_leaf': 4, 'max_features': 'sqrt', 'max_depth': 65, 'bootstrap': False}\n",
      "0.819 (+/-0.066) for {'n_estimators': 500, 'min_samples_split': 10, 'min_samples_leaf': 4, 'max_features': 'sqrt', 'max_depth': 20, 'bootstrap': False}\n",
      "0.816 (+/-0.066) for {'n_estimators': 500, 'min_samples_split': 5, 'min_samples_leaf': 6, 'max_features': 'sqrt', 'max_depth': 35, 'bootstrap': False}\n",
      "0.812 (+/-0.065) for {'n_estimators': 500, 'min_samples_split': 2, 'min_samples_leaf': 6, 'max_features': 'log2', 'max_depth': 20, 'bootstrap': False}\n",
      "0.760 (+/-0.076) for {'n_estimators': 1500, 'min_samples_split': 10, 'min_samples_leaf': 6, 'max_features': 'log2', 'max_depth': 5, 'bootstrap': True}\n",
      "0.811 (+/-0.065) for {'n_estimators': 1500, 'min_samples_split': 10, 'min_samples_leaf': 6, 'max_features': 'sqrt', 'max_depth': 20, 'bootstrap': True}\n",
      "0.821 (+/-0.064) for {'n_estimators': 1500, 'min_samples_split': 10, 'min_samples_leaf': 2, 'max_features': 'log2', 'max_depth': 35, 'bootstrap': False}\n",
      "0.818 (+/-0.066) for {'n_estimators': 500, 'min_samples_split': 5, 'min_samples_leaf': 2, 'max_features': 'log2', 'max_depth': 35, 'bootstrap': True}\n",
      "0.817 (+/-0.065) for {'n_estimators': 500, 'min_samples_split': 2, 'min_samples_leaf': 4, 'max_features': 'log2', 'max_depth': 20, 'bootstrap': False}\n",
      "0.760 (+/-0.077) for {'n_estimators': 1500, 'min_samples_split': 10, 'min_samples_leaf': 4, 'max_features': 'log2', 'max_depth': 5, 'bootstrap': False}\n",
      "0.817 (+/-0.066) for {'n_estimators': 1500, 'min_samples_split': 2, 'min_samples_leaf': 4, 'max_features': 'log2', 'max_depth': 65, 'bootstrap': False}\n",
      "0.820 (+/-0.065) for {'n_estimators': 500, 'min_samples_split': 2, 'min_samples_leaf': 4, 'max_features': 'sqrt', 'max_depth': None, 'bootstrap': False}\n",
      "0.816 (+/-0.066) for {'n_estimators': 1500, 'min_samples_split': 5, 'min_samples_leaf': 6, 'max_features': 'sqrt', 'max_depth': 65, 'bootstrap': False}\n",
      "0.820 (+/-0.065) for {'n_estimators': 500, 'min_samples_split': 2, 'min_samples_leaf': 4, 'max_features': 'sqrt', 'max_depth': 65, 'bootstrap': False}\n",
      "0.816 (+/-0.064) for {'n_estimators': 500, 'min_samples_split': 10, 'min_samples_leaf': 4, 'max_features': 'sqrt', 'max_depth': 50, 'bootstrap': True}\n",
      "0.812 (+/-0.064) for {'n_estimators': 500, 'min_samples_split': 2, 'min_samples_leaf': 6, 'max_features': 'sqrt', 'max_depth': 50, 'bootstrap': True}\n",
      "0.817 (+/-0.066) for {'n_estimators': 500, 'min_samples_split': 5, 'min_samples_leaf': 4, 'max_features': 'log2', 'max_depth': 65, 'bootstrap': False}\n",
      "0.821 (+/-0.064) for {'n_estimators': 500, 'min_samples_split': 10, 'min_samples_leaf': 2, 'max_features': 'log2', 'max_depth': None, 'bootstrap': False}\n",
      "0.811 (+/-0.067) for {'n_estimators': 500, 'min_samples_split': 10, 'min_samples_leaf': 4, 'max_features': 'log2', 'max_depth': None, 'bootstrap': True}\n",
      "0.817 (+/-0.065) for {'n_estimators': 1500, 'min_samples_split': 10, 'min_samples_leaf': 2, 'max_features': 'log2', 'max_depth': 35, 'bootstrap': True}\n",
      "0.760 (+/-0.076) for {'n_estimators': 1500, 'min_samples_split': 10, 'min_samples_leaf': 2, 'max_features': 'log2', 'max_depth': 5, 'bootstrap': True}\n",
      "0.822 (+/-0.066) for {'n_estimators': 500, 'min_samples_split': 5, 'min_samples_leaf': 2, 'max_features': 'sqrt', 'max_depth': 20, 'bootstrap': False}\n",
      "0.807 (+/-0.065) for {'n_estimators': 1500, 'min_samples_split': 10, 'min_samples_leaf': 6, 'max_features': 'log2', 'max_depth': None, 'bootstrap': True}\n",
      "CPU times: total: 26min 10s\n",
      "Wall time: 7min 25s\n"
     ]
    }
   ],
   "source": [
    "%%time\n",
    "a,b,c,d,e = prepare_input(train_labels, train_maccs, target = 'toxic', encoder = encoder_toxic)\n",
    "\n",
    "t_rf_maccs = model_selection(rf_clf, rf_grid_parameters, a, c, scoring = 'roc_auc', cv=5, GridSearch = False, n_iter=30,n_jobs=1)"
   ]
  },
  {
   "cell_type": "markdown",
   "id": "a6b9f071",
   "metadata": {},
   "source": [
    "Endpoint 2: EPA"
   ]
  },
  {
   "cell_type": "code",
   "execution_count": 105,
   "id": "154d529e",
   "metadata": {},
   "outputs": [],
   "source": [
    "encoder_epa = joblib.load('../encoder_models/encoder_epa.joblib')"
   ]
  },
  {
   "cell_type": "code",
   "execution_count": 106,
   "id": "a9537a08",
   "metadata": {},
   "outputs": [
    {
     "name": "stdout",
     "output_type": "stream",
     "text": [
      "Best parameters set found on development set: {'n_estimators': 1500, 'min_samples_split': 5, 'min_samples_leaf': 2, 'max_features': 'sqrt', 'max_depth': 50, 'bootstrap': False}\n",
      "Best score: 0.4962855434736273\n",
      "Grid scores on development set:\n",
      "\n",
      "0.457 (+/-0.066) for {'n_estimators': 1500, 'min_samples_split': 2, 'min_samples_leaf': 6, 'max_features': 'sqrt', 'max_depth': 35, 'bootstrap': False}\n",
      "0.480 (+/-0.057) for {'n_estimators': 500, 'min_samples_split': 10, 'min_samples_leaf': 4, 'max_features': 'sqrt', 'max_depth': 80, 'bootstrap': False}\n",
      "0.334 (+/-0.000) for {'n_estimators': 1500, 'min_samples_split': 10, 'min_samples_leaf': 2, 'max_features': 'log2', 'max_depth': 5, 'bootstrap': True}\n",
      "0.374 (+/-0.024) for {'n_estimators': 500, 'min_samples_split': 5, 'min_samples_leaf': 4, 'max_features': 'log2', 'max_depth': 50, 'bootstrap': True}\n",
      "0.377 (+/-0.019) for {'n_estimators': 1500, 'min_samples_split': 2, 'min_samples_leaf': 6, 'max_features': 'log2', 'max_depth': 65, 'bootstrap': False}\n",
      "0.425 (+/-0.051) for {'n_estimators': 1500, 'min_samples_split': 5, 'min_samples_leaf': 4, 'max_features': 'sqrt', 'max_depth': 20, 'bootstrap': True}\n",
      "0.361 (+/-0.021) for {'n_estimators': 1500, 'min_samples_split': 2, 'min_samples_leaf': 6, 'max_features': 'log2', 'max_depth': 50, 'bootstrap': True}\n",
      "0.432 (+/-0.045) for {'n_estimators': 1500, 'min_samples_split': 5, 'min_samples_leaf': 2, 'max_features': 'log2', 'max_depth': 80, 'bootstrap': True}\n",
      "0.463 (+/-0.070) for {'n_estimators': 500, 'min_samples_split': 2, 'min_samples_leaf': 4, 'max_features': 'sqrt', 'max_depth': 50, 'bootstrap': True}\n",
      "0.479 (+/-0.062) for {'n_estimators': 1500, 'min_samples_split': 2, 'min_samples_leaf': 4, 'max_features': 'sqrt', 'max_depth': 50, 'bootstrap': False}\n",
      "0.362 (+/-0.020) for {'n_estimators': 500, 'min_samples_split': 10, 'min_samples_leaf': 6, 'max_features': 'log2', 'max_depth': 80, 'bootstrap': True}\n",
      "0.359 (+/-0.021) for {'n_estimators': 500, 'min_samples_split': 10, 'min_samples_leaf': 6, 'max_features': 'log2', 'max_depth': 50, 'bootstrap': True}\n",
      "0.378 (+/-0.018) for {'n_estimators': 500, 'min_samples_split': 5, 'min_samples_leaf': 6, 'max_features': 'log2', 'max_depth': None, 'bootstrap': False}\n",
      "0.334 (+/-0.000) for {'n_estimators': 1500, 'min_samples_split': 10, 'min_samples_leaf': 4, 'max_features': 'log2', 'max_depth': 5, 'bootstrap': True}\n",
      "0.459 (+/-0.067) for {'n_estimators': 500, 'min_samples_split': 5, 'min_samples_leaf': 2, 'max_features': 'sqrt', 'max_depth': 20, 'bootstrap': False}\n",
      "0.382 (+/-0.020) for {'n_estimators': 500, 'min_samples_split': 5, 'min_samples_leaf': 4, 'max_features': 'log2', 'max_depth': None, 'bootstrap': True}\n",
      "0.334 (+/-0.000) for {'n_estimators': 1500, 'min_samples_split': 2, 'min_samples_leaf': 2, 'max_features': 'log2', 'max_depth': 5, 'bootstrap': False}\n",
      "0.404 (+/-0.028) for {'n_estimators': 500, 'min_samples_split': 5, 'min_samples_leaf': 4, 'max_features': 'log2', 'max_depth': 65, 'bootstrap': False}\n",
      "0.346 (+/-0.018) for {'n_estimators': 500, 'min_samples_split': 2, 'min_samples_leaf': 4, 'max_features': 'sqrt', 'max_depth': 5, 'bootstrap': False}\n",
      "0.484 (+/-0.054) for {'n_estimators': 1500, 'min_samples_split': 10, 'min_samples_leaf': 2, 'max_features': 'sqrt', 'max_depth': 65, 'bootstrap': True}\n",
      "0.342 (+/-0.011) for {'n_estimators': 1500, 'min_samples_split': 2, 'min_samples_leaf': 6, 'max_features': 'sqrt', 'max_depth': 5, 'bootstrap': True}\n",
      "0.481 (+/-0.069) for {'n_estimators': 500, 'min_samples_split': 10, 'min_samples_leaf': 2, 'max_features': 'sqrt', 'max_depth': 50, 'bootstrap': True}\n",
      "0.482 (+/-0.059) for {'n_estimators': 500, 'min_samples_split': 5, 'min_samples_leaf': 2, 'max_features': 'sqrt', 'max_depth': 50, 'bootstrap': True}\n",
      "0.433 (+/-0.053) for {'n_estimators': 500, 'min_samples_split': 5, 'min_samples_leaf': 2, 'max_features': 'log2', 'max_depth': 80, 'bootstrap': True}\n",
      "0.380 (+/-0.022) for {'n_estimators': 500, 'min_samples_split': 2, 'min_samples_leaf': 4, 'max_features': 'log2', 'max_depth': 65, 'bootstrap': True}\n",
      "0.346 (+/-0.019) for {'n_estimators': 500, 'min_samples_split': 5, 'min_samples_leaf': 2, 'max_features': 'sqrt', 'max_depth': 5, 'bootstrap': False}\n",
      "0.480 (+/-0.063) for {'n_estimators': 500, 'min_samples_split': 2, 'min_samples_leaf': 4, 'max_features': 'sqrt', 'max_depth': 65, 'bootstrap': False}\n",
      "0.496 (+/-0.060) for {'n_estimators': 1500, 'min_samples_split': 5, 'min_samples_leaf': 2, 'max_features': 'sqrt', 'max_depth': 50, 'bootstrap': False}\n",
      "0.452 (+/-0.055) for {'n_estimators': 500, 'min_samples_split': 10, 'min_samples_leaf': 2, 'max_features': 'log2', 'max_depth': 65, 'bootstrap': False}\n",
      "0.487 (+/-0.055) for {'n_estimators': 1500, 'min_samples_split': 2, 'min_samples_leaf': 2, 'max_features': 'sqrt', 'max_depth': None, 'bootstrap': True}\n",
      "CPU times: total: 3h 43min 31s\n",
      "Wall time: 47min 46s\n"
     ]
    }
   ],
   "source": [
    "%%time\n",
    "a,b,c,d,e = prepare_input(train_labels, train_ecfp6_bits, target = 'EPA_category', encoder = encoder_epa)\n",
    "\n",
    "epa_rf_ecfp6bits = model_selection(rf_clf, rf_grid_parameters, a, c, scoring = 'f1_weighted', cv=5, GridSearch = False, n_iter=30,n_jobs=1)\n"
   ]
  },
  {
   "cell_type": "code",
   "execution_count": 107,
   "id": "e7b6fc6e",
   "metadata": {},
   "outputs": [
    {
     "name": "stdout",
     "output_type": "stream",
     "text": [
      "Best parameters set found on development set: {'n_estimators': 1500, 'min_samples_split': 5, 'min_samples_leaf': 2, 'max_features': 'sqrt', 'max_depth': 35, 'bootstrap': False}\n",
      "Best score: 0.5387384859360687\n",
      "Grid scores on development set:\n",
      "\n",
      "0.498 (+/-0.080) for {'n_estimators': 500, 'min_samples_split': 2, 'min_samples_leaf': 6, 'max_features': 'log2', 'max_depth': 80, 'bootstrap': False}\n",
      "0.498 (+/-0.076) for {'n_estimators': 500, 'min_samples_split': 2, 'min_samples_leaf': 4, 'max_features': 'log2', 'max_depth': None, 'bootstrap': True}\n",
      "0.393 (+/-0.032) for {'n_estimators': 500, 'min_samples_split': 10, 'min_samples_leaf': 2, 'max_features': 'sqrt', 'max_depth': 5, 'bootstrap': False}\n",
      "0.500 (+/-0.074) for {'n_estimators': 1500, 'min_samples_split': 5, 'min_samples_leaf': 6, 'max_features': 'sqrt', 'max_depth': 65, 'bootstrap': True}\n",
      "0.479 (+/-0.074) for {'n_estimators': 500, 'min_samples_split': 2, 'min_samples_leaf': 6, 'max_features': 'log2', 'max_depth': None, 'bootstrap': True}\n",
      "0.512 (+/-0.080) for {'n_estimators': 1500, 'min_samples_split': 5, 'min_samples_leaf': 4, 'max_features': 'log2', 'max_depth': 50, 'bootstrap': False}\n",
      "0.498 (+/-0.076) for {'n_estimators': 500, 'min_samples_split': 2, 'min_samples_leaf': 4, 'max_features': 'log2', 'max_depth': 80, 'bootstrap': True}\n",
      "0.513 (+/-0.076) for {'n_estimators': 500, 'min_samples_split': 10, 'min_samples_leaf': 6, 'max_features': 'sqrt', 'max_depth': 50, 'bootstrap': False}\n",
      "0.513 (+/-0.079) for {'n_estimators': 500, 'min_samples_split': 2, 'min_samples_leaf': 4, 'max_features': 'sqrt', 'max_depth': 80, 'bootstrap': True}\n",
      "0.365 (+/-0.034) for {'n_estimators': 1500, 'min_samples_split': 10, 'min_samples_leaf': 6, 'max_features': 'log2', 'max_depth': 5, 'bootstrap': True}\n",
      "0.500 (+/-0.078) for {'n_estimators': 1500, 'min_samples_split': 10, 'min_samples_leaf': 6, 'max_features': 'log2', 'max_depth': 35, 'bootstrap': False}\n",
      "0.500 (+/-0.078) for {'n_estimators': 1500, 'min_samples_split': 5, 'min_samples_leaf': 6, 'max_features': 'log2', 'max_depth': 50, 'bootstrap': False}\n",
      "0.366 (+/-0.035) for {'n_estimators': 500, 'min_samples_split': 10, 'min_samples_leaf': 6, 'max_features': 'log2', 'max_depth': 5, 'bootstrap': False}\n",
      "0.365 (+/-0.034) for {'n_estimators': 1500, 'min_samples_split': 2, 'min_samples_leaf': 6, 'max_features': 'log2', 'max_depth': 5, 'bootstrap': True}\n",
      "0.512 (+/-0.078) for {'n_estimators': 1500, 'min_samples_split': 10, 'min_samples_leaf': 4, 'max_features': 'sqrt', 'max_depth': 65, 'bootstrap': True}\n",
      "0.533 (+/-0.071) for {'n_estimators': 500, 'min_samples_split': 5, 'min_samples_leaf': 2, 'max_features': 'sqrt', 'max_depth': 35, 'bootstrap': True}\n",
      "0.521 (+/-0.077) for {'n_estimators': 1500, 'min_samples_split': 2, 'min_samples_leaf': 2, 'max_features': 'log2', 'max_depth': 65, 'bootstrap': True}\n",
      "0.510 (+/-0.080) for {'n_estimators': 1500, 'min_samples_split': 10, 'min_samples_leaf': 4, 'max_features': 'log2', 'max_depth': 20, 'bootstrap': False}\n",
      "0.539 (+/-0.075) for {'n_estimators': 1500, 'min_samples_split': 5, 'min_samples_leaf': 2, 'max_features': 'sqrt', 'max_depth': 35, 'bootstrap': False}\n",
      "0.391 (+/-0.033) for {'n_estimators': 500, 'min_samples_split': 5, 'min_samples_leaf': 6, 'max_features': 'sqrt', 'max_depth': 5, 'bootstrap': False}\n",
      "0.524 (+/-0.076) for {'n_estimators': 500, 'min_samples_split': 2, 'min_samples_leaf': 2, 'max_features': 'log2', 'max_depth': 35, 'bootstrap': True}\n",
      "0.513 (+/-0.074) for {'n_estimators': 1500, 'min_samples_split': 2, 'min_samples_leaf': 6, 'max_features': 'sqrt', 'max_depth': 65, 'bootstrap': False}\n",
      "0.512 (+/-0.080) for {'n_estimators': 1500, 'min_samples_split': 2, 'min_samples_leaf': 4, 'max_features': 'log2', 'max_depth': 65, 'bootstrap': False}\n",
      "0.525 (+/-0.079) for {'n_estimators': 1500, 'min_samples_split': 10, 'min_samples_leaf': 4, 'max_features': 'sqrt', 'max_depth': 20, 'bootstrap': False}\n",
      "0.513 (+/-0.076) for {'n_estimators': 500, 'min_samples_split': 10, 'min_samples_leaf': 6, 'max_features': 'sqrt', 'max_depth': 65, 'bootstrap': False}\n",
      "0.527 (+/-0.074) for {'n_estimators': 500, 'min_samples_split': 2, 'min_samples_leaf': 4, 'max_features': 'sqrt', 'max_depth': 35, 'bootstrap': False}\n",
      "0.533 (+/-0.072) for {'n_estimators': 500, 'min_samples_split': 5, 'min_samples_leaf': 2, 'max_features': 'sqrt', 'max_depth': 65, 'bootstrap': True}\n",
      "0.532 (+/-0.080) for {'n_estimators': 1500, 'min_samples_split': 2, 'min_samples_leaf': 2, 'max_features': 'log2', 'max_depth': 80, 'bootstrap': False}\n",
      "0.366 (+/-0.033) for {'n_estimators': 1500, 'min_samples_split': 10, 'min_samples_leaf': 4, 'max_features': 'log2', 'max_depth': 5, 'bootstrap': True}\n",
      "0.498 (+/-0.081) for {'n_estimators': 500, 'min_samples_split': 2, 'min_samples_leaf': 4, 'max_features': 'log2', 'max_depth': 20, 'bootstrap': True}\n",
      "CPU times: total: 58min 43s\n",
      "Wall time: 34min 12s\n"
     ]
    }
   ],
   "source": [
    "%%time\n",
    "a,b,c,d,e = prepare_input(train_labels, train_maccs, target = 'EPA_category', encoder = encoder_epa)\n",
    "\n",
    "epa_rf_maccs = model_selection(rf_clf, rf_grid_parameters, a, c, scoring = 'f1_weighted', cv=5, GridSearch = False, n_iter=30,n_jobs=1)\n"
   ]
  },
  {
   "cell_type": "code",
   "execution_count": 108,
   "id": "602ae4e1",
   "metadata": {},
   "outputs": [
    {
     "name": "stdout",
     "output_type": "stream",
     "text": [
      "Best parameters set found on development set: {'n_estimators': 1500, 'min_samples_split': 5, 'min_samples_leaf': 2, 'max_features': 'sqrt', 'max_depth': None, 'bootstrap': False}\n",
      "Best score: 0.49182092154551615\n",
      "Grid scores on development set:\n",
      "\n",
      "0.492 (+/-0.055) for {'n_estimators': 1500, 'min_samples_split': 5, 'min_samples_leaf': 2, 'max_features': 'sqrt', 'max_depth': None, 'bootstrap': False}\n",
      "0.357 (+/-0.016) for {'n_estimators': 500, 'min_samples_split': 10, 'min_samples_leaf': 4, 'max_features': 'log2', 'max_depth': 20, 'bootstrap': True}\n",
      "0.442 (+/-0.057) for {'n_estimators': 1500, 'min_samples_split': 2, 'min_samples_leaf': 2, 'max_features': 'sqrt', 'max_depth': 20, 'bootstrap': True}\n",
      "0.339 (+/-0.009) for {'n_estimators': 1500, 'min_samples_split': 5, 'min_samples_leaf': 4, 'max_features': 'sqrt', 'max_depth': 5, 'bootstrap': False}\n",
      "0.467 (+/-0.053) for {'n_estimators': 1500, 'min_samples_split': 5, 'min_samples_leaf': 4, 'max_features': 'sqrt', 'max_depth': None, 'bootstrap': False}\n",
      "0.438 (+/-0.064) for {'n_estimators': 500, 'min_samples_split': 5, 'min_samples_leaf': 4, 'max_features': 'sqrt', 'max_depth': 50, 'bootstrap': True}\n",
      "0.455 (+/-0.052) for {'n_estimators': 500, 'min_samples_split': 10, 'min_samples_leaf': 2, 'max_features': 'sqrt', 'max_depth': 20, 'bootstrap': False}\n",
      "0.338 (+/-0.008) for {'n_estimators': 500, 'min_samples_split': 2, 'min_samples_leaf': 2, 'max_features': 'sqrt', 'max_depth': 5, 'bootstrap': True}\n",
      "0.339 (+/-0.009) for {'n_estimators': 1500, 'min_samples_split': 5, 'min_samples_leaf': 6, 'max_features': 'sqrt', 'max_depth': 5, 'bootstrap': False}\n",
      "0.467 (+/-0.052) for {'n_estimators': 1500, 'min_samples_split': 2, 'min_samples_leaf': 4, 'max_features': 'sqrt', 'max_depth': 65, 'bootstrap': False}\n",
      "0.356 (+/-0.021) for {'n_estimators': 500, 'min_samples_split': 2, 'min_samples_leaf': 6, 'max_features': 'log2', 'max_depth': 50, 'bootstrap': True}\n",
      "0.440 (+/-0.062) for {'n_estimators': 1500, 'min_samples_split': 10, 'min_samples_leaf': 4, 'max_features': 'sqrt', 'max_depth': 80, 'bootstrap': True}\n",
      "0.419 (+/-0.055) for {'n_estimators': 500, 'min_samples_split': 10, 'min_samples_leaf': 6, 'max_features': 'sqrt', 'max_depth': 65, 'bootstrap': True}\n",
      "0.464 (+/-0.056) for {'n_estimators': 500, 'min_samples_split': 10, 'min_samples_leaf': 2, 'max_features': 'sqrt', 'max_depth': 50, 'bootstrap': True}\n",
      "0.419 (+/-0.056) for {'n_estimators': 500, 'min_samples_split': 5, 'min_samples_leaf': 6, 'max_features': 'sqrt', 'max_depth': 80, 'bootstrap': True}\n",
      "0.365 (+/-0.025) for {'n_estimators': 500, 'min_samples_split': 2, 'min_samples_leaf': 4, 'max_features': 'log2', 'max_depth': 80, 'bootstrap': True}\n",
      "0.365 (+/-0.027) for {'n_estimators': 500, 'min_samples_split': 10, 'min_samples_leaf': 6, 'max_features': 'log2', 'max_depth': 50, 'bootstrap': False}\n",
      "0.490 (+/-0.050) for {'n_estimators': 1500, 'min_samples_split': 5, 'min_samples_leaf': 2, 'max_features': 'sqrt', 'max_depth': 50, 'bootstrap': False}\n",
      "0.336 (+/-0.002) for {'n_estimators': 1500, 'min_samples_split': 10, 'min_samples_leaf': 6, 'max_features': 'log2', 'max_depth': 5, 'bootstrap': False}\n",
      "0.382 (+/-0.033) for {'n_estimators': 1500, 'min_samples_split': 10, 'min_samples_leaf': 4, 'max_features': 'log2', 'max_depth': 80, 'bootstrap': False}\n",
      "0.471 (+/-0.051) for {'n_estimators': 500, 'min_samples_split': 5, 'min_samples_leaf': 2, 'max_features': 'sqrt', 'max_depth': 65, 'bootstrap': True}\n",
      "0.422 (+/-0.038) for {'n_estimators': 1500, 'min_samples_split': 5, 'min_samples_leaf': 2, 'max_features': 'log2', 'max_depth': 80, 'bootstrap': False}\n",
      "0.440 (+/-0.067) for {'n_estimators': 500, 'min_samples_split': 5, 'min_samples_leaf': 4, 'max_features': 'sqrt', 'max_depth': 65, 'bootstrap': True}\n",
      "0.366 (+/-0.026) for {'n_estimators': 1500, 'min_samples_split': 10, 'min_samples_leaf': 2, 'max_features': 'log2', 'max_depth': 20, 'bootstrap': True}\n",
      "0.420 (+/-0.060) for {'n_estimators': 1500, 'min_samples_split': 2, 'min_samples_leaf': 6, 'max_features': 'sqrt', 'max_depth': 80, 'bootstrap': True}\n",
      "0.476 (+/-0.048) for {'n_estimators': 500, 'min_samples_split': 2, 'min_samples_leaf': 2, 'max_features': 'sqrt', 'max_depth': None, 'bootstrap': True}\n",
      "0.465 (+/-0.058) for {'n_estimators': 500, 'min_samples_split': 10, 'min_samples_leaf': 4, 'max_features': 'sqrt', 'max_depth': 50, 'bootstrap': False}\n",
      "0.470 (+/-0.052) for {'n_estimators': 500, 'min_samples_split': 10, 'min_samples_leaf': 2, 'max_features': 'sqrt', 'max_depth': 80, 'bootstrap': True}\n",
      "0.336 (+/-0.002) for {'n_estimators': 1500, 'min_samples_split': 5, 'min_samples_leaf': 4, 'max_features': 'log2', 'max_depth': 5, 'bootstrap': True}\n",
      "0.429 (+/-0.059) for {'n_estimators': 1500, 'min_samples_split': 2, 'min_samples_leaf': 6, 'max_features': 'sqrt', 'max_depth': 20, 'bootstrap': False}\n",
      "CPU times: total: 2h 10min 21s\n",
      "Wall time: 40min 50s\n"
     ]
    }
   ],
   "source": [
    "%%time\n",
    "a,b,c,d,e = prepare_input(train_labels, train_ecfp6_counts, target = 'EPA_category', encoder = encoder_epa)\n",
    "\n",
    "epa_rf_ecfp6count = model_selection(rf_clf, rf_grid_parameters, a, c, scoring = 'f1_weighted', cv=5, GridSearch = False, n_iter=30,n_jobs=1)\n"
   ]
  },
  {
   "cell_type": "code",
   "execution_count": 109,
   "id": "19d87f31",
   "metadata": {},
   "outputs": [
    {
     "name": "stdout",
     "output_type": "stream",
     "text": [
      "Best parameters set found on development set: {'n_estimators': 500, 'min_samples_split': 2, 'min_samples_leaf': 2, 'max_features': 'sqrt', 'max_depth': 65, 'bootstrap': False}\n",
      "Best score: 0.544268835812836\n",
      "Grid scores on development set:\n",
      "\n",
      "0.489 (+/-0.056) for {'n_estimators': 500, 'min_samples_split': 5, 'min_samples_leaf': 6, 'max_features': 'log2', 'max_depth': 20, 'bootstrap': True}\n",
      "0.512 (+/-0.068) for {'n_estimators': 1500, 'min_samples_split': 2, 'min_samples_leaf': 6, 'max_features': 'log2', 'max_depth': 80, 'bootstrap': False}\n",
      "0.531 (+/-0.059) for {'n_estimators': 1500, 'min_samples_split': 2, 'min_samples_leaf': 2, 'max_features': 'sqrt', 'max_depth': 65, 'bootstrap': True}\n",
      "0.522 (+/-0.063) for {'n_estimators': 1500, 'min_samples_split': 5, 'min_samples_leaf': 2, 'max_features': 'log2', 'max_depth': 65, 'bootstrap': True}\n",
      "0.534 (+/-0.054) for {'n_estimators': 500, 'min_samples_split': 2, 'min_samples_leaf': 2, 'max_features': 'sqrt', 'max_depth': 50, 'bootstrap': True}\n",
      "0.534 (+/-0.060) for {'n_estimators': 1500, 'min_samples_split': 5, 'min_samples_leaf': 4, 'max_features': 'sqrt', 'max_depth': None, 'bootstrap': False}\n",
      "0.532 (+/-0.058) for {'n_estimators': 1500, 'min_samples_split': 10, 'min_samples_leaf': 2, 'max_features': 'log2', 'max_depth': 80, 'bootstrap': False}\n",
      "0.517 (+/-0.059) for {'n_estimators': 500, 'min_samples_split': 5, 'min_samples_leaf': 2, 'max_features': 'log2', 'max_depth': 20, 'bootstrap': True}\n",
      "0.509 (+/-0.054) for {'n_estimators': 500, 'min_samples_split': 10, 'min_samples_leaf': 2, 'max_features': 'log2', 'max_depth': 20, 'bootstrap': True}\n",
      "0.387 (+/-0.043) for {'n_estimators': 500, 'min_samples_split': 10, 'min_samples_leaf': 2, 'max_features': 'sqrt', 'max_depth': 5, 'bootstrap': True}\n",
      "0.533 (+/-0.061) for {'n_estimators': 500, 'min_samples_split': 5, 'min_samples_leaf': 4, 'max_features': 'sqrt', 'max_depth': 20, 'bootstrap': False}\n",
      "0.522 (+/-0.060) for {'n_estimators': 1500, 'min_samples_split': 5, 'min_samples_leaf': 6, 'max_features': 'sqrt', 'max_depth': 50, 'bootstrap': False}\n",
      "0.528 (+/-0.057) for {'n_estimators': 500, 'min_samples_split': 10, 'min_samples_leaf': 4, 'max_features': 'sqrt', 'max_depth': 20, 'bootstrap': False}\n",
      "0.507 (+/-0.059) for {'n_estimators': 500, 'min_samples_split': 5, 'min_samples_leaf': 4, 'max_features': 'log2', 'max_depth': None, 'bootstrap': True}\n",
      "0.387 (+/-0.042) for {'n_estimators': 1500, 'min_samples_split': 5, 'min_samples_leaf': 4, 'max_features': 'sqrt', 'max_depth': 5, 'bootstrap': False}\n",
      "0.503 (+/-0.057) for {'n_estimators': 1500, 'min_samples_split': 5, 'min_samples_leaf': 6, 'max_features': 'sqrt', 'max_depth': 65, 'bootstrap': True}\n",
      "0.519 (+/-0.056) for {'n_estimators': 1500, 'min_samples_split': 2, 'min_samples_leaf': 2, 'max_features': 'log2', 'max_depth': 20, 'bootstrap': True}\n",
      "0.490 (+/-0.056) for {'n_estimators': 1500, 'min_samples_split': 2, 'min_samples_leaf': 6, 'max_features': 'log2', 'max_depth': 50, 'bootstrap': True}\n",
      "0.519 (+/-0.061) for {'n_estimators': 1500, 'min_samples_split': 10, 'min_samples_leaf': 2, 'max_features': 'sqrt', 'max_depth': 35, 'bootstrap': True}\n",
      "0.386 (+/-0.043) for {'n_estimators': 500, 'min_samples_split': 2, 'min_samples_leaf': 4, 'max_features': 'sqrt', 'max_depth': 5, 'bootstrap': False}\n",
      "0.538 (+/-0.052) for {'n_estimators': 1500, 'min_samples_split': 10, 'min_samples_leaf': 2, 'max_features': 'sqrt', 'max_depth': None, 'bootstrap': False}\n",
      "0.544 (+/-0.052) for {'n_estimators': 500, 'min_samples_split': 2, 'min_samples_leaf': 2, 'max_features': 'sqrt', 'max_depth': 65, 'bootstrap': False}\n",
      "0.505 (+/-0.049) for {'n_estimators': 500, 'min_samples_split': 10, 'min_samples_leaf': 6, 'max_features': 'sqrt', 'max_depth': 80, 'bootstrap': True}\n",
      "0.512 (+/-0.068) for {'n_estimators': 1500, 'min_samples_split': 5, 'min_samples_leaf': 6, 'max_features': 'log2', 'max_depth': 50, 'bootstrap': False}\n",
      "0.539 (+/-0.056) for {'n_estimators': 1500, 'min_samples_split': 5, 'min_samples_leaf': 2, 'max_features': 'log2', 'max_depth': 65, 'bootstrap': False}\n",
      "0.503 (+/-0.059) for {'n_estimators': 1500, 'min_samples_split': 2, 'min_samples_leaf': 4, 'max_features': 'log2', 'max_depth': 20, 'bootstrap': True}\n",
      "0.522 (+/-0.067) for {'n_estimators': 1500, 'min_samples_split': 10, 'min_samples_leaf': 4, 'max_features': 'log2', 'max_depth': 65, 'bootstrap': False}\n",
      "0.503 (+/-0.053) for {'n_estimators': 1500, 'min_samples_split': 10, 'min_samples_leaf': 4, 'max_features': 'log2', 'max_depth': 65, 'bootstrap': True}\n",
      "0.530 (+/-0.060) for {'n_estimators': 1500, 'min_samples_split': 10, 'min_samples_leaf': 4, 'max_features': 'sqrt', 'max_depth': 65, 'bootstrap': False}\n",
      "0.532 (+/-0.058) for {'n_estimators': 500, 'min_samples_split': 5, 'min_samples_leaf': 4, 'max_features': 'sqrt', 'max_depth': 65, 'bootstrap': False}\n",
      "CPU times: total: 2h 23min 58s\n",
      "Wall time: 45min 2s\n"
     ]
    }
   ],
   "source": [
    "%%time\n",
    "a,b,c,d,e = prepare_input(train_labels, train_rdkit2d, target = 'EPA_category', encoder = encoder_epa)\n",
    "\n",
    "epa_rf_rdkit2d = model_selection(rf_clf, rf_grid_parameters, a, c, scoring = 'f1_weighted', cv=5, GridSearch = False, n_iter=30,n_jobs=1)\n"
   ]
  },
  {
   "cell_type": "code",
   "execution_count": 110,
   "id": "f641ba99",
   "metadata": {},
   "outputs": [
    {
     "name": "stdout",
     "output_type": "stream",
     "text": [
      "Best parameters set found on development set: {'n_estimators': 1500, 'min_samples_split': 10, 'min_samples_leaf': 2, 'max_features': 'sqrt', 'max_depth': 50, 'bootstrap': False}\n",
      "Best score: 0.5431836837060968\n",
      "Grid scores on development set:\n",
      "\n",
      "0.533 (+/-0.073) for {'n_estimators': 500, 'min_samples_split': 2, 'min_samples_leaf': 4, 'max_features': 'log2', 'max_depth': None, 'bootstrap': False}\n",
      "0.527 (+/-0.073) for {'n_estimators': 1500, 'min_samples_split': 2, 'min_samples_leaf': 2, 'max_features': 'log2', 'max_depth': 50, 'bootstrap': True}\n",
      "0.529 (+/-0.072) for {'n_estimators': 1500, 'min_samples_split': 5, 'min_samples_leaf': 2, 'max_features': 'log2', 'max_depth': None, 'bootstrap': True}\n",
      "0.527 (+/-0.077) for {'n_estimators': 500, 'min_samples_split': 5, 'min_samples_leaf': 6, 'max_features': 'log2', 'max_depth': 20, 'bootstrap': False}\n",
      "0.543 (+/-0.064) for {'n_estimators': 1500, 'min_samples_split': 10, 'min_samples_leaf': 2, 'max_features': 'sqrt', 'max_depth': 50, 'bootstrap': False}\n",
      "0.519 (+/-0.073) for {'n_estimators': 500, 'min_samples_split': 5, 'min_samples_leaf': 4, 'max_features': 'log2', 'max_depth': 65, 'bootstrap': True}\n",
      "0.426 (+/-0.076) for {'n_estimators': 500, 'min_samples_split': 5, 'min_samples_leaf': 4, 'max_features': 'sqrt', 'max_depth': 5, 'bootstrap': False}\n",
      "0.416 (+/-0.068) for {'n_estimators': 500, 'min_samples_split': 5, 'min_samples_leaf': 6, 'max_features': 'sqrt', 'max_depth': 5, 'bootstrap': True}\n",
      "0.541 (+/-0.067) for {'n_estimators': 1500, 'min_samples_split': 5, 'min_samples_leaf': 4, 'max_features': 'sqrt', 'max_depth': 20, 'bootstrap': False}\n",
      "0.540 (+/-0.068) for {'n_estimators': 500, 'min_samples_split': 2, 'min_samples_leaf': 2, 'max_features': 'log2', 'max_depth': None, 'bootstrap': False}\n",
      "0.539 (+/-0.066) for {'n_estimators': 500, 'min_samples_split': 2, 'min_samples_leaf': 2, 'max_features': 'sqrt', 'max_depth': 50, 'bootstrap': True}\n",
      "0.535 (+/-0.072) for {'n_estimators': 500, 'min_samples_split': 10, 'min_samples_leaf': 6, 'max_features': 'sqrt', 'max_depth': 80, 'bootstrap': False}\n",
      "0.536 (+/-0.073) for {'n_estimators': 1500, 'min_samples_split': 5, 'min_samples_leaf': 6, 'max_features': 'sqrt', 'max_depth': 80, 'bootstrap': False}\n",
      "0.525 (+/-0.078) for {'n_estimators': 1500, 'min_samples_split': 5, 'min_samples_leaf': 6, 'max_features': 'sqrt', 'max_depth': 50, 'bootstrap': True}\n",
      "0.517 (+/-0.075) for {'n_estimators': 1500, 'min_samples_split': 2, 'min_samples_leaf': 4, 'max_features': 'log2', 'max_depth': 65, 'bootstrap': True}\n",
      "0.395 (+/-0.039) for {'n_estimators': 1500, 'min_samples_split': 2, 'min_samples_leaf': 4, 'max_features': 'log2', 'max_depth': 5, 'bootstrap': False}\n",
      "0.541 (+/-0.066) for {'n_estimators': 1500, 'min_samples_split': 5, 'min_samples_leaf': 4, 'max_features': 'sqrt', 'max_depth': 80, 'bootstrap': False}\n",
      "0.540 (+/-0.069) for {'n_estimators': 1500, 'min_samples_split': 10, 'min_samples_leaf': 4, 'max_features': 'sqrt', 'max_depth': 50, 'bootstrap': False}\n",
      "0.528 (+/-0.082) for {'n_estimators': 500, 'min_samples_split': 5, 'min_samples_leaf': 6, 'max_features': 'log2', 'max_depth': 80, 'bootstrap': False}\n",
      "0.533 (+/-0.073) for {'n_estimators': 500, 'min_samples_split': 5, 'min_samples_leaf': 4, 'max_features': 'log2', 'max_depth': 80, 'bootstrap': False}\n",
      "0.535 (+/-0.068) for {'n_estimators': 500, 'min_samples_split': 2, 'min_samples_leaf': 6, 'max_features': 'sqrt', 'max_depth': 20, 'bootstrap': False}\n",
      "0.519 (+/-0.073) for {'n_estimators': 500, 'min_samples_split': 5, 'min_samples_leaf': 4, 'max_features': 'log2', 'max_depth': None, 'bootstrap': True}\n",
      "0.513 (+/-0.084) for {'n_estimators': 500, 'min_samples_split': 2, 'min_samples_leaf': 6, 'max_features': 'log2', 'max_depth': 65, 'bootstrap': True}\n",
      "0.541 (+/-0.068) for {'n_estimators': 1500, 'min_samples_split': 2, 'min_samples_leaf': 2, 'max_features': 'log2', 'max_depth': 50, 'bootstrap': False}\n",
      "0.536 (+/-0.073) for {'n_estimators': 1500, 'min_samples_split': 10, 'min_samples_leaf': 6, 'max_features': 'sqrt', 'max_depth': 65, 'bootstrap': False}\n",
      "0.523 (+/-0.076) for {'n_estimators': 1500, 'min_samples_split': 10, 'min_samples_leaf': 2, 'max_features': 'log2', 'max_depth': 20, 'bootstrap': True}\n",
      "0.523 (+/-0.080) for {'n_estimators': 500, 'min_samples_split': 5, 'min_samples_leaf': 6, 'max_features': 'sqrt', 'max_depth': 20, 'bootstrap': True}\n",
      "0.516 (+/-0.076) for {'n_estimators': 500, 'min_samples_split': 10, 'min_samples_leaf': 4, 'max_features': 'log2', 'max_depth': 80, 'bootstrap': True}\n",
      "0.541 (+/-0.066) for {'n_estimators': 1500, 'min_samples_split': 5, 'min_samples_leaf': 4, 'max_features': 'sqrt', 'max_depth': 65, 'bootstrap': False}\n",
      "0.526 (+/-0.079) for {'n_estimators': 500, 'min_samples_split': 5, 'min_samples_leaf': 2, 'max_features': 'log2', 'max_depth': None, 'bootstrap': True}\n",
      "CPU times: total: 5h 35min 39s\n",
      "Wall time: 1h 7min 28s\n"
     ]
    }
   ],
   "source": [
    "%%time\n",
    "a,b,c,d,e = prepare_input(train_labels, train_mordred, target = 'EPA_category', encoder = encoder_epa)\n",
    "\n",
    "epa_rf_mordred = model_selection(rf_clf, rf_grid_parameters, a, c, scoring = 'f1_weighted', cv=5, GridSearch = False, n_iter=30,n_jobs=1)\n",
    "\n"
   ]
  },
  {
   "cell_type": "markdown",
   "id": "524759f4",
   "metadata": {},
   "source": [
    "Endpoint 3: logLD50"
   ]
  },
  {
   "cell_type": "code",
   "execution_count": 111,
   "id": "74479d92",
   "metadata": {},
   "outputs": [
    {
     "name": "stdout",
     "output_type": "stream",
     "text": [
      "Best parameters set found on development set: {'n_estimators': 1500, 'min_samples_split': 2, 'min_samples_leaf': 2, 'max_features': 'sqrt', 'max_depth': 50, 'bootstrap': True}\n",
      "Best score: -0.5374327338246813\n",
      "Grid scores on development set:\n",
      "\n",
      "-0.549 (+/-0.171) for {'n_estimators': 1500, 'min_samples_split': 5, 'min_samples_leaf': 2, 'max_features': 'sqrt', 'max_depth': 35, 'bootstrap': True}\n",
      "-0.683 (+/-0.225) for {'n_estimators': 1500, 'min_samples_split': 2, 'min_samples_leaf': 6, 'max_features': 'log2', 'max_depth': 20, 'bootstrap': False}\n",
      "-0.543 (+/-0.166) for {'n_estimators': 1500, 'min_samples_split': 2, 'min_samples_leaf': 4, 'max_features': 'sqrt', 'max_depth': 80, 'bootstrap': False}\n",
      "-0.774 (+/-0.266) for {'n_estimators': 500, 'min_samples_split': 5, 'min_samples_leaf': 6, 'max_features': 'log2', 'max_depth': 5, 'bootstrap': False}\n",
      "-0.719 (+/-0.229) for {'n_estimators': 1500, 'min_samples_split': 2, 'min_samples_leaf': 2, 'max_features': 'sqrt', 'max_depth': 5, 'bootstrap': False}\n",
      "-0.585 (+/-0.189) for {'n_estimators': 500, 'min_samples_split': 5, 'min_samples_leaf': 2, 'max_features': 'log2', 'max_depth': 65, 'bootstrap': False}\n",
      "-0.601 (+/-0.194) for {'n_estimators': 1500, 'min_samples_split': 2, 'min_samples_leaf': 2, 'max_features': 'log2', 'max_depth': 65, 'bootstrap': True}\n",
      "-0.771 (+/-0.265) for {'n_estimators': 1500, 'min_samples_split': 2, 'min_samples_leaf': 2, 'max_features': 'log2', 'max_depth': 5, 'bootstrap': False}\n",
      "-0.684 (+/-0.226) for {'n_estimators': 1500, 'min_samples_split': 5, 'min_samples_leaf': 4, 'max_features': 'log2', 'max_depth': 20, 'bootstrap': True}\n",
      "-0.630 (+/-0.206) for {'n_estimators': 1500, 'min_samples_split': 10, 'min_samples_leaf': 4, 'max_features': 'log2', 'max_depth': 80, 'bootstrap': True}\n",
      "-0.648 (+/-0.212) for {'n_estimators': 1500, 'min_samples_split': 2, 'min_samples_leaf': 6, 'max_features': 'log2', 'max_depth': 65, 'bootstrap': True}\n",
      "-0.723 (+/-0.233) for {'n_estimators': 500, 'min_samples_split': 5, 'min_samples_leaf': 6, 'max_features': 'sqrt', 'max_depth': 5, 'bootstrap': True}\n",
      "-0.651 (+/-0.213) for {'n_estimators': 1500, 'min_samples_split': 10, 'min_samples_leaf': 6, 'max_features': 'log2', 'max_depth': 50, 'bootstrap': True}\n",
      "-0.671 (+/-0.220) for {'n_estimators': 500, 'min_samples_split': 10, 'min_samples_leaf': 2, 'max_features': 'log2', 'max_depth': 20, 'bootstrap': True}\n",
      "-0.588 (+/-0.178) for {'n_estimators': 500, 'min_samples_split': 10, 'min_samples_leaf': 6, 'max_features': 'sqrt', 'max_depth': 35, 'bootstrap': True}\n",
      "-0.774 (+/-0.266) for {'n_estimators': 1500, 'min_samples_split': 5, 'min_samples_leaf': 6, 'max_features': 'log2', 'max_depth': 5, 'bootstrap': True}\n",
      "-0.574 (+/-0.171) for {'n_estimators': 500, 'min_samples_split': 2, 'min_samples_leaf': 2, 'max_features': 'sqrt', 'max_depth': 20, 'bootstrap': False}\n",
      "-0.563 (+/-0.167) for {'n_estimators': 500, 'min_samples_split': 10, 'min_samples_leaf': 6, 'max_features': 'sqrt', 'max_depth': None, 'bootstrap': False}\n",
      "-0.639 (+/-0.209) for {'n_estimators': 500, 'min_samples_split': 10, 'min_samples_leaf': 6, 'max_features': 'log2', 'max_depth': 50, 'bootstrap': False}\n",
      "-0.586 (+/-0.177) for {'n_estimators': 500, 'min_samples_split': 5, 'min_samples_leaf': 4, 'max_features': 'sqrt', 'max_depth': 20, 'bootstrap': False}\n",
      "-0.774 (+/-0.266) for {'n_estimators': 500, 'min_samples_split': 2, 'min_samples_leaf': 6, 'max_features': 'log2', 'max_depth': 5, 'bootstrap': False}\n",
      "-0.537 (+/-0.169) for {'n_estimators': 1500, 'min_samples_split': 2, 'min_samples_leaf': 2, 'max_features': 'sqrt', 'max_depth': 50, 'bootstrap': True}\n",
      "-0.546 (+/-0.169) for {'n_estimators': 500, 'min_samples_split': 2, 'min_samples_leaf': 4, 'max_features': 'sqrt', 'max_depth': 50, 'bootstrap': False}\n",
      "-0.581 (+/-0.176) for {'n_estimators': 1500, 'min_samples_split': 5, 'min_samples_leaf': 6, 'max_features': 'sqrt', 'max_depth': 65, 'bootstrap': True}\n",
      "-0.773 (+/-0.266) for {'n_estimators': 1500, 'min_samples_split': 2, 'min_samples_leaf': 4, 'max_features': 'log2', 'max_depth': 5, 'bootstrap': True}\n",
      "-0.633 (+/-0.206) for {'n_estimators': 1500, 'min_samples_split': 5, 'min_samples_leaf': 6, 'max_features': 'log2', 'max_depth': None, 'bootstrap': False}\n",
      "-0.633 (+/-0.208) for {'n_estimators': 500, 'min_samples_split': 10, 'min_samples_leaf': 4, 'max_features': 'log2', 'max_depth': 65, 'bootstrap': True}\n",
      "-0.586 (+/-0.175) for {'n_estimators': 1500, 'min_samples_split': 5, 'min_samples_leaf': 4, 'max_features': 'sqrt', 'max_depth': 20, 'bootstrap': False}\n",
      "-0.581 (+/-0.176) for {'n_estimators': 1500, 'min_samples_split': 2, 'min_samples_leaf': 6, 'max_features': 'sqrt', 'max_depth': 65, 'bootstrap': True}\n",
      "-0.771 (+/-0.267) for {'n_estimators': 500, 'min_samples_split': 10, 'min_samples_leaf': 2, 'max_features': 'log2', 'max_depth': 5, 'bootstrap': False}\n",
      "CPU times: total: 2h 19min 9s\n",
      "Wall time: 27min 57s\n"
     ]
    }
   ],
   "source": [
    "%%time\n",
    "a,b,c,d,e = prepare_input(train_labels, train_ecfp6_bits, target = 'logLD50_mmolkg', encoder = None)\n",
    "\n",
    "ld50_rf_ecfp6bits = model_selection(rf_reg, rf_grid_parameters, a, c, scoring = 'neg_mean_squared_error', cv=5, GridSearch = False, n_iter=30,n_jobs=1)\n"
   ]
  },
  {
   "cell_type": "code",
   "execution_count": 112,
   "id": "831f1417",
   "metadata": {},
   "outputs": [
    {
     "name": "stdout",
     "output_type": "stream",
     "text": [
      "Best parameters set found on development set: {'n_estimators': 500, 'min_samples_split': 2, 'min_samples_leaf': 2, 'max_features': 'sqrt', 'max_depth': None, 'bootstrap': False}\n",
      "Best score: -0.443660837367564\n",
      "Grid scores on development set:\n",
      "\n",
      "-0.481 (+/-0.121) for {'n_estimators': 500, 'min_samples_split': 5, 'min_samples_leaf': 2, 'max_features': 'log2', 'max_depth': 50, 'bootstrap': True}\n",
      "-0.467 (+/-0.116) for {'n_estimators': 1500, 'min_samples_split': 2, 'min_samples_leaf': 4, 'max_features': 'sqrt', 'max_depth': None, 'bootstrap': False}\n",
      "-0.456 (+/-0.110) for {'n_estimators': 1500, 'min_samples_split': 10, 'min_samples_leaf': 2, 'max_features': 'sqrt', 'max_depth': 35, 'bootstrap': False}\n",
      "-0.506 (+/-0.133) for {'n_estimators': 1500, 'min_samples_split': 2, 'min_samples_leaf': 6, 'max_features': 'log2', 'max_depth': 20, 'bootstrap': False}\n",
      "-0.489 (+/-0.127) for {'n_estimators': 1500, 'min_samples_split': 10, 'min_samples_leaf': 4, 'max_features': 'sqrt', 'max_depth': 65, 'bootstrap': True}\n",
      "-0.463 (+/-0.115) for {'n_estimators': 500, 'min_samples_split': 5, 'min_samples_leaf': 2, 'max_features': 'sqrt', 'max_depth': None, 'bootstrap': True}\n",
      "-0.504 (+/-0.133) for {'n_estimators': 1500, 'min_samples_split': 2, 'min_samples_leaf': 6, 'max_features': 'sqrt', 'max_depth': 50, 'bootstrap': True}\n",
      "-0.467 (+/-0.117) for {'n_estimators': 500, 'min_samples_split': 2, 'min_samples_leaf': 4, 'max_features': 'sqrt', 'max_depth': 65, 'bootstrap': False}\n",
      "-0.506 (+/-0.133) for {'n_estimators': 1500, 'min_samples_split': 5, 'min_samples_leaf': 6, 'max_features': 'log2', 'max_depth': 20, 'bootstrap': False}\n",
      "-0.444 (+/-0.102) for {'n_estimators': 1500, 'min_samples_split': 2, 'min_samples_leaf': 2, 'max_features': 'sqrt', 'max_depth': 65, 'bootstrap': False}\n",
      "-0.444 (+/-0.101) for {'n_estimators': 500, 'min_samples_split': 2, 'min_samples_leaf': 2, 'max_features': 'sqrt', 'max_depth': None, 'bootstrap': False}\n",
      "-0.510 (+/-0.135) for {'n_estimators': 500, 'min_samples_split': 5, 'min_samples_leaf': 4, 'max_features': 'log2', 'max_depth': 80, 'bootstrap': True}\n",
      "-0.473 (+/-0.117) for {'n_estimators': 1500, 'min_samples_split': 10, 'min_samples_leaf': 2, 'max_features': 'sqrt', 'max_depth': 50, 'bootstrap': True}\n",
      "-0.527 (+/-0.144) for {'n_estimators': 500, 'min_samples_split': 10, 'min_samples_leaf': 6, 'max_features': 'log2', 'max_depth': 35, 'bootstrap': True}\n",
      "-0.504 (+/-0.133) for {'n_estimators': 1500, 'min_samples_split': 10, 'min_samples_leaf': 6, 'max_features': 'sqrt', 'max_depth': 35, 'bootstrap': True}\n",
      "-0.446 (+/-0.104) for {'n_estimators': 1500, 'min_samples_split': 5, 'min_samples_leaf': 2, 'max_features': 'sqrt', 'max_depth': 20, 'bootstrap': False}\n",
      "-0.493 (+/-0.125) for {'n_estimators': 500, 'min_samples_split': 10, 'min_samples_leaf': 2, 'max_features': 'log2', 'max_depth': 80, 'bootstrap': True}\n",
      "-0.467 (+/-0.116) for {'n_estimators': 1500, 'min_samples_split': 2, 'min_samples_leaf': 4, 'max_features': 'sqrt', 'max_depth': 35, 'bootstrap': False}\n",
      "-0.489 (+/-0.125) for {'n_estimators': 500, 'min_samples_split': 2, 'min_samples_leaf': 4, 'max_features': 'log2', 'max_depth': 20, 'bootstrap': False}\n",
      "-0.504 (+/-0.133) for {'n_estimators': 500, 'min_samples_split': 10, 'min_samples_leaf': 6, 'max_features': 'sqrt', 'max_depth': 80, 'bootstrap': True}\n",
      "-0.489 (+/-0.126) for {'n_estimators': 1500, 'min_samples_split': 2, 'min_samples_leaf': 4, 'max_features': 'log2', 'max_depth': 80, 'bootstrap': False}\n",
      "-0.510 (+/-0.135) for {'n_estimators': 500, 'min_samples_split': 2, 'min_samples_leaf': 4, 'max_features': 'log2', 'max_depth': None, 'bootstrap': True}\n",
      "-0.483 (+/-0.123) for {'n_estimators': 1500, 'min_samples_split': 5, 'min_samples_leaf': 6, 'max_features': 'sqrt', 'max_depth': 20, 'bootstrap': False}\n",
      "-0.526 (+/-0.144) for {'n_estimators': 1500, 'min_samples_split': 10, 'min_samples_leaf': 6, 'max_features': 'log2', 'max_depth': 50, 'bootstrap': True}\n",
      "-0.602 (+/-0.178) for {'n_estimators': 1500, 'min_samples_split': 5, 'min_samples_leaf': 4, 'max_features': 'sqrt', 'max_depth': 5, 'bootstrap': False}\n",
      "-0.446 (+/-0.105) for {'n_estimators': 1500, 'min_samples_split': 5, 'min_samples_leaf': 2, 'max_features': 'sqrt', 'max_depth': None, 'bootstrap': False}\n",
      "-0.492 (+/-0.127) for {'n_estimators': 500, 'min_samples_split': 10, 'min_samples_leaf': 4, 'max_features': 'log2', 'max_depth': 80, 'bootstrap': False}\n",
      "-0.602 (+/-0.178) for {'n_estimators': 500, 'min_samples_split': 2, 'min_samples_leaf': 2, 'max_features': 'sqrt', 'max_depth': 5, 'bootstrap': False}\n",
      "-0.456 (+/-0.109) for {'n_estimators': 500, 'min_samples_split': 10, 'min_samples_leaf': 2, 'max_features': 'sqrt', 'max_depth': None, 'bootstrap': False}\n",
      "-0.632 (+/-0.200) for {'n_estimators': 500, 'min_samples_split': 5, 'min_samples_leaf': 6, 'max_features': 'log2', 'max_depth': 5, 'bootstrap': True}\n",
      "CPU times: total: 31min 33s\n",
      "Wall time: 13min 24s\n"
     ]
    }
   ],
   "source": [
    "%%time\n",
    "a,b,c,d,e = prepare_input(train_labels, train_maccs, target = 'logLD50_mmolkg', encoder = None)\n",
    "\n",
    "ld50_rf_maccs = model_selection(rf_reg, rf_grid_parameters, a, c, scoring = 'neg_mean_squared_error', cv=5, GridSearch = False, n_iter=30,n_jobs=1)\n"
   ]
  },
  {
   "cell_type": "code",
   "execution_count": 113,
   "id": "5ae1ade7",
   "metadata": {},
   "outputs": [
    {
     "name": "stdout",
     "output_type": "stream",
     "text": [
      "Best parameters set found on development set: {'n_estimators': 1500, 'min_samples_split': 5, 'min_samples_leaf': 2, 'max_features': 'sqrt', 'max_depth': None, 'bootstrap': False}\n",
      "Best score: -0.5408206640969156\n",
      "Grid scores on development set:\n",
      "\n",
      "-0.632 (+/-0.219) for {'n_estimators': 1500, 'min_samples_split': 2, 'min_samples_leaf': 2, 'max_features': 'log2', 'max_depth': 50, 'bootstrap': True}\n",
      "-0.776 (+/-0.271) for {'n_estimators': 1500, 'min_samples_split': 10, 'min_samples_leaf': 4, 'max_features': 'log2', 'max_depth': 5, 'bootstrap': True}\n",
      "-0.586 (+/-0.186) for {'n_estimators': 1500, 'min_samples_split': 2, 'min_samples_leaf': 4, 'max_features': 'sqrt', 'max_depth': 20, 'bootstrap': False}\n",
      "-0.727 (+/-0.240) for {'n_estimators': 1500, 'min_samples_split': 10, 'min_samples_leaf': 2, 'max_features': 'sqrt', 'max_depth': 5, 'bootstrap': True}\n",
      "-0.774 (+/-0.269) for {'n_estimators': 500, 'min_samples_split': 5, 'min_samples_leaf': 4, 'max_features': 'log2', 'max_depth': 5, 'bootstrap': False}\n",
      "-0.631 (+/-0.216) for {'n_estimators': 500, 'min_samples_split': 5, 'min_samples_leaf': 2, 'max_features': 'log2', 'max_depth': 65, 'bootstrap': True}\n",
      "-0.585 (+/-0.190) for {'n_estimators': 1500, 'min_samples_split': 2, 'min_samples_leaf': 6, 'max_features': 'sqrt', 'max_depth': 80, 'bootstrap': False}\n",
      "-0.547 (+/-0.183) for {'n_estimators': 1500, 'min_samples_split': 10, 'min_samples_leaf': 2, 'max_features': 'sqrt', 'max_depth': 50, 'bootstrap': False}\n",
      "-0.775 (+/-0.270) for {'n_estimators': 1500, 'min_samples_split': 10, 'min_samples_leaf': 2, 'max_features': 'log2', 'max_depth': 5, 'bootstrap': False}\n",
      "-0.588 (+/-0.189) for {'n_estimators': 500, 'min_samples_split': 10, 'min_samples_leaf': 4, 'max_features': 'sqrt', 'max_depth': 20, 'bootstrap': False}\n",
      "-0.541 (+/-0.182) for {'n_estimators': 1500, 'min_samples_split': 5, 'min_samples_leaf': 2, 'max_features': 'sqrt', 'max_depth': None, 'bootstrap': False}\n",
      "-0.664 (+/-0.230) for {'n_estimators': 1500, 'min_samples_split': 10, 'min_samples_leaf': 6, 'max_features': 'log2', 'max_depth': 65, 'bootstrap': False}\n",
      "-0.646 (+/-0.226) for {'n_estimators': 1500, 'min_samples_split': 5, 'min_samples_leaf': 4, 'max_features': 'log2', 'max_depth': None, 'bootstrap': False}\n",
      "-0.612 (+/-0.212) for {'n_estimators': 1500, 'min_samples_split': 2, 'min_samples_leaf': 2, 'max_features': 'log2', 'max_depth': 65, 'bootstrap': False}\n",
      "-0.599 (+/-0.190) for {'n_estimators': 1500, 'min_samples_split': 10, 'min_samples_leaf': 6, 'max_features': 'sqrt', 'max_depth': 20, 'bootstrap': False}\n",
      "-0.566 (+/-0.188) for {'n_estimators': 500, 'min_samples_split': 10, 'min_samples_leaf': 2, 'max_features': 'sqrt', 'max_depth': 65, 'bootstrap': True}\n",
      "-0.561 (+/-0.188) for {'n_estimators': 1500, 'min_samples_split': 5, 'min_samples_leaf': 2, 'max_features': 'sqrt', 'max_depth': 80, 'bootstrap': True}\n",
      "-0.586 (+/-0.190) for {'n_estimators': 1500, 'min_samples_split': 10, 'min_samples_leaf': 4, 'max_features': 'sqrt', 'max_depth': None, 'bootstrap': True}\n",
      "-0.698 (+/-0.241) for {'n_estimators': 1500, 'min_samples_split': 10, 'min_samples_leaf': 6, 'max_features': 'log2', 'max_depth': 20, 'bootstrap': True}\n",
      "-0.586 (+/-0.189) for {'n_estimators': 1500, 'min_samples_split': 5, 'min_samples_leaf': 4, 'max_features': 'sqrt', 'max_depth': 50, 'bootstrap': True}\n",
      "-0.613 (+/-0.212) for {'n_estimators': 1500, 'min_samples_split': 5, 'min_samples_leaf': 2, 'max_features': 'log2', 'max_depth': None, 'bootstrap': False}\n",
      "-0.547 (+/-0.186) for {'n_estimators': 500, 'min_samples_split': 10, 'min_samples_leaf': 2, 'max_features': 'sqrt', 'max_depth': 80, 'bootstrap': False}\n",
      "-0.673 (+/-0.231) for {'n_estimators': 1500, 'min_samples_split': 10, 'min_samples_leaf': 4, 'max_features': 'log2', 'max_depth': 20, 'bootstrap': False}\n",
      "-0.589 (+/-0.190) for {'n_estimators': 500, 'min_samples_split': 10, 'min_samples_leaf': 4, 'max_features': 'sqrt', 'max_depth': 35, 'bootstrap': True}\n",
      "-0.728 (+/-0.241) for {'n_estimators': 500, 'min_samples_split': 10, 'min_samples_leaf': 4, 'max_features': 'sqrt', 'max_depth': 5, 'bootstrap': True}\n",
      "-0.616 (+/-0.214) for {'n_estimators': 1500, 'min_samples_split': 10, 'min_samples_leaf': 2, 'max_features': 'log2', 'max_depth': 65, 'bootstrap': False}\n",
      "-0.560 (+/-0.185) for {'n_estimators': 1500, 'min_samples_split': 2, 'min_samples_leaf': 2, 'max_features': 'sqrt', 'max_depth': None, 'bootstrap': True}\n",
      "-0.656 (+/-0.224) for {'n_estimators': 1500, 'min_samples_split': 5, 'min_samples_leaf': 2, 'max_features': 'log2', 'max_depth': 20, 'bootstrap': False}\n",
      "-0.605 (+/-0.195) for {'n_estimators': 1500, 'min_samples_split': 10, 'min_samples_leaf': 6, 'max_features': 'sqrt', 'max_depth': 35, 'bootstrap': True}\n",
      "-0.612 (+/-0.211) for {'n_estimators': 500, 'min_samples_split': 5, 'min_samples_leaf': 2, 'max_features': 'log2', 'max_depth': None, 'bootstrap': False}\n",
      "CPU times: total: 1h 22min 59s\n",
      "Wall time: 21min 36s\n"
     ]
    }
   ],
   "source": [
    "%%time\n",
    "a,b,c,d,e = prepare_input(train_labels, train_ecfp6_counts, target = 'logLD50_mmolkg', encoder = None)\n",
    "\n",
    "ld50_rf_ecfp6count = model_selection(rf_reg, rf_grid_parameters, a, c, scoring = 'neg_mean_squared_error', cv=5, GridSearch = False, n_iter=30,n_jobs=1)\n"
   ]
  },
  {
   "cell_type": "code",
   "execution_count": 114,
   "id": "22414776",
   "metadata": {},
   "outputs": [
    {
     "name": "stdout",
     "output_type": "stream",
     "text": [
      "Best parameters set found on development set: {'n_estimators': 1500, 'min_samples_split': 2, 'min_samples_leaf': 2, 'max_features': 'log2', 'max_depth': 20, 'bootstrap': False}\n",
      "Best score: -0.46541088612250886\n",
      "Grid scores on development set:\n",
      "\n",
      "-0.470 (+/-0.137) for {'n_estimators': 500, 'min_samples_split': 2, 'min_samples_leaf': 4, 'max_features': 'sqrt', 'max_depth': None, 'bootstrap': False}\n",
      "-0.502 (+/-0.154) for {'n_estimators': 1500, 'min_samples_split': 5, 'min_samples_leaf': 6, 'max_features': 'sqrt', 'max_depth': 65, 'bootstrap': True}\n",
      "-0.471 (+/-0.138) for {'n_estimators': 1500, 'min_samples_split': 10, 'min_samples_leaf': 4, 'max_features': 'sqrt', 'max_depth': None, 'bootstrap': False}\n",
      "-0.492 (+/-0.149) for {'n_estimators': 1500, 'min_samples_split': 10, 'min_samples_leaf': 6, 'max_features': 'log2', 'max_depth': 80, 'bootstrap': False}\n",
      "-0.484 (+/-0.144) for {'n_estimators': 1500, 'min_samples_split': 10, 'min_samples_leaf': 2, 'max_features': 'sqrt', 'max_depth': 35, 'bootstrap': True}\n",
      "-0.496 (+/-0.151) for {'n_estimators': 500, 'min_samples_split': 10, 'min_samples_leaf': 2, 'max_features': 'log2', 'max_depth': 80, 'bootstrap': True}\n",
      "-0.492 (+/-0.148) for {'n_estimators': 500, 'min_samples_split': 5, 'min_samples_leaf': 4, 'max_features': 'sqrt', 'max_depth': 50, 'bootstrap': True}\n",
      "-0.502 (+/-0.154) for {'n_estimators': 500, 'min_samples_split': 5, 'min_samples_leaf': 6, 'max_features': 'sqrt', 'max_depth': 35, 'bootstrap': True}\n",
      "-0.514 (+/-0.160) for {'n_estimators': 1500, 'min_samples_split': 2, 'min_samples_leaf': 6, 'max_features': 'log2', 'max_depth': 20, 'bootstrap': True}\n",
      "-0.490 (+/-0.148) for {'n_estimators': 1500, 'min_samples_split': 2, 'min_samples_leaf': 4, 'max_features': 'sqrt', 'max_depth': 20, 'bootstrap': True}\n",
      "-0.502 (+/-0.154) for {'n_estimators': 1500, 'min_samples_split': 10, 'min_samples_leaf': 6, 'max_features': 'sqrt', 'max_depth': 50, 'bootstrap': True}\n",
      "-0.465 (+/-0.133) for {'n_estimators': 1500, 'min_samples_split': 2, 'min_samples_leaf': 2, 'max_features': 'log2', 'max_depth': 20, 'bootstrap': False}\n",
      "-0.501 (+/-0.153) for {'n_estimators': 1500, 'min_samples_split': 2, 'min_samples_leaf': 4, 'max_features': 'log2', 'max_depth': 35, 'bootstrap': True}\n",
      "-0.481 (+/-0.144) for {'n_estimators': 500, 'min_samples_split': 5, 'min_samples_leaf': 6, 'max_features': 'sqrt', 'max_depth': 35, 'bootstrap': False}\n",
      "-0.492 (+/-0.148) for {'n_estimators': 500, 'min_samples_split': 2, 'min_samples_leaf': 4, 'max_features': 'sqrt', 'max_depth': 65, 'bootstrap': True}\n",
      "-0.495 (+/-0.155) for {'n_estimators': 500, 'min_samples_split': 10, 'min_samples_leaf': 4, 'max_features': 'sqrt', 'max_depth': 50, 'bootstrap': True}\n",
      "-0.483 (+/-0.143) for {'n_estimators': 500, 'min_samples_split': 10, 'min_samples_leaf': 4, 'max_features': 'log2', 'max_depth': 50, 'bootstrap': False}\n",
      "-0.488 (+/-0.148) for {'n_estimators': 500, 'min_samples_split': 5, 'min_samples_leaf': 2, 'max_features': 'log2', 'max_depth': 50, 'bootstrap': True}\n",
      "-0.487 (+/-0.149) for {'n_estimators': 500, 'min_samples_split': 2, 'min_samples_leaf': 2, 'max_features': 'log2', 'max_depth': 35, 'bootstrap': True}\n",
      "-0.486 (+/-0.142) for {'n_estimators': 500, 'min_samples_split': 2, 'min_samples_leaf': 2, 'max_features': 'log2', 'max_depth': 20, 'bootstrap': True}\n",
      "-0.480 (+/-0.143) for {'n_estimators': 1500, 'min_samples_split': 2, 'min_samples_leaf': 4, 'max_features': 'log2', 'max_depth': 65, 'bootstrap': False}\n",
      "-0.514 (+/-0.159) for {'n_estimators': 1500, 'min_samples_split': 5, 'min_samples_leaf': 6, 'max_features': 'log2', 'max_depth': 35, 'bootstrap': True}\n",
      "-0.480 (+/-0.140) for {'n_estimators': 500, 'min_samples_split': 2, 'min_samples_leaf': 4, 'max_features': 'log2', 'max_depth': 80, 'bootstrap': False}\n",
      "-0.478 (+/-0.142) for {'n_estimators': 500, 'min_samples_split': 5, 'min_samples_leaf': 2, 'max_features': 'sqrt', 'max_depth': 65, 'bootstrap': True}\n",
      "-0.514 (+/-0.158) for {'n_estimators': 500, 'min_samples_split': 2, 'min_samples_leaf': 6, 'max_features': 'log2', 'max_depth': 65, 'bootstrap': True}\n",
      "-0.619 (+/-0.200) for {'n_estimators': 1500, 'min_samples_split': 2, 'min_samples_leaf': 6, 'max_features': 'log2', 'max_depth': 5, 'bootstrap': False}\n",
      "-0.492 (+/-0.149) for {'n_estimators': 500, 'min_samples_split': 2, 'min_samples_leaf': 6, 'max_features': 'log2', 'max_depth': None, 'bootstrap': False}\n",
      "-0.492 (+/-0.148) for {'n_estimators': 500, 'min_samples_split': 5, 'min_samples_leaf': 4, 'max_features': 'sqrt', 'max_depth': 80, 'bootstrap': True}\n",
      "-0.485 (+/-0.147) for {'n_estimators': 500, 'min_samples_split': 10, 'min_samples_leaf': 2, 'max_features': 'sqrt', 'max_depth': None, 'bootstrap': True}\n",
      "-0.477 (+/-0.142) for {'n_estimators': 1500, 'min_samples_split': 5, 'min_samples_leaf': 2, 'max_features': 'sqrt', 'max_depth': 35, 'bootstrap': True}\n",
      "CPU times: total: 1h 5min 14s\n",
      "Wall time: 28min 26s\n"
     ]
    }
   ],
   "source": [
    "%%time\n",
    "a,b,c,d,e = prepare_input(train_labels, train_rdkit2d, target = 'logLD50_mmolkg', encoder = None)\n",
    "\n",
    "ld50_rf_rdkit2d = model_selection(rf_reg, rf_grid_parameters, a, c, scoring = 'neg_mean_squared_error', cv=5, GridSearch = False, n_iter=30,n_jobs=1)\n"
   ]
  },
  {
   "cell_type": "code",
   "execution_count": 115,
   "id": "426dcaa8",
   "metadata": {},
   "outputs": [
    {
     "name": "stdout",
     "output_type": "stream",
     "text": [
      "Best parameters set found on development set: {'n_estimators': 500, 'min_samples_split': 5, 'min_samples_leaf': 2, 'max_features': 'sqrt', 'max_depth': 80, 'bootstrap': False}\n",
      "Best score: -0.45110994944203975\n",
      "Grid scores on development set:\n",
      "\n",
      "-0.492 (+/-0.136) for {'n_estimators': 500, 'min_samples_split': 10, 'min_samples_leaf': 2, 'max_features': 'log2', 'max_depth': 35, 'bootstrap': True}\n",
      "-0.486 (+/-0.143) for {'n_estimators': 1500, 'min_samples_split': 5, 'min_samples_leaf': 6, 'max_features': 'sqrt', 'max_depth': 20, 'bootstrap': True}\n",
      "-0.469 (+/-0.127) for {'n_estimators': 1500, 'min_samples_split': 10, 'min_samples_leaf': 2, 'max_features': 'log2', 'max_depth': 80, 'bootstrap': False}\n",
      "-0.451 (+/-0.124) for {'n_estimators': 1500, 'min_samples_split': 2, 'min_samples_leaf': 2, 'max_features': 'sqrt', 'max_depth': 20, 'bootstrap': False}\n",
      "-0.479 (+/-0.137) for {'n_estimators': 500, 'min_samples_split': 2, 'min_samples_leaf': 4, 'max_features': 'sqrt', 'max_depth': 20, 'bootstrap': True}\n",
      "-0.505 (+/-0.144) for {'n_estimators': 1500, 'min_samples_split': 2, 'min_samples_leaf': 6, 'max_features': 'log2', 'max_depth': 20, 'bootstrap': True}\n",
      "-0.464 (+/-0.129) for {'n_estimators': 500, 'min_samples_split': 2, 'min_samples_leaf': 2, 'max_features': 'log2', 'max_depth': 80, 'bootstrap': False}\n",
      "-0.472 (+/-0.135) for {'n_estimators': 1500, 'min_samples_split': 5, 'min_samples_leaf': 2, 'max_features': 'sqrt', 'max_depth': None, 'bootstrap': True}\n",
      "-0.474 (+/-0.138) for {'n_estimators': 500, 'min_samples_split': 5, 'min_samples_leaf': 2, 'max_features': 'sqrt', 'max_depth': 20, 'bootstrap': True}\n",
      "-0.486 (+/-0.143) for {'n_estimators': 1500, 'min_samples_split': 10, 'min_samples_leaf': 6, 'max_features': 'sqrt', 'max_depth': 35, 'bootstrap': True}\n",
      "-0.499 (+/-0.143) for {'n_estimators': 500, 'min_samples_split': 10, 'min_samples_leaf': 4, 'max_features': 'log2', 'max_depth': 20, 'bootstrap': True}\n",
      "-0.488 (+/-0.145) for {'n_estimators': 500, 'min_samples_split': 10, 'min_samples_leaf': 6, 'max_features': 'sqrt', 'max_depth': 35, 'bootstrap': True}\n",
      "-0.495 (+/-0.142) for {'n_estimators': 500, 'min_samples_split': 2, 'min_samples_leaf': 4, 'max_features': 'log2', 'max_depth': None, 'bootstrap': True}\n",
      "-0.470 (+/-0.128) for {'n_estimators': 500, 'min_samples_split': 10, 'min_samples_leaf': 2, 'max_features': 'log2', 'max_depth': 80, 'bootstrap': False}\n",
      "-0.600 (+/-0.168) for {'n_estimators': 500, 'min_samples_split': 2, 'min_samples_leaf': 2, 'max_features': 'log2', 'max_depth': 5, 'bootstrap': False}\n",
      "-0.475 (+/-0.132) for {'n_estimators': 1500, 'min_samples_split': 10, 'min_samples_leaf': 4, 'max_features': 'log2', 'max_depth': 80, 'bootstrap': False}\n",
      "-0.473 (+/-0.132) for {'n_estimators': 1500, 'min_samples_split': 5, 'min_samples_leaf': 4, 'max_features': 'log2', 'max_depth': 50, 'bootstrap': False}\n",
      "-0.581 (+/-0.165) for {'n_estimators': 1500, 'min_samples_split': 2, 'min_samples_leaf': 6, 'max_features': 'sqrt', 'max_depth': 5, 'bootstrap': True}\n",
      "-0.473 (+/-0.133) for {'n_estimators': 500, 'min_samples_split': 2, 'min_samples_leaf': 4, 'max_features': 'log2', 'max_depth': 35, 'bootstrap': False}\n",
      "-0.470 (+/-0.135) for {'n_estimators': 1500, 'min_samples_split': 2, 'min_samples_leaf': 2, 'max_features': 'sqrt', 'max_depth': 65, 'bootstrap': True}\n",
      "-0.601 (+/-0.172) for {'n_estimators': 500, 'min_samples_split': 10, 'min_samples_leaf': 6, 'max_features': 'log2', 'max_depth': 5, 'bootstrap': False}\n",
      "-0.484 (+/-0.136) for {'n_estimators': 1500, 'min_samples_split': 5, 'min_samples_leaf': 2, 'max_features': 'log2', 'max_depth': 65, 'bootstrap': True}\n",
      "-0.497 (+/-0.140) for {'n_estimators': 500, 'min_samples_split': 2, 'min_samples_leaf': 4, 'max_features': 'log2', 'max_depth': 20, 'bootstrap': True}\n",
      "-0.472 (+/-0.135) for {'n_estimators': 1500, 'min_samples_split': 5, 'min_samples_leaf': 2, 'max_features': 'sqrt', 'max_depth': 50, 'bootstrap': True}\n",
      "-0.506 (+/-0.146) for {'n_estimators': 500, 'min_samples_split': 10, 'min_samples_leaf': 6, 'max_features': 'log2', 'max_depth': 35, 'bootstrap': True}\n",
      "-0.475 (+/-0.132) for {'n_estimators': 1500, 'min_samples_split': 10, 'min_samples_leaf': 4, 'max_features': 'log2', 'max_depth': None, 'bootstrap': False}\n",
      "-0.488 (+/-0.145) for {'n_estimators': 500, 'min_samples_split': 2, 'min_samples_leaf': 6, 'max_features': 'sqrt', 'max_depth': 50, 'bootstrap': True}\n",
      "-0.451 (+/-0.128) for {'n_estimators': 500, 'min_samples_split': 5, 'min_samples_leaf': 2, 'max_features': 'sqrt', 'max_depth': 80, 'bootstrap': False}\n",
      "-0.469 (+/-0.127) for {'n_estimators': 1500, 'min_samples_split': 10, 'min_samples_leaf': 2, 'max_features': 'log2', 'max_depth': 50, 'bootstrap': False}\n",
      "-0.479 (+/-0.140) for {'n_estimators': 500, 'min_samples_split': 2, 'min_samples_leaf': 4, 'max_features': 'sqrt', 'max_depth': 35, 'bootstrap': True}\n",
      "CPU times: total: 2h 39min 44s\n",
      "Wall time: 32min 24s\n"
     ]
    }
   ],
   "source": [
    "%%time\n",
    "a,b,c,d,e = prepare_input(train_labels, train_mordred, target = 'logLD50_mmolkg', encoder = None)\n",
    "\n",
    "ld50_rf_mordred = model_selection(rf_reg, rf_grid_parameters, a, c, scoring = 'neg_mean_squared_error', cv=5, GridSearch = False, n_iter=30,n_jobs=1)\n",
    "\n"
   ]
  },
  {
   "cell_type": "markdown",
   "id": "058b6099",
   "metadata": {},
   "source": [
    "XGBoost\n",
    "Endpoint 1: logLD50"
   ]
  },
  {
   "cell_type": "code",
   "execution_count": 116,
   "id": "675dac56",
   "metadata": {},
   "outputs": [
    {
     "name": "stdout",
     "output_type": "stream",
     "text": [
      "Best parameters set found on development set: {'subsample': 0.6, 'n_estimators': 1500, 'min_child_weight': 1, 'max_depth': 10, 'learning_rate': 0.01, 'gamma': 0, 'colsample_bytree': 0.9}\n",
      "Best score: -0.49743116439673163\n",
      "Grid scores on development set:\n",
      "\n",
      "-0.520 (+/-0.178) for {'subsample': 0.8, 'n_estimators': 1500, 'min_child_weight': 3, 'max_depth': 6, 'learning_rate': 0.01, 'gamma': 0, 'colsample_bytree': 0.9}\n",
      "-0.581 (+/-0.195) for {'subsample': 1.0, 'n_estimators': 1500, 'min_child_weight': 5, 'max_depth': 6, 'learning_rate': 0.1, 'gamma': 5, 'colsample_bytree': 0.5}\n",
      "-0.530 (+/-0.169) for {'subsample': 0.6, 'n_estimators': 500, 'min_child_weight': 3, 'max_depth': 6, 'learning_rate': 0.1, 'gamma': 1, 'colsample_bytree': 0.7}\n",
      "-0.522 (+/-0.174) for {'subsample': 0.9, 'n_estimators': 500, 'min_child_weight': 5, 'max_depth': 6, 'learning_rate': 0.1, 'gamma': 1, 'colsample_bytree': 0.6}\n",
      "-0.599 (+/-0.205) for {'subsample': 1.0, 'n_estimators': 500, 'min_child_weight': 3, 'max_depth': 3, 'learning_rate': 0.1, 'gamma': 5, 'colsample_bytree': 0.5}\n",
      "-0.558 (+/-0.185) for {'subsample': 0.6, 'n_estimators': 500, 'min_child_weight': 5, 'max_depth': 6, 'learning_rate': 0.01, 'gamma': 0, 'colsample_bytree': 0.9}\n",
      "-0.497 (+/-0.162) for {'subsample': 0.6, 'n_estimators': 1500, 'min_child_weight': 1, 'max_depth': 10, 'learning_rate': 0.01, 'gamma': 0, 'colsample_bytree': 0.9}\n",
      "-0.571 (+/-0.197) for {'subsample': 0.9, 'n_estimators': 1500, 'min_child_weight': 1, 'max_depth': 3, 'learning_rate': 0.01, 'gamma': 0, 'colsample_bytree': 0.8}\n",
      "-0.568 (+/-0.174) for {'subsample': 1.0, 'n_estimators': 1500, 'min_child_weight': 5, 'max_depth': 10, 'learning_rate': 0.01, 'gamma': 5, 'colsample_bytree': 1.0}\n",
      "-0.577 (+/-0.199) for {'subsample': 0.8, 'n_estimators': 1500, 'min_child_weight': 3, 'max_depth': 3, 'learning_rate': 0.1, 'gamma': 5, 'colsample_bytree': 1.0}\n",
      "-0.619 (+/-0.193) for {'subsample': 0.9, 'n_estimators': 500, 'min_child_weight': 5, 'max_depth': 3, 'learning_rate': 0.01, 'gamma': 5, 'colsample_bytree': 0.6}\n",
      "-0.510 (+/-0.174) for {'subsample': 0.7, 'n_estimators': 1500, 'min_child_weight': 5, 'max_depth': 10, 'learning_rate': 0.01, 'gamma': 1, 'colsample_bytree': 0.5}\n",
      "-0.578 (+/-0.187) for {'subsample': 1.0, 'n_estimators': 1500, 'min_child_weight': 1, 'max_depth': 6, 'learning_rate': 0.1, 'gamma': 5, 'colsample_bytree': 0.7}\n",
      "-0.561 (+/-0.194) for {'subsample': 0.7, 'n_estimators': 500, 'min_child_weight': 3, 'max_depth': 6, 'learning_rate': 0.1, 'gamma': 5, 'colsample_bytree': 0.8}\n",
      "-0.516 (+/-0.148) for {'subsample': 0.9, 'n_estimators': 500, 'min_child_weight': 3, 'max_depth': 10, 'learning_rate': 0.1, 'gamma': 1, 'colsample_bytree': 1.0}\n",
      "-0.546 (+/-0.146) for {'subsample': 0.6, 'n_estimators': 1500, 'min_child_weight': 5, 'max_depth': 10, 'learning_rate': 0.1, 'gamma': 0, 'colsample_bytree': 0.8}\n",
      "-0.521 (+/-0.175) for {'subsample': 1.0, 'n_estimators': 500, 'min_child_weight': 3, 'max_depth': 6, 'learning_rate': 0.1, 'gamma': 0, 'colsample_bytree': 0.5}\n",
      "-0.506 (+/-0.167) for {'subsample': 0.7, 'n_estimators': 1500, 'min_child_weight': 1, 'max_depth': 10, 'learning_rate': 0.01, 'gamma': 1, 'colsample_bytree': 0.7}\n",
      "-0.519 (+/-0.161) for {'subsample': 0.7, 'n_estimators': 500, 'min_child_weight': 3, 'max_depth': 6, 'learning_rate': 0.1, 'gamma': 1, 'colsample_bytree': 0.7}\n",
      "-0.576 (+/-0.194) for {'subsample': 1.0, 'n_estimators': 1500, 'min_child_weight': 1, 'max_depth': 3, 'learning_rate': 0.01, 'gamma': 1, 'colsample_bytree': 0.9}\n",
      "-0.565 (+/-0.180) for {'subsample': 0.7, 'n_estimators': 500, 'min_child_weight': 1, 'max_depth': 10, 'learning_rate': 0.01, 'gamma': 5, 'colsample_bytree': 0.7}\n",
      "-0.580 (+/-0.201) for {'subsample': 0.6, 'n_estimators': 1500, 'min_child_weight': 1, 'max_depth': 3, 'learning_rate': 0.01, 'gamma': 5, 'colsample_bytree': 0.8}\n",
      "-0.522 (+/-0.175) for {'subsample': 0.9, 'n_estimators': 500, 'min_child_weight': 3, 'max_depth': 10, 'learning_rate': 0.01, 'gamma': 0, 'colsample_bytree': 0.5}\n",
      "-0.526 (+/-0.162) for {'subsample': 1.0, 'n_estimators': 500, 'min_child_weight': 3, 'max_depth': 10, 'learning_rate': 0.1, 'gamma': 1, 'colsample_bytree': 1.0}\n",
      "-0.558 (+/-0.183) for {'subsample': 0.8, 'n_estimators': 1500, 'min_child_weight': 5, 'max_depth': 10, 'learning_rate': 0.1, 'gamma': 5, 'colsample_bytree': 0.9}\n",
      "-0.525 (+/-0.162) for {'subsample': 1.0, 'n_estimators': 500, 'min_child_weight': 1, 'max_depth': 10, 'learning_rate': 0.01, 'gamma': 0, 'colsample_bytree': 0.8}\n",
      "-0.568 (+/-0.201) for {'subsample': 0.7, 'n_estimators': 1500, 'min_child_weight': 3, 'max_depth': 3, 'learning_rate': 0.01, 'gamma': 1, 'colsample_bytree': 0.7}\n",
      "-0.507 (+/-0.168) for {'subsample': 0.8, 'n_estimators': 1500, 'min_child_weight': 5, 'max_depth': 10, 'learning_rate': 0.01, 'gamma': 1, 'colsample_bytree': 0.6}\n",
      "-0.519 (+/-0.155) for {'subsample': 0.6, 'n_estimators': 500, 'min_child_weight': 1, 'max_depth': 10, 'learning_rate': 0.1, 'gamma': 1, 'colsample_bytree': 0.5}\n",
      "-0.536 (+/-0.188) for {'subsample': 1.0, 'n_estimators': 1500, 'min_child_weight': 3, 'max_depth': 6, 'learning_rate': 0.1, 'gamma': 1, 'colsample_bytree': 0.8}\n",
      "CPU times: total: 2h 14min 47s\n",
      "Wall time: 36min 1s\n"
     ]
    }
   ],
   "source": [
    "%%time\n",
    "a,b,c,d,e = prepare_input(train_labels, train_ecfp6_bits, target = 'logLD50_mmolkg', encoder = None)\n",
    "\n",
    "ld50_xgb_ecfp6bits = model_selection(xgb_reg, xgb_grid_parameters, a, c, scoring = 'neg_mean_squared_error', cv=5, GridSearch = False, n_iter=30, n_jobs=1)\n"
   ]
  },
  {
   "cell_type": "code",
   "execution_count": 117,
   "id": "3ce2cc21",
   "metadata": {},
   "outputs": [
    {
     "name": "stdout",
     "output_type": "stream",
     "text": [
      "Best parameters set found on development set: {'subsample': 0.6, 'n_estimators': 1500, 'min_child_weight': 3, 'max_depth': 6, 'learning_rate': 0.01, 'gamma': 0, 'colsample_bytree': 0.5}\n",
      "Best score: -0.4310792218926224\n",
      "Grid scores on development set:\n",
      "\n",
      "-0.562 (+/-0.159) for {'subsample': 1.0, 'n_estimators': 500, 'min_child_weight': 5, 'max_depth': 3, 'learning_rate': 0.1, 'gamma': 5, 'colsample_bytree': 0.9}\n",
      "-0.562 (+/-0.170) for {'subsample': 0.8, 'n_estimators': 500, 'min_child_weight': 3, 'max_depth': 3, 'learning_rate': 0.01, 'gamma': 5, 'colsample_bytree': 0.5}\n",
      "-0.524 (+/-0.149) for {'subsample': 1.0, 'n_estimators': 1500, 'min_child_weight': 5, 'max_depth': 6, 'learning_rate': 0.1, 'gamma': 5, 'colsample_bytree': 0.5}\n",
      "-0.479 (+/-0.078) for {'subsample': 1.0, 'n_estimators': 1500, 'min_child_weight': 5, 'max_depth': 6, 'learning_rate': 0.1, 'gamma': 0, 'colsample_bytree': 0.8}\n",
      "-0.553 (+/-0.160) for {'subsample': 0.9, 'n_estimators': 500, 'min_child_weight': 5, 'max_depth': 3, 'learning_rate': 0.1, 'gamma': 5, 'colsample_bytree': 0.6}\n",
      "-0.456 (+/-0.110) for {'subsample': 0.8, 'n_estimators': 1500, 'min_child_weight': 1, 'max_depth': 10, 'learning_rate': 0.1, 'gamma': 1, 'colsample_bytree': 0.5}\n",
      "-0.506 (+/-0.148) for {'subsample': 0.7, 'n_estimators': 1500, 'min_child_weight': 1, 'max_depth': 3, 'learning_rate': 0.01, 'gamma': 1, 'colsample_bytree': 0.7}\n",
      "-0.550 (+/-0.160) for {'subsample': 0.8, 'n_estimators': 500, 'min_child_weight': 5, 'max_depth': 3, 'learning_rate': 0.01, 'gamma': 0, 'colsample_bytree': 0.9}\n",
      "-0.467 (+/-0.090) for {'subsample': 0.8, 'n_estimators': 1500, 'min_child_weight': 5, 'max_depth': 6, 'learning_rate': 0.1, 'gamma': 0, 'colsample_bytree': 0.8}\n",
      "-0.525 (+/-0.155) for {'subsample': 1.0, 'n_estimators': 1500, 'min_child_weight': 3, 'max_depth': 10, 'learning_rate': 0.01, 'gamma': 5, 'colsample_bytree': 0.9}\n",
      "-0.518 (+/-0.149) for {'subsample': 1.0, 'n_estimators': 1500, 'min_child_weight': 5, 'max_depth': 10, 'learning_rate': 0.1, 'gamma': 5, 'colsample_bytree': 0.6}\n",
      "-0.532 (+/-0.139) for {'subsample': 1.0, 'n_estimators': 1500, 'min_child_weight': 3, 'max_depth': 3, 'learning_rate': 0.01, 'gamma': 1, 'colsample_bytree': 0.9}\n",
      "-0.460 (+/-0.111) for {'subsample': 0.8, 'n_estimators': 1500, 'min_child_weight': 1, 'max_depth': 10, 'learning_rate': 0.1, 'gamma': 1, 'colsample_bytree': 0.9}\n",
      "-0.528 (+/-0.155) for {'subsample': 1.0, 'n_estimators': 1500, 'min_child_weight': 3, 'max_depth': 3, 'learning_rate': 0.1, 'gamma': 1, 'colsample_bytree': 0.6}\n",
      "-0.463 (+/-0.073) for {'subsample': 0.6, 'n_estimators': 500, 'min_child_weight': 1, 'max_depth': 10, 'learning_rate': 0.1, 'gamma': 0, 'colsample_bytree': 0.7}\n",
      "-0.467 (+/-0.134) for {'subsample': 0.8, 'n_estimators': 500, 'min_child_weight': 5, 'max_depth': 6, 'learning_rate': 0.01, 'gamma': 0, 'colsample_bytree': 0.6}\n",
      "-0.553 (+/-0.165) for {'subsample': 0.9, 'n_estimators': 500, 'min_child_weight': 5, 'max_depth': 3, 'learning_rate': 0.1, 'gamma': 5, 'colsample_bytree': 0.8}\n",
      "-0.454 (+/-0.116) for {'subsample': 0.9, 'n_estimators': 1500, 'min_child_weight': 5, 'max_depth': 10, 'learning_rate': 0.1, 'gamma': 1, 'colsample_bytree': 0.8}\n",
      "-0.496 (+/-0.134) for {'subsample': 0.8, 'n_estimators': 500, 'min_child_weight': 5, 'max_depth': 3, 'learning_rate': 0.1, 'gamma': 1, 'colsample_bytree': 0.7}\n",
      "-0.477 (+/-0.095) for {'subsample': 0.6, 'n_estimators': 1500, 'min_child_weight': 1, 'max_depth': 10, 'learning_rate': 0.1, 'gamma': 0, 'colsample_bytree': 1.0}\n",
      "-0.438 (+/-0.114) for {'subsample': 1.0, 'n_estimators': 1500, 'min_child_weight': 3, 'max_depth': 6, 'learning_rate': 0.01, 'gamma': 0, 'colsample_bytree': 0.5}\n",
      "-0.457 (+/-0.110) for {'subsample': 0.9, 'n_estimators': 1500, 'min_child_weight': 3, 'max_depth': 10, 'learning_rate': 0.1, 'gamma': 1, 'colsample_bytree': 0.6}\n",
      "-0.516 (+/-0.141) for {'subsample': 0.8, 'n_estimators': 500, 'min_child_weight': 1, 'max_depth': 10, 'learning_rate': 0.1, 'gamma': 5, 'colsample_bytree': 0.9}\n",
      "-0.462 (+/-0.107) for {'subsample': 1.0, 'n_estimators': 1500, 'min_child_weight': 3, 'max_depth': 10, 'learning_rate': 0.1, 'gamma': 1, 'colsample_bytree': 0.5}\n",
      "-0.557 (+/-0.166) for {'subsample': 0.6, 'n_estimators': 500, 'min_child_weight': 1, 'max_depth': 3, 'learning_rate': 0.01, 'gamma': 5, 'colsample_bytree': 0.8}\n",
      "-0.432 (+/-0.093) for {'subsample': 0.8, 'n_estimators': 1500, 'min_child_weight': 1, 'max_depth': 10, 'learning_rate': 0.01, 'gamma': 0, 'colsample_bytree': 0.8}\n",
      "-0.554 (+/-0.165) for {'subsample': 0.8, 'n_estimators': 500, 'min_child_weight': 3, 'max_depth': 3, 'learning_rate': 0.01, 'gamma': 1, 'colsample_bytree': 0.6}\n",
      "-0.464 (+/-0.075) for {'subsample': 0.7, 'n_estimators': 1500, 'min_child_weight': 3, 'max_depth': 10, 'learning_rate': 0.1, 'gamma': 0, 'colsample_bytree': 0.8}\n",
      "-0.507 (+/-0.143) for {'subsample': 0.9, 'n_estimators': 1500, 'min_child_weight': 1, 'max_depth': 3, 'learning_rate': 0.01, 'gamma': 0, 'colsample_bytree': 0.5}\n",
      "-0.431 (+/-0.105) for {'subsample': 0.6, 'n_estimators': 1500, 'min_child_weight': 3, 'max_depth': 6, 'learning_rate': 0.01, 'gamma': 0, 'colsample_bytree': 0.5}\n",
      "CPU times: total: 27min 7s\n",
      "Wall time: 5min 14s\n"
     ]
    }
   ],
   "source": [
    "%%time\n",
    "a,b,c,d,e = prepare_input(train_labels, train_maccs, target = 'logLD50_mmolkg', encoder = None)\n",
    "\n",
    "ld50_xgb_maccs = model_selection(xgb_reg, xgb_grid_parameters, a, c, scoring = 'neg_mean_squared_error', cv=5, GridSearch = False, n_iter=30, n_jobs=1)\n"
   ]
  },
  {
   "cell_type": "code",
   "execution_count": 118,
   "id": "8083fd9b",
   "metadata": {},
   "outputs": [
    {
     "name": "stdout",
     "output_type": "stream",
     "text": [
      "Best parameters set found on development set: {'subsample': 0.9, 'n_estimators': 1500, 'min_child_weight': 3, 'max_depth': 10, 'learning_rate': 0.01, 'gamma': 0, 'colsample_bytree': 0.5}\n",
      "Best score: -0.4954868664317701\n",
      "Grid scores on development set:\n",
      "\n",
      "-0.589 (+/-0.194) for {'subsample': 1.0, 'n_estimators': 1500, 'min_child_weight': 1, 'max_depth': 3, 'learning_rate': 0.01, 'gamma': 1, 'colsample_bytree': 0.7}\n",
      "-0.585 (+/-0.185) for {'subsample': 0.7, 'n_estimators': 500, 'min_child_weight': 1, 'max_depth': 6, 'learning_rate': 0.01, 'gamma': 5, 'colsample_bytree': 0.7}\n",
      "-0.535 (+/-0.160) for {'subsample': 0.6, 'n_estimators': 1500, 'min_child_weight': 3, 'max_depth': 10, 'learning_rate': 0.1, 'gamma': 1, 'colsample_bytree': 0.8}\n",
      "-0.526 (+/-0.166) for {'subsample': 0.7, 'n_estimators': 1500, 'min_child_weight': 5, 'max_depth': 6, 'learning_rate': 0.01, 'gamma': 1, 'colsample_bytree': 0.7}\n",
      "-0.534 (+/-0.177) for {'subsample': 0.6, 'n_estimators': 500, 'min_child_weight': 5, 'max_depth': 6, 'learning_rate': 0.1, 'gamma': 0, 'colsample_bytree': 0.6}\n",
      "-0.549 (+/-0.166) for {'subsample': 1.0, 'n_estimators': 1500, 'min_child_weight': 1, 'max_depth': 6, 'learning_rate': 0.1, 'gamma': 1, 'colsample_bytree': 0.8}\n",
      "-0.581 (+/-0.192) for {'subsample': 0.6, 'n_estimators': 1500, 'min_child_weight': 3, 'max_depth': 6, 'learning_rate': 0.1, 'gamma': 5, 'colsample_bytree': 0.8}\n",
      "-0.586 (+/-0.195) for {'subsample': 1.0, 'n_estimators': 1500, 'min_child_weight': 5, 'max_depth': 3, 'learning_rate': 0.01, 'gamma': 0, 'colsample_bytree': 0.5}\n",
      "-0.530 (+/-0.143) for {'subsample': 1.0, 'n_estimators': 500, 'min_child_weight': 1, 'max_depth': 10, 'learning_rate': 0.1, 'gamma': 0, 'colsample_bytree': 0.9}\n",
      "-0.495 (+/-0.150) for {'subsample': 0.9, 'n_estimators': 1500, 'min_child_weight': 3, 'max_depth': 10, 'learning_rate': 0.01, 'gamma': 0, 'colsample_bytree': 0.5}\n",
      "-0.575 (+/-0.186) for {'subsample': 0.7, 'n_estimators': 1500, 'min_child_weight': 5, 'max_depth': 3, 'learning_rate': 0.01, 'gamma': 1, 'colsample_bytree': 0.6}\n",
      "-0.625 (+/-0.187) for {'subsample': 0.9, 'n_estimators': 500, 'min_child_weight': 5, 'max_depth': 3, 'learning_rate': 0.01, 'gamma': 1, 'colsample_bytree': 1.0}\n",
      "-0.535 (+/-0.174) for {'subsample': 0.8, 'n_estimators': 1500, 'min_child_weight': 5, 'max_depth': 6, 'learning_rate': 0.1, 'gamma': 1, 'colsample_bytree': 0.9}\n",
      "-0.626 (+/-0.191) for {'subsample': 1.0, 'n_estimators': 500, 'min_child_weight': 5, 'max_depth': 3, 'learning_rate': 0.01, 'gamma': 0, 'colsample_bytree': 0.6}\n",
      "-0.549 (+/-0.177) for {'subsample': 1.0, 'n_estimators': 1500, 'min_child_weight': 3, 'max_depth': 10, 'learning_rate': 0.01, 'gamma': 1, 'colsample_bytree': 1.0}\n",
      "-0.537 (+/-0.162) for {'subsample': 0.9, 'n_estimators': 1500, 'min_child_weight': 1, 'max_depth': 6, 'learning_rate': 0.1, 'gamma': 1, 'colsample_bytree': 0.7}\n",
      "-0.597 (+/-0.193) for {'subsample': 1.0, 'n_estimators': 1500, 'min_child_weight': 1, 'max_depth': 6, 'learning_rate': 0.01, 'gamma': 5, 'colsample_bytree': 1.0}\n",
      "-0.514 (+/-0.143) for {'subsample': 1.0, 'n_estimators': 1500, 'min_child_weight': 1, 'max_depth': 10, 'learning_rate': 0.1, 'gamma': 0, 'colsample_bytree': 0.5}\n",
      "-0.560 (+/-0.175) for {'subsample': 0.6, 'n_estimators': 500, 'min_child_weight': 3, 'max_depth': 3, 'learning_rate': 0.1, 'gamma': 1, 'colsample_bytree': 0.8}\n",
      "-0.601 (+/-0.200) for {'subsample': 0.9, 'n_estimators': 500, 'min_child_weight': 5, 'max_depth': 3, 'learning_rate': 0.1, 'gamma': 5, 'colsample_bytree': 0.7}\n",
      "-0.532 (+/-0.137) for {'subsample': 0.8, 'n_estimators': 1500, 'min_child_weight': 3, 'max_depth': 6, 'learning_rate': 0.1, 'gamma': 0, 'colsample_bytree': 1.0}\n",
      "-0.593 (+/-0.185) for {'subsample': 1.0, 'n_estimators': 1500, 'min_child_weight': 3, 'max_depth': 6, 'learning_rate': 0.01, 'gamma': 5, 'colsample_bytree': 0.7}\n",
      "-0.580 (+/-0.190) for {'subsample': 0.8, 'n_estimators': 1500, 'min_child_weight': 1, 'max_depth': 6, 'learning_rate': 0.01, 'gamma': 5, 'colsample_bytree': 0.7}\n",
      "-0.561 (+/-0.192) for {'subsample': 0.9, 'n_estimators': 500, 'min_child_weight': 3, 'max_depth': 6, 'learning_rate': 0.01, 'gamma': 0, 'colsample_bytree': 1.0}\n",
      "-0.497 (+/-0.149) for {'subsample': 0.7, 'n_estimators': 1500, 'min_child_weight': 3, 'max_depth': 10, 'learning_rate': 0.01, 'gamma': 0, 'colsample_bytree': 0.5}\n",
      "-0.576 (+/-0.190) for {'subsample': 0.7, 'n_estimators': 500, 'min_child_weight': 5, 'max_depth': 10, 'learning_rate': 0.1, 'gamma': 5, 'colsample_bytree': 0.5}\n",
      "-0.580 (+/-0.177) for {'subsample': 0.9, 'n_estimators': 500, 'min_child_weight': 5, 'max_depth': 10, 'learning_rate': 0.1, 'gamma': 5, 'colsample_bytree': 0.5}\n",
      "-0.532 (+/-0.163) for {'subsample': 0.9, 'n_estimators': 1500, 'min_child_weight': 1, 'max_depth': 10, 'learning_rate': 0.1, 'gamma': 1, 'colsample_bytree': 0.9}\n",
      "-0.522 (+/-0.168) for {'subsample': 0.9, 'n_estimators': 500, 'min_child_weight': 5, 'max_depth': 10, 'learning_rate': 0.01, 'gamma': 0, 'colsample_bytree': 0.6}\n",
      "-0.583 (+/-0.187) for {'subsample': 0.6, 'n_estimators': 500, 'min_child_weight': 5, 'max_depth': 6, 'learning_rate': 0.1, 'gamma': 5, 'colsample_bytree': 0.8}\n",
      "CPU times: total: 1h 52min 41s\n",
      "Wall time: 25min 48s\n"
     ]
    }
   ],
   "source": [
    "%%time\n",
    "a,b,c,d,e = prepare_input(train_labels, train_ecfp6_counts, target = 'logLD50_mmolkg', encoder = None)\n",
    "\n",
    "ld50_xgb_ecfp6count = model_selection(xgb_reg, xgb_grid_parameters, a, c, scoring = 'neg_mean_squared_error', cv=5, GridSearch = False, n_iter=30, n_jobs=1)\n"
   ]
  },
  {
   "cell_type": "code",
   "execution_count": 119,
   "id": "a878302b",
   "metadata": {},
   "outputs": [
    {
     "name": "stdout",
     "output_type": "stream",
     "text": [
      "Best parameters set found on development set: {'subsample': 0.7, 'n_estimators': 1500, 'min_child_weight': 5, 'max_depth': 10, 'learning_rate': 0.01, 'gamma': 0, 'colsample_bytree': 0.6}\n",
      "Best score: -0.4468637779795599\n",
      "Grid scores on development set:\n",
      "\n",
      "-0.481 (+/-0.118) for {'subsample': 0.7, 'n_estimators': 500, 'min_child_weight': 3, 'max_depth': 10, 'learning_rate': 0.1, 'gamma': 1, 'colsample_bytree': 0.9}\n",
      "-0.477 (+/-0.122) for {'subsample': 0.9, 'n_estimators': 1500, 'min_child_weight': 1, 'max_depth': 6, 'learning_rate': 0.01, 'gamma': 1, 'colsample_bytree': 1.0}\n",
      "-0.520 (+/-0.148) for {'subsample': 0.9, 'n_estimators': 500, 'min_child_weight': 1, 'max_depth': 6, 'learning_rate': 0.01, 'gamma': 5, 'colsample_bytree': 0.5}\n",
      "-0.467 (+/-0.129) for {'subsample': 0.7, 'n_estimators': 500, 'min_child_weight': 3, 'max_depth': 10, 'learning_rate': 0.01, 'gamma': 1, 'colsample_bytree': 0.5}\n",
      "-0.477 (+/-0.123) for {'subsample': 0.6, 'n_estimators': 500, 'min_child_weight': 3, 'max_depth': 10, 'learning_rate': 0.1, 'gamma': 1, 'colsample_bytree': 0.7}\n",
      "-0.530 (+/-0.155) for {'subsample': 1.0, 'n_estimators': 1500, 'min_child_weight': 5, 'max_depth': 3, 'learning_rate': 0.01, 'gamma': 0, 'colsample_bytree': 1.0}\n",
      "-0.513 (+/-0.143) for {'subsample': 0.8, 'n_estimators': 1500, 'min_child_weight': 5, 'max_depth': 10, 'learning_rate': 0.1, 'gamma': 5, 'colsample_bytree': 0.7}\n",
      "-0.483 (+/-0.128) for {'subsample': 0.8, 'n_estimators': 500, 'min_child_weight': 1, 'max_depth': 10, 'learning_rate': 0.1, 'gamma': 1, 'colsample_bytree': 0.5}\n",
      "-0.562 (+/-0.160) for {'subsample': 0.6, 'n_estimators': 500, 'min_child_weight': 1, 'max_depth': 3, 'learning_rate': 0.01, 'gamma': 5, 'colsample_bytree': 0.6}\n",
      "-0.515 (+/-0.142) for {'subsample': 0.6, 'n_estimators': 500, 'min_child_weight': 5, 'max_depth': 10, 'learning_rate': 0.1, 'gamma': 5, 'colsample_bytree': 0.7}\n",
      "-0.472 (+/-0.123) for {'subsample': 0.8, 'n_estimators': 1500, 'min_child_weight': 5, 'max_depth': 6, 'learning_rate': 0.01, 'gamma': 1, 'colsample_bytree': 1.0}\n",
      "-0.551 (+/-0.157) for {'subsample': 0.9, 'n_estimators': 1500, 'min_child_weight': 5, 'max_depth': 3, 'learning_rate': 0.01, 'gamma': 5, 'colsample_bytree': 0.5}\n",
      "-0.487 (+/-0.135) for {'subsample': 0.6, 'n_estimators': 500, 'min_child_weight': 5, 'max_depth': 6, 'learning_rate': 0.01, 'gamma': 1, 'colsample_bytree': 0.9}\n",
      "-0.457 (+/-0.118) for {'subsample': 0.7, 'n_estimators': 500, 'min_child_weight': 1, 'max_depth': 10, 'learning_rate': 0.01, 'gamma': 0, 'colsample_bytree': 0.8}\n",
      "-0.473 (+/-0.118) for {'subsample': 0.9, 'n_estimators': 1500, 'min_child_weight': 1, 'max_depth': 6, 'learning_rate': 0.1, 'gamma': 0, 'colsample_bytree': 0.9}\n",
      "-0.529 (+/-0.157) for {'subsample': 1.0, 'n_estimators': 1500, 'min_child_weight': 5, 'max_depth': 6, 'learning_rate': 0.1, 'gamma': 5, 'colsample_bytree': 1.0}\n",
      "-0.519 (+/-0.152) for {'subsample': 0.7, 'n_estimators': 500, 'min_child_weight': 3, 'max_depth': 10, 'learning_rate': 0.1, 'gamma': 5, 'colsample_bytree': 0.7}\n",
      "-0.543 (+/-0.153) for {'subsample': 0.7, 'n_estimators': 1500, 'min_child_weight': 3, 'max_depth': 3, 'learning_rate': 0.01, 'gamma': 5, 'colsample_bytree': 0.6}\n",
      "-0.447 (+/-0.113) for {'subsample': 0.7, 'n_estimators': 1500, 'min_child_weight': 5, 'max_depth': 10, 'learning_rate': 0.01, 'gamma': 0, 'colsample_bytree': 0.6}\n",
      "-0.517 (+/-0.147) for {'subsample': 0.7, 'n_estimators': 500, 'min_child_weight': 1, 'max_depth': 6, 'learning_rate': 0.01, 'gamma': 5, 'colsample_bytree': 1.0}\n",
      "-0.492 (+/-0.131) for {'subsample': 0.6, 'n_estimators': 500, 'min_child_weight': 3, 'max_depth': 6, 'learning_rate': 0.1, 'gamma': 0, 'colsample_bytree': 0.9}\n",
      "-0.563 (+/-0.166) for {'subsample': 0.8, 'n_estimators': 500, 'min_child_weight': 5, 'max_depth': 3, 'learning_rate': 0.01, 'gamma': 5, 'colsample_bytree': 0.5}\n",
      "-0.470 (+/-0.131) for {'subsample': 0.9, 'n_estimators': 1500, 'min_child_weight': 1, 'max_depth': 10, 'learning_rate': 0.1, 'gamma': 0, 'colsample_bytree': 0.8}\n",
      "-0.494 (+/-0.122) for {'subsample': 0.9, 'n_estimators': 500, 'min_child_weight': 3, 'max_depth': 3, 'learning_rate': 0.1, 'gamma': 0, 'colsample_bytree': 0.7}\n",
      "-0.522 (+/-0.154) for {'subsample': 0.8, 'n_estimators': 500, 'min_child_weight': 5, 'max_depth': 6, 'learning_rate': 0.1, 'gamma': 5, 'colsample_bytree': 0.9}\n",
      "-0.535 (+/-0.139) for {'subsample': 0.6, 'n_estimators': 1500, 'min_child_weight': 1, 'max_depth': 3, 'learning_rate': 0.1, 'gamma': 5, 'colsample_bytree': 0.9}\n",
      "-0.558 (+/-0.157) for {'subsample': 0.6, 'n_estimators': 500, 'min_child_weight': 3, 'max_depth': 3, 'learning_rate': 0.01, 'gamma': 0, 'colsample_bytree': 0.8}\n",
      "-0.454 (+/-0.115) for {'subsample': 0.8, 'n_estimators': 500, 'min_child_weight': 1, 'max_depth': 10, 'learning_rate': 0.01, 'gamma': 0, 'colsample_bytree': 0.8}\n",
      "-0.496 (+/-0.121) for {'subsample': 0.6, 'n_estimators': 500, 'min_child_weight': 1, 'max_depth': 3, 'learning_rate': 0.1, 'gamma': 1, 'colsample_bytree': 0.8}\n",
      "-0.524 (+/-0.158) for {'subsample': 0.9, 'n_estimators': 1500, 'min_child_weight': 3, 'max_depth': 6, 'learning_rate': 0.1, 'gamma': 5, 'colsample_bytree': 0.5}\n",
      "CPU times: total: 1h 5min 19s\n",
      "Wall time: 11min 24s\n"
     ]
    }
   ],
   "source": [
    "%%time\n",
    "a,b,c,d,e = prepare_input(train_labels, train_rdkit2d, target = 'logLD50_mmolkg', encoder = None)\n",
    "\n",
    "ld50_xgb_rdkit2d = model_selection(xgb_reg, xgb_grid_parameters, a, c, scoring = 'neg_mean_squared_error', cv=5, GridSearch = False, n_iter=30, n_jobs=1)\n"
   ]
  },
  {
   "cell_type": "code",
   "execution_count": 120,
   "id": "39536398",
   "metadata": {},
   "outputs": [
    {
     "name": "stdout",
     "output_type": "stream",
     "text": [
      "Best parameters set found on development set: {'subsample': 0.7, 'n_estimators': 1500, 'min_child_weight': 1, 'max_depth': 6, 'learning_rate': 0.01, 'gamma': 0, 'colsample_bytree': 0.7}\n",
      "Best score: -0.42682088858473594\n",
      "Grid scores on development set:\n",
      "\n",
      "-0.428 (+/-0.103) for {'subsample': 0.6, 'n_estimators': 1500, 'min_child_weight': 3, 'max_depth': 6, 'learning_rate': 0.01, 'gamma': 0, 'colsample_bytree': 0.6}\n",
      "-0.481 (+/-0.137) for {'subsample': 0.8, 'n_estimators': 500, 'min_child_weight': 3, 'max_depth': 10, 'learning_rate': 0.01, 'gamma': 5, 'colsample_bytree': 0.6}\n",
      "-0.495 (+/-0.137) for {'subsample': 0.6, 'n_estimators': 500, 'min_child_weight': 5, 'max_depth': 6, 'learning_rate': 0.1, 'gamma': 5, 'colsample_bytree': 0.5}\n",
      "-0.427 (+/-0.101) for {'subsample': 0.7, 'n_estimators': 1500, 'min_child_weight': 1, 'max_depth': 6, 'learning_rate': 0.01, 'gamma': 0, 'colsample_bytree': 0.7}\n",
      "-0.474 (+/-0.100) for {'subsample': 0.8, 'n_estimators': 1500, 'min_child_weight': 3, 'max_depth': 3, 'learning_rate': 0.01, 'gamma': 0, 'colsample_bytree': 0.5}\n",
      "-0.451 (+/-0.111) for {'subsample': 0.8, 'n_estimators': 500, 'min_child_weight': 1, 'max_depth': 10, 'learning_rate': 0.1, 'gamma': 0, 'colsample_bytree': 0.8}\n",
      "-0.480 (+/-0.134) for {'subsample': 0.9, 'n_estimators': 500, 'min_child_weight': 3, 'max_depth': 10, 'learning_rate': 0.1, 'gamma': 5, 'colsample_bytree': 0.7}\n",
      "-0.457 (+/-0.108) for {'subsample': 0.6, 'n_estimators': 1500, 'min_child_weight': 1, 'max_depth': 10, 'learning_rate': 0.1, 'gamma': 0, 'colsample_bytree': 1.0}\n",
      "-0.471 (+/-0.102) for {'subsample': 0.7, 'n_estimators': 1500, 'min_child_weight': 3, 'max_depth': 3, 'learning_rate': 0.01, 'gamma': 1, 'colsample_bytree': 0.9}\n",
      "-0.456 (+/-0.118) for {'subsample': 0.9, 'n_estimators': 500, 'min_child_weight': 1, 'max_depth': 10, 'learning_rate': 0.1, 'gamma': 1, 'colsample_bytree': 0.9}\n",
      "-0.455 (+/-0.121) for {'subsample': 0.6, 'n_estimators': 1500, 'min_child_weight': 1, 'max_depth': 10, 'learning_rate': 0.1, 'gamma': 0, 'colsample_bytree': 0.7}\n",
      "-0.484 (+/-0.133) for {'subsample': 0.8, 'n_estimators': 500, 'min_child_weight': 3, 'max_depth': 6, 'learning_rate': 0.01, 'gamma': 5, 'colsample_bytree': 0.6}\n",
      "-0.456 (+/-0.133) for {'subsample': 0.9, 'n_estimators': 500, 'min_child_weight': 5, 'max_depth': 10, 'learning_rate': 0.1, 'gamma': 1, 'colsample_bytree': 0.9}\n",
      "-0.449 (+/-0.107) for {'subsample': 0.8, 'n_estimators': 500, 'min_child_weight': 1, 'max_depth': 6, 'learning_rate': 0.01, 'gamma': 1, 'colsample_bytree': 1.0}\n",
      "-0.469 (+/-0.130) for {'subsample': 1.0, 'n_estimators': 500, 'min_child_weight': 1, 'max_depth': 10, 'learning_rate': 0.1, 'gamma': 1, 'colsample_bytree': 1.0}\n",
      "-0.443 (+/-0.116) for {'subsample': 0.7, 'n_estimators': 500, 'min_child_weight': 1, 'max_depth': 10, 'learning_rate': 0.01, 'gamma': 1, 'colsample_bytree': 1.0}\n",
      "-0.440 (+/-0.109) for {'subsample': 0.6, 'n_estimators': 1500, 'min_child_weight': 1, 'max_depth': 10, 'learning_rate': 0.01, 'gamma': 1, 'colsample_bytree': 0.5}\n",
      "-0.453 (+/-0.113) for {'subsample': 0.7, 'n_estimators': 500, 'min_child_weight': 5, 'max_depth': 6, 'learning_rate': 0.01, 'gamma': 0, 'colsample_bytree': 0.6}\n",
      "-0.482 (+/-0.128) for {'subsample': 0.6, 'n_estimators': 1500, 'min_child_weight': 3, 'max_depth': 6, 'learning_rate': 0.01, 'gamma': 5, 'colsample_bytree': 0.7}\n",
      "-0.488 (+/-0.123) for {'subsample': 0.8, 'n_estimators': 500, 'min_child_weight': 5, 'max_depth': 6, 'learning_rate': 0.1, 'gamma': 5, 'colsample_bytree': 0.9}\n",
      "-0.475 (+/-0.106) for {'subsample': 0.6, 'n_estimators': 1500, 'min_child_weight': 5, 'max_depth': 3, 'learning_rate': 0.01, 'gamma': 0, 'colsample_bytree': 0.5}\n",
      "-0.506 (+/-0.121) for {'subsample': 0.9, 'n_estimators': 1500, 'min_child_weight': 1, 'max_depth': 3, 'learning_rate': 0.01, 'gamma': 5, 'colsample_bytree': 0.8}\n",
      "-0.438 (+/-0.108) for {'subsample': 0.6, 'n_estimators': 1500, 'min_child_weight': 1, 'max_depth': 6, 'learning_rate': 0.01, 'gamma': 1, 'colsample_bytree': 0.7}\n",
      "-0.485 (+/-0.135) for {'subsample': 0.6, 'n_estimators': 500, 'min_child_weight': 3, 'max_depth': 10, 'learning_rate': 0.01, 'gamma': 5, 'colsample_bytree': 0.5}\n",
      "-0.484 (+/-0.131) for {'subsample': 0.7, 'n_estimators': 500, 'min_child_weight': 3, 'max_depth': 10, 'learning_rate': 0.1, 'gamma': 5, 'colsample_bytree': 0.5}\n",
      "-0.427 (+/-0.111) for {'subsample': 0.9, 'n_estimators': 1500, 'min_child_weight': 3, 'max_depth': 10, 'learning_rate': 0.01, 'gamma': 0, 'colsample_bytree': 0.5}\n",
      "-0.485 (+/-0.126) for {'subsample': 0.8, 'n_estimators': 500, 'min_child_weight': 5, 'max_depth': 6, 'learning_rate': 0.1, 'gamma': 5, 'colsample_bytree': 0.6}\n",
      "-0.436 (+/-0.116) for {'subsample': 0.8, 'n_estimators': 500, 'min_child_weight': 1, 'max_depth': 10, 'learning_rate': 0.01, 'gamma': 0, 'colsample_bytree': 1.0}\n",
      "-0.486 (+/-0.133) for {'subsample': 1.0, 'n_estimators': 1500, 'min_child_weight': 5, 'max_depth': 6, 'learning_rate': 0.01, 'gamma': 5, 'colsample_bytree': 0.7}\n",
      "-0.526 (+/-0.128) for {'subsample': 0.9, 'n_estimators': 500, 'min_child_weight': 3, 'max_depth': 3, 'learning_rate': 0.01, 'gamma': 5, 'colsample_bytree': 0.9}\n",
      "CPU times: total: 5h 44min 7s\n",
      "Wall time: 59min 37s\n",
      "Parser   : 219 ms\n"
     ]
    }
   ],
   "source": [
    "%%time\n",
    "a,b,c,d,e = prepare_input(train_labels, train_mordred, target = 'logLD50_mmolkg', encoder = None)\n",
    "\n",
    "ld50_xgb_mordred = model_selection(xgb_reg, xgb_grid_parameters, a, c, scoring = 'neg_mean_squared_error', cv=5, GridSearch = False, n_iter=30, n_jobs=1)\n"
   ]
  },
  {
   "cell_type": "markdown",
   "id": "83c4b652",
   "metadata": {},
   "source": [
    "Endpoint 2: toxic"
   ]
  },
  {
   "cell_type": "code",
   "execution_count": null,
   "id": "364b99bd",
   "metadata": {},
   "outputs": [],
   "source": [
    "encoder_toxic = joblib.load('../encoder_models/encoder_toxic.joblib')"
   ]
  },
  {
   "cell_type": "code",
   "execution_count": 19,
   "id": "2d90fabf",
   "metadata": {},
   "outputs": [
    {
     "name": "stdout",
     "output_type": "stream",
     "text": [
      "Best parameters set found on development set: {'subsample': 0.6, 'n_estimators': 1500, 'min_child_weight': 3, 'max_depth': 10, 'learning_rate': 0.01, 'gamma': 1, 'colsample_bytree': 0.6}\n",
      "Best score: 0.779149971311067\n",
      "Grid scores on development set:\n",
      "\n",
      "0.767 (+/-0.063) for {'subsample': 1.0, 'n_estimators': 500, 'min_child_weight': 1, 'max_depth': 10, 'learning_rate': 0.1, 'gamma': 1, 'colsample_bytree': 0.9}\n",
      "0.755 (+/-0.048) for {'subsample': 0.6, 'n_estimators': 500, 'min_child_weight': 3, 'max_depth': 3, 'learning_rate': 0.1, 'gamma': 1, 'colsample_bytree': 0.7}\n",
      "0.765 (+/-0.056) for {'subsample': 0.8, 'n_estimators': 500, 'min_child_weight': 5, 'max_depth': 6, 'learning_rate': 0.1, 'gamma': 0, 'colsample_bytree': 1.0}\n",
      "0.754 (+/-0.050) for {'subsample': 0.7, 'n_estimators': 500, 'min_child_weight': 1, 'max_depth': 3, 'learning_rate': 0.1, 'gamma': 1, 'colsample_bytree': 0.8}\n",
      "0.764 (+/-0.053) for {'subsample': 0.6, 'n_estimators': 500, 'min_child_weight': 5, 'max_depth': 10, 'learning_rate': 0.01, 'gamma': 5, 'colsample_bytree': 1.0}\n",
      "0.751 (+/-0.050) for {'subsample': 0.7, 'n_estimators': 1500, 'min_child_weight': 5, 'max_depth': 3, 'learning_rate': 0.1, 'gamma': 1, 'colsample_bytree': 0.9}\n",
      "0.772 (+/-0.054) for {'subsample': 0.6, 'n_estimators': 500, 'min_child_weight': 3, 'max_depth': 10, 'learning_rate': 0.01, 'gamma': 0, 'colsample_bytree': 0.9}\n",
      "0.759 (+/-0.051) for {'subsample': 0.6, 'n_estimators': 1500, 'min_child_weight': 5, 'max_depth': 6, 'learning_rate': 0.1, 'gamma': 1, 'colsample_bytree': 0.7}\n",
      "0.761 (+/-0.055) for {'subsample': 0.6, 'n_estimators': 1500, 'min_child_weight': 3, 'max_depth': 6, 'learning_rate': 0.01, 'gamma': 5, 'colsample_bytree': 0.5}\n",
      "0.768 (+/-0.060) for {'subsample': 0.9, 'n_estimators': 500, 'min_child_weight': 5, 'max_depth': 10, 'learning_rate': 0.1, 'gamma': 0, 'colsample_bytree': 0.9}\n",
      "0.771 (+/-0.063) for {'subsample': 0.7, 'n_estimators': 500, 'min_child_weight': 1, 'max_depth': 10, 'learning_rate': 0.1, 'gamma': 0, 'colsample_bytree': 0.6}\n",
      "0.754 (+/-0.059) for {'subsample': 0.9, 'n_estimators': 500, 'min_child_weight': 3, 'max_depth': 3, 'learning_rate': 0.1, 'gamma': 0, 'colsample_bytree': 1.0}\n",
      "0.772 (+/-0.059) for {'subsample': 1.0, 'n_estimators': 500, 'min_child_weight': 1, 'max_depth': 10, 'learning_rate': 0.1, 'gamma': 1, 'colsample_bytree': 0.5}\n",
      "0.716 (+/-0.054) for {'subsample': 1.0, 'n_estimators': 500, 'min_child_weight': 5, 'max_depth': 3, 'learning_rate': 0.01, 'gamma': 5, 'colsample_bytree': 0.7}\n",
      "0.726 (+/-0.058) for {'subsample': 0.7, 'n_estimators': 500, 'min_child_weight': 1, 'max_depth': 3, 'learning_rate': 0.01, 'gamma': 0, 'colsample_bytree': 0.9}\n",
      "0.757 (+/-0.060) for {'subsample': 0.9, 'n_estimators': 1500, 'min_child_weight': 3, 'max_depth': 6, 'learning_rate': 0.1, 'gamma': 0, 'colsample_bytree': 0.7}\n",
      "0.767 (+/-0.051) for {'subsample': 0.9, 'n_estimators': 1500, 'min_child_weight': 3, 'max_depth': 10, 'learning_rate': 0.01, 'gamma': 5, 'colsample_bytree': 0.9}\n",
      "0.779 (+/-0.054) for {'subsample': 0.6, 'n_estimators': 1500, 'min_child_weight': 3, 'max_depth': 10, 'learning_rate': 0.01, 'gamma': 1, 'colsample_bytree': 0.6}\n",
      "0.770 (+/-0.061) for {'subsample': 1.0, 'n_estimators': 1500, 'min_child_weight': 1, 'max_depth': 10, 'learning_rate': 0.01, 'gamma': 1, 'colsample_bytree': 1.0}\n",
      "0.722 (+/-0.061) for {'subsample': 0.6, 'n_estimators': 500, 'min_child_weight': 3, 'max_depth': 3, 'learning_rate': 0.01, 'gamma': 0, 'colsample_bytree': 0.7}\n",
      "0.721 (+/-0.056) for {'subsample': 0.9, 'n_estimators': 500, 'min_child_weight': 1, 'max_depth': 3, 'learning_rate': 0.01, 'gamma': 5, 'colsample_bytree': 0.6}\n",
      "0.763 (+/-0.053) for {'subsample': 0.7, 'n_estimators': 500, 'min_child_weight': 3, 'max_depth': 10, 'learning_rate': 0.1, 'gamma': 5, 'colsample_bytree': 0.6}\n",
      "0.753 (+/-0.051) for {'subsample': 0.7, 'n_estimators': 500, 'min_child_weight': 3, 'max_depth': 6, 'learning_rate': 0.01, 'gamma': 1, 'colsample_bytree': 0.8}\n",
      "0.771 (+/-0.058) for {'subsample': 0.8, 'n_estimators': 500, 'min_child_weight': 1, 'max_depth': 10, 'learning_rate': 0.1, 'gamma': 1, 'colsample_bytree': 0.9}\n",
      "0.727 (+/-0.060) for {'subsample': 0.6, 'n_estimators': 500, 'min_child_weight': 1, 'max_depth': 3, 'learning_rate': 0.01, 'gamma': 1, 'colsample_bytree': 0.9}\n",
      "0.762 (+/-0.049) for {'subsample': 0.7, 'n_estimators': 500, 'min_child_weight': 5, 'max_depth': 10, 'learning_rate': 0.1, 'gamma': 5, 'colsample_bytree': 0.7}\n",
      "0.777 (+/-0.055) for {'subsample': 0.7, 'n_estimators': 500, 'min_child_weight': 1, 'max_depth': 10, 'learning_rate': 0.01, 'gamma': 0, 'colsample_bytree': 0.9}\n",
      "0.761 (+/-0.056) for {'subsample': 1.0, 'n_estimators': 1500, 'min_child_weight': 5, 'max_depth': 6, 'learning_rate': 0.1, 'gamma': 1, 'colsample_bytree': 1.0}\n",
      "0.769 (+/-0.057) for {'subsample': 0.8, 'n_estimators': 1500, 'min_child_weight': 1, 'max_depth': 6, 'learning_rate': 0.01, 'gamma': 1, 'colsample_bytree': 0.5}\n",
      "0.753 (+/-0.057) for {'subsample': 0.8, 'n_estimators': 1500, 'min_child_weight': 3, 'max_depth': 6, 'learning_rate': 0.1, 'gamma': 1, 'colsample_bytree': 0.6}\n",
      "CPU times: total: 1h 51min 49s\n",
      "Wall time: 18min 58s\n"
     ]
    }
   ],
   "source": [
    "%%time\n",
    "a,b,c,d,e = prepare_input(train_labels, train_ecfp6_bits, target = 'toxic', encoder = encoder_toxic)\n",
    "\n",
    "t_xgb_ecfp6bits = model_selection(xgb_clf, xgb_grid_parameters, a, c, scoring = 'roc_auc', cv=5, GridSearch = False, n_iter=30,n_jobs=1)\n"
   ]
  },
  {
   "cell_type": "code",
   "execution_count": 20,
   "id": "669af64b",
   "metadata": {},
   "outputs": [
    {
     "name": "stdout",
     "output_type": "stream",
     "text": [
      "Best parameters set found on development set: {'subsample': 0.8, 'n_estimators': 500, 'min_child_weight': 1, 'max_depth': 10, 'learning_rate': 0.01, 'gamma': 0, 'colsample_bytree': 0.6}\n",
      "Best score: 0.8204572276771425\n",
      "Grid scores on development set:\n",
      "\n",
      "0.803 (+/-0.073) for {'subsample': 0.9, 'n_estimators': 1500, 'min_child_weight': 3, 'max_depth': 3, 'learning_rate': 0.1, 'gamma': 0, 'colsample_bytree': 0.5}\n",
      "0.804 (+/-0.074) for {'subsample': 0.8, 'n_estimators': 500, 'min_child_weight': 3, 'max_depth': 10, 'learning_rate': 0.1, 'gamma': 0, 'colsample_bytree': 0.9}\n",
      "0.796 (+/-0.068) for {'subsample': 0.7, 'n_estimators': 1500, 'min_child_weight': 1, 'max_depth': 3, 'learning_rate': 0.01, 'gamma': 1, 'colsample_bytree': 0.6}\n",
      "0.779 (+/-0.068) for {'subsample': 0.9, 'n_estimators': 500, 'min_child_weight': 3, 'max_depth': 3, 'learning_rate': 0.01, 'gamma': 5, 'colsample_bytree': 0.7}\n",
      "0.799 (+/-0.074) for {'subsample': 0.8, 'n_estimators': 1500, 'min_child_weight': 1, 'max_depth': 10, 'learning_rate': 0.1, 'gamma': 0, 'colsample_bytree': 0.5}\n",
      "0.810 (+/-0.073) for {'subsample': 0.9, 'n_estimators': 500, 'min_child_weight': 5, 'max_depth': 6, 'learning_rate': 0.1, 'gamma': 1, 'colsample_bytree': 0.7}\n",
      "0.803 (+/-0.072) for {'subsample': 0.9, 'n_estimators': 1500, 'min_child_weight': 5, 'max_depth': 3, 'learning_rate': 0.1, 'gamma': 0, 'colsample_bytree': 0.5}\n",
      "0.804 (+/-0.068) for {'subsample': 0.6, 'n_estimators': 1500, 'min_child_weight': 1, 'max_depth': 6, 'learning_rate': 0.01, 'gamma': 5, 'colsample_bytree': 0.7}\n",
      "0.819 (+/-0.071) for {'subsample': 0.6, 'n_estimators': 1500, 'min_child_weight': 1, 'max_depth': 10, 'learning_rate': 0.01, 'gamma': 0, 'colsample_bytree': 0.6}\n",
      "0.803 (+/-0.073) for {'subsample': 1.0, 'n_estimators': 500, 'min_child_weight': 1, 'max_depth': 10, 'learning_rate': 0.01, 'gamma': 5, 'colsample_bytree': 0.7}\n",
      "0.779 (+/-0.069) for {'subsample': 0.9, 'n_estimators': 500, 'min_child_weight': 1, 'max_depth': 3, 'learning_rate': 0.01, 'gamma': 0, 'colsample_bytree': 0.5}\n",
      "0.812 (+/-0.069) for {'subsample': 0.7, 'n_estimators': 500, 'min_child_weight': 1, 'max_depth': 6, 'learning_rate': 0.01, 'gamma': 1, 'colsample_bytree': 0.5}\n",
      "0.804 (+/-0.071) for {'subsample': 0.7, 'n_estimators': 1500, 'min_child_weight': 5, 'max_depth': 3, 'learning_rate': 0.1, 'gamma': 1, 'colsample_bytree': 0.5}\n",
      "0.799 (+/-0.073) for {'subsample': 0.9, 'n_estimators': 1500, 'min_child_weight': 1, 'max_depth': 6, 'learning_rate': 0.01, 'gamma': 5, 'colsample_bytree': 1.0}\n",
      "0.814 (+/-0.071) for {'subsample': 0.8, 'n_estimators': 500, 'min_child_weight': 5, 'max_depth': 10, 'learning_rate': 0.01, 'gamma': 1, 'colsample_bytree': 0.8}\n",
      "0.820 (+/-0.070) for {'subsample': 0.8, 'n_estimators': 500, 'min_child_weight': 1, 'max_depth': 10, 'learning_rate': 0.01, 'gamma': 0, 'colsample_bytree': 0.6}\n",
      "0.801 (+/-0.071) for {'subsample': 0.7, 'n_estimators': 1500, 'min_child_weight': 1, 'max_depth': 6, 'learning_rate': 0.1, 'gamma': 5, 'colsample_bytree': 0.6}\n",
      "0.782 (+/-0.070) for {'subsample': 0.6, 'n_estimators': 500, 'min_child_weight': 5, 'max_depth': 3, 'learning_rate': 0.01, 'gamma': 0, 'colsample_bytree': 0.7}\n",
      "0.800 (+/-0.071) for {'subsample': 0.8, 'n_estimators': 1500, 'min_child_weight': 3, 'max_depth': 10, 'learning_rate': 0.1, 'gamma': 5, 'colsample_bytree': 0.5}\n",
      "0.804 (+/-0.076) for {'subsample': 1.0, 'n_estimators': 500, 'min_child_weight': 3, 'max_depth': 6, 'learning_rate': 0.01, 'gamma': 0, 'colsample_bytree': 0.7}\n",
      "0.801 (+/-0.079) for {'subsample': 1.0, 'n_estimators': 500, 'min_child_weight': 3, 'max_depth': 6, 'learning_rate': 0.1, 'gamma': 0, 'colsample_bytree': 0.9}\n",
      "0.805 (+/-0.076) for {'subsample': 0.8, 'n_estimators': 1500, 'min_child_weight': 3, 'max_depth': 6, 'learning_rate': 0.1, 'gamma': 1, 'colsample_bytree': 0.8}\n",
      "0.810 (+/-0.066) for {'subsample': 0.6, 'n_estimators': 500, 'min_child_weight': 5, 'max_depth': 6, 'learning_rate': 0.01, 'gamma': 0, 'colsample_bytree': 0.9}\n",
      "0.804 (+/-0.064) for {'subsample': 0.6, 'n_estimators': 500, 'min_child_weight': 5, 'max_depth': 10, 'learning_rate': 0.01, 'gamma': 5, 'colsample_bytree': 1.0}\n",
      "0.816 (+/-0.068) for {'subsample': 0.7, 'n_estimators': 500, 'min_child_weight': 5, 'max_depth': 10, 'learning_rate': 0.01, 'gamma': 0, 'colsample_bytree': 0.7}\n",
      "0.801 (+/-0.070) for {'subsample': 0.8, 'n_estimators': 500, 'min_child_weight': 3, 'max_depth': 6, 'learning_rate': 0.01, 'gamma': 5, 'colsample_bytree': 0.6}\n",
      "0.810 (+/-0.074) for {'subsample': 0.8, 'n_estimators': 500, 'min_child_weight': 1, 'max_depth': 6, 'learning_rate': 0.1, 'gamma': 1, 'colsample_bytree': 1.0}\n",
      "0.795 (+/-0.073) for {'subsample': 0.9, 'n_estimators': 1500, 'min_child_weight': 5, 'max_depth': 6, 'learning_rate': 0.1, 'gamma': 0, 'colsample_bytree': 0.9}\n",
      "0.802 (+/-0.069) for {'subsample': 0.8, 'n_estimators': 500, 'min_child_weight': 5, 'max_depth': 3, 'learning_rate': 0.1, 'gamma': 1, 'colsample_bytree': 0.6}\n",
      "0.816 (+/-0.073) for {'subsample': 0.8, 'n_estimators': 1500, 'min_child_weight': 3, 'max_depth': 10, 'learning_rate': 0.01, 'gamma': 1, 'colsample_bytree': 0.8}\n",
      "CPU times: total: 17min 39s\n",
      "Wall time: 2min 58s\n"
     ]
    }
   ],
   "source": [
    "%%time\n",
    "a,b,c,d,e = prepare_input(train_labels, train_maccs, target = 'toxic', encoder = encoder_toxic)\n",
    "\n",
    "t_xgb_maccs = model_selection(xgb_clf, xgb_grid_parameters, a, c, scoring = 'roc_auc', cv=5, GridSearch = False, n_iter=30,n_jobs=1)\n"
   ]
  },
  {
   "cell_type": "code",
   "execution_count": 21,
   "id": "3b63b81c",
   "metadata": {},
   "outputs": [
    {
     "name": "stdout",
     "output_type": "stream",
     "text": [
      "Best parameters set found on development set: {'subsample': 0.8, 'n_estimators': 1500, 'min_child_weight': 3, 'max_depth': 10, 'learning_rate': 0.01, 'gamma': 0, 'colsample_bytree': 0.6}\n",
      "Best score: 0.8300594548863851\n",
      "Grid scores on development set:\n",
      "\n",
      "0.807 (+/-0.058) for {'subsample': 0.8, 'n_estimators': 1500, 'min_child_weight': 5, 'max_depth': 3, 'learning_rate': 0.1, 'gamma': 5, 'colsample_bytree': 0.8}\n",
      "0.812 (+/-0.063) for {'subsample': 0.6, 'n_estimators': 500, 'min_child_weight': 5, 'max_depth': 6, 'learning_rate': 0.1, 'gamma': 1, 'colsample_bytree': 0.9}\n",
      "0.828 (+/-0.063) for {'subsample': 0.8, 'n_estimators': 1500, 'min_child_weight': 5, 'max_depth': 10, 'learning_rate': 0.01, 'gamma': 1, 'colsample_bytree': 0.8}\n",
      "0.809 (+/-0.058) for {'subsample': 1.0, 'n_estimators': 500, 'min_child_weight': 1, 'max_depth': 3, 'learning_rate': 0.1, 'gamma': 0, 'colsample_bytree': 1.0}\n",
      "0.811 (+/-0.063) for {'subsample': 1.0, 'n_estimators': 500, 'min_child_weight': 5, 'max_depth': 10, 'learning_rate': 0.1, 'gamma': 5, 'colsample_bytree': 0.6}\n",
      "0.781 (+/-0.066) for {'subsample': 0.9, 'n_estimators': 500, 'min_child_weight': 5, 'max_depth': 3, 'learning_rate': 0.01, 'gamma': 5, 'colsample_bytree': 0.8}\n",
      "0.802 (+/-0.066) for {'subsample': 1.0, 'n_estimators': 1500, 'min_child_weight': 5, 'max_depth': 6, 'learning_rate': 0.01, 'gamma': 5, 'colsample_bytree': 1.0}\n",
      "0.814 (+/-0.066) for {'subsample': 1.0, 'n_estimators': 1500, 'min_child_weight': 1, 'max_depth': 6, 'learning_rate': 0.1, 'gamma': 0, 'colsample_bytree': 1.0}\n",
      "0.781 (+/-0.069) for {'subsample': 0.9, 'n_estimators': 500, 'min_child_weight': 5, 'max_depth': 3, 'learning_rate': 0.01, 'gamma': 0, 'colsample_bytree': 1.0}\n",
      "0.797 (+/-0.060) for {'subsample': 1.0, 'n_estimators': 1500, 'min_child_weight': 1, 'max_depth': 3, 'learning_rate': 0.01, 'gamma': 1, 'colsample_bytree': 1.0}\n",
      "0.814 (+/-0.057) for {'subsample': 0.7, 'n_estimators': 1500, 'min_child_weight': 5, 'max_depth': 6, 'learning_rate': 0.1, 'gamma': 5, 'colsample_bytree': 0.5}\n",
      "0.814 (+/-0.061) for {'subsample': 0.7, 'n_estimators': 500, 'min_child_weight': 5, 'max_depth': 6, 'learning_rate': 0.1, 'gamma': 5, 'colsample_bytree': 0.9}\n",
      "0.811 (+/-0.059) for {'subsample': 0.8, 'n_estimators': 1500, 'min_child_weight': 5, 'max_depth': 6, 'learning_rate': 0.1, 'gamma': 5, 'colsample_bytree': 0.6}\n",
      "0.810 (+/-0.062) for {'subsample': 0.9, 'n_estimators': 500, 'min_child_weight': 1, 'max_depth': 6, 'learning_rate': 0.1, 'gamma': 5, 'colsample_bytree': 0.8}\n",
      "0.807 (+/-0.065) for {'subsample': 1.0, 'n_estimators': 1500, 'min_child_weight': 5, 'max_depth': 3, 'learning_rate': 0.1, 'gamma': 0, 'colsample_bytree': 0.7}\n",
      "0.817 (+/-0.063) for {'subsample': 0.8, 'n_estimators': 1500, 'min_child_weight': 3, 'max_depth': 6, 'learning_rate': 0.1, 'gamma': 1, 'colsample_bytree': 0.8}\n",
      "0.829 (+/-0.061) for {'subsample': 0.8, 'n_estimators': 1500, 'min_child_weight': 5, 'max_depth': 10, 'learning_rate': 0.01, 'gamma': 0, 'colsample_bytree': 0.7}\n",
      "0.816 (+/-0.063) for {'subsample': 0.7, 'n_estimators': 500, 'min_child_weight': 3, 'max_depth': 6, 'learning_rate': 0.1, 'gamma': 5, 'colsample_bytree': 1.0}\n",
      "0.806 (+/-0.064) for {'subsample': 1.0, 'n_estimators': 500, 'min_child_weight': 1, 'max_depth': 6, 'learning_rate': 0.1, 'gamma': 5, 'colsample_bytree': 0.6}\n",
      "0.815 (+/-0.067) for {'subsample': 0.6, 'n_estimators': 1500, 'min_child_weight': 5, 'max_depth': 10, 'learning_rate': 0.1, 'gamma': 1, 'colsample_bytree': 0.5}\n",
      "0.817 (+/-0.060) for {'subsample': 0.9, 'n_estimators': 500, 'min_child_weight': 1, 'max_depth': 6, 'learning_rate': 0.1, 'gamma': 1, 'colsample_bytree': 0.9}\n",
      "0.820 (+/-0.063) for {'subsample': 0.9, 'n_estimators': 500, 'min_child_weight': 3, 'max_depth': 10, 'learning_rate': 0.01, 'gamma': 5, 'colsample_bytree': 0.9}\n",
      "0.830 (+/-0.062) for {'subsample': 0.8, 'n_estimators': 1500, 'min_child_weight': 3, 'max_depth': 10, 'learning_rate': 0.01, 'gamma': 0, 'colsample_bytree': 0.6}\n",
      "0.806 (+/-0.058) for {'subsample': 0.7, 'n_estimators': 1500, 'min_child_weight': 5, 'max_depth': 3, 'learning_rate': 0.01, 'gamma': 5, 'colsample_bytree': 1.0}\n",
      "0.828 (+/-0.061) for {'subsample': 0.7, 'n_estimators': 1500, 'min_child_weight': 1, 'max_depth': 6, 'learning_rate': 0.01, 'gamma': 1, 'colsample_bytree': 0.8}\n",
      "0.817 (+/-0.062) for {'subsample': 0.7, 'n_estimators': 500, 'min_child_weight': 3, 'max_depth': 10, 'learning_rate': 0.1, 'gamma': 0, 'colsample_bytree': 0.8}\n",
      "0.805 (+/-0.067) for {'subsample': 1.0, 'n_estimators': 500, 'min_child_weight': 3, 'max_depth': 6, 'learning_rate': 0.01, 'gamma': 1, 'colsample_bytree': 1.0}\n",
      "0.810 (+/-0.066) for {'subsample': 1.0, 'n_estimators': 500, 'min_child_weight': 5, 'max_depth': 6, 'learning_rate': 0.1, 'gamma': 1, 'colsample_bytree': 0.9}\n",
      "0.807 (+/-0.065) for {'subsample': 0.9, 'n_estimators': 500, 'min_child_weight': 1, 'max_depth': 10, 'learning_rate': 0.1, 'gamma': 5, 'colsample_bytree': 1.0}\n",
      "0.828 (+/-0.058) for {'subsample': 0.8, 'n_estimators': 1500, 'min_child_weight': 1, 'max_depth': 6, 'learning_rate': 0.01, 'gamma': 1, 'colsample_bytree': 0.6}\n",
      "CPU times: total: 45min 42s\n",
      "Wall time: 7min 41s\n"
     ]
    }
   ],
   "source": [
    "%%time\n",
    "a,b,c,d,e = prepare_input(train_labels, train_rdkit2d, target = 'toxic', encoder = encoder_toxic)\n",
    "\n",
    "t_xgb_rdkit2d = model_selection(xgb_clf, xgb_grid_parameters, a, c, scoring = 'roc_auc', cv=5, GridSearch = False, n_iter=30,n_jobs=1)\n"
   ]
  },
  {
   "cell_type": "code",
   "execution_count": 22,
   "id": "22155374",
   "metadata": {},
   "outputs": [
    {
     "name": "stdout",
     "output_type": "stream",
     "text": [
      "Best parameters set found on development set: {'subsample': 0.6, 'n_estimators': 500, 'min_child_weight': 1, 'max_depth': 10, 'learning_rate': 0.01, 'gamma': 1, 'colsample_bytree': 0.7}\n",
      "Best score: 0.8345831522387966\n",
      "Grid scores on development set:\n",
      "\n",
      "0.832 (+/-0.061) for {'subsample': 0.6, 'n_estimators': 1500, 'min_child_weight': 3, 'max_depth': 10, 'learning_rate': 0.01, 'gamma': 5, 'colsample_bytree': 0.7}\n",
      "0.816 (+/-0.068) for {'subsample': 0.8, 'n_estimators': 1500, 'min_child_weight': 1, 'max_depth': 3, 'learning_rate': 0.1, 'gamma': 5, 'colsample_bytree': 0.7}\n",
      "0.813 (+/-0.067) for {'subsample': 0.9, 'n_estimators': 1500, 'min_child_weight': 3, 'max_depth': 3, 'learning_rate': 0.01, 'gamma': 1, 'colsample_bytree': 1.0}\n",
      "0.801 (+/-0.067) for {'subsample': 0.9, 'n_estimators': 500, 'min_child_weight': 3, 'max_depth': 3, 'learning_rate': 0.01, 'gamma': 1, 'colsample_bytree': 0.6}\n",
      "0.826 (+/-0.064) for {'subsample': 0.8, 'n_estimators': 1500, 'min_child_weight': 5, 'max_depth': 6, 'learning_rate': 0.01, 'gamma': 5, 'colsample_bytree': 0.5}\n",
      "0.803 (+/-0.062) for {'subsample': 0.6, 'n_estimators': 500, 'min_child_weight': 3, 'max_depth': 3, 'learning_rate': 0.01, 'gamma': 5, 'colsample_bytree': 0.7}\n",
      "0.814 (+/-0.068) for {'subsample': 0.9, 'n_estimators': 1500, 'min_child_weight': 3, 'max_depth': 3, 'learning_rate': 0.01, 'gamma': 0, 'colsample_bytree': 0.7}\n",
      "0.833 (+/-0.061) for {'subsample': 0.6, 'n_estimators': 1500, 'min_child_weight': 3, 'max_depth': 10, 'learning_rate': 0.01, 'gamma': 5, 'colsample_bytree': 1.0}\n",
      "0.822 (+/-0.061) for {'subsample': 0.6, 'n_estimators': 500, 'min_child_weight': 3, 'max_depth': 10, 'learning_rate': 0.1, 'gamma': 5, 'colsample_bytree': 0.8}\n",
      "0.817 (+/-0.066) for {'subsample': 0.7, 'n_estimators': 1500, 'min_child_weight': 5, 'max_depth': 3, 'learning_rate': 0.1, 'gamma': 5, 'colsample_bytree': 0.7}\n",
      "0.835 (+/-0.062) for {'subsample': 0.6, 'n_estimators': 500, 'min_child_weight': 1, 'max_depth': 10, 'learning_rate': 0.01, 'gamma': 1, 'colsample_bytree': 0.7}\n",
      "0.828 (+/-0.068) for {'subsample': 1.0, 'n_estimators': 1500, 'min_child_weight': 5, 'max_depth': 10, 'learning_rate': 0.1, 'gamma': 0, 'colsample_bytree': 0.8}\n",
      "0.830 (+/-0.063) for {'subsample': 0.8, 'n_estimators': 500, 'min_child_weight': 1, 'max_depth': 10, 'learning_rate': 0.01, 'gamma': 5, 'colsample_bytree': 0.9}\n",
      "0.822 (+/-0.065) for {'subsample': 0.7, 'n_estimators': 500, 'min_child_weight': 3, 'max_depth': 10, 'learning_rate': 0.1, 'gamma': 5, 'colsample_bytree': 0.8}\n",
      "0.815 (+/-0.061) for {'subsample': 0.7, 'n_estimators': 500, 'min_child_weight': 1, 'max_depth': 3, 'learning_rate': 0.1, 'gamma': 1, 'colsample_bytree': 0.7}\n",
      "0.801 (+/-0.067) for {'subsample': 0.9, 'n_estimators': 500, 'min_child_weight': 1, 'max_depth': 3, 'learning_rate': 0.01, 'gamma': 5, 'colsample_bytree': 0.6}\n",
      "0.821 (+/-0.062) for {'subsample': 0.6, 'n_estimators': 1500, 'min_child_weight': 3, 'max_depth': 6, 'learning_rate': 0.1, 'gamma': 5, 'colsample_bytree': 0.6}\n",
      "0.826 (+/-0.061) for {'subsample': 0.6, 'n_estimators': 500, 'min_child_weight': 1, 'max_depth': 6, 'learning_rate': 0.01, 'gamma': 1, 'colsample_bytree': 0.6}\n",
      "0.798 (+/-0.071) for {'subsample': 1.0, 'n_estimators': 500, 'min_child_weight': 5, 'max_depth': 3, 'learning_rate': 0.01, 'gamma': 1, 'colsample_bytree': 0.8}\n",
      "0.833 (+/-0.064) for {'subsample': 0.7, 'n_estimators': 1500, 'min_child_weight': 3, 'max_depth': 6, 'learning_rate': 0.01, 'gamma': 1, 'colsample_bytree': 0.5}\n",
      "0.830 (+/-0.064) for {'subsample': 0.8, 'n_estimators': 1500, 'min_child_weight': 1, 'max_depth': 10, 'learning_rate': 0.1, 'gamma': 0, 'colsample_bytree': 0.9}\n",
      "0.825 (+/-0.070) for {'subsample': 1.0, 'n_estimators': 500, 'min_child_weight': 3, 'max_depth': 6, 'learning_rate': 0.1, 'gamma': 1, 'colsample_bytree': 0.5}\n",
      "0.822 (+/-0.071) for {'subsample': 0.9, 'n_estimators': 500, 'min_child_weight': 1, 'max_depth': 10, 'learning_rate': 0.1, 'gamma': 5, 'colsample_bytree': 0.8}\n",
      "0.816 (+/-0.066) for {'subsample': 0.6, 'n_estimators': 1500, 'min_child_weight': 5, 'max_depth': 3, 'learning_rate': 0.01, 'gamma': 5, 'colsample_bytree': 0.9}\n",
      "0.818 (+/-0.064) for {'subsample': 0.6, 'n_estimators': 1500, 'min_child_weight': 1, 'max_depth': 3, 'learning_rate': 0.01, 'gamma': 1, 'colsample_bytree': 0.8}\n",
      "0.799 (+/-0.070) for {'subsample': 1.0, 'n_estimators': 500, 'min_child_weight': 1, 'max_depth': 3, 'learning_rate': 0.01, 'gamma': 0, 'colsample_bytree': 0.5}\n",
      "0.831 (+/-0.064) for {'subsample': 0.8, 'n_estimators': 1500, 'min_child_weight': 1, 'max_depth': 10, 'learning_rate': 0.01, 'gamma': 5, 'colsample_bytree': 1.0}\n",
      "0.822 (+/-0.065) for {'subsample': 0.6, 'n_estimators': 1500, 'min_child_weight': 3, 'max_depth': 6, 'learning_rate': 0.1, 'gamma': 1, 'colsample_bytree': 0.9}\n",
      "0.806 (+/-0.069) for {'subsample': 1.0, 'n_estimators': 1500, 'min_child_weight': 1, 'max_depth': 3, 'learning_rate': 0.01, 'gamma': 5, 'colsample_bytree': 0.7}\n",
      "0.828 (+/-0.063) for {'subsample': 0.7, 'n_estimators': 1500, 'min_child_weight': 1, 'max_depth': 6, 'learning_rate': 0.1, 'gamma': 0, 'colsample_bytree': 0.6}\n",
      "CPU times: total: 3h 5min 35s\n",
      "Wall time: 31min 12s\n"
     ]
    }
   ],
   "source": [
    "%%time\n",
    "a,b,c,d,e = prepare_input(train_labels, train_mordred, target = 'toxic', encoder = encoder_toxic)\n",
    "\n",
    "t_xgb_mordred = model_selection(xgb_clf, xgb_grid_parameters, a, c, scoring = 'roc_auc', cv=5, GridSearch = False, n_iter=30,n_jobs=1)\n"
   ]
  },
  {
   "cell_type": "code",
   "execution_count": 23,
   "id": "d1674739",
   "metadata": {},
   "outputs": [
    {
     "name": "stdout",
     "output_type": "stream",
     "text": [
      "Best parameters set found on development set: {'subsample': 0.7, 'n_estimators': 1500, 'min_child_weight': 1, 'max_depth': 10, 'learning_rate': 0.01, 'gamma': 1, 'colsample_bytree': 0.9}\n",
      "Best score: 0.7828889119910382\n",
      "Grid scores on development set:\n",
      "\n",
      "0.758 (+/-0.068) for {'subsample': 0.9, 'n_estimators': 500, 'min_child_weight': 5, 'max_depth': 6, 'learning_rate': 0.01, 'gamma': 1, 'colsample_bytree': 0.8}\n",
      "0.747 (+/-0.059) for {'subsample': 0.8, 'n_estimators': 1500, 'min_child_weight': 3, 'max_depth': 3, 'learning_rate': 0.1, 'gamma': 0, 'colsample_bytree': 0.6}\n",
      "0.762 (+/-0.060) for {'subsample': 1.0, 'n_estimators': 1500, 'min_child_weight': 1, 'max_depth': 10, 'learning_rate': 0.1, 'gamma': 0, 'colsample_bytree': 0.6}\n",
      "0.761 (+/-0.054) for {'subsample': 0.6, 'n_estimators': 500, 'min_child_weight': 1, 'max_depth': 6, 'learning_rate': 0.1, 'gamma': 1, 'colsample_bytree': 0.9}\n",
      "0.734 (+/-0.066) for {'subsample': 1.0, 'n_estimators': 1500, 'min_child_weight': 3, 'max_depth': 3, 'learning_rate': 0.01, 'gamma': 0, 'colsample_bytree': 0.6}\n",
      "0.717 (+/-0.071) for {'subsample': 0.9, 'n_estimators': 500, 'min_child_weight': 1, 'max_depth': 3, 'learning_rate': 0.01, 'gamma': 5, 'colsample_bytree': 0.8}\n",
      "0.750 (+/-0.061) for {'subsample': 0.8, 'n_estimators': 1500, 'min_child_weight': 1, 'max_depth': 3, 'learning_rate': 0.1, 'gamma': 0, 'colsample_bytree': 0.7}\n",
      "0.780 (+/-0.060) for {'subsample': 0.8, 'n_estimators': 1500, 'min_child_weight': 3, 'max_depth': 10, 'learning_rate': 0.01, 'gamma': 1, 'colsample_bytree': 1.0}\n",
      "0.719 (+/-0.073) for {'subsample': 0.8, 'n_estimators': 500, 'min_child_weight': 1, 'max_depth': 3, 'learning_rate': 0.01, 'gamma': 1, 'colsample_bytree': 0.9}\n",
      "0.723 (+/-0.071) for {'subsample': 0.6, 'n_estimators': 500, 'min_child_weight': 1, 'max_depth': 3, 'learning_rate': 0.01, 'gamma': 5, 'colsample_bytree': 1.0}\n",
      "0.763 (+/-0.053) for {'subsample': 0.6, 'n_estimators': 500, 'min_child_weight': 5, 'max_depth': 10, 'learning_rate': 0.1, 'gamma': 1, 'colsample_bytree': 0.9}\n",
      "0.783 (+/-0.059) for {'subsample': 0.7, 'n_estimators': 1500, 'min_child_weight': 1, 'max_depth': 10, 'learning_rate': 0.01, 'gamma': 1, 'colsample_bytree': 0.9}\n",
      "0.743 (+/-0.058) for {'subsample': 0.6, 'n_estimators': 1500, 'min_child_weight': 1, 'max_depth': 3, 'learning_rate': 0.1, 'gamma': 5, 'colsample_bytree': 0.5}\n",
      "0.749 (+/-0.062) for {'subsample': 0.9, 'n_estimators': 1500, 'min_child_weight': 3, 'max_depth': 3, 'learning_rate': 0.1, 'gamma': 0, 'colsample_bytree': 0.7}\n",
      "0.765 (+/-0.066) for {'subsample': 0.6, 'n_estimators': 500, 'min_child_weight': 3, 'max_depth': 10, 'learning_rate': 0.1, 'gamma': 1, 'colsample_bytree': 1.0}\n",
      "0.776 (+/-0.063) for {'subsample': 1.0, 'n_estimators': 500, 'min_child_weight': 5, 'max_depth': 10, 'learning_rate': 0.01, 'gamma': 1, 'colsample_bytree': 0.5}\n",
      "0.745 (+/-0.066) for {'subsample': 0.6, 'n_estimators': 1500, 'min_child_weight': 3, 'max_depth': 3, 'learning_rate': 0.01, 'gamma': 0, 'colsample_bytree': 0.5}\n",
      "0.753 (+/-0.060) for {'subsample': 0.9, 'n_estimators': 500, 'min_child_weight': 3, 'max_depth': 6, 'learning_rate': 0.1, 'gamma': 5, 'colsample_bytree': 0.5}\n",
      "0.759 (+/-0.065) for {'subsample': 0.7, 'n_estimators': 500, 'min_child_weight': 5, 'max_depth': 6, 'learning_rate': 0.01, 'gamma': 1, 'colsample_bytree': 0.8}\n",
      "0.739 (+/-0.064) for {'subsample': 0.9, 'n_estimators': 1500, 'min_child_weight': 3, 'max_depth': 3, 'learning_rate': 0.01, 'gamma': 5, 'colsample_bytree': 0.5}\n",
      "0.779 (+/-0.059) for {'subsample': 0.6, 'n_estimators': 1500, 'min_child_weight': 5, 'max_depth': 10, 'learning_rate': 0.01, 'gamma': 0, 'colsample_bytree': 1.0}\n",
      "0.766 (+/-0.071) for {'subsample': 0.9, 'n_estimators': 500, 'min_child_weight': 1, 'max_depth': 10, 'learning_rate': 0.1, 'gamma': 5, 'colsample_bytree': 0.6}\n",
      "0.756 (+/-0.059) for {'subsample': 0.8, 'n_estimators': 1500, 'min_child_weight': 3, 'max_depth': 6, 'learning_rate': 0.1, 'gamma': 5, 'colsample_bytree': 0.6}\n",
      "0.759 (+/-0.065) for {'subsample': 0.9, 'n_estimators': 500, 'min_child_weight': 3, 'max_depth': 6, 'learning_rate': 0.01, 'gamma': 0, 'colsample_bytree': 0.7}\n",
      "0.777 (+/-0.062) for {'subsample': 0.6, 'n_estimators': 500, 'min_child_weight': 5, 'max_depth': 10, 'learning_rate': 0.01, 'gamma': 1, 'colsample_bytree': 1.0}\n",
      "0.759 (+/-0.065) for {'subsample': 0.8, 'n_estimators': 500, 'min_child_weight': 5, 'max_depth': 6, 'learning_rate': 0.01, 'gamma': 1, 'colsample_bytree': 0.5}\n",
      "0.778 (+/-0.062) for {'subsample': 0.7, 'n_estimators': 500, 'min_child_weight': 5, 'max_depth': 10, 'learning_rate': 0.01, 'gamma': 1, 'colsample_bytree': 0.5}\n",
      "0.756 (+/-0.062) for {'subsample': 0.7, 'n_estimators': 1500, 'min_child_weight': 3, 'max_depth': 6, 'learning_rate': 0.1, 'gamma': 5, 'colsample_bytree': 1.0}\n",
      "0.757 (+/-0.054) for {'subsample': 0.8, 'n_estimators': 1500, 'min_child_weight': 1, 'max_depth': 6, 'learning_rate': 0.1, 'gamma': 5, 'colsample_bytree': 0.5}\n",
      "0.741 (+/-0.064) for {'subsample': 0.9, 'n_estimators': 1500, 'min_child_weight': 3, 'max_depth': 3, 'learning_rate': 0.01, 'gamma': 1, 'colsample_bytree': 0.5}\n",
      "CPU times: total: 1h 59min 36s\n",
      "Wall time: 20min 30s\n"
     ]
    }
   ],
   "source": [
    "%%time\n",
    "a,b,c,d,e = prepare_input(train_labels, train_ecfp6_counts, target = 'toxic', encoder = encoder_toxic)\n",
    "\n",
    "t_xgb_ecfp6count = model_selection(xgb_clf, xgb_grid_parameters, a, c, scoring = 'roc_auc', cv=5, GridSearch = False, n_iter=30,n_jobs=1)\n"
   ]
  },
  {
   "cell_type": "markdown",
   "id": "d8dffa25",
   "metadata": {},
   "source": [
    "Endpoint 3: EPA"
   ]
  },
  {
   "cell_type": "code",
   "execution_count": 24,
   "id": "cbe92b5b",
   "metadata": {},
   "outputs": [],
   "source": [
    "encoder_epa = joblib.load('../encoder_models/encoder_epa.joblib')\n"
   ]
  },
  {
   "cell_type": "code",
   "execution_count": 25,
   "id": "f363a993",
   "metadata": {},
   "outputs": [
    {
     "name": "stdout",
     "output_type": "stream",
     "text": [
      "Best parameters set found on development set: {'subsample': 0.7, 'n_estimators': 500, 'min_child_weight': 5, 'max_depth': 6, 'learning_rate': 0.1, 'gamma': 0, 'colsample_bytree': 0.8}\n",
      "Best score: 0.5168191594611219\n",
      "Grid scores on development set:\n",
      "\n",
      "0.475 (+/-0.049) for {'subsample': 0.8, 'n_estimators': 1500, 'min_child_weight': 3, 'max_depth': 6, 'learning_rate': 0.1, 'gamma': 5, 'colsample_bytree': 0.8}\n",
      "0.502 (+/-0.052) for {'subsample': 0.6, 'n_estimators': 500, 'min_child_weight': 1, 'max_depth': 10, 'learning_rate': 0.01, 'gamma': 1, 'colsample_bytree': 1.0}\n",
      "0.497 (+/-0.048) for {'subsample': 1.0, 'n_estimators': 500, 'min_child_weight': 5, 'max_depth': 3, 'learning_rate': 0.1, 'gamma': 1, 'colsample_bytree': 0.6}\n",
      "0.503 (+/-0.048) for {'subsample': 0.6, 'n_estimators': 1500, 'min_child_weight': 5, 'max_depth': 3, 'learning_rate': 0.1, 'gamma': 0, 'colsample_bytree': 0.9}\n",
      "0.499 (+/-0.046) for {'subsample': 1.0, 'n_estimators': 500, 'min_child_weight': 1, 'max_depth': 10, 'learning_rate': 0.01, 'gamma': 0, 'colsample_bytree': 0.5}\n",
      "0.509 (+/-0.039) for {'subsample': 0.6, 'n_estimators': 1500, 'min_child_weight': 3, 'max_depth': 3, 'learning_rate': 0.1, 'gamma': 1, 'colsample_bytree': 1.0}\n",
      "0.515 (+/-0.047) for {'subsample': 0.9, 'n_estimators': 500, 'min_child_weight': 1, 'max_depth': 6, 'learning_rate': 0.1, 'gamma': 0, 'colsample_bytree': 0.9}\n",
      "0.475 (+/-0.059) for {'subsample': 0.8, 'n_estimators': 1500, 'min_child_weight': 1, 'max_depth': 3, 'learning_rate': 0.01, 'gamma': 0, 'colsample_bytree': 0.9}\n",
      "0.517 (+/-0.054) for {'subsample': 0.6, 'n_estimators': 1500, 'min_child_weight': 1, 'max_depth': 10, 'learning_rate': 0.1, 'gamma': 1, 'colsample_bytree': 0.8}\n",
      "0.506 (+/-0.045) for {'subsample': 0.6, 'n_estimators': 1500, 'min_child_weight': 3, 'max_depth': 10, 'learning_rate': 0.1, 'gamma': 0, 'colsample_bytree': 1.0}\n",
      "0.420 (+/-0.049) for {'subsample': 0.6, 'n_estimators': 500, 'min_child_weight': 5, 'max_depth': 3, 'learning_rate': 0.01, 'gamma': 5, 'colsample_bytree': 0.9}\n",
      "0.515 (+/-0.061) for {'subsample': 0.8, 'n_estimators': 500, 'min_child_weight': 5, 'max_depth': 10, 'learning_rate': 0.1, 'gamma': 0, 'colsample_bytree': 1.0}\n",
      "0.455 (+/-0.054) for {'subsample': 0.9, 'n_estimators': 1500, 'min_child_weight': 5, 'max_depth': 3, 'learning_rate': 0.1, 'gamma': 5, 'colsample_bytree': 0.6}\n",
      "0.516 (+/-0.040) for {'subsample': 0.6, 'n_estimators': 500, 'min_child_weight': 3, 'max_depth': 6, 'learning_rate': 0.1, 'gamma': 1, 'colsample_bytree': 0.7}\n",
      "0.511 (+/-0.047) for {'subsample': 0.9, 'n_estimators': 1500, 'min_child_weight': 1, 'max_depth': 10, 'learning_rate': 0.1, 'gamma': 0, 'colsample_bytree': 1.0}\n",
      "0.463 (+/-0.060) for {'subsample': 1.0, 'n_estimators': 1500, 'min_child_weight': 3, 'max_depth': 3, 'learning_rate': 0.01, 'gamma': 0, 'colsample_bytree': 0.5}\n",
      "0.506 (+/-0.047) for {'subsample': 0.7, 'n_estimators': 1500, 'min_child_weight': 5, 'max_depth': 3, 'learning_rate': 0.1, 'gamma': 1, 'colsample_bytree': 0.7}\n",
      "0.451 (+/-0.052) for {'subsample': 1.0, 'n_estimators': 500, 'min_child_weight': 5, 'max_depth': 6, 'learning_rate': 0.1, 'gamma': 5, 'colsample_bytree': 0.9}\n",
      "0.509 (+/-0.041) for {'subsample': 0.6, 'n_estimators': 1500, 'min_child_weight': 3, 'max_depth': 10, 'learning_rate': 0.1, 'gamma': 0, 'colsample_bytree': 0.7}\n",
      "0.517 (+/-0.051) for {'subsample': 0.7, 'n_estimators': 500, 'min_child_weight': 5, 'max_depth': 6, 'learning_rate': 0.1, 'gamma': 0, 'colsample_bytree': 0.8}\n",
      "0.471 (+/-0.056) for {'subsample': 0.9, 'n_estimators': 1500, 'min_child_weight': 5, 'max_depth': 3, 'learning_rate': 0.01, 'gamma': 0, 'colsample_bytree': 0.7}\n",
      "0.495 (+/-0.055) for {'subsample': 0.8, 'n_estimators': 500, 'min_child_weight': 3, 'max_depth': 10, 'learning_rate': 0.01, 'gamma': 0, 'colsample_bytree': 0.9}\n",
      "0.509 (+/-0.050) for {'subsample': 0.7, 'n_estimators': 500, 'min_child_weight': 5, 'max_depth': 3, 'learning_rate': 0.1, 'gamma': 1, 'colsample_bytree': 0.6}\n",
      "0.430 (+/-0.047) for {'subsample': 1.0, 'n_estimators': 1500, 'min_child_weight': 3, 'max_depth': 3, 'learning_rate': 0.1, 'gamma': 5, 'colsample_bytree': 0.9}\n",
      "0.516 (+/-0.052) for {'subsample': 0.6, 'n_estimators': 1500, 'min_child_weight': 1, 'max_depth': 6, 'learning_rate': 0.1, 'gamma': 1, 'colsample_bytree': 0.5}\n",
      "0.516 (+/-0.050) for {'subsample': 0.9, 'n_estimators': 1500, 'min_child_weight': 1, 'max_depth': 10, 'learning_rate': 0.01, 'gamma': 0, 'colsample_bytree': 0.7}\n",
      "0.473 (+/-0.053) for {'subsample': 0.9, 'n_estimators': 1500, 'min_child_weight': 1, 'max_depth': 3, 'learning_rate': 0.01, 'gamma': 0, 'colsample_bytree': 1.0}\n",
      "0.465 (+/-0.063) for {'subsample': 0.6, 'n_estimators': 500, 'min_child_weight': 5, 'max_depth': 6, 'learning_rate': 0.01, 'gamma': 1, 'colsample_bytree': 0.5}\n",
      "0.473 (+/-0.061) for {'subsample': 0.8, 'n_estimators': 1500, 'min_child_weight': 3, 'max_depth': 3, 'learning_rate': 0.01, 'gamma': 0, 'colsample_bytree': 0.8}\n",
      "0.514 (+/-0.047) for {'subsample': 0.7, 'n_estimators': 1500, 'min_child_weight': 1, 'max_depth': 10, 'learning_rate': 0.1, 'gamma': 1, 'colsample_bytree': 0.8}\n",
      "CPU times: total: 9h 32min 19s\n",
      "Wall time: 1h 37min 16s\n"
     ]
    }
   ],
   "source": [
    "%%time\n",
    "a,b,c,d,e = prepare_input(train_labels, train_ecfp6_bits, target = 'EPA_category', encoder = encoder_epa)\n",
    "\n",
    "epa_xgb_ecfp6bits = model_selection(xgb_clf, xgb_grid_parameters, a, c, scoring = 'f1_weighted', cv=5, GridSearch = False, n_iter=30,n_jobs=1)\n"
   ]
  },
  {
   "cell_type": "code",
   "execution_count": 26,
   "id": "68dea7be",
   "metadata": {},
   "outputs": [
    {
     "name": "stdout",
     "output_type": "stream",
     "text": [
      "Best parameters set found on development set: {'subsample': 0.7, 'n_estimators': 1500, 'min_child_weight': 1, 'max_depth': 6, 'learning_rate': 0.01, 'gamma': 0, 'colsample_bytree': 0.5}\n",
      "Best score: 0.5367818120130525\n",
      "Grid scores on development set:\n",
      "\n",
      "0.534 (+/-0.024) for {'subsample': 0.7, 'n_estimators': 500, 'min_child_weight': 5, 'max_depth': 10, 'learning_rate': 0.1, 'gamma': 0, 'colsample_bytree': 1.0}\n",
      "0.461 (+/-0.047) for {'subsample': 0.7, 'n_estimators': 500, 'min_child_weight': 3, 'max_depth': 10, 'learning_rate': 0.01, 'gamma': 5, 'colsample_bytree': 0.8}\n",
      "0.527 (+/-0.025) for {'subsample': 0.6, 'n_estimators': 1500, 'min_child_weight': 5, 'max_depth': 10, 'learning_rate': 0.1, 'gamma': 0, 'colsample_bytree': 0.7}\n",
      "0.531 (+/-0.053) for {'subsample': 1.0, 'n_estimators': 500, 'min_child_weight': 5, 'max_depth': 10, 'learning_rate': 0.01, 'gamma': 0, 'colsample_bytree': 1.0}\n",
      "0.447 (+/-0.062) for {'subsample': 0.9, 'n_estimators': 500, 'min_child_weight': 3, 'max_depth': 3, 'learning_rate': 0.01, 'gamma': 5, 'colsample_bytree': 0.6}\n",
      "0.511 (+/-0.041) for {'subsample': 0.7, 'n_estimators': 500, 'min_child_weight': 5, 'max_depth': 6, 'learning_rate': 0.01, 'gamma': 1, 'colsample_bytree': 0.6}\n",
      "0.519 (+/-0.050) for {'subsample': 0.6, 'n_estimators': 1500, 'min_child_weight': 3, 'max_depth': 3, 'learning_rate': 0.1, 'gamma': 0, 'colsample_bytree': 0.7}\n",
      "0.437 (+/-0.060) for {'subsample': 0.6, 'n_estimators': 500, 'min_child_weight': 1, 'max_depth': 3, 'learning_rate': 0.01, 'gamma': 5, 'colsample_bytree': 0.7}\n",
      "0.495 (+/-0.018) for {'subsample': 0.9, 'n_estimators': 1500, 'min_child_weight': 5, 'max_depth': 3, 'learning_rate': 0.1, 'gamma': 1, 'colsample_bytree': 0.6}\n",
      "0.527 (+/-0.028) for {'subsample': 0.6, 'n_estimators': 1500, 'min_child_weight': 3, 'max_depth': 10, 'learning_rate': 0.1, 'gamma': 0, 'colsample_bytree': 0.7}\n",
      "0.471 (+/-0.046) for {'subsample': 0.9, 'n_estimators': 1500, 'min_child_weight': 5, 'max_depth': 10, 'learning_rate': 0.1, 'gamma': 5, 'colsample_bytree': 1.0}\n",
      "0.508 (+/-0.024) for {'subsample': 0.7, 'n_estimators': 500, 'min_child_weight': 5, 'max_depth': 3, 'learning_rate': 0.1, 'gamma': 1, 'colsample_bytree': 0.5}\n",
      "0.522 (+/-0.030) for {'subsample': 0.7, 'n_estimators': 1500, 'min_child_weight': 5, 'max_depth': 6, 'learning_rate': 0.1, 'gamma': 0, 'colsample_bytree': 1.0}\n",
      "0.484 (+/-0.022) for {'subsample': 1.0, 'n_estimators': 1500, 'min_child_weight': 1, 'max_depth': 3, 'learning_rate': 0.01, 'gamma': 0, 'colsample_bytree': 1.0}\n",
      "0.471 (+/-0.054) for {'subsample': 1.0, 'n_estimators': 1500, 'min_child_weight': 1, 'max_depth': 10, 'learning_rate': 0.1, 'gamma': 5, 'colsample_bytree': 0.8}\n",
      "0.534 (+/-0.040) for {'subsample': 0.8, 'n_estimators': 1500, 'min_child_weight': 5, 'max_depth': 10, 'learning_rate': 0.1, 'gamma': 1, 'colsample_bytree': 1.0}\n",
      "0.526 (+/-0.022) for {'subsample': 0.8, 'n_estimators': 1500, 'min_child_weight': 1, 'max_depth': 6, 'learning_rate': 0.1, 'gamma': 0, 'colsample_bytree': 0.9}\n",
      "0.484 (+/-0.023) for {'subsample': 1.0, 'n_estimators': 1500, 'min_child_weight': 5, 'max_depth': 3, 'learning_rate': 0.01, 'gamma': 0, 'colsample_bytree': 1.0}\n",
      "0.527 (+/-0.031) for {'subsample': 0.7, 'n_estimators': 500, 'min_child_weight': 3, 'max_depth': 6, 'learning_rate': 0.1, 'gamma': 1, 'colsample_bytree': 0.7}\n",
      "0.445 (+/-0.053) for {'subsample': 0.8, 'n_estimators': 500, 'min_child_weight': 1, 'max_depth': 3, 'learning_rate': 0.01, 'gamma': 5, 'colsample_bytree': 0.5}\n",
      "0.445 (+/-0.047) for {'subsample': 1.0, 'n_estimators': 1500, 'min_child_weight': 1, 'max_depth': 3, 'learning_rate': 0.1, 'gamma': 5, 'colsample_bytree': 0.9}\n",
      "0.537 (+/-0.040) for {'subsample': 0.7, 'n_estimators': 1500, 'min_child_weight': 1, 'max_depth': 6, 'learning_rate': 0.01, 'gamma': 0, 'colsample_bytree': 0.5}\n",
      "0.520 (+/-0.030) for {'subsample': 0.8, 'n_estimators': 500, 'min_child_weight': 5, 'max_depth': 6, 'learning_rate': 0.1, 'gamma': 1, 'colsample_bytree': 0.7}\n",
      "0.469 (+/-0.045) for {'subsample': 0.8, 'n_estimators': 1500, 'min_child_weight': 1, 'max_depth': 6, 'learning_rate': 0.1, 'gamma': 5, 'colsample_bytree': 0.6}\n",
      "0.518 (+/-0.043) for {'subsample': 0.9, 'n_estimators': 1500, 'min_child_weight': 1, 'max_depth': 6, 'learning_rate': 0.01, 'gamma': 1, 'colsample_bytree': 1.0}\n",
      "0.480 (+/-0.033) for {'subsample': 1.0, 'n_estimators': 500, 'min_child_weight': 5, 'max_depth': 3, 'learning_rate': 0.1, 'gamma': 1, 'colsample_bytree': 0.7}\n",
      "0.523 (+/-0.037) for {'subsample': 0.7, 'n_estimators': 1500, 'min_child_weight': 5, 'max_depth': 6, 'learning_rate': 0.01, 'gamma': 1, 'colsample_bytree': 1.0}\n",
      "0.485 (+/-0.031) for {'subsample': 1.0, 'n_estimators': 1500, 'min_child_weight': 5, 'max_depth': 3, 'learning_rate': 0.01, 'gamma': 0, 'colsample_bytree': 0.6}\n",
      "0.454 (+/-0.051) for {'subsample': 0.6, 'n_estimators': 1500, 'min_child_weight': 3, 'max_depth': 3, 'learning_rate': 0.01, 'gamma': 5, 'colsample_bytree': 0.6}\n",
      "0.451 (+/-0.052) for {'subsample': 0.8, 'n_estimators': 1500, 'min_child_weight': 3, 'max_depth': 3, 'learning_rate': 0.01, 'gamma': 5, 'colsample_bytree': 0.5}\n",
      "CPU times: total: 1h 12min 59s\n",
      "Wall time: 12min 26s\n"
     ]
    }
   ],
   "source": [
    "%%time\n",
    "a,b,c,d,e = prepare_input(train_labels, train_maccs, target = 'EPA_category', encoder = encoder_epa)\n",
    "\n",
    "epa_xgb_maccs = model_selection(xgb_clf, xgb_grid_parameters, a, c, scoring = 'f1_weighted', cv=5, GridSearch = False, n_iter=30,n_jobs=1)\n"
   ]
  },
  {
   "cell_type": "code",
   "execution_count": 27,
   "id": "4b677c29",
   "metadata": {},
   "outputs": [
    {
     "name": "stdout",
     "output_type": "stream",
     "text": [
      "Best parameters set found on development set: {'subsample': 0.7, 'n_estimators': 1500, 'min_child_weight': 3, 'max_depth': 10, 'learning_rate': 0.1, 'gamma': 0, 'colsample_bytree': 0.7}\n",
      "Best score: 0.5164297901337191\n",
      "Grid scores on development set:\n",
      "\n",
      "0.408 (+/-0.041) for {'subsample': 0.7, 'n_estimators': 500, 'min_child_weight': 3, 'max_depth': 3, 'learning_rate': 0.01, 'gamma': 5, 'colsample_bytree': 0.8}\n",
      "0.464 (+/-0.038) for {'subsample': 0.7, 'n_estimators': 500, 'min_child_weight': 3, 'max_depth': 6, 'learning_rate': 0.01, 'gamma': 0, 'colsample_bytree': 0.5}\n",
      "0.506 (+/-0.043) for {'subsample': 1.0, 'n_estimators': 500, 'min_child_weight': 3, 'max_depth': 6, 'learning_rate': 0.1, 'gamma': 0, 'colsample_bytree': 0.9}\n",
      "0.414 (+/-0.044) for {'subsample': 0.7, 'n_estimators': 500, 'min_child_weight': 1, 'max_depth': 3, 'learning_rate': 0.01, 'gamma': 0, 'colsample_bytree': 1.0}\n",
      "0.510 (+/-0.044) for {'subsample': 0.8, 'n_estimators': 500, 'min_child_weight': 3, 'max_depth': 10, 'learning_rate': 0.1, 'gamma': 1, 'colsample_bytree': 0.5}\n",
      "0.487 (+/-0.047) for {'subsample': 1.0, 'n_estimators': 500, 'min_child_weight': 5, 'max_depth': 10, 'learning_rate': 0.01, 'gamma': 0, 'colsample_bytree': 1.0}\n",
      "0.468 (+/-0.041) for {'subsample': 0.9, 'n_estimators': 500, 'min_child_weight': 5, 'max_depth': 6, 'learning_rate': 0.01, 'gamma': 1, 'colsample_bytree': 0.8}\n",
      "0.431 (+/-0.044) for {'subsample': 0.8, 'n_estimators': 500, 'min_child_weight': 1, 'max_depth': 10, 'learning_rate': 0.01, 'gamma': 5, 'colsample_bytree': 0.7}\n",
      "0.426 (+/-0.048) for {'subsample': 0.7, 'n_estimators': 500, 'min_child_weight': 1, 'max_depth': 6, 'learning_rate': 0.01, 'gamma': 5, 'colsample_bytree': 0.8}\n",
      "0.489 (+/-0.032) for {'subsample': 1.0, 'n_estimators': 500, 'min_child_weight': 5, 'max_depth': 3, 'learning_rate': 0.1, 'gamma': 0, 'colsample_bytree': 0.8}\n",
      "0.511 (+/-0.041) for {'subsample': 0.7, 'n_estimators': 1500, 'min_child_weight': 5, 'max_depth': 10, 'learning_rate': 0.1, 'gamma': 1, 'colsample_bytree': 1.0}\n",
      "0.431 (+/-0.043) for {'subsample': 1.0, 'n_estimators': 500, 'min_child_weight': 1, 'max_depth': 6, 'learning_rate': 0.1, 'gamma': 5, 'colsample_bytree': 0.9}\n",
      "0.503 (+/-0.053) for {'subsample': 0.9, 'n_estimators': 1500, 'min_child_weight': 5, 'max_depth': 10, 'learning_rate': 0.01, 'gamma': 1, 'colsample_bytree': 0.9}\n",
      "0.507 (+/-0.051) for {'subsample': 1.0, 'n_estimators': 1500, 'min_child_weight': 3, 'max_depth': 10, 'learning_rate': 0.1, 'gamma': 0, 'colsample_bytree': 0.6}\n",
      "0.442 (+/-0.040) for {'subsample': 0.6, 'n_estimators': 1500, 'min_child_weight': 3, 'max_depth': 6, 'learning_rate': 0.01, 'gamma': 5, 'colsample_bytree': 0.9}\n",
      "0.438 (+/-0.041) for {'subsample': 0.6, 'n_estimators': 1500, 'min_child_weight': 3, 'max_depth': 10, 'learning_rate': 0.01, 'gamma': 5, 'colsample_bytree': 0.7}\n",
      "0.413 (+/-0.028) for {'subsample': 1.0, 'n_estimators': 500, 'min_child_weight': 3, 'max_depth': 3, 'learning_rate': 0.01, 'gamma': 0, 'colsample_bytree': 0.8}\n",
      "0.428 (+/-0.037) for {'subsample': 1.0, 'n_estimators': 500, 'min_child_weight': 5, 'max_depth': 6, 'learning_rate': 0.01, 'gamma': 5, 'colsample_bytree': 1.0}\n",
      "0.472 (+/-0.052) for {'subsample': 0.9, 'n_estimators': 500, 'min_child_weight': 1, 'max_depth': 6, 'learning_rate': 0.01, 'gamma': 0, 'colsample_bytree': 0.9}\n",
      "0.492 (+/-0.036) for {'subsample': 0.7, 'n_estimators': 500, 'min_child_weight': 5, 'max_depth': 3, 'learning_rate': 0.1, 'gamma': 0, 'colsample_bytree': 0.9}\n",
      "0.516 (+/-0.053) for {'subsample': 0.7, 'n_estimators': 1500, 'min_child_weight': 3, 'max_depth': 10, 'learning_rate': 0.1, 'gamma': 0, 'colsample_bytree': 0.7}\n",
      "0.408 (+/-0.043) for {'subsample': 0.6, 'n_estimators': 500, 'min_child_weight': 3, 'max_depth': 3, 'learning_rate': 0.01, 'gamma': 5, 'colsample_bytree': 1.0}\n",
      "0.496 (+/-0.033) for {'subsample': 0.8, 'n_estimators': 1500, 'min_child_weight': 5, 'max_depth': 3, 'learning_rate': 0.1, 'gamma': 1, 'colsample_bytree': 0.5}\n",
      "0.431 (+/-0.039) for {'subsample': 0.9, 'n_estimators': 500, 'min_child_weight': 3, 'max_depth': 3, 'learning_rate': 0.1, 'gamma': 5, 'colsample_bytree': 0.9}\n",
      "0.497 (+/-0.048) for {'subsample': 1.0, 'n_estimators': 1500, 'min_child_weight': 1, 'max_depth': 10, 'learning_rate': 0.1, 'gamma': 1, 'colsample_bytree': 0.6}\n",
      "0.464 (+/-0.044) for {'subsample': 0.6, 'n_estimators': 500, 'min_child_weight': 5, 'max_depth': 6, 'learning_rate': 0.01, 'gamma': 1, 'colsample_bytree': 0.6}\n",
      "0.496 (+/-0.032) for {'subsample': 0.6, 'n_estimators': 500, 'min_child_weight': 3, 'max_depth': 3, 'learning_rate': 0.1, 'gamma': 0, 'colsample_bytree': 0.5}\n",
      "0.431 (+/-0.044) for {'subsample': 1.0, 'n_estimators': 500, 'min_child_weight': 1, 'max_depth': 6, 'learning_rate': 0.1, 'gamma': 5, 'colsample_bytree': 0.7}\n",
      "0.502 (+/-0.037) for {'subsample': 0.9, 'n_estimators': 500, 'min_child_weight': 5, 'max_depth': 6, 'learning_rate': 0.1, 'gamma': 1, 'colsample_bytree': 1.0}\n",
      "0.464 (+/-0.034) for {'subsample': 0.8, 'n_estimators': 1500, 'min_child_weight': 3, 'max_depth': 3, 'learning_rate': 0.01, 'gamma': 1, 'colsample_bytree': 0.7}\n",
      "CPU times: total: 6h 7min 12s\n",
      "Wall time: 1h 2min 16s\n"
     ]
    }
   ],
   "source": [
    "%%time\n",
    "a,b,c,d,e = prepare_input(train_labels, train_ecfp6_counts, target = 'EPA_category', encoder = encoder_epa)\n",
    "\n",
    "epa_xgb_ecfp6count = model_selection(xgb_clf, xgb_grid_parameters, a, c, scoring = 'f1_weighted', cv=5, GridSearch = False, n_iter=30,n_jobs=1)\n"
   ]
  },
  {
   "cell_type": "code",
   "execution_count": 28,
   "id": "54ae1fcb",
   "metadata": {},
   "outputs": [
    {
     "name": "stdout",
     "output_type": "stream",
     "text": [
      "Best parameters set found on development set: {'subsample': 0.8, 'n_estimators': 1500, 'min_child_weight': 3, 'max_depth': 10, 'learning_rate': 0.1, 'gamma': 0, 'colsample_bytree': 0.5}\n",
      "Best score: 0.5437794552662495\n",
      "Grid scores on development set:\n",
      "\n",
      "0.543 (+/-0.042) for {'subsample': 0.7, 'n_estimators': 1500, 'min_child_weight': 1, 'max_depth': 6, 'learning_rate': 0.1, 'gamma': 0, 'colsample_bytree': 0.8}\n",
      "0.457 (+/-0.023) for {'subsample': 1.0, 'n_estimators': 1500, 'min_child_weight': 3, 'max_depth': 3, 'learning_rate': 0.1, 'gamma': 5, 'colsample_bytree': 0.7}\n",
      "0.530 (+/-0.063) for {'subsample': 1.0, 'n_estimators': 500, 'min_child_weight': 3, 'max_depth': 10, 'learning_rate': 0.1, 'gamma': 1, 'colsample_bytree': 0.6}\n",
      "0.536 (+/-0.043) for {'subsample': 0.9, 'n_estimators': 1500, 'min_child_weight': 5, 'max_depth': 3, 'learning_rate': 0.1, 'gamma': 0, 'colsample_bytree': 0.5}\n",
      "0.502 (+/-0.050) for {'subsample': 0.7, 'n_estimators': 1500, 'min_child_weight': 3, 'max_depth': 3, 'learning_rate': 0.01, 'gamma': 0, 'colsample_bytree': 1.0}\n",
      "0.540 (+/-0.058) for {'subsample': 0.7, 'n_estimators': 1500, 'min_child_weight': 5, 'max_depth': 10, 'learning_rate': 0.1, 'gamma': 1, 'colsample_bytree': 0.6}\n",
      "0.449 (+/-0.026) for {'subsample': 0.6, 'n_estimators': 500, 'min_child_weight': 3, 'max_depth': 3, 'learning_rate': 0.01, 'gamma': 5, 'colsample_bytree': 0.6}\n",
      "0.537 (+/-0.054) for {'subsample': 0.8, 'n_estimators': 500, 'min_child_weight': 5, 'max_depth': 10, 'learning_rate': 0.01, 'gamma': 1, 'colsample_bytree': 0.9}\n",
      "0.502 (+/-0.035) for {'subsample': 0.7, 'n_estimators': 500, 'min_child_weight': 1, 'max_depth': 10, 'learning_rate': 0.1, 'gamma': 5, 'colsample_bytree': 1.0}\n",
      "0.451 (+/-0.031) for {'subsample': 1.0, 'n_estimators': 1500, 'min_child_weight': 3, 'max_depth': 3, 'learning_rate': 0.01, 'gamma': 5, 'colsample_bytree': 0.6}\n",
      "0.494 (+/-0.045) for {'subsample': 1.0, 'n_estimators': 500, 'min_child_weight': 1, 'max_depth': 10, 'learning_rate': 0.1, 'gamma': 5, 'colsample_bytree': 0.9}\n",
      "0.543 (+/-0.062) for {'subsample': 0.6, 'n_estimators': 1500, 'min_child_weight': 3, 'max_depth': 6, 'learning_rate': 0.01, 'gamma': 1, 'colsample_bytree': 0.7}\n",
      "0.481 (+/-0.032) for {'subsample': 1.0, 'n_estimators': 500, 'min_child_weight': 5, 'max_depth': 10, 'learning_rate': 0.01, 'gamma': 5, 'colsample_bytree': 0.5}\n",
      "0.487 (+/-0.037) for {'subsample': 0.8, 'n_estimators': 1500, 'min_child_weight': 3, 'max_depth': 10, 'learning_rate': 0.01, 'gamma': 5, 'colsample_bytree': 0.6}\n",
      "0.532 (+/-0.040) for {'subsample': 1.0, 'n_estimators': 1500, 'min_child_weight': 1, 'max_depth': 6, 'learning_rate': 0.1, 'gamma': 0, 'colsample_bytree': 1.0}\n",
      "0.493 (+/-0.041) for {'subsample': 1.0, 'n_estimators': 1500, 'min_child_weight': 5, 'max_depth': 3, 'learning_rate': 0.01, 'gamma': 1, 'colsample_bytree': 0.5}\n",
      "0.535 (+/-0.051) for {'subsample': 0.8, 'n_estimators': 500, 'min_child_weight': 3, 'max_depth': 3, 'learning_rate': 0.1, 'gamma': 0, 'colsample_bytree': 1.0}\n",
      "0.543 (+/-0.049) for {'subsample': 0.7, 'n_estimators': 1500, 'min_child_weight': 3, 'max_depth': 6, 'learning_rate': 0.01, 'gamma': 0, 'colsample_bytree': 1.0}\n",
      "0.536 (+/-0.058) for {'subsample': 0.8, 'n_estimators': 500, 'min_child_weight': 1, 'max_depth': 10, 'learning_rate': 0.01, 'gamma': 1, 'colsample_bytree': 0.5}\n",
      "0.529 (+/-0.045) for {'subsample': 1.0, 'n_estimators': 500, 'min_child_weight': 3, 'max_depth': 3, 'learning_rate': 0.1, 'gamma': 0, 'colsample_bytree': 1.0}\n",
      "0.540 (+/-0.047) for {'subsample': 0.8, 'n_estimators': 500, 'min_child_weight': 1, 'max_depth': 10, 'learning_rate': 0.1, 'gamma': 0, 'colsample_bytree': 0.9}\n",
      "0.537 (+/-0.048) for {'subsample': 0.8, 'n_estimators': 1500, 'min_child_weight': 1, 'max_depth': 3, 'learning_rate': 0.1, 'gamma': 1, 'colsample_bytree': 1.0}\n",
      "0.498 (+/-0.040) for {'subsample': 0.9, 'n_estimators': 500, 'min_child_weight': 5, 'max_depth': 10, 'learning_rate': 0.1, 'gamma': 5, 'colsample_bytree': 0.8}\n",
      "0.544 (+/-0.048) for {'subsample': 0.8, 'n_estimators': 1500, 'min_child_weight': 3, 'max_depth': 10, 'learning_rate': 0.1, 'gamma': 0, 'colsample_bytree': 0.5}\n",
      "0.494 (+/-0.050) for {'subsample': 0.9, 'n_estimators': 1500, 'min_child_weight': 3, 'max_depth': 6, 'learning_rate': 0.1, 'gamma': 5, 'colsample_bytree': 0.9}\n",
      "0.491 (+/-0.040) for {'subsample': 0.9, 'n_estimators': 500, 'min_child_weight': 5, 'max_depth': 6, 'learning_rate': 0.1, 'gamma': 5, 'colsample_bytree': 0.8}\n",
      "0.497 (+/-0.048) for {'subsample': 1.0, 'n_estimators': 1500, 'min_child_weight': 5, 'max_depth': 3, 'learning_rate': 0.01, 'gamma': 1, 'colsample_bytree': 0.8}\n",
      "0.462 (+/-0.024) for {'subsample': 0.9, 'n_estimators': 1500, 'min_child_weight': 1, 'max_depth': 3, 'learning_rate': 0.01, 'gamma': 5, 'colsample_bytree': 0.5}\n",
      "0.499 (+/-0.046) for {'subsample': 0.9, 'n_estimators': 1500, 'min_child_weight': 5, 'max_depth': 10, 'learning_rate': 0.1, 'gamma': 5, 'colsample_bytree': 0.9}\n",
      "0.530 (+/-0.053) for {'subsample': 1.0, 'n_estimators': 1500, 'min_child_weight': 5, 'max_depth': 6, 'learning_rate': 0.1, 'gamma': 1, 'colsample_bytree': 0.8}\n",
      "CPU times: total: 2h 52min 11s\n",
      "Wall time: 29min 13s\n"
     ]
    }
   ],
   "source": [
    "%%time\n",
    "a,b,c,d,e = prepare_input(train_labels, train_rdkit2d, target = 'EPA_category', encoder = encoder_epa)\n",
    "\n",
    "epa_xgb_rdkit2d = model_selection(xgb_clf, xgb_grid_parameters, a, c, scoring = 'f1_weighted', cv=5, GridSearch = False, n_iter=30,n_jobs=1)\n"
   ]
  },
  {
   "cell_type": "code",
   "execution_count": 29,
   "id": "a519b9c4",
   "metadata": {},
   "outputs": [
    {
     "name": "stdout",
     "output_type": "stream",
     "text": [
      "Best parameters set found on development set: {'subsample': 1.0, 'n_estimators': 1500, 'min_child_weight': 1, 'max_depth': 10, 'learning_rate': 0.1, 'gamma': 0, 'colsample_bytree': 0.6}\n",
      "Best score: 0.5482312937748454\n",
      "Grid scores on development set:\n",
      "\n",
      "0.542 (+/-0.071) for {'subsample': 1.0, 'n_estimators': 1500, 'min_child_weight': 5, 'max_depth': 10, 'learning_rate': 0.01, 'gamma': 1, 'colsample_bytree': 0.9}\n",
      "0.536 (+/-0.068) for {'subsample': 1.0, 'n_estimators': 1500, 'min_child_weight': 1, 'max_depth': 6, 'learning_rate': 0.01, 'gamma': 1, 'colsample_bytree': 0.8}\n",
      "0.520 (+/-0.077) for {'subsample': 0.8, 'n_estimators': 500, 'min_child_weight': 5, 'max_depth': 6, 'learning_rate': 0.01, 'gamma': 5, 'colsample_bytree': 0.8}\n",
      "0.548 (+/-0.064) for {'subsample': 0.6, 'n_estimators': 500, 'min_child_weight': 1, 'max_depth': 6, 'learning_rate': 0.1, 'gamma': 1, 'colsample_bytree': 0.9}\n",
      "0.545 (+/-0.068) for {'subsample': 0.8, 'n_estimators': 1500, 'min_child_weight': 5, 'max_depth': 6, 'learning_rate': 0.01, 'gamma': 1, 'colsample_bytree': 1.0}\n",
      "0.509 (+/-0.076) for {'subsample': 0.9, 'n_estimators': 1500, 'min_child_weight': 3, 'max_depth': 3, 'learning_rate': 0.1, 'gamma': 5, 'colsample_bytree': 1.0}\n",
      "0.544 (+/-0.063) for {'subsample': 0.6, 'n_estimators': 1500, 'min_child_weight': 5, 'max_depth': 6, 'learning_rate': 0.01, 'gamma': 1, 'colsample_bytree': 1.0}\n",
      "0.528 (+/-0.063) for {'subsample': 0.6, 'n_estimators': 1500, 'min_child_weight': 1, 'max_depth': 10, 'learning_rate': 0.1, 'gamma': 5, 'colsample_bytree': 1.0}\n",
      "0.521 (+/-0.074) for {'subsample': 0.8, 'n_estimators': 500, 'min_child_weight': 5, 'max_depth': 10, 'learning_rate': 0.01, 'gamma': 5, 'colsample_bytree': 0.5}\n",
      "0.529 (+/-0.069) for {'subsample': 1.0, 'n_estimators': 500, 'min_child_weight': 1, 'max_depth': 6, 'learning_rate': 0.01, 'gamma': 1, 'colsample_bytree': 0.5}\n",
      "0.547 (+/-0.052) for {'subsample': 0.7, 'n_estimators': 500, 'min_child_weight': 3, 'max_depth': 10, 'learning_rate': 0.1, 'gamma': 0, 'colsample_bytree': 0.5}\n",
      "0.547 (+/-0.055) for {'subsample': 0.7, 'n_estimators': 1500, 'min_child_weight': 5, 'max_depth': 10, 'learning_rate': 0.1, 'gamma': 0, 'colsample_bytree': 0.6}\n",
      "0.541 (+/-0.072) for {'subsample': 1.0, 'n_estimators': 1500, 'min_child_weight': 5, 'max_depth': 10, 'learning_rate': 0.1, 'gamma': 1, 'colsample_bytree': 0.5}\n",
      "0.537 (+/-0.057) for {'subsample': 0.8, 'n_estimators': 500, 'min_child_weight': 1, 'max_depth': 3, 'learning_rate': 0.1, 'gamma': 1, 'colsample_bytree': 0.9}\n",
      "0.508 (+/-0.073) for {'subsample': 1.0, 'n_estimators': 1500, 'min_child_weight': 1, 'max_depth': 6, 'learning_rate': 0.1, 'gamma': 5, 'colsample_bytree': 0.8}\n",
      "0.488 (+/-0.082) for {'subsample': 0.8, 'n_estimators': 500, 'min_child_weight': 1, 'max_depth': 3, 'learning_rate': 0.01, 'gamma': 0, 'colsample_bytree': 0.9}\n",
      "0.548 (+/-0.064) for {'subsample': 1.0, 'n_estimators': 1500, 'min_child_weight': 1, 'max_depth': 10, 'learning_rate': 0.1, 'gamma': 0, 'colsample_bytree': 0.6}\n",
      "0.548 (+/-0.053) for {'subsample': 0.8, 'n_estimators': 1500, 'min_child_weight': 3, 'max_depth': 10, 'learning_rate': 0.1, 'gamma': 0, 'colsample_bytree': 0.8}\n",
      "0.490 (+/-0.078) for {'subsample': 0.6, 'n_estimators': 500, 'min_child_weight': 5, 'max_depth': 3, 'learning_rate': 0.01, 'gamma': 1, 'colsample_bytree': 0.6}\n",
      "0.543 (+/-0.052) for {'subsample': 0.7, 'n_estimators': 1500, 'min_child_weight': 3, 'max_depth': 10, 'learning_rate': 0.1, 'gamma': 0, 'colsample_bytree': 0.8}\n",
      "0.514 (+/-0.076) for {'subsample': 0.6, 'n_estimators': 500, 'min_child_weight': 5, 'max_depth': 10, 'learning_rate': 0.01, 'gamma': 5, 'colsample_bytree': 0.5}\n",
      "0.541 (+/-0.065) for {'subsample': 1.0, 'n_estimators': 1500, 'min_child_weight': 3, 'max_depth': 6, 'learning_rate': 0.01, 'gamma': 0, 'colsample_bytree': 0.7}\n",
      "0.486 (+/-0.081) for {'subsample': 0.9, 'n_estimators': 500, 'min_child_weight': 5, 'max_depth': 3, 'learning_rate': 0.01, 'gamma': 0, 'colsample_bytree': 0.9}\n",
      "0.544 (+/-0.066) for {'subsample': 0.9, 'n_estimators': 500, 'min_child_weight': 3, 'max_depth': 10, 'learning_rate': 0.1, 'gamma': 1, 'colsample_bytree': 0.6}\n",
      "0.522 (+/-0.073) for {'subsample': 0.7, 'n_estimators': 500, 'min_child_weight': 3, 'max_depth': 10, 'learning_rate': 0.01, 'gamma': 5, 'colsample_bytree': 0.9}\n",
      "0.526 (+/-0.072) for {'subsample': 0.6, 'n_estimators': 1500, 'min_child_weight': 3, 'max_depth': 10, 'learning_rate': 0.01, 'gamma': 5, 'colsample_bytree': 0.9}\n",
      "0.541 (+/-0.065) for {'subsample': 0.6, 'n_estimators': 1500, 'min_child_weight': 1, 'max_depth': 10, 'learning_rate': 0.1, 'gamma': 1, 'colsample_bytree': 0.7}\n",
      "0.547 (+/-0.063) for {'subsample': 0.9, 'n_estimators': 1500, 'min_child_weight': 5, 'max_depth': 10, 'learning_rate': 0.01, 'gamma': 1, 'colsample_bytree': 1.0}\n",
      "0.540 (+/-0.052) for {'subsample': 1.0, 'n_estimators': 1500, 'min_child_weight': 5, 'max_depth': 6, 'learning_rate': 0.1, 'gamma': 0, 'colsample_bytree': 0.9}\n",
      "0.544 (+/-0.068) for {'subsample': 1.0, 'n_estimators': 500, 'min_child_weight': 1, 'max_depth': 10, 'learning_rate': 0.01, 'gamma': 0, 'colsample_bytree': 0.5}\n",
      "CPU times: total: 16h 11min 25s\n",
      "Wall time: 2h 44min 41s\n"
     ]
    }
   ],
   "source": [
    "%%time\n",
    "a,b,c,d,e = prepare_input(train_labels, train_mordred, target = 'EPA_category', encoder = encoder_epa)\n",
    "\n",
    "epa_xgb_mordred = model_selection(xgb_clf, xgb_grid_parameters, a, c, scoring = 'f1_weighted', cv=5, GridSearch = False, n_iter=30,n_jobs=1)\n"
   ]
  }
 ],
 "metadata": {
  "kernelspec": {
   "display_name": "base",
   "language": "python",
   "name": "python3"
  },
  "language_info": {
   "codemirror_mode": {
    "name": "ipython",
    "version": 3
   },
   "file_extension": ".py",
   "mimetype": "text/x-python",
   "name": "python",
   "nbconvert_exporter": "python",
   "pygments_lexer": "ipython3",
   "version": "3.12.3"
  }
 },
 "nbformat": 4,
 "nbformat_minor": 5
}
