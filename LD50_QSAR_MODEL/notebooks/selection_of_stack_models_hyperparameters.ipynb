{
 "cells": [
  {
   "cell_type": "code",
   "execution_count": null,
   "metadata": {},
   "outputs": [],
   "source": [
    "from utils import * \n",
    "import pandas as pd\n",
    "import numpy as np\n",
    "import matplotlib.pyplot as plt\n",
    "import math\n",
    "import itertools\n",
    "from pprint import pprint\n",
    "import joblib\n",
    "import statistics\n",
    "\n",
    "from xgboost import XGBClassifier, XGBRegressor\n",
    "from sklearn.ensemble import RandomForestClassifier, RandomForestRegressor\n",
    "from sklearn.svm import SVC, SVR\n",
    "from sklearn.neighbors import KNeighborsClassifier, KNeighborsRegressor\n",
    "from sklearn.preprocessing import LabelEncoder, LabelBinarizer\n",
    "from sklearn.model_selection import KFold, cross_validate, GridSearchCV, cross_val_score, RandomizedSearchCV \n",
    "from sklearn.model_selection import cross_val_predict\n",
    "from sklearn.pipeline import Pipeline\n",
    "from sklearn.metrics import make_scorer\n",
    "from sklearn.metrics import mean_absolute_error , mean_squared_error, r2_score\n",
    "from sklearn.metrics import accuracy_score, confusion_matrix, classification_report\n",
    "from sklearn.metrics import accuracy_score, balanced_accuracy_score, roc_auc_score, f1_score, matthews_corrcoef\n",
    "from sklearn.base import BaseEstimator\n",
    "from sklearn.base import ClassifierMixin\n",
    "from sklearn.base import TransformerMixin\n",
    "from sklearn.base import clone\n",
    "from sklearn.model_selection._split import check_cv"
   ]
  },
  {
   "cell_type": "markdown",
   "metadata": {},
   "source": [
    "## Загружаем данные "
   ]
  },
  {
   "cell_type": "code",
   "execution_count": 2,
   "metadata": {},
   "outputs": [
    {
     "data": {
      "text/plain": [
       "((8221, 6), (2849, 6))"
      ]
     },
     "execution_count": 2,
     "metadata": {},
     "output_type": "execute_result"
    }
   ],
   "source": [
    "train_labels = pd.read_csv('../data/processed/train_labels.csv', index_col = 'CASRN')\n",
    "test_labels = pd.read_csv('../data/processed/test_labels.csv', index_col = 'CASRN')\n",
    "train_labels.shape, test_labels.shape"
   ]
  },
  {
   "cell_type": "code",
   "execution_count": 3,
   "metadata": {},
   "outputs": [
    {
     "data": {
      "text/plain": [
       "(8221, 100)"
      ]
     },
     "execution_count": 3,
     "metadata": {},
     "output_type": "execute_result"
    }
   ],
   "source": [
    "train_Hfeatures = pd.read_csv('../data/Hmodel_features_combined/train_Hfeatures.csv', index_col = 'CASRN')\n",
    "train_Hfeatures.shape"
   ]
  },
  {
   "cell_type": "code",
   "execution_count": 4,
   "metadata": {},
   "outputs": [
    {
     "data": {
      "text/html": [
       "<div>\n",
       "<style scoped>\n",
       "    .dataframe tbody tr th:only-of-type {\n",
       "        vertical-align: middle;\n",
       "    }\n",
       "\n",
       "    .dataframe tbody tr th {\n",
       "        vertical-align: top;\n",
       "    }\n",
       "\n",
       "    .dataframe thead th {\n",
       "        text-align: right;\n",
       "    }\n",
       "</style>\n",
       "<table border=\"1\" class=\"dataframe\">\n",
       "  <thead>\n",
       "    <tr style=\"text-align: right;\">\n",
       "      <th></th>\n",
       "      <th>EPA_RF_ecfp6bits-1</th>\n",
       "      <th>EPA_RF_ecfp6bits-2</th>\n",
       "      <th>EPA_RF_ecfp6bits-3</th>\n",
       "      <th>EPA_RF_ecfp6counts-1</th>\n",
       "      <th>EPA_RF_ecfp6counts-2</th>\n",
       "      <th>EPA_RF_ecfp6counts-3</th>\n",
       "      <th>EPA_RF_maccs-1</th>\n",
       "      <th>EPA_RF_maccs-2</th>\n",
       "      <th>EPA_RF_maccs-3</th>\n",
       "      <th>EPA_RF_mordred-1</th>\n",
       "      <th>...</th>\n",
       "      <th>Toxic_svm_ecfp6bits-1</th>\n",
       "      <th>Toxic_svm_ecfp6counts-1</th>\n",
       "      <th>Toxic_svm_maccs-1</th>\n",
       "      <th>Toxic_svm_mordred-1</th>\n",
       "      <th>Toxic_svm_rdkit2d-1</th>\n",
       "      <th>Toxic_xgboost_ecfp6bits-1</th>\n",
       "      <th>Toxic_xgboost_ecfp6counts-1</th>\n",
       "      <th>Toxic_xgboost_maccs-1</th>\n",
       "      <th>Toxic_xgboost_mordred-1</th>\n",
       "      <th>Toxic_xgboost_rdkit2d-1</th>\n",
       "    </tr>\n",
       "    <tr>\n",
       "      <th>CASRN</th>\n",
       "      <th></th>\n",
       "      <th></th>\n",
       "      <th></th>\n",
       "      <th></th>\n",
       "      <th></th>\n",
       "      <th></th>\n",
       "      <th></th>\n",
       "      <th></th>\n",
       "      <th></th>\n",
       "      <th></th>\n",
       "      <th></th>\n",
       "      <th></th>\n",
       "      <th></th>\n",
       "      <th></th>\n",
       "      <th></th>\n",
       "      <th></th>\n",
       "      <th></th>\n",
       "      <th></th>\n",
       "      <th></th>\n",
       "      <th></th>\n",
       "      <th></th>\n",
       "    </tr>\n",
       "  </thead>\n",
       "  <tbody>\n",
       "    <tr>\n",
       "      <th>23233-88-7</th>\n",
       "      <td>0.11421</td>\n",
       "      <td>0.23115</td>\n",
       "      <td>0.516881</td>\n",
       "      <td>0.106932</td>\n",
       "      <td>0.231361</td>\n",
       "      <td>0.535563</td>\n",
       "      <td>0.084305</td>\n",
       "      <td>0.184793</td>\n",
       "      <td>0.545046</td>\n",
       "      <td>0.090417</td>\n",
       "      <td>...</td>\n",
       "      <td>0.595123</td>\n",
       "      <td>0.693394</td>\n",
       "      <td>0.271051</td>\n",
       "      <td>0.490151</td>\n",
       "      <td>0.46636</td>\n",
       "      <td>0.660376</td>\n",
       "      <td>0.721718</td>\n",
       "      <td>0.298831</td>\n",
       "      <td>0.484635</td>\n",
       "      <td>0.289508</td>\n",
       "    </tr>\n",
       "  </tbody>\n",
       "</table>\n",
       "<p>1 rows × 100 columns</p>\n",
       "</div>"
      ],
      "text/plain": [
       "            EPA_RF_ecfp6bits-1  EPA_RF_ecfp6bits-2  EPA_RF_ecfp6bits-3  \\\n",
       "CASRN                                                                    \n",
       "23233-88-7             0.11421             0.23115            0.516881   \n",
       "\n",
       "            EPA_RF_ecfp6counts-1  EPA_RF_ecfp6counts-2  EPA_RF_ecfp6counts-3  \\\n",
       "CASRN                                                                          \n",
       "23233-88-7              0.106932              0.231361              0.535563   \n",
       "\n",
       "            EPA_RF_maccs-1  EPA_RF_maccs-2  EPA_RF_maccs-3  EPA_RF_mordred-1  \\\n",
       "CASRN                                                                          \n",
       "23233-88-7        0.084305        0.184793        0.545046          0.090417   \n",
       "\n",
       "            ...  Toxic_svm_ecfp6bits-1  Toxic_svm_ecfp6counts-1  \\\n",
       "CASRN       ...                                                   \n",
       "23233-88-7  ...               0.595123                 0.693394   \n",
       "\n",
       "            Toxic_svm_maccs-1  Toxic_svm_mordred-1  Toxic_svm_rdkit2d-1  \\\n",
       "CASRN                                                                     \n",
       "23233-88-7           0.271051             0.490151              0.46636   \n",
       "\n",
       "            Toxic_xgboost_ecfp6bits-1  Toxic_xgboost_ecfp6counts-1  \\\n",
       "CASRN                                                                \n",
       "23233-88-7                   0.660376                     0.721718   \n",
       "\n",
       "            Toxic_xgboost_maccs-1  Toxic_xgboost_mordred-1  \\\n",
       "CASRN                                                        \n",
       "23233-88-7               0.298831                 0.484635   \n",
       "\n",
       "            Toxic_xgboost_rdkit2d-1  \n",
       "CASRN                                \n",
       "23233-88-7                 0.289508  \n",
       "\n",
       "[1 rows x 100 columns]"
      ]
     },
     "execution_count": 4,
     "metadata": {},
     "output_type": "execute_result"
    }
   ],
   "source": [
    "train_Hfeatures.head(1)"
   ]
  },
  {
   "cell_type": "markdown",
   "metadata": {},
   "source": [
    "Моделирование эндпоинтов \n",
    "В этом разделе мы будем моделировать три конечные точки с использованием четырёх различных алгоритмов: KNN (k-Nearest Neighbors), XGBoost, SVM и Random Forest.\n",
    "\n",
    "Будем использовать данные характеристик молекул и их меток для построения моделей."
   ]
  },
  {
   "cell_type": "code",
   "execution_count": null,
   "metadata": {},
   "outputs": [],
   "source": [
    "knn_reg = KNeighborsRegressor()\n",
    "svr = SVR()\n",
    "xgb_reg = XGBRegressor(random_state =123, n_jobs=6 ,objective ='reg:squarederror')\n",
    "rf_reg =  RandomForestRegressor(random_state =123, n_jobs=6)\n",
    "\n",
    "svc = SVC(random_state =42)\n",
    "knn_clf = KNeighborsClassifier()\n",
    "xgb_clf = XGBClassifier(random_state =123, n_jobs=6)\n",
    "rf_clf =  RandomForestClassifier(random_state =123, n_jobs=6)"
   ]
  },
  {
   "cell_type": "markdown",
   "metadata": {},
   "source": [
    "### Определение пространства поиска гиперпараметров"
   ]
  },
  {
   "cell_type": "code",
   "execution_count": 6,
   "metadata": {},
   "outputs": [],
   "source": [
    "knn_grid_parameters = {'n_neighbors': [5,9,15,19,25,35,45,55,71,101,151], 'weights': ['distance'],'p': [1,2]}"
   ]
  },
  {
   "cell_type": "code",
   "execution_count": 7,
   "metadata": {},
   "outputs": [],
   "source": [
    "svm_grid_parameters = [\n",
    "  {'C': [0.01, 0.1, 1, 10, 100, 200, 400, 1000], 'kernel': ['linear']},\n",
    "  {'C': [0.01, 0.1, 1, 10, 100, 200, 400, 1000], 'gamma': [100,10,1,1e-1,1e-2, 1e-3], 'kernel': ['rbf']},\n",
    " ]"
   ]
  },
  {
   "cell_type": "code",
   "execution_count": null,
   "metadata": {},
   "outputs": [
    {
     "name": "stdout",
     "output_type": "stream",
     "text": [
      "{'bootstrap': [True, False],\n",
      " 'max_depth': [5, 20, 35, 50, 65, 80, None],\n",
      " 'max_features': ['log2', 'sqrt'],\n",
      " 'min_samples_leaf': [2, 4, 6],\n",
      " 'min_samples_split': [2, 5, 10],\n",
      " 'n_estimators': [500, 1500]}\n"
     ]
    }
   ],
   "source": [
    "n_estimators = [int(x) for x in np.linspace(start = 500, stop = 1500, num = 2)]\n",
    "max_features = ['log2', 'sqrt']\n",
    "max_depth = [int(x) for x in np.linspace(5, 80, num = 6)]\n",
    "max_depth.append(None)\n",
    "min_samples_split = [2, 5, 10]\n",
    "min_samples_leaf = [2, 4, 6]\n",
    "bootstrap = [True, False]\n",
    "\n",
    "rf_grid_parameters = {'n_estimators': n_estimators,\n",
    "               'max_features': max_features,\n",
    "               'max_depth': max_depth,\n",
    "               'min_samples_split': min_samples_split,\n",
    "               'min_samples_leaf': min_samples_leaf,\n",
    "               'bootstrap': bootstrap}\n",
    "\n",
    "pprint(rf_grid_parameters)"
   ]
  },
  {
   "cell_type": "code",
   "execution_count": 9,
   "metadata": {},
   "outputs": [],
   "source": [
    "xgb_grid_parameters = {\n",
    "    'learning_rate': [0.01,0.1],\n",
    "    'max_depth': [3,6,10],\n",
    "    'min_child_weight':[1,3,5], \n",
    "    'gamma':[0,1,5],  \n",
    "    'subsample':[i/10.0 for i in range(6,11)],\n",
    "    'colsample_bytree':[i/10.0 for i in range(5,11)], \n",
    "    'n_estimators': [500,1500]}"
   ]
  },
  {
   "cell_type": "markdown",
   "metadata": {},
   "source": [
    "### Endpoint 1: Toxic"
   ]
  },
  {
   "cell_type": "code",
   "execution_count": 10,
   "metadata": {},
   "outputs": [],
   "source": [
    "encoder_toxic = joblib.load('../encoder_models/encoder_toxic.joblib')"
   ]
  },
  {
   "cell_type": "code",
   "execution_count": 11,
   "metadata": {},
   "outputs": [
    {
     "name": "stdout",
     "output_type": "stream",
     "text": [
      "Best parameters set found on development set: {'n_neighbors': 151, 'p': 1, 'weights': 'distance'}\n",
      "Best score: 0.8786442988615353\n",
      "Grid scores on development set:\n",
      "\n",
      "0.839 (+/-0.050) for {'n_neighbors': 5, 'p': 1, 'weights': 'distance'}\n",
      "0.838 (+/-0.052) for {'n_neighbors': 5, 'p': 2, 'weights': 'distance'}\n",
      "0.858 (+/-0.045) for {'n_neighbors': 9, 'p': 1, 'weights': 'distance'}\n",
      "0.856 (+/-0.050) for {'n_neighbors': 9, 'p': 2, 'weights': 'distance'}\n",
      "0.868 (+/-0.048) for {'n_neighbors': 15, 'p': 1, 'weights': 'distance'}\n",
      "0.866 (+/-0.044) for {'n_neighbors': 15, 'p': 2, 'weights': 'distance'}\n",
      "0.870 (+/-0.047) for {'n_neighbors': 19, 'p': 1, 'weights': 'distance'}\n",
      "0.869 (+/-0.046) for {'n_neighbors': 19, 'p': 2, 'weights': 'distance'}\n",
      "0.871 (+/-0.047) for {'n_neighbors': 25, 'p': 1, 'weights': 'distance'}\n",
      "0.872 (+/-0.047) for {'n_neighbors': 25, 'p': 2, 'weights': 'distance'}\n",
      "0.875 (+/-0.046) for {'n_neighbors': 35, 'p': 1, 'weights': 'distance'}\n",
      "0.875 (+/-0.045) for {'n_neighbors': 35, 'p': 2, 'weights': 'distance'}\n",
      "0.876 (+/-0.046) for {'n_neighbors': 45, 'p': 1, 'weights': 'distance'}\n",
      "0.876 (+/-0.045) for {'n_neighbors': 45, 'p': 2, 'weights': 'distance'}\n",
      "0.877 (+/-0.046) for {'n_neighbors': 55, 'p': 1, 'weights': 'distance'}\n",
      "0.876 (+/-0.045) for {'n_neighbors': 55, 'p': 2, 'weights': 'distance'}\n",
      "0.878 (+/-0.044) for {'n_neighbors': 71, 'p': 1, 'weights': 'distance'}\n",
      "0.877 (+/-0.044) for {'n_neighbors': 71, 'p': 2, 'weights': 'distance'}\n",
      "0.878 (+/-0.045) for {'n_neighbors': 101, 'p': 1, 'weights': 'distance'}\n",
      "0.877 (+/-0.045) for {'n_neighbors': 101, 'p': 2, 'weights': 'distance'}\n",
      "0.879 (+/-0.045) for {'n_neighbors': 151, 'p': 1, 'weights': 'distance'}\n",
      "0.877 (+/-0.045) for {'n_neighbors': 151, 'p': 2, 'weights': 'distance'}\n",
      "CPU times: total: 344 ms\n",
      "Wall time: 9.27 s\n"
     ]
    }
   ],
   "source": [
    "%%time\n",
    "a,b,c,d,e = prepare_input(train_labels, train_Hfeatures, target = 'toxic', encoder = encoder_toxic)\n",
    "\n",
    "H_t_knn = model_selection(knn_clf, knn_grid_parameters, a, c, scoring = 'roc_auc', cv=5, GridSearch = True)"
   ]
  },
  {
   "cell_type": "code",
   "execution_count": 12,
   "metadata": {},
   "outputs": [
    {
     "name": "stdout",
     "output_type": "stream",
     "text": [
      "Best parameters set found on development set: {'C': 10, 'gamma': 0.001, 'kernel': 'rbf'}\n",
      "Best score: 0.8816975779192351\n",
      "Grid scores on development set:\n",
      "\n",
      "0.881 (+/-0.048) for {'C': 0.01, 'kernel': 'linear'}\n",
      "0.881 (+/-0.049) for {'C': 0.1, 'kernel': 'linear'}\n",
      "0.878 (+/-0.049) for {'C': 1, 'kernel': 'linear'}\n",
      "0.877 (+/-0.049) for {'C': 10, 'kernel': 'linear'}\n",
      "0.876 (+/-0.049) for {'C': 100, 'kernel': 'linear'}\n",
      "0.876 (+/-0.049) for {'C': 200, 'kernel': 'linear'}\n",
      "0.877 (+/-0.049) for {'C': 400, 'kernel': 'linear'}\n",
      "0.876 (+/-0.049) for {'C': 1000, 'kernel': 'linear'}\n",
      "0.509 (+/-0.006) for {'C': 0.01, 'gamma': 100, 'kernel': 'rbf'}\n",
      "0.756 (+/-0.046) for {'C': 0.01, 'gamma': 10, 'kernel': 'rbf'}\n",
      "0.825 (+/-0.044) for {'C': 0.01, 'gamma': 1, 'kernel': 'rbf'}\n",
      "0.862 (+/-0.048) for {'C': 0.01, 'gamma': 0.1, 'kernel': 'rbf'}\n",
      "0.863 (+/-0.051) for {'C': 0.01, 'gamma': 0.01, 'kernel': 'rbf'}\n",
      "0.851 (+/-0.054) for {'C': 0.01, 'gamma': 0.001, 'kernel': 'rbf'}\n",
      "0.510 (+/-0.006) for {'C': 0.1, 'gamma': 100, 'kernel': 'rbf'}\n",
      "0.757 (+/-0.045) for {'C': 0.1, 'gamma': 10, 'kernel': 'rbf'}\n",
      "0.831 (+/-0.040) for {'C': 0.1, 'gamma': 1, 'kernel': 'rbf'}\n",
      "0.866 (+/-0.047) for {'C': 0.1, 'gamma': 0.1, 'kernel': 'rbf'}\n",
      "0.877 (+/-0.050) for {'C': 0.1, 'gamma': 0.01, 'kernel': 'rbf'}\n",
      "0.866 (+/-0.050) for {'C': 0.1, 'gamma': 0.001, 'kernel': 'rbf'}\n",
      "0.512 (+/-0.005) for {'C': 1, 'gamma': 100, 'kernel': 'rbf'}\n",
      "0.757 (+/-0.045) for {'C': 1, 'gamma': 10, 'kernel': 'rbf'}\n",
      "0.844 (+/-0.040) for {'C': 1, 'gamma': 1, 'kernel': 'rbf'}\n",
      "0.862 (+/-0.049) for {'C': 1, 'gamma': 0.1, 'kernel': 'rbf'}\n",
      "0.879 (+/-0.048) for {'C': 1, 'gamma': 0.01, 'kernel': 'rbf'}\n",
      "0.879 (+/-0.049) for {'C': 1, 'gamma': 0.001, 'kernel': 'rbf'}\n",
      "0.512 (+/-0.005) for {'C': 10, 'gamma': 100, 'kernel': 'rbf'}\n",
      "0.757 (+/-0.045) for {'C': 10, 'gamma': 10, 'kernel': 'rbf'}\n",
      "0.837 (+/-0.041) for {'C': 10, 'gamma': 1, 'kernel': 'rbf'}\n",
      "0.853 (+/-0.047) for {'C': 10, 'gamma': 0.1, 'kernel': 'rbf'}\n",
      "0.874 (+/-0.047) for {'C': 10, 'gamma': 0.01, 'kernel': 'rbf'}\n",
      "0.882 (+/-0.048) for {'C': 10, 'gamma': 0.001, 'kernel': 'rbf'}\n",
      "0.512 (+/-0.005) for {'C': 100, 'gamma': 100, 'kernel': 'rbf'}\n",
      "0.757 (+/-0.045) for {'C': 100, 'gamma': 10, 'kernel': 'rbf'}\n",
      "0.837 (+/-0.041) for {'C': 100, 'gamma': 1, 'kernel': 'rbf'}\n",
      "0.815 (+/-0.044) for {'C': 100, 'gamma': 0.1, 'kernel': 'rbf'}\n",
      "0.868 (+/-0.048) for {'C': 100, 'gamma': 0.01, 'kernel': 'rbf'}\n",
      "0.880 (+/-0.049) for {'C': 100, 'gamma': 0.001, 'kernel': 'rbf'}\n",
      "0.512 (+/-0.005) for {'C': 200, 'gamma': 100, 'kernel': 'rbf'}\n",
      "0.757 (+/-0.045) for {'C': 200, 'gamma': 10, 'kernel': 'rbf'}\n",
      "0.837 (+/-0.041) for {'C': 200, 'gamma': 1, 'kernel': 'rbf'}\n",
      "0.803 (+/-0.041) for {'C': 200, 'gamma': 0.1, 'kernel': 'rbf'}\n",
      "0.865 (+/-0.049) for {'C': 200, 'gamma': 0.01, 'kernel': 'rbf'}\n",
      "0.878 (+/-0.049) for {'C': 200, 'gamma': 0.001, 'kernel': 'rbf'}\n",
      "0.512 (+/-0.005) for {'C': 400, 'gamma': 100, 'kernel': 'rbf'}\n",
      "0.757 (+/-0.045) for {'C': 400, 'gamma': 10, 'kernel': 'rbf'}\n",
      "0.837 (+/-0.041) for {'C': 400, 'gamma': 1, 'kernel': 'rbf'}\n",
      "0.794 (+/-0.042) for {'C': 400, 'gamma': 0.1, 'kernel': 'rbf'}\n",
      "0.861 (+/-0.050) for {'C': 400, 'gamma': 0.01, 'kernel': 'rbf'}\n",
      "0.876 (+/-0.050) for {'C': 400, 'gamma': 0.001, 'kernel': 'rbf'}\n",
      "0.512 (+/-0.005) for {'C': 1000, 'gamma': 100, 'kernel': 'rbf'}\n",
      "0.757 (+/-0.045) for {'C': 1000, 'gamma': 10, 'kernel': 'rbf'}\n",
      "0.837 (+/-0.041) for {'C': 1000, 'gamma': 1, 'kernel': 'rbf'}\n",
      "0.791 (+/-0.042) for {'C': 1000, 'gamma': 0.1, 'kernel': 'rbf'}\n",
      "0.854 (+/-0.050) for {'C': 1000, 'gamma': 0.01, 'kernel': 'rbf'}\n",
      "0.874 (+/-0.050) for {'C': 1000, 'gamma': 0.001, 'kernel': 'rbf'}\n",
      "CPU times: total: 7.03 s\n",
      "Wall time: 11min 1s\n"
     ]
    }
   ],
   "source": [
    "%%time\n",
    "a,b,c,d,e = prepare_input(train_labels, train_Hfeatures, target = 'toxic', encoder = encoder_toxic)\n",
    "\n",
    "H_t_svm = model_selection(svc, svm_grid_parameters, a, c, scoring = 'roc_auc', cv=5, GridSearch = True)"
   ]
  },
  {
   "cell_type": "code",
   "execution_count": 13,
   "metadata": {},
   "outputs": [
    {
     "name": "stdout",
     "output_type": "stream",
     "text": [
      "Best parameters set found on development set: {'n_estimators': 500, 'min_samples_split': 10, 'min_samples_leaf': 6, 'max_features': 'log2', 'max_depth': 65, 'bootstrap': True}\n",
      "Best score: 0.8814752606339683\n",
      "Grid scores on development set:\n",
      "\n",
      "0.881 (+/-0.048) for {'n_estimators': 500, 'min_samples_split': 2, 'min_samples_leaf': 6, 'max_features': 'sqrt', 'max_depth': 50, 'bootstrap': False}\n",
      "0.881 (+/-0.047) for {'n_estimators': 1500, 'min_samples_split': 10, 'min_samples_leaf': 2, 'max_features': 'log2', 'max_depth': 50, 'bootstrap': True}\n",
      "0.881 (+/-0.049) for {'n_estimators': 500, 'min_samples_split': 2, 'min_samples_leaf': 6, 'max_features': 'log2', 'max_depth': 35, 'bootstrap': False}\n",
      "0.881 (+/-0.048) for {'n_estimators': 500, 'min_samples_split': 2, 'min_samples_leaf': 6, 'max_features': 'sqrt', 'max_depth': 80, 'bootstrap': False}\n",
      "0.880 (+/-0.049) for {'n_estimators': 500, 'min_samples_split': 5, 'min_samples_leaf': 2, 'max_features': 'log2', 'max_depth': 5, 'bootstrap': False}\n",
      "0.881 (+/-0.048) for {'n_estimators': 1500, 'min_samples_split': 5, 'min_samples_leaf': 6, 'max_features': 'sqrt', 'max_depth': 20, 'bootstrap': True}\n",
      "0.881 (+/-0.048) for {'n_estimators': 500, 'min_samples_split': 2, 'min_samples_leaf': 6, 'max_features': 'sqrt', 'max_depth': 50, 'bootstrap': True}\n",
      "0.880 (+/-0.048) for {'n_estimators': 1500, 'min_samples_split': 5, 'min_samples_leaf': 2, 'max_features': 'sqrt', 'max_depth': 80, 'bootstrap': False}\n",
      "0.880 (+/-0.049) for {'n_estimators': 500, 'min_samples_split': 2, 'min_samples_leaf': 4, 'max_features': 'log2', 'max_depth': 5, 'bootstrap': False}\n",
      "0.881 (+/-0.046) for {'n_estimators': 500, 'min_samples_split': 10, 'min_samples_leaf': 2, 'max_features': 'log2', 'max_depth': 20, 'bootstrap': True}\n",
      "0.880 (+/-0.048) for {'n_estimators': 500, 'min_samples_split': 2, 'min_samples_leaf': 2, 'max_features': 'sqrt', 'max_depth': 80, 'bootstrap': True}\n",
      "0.881 (+/-0.046) for {'n_estimators': 500, 'min_samples_split': 10, 'min_samples_leaf': 2, 'max_features': 'log2', 'max_depth': 65, 'bootstrap': True}\n",
      "0.881 (+/-0.047) for {'n_estimators': 500, 'min_samples_split': 10, 'min_samples_leaf': 2, 'max_features': 'log2', 'max_depth': 20, 'bootstrap': False}\n",
      "0.881 (+/-0.048) for {'n_estimators': 1500, 'min_samples_split': 5, 'min_samples_leaf': 6, 'max_features': 'sqrt', 'max_depth': 50, 'bootstrap': False}\n",
      "0.881 (+/-0.047) for {'n_estimators': 500, 'min_samples_split': 5, 'min_samples_leaf': 2, 'max_features': 'log2', 'max_depth': 20, 'bootstrap': False}\n",
      "0.881 (+/-0.049) for {'n_estimators': 500, 'min_samples_split': 10, 'min_samples_leaf': 6, 'max_features': 'log2', 'max_depth': 20, 'bootstrap': False}\n",
      "0.881 (+/-0.047) for {'n_estimators': 500, 'min_samples_split': 5, 'min_samples_leaf': 4, 'max_features': 'log2', 'max_depth': None, 'bootstrap': False}\n",
      "0.880 (+/-0.048) for {'n_estimators': 1500, 'min_samples_split': 10, 'min_samples_leaf': 2, 'max_features': 'sqrt', 'max_depth': 35, 'bootstrap': False}\n",
      "0.881 (+/-0.047) for {'n_estimators': 1500, 'min_samples_split': 5, 'min_samples_leaf': 4, 'max_features': 'log2', 'max_depth': 20, 'bootstrap': True}\n",
      "0.881 (+/-0.047) for {'n_estimators': 1500, 'min_samples_split': 5, 'min_samples_leaf': 2, 'max_features': 'log2', 'max_depth': 20, 'bootstrap': False}\n",
      "0.880 (+/-0.050) for {'n_estimators': 500, 'min_samples_split': 2, 'min_samples_leaf': 6, 'max_features': 'sqrt', 'max_depth': 5, 'bootstrap': False}\n",
      "0.881 (+/-0.046) for {'n_estimators': 500, 'min_samples_split': 10, 'min_samples_leaf': 2, 'max_features': 'log2', 'max_depth': 80, 'bootstrap': True}\n",
      "0.881 (+/-0.049) for {'n_estimators': 1500, 'min_samples_split': 5, 'min_samples_leaf': 4, 'max_features': 'sqrt', 'max_depth': None, 'bootstrap': False}\n",
      "0.880 (+/-0.049) for {'n_estimators': 1500, 'min_samples_split': 2, 'min_samples_leaf': 6, 'max_features': 'log2', 'max_depth': 5, 'bootstrap': True}\n",
      "0.880 (+/-0.049) for {'n_estimators': 1500, 'min_samples_split': 5, 'min_samples_leaf': 6, 'max_features': 'log2', 'max_depth': 5, 'bootstrap': False}\n",
      "0.881 (+/-0.047) for {'n_estimators': 500, 'min_samples_split': 10, 'min_samples_leaf': 2, 'max_features': 'log2', 'max_depth': 35, 'bootstrap': False}\n",
      "0.880 (+/-0.047) for {'n_estimators': 1500, 'min_samples_split': 10, 'min_samples_leaf': 2, 'max_features': 'sqrt', 'max_depth': 35, 'bootstrap': True}\n",
      "0.880 (+/-0.049) for {'n_estimators': 500, 'min_samples_split': 5, 'min_samples_leaf': 4, 'max_features': 'sqrt', 'max_depth': 80, 'bootstrap': False}\n",
      "0.881 (+/-0.047) for {'n_estimators': 500, 'min_samples_split': 10, 'min_samples_leaf': 6, 'max_features': 'log2', 'max_depth': 65, 'bootstrap': True}\n",
      "0.881 (+/-0.048) for {'n_estimators': 500, 'min_samples_split': 5, 'min_samples_leaf': 6, 'max_features': 'sqrt', 'max_depth': 80, 'bootstrap': False}\n",
      "CPU times: total: 2h 6min 1s\n",
      "Wall time: 22min 4s\n"
     ]
    }
   ],
   "source": [
    "%%time\n",
    "a,b,c,d,e = prepare_input(train_labels, train_Hfeatures, target = 'toxic', encoder = encoder_toxic)\n",
    "\n",
    "H_t_rf = model_selection(rf_clf, rf_grid_parameters, a, c, scoring = 'roc_auc', cv=5, GridSearch = False, n_iter=30,n_jobs=1)"
   ]
  },
  {
   "cell_type": "code",
   "execution_count": 14,
   "metadata": {},
   "outputs": [
    {
     "name": "stdout",
     "output_type": "stream",
     "text": [
      "Best parameters set found on development set: {'subsample': 0.6, 'n_estimators': 500, 'min_child_weight': 1, 'max_depth': 3, 'learning_rate': 0.01, 'gamma': 5, 'colsample_bytree': 0.6}\n",
      "Best score: 0.8817171651619816\n",
      "Grid scores on development set:\n",
      "\n",
      "0.881 (+/-0.050) for {'subsample': 1.0, 'n_estimators': 500, 'min_child_weight': 1, 'max_depth': 3, 'learning_rate': 0.01, 'gamma': 1, 'colsample_bytree': 0.9}\n",
      "0.881 (+/-0.050) for {'subsample': 1.0, 'n_estimators': 500, 'min_child_weight': 1, 'max_depth': 3, 'learning_rate': 0.01, 'gamma': 0, 'colsample_bytree': 0.9}\n",
      "0.871 (+/-0.047) for {'subsample': 1.0, 'n_estimators': 500, 'min_child_weight': 1, 'max_depth': 6, 'learning_rate': 0.1, 'gamma': 0, 'colsample_bytree': 1.0}\n",
      "0.881 (+/-0.048) for {'subsample': 0.7, 'n_estimators': 500, 'min_child_weight': 3, 'max_depth': 6, 'learning_rate': 0.01, 'gamma': 5, 'colsample_bytree': 0.5}\n",
      "0.863 (+/-0.046) for {'subsample': 0.8, 'n_estimators': 1500, 'min_child_weight': 5, 'max_depth': 3, 'learning_rate': 0.1, 'gamma': 0, 'colsample_bytree': 0.9}\n",
      "0.881 (+/-0.046) for {'subsample': 0.7, 'n_estimators': 1500, 'min_child_weight': 3, 'max_depth': 3, 'learning_rate': 0.01, 'gamma': 5, 'colsample_bytree': 0.7}\n",
      "0.875 (+/-0.047) for {'subsample': 1.0, 'n_estimators': 500, 'min_child_weight': 5, 'max_depth': 6, 'learning_rate': 0.1, 'gamma': 1, 'colsample_bytree': 0.5}\n",
      "0.881 (+/-0.048) for {'subsample': 0.8, 'n_estimators': 500, 'min_child_weight': 1, 'max_depth': 6, 'learning_rate': 0.01, 'gamma': 1, 'colsample_bytree': 0.9}\n",
      "0.874 (+/-0.047) for {'subsample': 0.7, 'n_estimators': 1500, 'min_child_weight': 1, 'max_depth': 6, 'learning_rate': 0.1, 'gamma': 5, 'colsample_bytree': 0.7}\n",
      "0.879 (+/-0.047) for {'subsample': 1.0, 'n_estimators': 1500, 'min_child_weight': 1, 'max_depth': 3, 'learning_rate': 0.01, 'gamma': 1, 'colsample_bytree': 0.9}\n",
      "0.881 (+/-0.048) for {'subsample': 0.9, 'n_estimators': 500, 'min_child_weight': 1, 'max_depth': 6, 'learning_rate': 0.01, 'gamma': 0, 'colsample_bytree': 1.0}\n",
      "0.882 (+/-0.048) for {'subsample': 0.7, 'n_estimators': 500, 'min_child_weight': 3, 'max_depth': 3, 'learning_rate': 0.01, 'gamma': 5, 'colsample_bytree': 0.8}\n",
      "0.881 (+/-0.046) for {'subsample': 0.6, 'n_estimators': 1500, 'min_child_weight': 5, 'max_depth': 3, 'learning_rate': 0.01, 'gamma': 5, 'colsample_bytree': 1.0}\n",
      "0.879 (+/-0.049) for {'subsample': 1.0, 'n_estimators': 500, 'min_child_weight': 1, 'max_depth': 10, 'learning_rate': 0.1, 'gamma': 5, 'colsample_bytree': 0.7}\n",
      "0.865 (+/-0.046) for {'subsample': 0.6, 'n_estimators': 500, 'min_child_weight': 5, 'max_depth': 6, 'learning_rate': 0.1, 'gamma': 0, 'colsample_bytree': 0.6}\n",
      "0.879 (+/-0.048) for {'subsample': 0.9, 'n_estimators': 500, 'min_child_weight': 3, 'max_depth': 10, 'learning_rate': 0.01, 'gamma': 1, 'colsample_bytree': 0.9}\n",
      "0.875 (+/-0.051) for {'subsample': 1.0, 'n_estimators': 500, 'min_child_weight': 5, 'max_depth': 10, 'learning_rate': 0.1, 'gamma': 1, 'colsample_bytree': 0.9}\n",
      "0.881 (+/-0.050) for {'subsample': 1.0, 'n_estimators': 500, 'min_child_weight': 5, 'max_depth': 3, 'learning_rate': 0.01, 'gamma': 0, 'colsample_bytree': 0.9}\n",
      "0.881 (+/-0.048) for {'subsample': 0.8, 'n_estimators': 500, 'min_child_weight': 3, 'max_depth': 6, 'learning_rate': 0.01, 'gamma': 0, 'colsample_bytree': 0.5}\n",
      "0.878 (+/-0.046) for {'subsample': 0.8, 'n_estimators': 500, 'min_child_weight': 3, 'max_depth': 3, 'learning_rate': 0.1, 'gamma': 5, 'colsample_bytree': 0.6}\n",
      "0.882 (+/-0.049) for {'subsample': 0.6, 'n_estimators': 500, 'min_child_weight': 1, 'max_depth': 3, 'learning_rate': 0.01, 'gamma': 5, 'colsample_bytree': 0.6}\n",
      "0.880 (+/-0.048) for {'subsample': 0.7, 'n_estimators': 500, 'min_child_weight': 3, 'max_depth': 10, 'learning_rate': 0.01, 'gamma': 1, 'colsample_bytree': 0.7}\n",
      "0.880 (+/-0.048) for {'subsample': 1.0, 'n_estimators': 1500, 'min_child_weight': 1, 'max_depth': 3, 'learning_rate': 0.01, 'gamma': 1, 'colsample_bytree': 0.7}\n",
      "0.879 (+/-0.047) for {'subsample': 0.9, 'n_estimators': 500, 'min_child_weight': 3, 'max_depth': 3, 'learning_rate': 0.1, 'gamma': 5, 'colsample_bytree': 1.0}\n",
      "0.881 (+/-0.049) for {'subsample': 1.0, 'n_estimators': 1500, 'min_child_weight': 5, 'max_depth': 6, 'learning_rate': 0.01, 'gamma': 5, 'colsample_bytree': 0.5}\n",
      "0.867 (+/-0.045) for {'subsample': 0.9, 'n_estimators': 1500, 'min_child_weight': 3, 'max_depth': 10, 'learning_rate': 0.1, 'gamma': 0, 'colsample_bytree': 1.0}\n",
      "0.882 (+/-0.049) for {'subsample': 0.7, 'n_estimators': 500, 'min_child_weight': 5, 'max_depth': 3, 'learning_rate': 0.01, 'gamma': 1, 'colsample_bytree': 0.6}\n",
      "0.875 (+/-0.048) for {'subsample': 0.7, 'n_estimators': 500, 'min_child_weight': 5, 'max_depth': 10, 'learning_rate': 0.1, 'gamma': 5, 'colsample_bytree': 0.6}\n",
      "0.881 (+/-0.047) for {'subsample': 0.7, 'n_estimators': 500, 'min_child_weight': 5, 'max_depth': 10, 'learning_rate': 0.01, 'gamma': 1, 'colsample_bytree': 0.5}\n",
      "0.881 (+/-0.047) for {'subsample': 0.7, 'n_estimators': 1500, 'min_child_weight': 5, 'max_depth': 3, 'learning_rate': 0.01, 'gamma': 1, 'colsample_bytree': 0.9}\n",
      "CPU times: total: 30min 12s\n",
      "Wall time: 5min 3s\n"
     ]
    }
   ],
   "source": [
    "%%time\n",
    "a,b,c,d,e = prepare_input(train_labels, train_Hfeatures, target = 'toxic', encoder = encoder_toxic)\n",
    "\n",
    "H_t_xgb = model_selection(xgb_clf, xgb_grid_parameters, a, c, scoring = 'roc_auc', cv=5, GridSearch = False, n_iter=30,n_jobs=1)"
   ]
  },
  {
   "cell_type": "markdown",
   "metadata": {},
   "source": [
    "### Endpoint 2: logLD50"
   ]
  },
  {
   "cell_type": "code",
   "execution_count": 15,
   "metadata": {},
   "outputs": [
    {
     "name": "stdout",
     "output_type": "stream",
     "text": [
      "Best parameters set found on development set: {'n_estimators': 1500, 'min_samples_split': 5, 'min_samples_leaf': 4, 'max_features': 'sqrt', 'max_depth': 80, 'bootstrap': False}\n",
      "Best score: -0.3066968307723924\n",
      "Grid scores on development set:\n",
      "\n",
      "-0.308 (+/-0.056) for {'n_estimators': 500, 'min_samples_split': 5, 'min_samples_leaf': 2, 'max_features': 'log2', 'max_depth': 65, 'bootstrap': False}\n",
      "-0.308 (+/-0.055) for {'n_estimators': 1500, 'min_samples_split': 10, 'min_samples_leaf': 6, 'max_features': 'sqrt', 'max_depth': 35, 'bootstrap': True}\n",
      "-0.308 (+/-0.055) for {'n_estimators': 500, 'min_samples_split': 10, 'min_samples_leaf': 6, 'max_features': 'sqrt', 'max_depth': 20, 'bootstrap': True}\n",
      "-0.309 (+/-0.055) for {'n_estimators': 500, 'min_samples_split': 5, 'min_samples_leaf': 6, 'max_features': 'log2', 'max_depth': 20, 'bootstrap': False}\n",
      "-0.307 (+/-0.054) for {'n_estimators': 500, 'min_samples_split': 2, 'min_samples_leaf': 6, 'max_features': 'sqrt', 'max_depth': 35, 'bootstrap': False}\n",
      "-0.309 (+/-0.056) for {'n_estimators': 500, 'min_samples_split': 2, 'min_samples_leaf': 2, 'max_features': 'log2', 'max_depth': 50, 'bootstrap': True}\n",
      "-0.308 (+/-0.056) for {'n_estimators': 1500, 'min_samples_split': 2, 'min_samples_leaf': 2, 'max_features': 'log2', 'max_depth': None, 'bootstrap': False}\n",
      "-0.307 (+/-0.054) for {'n_estimators': 1500, 'min_samples_split': 2, 'min_samples_leaf': 6, 'max_features': 'sqrt', 'max_depth': 80, 'bootstrap': False}\n",
      "-0.315 (+/-0.053) for {'n_estimators': 500, 'min_samples_split': 5, 'min_samples_leaf': 2, 'max_features': 'sqrt', 'max_depth': 5, 'bootstrap': True}\n",
      "-0.308 (+/-0.055) for {'n_estimators': 1500, 'min_samples_split': 5, 'min_samples_leaf': 6, 'max_features': 'sqrt', 'max_depth': 35, 'bootstrap': True}\n",
      "-0.315 (+/-0.053) for {'n_estimators': 500, 'min_samples_split': 10, 'min_samples_leaf': 6, 'max_features': 'sqrt', 'max_depth': 5, 'bootstrap': False}\n",
      "-0.308 (+/-0.055) for {'n_estimators': 1500, 'min_samples_split': 10, 'min_samples_leaf': 2, 'max_features': 'sqrt', 'max_depth': 20, 'bootstrap': True}\n",
      "-0.315 (+/-0.053) for {'n_estimators': 1500, 'min_samples_split': 10, 'min_samples_leaf': 6, 'max_features': 'sqrt', 'max_depth': 5, 'bootstrap': True}\n",
      "-0.307 (+/-0.054) for {'n_estimators': 500, 'min_samples_split': 10, 'min_samples_leaf': 6, 'max_features': 'sqrt', 'max_depth': 80, 'bootstrap': False}\n",
      "-0.311 (+/-0.054) for {'n_estimators': 500, 'min_samples_split': 2, 'min_samples_leaf': 6, 'max_features': 'log2', 'max_depth': 20, 'bootstrap': True}\n",
      "-0.309 (+/-0.055) for {'n_estimators': 1500, 'min_samples_split': 2, 'min_samples_leaf': 2, 'max_features': 'log2', 'max_depth': 65, 'bootstrap': True}\n",
      "-0.308 (+/-0.054) for {'n_estimators': 1500, 'min_samples_split': 5, 'min_samples_leaf': 4, 'max_features': 'log2', 'max_depth': 50, 'bootstrap': False}\n",
      "-0.309 (+/-0.055) for {'n_estimators': 1500, 'min_samples_split': 5, 'min_samples_leaf': 4, 'max_features': 'log2', 'max_depth': None, 'bootstrap': True}\n",
      "-0.308 (+/-0.055) for {'n_estimators': 1500, 'min_samples_split': 2, 'min_samples_leaf': 6, 'max_features': 'sqrt', 'max_depth': None, 'bootstrap': True}\n",
      "-0.309 (+/-0.055) for {'n_estimators': 1500, 'min_samples_split': 5, 'min_samples_leaf': 4, 'max_features': 'log2', 'max_depth': 20, 'bootstrap': True}\n",
      "-0.307 (+/-0.055) for {'n_estimators': 1500, 'min_samples_split': 5, 'min_samples_leaf': 4, 'max_features': 'sqrt', 'max_depth': 80, 'bootstrap': False}\n",
      "-0.314 (+/-0.053) for {'n_estimators': 500, 'min_samples_split': 5, 'min_samples_leaf': 4, 'max_features': 'sqrt', 'max_depth': 5, 'bootstrap': True}\n",
      "-0.318 (+/-0.053) for {'n_estimators': 1500, 'min_samples_split': 5, 'min_samples_leaf': 2, 'max_features': 'log2', 'max_depth': 5, 'bootstrap': False}\n",
      "-0.308 (+/-0.055) for {'n_estimators': 1500, 'min_samples_split': 10, 'min_samples_leaf': 4, 'max_features': 'sqrt', 'max_depth': 80, 'bootstrap': True}\n",
      "-0.309 (+/-0.054) for {'n_estimators': 1500, 'min_samples_split': 10, 'min_samples_leaf': 4, 'max_features': 'log2', 'max_depth': 50, 'bootstrap': True}\n",
      "-0.310 (+/-0.055) for {'n_estimators': 500, 'min_samples_split': 10, 'min_samples_leaf': 2, 'max_features': 'log2', 'max_depth': 65, 'bootstrap': True}\n",
      "-0.310 (+/-0.055) for {'n_estimators': 500, 'min_samples_split': 5, 'min_samples_leaf': 2, 'max_features': 'log2', 'max_depth': 20, 'bootstrap': True}\n",
      "-0.307 (+/-0.054) for {'n_estimators': 500, 'min_samples_split': 2, 'min_samples_leaf': 4, 'max_features': 'sqrt', 'max_depth': None, 'bootstrap': False}\n",
      "-0.307 (+/-0.055) for {'n_estimators': 500, 'min_samples_split': 2, 'min_samples_leaf': 4, 'max_features': 'sqrt', 'max_depth': 35, 'bootstrap': True}\n",
      "-0.308 (+/-0.055) for {'n_estimators': 500, 'min_samples_split': 10, 'min_samples_leaf': 4, 'max_features': 'log2', 'max_depth': None, 'bootstrap': False}\n",
      "CPU times: total: 1h 20min 8s\n",
      "Wall time: 14min 2s\n"
     ]
    }
   ],
   "source": [
    "%%time\n",
    "a,b,c,d,e = prepare_input(train_labels, train_Hfeatures, target = 'logLD50_mmolkg', encoder = None)\n",
    "\n",
    "H_ld50_rf = model_selection(rf_reg, rf_grid_parameters, a, c, scoring = 'neg_mean_squared_error', cv=5, GridSearch = False, n_iter=30,n_jobs=1)"
   ]
  },
  {
   "cell_type": "code",
   "execution_count": 16,
   "metadata": {},
   "outputs": [
    {
     "name": "stdout",
     "output_type": "stream",
     "text": [
      "Best parameters set found on development set: {'subsample': 0.6, 'n_estimators': 1500, 'min_child_weight': 1, 'max_depth': 10, 'learning_rate': 0.01, 'gamma': 1, 'colsample_bytree': 0.9}\n",
      "Best score: -0.3072981768556339\n",
      "Grid scores on development set:\n",
      "\n",
      "-0.308 (+/-0.060) for {'subsample': 0.6, 'n_estimators': 1500, 'min_child_weight': 1, 'max_depth': 3, 'learning_rate': 0.01, 'gamma': 0, 'colsample_bytree': 0.9}\n",
      "-0.314 (+/-0.058) for {'subsample': 0.8, 'n_estimators': 500, 'min_child_weight': 5, 'max_depth': 3, 'learning_rate': 0.1, 'gamma': 5, 'colsample_bytree': 0.9}\n",
      "-0.315 (+/-0.059) for {'subsample': 1.0, 'n_estimators': 500, 'min_child_weight': 1, 'max_depth': 3, 'learning_rate': 0.01, 'gamma': 5, 'colsample_bytree': 1.0}\n",
      "-0.315 (+/-0.062) for {'subsample': 1.0, 'n_estimators': 1500, 'min_child_weight': 1, 'max_depth': 6, 'learning_rate': 0.1, 'gamma': 1, 'colsample_bytree': 0.5}\n",
      "-0.318 (+/-0.066) for {'subsample': 0.7, 'n_estimators': 500, 'min_child_weight': 5, 'max_depth': 3, 'learning_rate': 0.1, 'gamma': 1, 'colsample_bytree': 0.9}\n",
      "-0.312 (+/-0.058) for {'subsample': 0.6, 'n_estimators': 500, 'min_child_weight': 1, 'max_depth': 6, 'learning_rate': 0.01, 'gamma': 5, 'colsample_bytree': 0.9}\n",
      "-0.322 (+/-0.064) for {'subsample': 1.0, 'n_estimators': 500, 'min_child_weight': 5, 'max_depth': 3, 'learning_rate': 0.1, 'gamma': 0, 'colsample_bytree': 1.0}\n",
      "-0.311 (+/-0.056) for {'subsample': 0.9, 'n_estimators': 500, 'min_child_weight': 5, 'max_depth': 6, 'learning_rate': 0.01, 'gamma': 1, 'colsample_bytree': 1.0}\n",
      "-0.313 (+/-0.059) for {'subsample': 0.7, 'n_estimators': 500, 'min_child_weight': 3, 'max_depth': 10, 'learning_rate': 0.1, 'gamma': 5, 'colsample_bytree': 0.6}\n",
      "-0.313 (+/-0.057) for {'subsample': 0.9, 'n_estimators': 500, 'min_child_weight': 3, 'max_depth': 10, 'learning_rate': 0.01, 'gamma': 5, 'colsample_bytree': 0.7}\n",
      "-0.316 (+/-0.059) for {'subsample': 0.9, 'n_estimators': 500, 'min_child_weight': 3, 'max_depth': 10, 'learning_rate': 0.1, 'gamma': 1, 'colsample_bytree': 0.6}\n",
      "-0.309 (+/-0.058) for {'subsample': 0.8, 'n_estimators': 500, 'min_child_weight': 5, 'max_depth': 6, 'learning_rate': 0.01, 'gamma': 1, 'colsample_bytree': 1.0}\n",
      "-0.312 (+/-0.058) for {'subsample': 0.7, 'n_estimators': 500, 'min_child_weight': 5, 'max_depth': 6, 'learning_rate': 0.01, 'gamma': 5, 'colsample_bytree': 0.8}\n",
      "-0.312 (+/-0.055) for {'subsample': 0.6, 'n_estimators': 1500, 'min_child_weight': 5, 'max_depth': 10, 'learning_rate': 0.1, 'gamma': 5, 'colsample_bytree': 1.0}\n",
      "-0.314 (+/-0.055) for {'subsample': 1.0, 'n_estimators': 500, 'min_child_weight': 1, 'max_depth': 6, 'learning_rate': 0.01, 'gamma': 1, 'colsample_bytree': 1.0}\n",
      "-0.326 (+/-0.056) for {'subsample': 1.0, 'n_estimators': 500, 'min_child_weight': 3, 'max_depth': 6, 'learning_rate': 0.1, 'gamma': 0, 'colsample_bytree': 0.5}\n",
      "-0.314 (+/-0.055) for {'subsample': 1.0, 'n_estimators': 500, 'min_child_weight': 5, 'max_depth': 6, 'learning_rate': 0.01, 'gamma': 0, 'colsample_bytree': 1.0}\n",
      "-0.319 (+/-0.060) for {'subsample': 0.7, 'n_estimators': 500, 'min_child_weight': 3, 'max_depth': 3, 'learning_rate': 0.1, 'gamma': 1, 'colsample_bytree': 0.6}\n",
      "-0.314 (+/-0.057) for {'subsample': 0.8, 'n_estimators': 500, 'min_child_weight': 3, 'max_depth': 3, 'learning_rate': 0.1, 'gamma': 5, 'colsample_bytree': 0.9}\n",
      "-0.316 (+/-0.058) for {'subsample': 1.0, 'n_estimators': 1500, 'min_child_weight': 5, 'max_depth': 6, 'learning_rate': 0.1, 'gamma': 5, 'colsample_bytree': 0.9}\n",
      "-0.309 (+/-0.057) for {'subsample': 0.6, 'n_estimators': 500, 'min_child_weight': 3, 'max_depth': 10, 'learning_rate': 0.01, 'gamma': 1, 'colsample_bytree': 0.8}\n",
      "-0.313 (+/-0.057) for {'subsample': 0.9, 'n_estimators': 1500, 'min_child_weight': 1, 'max_depth': 10, 'learning_rate': 0.01, 'gamma': 0, 'colsample_bytree': 0.5}\n",
      "-0.316 (+/-0.056) for {'subsample': 0.8, 'n_estimators': 500, 'min_child_weight': 3, 'max_depth': 3, 'learning_rate': 0.1, 'gamma': 1, 'colsample_bytree': 0.9}\n",
      "-0.316 (+/-0.059) for {'subsample': 0.9, 'n_estimators': 500, 'min_child_weight': 5, 'max_depth': 6, 'learning_rate': 0.1, 'gamma': 5, 'colsample_bytree': 0.7}\n",
      "-0.316 (+/-0.056) for {'subsample': 0.8, 'n_estimators': 500, 'min_child_weight': 1, 'max_depth': 6, 'learning_rate': 0.1, 'gamma': 5, 'colsample_bytree': 0.8}\n",
      "-0.312 (+/-0.058) for {'subsample': 0.7, 'n_estimators': 500, 'min_child_weight': 5, 'max_depth': 10, 'learning_rate': 0.01, 'gamma': 5, 'colsample_bytree': 0.5}\n",
      "-0.347 (+/-0.061) for {'subsample': 0.6, 'n_estimators': 1500, 'min_child_weight': 5, 'max_depth': 3, 'learning_rate': 0.1, 'gamma': 0, 'colsample_bytree': 0.5}\n",
      "-0.317 (+/-0.058) for {'subsample': 1.0, 'n_estimators': 500, 'min_child_weight': 3, 'max_depth': 3, 'learning_rate': 0.1, 'gamma': 5, 'colsample_bytree': 0.6}\n",
      "-0.320 (+/-0.059) for {'subsample': 0.7, 'n_estimators': 500, 'min_child_weight': 1, 'max_depth': 3, 'learning_rate': 0.1, 'gamma': 1, 'colsample_bytree': 0.7}\n",
      "-0.307 (+/-0.057) for {'subsample': 0.6, 'n_estimators': 1500, 'min_child_weight': 1, 'max_depth': 10, 'learning_rate': 0.01, 'gamma': 1, 'colsample_bytree': 0.9}\n",
      "CPU times: total: 38min 48s\n",
      "Wall time: 6min 30s\n"
     ]
    }
   ],
   "source": [
    "%%time\n",
    "a,b,c,d,e = prepare_input(train_labels, train_Hfeatures, target = 'logLD50_mmolkg', encoder = None)\n",
    "\n",
    "H_ld50_xgb = model_selection(xgb_reg, xgb_grid_parameters, a, c, scoring = 'neg_mean_squared_error', cv=5, GridSearch = False, n_iter=30,n_jobs=1)"
   ]
  },
  {
   "cell_type": "code",
   "execution_count": 17,
   "metadata": {},
   "outputs": [
    {
     "name": "stdout",
     "output_type": "stream",
     "text": [
      "Best parameters set found on development set: {'C': 1, 'gamma': 0.01, 'kernel': 'rbf'}\n",
      "Best score: -0.30772790955034346\n",
      "Grid scores on development set:\n",
      "\n",
      "-0.311 (+/-0.051) for {'C': 0.01, 'kernel': 'linear'}\n",
      "-0.311 (+/-0.052) for {'C': 0.1, 'kernel': 'linear'}\n",
      "-0.312 (+/-0.051) for {'C': 1, 'kernel': 'linear'}\n",
      "-0.313 (+/-0.051) for {'C': 10, 'kernel': 'linear'}\n",
      "-0.313 (+/-0.051) for {'C': 100, 'kernel': 'linear'}\n",
      "-0.313 (+/-0.050) for {'C': 200, 'kernel': 'linear'}\n",
      "-0.313 (+/-0.051) for {'C': 400, 'kernel': 'linear'}\n",
      "-0.313 (+/-0.050) for {'C': 1000, 'kernel': 'linear'}\n",
      "-0.844 (+/-0.335) for {'C': 0.01, 'gamma': 100, 'kernel': 'rbf'}\n",
      "-0.844 (+/-0.335) for {'C': 0.01, 'gamma': 10, 'kernel': 'rbf'}\n",
      "-0.770 (+/-0.318) for {'C': 0.01, 'gamma': 1, 'kernel': 'rbf'}\n",
      "-0.384 (+/-0.111) for {'C': 0.01, 'gamma': 0.1, 'kernel': 'rbf'}\n",
      "-0.345 (+/-0.066) for {'C': 0.01, 'gamma': 0.01, 'kernel': 'rbf'}\n",
      "-0.471 (+/-0.125) for {'C': 0.01, 'gamma': 0.001, 'kernel': 'rbf'}\n",
      "-0.844 (+/-0.334) for {'C': 0.1, 'gamma': 100, 'kernel': 'rbf'}\n",
      "-0.843 (+/-0.334) for {'C': 0.1, 'gamma': 10, 'kernel': 'rbf'}\n",
      "-0.596 (+/-0.225) for {'C': 0.1, 'gamma': 1, 'kernel': 'rbf'}\n",
      "-0.325 (+/-0.078) for {'C': 0.1, 'gamma': 0.1, 'kernel': 'rbf'}\n",
      "-0.317 (+/-0.054) for {'C': 0.1, 'gamma': 0.01, 'kernel': 'rbf'}\n",
      "-0.328 (+/-0.050) for {'C': 0.1, 'gamma': 0.001, 'kernel': 'rbf'}\n",
      "-0.827 (+/-0.309) for {'C': 1, 'gamma': 100, 'kernel': 'rbf'}\n",
      "-0.827 (+/-0.309) for {'C': 1, 'gamma': 10, 'kernel': 'rbf'}\n",
      "-0.458 (+/-0.117) for {'C': 1, 'gamma': 1, 'kernel': 'rbf'}\n",
      "-0.319 (+/-0.068) for {'C': 1, 'gamma': 0.1, 'kernel': 'rbf'}\n",
      "-0.308 (+/-0.053) for {'C': 1, 'gamma': 0.01, 'kernel': 'rbf'}\n",
      "-0.315 (+/-0.050) for {'C': 1, 'gamma': 0.001, 'kernel': 'rbf'}\n",
      "-0.823 (+/-0.278) for {'C': 10, 'gamma': 100, 'kernel': 'rbf'}\n",
      "-0.822 (+/-0.277) for {'C': 10, 'gamma': 10, 'kernel': 'rbf'}\n",
      "-0.451 (+/-0.106) for {'C': 10, 'gamma': 1, 'kernel': 'rbf'}\n",
      "-0.357 (+/-0.074) for {'C': 10, 'gamma': 0.1, 'kernel': 'rbf'}\n",
      "-0.308 (+/-0.052) for {'C': 10, 'gamma': 0.01, 'kernel': 'rbf'}\n",
      "-0.310 (+/-0.052) for {'C': 10, 'gamma': 0.001, 'kernel': 'rbf'}\n",
      "-0.823 (+/-0.278) for {'C': 100, 'gamma': 100, 'kernel': 'rbf'}\n",
      "-0.822 (+/-0.277) for {'C': 100, 'gamma': 10, 'kernel': 'rbf'}\n",
      "-0.451 (+/-0.106) for {'C': 100, 'gamma': 1, 'kernel': 'rbf'}\n",
      "-0.449 (+/-0.089) for {'C': 100, 'gamma': 0.1, 'kernel': 'rbf'}\n",
      "-0.322 (+/-0.056) for {'C': 100, 'gamma': 0.01, 'kernel': 'rbf'}\n",
      "-0.310 (+/-0.051) for {'C': 100, 'gamma': 0.001, 'kernel': 'rbf'}\n",
      "-0.823 (+/-0.278) for {'C': 200, 'gamma': 100, 'kernel': 'rbf'}\n",
      "-0.822 (+/-0.277) for {'C': 200, 'gamma': 10, 'kernel': 'rbf'}\n",
      "-0.451 (+/-0.106) for {'C': 200, 'gamma': 1, 'kernel': 'rbf'}\n",
      "-0.472 (+/-0.086) for {'C': 200, 'gamma': 0.1, 'kernel': 'rbf'}\n",
      "-0.332 (+/-0.059) for {'C': 200, 'gamma': 0.01, 'kernel': 'rbf'}\n",
      "-0.310 (+/-0.051) for {'C': 200, 'gamma': 0.001, 'kernel': 'rbf'}\n",
      "-0.823 (+/-0.278) for {'C': 400, 'gamma': 100, 'kernel': 'rbf'}\n",
      "-0.822 (+/-0.277) for {'C': 400, 'gamma': 10, 'kernel': 'rbf'}\n",
      "-0.451 (+/-0.106) for {'C': 400, 'gamma': 1, 'kernel': 'rbf'}\n",
      "-0.484 (+/-0.081) for {'C': 400, 'gamma': 0.1, 'kernel': 'rbf'}\n",
      "-0.347 (+/-0.064) for {'C': 400, 'gamma': 0.01, 'kernel': 'rbf'}\n",
      "-0.311 (+/-0.051) for {'C': 400, 'gamma': 0.001, 'kernel': 'rbf'}\n",
      "-0.823 (+/-0.278) for {'C': 1000, 'gamma': 100, 'kernel': 'rbf'}\n",
      "-0.822 (+/-0.277) for {'C': 1000, 'gamma': 10, 'kernel': 'rbf'}\n",
      "-0.451 (+/-0.106) for {'C': 1000, 'gamma': 1, 'kernel': 'rbf'}\n",
      "-0.484 (+/-0.081) for {'C': 1000, 'gamma': 0.1, 'kernel': 'rbf'}\n",
      "-0.378 (+/-0.076) for {'C': 1000, 'gamma': 0.01, 'kernel': 'rbf'}\n",
      "-0.312 (+/-0.051) for {'C': 1000, 'gamma': 0.001, 'kernel': 'rbf'}\n",
      "CPU times: total: 11.9 s\n",
      "Wall time: 31min 3s\n"
     ]
    }
   ],
   "source": [
    "%%time\n",
    "a,b,c,d,e = prepare_input(train_labels, train_Hfeatures, target = 'logLD50_mmolkg', encoder = None)\n",
    "\n",
    "H_ld50_svr = model_selection(svr, svm_grid_parameters, a, c, scoring = 'neg_mean_squared_error', cv=5, GridSearch = True)"
   ]
  },
  {
   "cell_type": "code",
   "execution_count": 18,
   "metadata": {},
   "outputs": [
    {
     "name": "stdout",
     "output_type": "stream",
     "text": [
      "Best parameters set found on development set: {'n_neighbors': 45, 'p': 2, 'weights': 'distance'}\n",
      "Best score: -0.3181178447216808\n",
      "Grid scores on development set:\n",
      "\n",
      "-0.354 (+/-0.051) for {'n_neighbors': 5, 'p': 1, 'weights': 'distance'}\n",
      "-0.352 (+/-0.049) for {'n_neighbors': 5, 'p': 2, 'weights': 'distance'}\n",
      "-0.333 (+/-0.049) for {'n_neighbors': 9, 'p': 1, 'weights': 'distance'}\n",
      "-0.335 (+/-0.046) for {'n_neighbors': 9, 'p': 2, 'weights': 'distance'}\n",
      "-0.328 (+/-0.048) for {'n_neighbors': 15, 'p': 1, 'weights': 'distance'}\n",
      "-0.326 (+/-0.045) for {'n_neighbors': 15, 'p': 2, 'weights': 'distance'}\n",
      "-0.324 (+/-0.052) for {'n_neighbors': 19, 'p': 1, 'weights': 'distance'}\n",
      "-0.323 (+/-0.046) for {'n_neighbors': 19, 'p': 2, 'weights': 'distance'}\n",
      "-0.323 (+/-0.047) for {'n_neighbors': 25, 'p': 1, 'weights': 'distance'}\n",
      "-0.321 (+/-0.049) for {'n_neighbors': 25, 'p': 2, 'weights': 'distance'}\n",
      "-0.322 (+/-0.048) for {'n_neighbors': 35, 'p': 1, 'weights': 'distance'}\n",
      "-0.319 (+/-0.048) for {'n_neighbors': 35, 'p': 2, 'weights': 'distance'}\n",
      "-0.322 (+/-0.048) for {'n_neighbors': 45, 'p': 1, 'weights': 'distance'}\n",
      "-0.318 (+/-0.046) for {'n_neighbors': 45, 'p': 2, 'weights': 'distance'}\n",
      "-0.322 (+/-0.047) for {'n_neighbors': 55, 'p': 1, 'weights': 'distance'}\n",
      "-0.319 (+/-0.048) for {'n_neighbors': 55, 'p': 2, 'weights': 'distance'}\n",
      "-0.322 (+/-0.046) for {'n_neighbors': 71, 'p': 1, 'weights': 'distance'}\n",
      "-0.320 (+/-0.047) for {'n_neighbors': 71, 'p': 2, 'weights': 'distance'}\n",
      "-0.323 (+/-0.047) for {'n_neighbors': 101, 'p': 1, 'weights': 'distance'}\n",
      "-0.321 (+/-0.049) for {'n_neighbors': 101, 'p': 2, 'weights': 'distance'}\n",
      "-0.326 (+/-0.049) for {'n_neighbors': 151, 'p': 1, 'weights': 'distance'}\n",
      "-0.323 (+/-0.051) for {'n_neighbors': 151, 'p': 2, 'weights': 'distance'}\n",
      "CPU times: total: 297 ms\n",
      "Wall time: 3.94 s\n"
     ]
    }
   ],
   "source": [
    "%%time\n",
    "a,b,c,d,e = prepare_input(train_labels, train_Hfeatures, target = 'logLD50_mmolkg', encoder = None)\n",
    "\n",
    "H_ld50_knn = model_selection(knn_reg, knn_grid_parameters, a, c, scoring = 'neg_mean_squared_error', cv=5, GridSearch = True)"
   ]
  },
  {
   "cell_type": "markdown",
   "metadata": {},
   "source": [
    "### Endpoint 3: EPA Category"
   ]
  },
  {
   "cell_type": "code",
   "execution_count": 19,
   "metadata": {},
   "outputs": [],
   "source": [
    "encoder_epa = joblib.load('../encoder_models/encoder_epa.joblib')"
   ]
  },
  {
   "cell_type": "code",
   "execution_count": 20,
   "metadata": {},
   "outputs": [
    {
     "name": "stdout",
     "output_type": "stream",
     "text": [
      "Best parameters set found on development set: {'n_estimators': 500, 'min_samples_split': 2, 'min_samples_leaf': 2, 'max_features': 'sqrt', 'max_depth': 65, 'bootstrap': False}\n",
      "Best score: 0.6389376458324004\n",
      "Grid scores on development set:\n",
      "\n",
      "0.627 (+/-0.073) for {'n_estimators': 1500, 'min_samples_split': 5, 'min_samples_leaf': 6, 'max_features': 'log2', 'max_depth': 5, 'bootstrap': False}\n",
      "0.634 (+/-0.058) for {'n_estimators': 1500, 'min_samples_split': 10, 'min_samples_leaf': 4, 'max_features': 'log2', 'max_depth': None, 'bootstrap': True}\n",
      "0.636 (+/-0.059) for {'n_estimators': 1500, 'min_samples_split': 10, 'min_samples_leaf': 2, 'max_features': 'sqrt', 'max_depth': 20, 'bootstrap': True}\n",
      "0.635 (+/-0.058) for {'n_estimators': 1500, 'min_samples_split': 10, 'min_samples_leaf': 4, 'max_features': 'log2', 'max_depth': 20, 'bootstrap': True}\n",
      "0.637 (+/-0.050) for {'n_estimators': 1500, 'min_samples_split': 5, 'min_samples_leaf': 2, 'max_features': 'sqrt', 'max_depth': 50, 'bootstrap': False}\n",
      "0.634 (+/-0.056) for {'n_estimators': 1500, 'min_samples_split': 10, 'min_samples_leaf': 6, 'max_features': 'log2', 'max_depth': None, 'bootstrap': False}\n",
      "0.634 (+/-0.057) for {'n_estimators': 1500, 'min_samples_split': 10, 'min_samples_leaf': 4, 'max_features': 'log2', 'max_depth': 20, 'bootstrap': False}\n",
      "0.634 (+/-0.055) for {'n_estimators': 500, 'min_samples_split': 5, 'min_samples_leaf': 6, 'max_features': 'sqrt', 'max_depth': None, 'bootstrap': False}\n",
      "0.638 (+/-0.055) for {'n_estimators': 500, 'min_samples_split': 5, 'min_samples_leaf': 4, 'max_features': 'log2', 'max_depth': 20, 'bootstrap': False}\n",
      "0.634 (+/-0.063) for {'n_estimators': 500, 'min_samples_split': 2, 'min_samples_leaf': 2, 'max_features': 'sqrt', 'max_depth': 50, 'bootstrap': True}\n",
      "0.637 (+/-0.052) for {'n_estimators': 500, 'min_samples_split': 5, 'min_samples_leaf': 4, 'max_features': 'sqrt', 'max_depth': None, 'bootstrap': False}\n",
      "0.635 (+/-0.056) for {'n_estimators': 500, 'min_samples_split': 10, 'min_samples_leaf': 4, 'max_features': 'log2', 'max_depth': 65, 'bootstrap': True}\n",
      "0.627 (+/-0.068) for {'n_estimators': 1500, 'min_samples_split': 5, 'min_samples_leaf': 4, 'max_features': 'sqrt', 'max_depth': 5, 'bootstrap': False}\n",
      "0.626 (+/-0.070) for {'n_estimators': 500, 'min_samples_split': 5, 'min_samples_leaf': 6, 'max_features': 'sqrt', 'max_depth': 5, 'bootstrap': True}\n",
      "0.635 (+/-0.062) for {'n_estimators': 500, 'min_samples_split': 5, 'min_samples_leaf': 6, 'max_features': 'log2', 'max_depth': 65, 'bootstrap': True}\n",
      "0.635 (+/-0.063) for {'n_estimators': 500, 'min_samples_split': 5, 'min_samples_leaf': 6, 'max_features': 'log2', 'max_depth': 20, 'bootstrap': True}\n",
      "0.627 (+/-0.069) for {'n_estimators': 1500, 'min_samples_split': 10, 'min_samples_leaf': 6, 'max_features': 'sqrt', 'max_depth': 5, 'bootstrap': False}\n",
      "0.625 (+/-0.070) for {'n_estimators': 500, 'min_samples_split': 2, 'min_samples_leaf': 6, 'max_features': 'log2', 'max_depth': 5, 'bootstrap': False}\n",
      "0.634 (+/-0.056) for {'n_estimators': 1500, 'min_samples_split': 5, 'min_samples_leaf': 6, 'max_features': 'sqrt', 'max_depth': 65, 'bootstrap': False}\n",
      "0.634 (+/-0.056) for {'n_estimators': 1500, 'min_samples_split': 5, 'min_samples_leaf': 6, 'max_features': 'log2', 'max_depth': 80, 'bootstrap': False}\n",
      "0.626 (+/-0.073) for {'n_estimators': 1500, 'min_samples_split': 10, 'min_samples_leaf': 4, 'max_features': 'log2', 'max_depth': 5, 'bootstrap': False}\n",
      "0.634 (+/-0.058) for {'n_estimators': 500, 'min_samples_split': 5, 'min_samples_leaf': 2, 'max_features': 'sqrt', 'max_depth': None, 'bootstrap': True}\n",
      "0.639 (+/-0.055) for {'n_estimators': 500, 'min_samples_split': 2, 'min_samples_leaf': 2, 'max_features': 'sqrt', 'max_depth': 65, 'bootstrap': False}\n",
      "0.635 (+/-0.056) for {'n_estimators': 1500, 'min_samples_split': 2, 'min_samples_leaf': 2, 'max_features': 'log2', 'max_depth': 80, 'bootstrap': True}\n",
      "0.635 (+/-0.064) for {'n_estimators': 1500, 'min_samples_split': 5, 'min_samples_leaf': 6, 'max_features': 'log2', 'max_depth': 35, 'bootstrap': True}\n",
      "0.634 (+/-0.054) for {'n_estimators': 500, 'min_samples_split': 5, 'min_samples_leaf': 6, 'max_features': 'sqrt', 'max_depth': 20, 'bootstrap': False}\n",
      "0.635 (+/-0.062) for {'n_estimators': 1500, 'min_samples_split': 5, 'min_samples_leaf': 6, 'max_features': 'sqrt', 'max_depth': None, 'bootstrap': True}\n",
      "0.625 (+/-0.070) for {'n_estimators': 500, 'min_samples_split': 5, 'min_samples_leaf': 4, 'max_features': 'log2', 'max_depth': 5, 'bootstrap': False}\n",
      "0.634 (+/-0.057) for {'n_estimators': 1500, 'min_samples_split': 2, 'min_samples_leaf': 4, 'max_features': 'sqrt', 'max_depth': 65, 'bootstrap': True}\n",
      "0.635 (+/-0.055) for {'n_estimators': 500, 'min_samples_split': 5, 'min_samples_leaf': 4, 'max_features': 'sqrt', 'max_depth': None, 'bootstrap': True}\n",
      "CPU times: total: 2h 10min 34s\n",
      "Wall time: 23min 8s\n"
     ]
    }
   ],
   "source": [
    "%%time\n",
    "a,b,c,d,e = prepare_input(train_labels, train_Hfeatures, target = 'EPA_category', encoder = encoder_epa)\n",
    "\n",
    "H_epa_rf = model_selection(rf_clf, rf_grid_parameters, a, c, scoring = 'f1_weighted', cv=5, GridSearch = False, n_iter=30,n_jobs=1)"
   ]
  },
  {
   "cell_type": "code",
   "execution_count": 21,
   "metadata": {},
   "outputs": [
    {
     "name": "stdout",
     "output_type": "stream",
     "text": [
      "Best parameters set found on development set: {'subsample': 0.9, 'n_estimators': 500, 'min_child_weight': 3, 'max_depth': 10, 'learning_rate': 0.01, 'gamma': 0, 'colsample_bytree': 0.6}\n",
      "Best score: 0.6362382063966948\n",
      "Grid scores on development set:\n",
      "\n",
      "0.620 (+/-0.065) for {'subsample': 1.0, 'n_estimators': 500, 'min_child_weight': 1, 'max_depth': 3, 'learning_rate': 0.1, 'gamma': 0, 'colsample_bytree': 1.0}\n",
      "0.632 (+/-0.063) for {'subsample': 0.7, 'n_estimators': 1500, 'min_child_weight': 5, 'max_depth': 10, 'learning_rate': 0.01, 'gamma': 1, 'colsample_bytree': 1.0}\n",
      "0.621 (+/-0.059) for {'subsample': 0.8, 'n_estimators': 500, 'min_child_weight': 1, 'max_depth': 3, 'learning_rate': 0.1, 'gamma': 0, 'colsample_bytree': 0.8}\n",
      "0.636 (+/-0.059) for {'subsample': 0.9, 'n_estimators': 500, 'min_child_weight': 3, 'max_depth': 10, 'learning_rate': 0.01, 'gamma': 0, 'colsample_bytree': 0.6}\n",
      "0.626 (+/-0.056) for {'subsample': 0.8, 'n_estimators': 1500, 'min_child_weight': 1, 'max_depth': 10, 'learning_rate': 0.1, 'gamma': 0, 'colsample_bytree': 0.9}\n",
      "0.624 (+/-0.046) for {'subsample': 0.7, 'n_estimators': 500, 'min_child_weight': 1, 'max_depth': 3, 'learning_rate': 0.1, 'gamma': 1, 'colsample_bytree': 1.0}\n",
      "0.618 (+/-0.047) for {'subsample': 0.8, 'n_estimators': 1500, 'min_child_weight': 5, 'max_depth': 10, 'learning_rate': 0.1, 'gamma': 0, 'colsample_bytree': 0.7}\n",
      "0.633 (+/-0.058) for {'subsample': 0.8, 'n_estimators': 500, 'min_child_weight': 3, 'max_depth': 6, 'learning_rate': 0.01, 'gamma': 1, 'colsample_bytree': 0.8}\n",
      "0.635 (+/-0.056) for {'subsample': 0.9, 'n_estimators': 500, 'min_child_weight': 1, 'max_depth': 6, 'learning_rate': 0.01, 'gamma': 0, 'colsample_bytree': 0.6}\n",
      "0.620 (+/-0.046) for {'subsample': 0.7, 'n_estimators': 500, 'min_child_weight': 3, 'max_depth': 6, 'learning_rate': 0.1, 'gamma': 0, 'colsample_bytree': 0.7}\n",
      "0.633 (+/-0.057) for {'subsample': 0.6, 'n_estimators': 1500, 'min_child_weight': 3, 'max_depth': 3, 'learning_rate': 0.1, 'gamma': 5, 'colsample_bytree': 0.5}\n",
      "0.634 (+/-0.060) for {'subsample': 0.7, 'n_estimators': 1500, 'min_child_weight': 3, 'max_depth': 3, 'learning_rate': 0.01, 'gamma': 1, 'colsample_bytree': 0.5}\n",
      "0.633 (+/-0.062) for {'subsample': 0.8, 'n_estimators': 500, 'min_child_weight': 1, 'max_depth': 3, 'learning_rate': 0.01, 'gamma': 1, 'colsample_bytree': 1.0}\n",
      "0.635 (+/-0.058) for {'subsample': 0.9, 'n_estimators': 500, 'min_child_weight': 5, 'max_depth': 6, 'learning_rate': 0.01, 'gamma': 1, 'colsample_bytree': 0.6}\n",
      "0.633 (+/-0.058) for {'subsample': 1.0, 'n_estimators': 1500, 'min_child_weight': 1, 'max_depth': 10, 'learning_rate': 0.01, 'gamma': 1, 'colsample_bytree': 0.5}\n",
      "0.628 (+/-0.063) for {'subsample': 1.0, 'n_estimators': 1500, 'min_child_weight': 5, 'max_depth': 3, 'learning_rate': 0.01, 'gamma': 0, 'colsample_bytree': 0.9}\n",
      "0.624 (+/-0.053) for {'subsample': 0.6, 'n_estimators': 1500, 'min_child_weight': 1, 'max_depth': 10, 'learning_rate': 0.1, 'gamma': 1, 'colsample_bytree': 1.0}\n",
      "0.635 (+/-0.060) for {'subsample': 0.7, 'n_estimators': 1500, 'min_child_weight': 1, 'max_depth': 10, 'learning_rate': 0.01, 'gamma': 5, 'colsample_bytree': 0.6}\n",
      "0.634 (+/-0.066) for {'subsample': 1.0, 'n_estimators': 1500, 'min_child_weight': 3, 'max_depth': 10, 'learning_rate': 0.1, 'gamma': 5, 'colsample_bytree': 1.0}\n",
      "0.630 (+/-0.056) for {'subsample': 0.7, 'n_estimators': 1500, 'min_child_weight': 1, 'max_depth': 6, 'learning_rate': 0.01, 'gamma': 1, 'colsample_bytree': 0.9}\n",
      "0.634 (+/-0.062) for {'subsample': 0.6, 'n_estimators': 500, 'min_child_weight': 3, 'max_depth': 3, 'learning_rate': 0.01, 'gamma': 1, 'colsample_bytree': 0.7}\n",
      "0.632 (+/-0.056) for {'subsample': 0.6, 'n_estimators': 1500, 'min_child_weight': 3, 'max_depth': 3, 'learning_rate': 0.1, 'gamma': 5, 'colsample_bytree': 0.6}\n",
      "0.634 (+/-0.058) for {'subsample': 0.6, 'n_estimators': 500, 'min_child_weight': 5, 'max_depth': 6, 'learning_rate': 0.1, 'gamma': 5, 'colsample_bytree': 0.7}\n",
      "0.633 (+/-0.063) for {'subsample': 0.7, 'n_estimators': 1500, 'min_child_weight': 1, 'max_depth': 6, 'learning_rate': 0.1, 'gamma': 5, 'colsample_bytree': 0.5}\n",
      "0.631 (+/-0.063) for {'subsample': 1.0, 'n_estimators': 1500, 'min_child_weight': 3, 'max_depth': 3, 'learning_rate': 0.01, 'gamma': 5, 'colsample_bytree': 1.0}\n",
      "0.633 (+/-0.063) for {'subsample': 0.6, 'n_estimators': 1500, 'min_child_weight': 3, 'max_depth': 3, 'learning_rate': 0.01, 'gamma': 1, 'colsample_bytree': 0.6}\n",
      "0.624 (+/-0.052) for {'subsample': 0.8, 'n_estimators': 500, 'min_child_weight': 3, 'max_depth': 6, 'learning_rate': 0.1, 'gamma': 0, 'colsample_bytree': 0.9}\n",
      "0.619 (+/-0.049) for {'subsample': 0.8, 'n_estimators': 1500, 'min_child_weight': 1, 'max_depth': 3, 'learning_rate': 0.1, 'gamma': 0, 'colsample_bytree': 0.5}\n",
      "0.630 (+/-0.056) for {'subsample': 0.9, 'n_estimators': 500, 'min_child_weight': 1, 'max_depth': 10, 'learning_rate': 0.1, 'gamma': 0, 'colsample_bytree': 0.9}\n",
      "0.635 (+/-0.059) for {'subsample': 0.7, 'n_estimators': 500, 'min_child_weight': 3, 'max_depth': 10, 'learning_rate': 0.01, 'gamma': 1, 'colsample_bytree': 1.0}\n",
      "CPU times: total: 2h 38min 47s\n",
      "Wall time: 26min 37s\n"
     ]
    }
   ],
   "source": [
    "%%time\n",
    "a,b,c,d,e = prepare_input(train_labels, train_Hfeatures, target = 'EPA_category', encoder = encoder_epa)\n",
    "\n",
    "H_epa_xgb = model_selection(xgb_clf, xgb_grid_parameters, a, c, scoring = 'f1_weighted', cv=5, GridSearch = False, n_iter=30,n_jobs=1)"
   ]
  },
  {
   "cell_type": "code",
   "execution_count": 22,
   "metadata": {},
   "outputs": [
    {
     "name": "stdout",
     "output_type": "stream",
     "text": [
      "Best parameters set found on development set: {'C': 0.1, 'kernel': 'linear'}\n",
      "Best score: 0.6338661563414092\n",
      "Grid scores on development set:\n",
      "\n",
      "0.632 (+/-0.067) for {'C': 0.01, 'kernel': 'linear'}\n",
      "0.634 (+/-0.057) for {'C': 0.1, 'kernel': 'linear'}\n",
      "0.633 (+/-0.050) for {'C': 1, 'kernel': 'linear'}\n",
      "0.631 (+/-0.049) for {'C': 10, 'kernel': 'linear'}\n",
      "0.631 (+/-0.048) for {'C': 100, 'kernel': 'linear'}\n",
      "0.631 (+/-0.047) for {'C': 200, 'kernel': 'linear'}\n",
      "0.631 (+/-0.046) for {'C': 400, 'kernel': 'linear'}\n",
      "0.630 (+/-0.047) for {'C': 1000, 'kernel': 'linear'}\n",
      "0.334 (+/-0.000) for {'C': 0.01, 'gamma': 100, 'kernel': 'rbf'}\n",
      "0.334 (+/-0.000) for {'C': 0.01, 'gamma': 10, 'kernel': 'rbf'}\n",
      "0.334 (+/-0.000) for {'C': 0.01, 'gamma': 1, 'kernel': 'rbf'}\n",
      "0.547 (+/-0.069) for {'C': 0.01, 'gamma': 0.1, 'kernel': 'rbf'}\n",
      "0.432 (+/-0.020) for {'C': 0.01, 'gamma': 0.01, 'kernel': 'rbf'}\n",
      "0.334 (+/-0.000) for {'C': 0.01, 'gamma': 0.001, 'kernel': 'rbf'}\n",
      "0.334 (+/-0.000) for {'C': 0.1, 'gamma': 100, 'kernel': 'rbf'}\n",
      "0.334 (+/-0.000) for {'C': 0.1, 'gamma': 10, 'kernel': 'rbf'}\n",
      "0.399 (+/-0.039) for {'C': 0.1, 'gamma': 1, 'kernel': 'rbf'}\n",
      "0.616 (+/-0.067) for {'C': 0.1, 'gamma': 0.1, 'kernel': 'rbf'}\n",
      "0.612 (+/-0.086) for {'C': 0.1, 'gamma': 0.01, 'kernel': 'rbf'}\n",
      "0.455 (+/-0.035) for {'C': 0.1, 'gamma': 0.001, 'kernel': 'rbf'}\n",
      "0.334 (+/-0.000) for {'C': 1, 'gamma': 100, 'kernel': 'rbf'}\n",
      "0.335 (+/-0.003) for {'C': 1, 'gamma': 10, 'kernel': 'rbf'}\n",
      "0.578 (+/-0.071) for {'C': 1, 'gamma': 1, 'kernel': 'rbf'}\n",
      "0.626 (+/-0.062) for {'C': 1, 'gamma': 0.1, 'kernel': 'rbf'}\n",
      "0.626 (+/-0.067) for {'C': 1, 'gamma': 0.01, 'kernel': 'rbf'}\n",
      "0.617 (+/-0.077) for {'C': 1, 'gamma': 0.001, 'kernel': 'rbf'}\n",
      "0.334 (+/-0.000) for {'C': 10, 'gamma': 100, 'kernel': 'rbf'}\n",
      "0.337 (+/-0.007) for {'C': 10, 'gamma': 10, 'kernel': 'rbf'}\n",
      "0.572 (+/-0.059) for {'C': 10, 'gamma': 1, 'kernel': 'rbf'}\n",
      "0.618 (+/-0.046) for {'C': 10, 'gamma': 0.1, 'kernel': 'rbf'}\n",
      "0.626 (+/-0.065) for {'C': 10, 'gamma': 0.01, 'kernel': 'rbf'}\n",
      "0.632 (+/-0.065) for {'C': 10, 'gamma': 0.001, 'kernel': 'rbf'}\n",
      "0.334 (+/-0.000) for {'C': 100, 'gamma': 100, 'kernel': 'rbf'}\n",
      "0.337 (+/-0.007) for {'C': 100, 'gamma': 10, 'kernel': 'rbf'}\n",
      "0.572 (+/-0.059) for {'C': 100, 'gamma': 1, 'kernel': 'rbf'}\n",
      "0.563 (+/-0.044) for {'C': 100, 'gamma': 0.1, 'kernel': 'rbf'}\n",
      "0.627 (+/-0.066) for {'C': 100, 'gamma': 0.01, 'kernel': 'rbf'}\n",
      "0.632 (+/-0.059) for {'C': 100, 'gamma': 0.001, 'kernel': 'rbf'}\n",
      "0.334 (+/-0.000) for {'C': 200, 'gamma': 100, 'kernel': 'rbf'}\n",
      "0.337 (+/-0.007) for {'C': 200, 'gamma': 10, 'kernel': 'rbf'}\n",
      "0.572 (+/-0.059) for {'C': 200, 'gamma': 1, 'kernel': 'rbf'}\n",
      "0.548 (+/-0.043) for {'C': 200, 'gamma': 0.1, 'kernel': 'rbf'}\n",
      "0.625 (+/-0.061) for {'C': 200, 'gamma': 0.01, 'kernel': 'rbf'}\n",
      "0.630 (+/-0.059) for {'C': 200, 'gamma': 0.001, 'kernel': 'rbf'}\n",
      "0.334 (+/-0.000) for {'C': 400, 'gamma': 100, 'kernel': 'rbf'}\n",
      "0.337 (+/-0.007) for {'C': 400, 'gamma': 10, 'kernel': 'rbf'}\n",
      "0.572 (+/-0.059) for {'C': 400, 'gamma': 1, 'kernel': 'rbf'}\n",
      "0.543 (+/-0.041) for {'C': 400, 'gamma': 0.1, 'kernel': 'rbf'}\n",
      "0.621 (+/-0.051) for {'C': 400, 'gamma': 0.01, 'kernel': 'rbf'}\n",
      "0.630 (+/-0.056) for {'C': 400, 'gamma': 0.001, 'kernel': 'rbf'}\n",
      "0.334 (+/-0.000) for {'C': 1000, 'gamma': 100, 'kernel': 'rbf'}\n",
      "0.337 (+/-0.007) for {'C': 1000, 'gamma': 10, 'kernel': 'rbf'}\n",
      "0.572 (+/-0.059) for {'C': 1000, 'gamma': 1, 'kernel': 'rbf'}\n",
      "0.544 (+/-0.043) for {'C': 1000, 'gamma': 0.1, 'kernel': 'rbf'}\n",
      "0.611 (+/-0.041) for {'C': 1000, 'gamma': 0.01, 'kernel': 'rbf'}\n",
      "0.629 (+/-0.059) for {'C': 1000, 'gamma': 0.001, 'kernel': 'rbf'}\n",
      "CPU times: total: 9.14 s\n",
      "Wall time: 18min 57s\n"
     ]
    }
   ],
   "source": [
    "%%time\n",
    "a,b,c,d,e = prepare_input(train_labels, train_Hfeatures, target = 'EPA_category', encoder = encoder_epa)\n",
    "\n",
    "H_epa_svc = model_selection(svc, svm_grid_parameters, a, c, scoring = 'f1_weighted', cv=5, GridSearch = True)"
   ]
  },
  {
   "cell_type": "code",
   "execution_count": 23,
   "metadata": {},
   "outputs": [
    {
     "name": "stdout",
     "output_type": "stream",
     "text": [
      "Best parameters set found on development set: {'n_neighbors': 55, 'p': 1, 'weights': 'distance'}\n",
      "Best score: 0.6290994018747665\n",
      "Grid scores on development set:\n",
      "\n",
      "0.599 (+/-0.041) for {'n_neighbors': 5, 'p': 1, 'weights': 'distance'}\n",
      "0.594 (+/-0.056) for {'n_neighbors': 5, 'p': 2, 'weights': 'distance'}\n",
      "0.612 (+/-0.049) for {'n_neighbors': 9, 'p': 1, 'weights': 'distance'}\n",
      "0.611 (+/-0.054) for {'n_neighbors': 9, 'p': 2, 'weights': 'distance'}\n",
      "0.616 (+/-0.062) for {'n_neighbors': 15, 'p': 1, 'weights': 'distance'}\n",
      "0.618 (+/-0.053) for {'n_neighbors': 15, 'p': 2, 'weights': 'distance'}\n",
      "0.619 (+/-0.057) for {'n_neighbors': 19, 'p': 1, 'weights': 'distance'}\n",
      "0.621 (+/-0.061) for {'n_neighbors': 19, 'p': 2, 'weights': 'distance'}\n",
      "0.624 (+/-0.059) for {'n_neighbors': 25, 'p': 1, 'weights': 'distance'}\n",
      "0.626 (+/-0.066) for {'n_neighbors': 25, 'p': 2, 'weights': 'distance'}\n",
      "0.627 (+/-0.061) for {'n_neighbors': 35, 'p': 1, 'weights': 'distance'}\n",
      "0.626 (+/-0.063) for {'n_neighbors': 35, 'p': 2, 'weights': 'distance'}\n",
      "0.627 (+/-0.063) for {'n_neighbors': 45, 'p': 1, 'weights': 'distance'}\n",
      "0.625 (+/-0.061) for {'n_neighbors': 45, 'p': 2, 'weights': 'distance'}\n",
      "0.629 (+/-0.060) for {'n_neighbors': 55, 'p': 1, 'weights': 'distance'}\n",
      "0.628 (+/-0.065) for {'n_neighbors': 55, 'p': 2, 'weights': 'distance'}\n",
      "0.628 (+/-0.067) for {'n_neighbors': 71, 'p': 1, 'weights': 'distance'}\n",
      "0.626 (+/-0.071) for {'n_neighbors': 71, 'p': 2, 'weights': 'distance'}\n",
      "0.625 (+/-0.066) for {'n_neighbors': 101, 'p': 1, 'weights': 'distance'}\n",
      "0.627 (+/-0.071) for {'n_neighbors': 101, 'p': 2, 'weights': 'distance'}\n",
      "0.628 (+/-0.067) for {'n_neighbors': 151, 'p': 1, 'weights': 'distance'}\n",
      "0.625 (+/-0.067) for {'n_neighbors': 151, 'p': 2, 'weights': 'distance'}\n",
      "CPU times: total: 266 ms\n",
      "Wall time: 6.7 s\n"
     ]
    }
   ],
   "source": [
    "%%time\n",
    "a,b,c,d,e = prepare_input(train_labels, train_Hfeatures, target = 'EPA_category', encoder = encoder_epa)\n",
    "\n",
    "H_epa_knn = model_selection(knn_clf, knn_grid_parameters, a, c, scoring = 'f1_weighted', cv=5, GridSearch = True)"
   ]
  }
 ],
 "metadata": {
  "kernelspec": {
   "display_name": "base",
   "language": "python",
   "name": "python3"
  },
  "language_info": {
   "codemirror_mode": {
    "name": "ipython",
    "version": 3
   },
   "file_extension": ".py",
   "mimetype": "text/x-python",
   "name": "python",
   "nbconvert_exporter": "python",
   "pygments_lexer": "ipython3",
   "version": "3.12.3"
  }
 },
 "nbformat": 4,
 "nbformat_minor": 2
}
