{
 "cells": [
  {
   "cell_type": "markdown",
   "metadata": {},
   "source": [
    "## Объединение и сбор признаков для иерархических моделей"
   ]
  },
  {
   "cell_type": "markdown",
   "metadata": {},
   "source": [
    "### Выполняем необходимые импорты"
   ]
  },
  {
   "cell_type": "code",
   "execution_count": null,
   "metadata": {},
   "outputs": [],
   "source": [
    "from utils import * \n",
    "\n",
    "import pandas as pd\n",
    "import numpy as np\n",
    "import matplotlib.pyplot as plt\n",
    "import math\n",
    "import itertools\n",
    "from pprint import pprint\n",
    "import joblib\n",
    "import statistics\n",
    "\n",
    "\n",
    "from xgboost import XGBClassifier, XGBRegressor\n",
    "from sklearn.ensemble import RandomForestClassifier, RandomForestRegressor\n",
    "from sklearn.svm import SVC, SVR\n",
    "from sklearn.neighbors import KNeighborsClassifier, KNeighborsRegressor\n",
    "from sklearn.preprocessing import LabelEncoder, LabelBinarizer\n",
    "from sklearn.model_selection import KFold, cross_validate, GridSearchCV, cross_val_score, RandomizedSearchCV \n",
    "from sklearn.model_selection import cross_val_predict\n",
    "from sklearn.pipeline import Pipeline\n",
    "from sklearn.metrics import make_scorer\n",
    "from sklearn.metrics import mean_absolute_error , mean_squared_error, r2_score\n",
    "from sklearn.metrics import accuracy_score, confusion_matrix, classification_report\n",
    "from sklearn.metrics import accuracy_score, balanced_accuracy_score, roc_auc_score, f1_score, matthews_corrcoef\n",
    "from sklearn.base import BaseEstimator\n",
    "from sklearn.base import ClassifierMixin\n",
    "from sklearn.base import TransformerMixin\n",
    "from sklearn.base import clone\n",
    "from sklearn.model_selection._split import check_cv"
   ]
  },
  {
   "cell_type": "markdown",
   "metadata": {},
   "source": [
    "## Иерархические признаки для обучающей выборки\n",
    "\n",
    "В этом разделе формируются иерархические (мета-)признаки для обучающей выборки.  \n",
    "Они получены на основе предсказаний базовых моделей и используются в дальнейшем для обучения мета-моделей.  "
   ]
  },
  {
   "cell_type": "code",
   "execution_count": null,
   "metadata": {},
   "outputs": [],
   "source": [
    "import os\n",
    "\n",
    "def Hfeature_collector(Hfiles_path):\n",
    "    Hfeature_files = os.listdir(Hfiles_path) 
    "    Hfeature_files.sort()
    "    print(f'{len(Hfeature_files)} files found')\n",
    "    \n",
    "    Hfeature_df = pd.DataFrame()\n",
    "    \n",
    "    for f in Hfeature_files:\n",
    "        if f.split('_')[0] == 'LD50':\n",
    "            df_f = pd.read_csv(f'{Hfiles_path}{f}', index_col = 'CASRN')\n",
    "            Hfeature_df = pd.concat([Hfeature_df, df_f], axis=1, sort=False)\n",
    "        \n",
    "        elif f.split('_')[0] == 'Toxic':\n",
    "            df_f = pd.read_csv(f'{Hfiles_path}{f}', usecols=[0,2], index_col = 'CASRN')\n",
    "            Hfeature_df = pd.concat([Hfeature_df, df_f], axis=1, sort=False)            \n",
    "\n",
    "        elif f.split('_')[0] == 'EPA':\n",
    "            df_f = pd.read_csv(f'{Hfiles_path}{f}',usecols=[0,1,2,3], index_col = 'CASRN')\n",
    "            Hfeature_df = pd.concat([Hfeature_df, df_f], axis=1, sort=False)\n",
    "        else:\n",
    "            print(f'File name *{f}* may not a feature file and skipped')    \n",
    "\n",
    "    Hfeature_df.index.name = 'CASRN'    \n",
    "    return Hfeature_df"
   ]
  },
  {
   "cell_type": "code",
   "execution_count": 3,
   "metadata": {},
   "outputs": [
    {
     "name": "stdout",
     "output_type": "stream",
     "text": [
      "60 files found\n"
     ]
    },
    {
     "data": {
      "text/plain": [
       "(8221, 100)"
      ]
     },
     "execution_count": 3,
     "metadata": {},
     "output_type": "execute_result"
    }
   ],
   "source": [
    "Hfeature_path = '../data/Hmodel_features/'\n",
    "train_Hfeatures = Hfeature_collector(Hfeature_path)\n",
    "train_Hfeatures.shape"
   ]
  },
  {
   "cell_type": "code",
   "execution_count": 4,
   "metadata": {},
   "outputs": [
    {
     "data": {
      "text/html": [
       "<div>\n",
       "<style scoped>\n",
       "    .dataframe tbody tr th:only-of-type {\n",
       "        vertical-align: middle;\n",
       "    }\n",
       "\n",
       "    .dataframe tbody tr th {\n",
       "        vertical-align: top;\n",
       "    }\n",
       "\n",
       "    .dataframe thead th {\n",
       "        text-align: right;\n",
       "    }\n",
       "</style>\n",
       "<table border=\"1\" class=\"dataframe\">\n",
       "  <thead>\n",
       "    <tr style=\"text-align: right;\">\n",
       "      <th></th>\n",
       "      <th>EPA_RF_ecfp6bits-1</th>\n",
       "      <th>EPA_RF_ecfp6bits-2</th>\n",
       "      <th>EPA_RF_ecfp6bits-3</th>\n",
       "      <th>EPA_RF_ecfp6counts-1</th>\n",
       "      <th>EPA_RF_ecfp6counts-2</th>\n",
       "      <th>EPA_RF_ecfp6counts-3</th>\n",
       "      <th>EPA_RF_maccs-1</th>\n",
       "      <th>EPA_RF_maccs-2</th>\n",
       "      <th>EPA_RF_maccs-3</th>\n",
       "      <th>EPA_RF_mordred-1</th>\n",
       "      <th>...</th>\n",
       "      <th>Toxic_svm_ecfp6bits-1</th>\n",
       "      <th>Toxic_svm_ecfp6counts-1</th>\n",
       "      <th>Toxic_svm_maccs-1</th>\n",
       "      <th>Toxic_svm_mordred-1</th>\n",
       "      <th>Toxic_svm_rdkit2d-1</th>\n",
       "      <th>Toxic_xgboost_ecfp6bits-1</th>\n",
       "      <th>Toxic_xgboost_ecfp6counts-1</th>\n",
       "      <th>Toxic_xgboost_maccs-1</th>\n",
       "      <th>Toxic_xgboost_mordred-1</th>\n",
       "      <th>Toxic_xgboost_rdkit2d-1</th>\n",
       "    </tr>\n",
       "    <tr>\n",
       "      <th>CASRN</th>\n",
       "      <th></th>\n",
       "      <th></th>\n",
       "      <th></th>\n",
       "      <th></th>\n",
       "      <th></th>\n",
       "      <th></th>\n",
       "      <th></th>\n",
       "      <th></th>\n",
       "      <th></th>\n",
       "      <th></th>\n",
       "      <th></th>\n",
       "      <th></th>\n",
       "      <th></th>\n",
       "      <th></th>\n",
       "      <th></th>\n",
       "      <th></th>\n",
       "      <th></th>\n",
       "      <th></th>\n",
       "      <th></th>\n",
       "      <th></th>\n",
       "      <th></th>\n",
       "    </tr>\n",
       "  </thead>\n",
       "  <tbody>\n",
       "    <tr>\n",
       "      <th>23233-88-7</th>\n",
       "      <td>0.11421</td>\n",
       "      <td>0.23115</td>\n",
       "      <td>0.516881</td>\n",
       "      <td>0.106932</td>\n",
       "      <td>0.231361</td>\n",
       "      <td>0.535563</td>\n",
       "      <td>0.084305</td>\n",
       "      <td>0.184793</td>\n",
       "      <td>0.545046</td>\n",
       "      <td>0.090417</td>\n",
       "      <td>...</td>\n",
       "      <td>0.595123</td>\n",
       "      <td>0.693394</td>\n",
       "      <td>0.271051</td>\n",
       "      <td>0.490151</td>\n",
       "      <td>0.46636</td>\n",
       "      <td>0.660376</td>\n",
       "      <td>0.721718</td>\n",
       "      <td>0.298831</td>\n",
       "      <td>0.484635</td>\n",
       "      <td>0.289508</td>\n",
       "    </tr>\n",
       "  </tbody>\n",
       "</table>\n",
       "<p>1 rows × 100 columns</p>\n",
       "</div>"
      ],
      "text/plain": [
       "            EPA_RF_ecfp6bits-1  EPA_RF_ecfp6bits-2  EPA_RF_ecfp6bits-3  \\\n",
       "CASRN                                                                    \n",
       "23233-88-7             0.11421             0.23115            0.516881   \n",
       "\n",
       "            EPA_RF_ecfp6counts-1  EPA_RF_ecfp6counts-2  EPA_RF_ecfp6counts-3  \\\n",
       "CASRN                                                                          \n",
       "23233-88-7              0.106932              0.231361              0.535563   \n",
       "\n",
       "            EPA_RF_maccs-1  EPA_RF_maccs-2  EPA_RF_maccs-3  EPA_RF_mordred-1  \\\n",
       "CASRN                                                                          \n",
       "23233-88-7        0.084305        0.184793        0.545046          0.090417   \n",
       "\n",
       "            ...  Toxic_svm_ecfp6bits-1  Toxic_svm_ecfp6counts-1  \\\n",
       "CASRN       ...                                                   \n",
       "23233-88-7  ...               0.595123                 0.693394   \n",
       "\n",
       "            Toxic_svm_maccs-1  Toxic_svm_mordred-1  Toxic_svm_rdkit2d-1  \\\n",
       "CASRN                                                                     \n",
       "23233-88-7           0.271051             0.490151              0.46636   \n",
       "\n",
       "            Toxic_xgboost_ecfp6bits-1  Toxic_xgboost_ecfp6counts-1  \\\n",
       "CASRN                                                                \n",
       "23233-88-7                   0.660376                     0.721718   \n",
       "\n",
       "            Toxic_xgboost_maccs-1  Toxic_xgboost_mordred-1  \\\n",
       "CASRN                                                        \n",
       "23233-88-7               0.298831                 0.484635   \n",
       "\n",
       "            Toxic_xgboost_rdkit2d-1  \n",
       "CASRN                                \n",
       "23233-88-7                 0.289508  \n",
       "\n",
       "[1 rows x 100 columns]"
      ]
     },
     "execution_count": 4,
     "metadata": {},
     "output_type": "execute_result"
    }
   ],
   "source": [
    "train_Hfeatures.head(1)"
   ]
  },
  {
   "cell_type": "code",
   "execution_count": 5,
   "metadata": {},
   "outputs": [],
   "source": [
    "train_Hfeatures.to_csv('../data/Hmodel_features_combined/train_Hfeatures.csv')"
   ]
  },
  {
   "cell_type": "markdown",
   "metadata": {},
   "source": [
    "## Иерархические признаки для тестовой выборки\n",
    "\n",
    "В этом разделе используются все базовые модели для предсказания на тестовой выборке.  \n",
    "Полученные предсказания объединяются в иерархические (мета-)признаки,  \n",
    "которые затем используются мета-моделью для финального предсказания токсичности."
   ]
  },
  {
   "cell_type": "code",
   "execution_count": null,
   "metadata": {},
   "outputs": [],
   "source": [
    "test_ecfp6bits = pd.read_csv('../data/Bmodel_features/modeling_test_ecfp6_bits.csv', index_col='CASRN')\n",
    "test_ecfp6counts = pd.read_csv('../data/Bmodel_features/modeling_test_ecfp6_counts.csv', index_col='CASRN')\n",
    "test_maccs = pd.read_csv('../data/Bmodel_features/modeling_test_maccs.csv', index_col='CASRN')\n",
    "test_rdkit2d = pd.read_csv('../data/Bmodel_features/modeling_test_rdkit2d.csv', index_col='CASRN')\n",
    "test_mordred = pd.read_csv('../data/Bmodel_features/modeling_test_mordred.csv', index_col='CASRN')"
   ]
  },
  {
   "cell_type": "code",
   "execution_count": 7,
   "metadata": {},
   "outputs": [],
   "source": [
    "feature_dict = {\n",
    "    'ecfp6bits': test_ecfp6bits,\n",
    "    'ecfp6counts': test_ecfp6counts,\n",
    "    'maccs': test_maccs,\n",
    "    'rdkit2d': test_rdkit2d,\n",
    "    'mordred': test_mordred\n",
    "}"
   ]
  },
  {
   "cell_type": "code",
   "execution_count": 8,
   "metadata": {},
   "outputs": [],
   "source": [
    "endpoints = ['Toxic', 'EPA', 'LD50']\n",
    "descriptors = ['ecfp6bits', 'ecfp6counts', 'maccs', 'rdkit2d', 'mordred']\n",
    "algorithms = ['knn', 'svm', 'RF', 'xgboost']"
   ]
  },
  {
   "cell_type": "markdown",
   "metadata": {},
   "source": [
    "## Генерация предсказаний от базовых моделей\n",
    "\n",
    "Мы проходим по всем базовым моделям (всего 60) и делаем предсказания на тестовом наборе данных.  \n",
    "Предсказания каждой модели сохраняются в отдельный `.csv` файл с тем же именем,  \n",
    "что использовалось для признаков обучающей выборки.\n",
    "\n",
    "Все результаты сохраняются в папку `Hmodel_features_test`  \n",
    "и готовы для объединения и использования в мета-модели."
   ]
  },
  {
   "cell_type": "code",
   "execution_count": 9,
   "metadata": {},
   "outputs": [
    {
     "name": "stdout",
     "output_type": "stream",
     "text": [
      "Toxic_knn_ecfp6bits: computing....\n"
     ]
    },
    {
     "name": "stderr",
     "output_type": "stream",
     "text": [
      "c:\\Users\\PC\\anaconda3\\Lib\\site-packages\\sklearn\\metrics\\pairwise.py:2317: DataConversionWarning: Data was converted to boolean for metric dice\n",
      "  warnings.warn(msg, DataConversionWarning)\n"
     ]
    },
    {
     "name": "stdout",
     "output_type": "stream",
     "text": [
      "Toxic_knn_ecfp6bits: saved\n",
      "Toxic_svm_ecfp6bits: computing....\n",
      "Toxic_svm_ecfp6bits: saved\n",
      "Toxic_RF_ecfp6bits: computing....\n",
      "Toxic_RF_ecfp6bits: saved\n",
      "Toxic_xgboost_ecfp6bits: computing....\n",
      "Toxic_xgboost_ecfp6bits: saved\n",
      "Toxic_knn_ecfp6counts: computing....\n",
      "Toxic_knn_ecfp6counts: saved\n",
      "Toxic_svm_ecfp6counts: computing....\n",
      "Toxic_svm_ecfp6counts: saved\n",
      "Toxic_RF_ecfp6counts: computing....\n",
      "Toxic_RF_ecfp6counts: saved\n",
      "Toxic_xgboost_ecfp6counts: computing....\n",
      "Toxic_xgboost_ecfp6counts: saved\n",
      "Toxic_knn_maccs: computing....\n"
     ]
    },
    {
     "name": "stderr",
     "output_type": "stream",
     "text": [
      "c:\\Users\\PC\\anaconda3\\Lib\\site-packages\\sklearn\\metrics\\pairwise.py:2317: DataConversionWarning: Data was converted to boolean for metric rogerstanimoto\n",
      "  warnings.warn(msg, DataConversionWarning)\n"
     ]
    },
    {
     "name": "stdout",
     "output_type": "stream",
     "text": [
      "Toxic_knn_maccs: saved\n",
      "Toxic_svm_maccs: computing....\n",
      "Toxic_svm_maccs: saved\n",
      "Toxic_RF_maccs: computing....\n",
      "Toxic_RF_maccs: saved\n",
      "Toxic_xgboost_maccs: computing....\n",
      "Toxic_xgboost_maccs: saved\n",
      "Toxic_knn_rdkit2d: computing....\n",
      "Toxic_knn_rdkit2d: saved\n",
      "Toxic_svm_rdkit2d: computing....\n",
      "Toxic_svm_rdkit2d: saved\n",
      "Toxic_RF_rdkit2d: computing....\n",
      "Toxic_RF_rdkit2d: saved\n",
      "Toxic_xgboost_rdkit2d: computing....\n",
      "Toxic_xgboost_rdkit2d: saved\n",
      "Toxic_knn_mordred: computing....\n",
      "Toxic_knn_mordred: saved\n",
      "Toxic_svm_mordred: computing....\n",
      "Toxic_svm_mordred: saved\n",
      "Toxic_RF_mordred: computing....\n",
      "Toxic_RF_mordred: saved\n",
      "Toxic_xgboost_mordred: computing....\n",
      "Toxic_xgboost_mordred: saved\n",
      "EPA_knn_ecfp6bits: computing....\n"
     ]
    },
    {
     "name": "stderr",
     "output_type": "stream",
     "text": [
      "c:\\Users\\PC\\anaconda3\\Lib\\site-packages\\sklearn\\metrics\\pairwise.py:2317: DataConversionWarning: Data was converted to boolean for metric dice\n",
      "  warnings.warn(msg, DataConversionWarning)\n"
     ]
    },
    {
     "name": "stdout",
     "output_type": "stream",
     "text": [
      "EPA_knn_ecfp6bits: saved\n",
      "EPA_svm_ecfp6bits: computing....\n",
      "EPA_svm_ecfp6bits: saved\n",
      "EPA_RF_ecfp6bits: computing....\n",
      "EPA_RF_ecfp6bits: saved\n",
      "EPA_xgboost_ecfp6bits: computing....\n",
      "EPA_xgboost_ecfp6bits: saved\n",
      "EPA_knn_ecfp6counts: computing....\n",
      "EPA_knn_ecfp6counts: saved\n",
      "EPA_svm_ecfp6counts: computing....\n",
      "EPA_svm_ecfp6counts: saved\n",
      "EPA_RF_ecfp6counts: computing....\n",
      "EPA_RF_ecfp6counts: saved\n",
      "EPA_xgboost_ecfp6counts: computing....\n",
      "EPA_xgboost_ecfp6counts: saved\n",
      "EPA_knn_maccs: computing....\n"
     ]
    },
    {
     "name": "stderr",
     "output_type": "stream",
     "text": [
      "c:\\Users\\PC\\anaconda3\\Lib\\site-packages\\sklearn\\metrics\\pairwise.py:2317: DataConversionWarning: Data was converted to boolean for metric rogerstanimoto\n",
      "  warnings.warn(msg, DataConversionWarning)\n"
     ]
    },
    {
     "name": "stdout",
     "output_type": "stream",
     "text": [
      "EPA_knn_maccs: saved\n",
      "EPA_svm_maccs: computing....\n",
      "EPA_svm_maccs: saved\n",
      "EPA_RF_maccs: computing....\n",
      "EPA_RF_maccs: saved\n",
      "EPA_xgboost_maccs: computing....\n",
      "EPA_xgboost_maccs: saved\n",
      "EPA_knn_rdkit2d: computing....\n",
      "EPA_knn_rdkit2d: saved\n",
      "EPA_svm_rdkit2d: computing....\n",
      "EPA_svm_rdkit2d: saved\n",
      "EPA_RF_rdkit2d: computing....\n",
      "EPA_RF_rdkit2d: saved\n",
      "EPA_xgboost_rdkit2d: computing....\n",
      "EPA_xgboost_rdkit2d: saved\n",
      "EPA_knn_mordred: computing....\n",
      "EPA_knn_mordred: saved\n",
      "EPA_svm_mordred: computing....\n",
      "EPA_svm_mordred: saved\n",
      "EPA_RF_mordred: computing....\n",
      "EPA_RF_mordred: saved\n",
      "EPA_xgboost_mordred: computing....\n",
      "EPA_xgboost_mordred: saved\n",
      "LD50_knn_ecfp6bits: computing....\n"
     ]
    },
    {
     "name": "stderr",
     "output_type": "stream",
     "text": [
      "c:\\Users\\PC\\anaconda3\\Lib\\site-packages\\sklearn\\metrics\\pairwise.py:2317: DataConversionWarning: Data was converted to boolean for metric dice\n",
      "  warnings.warn(msg, DataConversionWarning)\n"
     ]
    },
    {
     "name": "stdout",
     "output_type": "stream",
     "text": [
      "LD50_knn_ecfp6bits: saved\n",
      "LD50_svm_ecfp6bits: computing....\n",
      "LD50_svm_ecfp6bits: saved\n",
      "LD50_RF_ecfp6bits: computing....\n",
      "LD50_RF_ecfp6bits: saved\n",
      "LD50_xgboost_ecfp6bits: computing....\n",
      "LD50_xgboost_ecfp6bits: saved\n",
      "LD50_knn_ecfp6counts: computing....\n",
      "LD50_knn_ecfp6counts: saved\n",
      "LD50_svm_ecfp6counts: computing....\n",
      "LD50_svm_ecfp6counts: saved\n",
      "LD50_RF_ecfp6counts: computing....\n",
      "LD50_RF_ecfp6counts: saved\n",
      "LD50_xgboost_ecfp6counts: computing....\n",
      "LD50_xgboost_ecfp6counts: saved\n",
      "LD50_knn_maccs: computing....\n"
     ]
    },
    {
     "name": "stderr",
     "output_type": "stream",
     "text": [
      "c:\\Users\\PC\\anaconda3\\Lib\\site-packages\\sklearn\\metrics\\pairwise.py:2317: DataConversionWarning: Data was converted to boolean for metric rogerstanimoto\n",
      "  warnings.warn(msg, DataConversionWarning)\n"
     ]
    },
    {
     "name": "stdout",
     "output_type": "stream",
     "text": [
      "LD50_knn_maccs: saved\n",
      "LD50_svm_maccs: computing....\n",
      "LD50_svm_maccs: saved\n",
      "LD50_RF_maccs: computing....\n",
      "LD50_RF_maccs: saved\n",
      "LD50_xgboost_maccs: computing....\n",
      "LD50_xgboost_maccs: saved\n",
      "LD50_knn_rdkit2d: computing....\n",
      "LD50_knn_rdkit2d: saved\n",
      "LD50_svm_rdkit2d: computing....\n",
      "LD50_svm_rdkit2d: saved\n",
      "LD50_RF_rdkit2d: computing....\n",
      "LD50_RF_rdkit2d: saved\n",
      "LD50_xgboost_rdkit2d: computing....\n",
      "LD50_xgboost_rdkit2d: saved\n",
      "LD50_knn_mordred: computing....\n",
      "LD50_knn_mordred: saved\n",
      "LD50_svm_mordred: computing....\n",
      "LD50_svm_mordred: saved\n",
      "LD50_RF_mordred: computing....\n",
      "LD50_RF_mordred: saved\n",
      "LD50_xgboost_mordred: computing....\n",
      "LD50_xgboost_mordred: saved\n",
      "CPU times: total: 10min 14s\n",
      "Wall time: 6min 29s\n"
     ]
    }
   ],
   "source": [
    "%%time\n",
    "\n",
    "index = test_ecfp6bits.index\n",
    "\n",
    "for e in endpoints:\n",
    "    for d in descriptors:\n",
    "        for a in algorithms:\n",
    "            name = f'{e}_{a}_{d}'\n",
    "            print(f'{name}: computing....')\n",
    "            model = joblib.load(f'../models/Base_models/{name}.pkl')\n",
    "            feature = feature_dict[f'{d}'].values.astype('float32')\n",
    "            if e == 'Toxic':\n",
    "                predictions = model.predict_proba(feature)\n",
    "                df = pd.DataFrame(predictions, columns=[f'{name}-0', f'{name}-1'],index = index)\n",
    "                df.to_csv(f'../data/Hmodel_features_test/{name}.csv')\n",
    "\n",
    "                print(f'{name}: saved')\n",
    "            if e == 'EPA':\n",
    "                predictions = model.predict_proba(feature)\n",
    "                df = pd.DataFrame(predictions, columns=[f'{name}-1', f'{name}-2', f'{name}-3', f'{name}-4'], index = index)\n",
    "                df.to_csv(f'../data/Hmodel_features_test/{name}.csv')\n",
    "\n",
    "                print(f'{name}: saved')\n",
    "            if e == 'LD50':\n",
    "                predictions = model.predict(feature)\n",
    "                df = pd.DataFrame(predictions, columns=[f'{name}'],index = index)\n",
    "\n",
    "                df.to_csv(f'../data/Hmodel_features_test/{name}.csv')\n",
    "                print(f'{name}: saved')                "
   ]
  },
  {
   "cell_type": "code",
   "execution_count": 10,
   "metadata": {},
   "outputs": [
    {
     "name": "stdout",
     "output_type": "stream",
     "text": [
      "60 files found\n"
     ]
    },
    {
     "data": {
      "text/plain": [
       "(2849, 100)"
      ]
     },
     "execution_count": 10,
     "metadata": {},
     "output_type": "execute_result"
    }
   ],
   "source": [
    "Hfeature_test_path = '../data/Hmodel_features_test/'\n",
    "test_Hfeatures = Hfeature_collector(Hfeature_test_path)\n",
    "test_Hfeatures.shape"
   ]
  },
  {
   "cell_type": "code",
   "execution_count": 11,
   "metadata": {},
   "outputs": [
    {
     "data": {
      "text/html": [
       "<div>\n",
       "<style scoped>\n",
       "    .dataframe tbody tr th:only-of-type {\n",
       "        vertical-align: middle;\n",
       "    }\n",
       "\n",
       "    .dataframe tbody tr th {\n",
       "        vertical-align: top;\n",
       "    }\n",
       "\n",
       "    .dataframe thead th {\n",
       "        text-align: right;\n",
       "    }\n",
       "</style>\n",
       "<table border=\"1\" class=\"dataframe\">\n",
       "  <thead>\n",
       "    <tr style=\"text-align: right;\">\n",
       "      <th></th>\n",
       "      <th>EPA_RF_ecfp6bits-1</th>\n",
       "      <th>EPA_RF_ecfp6bits-2</th>\n",
       "      <th>EPA_RF_ecfp6bits-3</th>\n",
       "      <th>EPA_RF_ecfp6counts-1</th>\n",
       "      <th>EPA_RF_ecfp6counts-2</th>\n",
       "      <th>EPA_RF_ecfp6counts-3</th>\n",
       "      <th>EPA_RF_maccs-1</th>\n",
       "      <th>EPA_RF_maccs-2</th>\n",
       "      <th>EPA_RF_maccs-3</th>\n",
       "      <th>EPA_RF_mordred-1</th>\n",
       "      <th>...</th>\n",
       "      <th>Toxic_svm_ecfp6bits-1</th>\n",
       "      <th>Toxic_svm_ecfp6counts-1</th>\n",
       "      <th>Toxic_svm_maccs-1</th>\n",
       "      <th>Toxic_svm_mordred-1</th>\n",
       "      <th>Toxic_svm_rdkit2d-1</th>\n",
       "      <th>Toxic_xgboost_ecfp6bits-1</th>\n",
       "      <th>Toxic_xgboost_ecfp6counts-1</th>\n",
       "      <th>Toxic_xgboost_maccs-1</th>\n",
       "      <th>Toxic_xgboost_mordred-1</th>\n",
       "      <th>Toxic_xgboost_rdkit2d-1</th>\n",
       "    </tr>\n",
       "    <tr>\n",
       "      <th>CASRN</th>\n",
       "      <th></th>\n",
       "      <th></th>\n",
       "      <th></th>\n",
       "      <th></th>\n",
       "      <th></th>\n",
       "      <th></th>\n",
       "      <th></th>\n",
       "      <th></th>\n",
       "      <th></th>\n",
       "      <th></th>\n",
       "      <th></th>\n",
       "      <th></th>\n",
       "      <th></th>\n",
       "      <th></th>\n",
       "      <th></th>\n",
       "      <th></th>\n",
       "      <th></th>\n",
       "      <th></th>\n",
       "      <th></th>\n",
       "      <th></th>\n",
       "      <th></th>\n",
       "    </tr>\n",
       "  </thead>\n",
       "  <tbody>\n",
       "    <tr>\n",
       "      <th>130209-82-4</th>\n",
       "      <td>0.043288</td>\n",
       "      <td>0.193327</td>\n",
       "      <td>0.467449</td>\n",
       "      <td>0.055197</td>\n",
       "      <td>0.166634</td>\n",
       "      <td>0.401021</td>\n",
       "      <td>0.102289</td>\n",
       "      <td>0.193812</td>\n",
       "      <td>0.439137</td>\n",
       "      <td>0.120289</td>\n",
       "      <td>...</td>\n",
       "      <td>0.138928</td>\n",
       "      <td>0.100082</td>\n",
       "      <td>0.526486</td>\n",
       "      <td>0.343379</td>\n",
       "      <td>0.322641</td>\n",
       "      <td>0.269896</td>\n",
       "      <td>0.160915</td>\n",
       "      <td>0.545077</td>\n",
       "      <td>0.598325</td>\n",
       "      <td>0.513982</td>\n",
       "    </tr>\n",
       "  </tbody>\n",
       "</table>\n",
       "<p>1 rows × 100 columns</p>\n",
       "</div>"
      ],
      "text/plain": [
       "             EPA_RF_ecfp6bits-1  EPA_RF_ecfp6bits-2  EPA_RF_ecfp6bits-3  \\\n",
       "CASRN                                                                     \n",
       "130209-82-4            0.043288            0.193327            0.467449   \n",
       "\n",
       "             EPA_RF_ecfp6counts-1  EPA_RF_ecfp6counts-2  EPA_RF_ecfp6counts-3  \\\n",
       "CASRN                                                                           \n",
       "130209-82-4              0.055197              0.166634              0.401021   \n",
       "\n",
       "             EPA_RF_maccs-1  EPA_RF_maccs-2  EPA_RF_maccs-3  EPA_RF_mordred-1  \\\n",
       "CASRN                                                                           \n",
       "130209-82-4        0.102289        0.193812        0.439137          0.120289   \n",
       "\n",
       "             ...  Toxic_svm_ecfp6bits-1  Toxic_svm_ecfp6counts-1  \\\n",
       "CASRN        ...                                                   \n",
       "130209-82-4  ...               0.138928                 0.100082   \n",
       "\n",
       "             Toxic_svm_maccs-1  Toxic_svm_mordred-1  Toxic_svm_rdkit2d-1  \\\n",
       "CASRN                                                                      \n",
       "130209-82-4           0.526486             0.343379             0.322641   \n",
       "\n",
       "             Toxic_xgboost_ecfp6bits-1  Toxic_xgboost_ecfp6counts-1  \\\n",
       "CASRN                                                                 \n",
       "130209-82-4                   0.269896                     0.160915   \n",
       "\n",
       "             Toxic_xgboost_maccs-1  Toxic_xgboost_mordred-1  \\\n",
       "CASRN                                                         \n",
       "130209-82-4               0.545077                 0.598325   \n",
       "\n",
       "             Toxic_xgboost_rdkit2d-1  \n",
       "CASRN                                 \n",
       "130209-82-4                 0.513982  \n",
       "\n",
       "[1 rows x 100 columns]"
      ]
     },
     "execution_count": 11,
     "metadata": {},
     "output_type": "execute_result"
    }
   ],
   "source": [
    "test_Hfeatures.head(1)"
   ]
  },
  {
   "cell_type": "code",
   "execution_count": 12,
   "metadata": {},
   "outputs": [],
   "source": [
    "train_Hfeatures = pd.read_csv('../data/Hmodel_features_combined/train_Hfeatures.csv', index_col = 'CASRN')"
   ]
  },
  {
   "cell_type": "code",
   "execution_count": null,
   "metadata": {},
   "outputs": [
    {
     "data": {
      "text/plain": [
       "True"
      ]
     },
     "execution_count": 13,
     "metadata": {},
     "output_type": "execute_result"
    }
   ],
   "source": [
    "list(train_Hfeatures) == list(test_Hfeatures)"
   ]
  },
  {
   "cell_type": "code",
   "execution_count": 14,
   "metadata": {},
   "outputs": [],
   "source": [
    "test_Hfeatures.to_csv('../data/Hmodel_features_combined/test_Hfeatures.csv')"
   ]
  }
 ],
 "metadata": {
  "kernelspec": {
   "display_name": "base",
   "language": "python",
   "name": "python3"
  },
  "language_info": {
   "codemirror_mode": {
    "name": "ipython",
    "version": 3
   },
   "file_extension": ".py",
   "mimetype": "text/x-python",
   "name": "python",
   "nbconvert_exporter": "python",
   "pygments_lexer": "ipython3",
   "version": "3.12.3"
  }
 },
 "nbformat": 4,
 "nbformat_minor": 2
}
