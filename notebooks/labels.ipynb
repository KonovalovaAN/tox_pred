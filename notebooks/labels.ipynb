{
  "cells": [
    {
      "cell_type": "markdown",
      "metadata": {
        "id": "FFv-xEnK78gW"
      },
      "source": [
        "# Анализ целевых показателей и подготовка данных для предсказания токсичности химических соединений"
      ]
    },
    {
      "cell_type": "markdown",
      "metadata": {
        "id": "TQ5ZlwYm8BVe"
      },
      "source": [
        "# Анализ целевых показателей и подготовка данных\n",
        "\n",
        "## Исходные данные и целевые переменные\n",
        "\n",
        "В рамках данного исследования рассматриваются пять целевых переменных, каждая из которых отражает различные аспекты токсичности малых органических молекул. Эти показатели используются для построения моделей машинного обучения, способных предсказывать токсичность веществ на основе их химической структуры.\n",
        "\n",
        "### Перечень целевых переменных:\n",
        "\n",
        "1. **EPA Category**  \n",
        "   Категориальная переменная, определяющая уровень токсичности согласно классификации Агентства по охране окружающей среды США (Environmental Protection Agency).  \n",
        "   - **Диапазон значений:** 1 (высокая токсичность) — 4 (низкая токсичность)  \n",
        "   - **Значимость:** используется для классификации токсичности в экологических стандартах.\n",
        "\n",
        "2. **GHS Category**  \n",
        "   Классификация в соответствии с Глобальной гармонизированной системой (Globally Harmonized System of Classification and Labelling of Chemicals).  \n",
        "   - **Диапазон значений:** от 1 (наиболее токсично) до 5 (наименее токсично)  \n",
        "   - **Значимость:** общепринятая международная система классификации.\n",
        "\n",
        "3. **LD50 (мг/кг)**  \n",
        "   Пороговая доза, вызывающая летальный исход у 50% подопытных животных при однократном введении вещества.  \n",
        "   - **Тип данных:** непрерывный  \n",
        "   - **Единицы измерения:** миллиграммы на килограмм массы тела  \n",
        "   - **Значимость:** количественная оценка токсичности, широко используемая в токсикологических исследованиях.\n",
        "\n",
        "4. **Нетоксичность (LD50 > 2000 мг/кг)**  \n",
        "   Бинарная переменная, отражающая принадлежность вещества к классу с низкой токсичностью.  \n",
        "   - **Значения:** 1 — вещество считается нетоксичным, 0 — иное  \n",
        "   - **Цель:** выделение безопасных соединений.\n",
        "\n",
        "5. **Высокая токсичность (LD50 < 50 мг/кг)**  \n",
        "   Бинарная переменная, выделяющая вещества с крайне высокой токсичностью.  \n",
        "   - **Значения:** 1 — высокотоксичное вещество, 0 — иное  \n",
        "   - **Цель:** акцент на особо опасных соединениях.\n",
        "\n",
        "---\n"
      ]
    },
    {
      "cell_type": "markdown",
      "metadata": {
        "id": "1FmAVS0KhNVa"
      },
      "source": [
        "## Импорт необходимых библиотек\n",
        "\n",
        "Для выполнения анализа и построения моделей машинного обучения используются следующие библиотеки:\n",
        "\n",
        "- `pandas`, `numpy` — работа с данными и числовыми массивами;\n",
        "- `rdkit` — обработка химических структур и вычисление дескрипторов;\n",
        "- `scikit-learn` — предобработка признаков и кодирование категориальных переменных;\n",
        "- `joblib` — сохранение промежуточных объектов.\n"
      ]
    },
    {
      "cell_type": "code",
      "execution_count": 1,
      "metadata": {
        "id": "DgaPWJkO5aqs"
      },
      "outputs": [],
      "source": [
        "import pandas as pd\n",
        "import numpy as np\n",
        "import math\n",
        "import joblib\n",
        "\n",
        "from rdkit import Chem\n",
        "from rdkit.Chem import Draw\n",
        "from rdkit.Chem import PandasTools\n",
        "from rdkit.Chem import Descriptors\n",
        "from sklearn.preprocessing import LabelEncoder\n",
        "from IPython.display import HTML\n",
        "import base64\n",
        "from io import BytesIO"
      ]
    },
    {
      "cell_type": "markdown",
      "metadata": {},
      "source": [
        "Вспомогательные функции для лучшей визуализации метода .head()"
      ]
    },
    {
      "cell_type": "code",
      "execution_count": 2,
      "metadata": {},
      "outputs": [],
      "source": [
        "def mol_to_img_tag(mol, size=(200, 200)):\n",
        "    img = Draw.MolToImage(mol, size=size)\n",
        "    buf = BytesIO()\n",
        "    img.save(buf, format='PNG')\n",
        "    data = base64.b64encode(buf.getvalue()).decode()\n",
        "    return f'<img src=\"data:image/png;base64,{data}\"/>'"
      ]
    },
    {
      "cell_type": "code",
      "execution_count": 3,
      "metadata": {},
      "outputs": [],
      "source": [
        "def visualised_head(df, n=1, mol_col='ROMol'):\n",
        "    df_copy = df.head(n).copy()\n",
        "    df_copy[mol_col] = df_copy[mol_col].apply(mol_to_img_tag)\n",
        "    return HTML(df_copy.to_html(escape=False))"
      ]
    },
    {
      "cell_type": "markdown",
      "metadata": {
        "id": "0VTRRTMghRs_"
      },
      "source": [
        "## Загрузка данных\n",
        "\n",
        "Данные загружаются из CSV-файлов. В качестве индекса используется столбец `CASRN` — уникальный идентификатор химического вещества согласно Chemical Abstracts Service.\n"
      ]
    },
    {
      "cell_type": "code",
      "execution_count": 4,
      "metadata": {
        "id": "stYpd3dzf1BQ"
      },
      "outputs": [],
      "source": [
        "train = pd.read_csv('../data/row/simplified_data/train.csv', index_col = 'CASRN')\n",
        "test = pd.read_csv('../data/row/simplified_data/test.csv', index_col = 'CASRN')"
      ]
    },
    {
      "cell_type": "markdown",
      "metadata": {
        "id": "wlVVUqNLu2W0"
      },
      "source": [
        "## Первичный осмотр структуры данных\n",
        "\n",
        "Выводим первую строку обучающего набора для оценки структуры."
      ]
    },
    {
      "cell_type": "code",
      "execution_count": 5,
      "metadata": {
        "colab": {
          "base_uri": "https://localhost:8080/",
          "height": 112
        },
        "id": "l2gYloROgAPq",
        "outputId": "88f31d2a-3ea8-4c1b-99de-06e8d680c3ef"
      },
      "outputs": [
        {
          "data": {
            "text/html": [
              "<div>\n",
              "<style scoped>\n",
              "    .dataframe tbody tr th:only-of-type {\n",
              "        vertical-align: middle;\n",
              "    }\n",
              "\n",
              "    .dataframe tbody tr th {\n",
              "        vertical-align: top;\n",
              "    }\n",
              "\n",
              "    .dataframe thead th {\n",
              "        text-align: right;\n",
              "    }\n",
              "</style>\n",
              "<table border=\"1\" class=\"dataframe\">\n",
              "  <thead>\n",
              "    <tr style=\"text-align: right;\">\n",
              "      <th></th>\n",
              "      <th>EPA_category</th>\n",
              "      <th>GHS_category</th>\n",
              "      <th>LD50_mgkg</th>\n",
              "      <th>nontoxic</th>\n",
              "      <th>very_toxic</th>\n",
              "      <th>SMILES</th>\n",
              "    </tr>\n",
              "    <tr>\n",
              "      <th>CASRN</th>\n",
              "      <th></th>\n",
              "      <th></th>\n",
              "      <th></th>\n",
              "      <th></th>\n",
              "      <th></th>\n",
              "      <th></th>\n",
              "    </tr>\n",
              "  </thead>\n",
              "  <tbody>\n",
              "    <tr>\n",
              "      <th>100-00-5</th>\n",
              "      <td>2.0</td>\n",
              "      <td>4.0</td>\n",
              "      <td>460.0</td>\n",
              "      <td>False</td>\n",
              "      <td>False</td>\n",
              "      <td>[O-][N+](=O)C1C=CC(Cl)=CC=1</td>\n",
              "    </tr>\n",
              "  </tbody>\n",
              "</table>\n",
              "</div>"
            ],
            "text/plain": [
              "          EPA_category  GHS_category  LD50_mgkg nontoxic very_toxic  \\\n",
              "CASRN                                                                 \n",
              "100-00-5           2.0           4.0      460.0    False      False   \n",
              "\n",
              "                               SMILES  \n",
              "CASRN                                  \n",
              "100-00-5  [O-][N+](=O)C1C=CC(Cl)=CC=1  "
            ]
          },
          "execution_count": 5,
          "metadata": {},
          "output_type": "execute_result"
        }
      ],
      "source": [
        "train.head(1)"
      ]
    },
    {
      "cell_type": "markdown",
      "metadata": {},
      "source": []
    },
    {
      "cell_type": "markdown",
      "metadata": {
        "id": "jZ-Z9Gbjmh_i"
      },
      "source": [
        "## Добавление химических структур\n",
        "\n",
        "Преобразуем SMILES-строки в объекты молекул RDKit (ROMol), необходимые для вычисления молекулярных дескрипторов."
      ]
    },
    {
      "cell_type": "code",
      "execution_count": 6,
      "metadata": {
        "colab": {
          "base_uri": "https://localhost:8080/"
        },
        "id": "GuI99HLIlpyz",
        "outputId": "e9e7c333-8e8b-4def-d31f-bc54d802ae2e"
      },
      "outputs": [],
      "source": [
        "PandasTools.AddMoleculeColumnToFrame(train,smilesCol='SMILES')\n",
        "PandasTools.AddMoleculeColumnToFrame(test,smilesCol='SMILES')"
      ]
    },
    {
      "cell_type": "code",
      "execution_count": 7,
      "metadata": {},
      "outputs": [
        {
          "data": {
            "text/html": [
              "<div>\n",
              "<style scoped>\n",
              "    .dataframe tbody tr th:only-of-type {\n",
              "        vertical-align: middle;\n",
              "    }\n",
              "\n",
              "    .dataframe tbody tr th {\n",
              "        vertical-align: top;\n",
              "    }\n",
              "\n",
              "    .dataframe thead th {\n",
              "        text-align: right;\n",
              "    }\n",
              "</style>\n",
              "<table border=\"1\" class=\"dataframe\">\n",
              "  <thead>\n",
              "    <tr style=\"text-align: right;\">\n",
              "      <th></th>\n",
              "      <th>EPA_category</th>\n",
              "      <th>GHS_category</th>\n",
              "      <th>LD50_mgkg</th>\n",
              "      <th>nontoxic</th>\n",
              "      <th>very_toxic</th>\n",
              "      <th>SMILES</th>\n",
              "      <th>ROMol</th>\n",
              "    </tr>\n",
              "    <tr>\n",
              "      <th>CASRN</th>\n",
              "      <th></th>\n",
              "      <th></th>\n",
              "      <th></th>\n",
              "      <th></th>\n",
              "      <th></th>\n",
              "      <th></th>\n",
              "      <th></th>\n",
              "    </tr>\n",
              "  </thead>\n",
              "  <tbody>\n",
              "    <tr>\n",
              "      <th>100-00-5</th>\n",
              "      <td>2.0</td>\n",
              "      <td>4.0</td>\n",
              "      <td>460.0</td>\n",
              "      <td>False</td>\n",
              "      <td>False</td>\n",
              "      <td>[O-][N+](=O)C1C=CC(Cl)=CC=1</td>\n",
              "      <td>&lt;rdkit.Chem.rdchem.Mol object at 0x0000022A73A...</td>\n",
              "    </tr>\n",
              "  </tbody>\n",
              "</table>\n",
              "</div>"
            ],
            "text/plain": [
              "          EPA_category  GHS_category  LD50_mgkg nontoxic very_toxic  \\\n",
              "CASRN                                                                 \n",
              "100-00-5           2.0           4.0      460.0    False      False   \n",
              "\n",
              "                               SMILES  \\\n",
              "CASRN                                   \n",
              "100-00-5  [O-][N+](=O)C1C=CC(Cl)=CC=1   \n",
              "\n",
              "                                                      ROMol  \n",
              "CASRN                                                        \n",
              "100-00-5  <rdkit.Chem.rdchem.Mol object at 0x0000022A73A...  "
            ]
          },
          "execution_count": 7,
          "metadata": {},
          "output_type": "execute_result"
        }
      ],
      "source": [
        "train.head(1)"
      ]
    },
    {
      "cell_type": "code",
      "execution_count": 8,
      "metadata": {},
      "outputs": [
        {
          "data": {
            "text/html": [
              "<table border=\"1\" class=\"dataframe\">\n",
              "  <thead>\n",
              "    <tr style=\"text-align: right;\">\n",
              "      <th></th>\n",
              "      <th>EPA_category</th>\n",
              "      <th>GHS_category</th>\n",
              "      <th>LD50_mgkg</th>\n",
              "      <th>nontoxic</th>\n",
              "      <th>very_toxic</th>\n",
              "      <th>SMILES</th>\n",
              "      <th>ROMol</th>\n",
              "    </tr>\n",
              "    <tr>\n",
              "      <th>CASRN</th>\n",
              "      <th></th>\n",
              "      <th></th>\n",
              "      <th></th>\n",
              "      <th></th>\n",
              "      <th></th>\n",
              "      <th></th>\n",
              "      <th></th>\n",
              "    </tr>\n",
              "  </thead>\n",
              "  <tbody>\n",
              "    <tr>\n",
              "      <th>100-00-5</th>\n",
              "      <td>2.0</td>\n",
              "      <td>4.0</td>\n",
              "      <td>460.0</td>\n",
              "      <td>False</td>\n",
              "      <td>False</td>\n",
              "      <td>[O-][N+](=O)C1C=CC(Cl)=CC=1</td>\n",
              "      <td><img src=\"data:image/png;base64,iVBORw0KGgoAAAANSUhEUgAAAMgAAADICAIAAAAiOjnJAAARN0lEQVR4nO3de1RU5foH8O+MgIAEiWIq2sFLusLQFNKQSu2iZlnHC561vK6OpXnJIrUgOJaWZrYs85LmKjW1y7KblZ3yEhlYaoFpIkiIpsdLCAiDwjAMM8/vj40bHAgYmWc2e37PZ/FHPsH7vuh39ux55t17DEQEIVzNqPUChGeSYAkWEizBQoIlWEiwBAsJlmAhwRIsJFiChQRLsJBgCRYSLMFCgiVYSLAECwmWYCHBEiwkWIKFBEuwkGAJFhIswUKCJVhIsAQLCZZgIcESLCRYgoUES7CQYAkWEizBQoIlWEiwBAsJlmAhwRIsJFiChQRLsJBgCRYSLMFCgiVYSLAECwmWYCHBEiwkWIKFBEuwkGAJFhIswUKCJVhIsAQLCZZgIcESLCRYgoUES7CQYAkWEizBQoIlWEiwBAsJlmAhwRIsJFiChQRLsJBgCRYSLMFCgiVYSLAECwmWYOGl9QJEc5WXB5MJbdqgTZvr+Gk5Yola9uxB795o3x49eyIkBDExSE93dgwJlrhWaipGjEBMDHJyUFGBo0fRrh0GD0Z2tlPDGIiIaYVClwYOhM2GgwerKxUViIhAZCQ+/LDxw3jyOdaFCxdsNltQUBDrLCUlJQaDoWPHjqyzuElREQ4cwNq11xR9fDBmDNauBREMhkaO5LHBGjRoUEpKitum69+//08//eTlpfO/z//9D0To0sWxHhaG4mKUlKDRj1Kd/0X8jXnz5impMhqN/v7+rHOVlZXZ7fZffvll2rRpGzZsYJ2LnXJAstsd68r5UqMPV8qPeBqz2dy5c2cAEyZMcM+Ms2bNAtCmTZvi4mL3zMilqIgMBlq3zrGekEDBwWS3N34kDwzWokWLAPTp06eystI9M9rt9rvvvhvAc889554ZGQ0cSAMGXFOpqKCePcnJR6mnBevs2bOtWrUC8MMPP7hz3kOHDhmNRh8fn+zsbHfO63p791KLFvTMM3ThAhHRqVP0r39RQAA5+Xt5Wrth4sSJH3zwQWxs7LZt29RiYmLisWPHXD5Xly5d3nzzTfWPU6dO3bBhwyOPPPLll1+6fC52hw4hIgLe3gDw3/9izhzk5sLPD2Yz+vXDunW44w7nBuQIvVb2799vMBh8fX1PnTpVs648T7lcnz59as6Sl5entDa+++47d/7WLpCfTzfeSD17Un5+dTE3l9LS6OzZ6xvSc14VEtHTTz9NRPPmzQsLC6v5v5YsWVJQUODyGR06ZO3atUtISIiPj4+Lizty5Ii38ujXhaQkFBcjKgpt21YXu3Zt0pguyHvzsHHjRgChoaGXL1/Wag0Wi6VHjx4AVq5cqdUanJaRQV5e5OVFGRlVlaIiio+nS5eaMqqHBOvy5ctK73vLli3armT79u0AWrdunV/zaaU5GzyYAIqLq67ExRFA//xnU0b1kGDFx8cDuPPOO+3O9FqYDBs2DMCsWbO0XkgjfPIJARQcTIWFVZWsLPL2JqOR0tKaMrAnBCs3N9fX19dgMBw8eFDrtRARZWZment7t2jR4vfff9d6LfUym6lLFwJo7drq4oMPEkDTpzdxbE8I1qhRowBMmTJF64VUmz17NoB7771X64XU6+WXCaBevchqrap88w0BFBhY1cRqAt0H6/vvvwcQEBBw7tw5rddS7dKlS23btgXwxRdfaL2Wv3H2LAUEEEC7dlVVlA47QG+80fTh9R2sysrK3r17A1iyZInWa3G0atUqAF27djWbzVqvpQ6XZz1PAI0eXV1avpwA6t6dysubPr6+g7V69epm+49XWVkZEREB4NVXX9V6LY4OHCA/b+vn962mkyerShcv0o03EkDffOOSKXQcLPXp5vPPP9d6LXVTn6bPnz+v9Vqq2e00YAABlJhYozptGgH0wAOumkXHwZozZw6AIUOGaL2Q+jz66KMAHnvsMa0XUm3TJgKofXsymaoqGUcqC6KGkbc3ZWW5aha9Bkt9SX/kyBGt11Kf3Nzcli1bGo3GZtIKuXyZOnYkgDZvri4qLdJPF2b8/c85Ta/BGj58OICZM2dqvZCGPf/88wCio6ObQ/P2hRcIoMhIstmqKtu2ObZIXUKXwVL2pejlbZOSkpIOHToA2Lp1q7YrOXmSfH3JYKADB6oqZjOFhRFQx6bRJtJfsNQ3et966y2t19JYyl740NDQK1euaLiM0aMJoMmTqyu1W6Suor9gLVu2DMCtt95aUVGh9Voay2az9e/fH8CCBQu0WkNyMgEUEEBqI7l2i9SFdBYsdTPdt99+q/VanPPzzz8bDAY/Pz+HTYhuExlJAL3ySnVl4kQCaOxYlul0FqypU6cCGDlypNYLuR7jx48HMG7cOE1mz8qif/+b1Eby/v1kMFDLlpSTwzKdnoKl9wsW1As99u7dq+1K6u6RutR1Bivfmv+f8//Jt7r1Rdk999wDYP78+e6c1LUWLlwI4Pbbb3fDpWmlpZSbSyUl1xRPnSKTiTIzKSiIOnakQ4e4Zm84WFdsV1658Mqdx+/smtE1Kitq6V9Ly+3lmeZMpCPL7LJGbYM++ugjAO3atdP1RaFlZWXKfvz169dzz/XttwTQsGHXFAMDqzoLeXn0008UFcU1ewO3MTLbzYP/GLzi4ophgcNeC31tbOuxa/LXJJ1PatI2e+eZzWZlj+jixYu5b/LBys/Pb+nSpQCSkpKKi4vdMGNqKmpcCFft5Enk5aG4GF98gf37GSauP3eLLyw2pBvSSqt3qZ6vOF9mK3PzEevFF18E0LdvX7dd3Mxq0KBBAObOncs6i3LESkykjh2r3xZUj1g//ECbN1OXLrR5M33/vetnb+CC1cjjkSFeId91/86hnlWeFZ4ZnhWeFeodaiGLU1E2lBmowomrZM+fPz9w4MDS0tIff/xROc3Su8OHD0dFRRmNxpSUlO7duzfypwyG1kQtGvnN/v5IScGDD6KwEJGRGDkSK1cCQFAQli3D9OlV33bHHfj1V6fX3yj15y7gt4C5Z+t4YKlHrNiTsUiHU193zHXymlrAx8dn2LUnC7m5ucnJyS58hLHat2/f8ePHa1bGjRvn7IWH3bplANTIr/nzq45YZWX02WfUogX9+itRjSOWIj2d61du4IJVC1luMN5QzzcEGgPbeDl389MAn4A2ztwv1WKxlJaWlpSUqJXDhw9HR0cHBwdnZ2cHBAQ4Nbv7WSyWKVOmnDlzJjk5+a677lKKJpPJarW2atXK19e3keMEBXk1/q+tVavq/x49GkOHYuZMHDjg+G39+jV2QKfVn7sOv3eYdnpa7bo7z7GKiopCQkIAfPLJJ0rFbrfHxMQAeOGFF9ywgCZasmQJgPDwcOvVN+T27NkD4IYbbmDdAKgesYjoxAny9aWNGx2PWHwaCNbo3NFhR8Mq7I7vyrn55H3t2rUAOnfuXFpaqlTS0tKUZukff/zhnjVcn7/++iswMBDAzp07lYrVar3tttsALFu2jHXqmsEiopdeotBQ8vNrHsHae3mvId0Qfy7eRlX7d/KseQXWAjcHy2azRUZGAnj55ZfV4uTJkwGMrnk5QPMzZcoUAKNGjVIrK1asANCtW7dyV1yzUA+HYJWXU48eLDtk6tRwg3T1xdW+v/l2+L3D8Jzh0cejfQ75rM9f7/4GaWpqqsFg8Pf3P336tFJRDwa7ON6dd4X09HSHw2phYaFyfvnVV19xz+4QLCLaubM5BYuILlRc2Fq49bW/Xnu/8P1j5mNEZKo0fVD4ganS1ODPutCYMWMATJo0Sa0sXrwYQK9evawu30/UZHa7XTlVj4+PV4szZ84EcN9992m4sLw8csOuMD29CX369Gl/f3+DwZCamqpUysvLlT7Q22+/re3aatuyZQuAm266yXS1O3ns2DEvLy8vLy8NL73/6CMKCqKkJPaJ9BQsIkpMTAQQGRlpu7pn+9NPPwUQHBxcUFCg7dpqKi0tvfnmmwFs3LhRLQ4dOhTAnDlztFtX1W4ZX1/i3hWms2Cp/2CbNm1Siw888AAA5a5rzURSUhKAfv36qQ+Azz77rJk8ACZMIIBiY3ln0VmwiGjz5s0OTzEZGRnKU8zRo0e1XZvizJkzDk/ZFovllltuAbBmzRpt10ZEZ89Sq1YEEOvtf/UXLPWkOCEhQS0++eSTAO6//34NF6aKjY3FtXeZr90j1daiRQRQnz7E956+/oJFdXVH1ZfxX3/9tbZr27dvn7K3vXZbRO2Rak696uudd7im0GWwqK7uqHJnbDc0HuuhNnIXLVqkFmv3SJsD5TrVkBAqKmIZX6/Bquetktdff12rVa1bt05Hbz0NGkQAPfssy+B6DRZd7Y7WPHHZvXu38ubuhSbfkO46mEym9u3bA9i2bZtSqfN0sPn47Tdq0YK8velEtutPtXQcLPWlVs3u6EMPPQTgiSeecP96nn32WQAxMTHqPRpq90ibm8Rnrrwf8479oYddPrKOg0V1NYdycnKUu7v8qmxsc5fa89bZcmt2XH2/NZW+g0V1dUfnzp0LYODAge68u8uIESMATJtWvXetdo+0mVLvEGmxuHBU3Qerdne0pKREOdf5+OOP3bOGXbt2AQgMDFTP7Wr3SJsvl97TVqX7YBHRjBkzHLYMrF+/HkCnTp3UV2d8rFZrr169ACxfvlwtjh07FsDEiRO5Z3eNHTtcdRdulScEq3Z31GazRUVFAVi4cCH37G+88QaA7t27q/0zpUdac+uYDrjocwNUnhAsqmtbptoB//PPP/nmLSwsDA4OBrBjxw6lUudmVx1w0SedqDwkWHV2R8eNGwdg/PjxfPNOnz7d4T3K2j1S3VA+mykmxqnPfv47HhIsqtEdVS99Uc+gU1JSOGZUXzdkXP1Atto9Uj0xmeimmwigq1dDNYXnBIuIHn74YQCPP/64WlmwYAGAvn37crzmHzx4MIC4Gh/IFhcX59Aj1Zl16ygmxiX3oPGoYJ04ccKhS3nlypWoqKj33nvP5cGy2+0ffvhh3759L139wMicnBwfHx+j0ZjmotMUDdhs1c+DOTmUlkbX+/rDo4JFGnVHFbV7pHq1fXvVx835+RFAERHkfDfO04Ll/u6oonaPVK927SKjkebPp7w8IqLTp2nCBPL1JeUCkN27afbsqq96eVqwqEZ3tIhpq1EtZrM5PDzcoUeqV1FRdPfd11QsFgoLozFjiIguXqTDh6u+6tXAbYz0yG63R0REZGZmDhgwYMWKFZ07d2ad7ty5cwkJCcnJyZ06dVJO8lin41VYiJAQrF+Pxx+/pp6UhFWrUFwMg6GRIzVwtxk9MhqNM2bMeOqppw4ePBgdHe22eadOnarvVAE4dw5E+Mc/HOthYSgpQXExWrdu5EgeGCwAs2fPzs7Ofvfdd202m3KnGj4FBQUAJk2a9NJLL7FO5A5GIwBUVjrWrVYA8HIiLZ4ZLACrVq1SPuNUOOHmm2E04tQpx/qff6JtWzhzKzIPPMcSTTJkCEwmpKdXn05ZLAgPxz33YOPGxg/TwF2Txf87S5fi2DE88QRycmC14uhRxMbi0iW8+KJTw0iwxLUGDMDu3Th0CD16wMcHt9+OkhKkpiIszKlh5KlQ/I38fBQVISSk8a8Ea5JgCRbyVChYSLAECwmWYCHBEiwkWIKFBEuwkGAJFhIswUKCJVhIsAQLCZZgIcESLCRYgoUES7CQYAkWEizBQoIlWEiwBAsJlmAhwRIsJFiChQRLsJBgCRYSLMFCgiVYSLAECwmWYCHBEiwkWIKFBEuwkGAJFhIswUKCJVhIsAQLCZZgIcESLCRYgoUES7CQYAkWEizBQoIlWEiwBAsJlmAhwRIsJFiChQRLsJBgCRYSLMFCgiVYSLAECwmWYCHBEiwkWIKFBEuwkGAJFhIswUKCJVhIsAQLCZZgIcESLCRYgoUES7D4P6Ccr6iIZfb8AAAAAElFTkSuQmCC\"/></td>\n",
              "    </tr>\n",
              "  </tbody>\n",
              "</table>"
            ],
            "text/plain": [
              "<IPython.core.display.HTML object>"
            ]
          },
          "execution_count": 8,
          "metadata": {},
          "output_type": "execute_result"
        }
      ],
      "source": [
        "visualised_head(train)"
      ]
    },
    {
      "cell_type": "markdown",
      "metadata": {
        "id": "CDjd1pv-r8VJ"
      },
      "source": [
        "## Вычисление молекулярной массы\n",
        "\n",
        "Добавляем признак `MW` (Molecular Weight) для каждой молекулы."
      ]
    },
    {
      "cell_type": "code",
      "execution_count": 9,
      "metadata": {
        "id": "bZj22bhzmwFT"
      },
      "outputs": [],
      "source": [
        "train['MW'] = train.apply(lambda x: Descriptors.MolWt(x['ROMol']), axis=1)\n",
        "test['MW'] = test.apply(lambda x: Descriptors.MolWt(x['ROMol']), axis=1)"
      ]
    },
    {
      "cell_type": "markdown",
      "metadata": {
        "id": "OIEAP4kjvzMU"
      },
      "source": [
        "Повторный вывод первой строки с уже добавленным значением молекулярной массы."
      ]
    },
    {
      "cell_type": "code",
      "execution_count": 10,
      "metadata": {
        "colab": {
          "base_uri": "https://localhost:8080/",
          "height": 129
        },
        "id": "_lwrUyFgnonw",
        "outputId": "fecfb88d-f750-444d-910f-6552afe5e79e"
      },
      "outputs": [
        {
          "data": {
            "text/html": [
              "<div>\n",
              "<style scoped>\n",
              "    .dataframe tbody tr th:only-of-type {\n",
              "        vertical-align: middle;\n",
              "    }\n",
              "\n",
              "    .dataframe tbody tr th {\n",
              "        vertical-align: top;\n",
              "    }\n",
              "\n",
              "    .dataframe thead th {\n",
              "        text-align: right;\n",
              "    }\n",
              "</style>\n",
              "<table border=\"1\" class=\"dataframe\">\n",
              "  <thead>\n",
              "    <tr style=\"text-align: right;\">\n",
              "      <th></th>\n",
              "      <th>EPA_category</th>\n",
              "      <th>GHS_category</th>\n",
              "      <th>LD50_mgkg</th>\n",
              "      <th>nontoxic</th>\n",
              "      <th>very_toxic</th>\n",
              "      <th>SMILES</th>\n",
              "      <th>ROMol</th>\n",
              "      <th>MW</th>\n",
              "    </tr>\n",
              "    <tr>\n",
              "      <th>CASRN</th>\n",
              "      <th></th>\n",
              "      <th></th>\n",
              "      <th></th>\n",
              "      <th></th>\n",
              "      <th></th>\n",
              "      <th></th>\n",
              "      <th></th>\n",
              "      <th></th>\n",
              "    </tr>\n",
              "  </thead>\n",
              "  <tbody>\n",
              "    <tr>\n",
              "      <th>100-00-5</th>\n",
              "      <td>2.0</td>\n",
              "      <td>4.0</td>\n",
              "      <td>460.0</td>\n",
              "      <td>False</td>\n",
              "      <td>False</td>\n",
              "      <td>[O-][N+](=O)C1C=CC(Cl)=CC=1</td>\n",
              "      <td>&lt;rdkit.Chem.rdchem.Mol object at 0x0000022A73A...</td>\n",
              "      <td>157.556</td>\n",
              "    </tr>\n",
              "  </tbody>\n",
              "</table>\n",
              "</div>"
            ],
            "text/plain": [
              "          EPA_category  GHS_category  LD50_mgkg nontoxic very_toxic  \\\n",
              "CASRN                                                                 \n",
              "100-00-5           2.0           4.0      460.0    False      False   \n",
              "\n",
              "                               SMILES  \\\n",
              "CASRN                                   \n",
              "100-00-5  [O-][N+](=O)C1C=CC(Cl)=CC=1   \n",
              "\n",
              "                                                      ROMol       MW  \n",
              "CASRN                                                                 \n",
              "100-00-5  <rdkit.Chem.rdchem.Mol object at 0x0000022A73A...  157.556  "
            ]
          },
          "execution_count": 10,
          "metadata": {},
          "output_type": "execute_result"
        }
      ],
      "source": [
        "train.head(1)"
      ]
    },
    {
      "cell_type": "code",
      "execution_count": 11,
      "metadata": {},
      "outputs": [
        {
          "data": {
            "text/html": [
              "<table border=\"1\" class=\"dataframe\">\n",
              "  <thead>\n",
              "    <tr style=\"text-align: right;\">\n",
              "      <th></th>\n",
              "      <th>EPA_category</th>\n",
              "      <th>GHS_category</th>\n",
              "      <th>LD50_mgkg</th>\n",
              "      <th>nontoxic</th>\n",
              "      <th>very_toxic</th>\n",
              "      <th>SMILES</th>\n",
              "      <th>ROMol</th>\n",
              "      <th>MW</th>\n",
              "    </tr>\n",
              "    <tr>\n",
              "      <th>CASRN</th>\n",
              "      <th></th>\n",
              "      <th></th>\n",
              "      <th></th>\n",
              "      <th></th>\n",
              "      <th></th>\n",
              "      <th></th>\n",
              "      <th></th>\n",
              "      <th></th>\n",
              "    </tr>\n",
              "  </thead>\n",
              "  <tbody>\n",
              "    <tr>\n",
              "      <th>100-00-5</th>\n",
              "      <td>2.0</td>\n",
              "      <td>4.0</td>\n",
              "      <td>460.0</td>\n",
              "      <td>False</td>\n",
              "      <td>False</td>\n",
              "      <td>[O-][N+](=O)C1C=CC(Cl)=CC=1</td>\n",
              "      <td><img src=\"data:image/png;base64,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\"/></td>\n",
              "      <td>157.556</td>\n",
              "    </tr>\n",
              "  </tbody>\n",
              "</table>"
            ],
            "text/plain": [
              "<IPython.core.display.HTML object>"
            ]
          },
          "execution_count": 11,
          "metadata": {},
          "output_type": "execute_result"
        }
      ],
      "source": [
        "visualised_head(train)"
      ]
    },
    {
      "cell_type": "markdown",
      "metadata": {
        "id": "zOBBUo1tsPZX"
      },
      "source": [
        "## Преобразование LD50 в логарифмическую шкалу\n",
        "\n",
        "Для повышения устойчивости модели и устранения перекосов масштаба вычисляется `logLD50` в ммоль/кг."
      ]
    },
    {
      "cell_type": "code",
      "execution_count": 12,
      "metadata": {
        "id": "OqMkJgC6ojH-"
      },
      "outputs": [],
      "source": [
        "def logLD50(df):\n",
        "    logLD50_mmolkg = []\n",
        "    for i in range(df.shape[0]):\n",
        "        if pd.isna(df['LD50_mgkg'][i]):\n",
        "            logLD50_mmolkg.append(df['LD50_mgkg'][i])\n",
        "        else:\n",
        "            logLD50_mmolkg.append(math.log10(float(df['LD50_mgkg'][i])/float(df['MW'][i])))\n",
        "    return logLD50_mmolkg"
      ]
    },
    {
      "cell_type": "markdown",
      "metadata": {
        "id": "97TE6cLss11w"
      },
      "source": [
        "Добавление logLD50 (ммоль/кг) в тренировочный и тестовый наборы данных"
      ]
    },
    {
      "cell_type": "code",
      "execution_count": 13,
      "metadata": {
        "colab": {
          "base_uri": "https://localhost:8080/"
        },
        "id": "b7giZoBAol5D",
        "outputId": "dff853b9-62a9-4911-e4c2-2463a4833fa9"
      },
      "outputs": [
        {
          "name": "stderr",
          "output_type": "stream",
          "text": [
            "C:\\Users\\PC\\AppData\\Local\\Temp\\ipykernel_7612\\743095266.py:4: FutureWarning: Series.__getitem__ treating keys as positions is deprecated. In a future version, integer keys will always be treated as labels (consistent with DataFrame behavior). To access a value by position, use `ser.iloc[pos]`\n",
            "  if pd.isna(df['LD50_mgkg'][i]):\n",
            "C:\\Users\\PC\\AppData\\Local\\Temp\\ipykernel_7612\\743095266.py:7: FutureWarning: Series.__getitem__ treating keys as positions is deprecated. In a future version, integer keys will always be treated as labels (consistent with DataFrame behavior). To access a value by position, use `ser.iloc[pos]`\n",
            "  logLD50_mmolkg.append(math.log10(float(df['LD50_mgkg'][i])/float(df['MW'][i])))\n",
            "C:\\Users\\PC\\AppData\\Local\\Temp\\ipykernel_7612\\743095266.py:5: FutureWarning: Series.__getitem__ treating keys as positions is deprecated. In a future version, integer keys will always be treated as labels (consistent with DataFrame behavior). To access a value by position, use `ser.iloc[pos]`\n",
            "  logLD50_mmolkg.append(df['LD50_mgkg'][i])\n",
            "C:\\Users\\PC\\AppData\\Local\\Temp\\ipykernel_7612\\743095266.py:4: FutureWarning: Series.__getitem__ treating keys as positions is deprecated. In a future version, integer keys will always be treated as labels (consistent with DataFrame behavior). To access a value by position, use `ser.iloc[pos]`\n",
            "  if pd.isna(df['LD50_mgkg'][i]):\n",
            "C:\\Users\\PC\\AppData\\Local\\Temp\\ipykernel_7612\\743095266.py:5: FutureWarning: Series.__getitem__ treating keys as positions is deprecated. In a future version, integer keys will always be treated as labels (consistent with DataFrame behavior). To access a value by position, use `ser.iloc[pos]`\n",
            "  logLD50_mmolkg.append(df['LD50_mgkg'][i])\n",
            "C:\\Users\\PC\\AppData\\Local\\Temp\\ipykernel_7612\\743095266.py:7: FutureWarning: Series.__getitem__ treating keys as positions is deprecated. In a future version, integer keys will always be treated as labels (consistent with DataFrame behavior). To access a value by position, use `ser.iloc[pos]`\n",
            "  logLD50_mmolkg.append(math.log10(float(df['LD50_mgkg'][i])/float(df['MW'][i])))\n"
          ]
        }
      ],
      "source": [
        "train['logLD50_mmolkg'] = logLD50(train)\n",
        "test['logLD50_mmolkg'] = logLD50(test)"
      ]
    },
    {
      "cell_type": "markdown",
      "metadata": {
        "id": "-ChsZOwkv-3Z"
      },
      "source": [
        "Проверка корректности добавления признака logLD50_mmolkg"
      ]
    },
    {
      "cell_type": "code",
      "execution_count": 14,
      "metadata": {
        "colab": {
          "base_uri": "https://localhost:8080/",
          "height": 167
        },
        "id": "F_9F0x-Uoooj",
        "outputId": "647f6835-743a-4f51-d935-535243a4dfb5"
      },
      "outputs": [
        {
          "data": {
            "text/html": [
              "<div>\n",
              "<style scoped>\n",
              "    .dataframe tbody tr th:only-of-type {\n",
              "        vertical-align: middle;\n",
              "    }\n",
              "\n",
              "    .dataframe tbody tr th {\n",
              "        vertical-align: top;\n",
              "    }\n",
              "\n",
              "    .dataframe thead th {\n",
              "        text-align: right;\n",
              "    }\n",
              "</style>\n",
              "<table border=\"1\" class=\"dataframe\">\n",
              "  <thead>\n",
              "    <tr style=\"text-align: right;\">\n",
              "      <th></th>\n",
              "      <th>EPA_category</th>\n",
              "      <th>GHS_category</th>\n",
              "      <th>LD50_mgkg</th>\n",
              "      <th>nontoxic</th>\n",
              "      <th>very_toxic</th>\n",
              "      <th>SMILES</th>\n",
              "      <th>ROMol</th>\n",
              "      <th>MW</th>\n",
              "      <th>logLD50_mmolkg</th>\n",
              "    </tr>\n",
              "    <tr>\n",
              "      <th>CASRN</th>\n",
              "      <th></th>\n",
              "      <th></th>\n",
              "      <th></th>\n",
              "      <th></th>\n",
              "      <th></th>\n",
              "      <th></th>\n",
              "      <th></th>\n",
              "      <th></th>\n",
              "      <th></th>\n",
              "    </tr>\n",
              "  </thead>\n",
              "  <tbody>\n",
              "    <tr>\n",
              "      <th>100-00-5</th>\n",
              "      <td>2.0</td>\n",
              "      <td>4.0</td>\n",
              "      <td>460.0</td>\n",
              "      <td>False</td>\n",
              "      <td>False</td>\n",
              "      <td>[O-][N+](=O)C1C=CC(Cl)=CC=1</td>\n",
              "      <td>&lt;rdkit.Chem.rdchem.Mol object at 0x0000022A73A...</td>\n",
              "      <td>157.556</td>\n",
              "      <td>0.465323</td>\n",
              "    </tr>\n",
              "  </tbody>\n",
              "</table>\n",
              "</div>"
            ],
            "text/plain": [
              "          EPA_category  GHS_category  LD50_mgkg nontoxic very_toxic  \\\n",
              "CASRN                                                                 \n",
              "100-00-5           2.0           4.0      460.0    False      False   \n",
              "\n",
              "                               SMILES  \\\n",
              "CASRN                                   \n",
              "100-00-5  [O-][N+](=O)C1C=CC(Cl)=CC=1   \n",
              "\n",
              "                                                      ROMol       MW  \\\n",
              "CASRN                                                                  \n",
              "100-00-5  <rdkit.Chem.rdchem.Mol object at 0x0000022A73A...  157.556   \n",
              "\n",
              "          logLD50_mmolkg  \n",
              "CASRN                     \n",
              "100-00-5        0.465323  "
            ]
          },
          "execution_count": 14,
          "metadata": {},
          "output_type": "execute_result"
        }
      ],
      "source": [
        "train.head(1)"
      ]
    },
    {
      "cell_type": "code",
      "execution_count": 15,
      "metadata": {},
      "outputs": [
        {
          "data": {
            "text/html": [
              "<table border=\"1\" class=\"dataframe\">\n",
              "  <thead>\n",
              "    <tr style=\"text-align: right;\">\n",
              "      <th></th>\n",
              "      <th>EPA_category</th>\n",
              "      <th>GHS_category</th>\n",
              "      <th>LD50_mgkg</th>\n",
              "      <th>nontoxic</th>\n",
              "      <th>very_toxic</th>\n",
              "      <th>SMILES</th>\n",
              "      <th>ROMol</th>\n",
              "      <th>MW</th>\n",
              "      <th>logLD50_mmolkg</th>\n",
              "    </tr>\n",
              "    <tr>\n",
              "      <th>CASRN</th>\n",
              "      <th></th>\n",
              "      <th></th>\n",
              "      <th></th>\n",
              "      <th></th>\n",
              "      <th></th>\n",
              "      <th></th>\n",
              "      <th></th>\n",
              "      <th></th>\n",
              "      <th></th>\n",
              "    </tr>\n",
              "  </thead>\n",
              "  <tbody>\n",
              "    <tr>\n",
              "      <th>100-00-5</th>\n",
              "      <td>2.0</td>\n",
              "      <td>4.0</td>\n",
              "      <td>460.0</td>\n",
              "      <td>False</td>\n",
              "      <td>False</td>\n",
              "      <td>[O-][N+](=O)C1C=CC(Cl)=CC=1</td>\n",
              "      <td><img src=\"data:image/png;base64,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\"/></td>\n",
              "      <td>157.556</td>\n",
              "      <td>0.465323</td>\n",
              "    </tr>\n",
              "  </tbody>\n",
              "</table>"
            ],
            "text/plain": [
              "<IPython.core.display.HTML object>"
            ]
          },
          "execution_count": 15,
          "metadata": {},
          "output_type": "execute_result"
        }
      ],
      "source": [
        "visualised_head(train)"
      ]
    },
    {
      "cell_type": "markdown",
      "metadata": {
        "id": "ogFys16MwK0y"
      },
      "source": [
        "## Преобразование исходных булевых значений nontoxic и very_toxic в бинарные метки:\n",
        "\n",
        "* toxic = 1, если nontoxic = False;\n",
        "\n",
        "* verytoxic = 1, если very_toxic = True."
      ]
    },
    {
      "cell_type": "code",
      "execution_count": 16,
      "metadata": {
        "id": "HaUqwBcGoqXz"
      },
      "outputs": [],
      "source": [
        "def binary_toxic(df):\n",
        "    toxic = []\n",
        "    for i in range(df.shape[0]):\n",
        "        if pd.isna(df['nontoxic'][i]):\n",
        "            toxic.append(df['nontoxic'][i])\n",
        "        else:\n",
        "            toxic.append(1 if df['nontoxic'][i] is False else 0)\n",
        "    return toxic"
      ]
    },
    {
      "cell_type": "code",
      "execution_count": 17,
      "metadata": {
        "id": "LZbk5g_Foq6J"
      },
      "outputs": [],
      "source": [
        "def binary_verytoxic(df):\n",
        "    verytoxic = []\n",
        "    for i in range(df.shape[0]):\n",
        "        if pd.isna(df['very_toxic'][i]):\n",
        "            verytoxic.append(df['very_toxic'][i])\n",
        "        else:\n",
        "            verytoxic.append(0 if df['very_toxic'][i] is False else 1)\n",
        "    return verytoxic"
      ]
    },
    {
      "cell_type": "markdown",
      "metadata": {
        "id": "H619QigCwT1Q"
      },
      "source": [
        "Создаются новые колонки toxic и verytoxic в обучающем и тестовом наборах."
      ]
    },
    {
      "cell_type": "code",
      "execution_count": 18,
      "metadata": {
        "colab": {
          "base_uri": "https://localhost:8080/"
        },
        "id": "wzRHk9WPosWz",
        "outputId": "ec106510-6dbf-4d67-cc13-218571082cfe"
      },
      "outputs": [
        {
          "name": "stderr",
          "output_type": "stream",
          "text": [
            "C:\\Users\\PC\\AppData\\Local\\Temp\\ipykernel_7612\\2215102921.py:4: FutureWarning: Series.__getitem__ treating keys as positions is deprecated. In a future version, integer keys will always be treated as labels (consistent with DataFrame behavior). To access a value by position, use `ser.iloc[pos]`\n",
            "  if pd.isna(df['nontoxic'][i]):\n",
            "C:\\Users\\PC\\AppData\\Local\\Temp\\ipykernel_7612\\2215102921.py:7: FutureWarning: Series.__getitem__ treating keys as positions is deprecated. In a future version, integer keys will always be treated as labels (consistent with DataFrame behavior). To access a value by position, use `ser.iloc[pos]`\n",
            "  toxic.append(1 if df['nontoxic'][i] is False else 0)\n",
            "C:\\Users\\PC\\AppData\\Local\\Temp\\ipykernel_7612\\2215102921.py:5: FutureWarning: Series.__getitem__ treating keys as positions is deprecated. In a future version, integer keys will always be treated as labels (consistent with DataFrame behavior). To access a value by position, use `ser.iloc[pos]`\n",
            "  toxic.append(df['nontoxic'][i])\n",
            "C:\\Users\\PC\\AppData\\Local\\Temp\\ipykernel_7612\\2215102921.py:4: FutureWarning: Series.__getitem__ treating keys as positions is deprecated. In a future version, integer keys will always be treated as labels (consistent with DataFrame behavior). To access a value by position, use `ser.iloc[pos]`\n",
            "  if pd.isna(df['nontoxic'][i]):\n",
            "C:\\Users\\PC\\AppData\\Local\\Temp\\ipykernel_7612\\2215102921.py:7: FutureWarning: Series.__getitem__ treating keys as positions is deprecated. In a future version, integer keys will always be treated as labels (consistent with DataFrame behavior). To access a value by position, use `ser.iloc[pos]`\n",
            "  toxic.append(1 if df['nontoxic'][i] is False else 0)\n",
            "C:\\Users\\PC\\AppData\\Local\\Temp\\ipykernel_7612\\2215102921.py:5: FutureWarning: Series.__getitem__ treating keys as positions is deprecated. In a future version, integer keys will always be treated as labels (consistent with DataFrame behavior). To access a value by position, use `ser.iloc[pos]`\n",
            "  toxic.append(df['nontoxic'][i])\n"
          ]
        }
      ],
      "source": [
        "train['toxic'] = binary_toxic(train)\n",
        "test['toxic'] = binary_toxic(test)"
      ]
    },
    {
      "cell_type": "markdown",
      "metadata": {
        "id": "UY_QNFHMwYx7"
      },
      "source": [
        "Проверка структуры набора после добавления новых бинарных меток"
      ]
    },
    {
      "cell_type": "code",
      "execution_count": 19,
      "metadata": {
        "colab": {
          "base_uri": "https://localhost:8080/",
          "height": 167
        },
        "id": "g_ZMGC2Aovbv",
        "outputId": "b87ec662-f494-4bf1-8069-d05e25f049dc"
      },
      "outputs": [
        {
          "data": {
            "text/html": [
              "<div>\n",
              "<style scoped>\n",
              "    .dataframe tbody tr th:only-of-type {\n",
              "        vertical-align: middle;\n",
              "    }\n",
              "\n",
              "    .dataframe tbody tr th {\n",
              "        vertical-align: top;\n",
              "    }\n",
              "\n",
              "    .dataframe thead th {\n",
              "        text-align: right;\n",
              "    }\n",
              "</style>\n",
              "<table border=\"1\" class=\"dataframe\">\n",
              "  <thead>\n",
              "    <tr style=\"text-align: right;\">\n",
              "      <th></th>\n",
              "      <th>EPA_category</th>\n",
              "      <th>GHS_category</th>\n",
              "      <th>LD50_mgkg</th>\n",
              "      <th>nontoxic</th>\n",
              "      <th>very_toxic</th>\n",
              "      <th>SMILES</th>\n",
              "      <th>ROMol</th>\n",
              "      <th>MW</th>\n",
              "      <th>logLD50_mmolkg</th>\n",
              "      <th>toxic</th>\n",
              "    </tr>\n",
              "    <tr>\n",
              "      <th>CASRN</th>\n",
              "      <th></th>\n",
              "      <th></th>\n",
              "      <th></th>\n",
              "      <th></th>\n",
              "      <th></th>\n",
              "      <th></th>\n",
              "      <th></th>\n",
              "      <th></th>\n",
              "      <th></th>\n",
              "      <th></th>\n",
              "    </tr>\n",
              "  </thead>\n",
              "  <tbody>\n",
              "    <tr>\n",
              "      <th>100-00-5</th>\n",
              "      <td>2.0</td>\n",
              "      <td>4.0</td>\n",
              "      <td>460.0</td>\n",
              "      <td>False</td>\n",
              "      <td>False</td>\n",
              "      <td>[O-][N+](=O)C1C=CC(Cl)=CC=1</td>\n",
              "      <td>&lt;rdkit.Chem.rdchem.Mol object at 0x0000022A73A...</td>\n",
              "      <td>157.556</td>\n",
              "      <td>0.465323</td>\n",
              "      <td>1.0</td>\n",
              "    </tr>\n",
              "  </tbody>\n",
              "</table>\n",
              "</div>"
            ],
            "text/plain": [
              "          EPA_category  GHS_category  LD50_mgkg nontoxic very_toxic  \\\n",
              "CASRN                                                                 \n",
              "100-00-5           2.0           4.0      460.0    False      False   \n",
              "\n",
              "                               SMILES  \\\n",
              "CASRN                                   \n",
              "100-00-5  [O-][N+](=O)C1C=CC(Cl)=CC=1   \n",
              "\n",
              "                                                      ROMol       MW  \\\n",
              "CASRN                                                                  \n",
              "100-00-5  <rdkit.Chem.rdchem.Mol object at 0x0000022A73A...  157.556   \n",
              "\n",
              "          logLD50_mmolkg  toxic  \n",
              "CASRN                            \n",
              "100-00-5        0.465323    1.0  "
            ]
          },
          "execution_count": 19,
          "metadata": {},
          "output_type": "execute_result"
        }
      ],
      "source": [
        "train.head(1)"
      ]
    },
    {
      "cell_type": "code",
      "execution_count": 20,
      "metadata": {},
      "outputs": [
        {
          "data": {
            "text/html": [
              "<table border=\"1\" class=\"dataframe\">\n",
              "  <thead>\n",
              "    <tr style=\"text-align: right;\">\n",
              "      <th></th>\n",
              "      <th>EPA_category</th>\n",
              "      <th>GHS_category</th>\n",
              "      <th>LD50_mgkg</th>\n",
              "      <th>nontoxic</th>\n",
              "      <th>very_toxic</th>\n",
              "      <th>SMILES</th>\n",
              "      <th>ROMol</th>\n",
              "      <th>MW</th>\n",
              "      <th>logLD50_mmolkg</th>\n",
              "      <th>toxic</th>\n",
              "    </tr>\n",
              "    <tr>\n",
              "      <th>CASRN</th>\n",
              "      <th></th>\n",
              "      <th></th>\n",
              "      <th></th>\n",
              "      <th></th>\n",
              "      <th></th>\n",
              "      <th></th>\n",
              "      <th></th>\n",
              "      <th></th>\n",
              "      <th></th>\n",
              "      <th></th>\n",
              "    </tr>\n",
              "  </thead>\n",
              "  <tbody>\n",
              "    <tr>\n",
              "      <th>100-00-5</th>\n",
              "      <td>2.0</td>\n",
              "      <td>4.0</td>\n",
              "      <td>460.0</td>\n",
              "      <td>False</td>\n",
              "      <td>False</td>\n",
              "      <td>[O-][N+](=O)C1C=CC(Cl)=CC=1</td>\n",
              "      <td><img src=\"data:image/png;base64,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\"/></td>\n",
              "      <td>157.556</td>\n",
              "      <td>0.465323</td>\n",
              "      <td>1.0</td>\n",
              "    </tr>\n",
              "  </tbody>\n",
              "</table>"
            ],
            "text/plain": [
              "<IPython.core.display.HTML object>"
            ]
          },
          "execution_count": 20,
          "metadata": {},
          "output_type": "execute_result"
        }
      ],
      "source": [
        "visualised_head(train)"
      ]
    },
    {
      "cell_type": "markdown",
      "metadata": {
        "id": "V2BZWdSkwc2V"
      },
      "source": [
        "## Очистка набора данных\n",
        "\n",
        "Удаляются промежуточные столбцы, которые больше не нужны для анализа."
      ]
    },
    {
      "cell_type": "code",
      "execution_count": 21,
      "metadata": {
        "id": "EnqJeOrcowps"
      },
      "outputs": [],
      "source": [
        "train = train.drop(['nontoxic', 'very_toxic', 'ROMol', 'MW', 'LD50_mgkg'], axis=1)\n",
        "test = test.drop(['nontoxic', 'very_toxic', 'ROMol', 'MW', 'LD50_mgkg'], axis=1)"
      ]
    },
    {
      "cell_type": "markdown",
      "metadata": {
        "id": "C47GkvH2wjrP"
      },
      "source": [
        "Проверка структуры набора после удаления промежуточных признаков"
      ]
    },
    {
      "cell_type": "code",
      "execution_count": 22,
      "metadata": {
        "colab": {
          "base_uri": "https://localhost:8080/",
          "height": 112
        },
        "id": "UAfheaTToytR",
        "outputId": "15588c09-5f37-4004-dddc-5de06633ed36"
      },
      "outputs": [
        {
          "data": {
            "text/html": [
              "<div>\n",
              "<style scoped>\n",
              "    .dataframe tbody tr th:only-of-type {\n",
              "        vertical-align: middle;\n",
              "    }\n",
              "\n",
              "    .dataframe tbody tr th {\n",
              "        vertical-align: top;\n",
              "    }\n",
              "\n",
              "    .dataframe thead th {\n",
              "        text-align: right;\n",
              "    }\n",
              "</style>\n",
              "<table border=\"1\" class=\"dataframe\">\n",
              "  <thead>\n",
              "    <tr style=\"text-align: right;\">\n",
              "      <th></th>\n",
              "      <th>EPA_category</th>\n",
              "      <th>GHS_category</th>\n",
              "      <th>SMILES</th>\n",
              "      <th>logLD50_mmolkg</th>\n",
              "      <th>toxic</th>\n",
              "    </tr>\n",
              "    <tr>\n",
              "      <th>CASRN</th>\n",
              "      <th></th>\n",
              "      <th></th>\n",
              "      <th></th>\n",
              "      <th></th>\n",
              "      <th></th>\n",
              "    </tr>\n",
              "  </thead>\n",
              "  <tbody>\n",
              "    <tr>\n",
              "      <th>100-00-5</th>\n",
              "      <td>2.0</td>\n",
              "      <td>4.0</td>\n",
              "      <td>[O-][N+](=O)C1C=CC(Cl)=CC=1</td>\n",
              "      <td>0.465323</td>\n",
              "      <td>1.0</td>\n",
              "    </tr>\n",
              "  </tbody>\n",
              "</table>\n",
              "</div>"
            ],
            "text/plain": [
              "          EPA_category  GHS_category                       SMILES  \\\n",
              "CASRN                                                               \n",
              "100-00-5           2.0           4.0  [O-][N+](=O)C1C=CC(Cl)=CC=1   \n",
              "\n",
              "          logLD50_mmolkg  toxic  \n",
              "CASRN                            \n",
              "100-00-5        0.465323    1.0  "
            ]
          },
          "execution_count": 22,
          "metadata": {},
          "output_type": "execute_result"
        }
      ],
      "source": [
        "train.head(1)"
      ]
    },
    {
      "cell_type": "markdown",
      "metadata": {
        "id": "A3pwXlW7wve4"
      },
      "source": [
        "## Финальное упорядочивание столбцов\n",
        "Устанавливается логичный порядок колонок, начиная с молекулы и целевых переменных, заканчивая категориальными метками"
      ]
    },
    {
      "cell_type": "code",
      "execution_count": 23,
      "metadata": {
        "id": "R3WDBEago1_z"
      },
      "outputs": [],
      "source": [
        "columnsTitles = ['SMILES', 'logLD50_mmolkg', 'verytoxic', 'toxic', 'EPA_category', 'GHS_category']"
      ]
    },
    {
      "cell_type": "code",
      "execution_count": 24,
      "metadata": {
        "id": "OLo8GmN6o3b4"
      },
      "outputs": [],
      "source": [
        "train = train.reindex(columns=columnsTitles)\n",
        "test = test.reindex(columns=columnsTitles)"
      ]
    },
    {
      "cell_type": "markdown",
      "metadata": {
        "id": "ovo7XMdzw9LC"
      },
      "source": [
        "Проверка итоговой структуры обучающего и тестового наборов"
      ]
    },
    {
      "cell_type": "code",
      "execution_count": 25,
      "metadata": {
        "colab": {
          "base_uri": "https://localhost:8080/",
          "height": 112
        },
        "id": "fAvchw5oo3_i",
        "outputId": "f71be1a2-c5f5-4fac-e779-55901d97766b"
      },
      "outputs": [
        {
          "data": {
            "text/html": [
              "<div>\n",
              "<style scoped>\n",
              "    .dataframe tbody tr th:only-of-type {\n",
              "        vertical-align: middle;\n",
              "    }\n",
              "\n",
              "    .dataframe tbody tr th {\n",
              "        vertical-align: top;\n",
              "    }\n",
              "\n",
              "    .dataframe thead th {\n",
              "        text-align: right;\n",
              "    }\n",
              "</style>\n",
              "<table border=\"1\" class=\"dataframe\">\n",
              "  <thead>\n",
              "    <tr style=\"text-align: right;\">\n",
              "      <th></th>\n",
              "      <th>SMILES</th>\n",
              "      <th>logLD50_mmolkg</th>\n",
              "      <th>verytoxic</th>\n",
              "      <th>toxic</th>\n",
              "      <th>EPA_category</th>\n",
              "      <th>GHS_category</th>\n",
              "    </tr>\n",
              "    <tr>\n",
              "      <th>CASRN</th>\n",
              "      <th></th>\n",
              "      <th></th>\n",
              "      <th></th>\n",
              "      <th></th>\n",
              "      <th></th>\n",
              "      <th></th>\n",
              "    </tr>\n",
              "  </thead>\n",
              "  <tbody>\n",
              "    <tr>\n",
              "      <th>100-00-5</th>\n",
              "      <td>[O-][N+](=O)C1C=CC(Cl)=CC=1</td>\n",
              "      <td>0.465323</td>\n",
              "      <td>NaN</td>\n",
              "      <td>1.0</td>\n",
              "      <td>2.0</td>\n",
              "      <td>4.0</td>\n",
              "    </tr>\n",
              "  </tbody>\n",
              "</table>\n",
              "</div>"
            ],
            "text/plain": [
              "                               SMILES  logLD50_mmolkg  verytoxic  toxic  \\\n",
              "CASRN                                                                     \n",
              "100-00-5  [O-][N+](=O)C1C=CC(Cl)=CC=1        0.465323        NaN    1.0   \n",
              "\n",
              "          EPA_category  GHS_category  \n",
              "CASRN                                 \n",
              "100-00-5           2.0           4.0  "
            ]
          },
          "execution_count": 25,
          "metadata": {},
          "output_type": "execute_result"
        }
      ],
      "source": [
        "train.head(1)"
      ]
    },
    {
      "cell_type": "code",
      "execution_count": 26,
      "metadata": {
        "colab": {
          "base_uri": "https://localhost:8080/",
          "height": 112
        },
        "id": "Dg0m_n1hpx8X",
        "outputId": "733597a8-4028-430e-82f3-0b7835a52081"
      },
      "outputs": [
        {
          "data": {
            "text/html": [
              "<div>\n",
              "<style scoped>\n",
              "    .dataframe tbody tr th:only-of-type {\n",
              "        vertical-align: middle;\n",
              "    }\n",
              "\n",
              "    .dataframe tbody tr th {\n",
              "        vertical-align: top;\n",
              "    }\n",
              "\n",
              "    .dataframe thead th {\n",
              "        text-align: right;\n",
              "    }\n",
              "</style>\n",
              "<table border=\"1\" class=\"dataframe\">\n",
              "  <thead>\n",
              "    <tr style=\"text-align: right;\">\n",
              "      <th></th>\n",
              "      <th>SMILES</th>\n",
              "      <th>logLD50_mmolkg</th>\n",
              "      <th>verytoxic</th>\n",
              "      <th>toxic</th>\n",
              "      <th>EPA_category</th>\n",
              "      <th>GHS_category</th>\n",
              "    </tr>\n",
              "    <tr>\n",
              "      <th>CASRN</th>\n",
              "      <th></th>\n",
              "      <th></th>\n",
              "      <th></th>\n",
              "      <th></th>\n",
              "      <th></th>\n",
              "      <th></th>\n",
              "    </tr>\n",
              "  </thead>\n",
              "  <tbody>\n",
              "    <tr>\n",
              "      <th>130209-82-4</th>\n",
              "      <td>CC(C)OC(=O)CCCC=CCC1C(O)CC(O)C1CCC(O)CCC1=CC=C...</td>\n",
              "      <td>NaN</td>\n",
              "      <td>NaN</td>\n",
              "      <td>1.0</td>\n",
              "      <td>1.0</td>\n",
              "      <td>1.0</td>\n",
              "    </tr>\n",
              "  </tbody>\n",
              "</table>\n",
              "</div>"
            ],
            "text/plain": [
              "                                                        SMILES  \\\n",
              "CASRN                                                            \n",
              "130209-82-4  CC(C)OC(=O)CCCC=CCC1C(O)CC(O)C1CCC(O)CCC1=CC=C...   \n",
              "\n",
              "             logLD50_mmolkg  verytoxic  toxic  EPA_category  GHS_category  \n",
              "CASRN                                                                      \n",
              "130209-82-4             NaN        NaN    1.0           1.0           1.0  "
            ]
          },
          "execution_count": 26,
          "metadata": {},
          "output_type": "execute_result"
        }
      ],
      "source": [
        "test.head(1)"
      ]
    },
    {
      "cell_type": "markdown",
      "metadata": {
        "id": "H1tT2VOoxCg_"
      },
      "source": [
        "## Сохранение предобработанных наборов\n",
        "\n",
        "Сохраняем обработанные данные для последующего использования в обучении моделей."
      ]
    },
    {
      "cell_type": "code",
      "execution_count": 27,
      "metadata": {
        "id": "RpOD7NyCpzZy"
      },
      "outputs": [],
      "source": [
        "train.to_csv('../data/processed/train_labels.csv')\n",
        "test.to_csv('../data/processed/test_labels.csv')"
      ]
    },
    {
      "cell_type": "markdown",
      "metadata": {
        "id": "g9UIHXMkxF7e"
      },
      "source": [
        "## Кодирование категориальных признаков\n",
        "\n",
        "Создается функция для обучения `LabelEncoder` на всех целевых метках."
      ]
    },
    {
      "cell_type": "code",
      "execution_count": 28,
      "metadata": {
        "id": "N5hJUHTmp1_s"
      },
      "outputs": [],
      "source": [
        "def get_labelencoder(df_labels):\n",
        "\n",
        "    encoder_verytoxic = LabelEncoder().fit(df_labels[~df_labels['verytoxic'].isnull()]['verytoxic'].values)\n",
        "    encoder_toxic = LabelEncoder().fit(df_labels[~df_labels['toxic'].isnull()]['toxic'].values)\n",
        "    encoder_epa = LabelEncoder().fit(df_labels[~df_labels['EPA_category'].isnull()]['EPA_category'].values)\n",
        "    encoder_ghs = LabelEncoder().fit(df_labels[~df_labels['GHS_category'].isnull()]['GHS_category'].values)\n",
        "\n",
        "    return encoder_verytoxic, encoder_toxic, encoder_epa, encoder_ghs"
      ]
    },
    {
      "cell_type": "markdown",
      "metadata": {
        "id": "GaxJHiWCxKZm"
      },
      "source": [
        " Применение функции кодирования к обучающему набору. Теперь категории представлены числами (например, GHS: 1–5)"
      ]
    },
    {
      "cell_type": "code",
      "execution_count": 29,
      "metadata": {
        "id": "xPKfuoGhp4Cb"
      },
      "outputs": [],
      "source": [
        "encoder_verytoxic, encoder_toxic, encoder_epa, encoder_ghs = get_labelencoder(train)"
      ]
    },
    {
      "cell_type": "markdown",
      "metadata": {
        "id": "3MCWK-b-xNHG"
      },
      "source": [
        "Печать всех уникальных значений (классов), с которыми работали энкодеры"
      ]
    },
    {
      "cell_type": "code",
      "execution_count": 30,
      "metadata": {
        "colab": {
          "base_uri": "https://localhost:8080/"
        },
        "id": "VyCr4sBrp5vM",
        "outputId": "6c074d1d-0f51-4f36-cc64-319b9fd39c9a"
      },
      "outputs": [
        {
          "name": "stdout",
          "output_type": "stream",
          "text": [
            "Very toxic []\n"
          ]
        }
      ],
      "source": [
        "print('Very toxic', encoder_verytoxic.classes_)"
      ]
    },
    {
      "cell_type": "code",
      "execution_count": 31,
      "metadata": {
        "colab": {
          "base_uri": "https://localhost:8080/"
        },
        "id": "QYJhlLF3p74E",
        "outputId": "d9665268-c7c2-4b71-b5ba-c6bea10565ad"
      },
      "outputs": [
        {
          "name": "stdout",
          "output_type": "stream",
          "text": [
            "Toxic [0. 1.]\n"
          ]
        }
      ],
      "source": [
        "print('Toxic', encoder_toxic.classes_)"
      ]
    },
    {
      "cell_type": "code",
      "execution_count": 32,
      "metadata": {
        "colab": {
          "base_uri": "https://localhost:8080/"
        },
        "id": "CtwU61tQp9EG",
        "outputId": "7d3b42ff-8719-4be8-dfdd-d1768d03963a"
      },
      "outputs": [
        {
          "name": "stdout",
          "output_type": "stream",
          "text": [
            "EPA [1. 2. 3. 4.]\n"
          ]
        }
      ],
      "source": [
        "print('EPA', encoder_epa.classes_)"
      ]
    },
    {
      "cell_type": "code",
      "execution_count": 33,
      "metadata": {
        "colab": {
          "base_uri": "https://localhost:8080/"
        },
        "id": "VWYR7F3Op_EJ",
        "outputId": "86d411a2-f041-44e3-8ba1-1872b8a761dd"
      },
      "outputs": [
        {
          "name": "stdout",
          "output_type": "stream",
          "text": [
            "GHS [1. 2. 3. 4. 5.]\n"
          ]
        }
      ],
      "source": [
        "print('GHS', encoder_ghs.classes_)"
      ]
    },
    {
      "cell_type": "markdown",
      "metadata": {
        "id": "k08E0znExWRD"
      },
      "source": [
        "## Сохранение энкодеров\n",
        "\n",
        "Каждый энкодер сохраняется в отдельный `.joblib`-файл для использования в пайплайне обработки данных.\n",
        "\n"
      ]
    },
    {
      "cell_type": "code",
      "execution_count": 34,
      "metadata": {
        "colab": {
          "base_uri": "https://localhost:8080/"
        },
        "id": "o71VzpLs-GWG",
        "outputId": "878c7efa-4551-49bd-ba68-b2a13b088b21"
      },
      "outputs": [
        {
          "data": {
            "text/plain": [
              "['../encoder_models/encoder_ghs.joblib']"
            ]
          },
          "execution_count": 34,
          "metadata": {},
          "output_type": "execute_result"
        }
      ],
      "source": [
        "joblib.dump(encoder_verytoxic, '../encoder_models/encoder_verytoxic.joblib')\n",
        "joblib.dump(encoder_toxic, '../encoder_models/encoder_toxic.joblib')\n",
        "joblib.dump(encoder_epa, '../encoder_models/encoder_epa.joblib')\n",
        "joblib.dump(encoder_ghs, '../encoder_models/encoder_ghs.joblib')"
      ]
    }
  ],
  "metadata": {
    "colab": {
      "provenance": []
    },
    "kernelspec": {
      "display_name": "base",
      "language": "python",
      "name": "python3"
    },
    "language_info": {
      "codemirror_mode": {
        "name": "ipython",
        "version": 3
      },
      "file_extension": ".py",
      "mimetype": "text/x-python",
      "name": "python",
      "nbconvert_exporter": "python",
      "pygments_lexer": "ipython3",
      "version": "3.12.3"
    }
  },
  "nbformat": 4,
  "nbformat_minor": 0
}
