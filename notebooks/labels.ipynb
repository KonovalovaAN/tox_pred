{
  "cells": [
    {
      "cell_type": "markdown",
      "metadata": {
        "id": "FFv-xEnK78gW"
      },
      "source": [
        "# Анализ целевых показателей и подготовка данных для предсказания токсичности химических соединений"
      ]
    },
    {
      "cell_type": "markdown",
      "metadata": {
        "id": "TQ5ZlwYm8BVe"
      },
      "source": [
        "# Анализ целевых показателей и подготовка данных\n",
        "\n",
        "## Исходные данные и целевые переменные\n",
        "\n",
        "В рамках данного исследования рассматриваются пять целевых переменных, каждая из которых отражает различные аспекты токсичности малых органических молекул. Эти показатели используются для построения моделей машинного обучения, способных предсказывать токсичность веществ на основе их химической структуры.\n",
        "\n",
        "### Перечень целевых переменных:\n",
        "\n",
        "1. **EPA Category**  \n",
        "   Категориальная переменная, определяющая уровень токсичности согласно классификации Агентства по охране окружающей среды США (Environmental Protection Agency).  \n",
        "   - **Диапазон значений:** 1 (высокая токсичность) — 4 (низкая токсичность)  \n",
        "   - **Значимость:** используется для классификации токсичности в экологических стандартах.\n",
        "\n",
        "2. **GHS Category**  \n",
        "   Классификация в соответствии с Глобальной гармонизированной системой (Globally Harmonized System of Classification and Labelling of Chemicals).  \n",
        "   - **Диапазон значений:** от 1 (наиболее токсично) до 5 (наименее токсично)  \n",
        "   - **Значимость:** общепринятая международная система классификации.\n",
        "\n",
        "3. **LD50 (мг/кг)**  \n",
        "   Пороговая доза, вызывающая летальный исход у 50% подопытных животных при однократном введении вещества.  \n",
        "   - **Тип данных:** непрерывный  \n",
        "   - **Единицы измерения:** миллиграммы на килограмм массы тела  \n",
        "   - **Значимость:** количественная оценка токсичности, широко используемая в токсикологических исследованиях.\n",
        "\n",
        "4. **Нетоксичность (LD50 > 2000 мг/кг)**  \n",
        "   Бинарная переменная, отражающая принадлежность вещества к классу с низкой токсичностью.  \n",
        "   - **Значения:** 1 — вещество считается нетоксичным, 0 — иное  \n",
        "   - **Цель:** выделение безопасных соединений.\n",
        "\n",
        "5. **Высокая токсичность (LD50 < 50 мг/кг)**  \n",
        "   Бинарная переменная, выделяющая вещества с крайне высокой токсичностью.  \n",
        "   - **Значения:** 1 — высокотоксичное вещество, 0 — иное  \n",
        "   - **Цель:** акцент на особо опасных соединениях.\n",
        "\n",
        "---\n"
      ]
    },
    {
      "cell_type": "markdown",
      "metadata": {
        "id": "1FmAVS0KhNVa"
      },
      "source": [
        "## Импорт необходимых библиотек\n",
        "\n",
        "Для выполнения анализа и построения моделей машинного обучения используются следующие библиотеки:\n",
        "\n",
        "- `pandas`, `numpy` — работа с данными и числовыми массивами;\n",
        "- `rdkit` — обработка химических структур и вычисление дескрипторов;\n",
        "- `scikit-learn` — предобработка признаков и кодирование категориальных переменных;\n",
        "- `joblib` — сохранение промежуточных объектов.\n"
      ]
    },
    {
      "cell_type": "code",
      "execution_count": 1,
      "metadata": {
        "id": "DgaPWJkO5aqs"
      },
      "outputs": [],
      "source": [
        "import pandas as pd\n",
        "import numpy as np\n",
        "import math\n",
        "import joblib\n",
        "\n",
        "from rdkit import Chem\n",
        "from rdkit.Chem import Draw\n",
        "from rdkit.Chem import PandasTools\n",
        "from rdkit.Chem import Descriptors\n",
        "from sklearn.preprocessing import LabelEncoder\n",
        "from IPython.display import HTML\n",
        "import base64\n",
        "from io import BytesIO"
      ]
    },
    {
      "cell_type": "markdown",
      "metadata": {},
      "source": [
        "Вспомогательные функции для лучшей визуализации метода .head()"
      ]
    },
    {
      "cell_type": "code",
      "execution_count": 2,
      "metadata": {},
      "outputs": [],
      "source": [
        "def mol_to_img_tag(mol, size=(200, 200)):\n",
        "    img = Draw.MolToImage(mol, size=size)\n",
        "    buf = BytesIO()\n",
        "    img.save(buf, format='PNG')\n",
        "    data = base64.b64encode(buf.getvalue()).decode()\n",
        "    return f'<img src=\"data:image/png;base64,{data}\"/>'"
      ]
    },
    {
      "cell_type": "code",
      "execution_count": 3,
      "metadata": {},
      "outputs": [],
      "source": [
        "def visualised_head(df, n=1, mol_col='ROMol'):\n",
        "    df_copy = df.head(n).copy()\n",
        "    df_copy[mol_col] = df_copy[mol_col].apply(mol_to_img_tag)\n",
        "    return HTML(df_copy.to_html(escape=False))"
      ]
    },
    {
      "cell_type": "markdown",
      "metadata": {
        "id": "0VTRRTMghRs_"
      },
      "source": [
        "## Загрузка данных\n",
        "\n",
        "Данные загружаются из CSV-файлов. В качестве индекса используется столбец `CASRN` — уникальный идентификатор химического вещества согласно Chemical Abstracts Service.\n"
      ]
    },
    {
      "cell_type": "code",
      "execution_count": 4,
      "metadata": {
        "id": "stYpd3dzf1BQ"
      },
      "outputs": [],
      "source": [
        "train = pd.read_csv('../data/row/train.csv', index_col = 'CASRN')\n",
        "test = pd.read_csv('../data/row/test.csv', index_col = 'CASRN')"
      ]
    },
    {
      "cell_type": "markdown",
      "metadata": {
        "id": "wlVVUqNLu2W0"
      },
      "source": [
        "## Первичный осмотр структуры данных\n",
        "\n",
        "Выводим первую строку обучающего набора для оценки структуры."
      ]
    },
    {
      "cell_type": "code",
      "execution_count": 5,
      "metadata": {
        "colab": {
          "base_uri": "https://localhost:8080/",
          "height": 112
        },
        "id": "l2gYloROgAPq",
        "outputId": "88f31d2a-3ea8-4c1b-99de-06e8d680c3ef"
      },
      "outputs": [
        {
          "data": {
            "text/html": [
              "<div>\n",
              "<style scoped>\n",
              "    .dataframe tbody tr th:only-of-type {\n",
              "        vertical-align: middle;\n",
              "    }\n",
              "\n",
              "    .dataframe tbody tr th {\n",
              "        vertical-align: top;\n",
              "    }\n",
              "\n",
              "    .dataframe thead th {\n",
              "        text-align: right;\n",
              "    }\n",
              "</style>\n",
              "<table border=\"1\" class=\"dataframe\">\n",
              "  <thead>\n",
              "    <tr style=\"text-align: right;\">\n",
              "      <th></th>\n",
              "      <th>EPA_category</th>\n",
              "      <th>GHS_category</th>\n",
              "      <th>LD50_mgkg</th>\n",
              "      <th>nontoxic</th>\n",
              "      <th>very_toxic</th>\n",
              "      <th>SMILES</th>\n",
              "    </tr>\n",
              "    <tr>\n",
              "      <th>CASRN</th>\n",
              "      <th></th>\n",
              "      <th></th>\n",
              "      <th></th>\n",
              "      <th></th>\n",
              "      <th></th>\n",
              "      <th></th>\n",
              "    </tr>\n",
              "  </thead>\n",
              "  <tbody>\n",
              "    <tr>\n",
              "      <th>23233-88-7</th>\n",
              "      <td>3.0</td>\n",
              "      <td>5.0</td>\n",
              "      <td>3000.0</td>\n",
              "      <td>True</td>\n",
              "      <td>False</td>\n",
              "      <td>CC(=O)Oc1c(Br)cc(Cl)cc1C(=S)Nc1ccc(Br)cc1</td>\n",
              "    </tr>\n",
              "  </tbody>\n",
              "</table>\n",
              "</div>"
            ],
            "text/plain": [
              "            EPA_category  GHS_category  LD50_mgkg nontoxic very_toxic  \\\n",
              "CASRN                                                                   \n",
              "23233-88-7           3.0           5.0     3000.0     True      False   \n",
              "\n",
              "                                               SMILES  \n",
              "CASRN                                                  \n",
              "23233-88-7  CC(=O)Oc1c(Br)cc(Cl)cc1C(=S)Nc1ccc(Br)cc1  "
            ]
          },
          "execution_count": 5,
          "metadata": {},
          "output_type": "execute_result"
        }
      ],
      "source": [
        "train.head(1)"
      ]
    },
    {
      "cell_type": "markdown",
      "metadata": {},
      "source": []
    },
    {
      "cell_type": "markdown",
      "metadata": {
        "id": "jZ-Z9Gbjmh_i"
      },
      "source": [
        "## Добавление химических структур\n",
        "\n",
        "Преобразуем SMILES-строки в объекты молекул RDKit (ROMol), необходимые для вычисления молекулярных дескрипторов."
      ]
    },
    {
      "cell_type": "code",
      "execution_count": 6,
      "metadata": {
        "colab": {
          "base_uri": "https://localhost:8080/"
        },
        "id": "GuI99HLIlpyz",
        "outputId": "e9e7c333-8e8b-4def-d31f-bc54d802ae2e"
      },
      "outputs": [],
      "source": [
        "PandasTools.AddMoleculeColumnToFrame(train,smilesCol='SMILES')\n",
        "PandasTools.AddMoleculeColumnToFrame(test,smilesCol='SMILES')"
      ]
    },
    {
      "cell_type": "code",
      "execution_count": 7,
      "metadata": {},
      "outputs": [
        {
          "data": {
            "text/html": [
              "<div>\n",
              "<style scoped>\n",
              "    .dataframe tbody tr th:only-of-type {\n",
              "        vertical-align: middle;\n",
              "    }\n",
              "\n",
              "    .dataframe tbody tr th {\n",
              "        vertical-align: top;\n",
              "    }\n",
              "\n",
              "    .dataframe thead th {\n",
              "        text-align: right;\n",
              "    }\n",
              "</style>\n",
              "<table border=\"1\" class=\"dataframe\">\n",
              "  <thead>\n",
              "    <tr style=\"text-align: right;\">\n",
              "      <th></th>\n",
              "      <th>EPA_category</th>\n",
              "      <th>GHS_category</th>\n",
              "      <th>LD50_mgkg</th>\n",
              "      <th>nontoxic</th>\n",
              "      <th>very_toxic</th>\n",
              "      <th>SMILES</th>\n",
              "      <th>ROMol</th>\n",
              "    </tr>\n",
              "    <tr>\n",
              "      <th>CASRN</th>\n",
              "      <th></th>\n",
              "      <th></th>\n",
              "      <th></th>\n",
              "      <th></th>\n",
              "      <th></th>\n",
              "      <th></th>\n",
              "      <th></th>\n",
              "    </tr>\n",
              "  </thead>\n",
              "  <tbody>\n",
              "    <tr>\n",
              "      <th>23233-88-7</th>\n",
              "      <td>3.0</td>\n",
              "      <td>5.0</td>\n",
              "      <td>3000.0</td>\n",
              "      <td>True</td>\n",
              "      <td>False</td>\n",
              "      <td>CC(=O)Oc1c(Br)cc(Cl)cc1C(=S)Nc1ccc(Br)cc1</td>\n",
              "      <td>&lt;rdkit.Chem.rdchem.Mol object at 0x0000018E6BD...</td>\n",
              "    </tr>\n",
              "  </tbody>\n",
              "</table>\n",
              "</div>"
            ],
            "text/plain": [
              "            EPA_category  GHS_category  LD50_mgkg nontoxic very_toxic  \\\n",
              "CASRN                                                                   \n",
              "23233-88-7           3.0           5.0     3000.0     True      False   \n",
              "\n",
              "                                               SMILES  \\\n",
              "CASRN                                                   \n",
              "23233-88-7  CC(=O)Oc1c(Br)cc(Cl)cc1C(=S)Nc1ccc(Br)cc1   \n",
              "\n",
              "                                                        ROMol  \n",
              "CASRN                                                          \n",
              "23233-88-7  <rdkit.Chem.rdchem.Mol object at 0x0000018E6BD...  "
            ]
          },
          "execution_count": 7,
          "metadata": {},
          "output_type": "execute_result"
        }
      ],
      "source": [
        "train.head(1)"
      ]
    },
    {
      "cell_type": "code",
      "execution_count": 8,
      "metadata": {},
      "outputs": [
        {
          "data": {
            "text/html": [
              "<table border=\"1\" class=\"dataframe\">\n",
              "  <thead>\n",
              "    <tr style=\"text-align: right;\">\n",
              "      <th></th>\n",
              "      <th>EPA_category</th>\n",
              "      <th>GHS_category</th>\n",
              "      <th>LD50_mgkg</th>\n",
              "      <th>nontoxic</th>\n",
              "      <th>very_toxic</th>\n",
              "      <th>SMILES</th>\n",
              "      <th>ROMol</th>\n",
              "    </tr>\n",
              "    <tr>\n",
              "      <th>CASRN</th>\n",
              "      <th></th>\n",
              "      <th></th>\n",
              "      <th></th>\n",
              "      <th></th>\n",
              "      <th></th>\n",
              "      <th></th>\n",
              "      <th></th>\n",
              "    </tr>\n",
              "  </thead>\n",
              "  <tbody>\n",
              "    <tr>\n",
              "      <th>23233-88-7</th>\n",
              "      <td>3.0</td>\n",
              "      <td>5.0</td>\n",
              "      <td>3000.0</td>\n",
              "      <td>True</td>\n",
              "      <td>False</td>\n",
              "      <td>CC(=O)Oc1c(Br)cc(Cl)cc1C(=S)Nc1ccc(Br)cc1</td>\n",
              "      <td><img src=\"data:image/png;base64,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\"/></td>\n",
              "    </tr>\n",
              "  </tbody>\n",
              "</table>"
            ],
            "text/plain": [
              "<IPython.core.display.HTML object>"
            ]
          },
          "execution_count": 8,
          "metadata": {},
          "output_type": "execute_result"
        }
      ],
      "source": [
        "visualised_head(train)"
      ]
    },
    {
      "cell_type": "markdown",
      "metadata": {
        "id": "CDjd1pv-r8VJ"
      },
      "source": [
        "## Вычисление молекулярной массы\n",
        "\n",
        "Добавляем признак `MW` (Molecular Weight) для каждой молекулы."
      ]
    },
    {
      "cell_type": "code",
      "execution_count": 9,
      "metadata": {
        "id": "bZj22bhzmwFT"
      },
      "outputs": [],
      "source": [
        "train['MW'] = train.apply(lambda x: Descriptors.MolWt(x['ROMol']), axis=1)\n",
        "test['MW'] = test.apply(lambda x: Descriptors.MolWt(x['ROMol']), axis=1)"
      ]
    },
    {
      "cell_type": "markdown",
      "metadata": {
        "id": "OIEAP4kjvzMU"
      },
      "source": [
        "Повторный вывод первой строки с уже добавленным значением молекулярной массы."
      ]
    },
    {
      "cell_type": "code",
      "execution_count": 10,
      "metadata": {
        "colab": {
          "base_uri": "https://localhost:8080/",
          "height": 129
        },
        "id": "_lwrUyFgnonw",
        "outputId": "fecfb88d-f750-444d-910f-6552afe5e79e"
      },
      "outputs": [
        {
          "data": {
            "text/html": [
              "<div>\n",
              "<style scoped>\n",
              "    .dataframe tbody tr th:only-of-type {\n",
              "        vertical-align: middle;\n",
              "    }\n",
              "\n",
              "    .dataframe tbody tr th {\n",
              "        vertical-align: top;\n",
              "    }\n",
              "\n",
              "    .dataframe thead th {\n",
              "        text-align: right;\n",
              "    }\n",
              "</style>\n",
              "<table border=\"1\" class=\"dataframe\">\n",
              "  <thead>\n",
              "    <tr style=\"text-align: right;\">\n",
              "      <th></th>\n",
              "      <th>EPA_category</th>\n",
              "      <th>GHS_category</th>\n",
              "      <th>LD50_mgkg</th>\n",
              "      <th>nontoxic</th>\n",
              "      <th>very_toxic</th>\n",
              "      <th>SMILES</th>\n",
              "      <th>ROMol</th>\n",
              "      <th>MW</th>\n",
              "    </tr>\n",
              "    <tr>\n",
              "      <th>CASRN</th>\n",
              "      <th></th>\n",
              "      <th></th>\n",
              "      <th></th>\n",
              "      <th></th>\n",
              "      <th></th>\n",
              "      <th></th>\n",
              "      <th></th>\n",
              "      <th></th>\n",
              "    </tr>\n",
              "  </thead>\n",
              "  <tbody>\n",
              "    <tr>\n",
              "      <th>23233-88-7</th>\n",
              "      <td>3.0</td>\n",
              "      <td>5.0</td>\n",
              "      <td>3000.0</td>\n",
              "      <td>True</td>\n",
              "      <td>False</td>\n",
              "      <td>CC(=O)Oc1c(Br)cc(Cl)cc1C(=S)Nc1ccc(Br)cc1</td>\n",
              "      <td>&lt;rdkit.Chem.rdchem.Mol object at 0x0000018E6BD...</td>\n",
              "      <td>463.578</td>\n",
              "    </tr>\n",
              "  </tbody>\n",
              "</table>\n",
              "</div>"
            ],
            "text/plain": [
              "            EPA_category  GHS_category  LD50_mgkg nontoxic very_toxic  \\\n",
              "CASRN                                                                   \n",
              "23233-88-7           3.0           5.0     3000.0     True      False   \n",
              "\n",
              "                                               SMILES  \\\n",
              "CASRN                                                   \n",
              "23233-88-7  CC(=O)Oc1c(Br)cc(Cl)cc1C(=S)Nc1ccc(Br)cc1   \n",
              "\n",
              "                                                        ROMol       MW  \n",
              "CASRN                                                                   \n",
              "23233-88-7  <rdkit.Chem.rdchem.Mol object at 0x0000018E6BD...  463.578  "
            ]
          },
          "execution_count": 10,
          "metadata": {},
          "output_type": "execute_result"
        }
      ],
      "source": [
        "train.head(1)"
      ]
    },
    {
      "cell_type": "code",
      "execution_count": 11,
      "metadata": {},
      "outputs": [
        {
          "data": {
            "text/html": [
              "<table border=\"1\" class=\"dataframe\">\n",
              "  <thead>\n",
              "    <tr style=\"text-align: right;\">\n",
              "      <th></th>\n",
              "      <th>EPA_category</th>\n",
              "      <th>GHS_category</th>\n",
              "      <th>LD50_mgkg</th>\n",
              "      <th>nontoxic</th>\n",
              "      <th>very_toxic</th>\n",
              "      <th>SMILES</th>\n",
              "      <th>ROMol</th>\n",
              "      <th>MW</th>\n",
              "    </tr>\n",
              "    <tr>\n",
              "      <th>CASRN</th>\n",
              "      <th></th>\n",
              "      <th></th>\n",
              "      <th></th>\n",
              "      <th></th>\n",
              "      <th></th>\n",
              "      <th></th>\n",
              "      <th></th>\n",
              "      <th></th>\n",
              "    </tr>\n",
              "  </thead>\n",
              "  <tbody>\n",
              "    <tr>\n",
              "      <th>23233-88-7</th>\n",
              "      <td>3.0</td>\n",
              "      <td>5.0</td>\n",
              "      <td>3000.0</td>\n",
              "      <td>True</td>\n",
              "      <td>False</td>\n",
              "      <td>CC(=O)Oc1c(Br)cc(Cl)cc1C(=S)Nc1ccc(Br)cc1</td>\n",
              "      <td><img src=\"data:image/png;base64,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\"/></td>\n",
              "      <td>463.578</td>\n",
              "    </tr>\n",
              "  </tbody>\n",
              "</table>"
            ],
            "text/plain": [
              "<IPython.core.display.HTML object>"
            ]
          },
          "execution_count": 11,
          "metadata": {},
          "output_type": "execute_result"
        }
      ],
      "source": [
        "visualised_head(train)"
      ]
    },
    {
      "cell_type": "markdown",
      "metadata": {
        "id": "zOBBUo1tsPZX"
      },
      "source": [
        "## Преобразование LD50 в логарифмическую шкалу\n",
        "\n",
        "Для повышения устойчивости модели и устранения перекосов масштаба вычисляется `logLD50` в ммоль/кг."
      ]
    },
    {
      "cell_type": "code",
      "execution_count": 12,
      "metadata": {
        "id": "OqMkJgC6ojH-"
      },
      "outputs": [],
      "source": [
        "def logLD50(df):\n",
        "    logLD50_mmolkg = []\n",
        "    for i in range(df.shape[0]):\n",
        "        if pd.isna(df['LD50_mgkg'][i]):\n",
        "            logLD50_mmolkg.append(df['LD50_mgkg'][i])\n",
        "        else:\n",
        "            logLD50_mmolkg.append(math.log10(float(df['LD50_mgkg'][i])/float(df['MW'][i])))\n",
        "    return logLD50_mmolkg"
      ]
    },
    {
      "cell_type": "markdown",
      "metadata": {
        "id": "97TE6cLss11w"
      },
      "source": [
        "Добавление logLD50 (ммоль/кг) в тренировочный и тестовый наборы данных"
      ]
    },
    {
      "cell_type": "code",
      "execution_count": 13,
      "metadata": {
        "colab": {
          "base_uri": "https://localhost:8080/"
        },
        "id": "b7giZoBAol5D",
        "outputId": "dff853b9-62a9-4911-e4c2-2463a4833fa9"
      },
      "outputs": [
        {
          "name": "stderr",
          "output_type": "stream",
          "text": [
            "C:\\Users\\PC\\AppData\\Local\\Temp\\ipykernel_22760\\743095266.py:4: FutureWarning: Series.__getitem__ treating keys as positions is deprecated. In a future version, integer keys will always be treated as labels (consistent with DataFrame behavior). To access a value by position, use `ser.iloc[pos]`\n",
            "  if pd.isna(df['LD50_mgkg'][i]):\n",
            "C:\\Users\\PC\\AppData\\Local\\Temp\\ipykernel_22760\\743095266.py:7: FutureWarning: Series.__getitem__ treating keys as positions is deprecated. In a future version, integer keys will always be treated as labels (consistent with DataFrame behavior). To access a value by position, use `ser.iloc[pos]`\n",
            "  logLD50_mmolkg.append(math.log10(float(df['LD50_mgkg'][i])/float(df['MW'][i])))\n",
            "C:\\Users\\PC\\AppData\\Local\\Temp\\ipykernel_22760\\743095266.py:5: FutureWarning: Series.__getitem__ treating keys as positions is deprecated. In a future version, integer keys will always be treated as labels (consistent with DataFrame behavior). To access a value by position, use `ser.iloc[pos]`\n",
            "  logLD50_mmolkg.append(df['LD50_mgkg'][i])\n",
            "C:\\Users\\PC\\AppData\\Local\\Temp\\ipykernel_22760\\743095266.py:4: FutureWarning: Series.__getitem__ treating keys as positions is deprecated. In a future version, integer keys will always be treated as labels (consistent with DataFrame behavior). To access a value by position, use `ser.iloc[pos]`\n",
            "  if pd.isna(df['LD50_mgkg'][i]):\n",
            "C:\\Users\\PC\\AppData\\Local\\Temp\\ipykernel_22760\\743095266.py:5: FutureWarning: Series.__getitem__ treating keys as positions is deprecated. In a future version, integer keys will always be treated as labels (consistent with DataFrame behavior). To access a value by position, use `ser.iloc[pos]`\n",
            "  logLD50_mmolkg.append(df['LD50_mgkg'][i])\n",
            "C:\\Users\\PC\\AppData\\Local\\Temp\\ipykernel_22760\\743095266.py:7: FutureWarning: Series.__getitem__ treating keys as positions is deprecated. In a future version, integer keys will always be treated as labels (consistent with DataFrame behavior). To access a value by position, use `ser.iloc[pos]`\n",
            "  logLD50_mmolkg.append(math.log10(float(df['LD50_mgkg'][i])/float(df['MW'][i])))\n"
          ]
        }
      ],
      "source": [
        "train['logLD50_mmolkg'] = logLD50(train)\n",
        "test['logLD50_mmolkg'] = logLD50(test)"
      ]
    },
    {
      "cell_type": "markdown",
      "metadata": {
        "id": "-ChsZOwkv-3Z"
      },
      "source": [
        "Проверка корректности добавления признака logLD50_mmolkg"
      ]
    },
    {
      "cell_type": "code",
      "execution_count": 14,
      "metadata": {
        "colab": {
          "base_uri": "https://localhost:8080/",
          "height": 167
        },
        "id": "F_9F0x-Uoooj",
        "outputId": "647f6835-743a-4f51-d935-535243a4dfb5"
      },
      "outputs": [
        {
          "data": {
            "text/html": [
              "<div>\n",
              "<style scoped>\n",
              "    .dataframe tbody tr th:only-of-type {\n",
              "        vertical-align: middle;\n",
              "    }\n",
              "\n",
              "    .dataframe tbody tr th {\n",
              "        vertical-align: top;\n",
              "    }\n",
              "\n",
              "    .dataframe thead th {\n",
              "        text-align: right;\n",
              "    }\n",
              "</style>\n",
              "<table border=\"1\" class=\"dataframe\">\n",
              "  <thead>\n",
              "    <tr style=\"text-align: right;\">\n",
              "      <th></th>\n",
              "      <th>EPA_category</th>\n",
              "      <th>GHS_category</th>\n",
              "      <th>LD50_mgkg</th>\n",
              "      <th>nontoxic</th>\n",
              "      <th>very_toxic</th>\n",
              "      <th>SMILES</th>\n",
              "      <th>ROMol</th>\n",
              "      <th>MW</th>\n",
              "      <th>logLD50_mmolkg</th>\n",
              "    </tr>\n",
              "    <tr>\n",
              "      <th>CASRN</th>\n",
              "      <th></th>\n",
              "      <th></th>\n",
              "      <th></th>\n",
              "      <th></th>\n",
              "      <th></th>\n",
              "      <th></th>\n",
              "      <th></th>\n",
              "      <th></th>\n",
              "      <th></th>\n",
              "    </tr>\n",
              "  </thead>\n",
              "  <tbody>\n",
              "    <tr>\n",
              "      <th>23233-88-7</th>\n",
              "      <td>3.0</td>\n",
              "      <td>5.0</td>\n",
              "      <td>3000.0</td>\n",
              "      <td>True</td>\n",
              "      <td>False</td>\n",
              "      <td>CC(=O)Oc1c(Br)cc(Cl)cc1C(=S)Nc1ccc(Br)cc1</td>\n",
              "      <td>&lt;rdkit.Chem.rdchem.Mol object at 0x0000018E6BD...</td>\n",
              "      <td>463.578</td>\n",
              "      <td>0.810998</td>\n",
              "    </tr>\n",
              "  </tbody>\n",
              "</table>\n",
              "</div>"
            ],
            "text/plain": [
              "            EPA_category  GHS_category  LD50_mgkg nontoxic very_toxic  \\\n",
              "CASRN                                                                   \n",
              "23233-88-7           3.0           5.0     3000.0     True      False   \n",
              "\n",
              "                                               SMILES  \\\n",
              "CASRN                                                   \n",
              "23233-88-7  CC(=O)Oc1c(Br)cc(Cl)cc1C(=S)Nc1ccc(Br)cc1   \n",
              "\n",
              "                                                        ROMol       MW  \\\n",
              "CASRN                                                                    \n",
              "23233-88-7  <rdkit.Chem.rdchem.Mol object at 0x0000018E6BD...  463.578   \n",
              "\n",
              "            logLD50_mmolkg  \n",
              "CASRN                       \n",
              "23233-88-7        0.810998  "
            ]
          },
          "execution_count": 14,
          "metadata": {},
          "output_type": "execute_result"
        }
      ],
      "source": [
        "train.head(1)"
      ]
    },
    {
      "cell_type": "code",
      "execution_count": 15,
      "metadata": {},
      "outputs": [
        {
          "data": {
            "text/html": [
              "<table border=\"1\" class=\"dataframe\">\n",
              "  <thead>\n",
              "    <tr style=\"text-align: right;\">\n",
              "      <th></th>\n",
              "      <th>EPA_category</th>\n",
              "      <th>GHS_category</th>\n",
              "      <th>LD50_mgkg</th>\n",
              "      <th>nontoxic</th>\n",
              "      <th>very_toxic</th>\n",
              "      <th>SMILES</th>\n",
              "      <th>ROMol</th>\n",
              "      <th>MW</th>\n",
              "      <th>logLD50_mmolkg</th>\n",
              "    </tr>\n",
              "    <tr>\n",
              "      <th>CASRN</th>\n",
              "      <th></th>\n",
              "      <th></th>\n",
              "      <th></th>\n",
              "      <th></th>\n",
              "      <th></th>\n",
              "      <th></th>\n",
              "      <th></th>\n",
              "      <th></th>\n",
              "      <th></th>\n",
              "    </tr>\n",
              "  </thead>\n",
              "  <tbody>\n",
              "    <tr>\n",
              "      <th>23233-88-7</th>\n",
              "      <td>3.0</td>\n",
              "      <td>5.0</td>\n",
              "      <td>3000.0</td>\n",
              "      <td>True</td>\n",
              "      <td>False</td>\n",
              "      <td>CC(=O)Oc1c(Br)cc(Cl)cc1C(=S)Nc1ccc(Br)cc1</td>\n",
              "      <td><img src=\"data:image/png;base64,iVBORw0KGgoAAAANSUhEUgAAAMgAAADICAIAAAAiOjnJAAAclklEQVR4nO3deVwTd/oH8E8SCJAACYoHeCIVEEQtVbRqda2tlq50u1u1eFWLtniuSnVdXK9KPest3ot4ovjTurLeulapiMUoCkJV5FZEEIFcBHLM74+xqfXgSOYbiP2+X/1DUZ55Uj/MTCbPfIfHMAwoimv8hm6AejPRYFFE0GBRRNBgUUTQYFFE0GBRRNBgUUTQYFFE0GBRRNBgUUTQYFFE0GBRRNBgUUTQYFFE0GBRRNBgUUTQYFFE0GBRRNBgUUTQYFFE0GBRRNBgUUTQYFFE0GBRRNBgUUTQYFFE0GBRRNBgUUTQYFFE0GBRRNBgUUTQYFFE0GBRRNBgUUTQYFFE0GBRRNBgUUTQYFFE0GBRRNBgUUTUL1hqg1rLaAm1Qr1JbGr+YwbM3qd7LyguSAXS6c2nb3+yvZ9jvyDnIMs0R1mvWoK1omhFhiZjaaulj7SPLiguWKYn6g1QS7CiS6NlPjKJQNLatnUPUY+IwgjLtEVZu1rOsdQGtUQgsUwr1JuklmCJ+KIKfcULX7ysvFzNVBNriXoT1BKscU3HhT8IL9eXl+pK0zXpAPY/3d/vXr/lRcst0h5lrXg1P6+QAfPvJ/8+Kz9rx7cb22TsU/1TlUE1IW+CLc82pVOKr72vxRqlrEstwXqlifkTtz3Z1kvcK9E7kU8vsVKvYkosVrZa2dq29VXV1S0lWzhviHozmLLHAnCi4sSQrCFivjjNN81D6MF5W5S1M/FA9mfJn4e5DFMZVFPyp3DbEPVmMHGPBaBIW+T3i99T3dNYj9gRLiO4bYuydqafere0bbmq1SoA0wumP9E+4a4l6k1g+h4LAAPmk3ufVF6ubPVTq90xuzlsi7J2ZgULQG5ubufOnVUqVXx8fHBwMFdtUdbO3KtQ7du3X7RoEYCpU6cqFAoOOmoclMorpaUxKlVSQzdirTi4vDlz5szu3bvn5+fPmzfP/GqNQUnJtuLiNTyevULxY0P3Yq3MPRSyUlNTu3fvrtfrExIS+vTpY37BhpWX95Wz82AXl6EN3YgV4+YDmS5dusyePdtgMEyYMKGqqoqTmg3I1fXrwsL5ublfqNU3G7oXq8VwRKPRdOrUCcCiRYtMLqJUKh88eHDp0iWdTsdVY6bSy+XnU1Pba7XFDd2JVeLmUMhKSkrq27evjY1NfHy8u7u7SqVSKpUVFRUqlUqtVldUVCiVSpVKpVKpysvL2S/K5XKFQsH+uqyszFiqZcuWMpmsVatWXPVWLwxTzeMJAdy9+167dv+2t/dukDasGpfBAjBu3Lj9+/frdDrTvt3BwcHBwaGsrIxhmNGjR+/du5fD3mql0dzh8x2EwnaFhQtUqmSDoVIkCmjTZq0le3hj1DLzXl/29vY6nU4qlbZu3VokEjk7Ozs7O4tEIpFI5OLiIhaLRSKRk5OTRCIRiURisVgikTg6OopEIkdHR6lUyuPxAFy8eHHw4MGxsbFhYWF9+/bltsMa5OdPVSp/8vQ87O6+2GIbfWNxeFjNy8uzs7Pj8/k3b940uYhCoVAqlfPnzwfg7e1dWVnJYYc1bjdBJkNKilSne1pYGFlQEE7PrszBZbC++uorACNHjtRqtfn5+SZUSEhIaNeu3YwZM6qqqvz8/ADMnz+fww5rcOdOP5kMhYXfabUlKSlOMhmUyiTLbPqNxFmwcnJyhEKhQCD45Zdfdu7caWdnt3z58voWuXXrlq2tLZ/PT0xMvHr1Kp/Pt7GxuXHjBldNvk55+UmZDDdvuup08oKCb2QyZGYOIb3RNxtnwfriiy8AhIaGVldXd+jQAcD+/ftNqBMREQHAx8dHo9FMmTIFQI8ePUhfffjll0CZDEVF31dXF964IZLJeCoV8TS/2bgJ1t27d21sbGxtbbOysjZt2gTAz89Pr9ebUMp4PWzx4sVKpdLDwwPAmjVrOOnzlcrKfpDJcOuWm16vysubIpMhK2souc39QXATrOHDhwOYNGlSZWVl69atARw+fNjkapcuXeLxeEKh8Pbt2ydPngQgEonu37/PSasvMaSnd5XJ8PjxxqqqvOvX7WQyvlp9i8y2/kA4CFZqaiqfz7e3ty8oKFi9ejWAgIAAg8FgTs2wsDAAPXv21Ov1I0aMAPD++++bWfOVHj78P5kMqaltDQZNbu4EmQzZ2aM538ofEAfB+uSTTwDMnDlTqVS2aNECwPHjx82sWVFRwe75oqKiSkpKmjdvDmDXrl3md/s8nU7n7e09Y0aPnJzdGk3m9eu2168LKivvcLuVPyZzgyWTyXg8nlgsLioqWrp0KXuuzcmu5fjx4wDEYnF2djZ7Cb5JkyZFRUXmVzaKiYkB4OnpWV1dvXPnN9evd8zNDeWw/h+ZucEaPHgwgIiIiPLy8iZNmgA4f/48J50xDDNs2DAAQUFBDMOw46mff/45V8WN71737NmTnp4uEAhEIvvi4lyu6v/BmRWsy5cvA3B2di4tLV24cCGA9957j6vOGIYpKSlxdXUFEBsbm5eX5+TkBODo0aOcFN+yZQsALy8vrVbLJnjKlCmcVKYYM6cbBgwYcPHixYULF06bNq1Dhw5yufzSpUv9+vUzueDLYmJiQkNDXV1d09PTDx48OH36dDc3t4yMDKlUak7Zqqqqjh07FhQUHDp0yMfHp1u3bkKhMDMzkz2xa1jV1dUqlaqsrEytVrMDIHK5XK1WPz8VolAoKioq1Gp1ampqixYt1q9f36tXr4Zu/PdMjuS5c+cASKXSsrKyOXPmAPjoo4+4S/xvBg0aBGDMmDF6vZ4dT500aZKZNdetWwfA399fr9ezB9nw8HBOuq2X8+fPd+jQoWPHjr6+vu3bt3dxcbGxMWUsoHnz5qZdNSTH9D1W7969k5KSli1bNn78+A4dOiiVyqtXr/bs2dO0ajXIzc319/dXKpXx8fEdO3bs1q2bVqu9ePHie++9Z1rBysrKt956q7CwMD4+3s3NLTAwUCQSZWVlsW9pLUahULi4uOj1+he+bmtr6+jo+MIAiFgsFovFUqmU/aKzs7OTk5NYLM7NzV2wYEFFRcWGDRumTZtmyf5rYVoe//vf/wJo1qyZXC6fPn06gE8//ZTTxP/OqlWrALRt21Yul7Mnc15eXjUPPigUiqKioqysrOvXryckJJw+ffrQoUPR0dEbNmwICgoC4ODgEBMT8+GHHwKYO3cuueZfZ8WKFez/w+PHj6elpWVnZz99+rSqquqVf1mlUpWUlGRlZaWkpCQmJp49e/bQoUNXrlxhGObEiRP49e2zZV9BTUzZYzEM07Nnz2vXrq1du3b48OFvvfWWRqNJSUnp2rUrl5F/jsFg6Nu3b1JS0vTp01euXBkQEJCenh4YGNi1a1f2tOPladW6lBWJRGq1WiKRZGdns29pLUapVHp6ehYXF585c2bQoEGxsbHXr19/4SUoFArjqdUr/5lGjBgRGxsLICQkJC4uLigoiP2gojEw5Yh+5MiRa9euubm5hYWFhYeHV1ZWhoSEkEsVAD6fv3Xr1oEDB/r5+QmFwlmzZs2YMSM5OTk5Ofl13/LCUKFIJJJKpc8PFcbFxd28eRPApEmTLJwqAGvWrCkuLu7Tpw97Bnn27Nndu2u6ldze3v7lw2KPHj3YP42Kirpw4cKpU6f2798/atQoS7yA2tR7j6XT6Zo3b15WVrZ58+agoCAvLy+DwXD79m0fHx9CLRqp1WqRSARgyJAhJ06cGDBgQEhIiFQqZTNkPO1gp1VrrWYwGPr373/58uWxY8fu2rWLdPPPKy8v79ChQ1lZ2Y8//vinP/0JwJkzZ9LS0owDt2xunv/Z4PNruZ9q9+7d48aNa9q0aUZGBvtBRQOr77EzPT2d/cbHjx9rtdqdO3dGRERwfYCuSXJyMo/Hc3R0fPz4sZml7ty5Y29vz+Pxzp07x0lvdTR37lwAH374Ibdl2YvVo0aN4rasaeodLKVSaW9vD2DhwoUE+qndwIEDAcybN4+TaosXLwbQsWNHtVrNScFalZSUsFd6k5I4nlDNzc11dHQEcOzYMW4rm8CUd4UXL140jrVw3lDNEhISAEgkktLSUk4KarXat99+G8CcOXM4KVir8PBwAMHBwSSKr1mzBr++fSZRv+5MvNzw9ddfA+jZs6eF7yxlL+tHRkZyWDM5OVkgENjY2MhkMg7LvlJhYaFIJOLxeITmrfV6fe/evQFMmzaNRP26MzFYxrGWjRs3cttQDU6dOgXA1dWV8x/H8PDwZs06f/55tlbLbeEXscPWw4YNI7eJ1NRUoVDI5/N/+ukncluplekf6Tw/1sJhQzVgL+t///33nFdWKpVdu2oBpv73f9SD8fa41NRUgpthGHbZH0vePPcys6Ybhg4dil/HWkg7evQogJYtW6pUKhL1L1xgeDzGwYHJzCRRnmEYZvz48QBGjyY+oarRaHx9fRvwDRZjZrAePXrEXlo07YacujMYDOwF2A0bNpDbyrhxDMD0788QGIFmMjMzbWxsBALBnTuWmFBNSkri8/lCoTAtLc0Cm3uZuYN+0dHRAJo2bWr+VaUaHDhwgH2zo9FoyG2ltJRp0YIBmB07uC/OXhCfMGEC96VfY/LkyQACAwPNfIOVk5ooO7X39k/HKkoe1v27zA2WwWBgP8clt4fX6XTsDWHbt28ntAmjuDgGYCQS5sEDLsuyE6pCodCSnxPL5fI2bdoAWL9+vTl1/rN2RkLc+pTzBzdPff/Jg7reK8XBzRQ5OTnsdbn4+Hjzq72M/bylffv2r/vkn1uffsoADLeXmdiT0alTp3JZtA7YwQd2KMiEb6+uVFVr1P9ZO6PgjoxhmBNb5t5LPnft5G7ZqT2HV9YyEsfNMkarV6+eNWtW27Ztb9++zV5W5opWq+3UqVNWVtaePXvGjBnDYeXXefgQfn5QKpGSAn9/DgqmpaWxE6r379+3/IpfI0aMOHjwYP/+/ZcvX65UKsvLy9mJCePKZBpN5fvtGa1Gra2qrKpUVqkV7K81KjmArgOH88CrKHnI4/M0KsWXy4+e3Dq3RftObw8aIbQX17BdboKl1+t79eolk8n+/ve/r1+/3vyCRtu2bZs4caKXl1d6erpp05V1oVBAIIBIBABKJY4dQ5s28PYGO/knlwOAs7OJxYODg48fP/7NN9+wU2WWkZ6e3rJly6ZNmxYXF3t6etrb2z958tqHPET+tZ1e+4onm9raOfj2DeaB907Q6JYenRPi1traOZQV5QcMHtna+52aG+Dmn0ogEERHR3fv3j0qKmr48OHmrG+r0+k0Gg17bK2qqlqyZAmAyMhIcqkCEBUFNzeMGwcAu3dDp4NQiOBgZGSgVSvs3w+dDqaNZyYnJ584cUIsFv/jH//gtOWaMAwzZsyYrKysM2fOtG7dWqvVajSagICAJk2aODs7s0MTzw8R9fZ1F9rZ2do52IuchQ6OtnYOQnuRndiZXa7s2LqZAGyEdi4t2z8pyKxjD5z9a7Hr2y5dunTChAk3b960s7MDkJ+fn5WV9fyNAC9P5BnH2djbB6qqqgYPHnz69GkAW7duLSgo8Pf3Z89RLKx3b8yahQMHnv02NxelpVAqoVJBpUJ5OVQqqNWQy2FndyUvbzu72uULNztUVlYKBILQ0NDmzZur1eolS5bMmDGjWbNmRDs/cuRISkqKu7t7165dZ86cWVVVFRIScsD4SurJ1s7hzL8X2YmchPbijycu+en/NvD5dYiNCed0r/Py+rYzZ86s78vg8/nsTRlqtdrd3R0W+ax+6VImJIRZtYpZtYr529+YdeuYQ4eYyEgmJIQ5fZrZvJnZsIHx9GSAV//37rsHa3hFPB6PfUVffvklgJEjRxJ9LXq9vkuXLgC2bNmSm5vLri2VkZFBdKMv43gNUuP6tjdu3PDz89uyZUtcXJxx4tE4kffCOJtYLGZvHxCLxexMDoCVK1fOmTOne/fu7AAWh02+bNkylJdj0CAAiI9Hhw5wd8fduwgNRXAwvvgCfD7OnEFREcRiiERwcoJEApEIIhGkUjRrlsfjXWAHU5+/2UEkEikUCl9f37KysoMHD/bq1atz585KpfLYsWPsugQk7Nu3b8yYMe3atbt3715YWNiuXbvGjRvH3vNtSRwHC8CkSZO2bt3as2fPxMREgUDAflGn0xmPDiqV6oUVlF94n8IeU+7du6dQKNiRcG47fNmyZb+dY23aBJ3uWbDmzcO6ddi2DZMnm3iOBWDHjh1ff/21q6trRkbGvn37wsPDSbx9Zun1ej8/v7t378bExPTp08fX15fH4925c4e959uiON8HVlRUsG+q27Zt6+Hh4eLiIhQKTWhMIpHweDzLfES/dCkTE/Ps11FRvx0KGYbRaplu3RhzPkkyGAwffPABgLFjx5Iea9mxYweAjh07arXakJAQAGFhYSQ2VCvu91gA/vKXvyQkJJSXlxu/IhAIXphJZw8ZTk5Or3yfIpFI9uzZExUV5eXldevWLePxkZCnTyEQQCIBgPJyMAyEQmi1YG+3LiuDQGD65QYAOTk5/v7+KpXq9OnT7u7u3bt31+l0ly5d4nZN6Orqah8fn5ycnNjYWH9//65du9ra2mZmZrLX3y2N86gah0MOHz6clZVVWlpq2vCGcX3bf/3rX5w3aXnLly8H0K5dO4VCQWisZePGjfh1LcVPP/0UwPTp0zmsXy/cB4tdO5mTkf6rV6+ys50WWN+WNK1W+8477wCYOXMmibGWyspK9gzkhx9+YNeWcnBwePiwHh8bc4vjYBnXTuZqOGTq1KmwyPq2FnDz5k3jmtCcj7Wwl/Xfeecdg8HA3uptsSn+V+I4WOzHeaGhnC1fZlzfdvXq1VzVbEDs6in+/v5VVVVcjbUwDKNUKtl7CU+ePJmYmAjA0dGxuLghH4DAZbCeXzuZw7LG9W0b1doEptFoNOydvZGRkcaxlnXr1plZ9rvvvgPQu3dvhmEGDBgAYMGCBVz0azoug8WunTx58mQOa7K+GDPm7/36KT/+mMhwp2WxN8/Z2dmlp6cbf2bM+VE0rqV44cKF8+fPA5BKpU+fPuWwZxNwFqzn107mqqaRobiYcXVlAGbnTs6LWx77/qZXr156vZ692mTOmtDsc4fYtRTZpZ2WLFnCab+m4CxYUd/NFjvYz5gxg6uCL9q379lwZ8O90+GK8Rrypk2bSkpK2M+k9+zZY0KpJ0+eODs7A7h06RI71kfi9jgTcBOsh/dSFgW7r53wbvFjLlc1flFwMAMww4cT3ISlsAuMOTk55efns+vMmHbfwIIFCwAEBQUZDIbAwMDG8y6Hm2DtXTBi0RC387uXclLttfLyGCcnBmA4Wt+2YX322Wf49eY5dj0PEy5rqVSq77///vr160eOHAHg5uZG6Pa4+uIgWPkZyYuGuC373FstLzO/Wi02bGAAxs2NKSO/LcIePXrELrcUGxubk5MTFRVl8jqier2evT1u06ZN3DZpMg4+K9w9d2hu2pU/jfym/4hvzCxVO4MB/fohMRETJ2LLFuKbIyw6OnrChAns4EOt0396vf6FARDjUOH69eszMjLc3d2zs7PZEcsGZ+4EafbNhNy0K/Zi556ffMVJQ7Xg87F9OwICkJMDnQ4k55UtIDQ0NC4u7ty5c76+vqGhoTwer4Zns1dVVdVcbfDgwY0kVTB/Hit6VvCDu9cHjp3bd+hUrnqqXWoqunRBbi6SktCkCfr3B+HxB3KSkpL69OlTl38FHo/3wmqXxqHCzMzMjz76aPbs2aQnIuvOrGDdSz53IHKsSNJ0+o4koYMjh23V7uhRbNyIsWNRWIj4eJw9CwJzc5Zx5cqViIiITp06eXh41PBsdgcHh4butB7qGqxH91MrlRUiZ5dmbb0FNrYAGIbZPmNwUfbtwRO+7fUXixwHn+fnh0uX4OoKACtWwMYG35A/w6PqrJYlU43ORH+bdzvp9k/HomcNqdaoAOi1Ve39323i1r570BckO3wVtRoM8yxVAAIDkZZm6R6oGtXj5DdwyJdiabODBffLHuU9ykoTSZo4SptP2XyJb2NLrr9Xs7ND9XM3WCqVZs13UgTUdY8FICFu3X/WTmcYQ/P2Pqk/HikvKvDt8+cGSBUAgQA+Pvjf/wDAYMDu3QgKaoA2qNerR7C6DBj67l8ngkHWjYsA/N4LdnFrT6it2m3dio0bERyMDz5A9+40WI1NPQ6F0uatxdJmbX0Dnzy4T66hOklKQk4OfvgBtS2rTzWUegQrfuMsHo9XrVEP/cfWe8nnyfVUu9mzkZiIp08x1YIXz6j6IHL7F1mnTuHjj+Hqiuxs67129cazwkPJokUAMGcOTVVjZm17rKNH8be/wc0N9+8/W8+KapSsao9lMODbbwFg7lyaqkbOqvZYBw5g5Ei0bYt799BoPsanXsl69lh6PRYvBoD582mqGj+rmWc6HBvbomXL3kKhYOzYhu6Fqp11HAq1Wq2Pj092dva+vXtHjR7d0O1QtbOOQ2F0dHR2draXl1fIiBEN3QtVJ1awx9JoNF5eXgUFBYcOHRo2bFhDt0PViRXssYxrJ7P3S1FWoTGevDMMw94+oFari4uL2aXelyxZUuuT3KnGg9ihsLISmzfjl1/g6YnJkyGR4IcfUFoKtRoqFeRyKBTPFkovKyuVSgdmZioUCrlcrlKpKisrXyhmmbWTKS6RumFx4EBm507m4UMmLo4JDGS0WkYied1C6ZXe3i90JZVK3d3dPTw82HWXz549S6pPigwyh8Jbt2Bnhy+/BIDhw3HiBH78EZ9/Dr3+2ULpUikcHSESwdERUinf0fGGvb1EImHXRheLnz39x7hqPLvSMGVFyAQrPx8eHr/91tMT+fnYsgUVFb97ZohaDbUaOTm8ysrjcrnxzky1Wi2Xy+VyuVKpBKDT6ZYtW8auLUZZCzLBcnNDYeFvvy0oQGAgevXCtWuv/Ou2ItECtfp1xXg83ooVKz777LO3336b804pQsgEKyAADx/if//DwIH4+WckJyMqCo6OcHH57Zkhzs6/HRbF4nm/PvWEPRRKJBJHR0f2aSgrV67ctm1bWFhYUlKS8VEXVCNH7F1hSQkiI5GVhTZtMG8eWrc2uZJKpfL398/JyVm9enV4eDiHPVLkWMGVdwCnTp36+OOPRSJRamqqp6dnQ7dD1c46LjkGBQWNGjVKrVZ/9dVXVvGTQFnHHgtAaWmpr69vcXFxTEzMOPY5XVQjZjXBArB///7Ro0dLJBJ2kbGGboeqiXUcClmjRo0KDg6uqKgw4cGtlIVZ0x4LQH5+fufOnRUKxdGjR9kHXFGNkzXtsQC0bduWHXaYPHny889DpBobKwsWgClTpvTt2/fRo0cREREN3Qv1WlZ2KGTdvXu3W7duVVVV58+ff//99xu6HeoVrG+PBcDb2/uf//wnwzCTJk16eXiLagysMlgAIiIiOnfufO/evcjIyIbuhXoFqzwUspKTk3v37s3j8X7++eeAgICGbof6HWvdYwEIDAycMmWKTqcbP368Vqtt6Hao37HiPRYApVLp7+//8OHDCxcu9O3bt6HboX5j3cECcPnyZWdn5y5dujR0I9TvWH2wqMbJis+xqMaMBosiggaLIoIGiyKCBosiggaLIoIGiyKCBosiggaLIoIGiyKCBosiggaLIoIGiyKCBosiggaLIoIGiyKCBosiggaLIoIGiyKCBosiggaLIoIGiyKCBosiggaLIoIGiyKCBosiggaLIoIGiyKCBosiggaLIoIGiyKCBosiggaLIoIGiyKCBosiggaLIoIGiyKCBosiggaLIoIGiyLi/wEF1e8XWGbMCQAAAABJRU5ErkJggg==\"/></td>\n",
              "      <td>463.578</td>\n",
              "      <td>0.810998</td>\n",
              "    </tr>\n",
              "  </tbody>\n",
              "</table>"
            ],
            "text/plain": [
              "<IPython.core.display.HTML object>"
            ]
          },
          "execution_count": 15,
          "metadata": {},
          "output_type": "execute_result"
        }
      ],
      "source": [
        "visualised_head(train)"
      ]
    },
    {
      "cell_type": "markdown",
      "metadata": {
        "id": "ogFys16MwK0y"
      },
      "source": [
        "## Преобразование исходных булевых значений nontoxic и very_toxic в бинарные метки:\n",
        "\n",
        "* toxic = 1, если nontoxic = False;\n",
        "\n",
        "* verytoxic = 1, если very_toxic = True."
      ]
    },
    {
      "cell_type": "code",
      "execution_count": 16,
      "metadata": {
        "id": "HaUqwBcGoqXz"
      },
      "outputs": [],
      "source": [
        "def binary_toxic(df):\n",
        "    toxic = []\n",
        "    for i in range(df.shape[0]):\n",
        "        if pd.isna(df['nontoxic'][i]):\n",
        "            toxic.append(df['nontoxic'][i])\n",
        "        else:\n",
        "            toxic.append(1 if df['nontoxic'][i] is False else 0)\n",
        "    return toxic"
      ]
    },
    {
      "cell_type": "code",
      "execution_count": 17,
      "metadata": {
        "id": "LZbk5g_Foq6J"
      },
      "outputs": [],
      "source": [
        "def binary_verytoxic(df):\n",
        "    verytoxic = []\n",
        "    for i in range(df.shape[0]):\n",
        "        if pd.isna(df['very_toxic'][i]):\n",
        "            verytoxic.append(df['very_toxic'][i])\n",
        "        else:\n",
        "            verytoxic.append(0 if df['very_toxic'][i] is False else 1)\n",
        "    return verytoxic"
      ]
    },
    {
      "cell_type": "markdown",
      "metadata": {
        "id": "H619QigCwT1Q"
      },
      "source": [
        "Создаются новые колонки toxic и verytoxic в обучающем и тестовом наборах."
      ]
    },
    {
      "cell_type": "code",
      "execution_count": 18,
      "metadata": {
        "colab": {
          "base_uri": "https://localhost:8080/"
        },
        "id": "wzRHk9WPosWz",
        "outputId": "ec106510-6dbf-4d67-cc13-218571082cfe"
      },
      "outputs": [
        {
          "name": "stderr",
          "output_type": "stream",
          "text": [
            "C:\\Users\\PC\\AppData\\Local\\Temp\\ipykernel_22760\\2215102921.py:4: FutureWarning: Series.__getitem__ treating keys as positions is deprecated. In a future version, integer keys will always be treated as labels (consistent with DataFrame behavior). To access a value by position, use `ser.iloc[pos]`\n",
            "  if pd.isna(df['nontoxic'][i]):\n",
            "C:\\Users\\PC\\AppData\\Local\\Temp\\ipykernel_22760\\2215102921.py:7: FutureWarning: Series.__getitem__ treating keys as positions is deprecated. In a future version, integer keys will always be treated as labels (consistent with DataFrame behavior). To access a value by position, use `ser.iloc[pos]`\n",
            "  toxic.append(1 if df['nontoxic'][i] is False else 0)\n",
            "C:\\Users\\PC\\AppData\\Local\\Temp\\ipykernel_22760\\2215102921.py:5: FutureWarning: Series.__getitem__ treating keys as positions is deprecated. In a future version, integer keys will always be treated as labels (consistent with DataFrame behavior). To access a value by position, use `ser.iloc[pos]`\n",
            "  toxic.append(df['nontoxic'][i])\n",
            "C:\\Users\\PC\\AppData\\Local\\Temp\\ipykernel_22760\\2215102921.py:4: FutureWarning: Series.__getitem__ treating keys as positions is deprecated. In a future version, integer keys will always be treated as labels (consistent with DataFrame behavior). To access a value by position, use `ser.iloc[pos]`\n",
            "  if pd.isna(df['nontoxic'][i]):\n",
            "C:\\Users\\PC\\AppData\\Local\\Temp\\ipykernel_22760\\2215102921.py:7: FutureWarning: Series.__getitem__ treating keys as positions is deprecated. In a future version, integer keys will always be treated as labels (consistent with DataFrame behavior). To access a value by position, use `ser.iloc[pos]`\n",
            "  toxic.append(1 if df['nontoxic'][i] is False else 0)\n",
            "C:\\Users\\PC\\AppData\\Local\\Temp\\ipykernel_22760\\2215102921.py:5: FutureWarning: Series.__getitem__ treating keys as positions is deprecated. In a future version, integer keys will always be treated as labels (consistent with DataFrame behavior). To access a value by position, use `ser.iloc[pos]`\n",
            "  toxic.append(df['nontoxic'][i])\n"
          ]
        }
      ],
      "source": [
        "train['toxic'] = binary_toxic(train)\n",
        "test['toxic'] = binary_toxic(test)"
      ]
    },
    {
      "cell_type": "markdown",
      "metadata": {
        "id": "UY_QNFHMwYx7"
      },
      "source": [
        "Проверка структуры набора после добавления новых бинарных меток"
      ]
    },
    {
      "cell_type": "code",
      "execution_count": 19,
      "metadata": {
        "colab": {
          "base_uri": "https://localhost:8080/",
          "height": 167
        },
        "id": "g_ZMGC2Aovbv",
        "outputId": "b87ec662-f494-4bf1-8069-d05e25f049dc"
      },
      "outputs": [
        {
          "data": {
            "text/html": [
              "<div>\n",
              "<style scoped>\n",
              "    .dataframe tbody tr th:only-of-type {\n",
              "        vertical-align: middle;\n",
              "    }\n",
              "\n",
              "    .dataframe tbody tr th {\n",
              "        vertical-align: top;\n",
              "    }\n",
              "\n",
              "    .dataframe thead th {\n",
              "        text-align: right;\n",
              "    }\n",
              "</style>\n",
              "<table border=\"1\" class=\"dataframe\">\n",
              "  <thead>\n",
              "    <tr style=\"text-align: right;\">\n",
              "      <th></th>\n",
              "      <th>EPA_category</th>\n",
              "      <th>GHS_category</th>\n",
              "      <th>LD50_mgkg</th>\n",
              "      <th>nontoxic</th>\n",
              "      <th>very_toxic</th>\n",
              "      <th>SMILES</th>\n",
              "      <th>ROMol</th>\n",
              "      <th>MW</th>\n",
              "      <th>logLD50_mmolkg</th>\n",
              "      <th>toxic</th>\n",
              "    </tr>\n",
              "    <tr>\n",
              "      <th>CASRN</th>\n",
              "      <th></th>\n",
              "      <th></th>\n",
              "      <th></th>\n",
              "      <th></th>\n",
              "      <th></th>\n",
              "      <th></th>\n",
              "      <th></th>\n",
              "      <th></th>\n",
              "      <th></th>\n",
              "      <th></th>\n",
              "    </tr>\n",
              "  </thead>\n",
              "  <tbody>\n",
              "    <tr>\n",
              "      <th>23233-88-7</th>\n",
              "      <td>3.0</td>\n",
              "      <td>5.0</td>\n",
              "      <td>3000.0</td>\n",
              "      <td>True</td>\n",
              "      <td>False</td>\n",
              "      <td>CC(=O)Oc1c(Br)cc(Cl)cc1C(=S)Nc1ccc(Br)cc1</td>\n",
              "      <td>&lt;rdkit.Chem.rdchem.Mol object at 0x0000018E6BD...</td>\n",
              "      <td>463.578</td>\n",
              "      <td>0.810998</td>\n",
              "      <td>0.0</td>\n",
              "    </tr>\n",
              "  </tbody>\n",
              "</table>\n",
              "</div>"
            ],
            "text/plain": [
              "            EPA_category  GHS_category  LD50_mgkg nontoxic very_toxic  \\\n",
              "CASRN                                                                   \n",
              "23233-88-7           3.0           5.0     3000.0     True      False   \n",
              "\n",
              "                                               SMILES  \\\n",
              "CASRN                                                   \n",
              "23233-88-7  CC(=O)Oc1c(Br)cc(Cl)cc1C(=S)Nc1ccc(Br)cc1   \n",
              "\n",
              "                                                        ROMol       MW  \\\n",
              "CASRN                                                                    \n",
              "23233-88-7  <rdkit.Chem.rdchem.Mol object at 0x0000018E6BD...  463.578   \n",
              "\n",
              "            logLD50_mmolkg  toxic  \n",
              "CASRN                              \n",
              "23233-88-7        0.810998    0.0  "
            ]
          },
          "execution_count": 19,
          "metadata": {},
          "output_type": "execute_result"
        }
      ],
      "source": [
        "train.head(1)"
      ]
    },
    {
      "cell_type": "code",
      "execution_count": 20,
      "metadata": {},
      "outputs": [
        {
          "data": {
            "text/html": [
              "<table border=\"1\" class=\"dataframe\">\n",
              "  <thead>\n",
              "    <tr style=\"text-align: right;\">\n",
              "      <th></th>\n",
              "      <th>EPA_category</th>\n",
              "      <th>GHS_category</th>\n",
              "      <th>LD50_mgkg</th>\n",
              "      <th>nontoxic</th>\n",
              "      <th>very_toxic</th>\n",
              "      <th>SMILES</th>\n",
              "      <th>ROMol</th>\n",
              "      <th>MW</th>\n",
              "      <th>logLD50_mmolkg</th>\n",
              "      <th>toxic</th>\n",
              "    </tr>\n",
              "    <tr>\n",
              "      <th>CASRN</th>\n",
              "      <th></th>\n",
              "      <th></th>\n",
              "      <th></th>\n",
              "      <th></th>\n",
              "      <th></th>\n",
              "      <th></th>\n",
              "      <th></th>\n",
              "      <th></th>\n",
              "      <th></th>\n",
              "      <th></th>\n",
              "    </tr>\n",
              "  </thead>\n",
              "  <tbody>\n",
              "    <tr>\n",
              "      <th>23233-88-7</th>\n",
              "      <td>3.0</td>\n",
              "      <td>5.0</td>\n",
              "      <td>3000.0</td>\n",
              "      <td>True</td>\n",
              "      <td>False</td>\n",
              "      <td>CC(=O)Oc1c(Br)cc(Cl)cc1C(=S)Nc1ccc(Br)cc1</td>\n",
              "      <td><img src=\"data:image/png;base64,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\"/></td>\n",
              "      <td>463.578</td>\n",
              "      <td>0.810998</td>\n",
              "      <td>0.0</td>\n",
              "    </tr>\n",
              "  </tbody>\n",
              "</table>"
            ],
            "text/plain": [
              "<IPython.core.display.HTML object>"
            ]
          },
          "execution_count": 20,
          "metadata": {},
          "output_type": "execute_result"
        }
      ],
      "source": [
        "visualised_head(train)"
      ]
    },
    {
      "cell_type": "markdown",
      "metadata": {
        "id": "V2BZWdSkwc2V"
      },
      "source": [
        "## Очистка набора данных\n",
        "\n",
        "Удаляются промежуточные столбцы, которые больше не нужны для анализа."
      ]
    },
    {
      "cell_type": "code",
      "execution_count": 21,
      "metadata": {
        "id": "EnqJeOrcowps"
      },
      "outputs": [],
      "source": [
        "train = train.drop(['nontoxic', 'very_toxic', 'ROMol', 'MW', 'LD50_mgkg'], axis=1)\n",
        "test = test.drop(['nontoxic', 'very_toxic', 'ROMol', 'MW', 'LD50_mgkg'], axis=1)"
      ]
    },
    {
      "cell_type": "markdown",
      "metadata": {
        "id": "C47GkvH2wjrP"
      },
      "source": [
        "Проверка структуры набора после удаления промежуточных признаков"
      ]
    },
    {
      "cell_type": "code",
      "execution_count": 22,
      "metadata": {
        "colab": {
          "base_uri": "https://localhost:8080/",
          "height": 112
        },
        "id": "UAfheaTToytR",
        "outputId": "15588c09-5f37-4004-dddc-5de06633ed36"
      },
      "outputs": [
        {
          "data": {
            "text/html": [
              "<div>\n",
              "<style scoped>\n",
              "    .dataframe tbody tr th:only-of-type {\n",
              "        vertical-align: middle;\n",
              "    }\n",
              "\n",
              "    .dataframe tbody tr th {\n",
              "        vertical-align: top;\n",
              "    }\n",
              "\n",
              "    .dataframe thead th {\n",
              "        text-align: right;\n",
              "    }\n",
              "</style>\n",
              "<table border=\"1\" class=\"dataframe\">\n",
              "  <thead>\n",
              "    <tr style=\"text-align: right;\">\n",
              "      <th></th>\n",
              "      <th>EPA_category</th>\n",
              "      <th>GHS_category</th>\n",
              "      <th>SMILES</th>\n",
              "      <th>logLD50_mmolkg</th>\n",
              "      <th>toxic</th>\n",
              "    </tr>\n",
              "    <tr>\n",
              "      <th>CASRN</th>\n",
              "      <th></th>\n",
              "      <th></th>\n",
              "      <th></th>\n",
              "      <th></th>\n",
              "      <th></th>\n",
              "    </tr>\n",
              "  </thead>\n",
              "  <tbody>\n",
              "    <tr>\n",
              "      <th>23233-88-7</th>\n",
              "      <td>3.0</td>\n",
              "      <td>5.0</td>\n",
              "      <td>CC(=O)Oc1c(Br)cc(Cl)cc1C(=S)Nc1ccc(Br)cc1</td>\n",
              "      <td>0.810998</td>\n",
              "      <td>0.0</td>\n",
              "    </tr>\n",
              "  </tbody>\n",
              "</table>\n",
              "</div>"
            ],
            "text/plain": [
              "            EPA_category  GHS_category  \\\n",
              "CASRN                                    \n",
              "23233-88-7           3.0           5.0   \n",
              "\n",
              "                                               SMILES  logLD50_mmolkg  toxic  \n",
              "CASRN                                                                         \n",
              "23233-88-7  CC(=O)Oc1c(Br)cc(Cl)cc1C(=S)Nc1ccc(Br)cc1        0.810998    0.0  "
            ]
          },
          "execution_count": 22,
          "metadata": {},
          "output_type": "execute_result"
        }
      ],
      "source": [
        "train.head(1)"
      ]
    },
    {
      "cell_type": "markdown",
      "metadata": {
        "id": "A3pwXlW7wve4"
      },
      "source": [
        "## Финальное упорядочивание столбцов\n",
        "Устанавливается логичный порядок колонок, начиная с молекулы и целевых переменных, заканчивая категориальными метками"
      ]
    },
    {
      "cell_type": "code",
      "execution_count": 23,
      "metadata": {
        "id": "R3WDBEago1_z"
      },
      "outputs": [],
      "source": [
        "columnsTitles = ['SMILES', 'logLD50_mmolkg', 'verytoxic', 'toxic', 'EPA_category', 'GHS_category']"
      ]
    },
    {
      "cell_type": "code",
      "execution_count": 24,
      "metadata": {
        "id": "OLo8GmN6o3b4"
      },
      "outputs": [],
      "source": [
        "train = train.reindex(columns=columnsTitles)\n",
        "test = test.reindex(columns=columnsTitles)"
      ]
    },
    {
      "cell_type": "markdown",
      "metadata": {
        "id": "ovo7XMdzw9LC"
      },
      "source": [
        "Проверка итоговой структуры обучающего и тестового наборов"
      ]
    },
    {
      "cell_type": "code",
      "execution_count": 25,
      "metadata": {
        "colab": {
          "base_uri": "https://localhost:8080/",
          "height": 112
        },
        "id": "fAvchw5oo3_i",
        "outputId": "f71be1a2-c5f5-4fac-e779-55901d97766b"
      },
      "outputs": [
        {
          "data": {
            "text/html": [
              "<div>\n",
              "<style scoped>\n",
              "    .dataframe tbody tr th:only-of-type {\n",
              "        vertical-align: middle;\n",
              "    }\n",
              "\n",
              "    .dataframe tbody tr th {\n",
              "        vertical-align: top;\n",
              "    }\n",
              "\n",
              "    .dataframe thead th {\n",
              "        text-align: right;\n",
              "    }\n",
              "</style>\n",
              "<table border=\"1\" class=\"dataframe\">\n",
              "  <thead>\n",
              "    <tr style=\"text-align: right;\">\n",
              "      <th></th>\n",
              "      <th>SMILES</th>\n",
              "      <th>logLD50_mmolkg</th>\n",
              "      <th>verytoxic</th>\n",
              "      <th>toxic</th>\n",
              "      <th>EPA_category</th>\n",
              "      <th>GHS_category</th>\n",
              "    </tr>\n",
              "    <tr>\n",
              "      <th>CASRN</th>\n",
              "      <th></th>\n",
              "      <th></th>\n",
              "      <th></th>\n",
              "      <th></th>\n",
              "      <th></th>\n",
              "      <th></th>\n",
              "    </tr>\n",
              "  </thead>\n",
              "  <tbody>\n",
              "    <tr>\n",
              "      <th>23233-88-7</th>\n",
              "      <td>CC(=O)Oc1c(Br)cc(Cl)cc1C(=S)Nc1ccc(Br)cc1</td>\n",
              "      <td>0.810998</td>\n",
              "      <td>NaN</td>\n",
              "      <td>0.0</td>\n",
              "      <td>3.0</td>\n",
              "      <td>5.0</td>\n",
              "    </tr>\n",
              "  </tbody>\n",
              "</table>\n",
              "</div>"
            ],
            "text/plain": [
              "                                               SMILES  logLD50_mmolkg  \\\n",
              "CASRN                                                                   \n",
              "23233-88-7  CC(=O)Oc1c(Br)cc(Cl)cc1C(=S)Nc1ccc(Br)cc1        0.810998   \n",
              "\n",
              "            verytoxic  toxic  EPA_category  GHS_category  \n",
              "CASRN                                                     \n",
              "23233-88-7        NaN    0.0           3.0           5.0  "
            ]
          },
          "execution_count": 25,
          "metadata": {},
          "output_type": "execute_result"
        }
      ],
      "source": [
        "train.head(1)"
      ]
    },
    {
      "cell_type": "code",
      "execution_count": 26,
      "metadata": {
        "colab": {
          "base_uri": "https://localhost:8080/",
          "height": 112
        },
        "id": "Dg0m_n1hpx8X",
        "outputId": "733597a8-4028-430e-82f3-0b7835a52081"
      },
      "outputs": [
        {
          "data": {
            "text/html": [
              "<div>\n",
              "<style scoped>\n",
              "    .dataframe tbody tr th:only-of-type {\n",
              "        vertical-align: middle;\n",
              "    }\n",
              "\n",
              "    .dataframe tbody tr th {\n",
              "        vertical-align: top;\n",
              "    }\n",
              "\n",
              "    .dataframe thead th {\n",
              "        text-align: right;\n",
              "    }\n",
              "</style>\n",
              "<table border=\"1\" class=\"dataframe\">\n",
              "  <thead>\n",
              "    <tr style=\"text-align: right;\">\n",
              "      <th></th>\n",
              "      <th>SMILES</th>\n",
              "      <th>logLD50_mmolkg</th>\n",
              "      <th>verytoxic</th>\n",
              "      <th>toxic</th>\n",
              "      <th>EPA_category</th>\n",
              "      <th>GHS_category</th>\n",
              "    </tr>\n",
              "    <tr>\n",
              "      <th>CASRN</th>\n",
              "      <th></th>\n",
              "      <th></th>\n",
              "      <th></th>\n",
              "      <th></th>\n",
              "      <th></th>\n",
              "      <th></th>\n",
              "    </tr>\n",
              "  </thead>\n",
              "  <tbody>\n",
              "    <tr>\n",
              "      <th>130209-82-4</th>\n",
              "      <td>CC(C)OC(=O)CCCC=CCC1C(O)CC(O)C1CCC(O)CCc1ccccc1</td>\n",
              "      <td>NaN</td>\n",
              "      <td>NaN</td>\n",
              "      <td>1.0</td>\n",
              "      <td>1.0</td>\n",
              "      <td>1.0</td>\n",
              "    </tr>\n",
              "  </tbody>\n",
              "</table>\n",
              "</div>"
            ],
            "text/plain": [
              "                                                      SMILES  logLD50_mmolkg  \\\n",
              "CASRN                                                                          \n",
              "130209-82-4  CC(C)OC(=O)CCCC=CCC1C(O)CC(O)C1CCC(O)CCc1ccccc1             NaN   \n",
              "\n",
              "             verytoxic  toxic  EPA_category  GHS_category  \n",
              "CASRN                                                      \n",
              "130209-82-4        NaN    1.0           1.0           1.0  "
            ]
          },
          "execution_count": 26,
          "metadata": {},
          "output_type": "execute_result"
        }
      ],
      "source": [
        "test.head(1)"
      ]
    },
    {
      "cell_type": "markdown",
      "metadata": {
        "id": "H1tT2VOoxCg_"
      },
      "source": [
        "## Сохранение предобработанных наборов\n",
        "\n",
        "Сохраняем обработанные данные для последующего использования в обучении моделей."
      ]
    },
    {
      "cell_type": "code",
      "execution_count": 27,
      "metadata": {
        "id": "RpOD7NyCpzZy"
      },
      "outputs": [],
      "source": [
        "train.to_csv('../data/processed/train_labels.csv')\n",
        "test.to_csv('../data/processed/test_labels.csv')"
      ]
    },
    {
      "cell_type": "markdown",
      "metadata": {
        "id": "g9UIHXMkxF7e"
      },
      "source": [
        "## Кодирование категориальных признаков\n",
        "\n",
        "Создается функция для обучения `LabelEncoder` на всех целевых метках."
      ]
    },
    {
      "cell_type": "code",
      "execution_count": 28,
      "metadata": {
        "id": "N5hJUHTmp1_s"
      },
      "outputs": [],
      "source": [
        "def get_labelencoder(df_labels):\n",
        "\n",
        "    encoder_verytoxic = LabelEncoder().fit(df_labels[~df_labels['verytoxic'].isnull()]['verytoxic'].values)\n",
        "    encoder_toxic = LabelEncoder().fit(df_labels[~df_labels['toxic'].isnull()]['toxic'].values)\n",
        "    encoder_epa = LabelEncoder().fit(df_labels[~df_labels['EPA_category'].isnull()]['EPA_category'].values)\n",
        "    encoder_ghs = LabelEncoder().fit(df_labels[~df_labels['GHS_category'].isnull()]['GHS_category'].values)\n",
        "\n",
        "    return encoder_verytoxic, encoder_toxic, encoder_epa, encoder_ghs"
      ]
    },
    {
      "cell_type": "markdown",
      "metadata": {
        "id": "GaxJHiWCxKZm"
      },
      "source": [
        " Применение функции кодирования к обучающему набору. Теперь категории представлены числами (например, GHS: 1–5)"
      ]
    },
    {
      "cell_type": "code",
      "execution_count": 29,
      "metadata": {
        "id": "xPKfuoGhp4Cb"
      },
      "outputs": [],
      "source": [
        "encoder_verytoxic, encoder_toxic, encoder_epa, encoder_ghs = get_labelencoder(train)"
      ]
    },
    {
      "cell_type": "markdown",
      "metadata": {
        "id": "3MCWK-b-xNHG"
      },
      "source": [
        "Печать всех уникальных значений (классов), с которыми работали энкодеры"
      ]
    },
    {
      "cell_type": "code",
      "execution_count": 30,
      "metadata": {
        "colab": {
          "base_uri": "https://localhost:8080/"
        },
        "id": "VyCr4sBrp5vM",
        "outputId": "6c074d1d-0f51-4f36-cc64-319b9fd39c9a"
      },
      "outputs": [
        {
          "name": "stdout",
          "output_type": "stream",
          "text": [
            "Very toxic []\n"
          ]
        }
      ],
      "source": [
        "print('Very toxic', encoder_verytoxic.classes_)"
      ]
    },
    {
      "cell_type": "code",
      "execution_count": 31,
      "metadata": {
        "colab": {
          "base_uri": "https://localhost:8080/"
        },
        "id": "QYJhlLF3p74E",
        "outputId": "d9665268-c7c2-4b71-b5ba-c6bea10565ad"
      },
      "outputs": [
        {
          "name": "stdout",
          "output_type": "stream",
          "text": [
            "Toxic [0. 1.]\n"
          ]
        }
      ],
      "source": [
        "print('Toxic', encoder_toxic.classes_)"
      ]
    },
    {
      "cell_type": "code",
      "execution_count": 32,
      "metadata": {
        "colab": {
          "base_uri": "https://localhost:8080/"
        },
        "id": "CtwU61tQp9EG",
        "outputId": "7d3b42ff-8719-4be8-dfdd-d1768d03963a"
      },
      "outputs": [
        {
          "name": "stdout",
          "output_type": "stream",
          "text": [
            "EPA [1. 2. 3. 4.]\n"
          ]
        }
      ],
      "source": [
        "print('EPA', encoder_epa.classes_)"
      ]
    },
    {
      "cell_type": "code",
      "execution_count": 33,
      "metadata": {
        "colab": {
          "base_uri": "https://localhost:8080/"
        },
        "id": "VWYR7F3Op_EJ",
        "outputId": "86d411a2-f041-44e3-8ba1-1872b8a761dd"
      },
      "outputs": [
        {
          "name": "stdout",
          "output_type": "stream",
          "text": [
            "GHS [1. 2. 3. 4. 5.]\n"
          ]
        }
      ],
      "source": [
        "print('GHS', encoder_ghs.classes_)"
      ]
    },
    {
      "cell_type": "markdown",
      "metadata": {
        "id": "k08E0znExWRD"
      },
      "source": [
        "## Сохранение энкодеров\n",
        "\n",
        "Каждый энкодер сохраняется в отдельный `.joblib`-файл для использования в пайплайне обработки данных.\n",
        "\n"
      ]
    },
    {
      "cell_type": "code",
      "execution_count": 34,
      "metadata": {
        "colab": {
          "base_uri": "https://localhost:8080/"
        },
        "id": "o71VzpLs-GWG",
        "outputId": "878c7efa-4551-49bd-ba68-b2a13b088b21"
      },
      "outputs": [
        {
          "data": {
            "text/plain": [
              "['../encoder_models/encoder_ghs.joblib']"
            ]
          },
          "execution_count": 34,
          "metadata": {},
          "output_type": "execute_result"
        }
      ],
      "source": [
        "joblib.dump(encoder_verytoxic, '../encoder_models/encoder_verytoxic.joblib')\n",
        "joblib.dump(encoder_toxic, '../encoder_models/encoder_toxic.joblib')\n",
        "joblib.dump(encoder_epa, '../encoder_models/encoder_epa.joblib')\n",
        "joblib.dump(encoder_ghs, '../encoder_models/encoder_ghs.joblib')"
      ]
    }
  ],
  "metadata": {
    "colab": {
      "provenance": []
    },
    "kernelspec": {
      "display_name": "base",
      "language": "python",
      "name": "python3"
    },
    "language_info": {
      "codemirror_mode": {
        "name": "ipython",
        "version": 3
      },
      "file_extension": ".py",
      "mimetype": "text/x-python",
      "name": "python",
      "nbconvert_exporter": "python",
      "pygments_lexer": "ipython3",
      "version": "3.12.3"
    }
  },
  "nbformat": 4,
  "nbformat_minor": 0
}
