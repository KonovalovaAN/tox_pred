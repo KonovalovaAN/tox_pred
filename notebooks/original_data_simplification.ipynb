{
 "cells": [
  {
   "cell_type": "code",
   "execution_count": 56,
   "id": "a2366f7e",
   "metadata": {},
   "outputs": [],
   "source": [
    "import pandas as pd"
   ]
  },
  {
   "cell_type": "code",
   "execution_count": 57,
   "id": "c2b70cbc",
   "metadata": {},
   "outputs": [],
   "source": [
    "df_train = pd.read_csv(\"../data/row/original_data/train.csv\", sep=\"\\t\", quotechar='\"', na_values=\"NA\")\n",
    "df_test = pd.read_csv(\"../data/row/original_data/test.csv\", sep=\"\\t\", quotechar='\"', na_values=\"NA\")"
   ]
  },
  {
   "cell_type": "code",
   "execution_count": 58,
   "id": "ab996878",
   "metadata": {},
   "outputs": [],
   "source": [
    "new_df_train = df_train[[\"CASRN\", \"EPA_category\", \"GHS_category\", \"LD50_mgkg\", \"nontoxic\", \"very_toxic\", \"Canonical_QSARr\"]]\n",
    "new_df_train = new_df_train.rename(columns={\"Canonical_QSARr\": \"SMILES\"})\n",
    "\n",
    "new_df_test = df_test[[\"CASRN\", \"EPA_category\", \"GHS_category\", \"LD50_mgkg\", \"nontoxic\", \"very_toxic\", \"Canonical_QSARr\"]]\n",
    "new_df_test = new_df_test.rename(columns={\"Canonical_QSARr\": \"SMILES\"})"
   ]
  },
  {
   "cell_type": "code",
   "execution_count": 59,
   "id": "36672bc9",
   "metadata": {},
   "outputs": [],
   "source": [
    "new_df_train[\"EPA_category\"] = new_df_train[\"EPA_category\"].astype(float)\n",
    "new_df_train[\"GHS_category\"] = new_df_train[\"GHS_category\"].astype(float)\n",
    "new_df_train[\"LD50_mgkg\"] = new_df_train[\"LD50_mgkg\"].astype(float)\n",
    "\n",
    "\n",
    "new_df_test[\"EPA_category\"] = new_df_test[\"EPA_category\"].astype(float)\n",
    "new_df_test[\"GHS_category\"] = new_df_test[\"GHS_category\"].astype(float)\n",
    "new_df_test[\"LD50_mgkg\"] = new_df_test[\"LD50_mgkg\"].astype(float)"
   ]
  },
  {
   "cell_type": "code",
   "execution_count": 60,
   "id": "fb705083",
   "metadata": {},
   "outputs": [],
   "source": [
    "new_df_train[\"nontoxic\"] = new_df_train[\"nontoxic\"].map({False: \"False\", True: \"True\"})\n",
    "new_df_train[\"very_toxic\"] = new_df_train[\"very_toxic\"].replace({False: \"False\", True: \"True\"})\n",
    "\n",
    "new_df_test[\"nontoxic\"] = new_df_test[\"nontoxic\"].replace({False: \"False\", True: \"True\"})\n",
    "new_df_test[\"very_toxic\"] = new_df_test[\"very_toxic\"].replace({False: \"False\", True: \"True\"})"
   ]
  },
  {
   "cell_type": "code",
   "execution_count": 61,
   "id": "98a509fb",
   "metadata": {},
   "outputs": [],
   "source": [
    "new_df_train.to_csv(\"../data/row/simplified_data/train.csv\", index=False, columns=[\"CASRN\", \"EPA_category\", \"GHS_category\", \"LD50_mgkg\", \"nontoxic\", \"very_toxic\", \"SMILES\"])\n",
    "\n",
    "new_df_test.to_csv(\"../data/row/simplified_data/test.csv\", index=False, columns=[\"CASRN\", \"EPA_category\", \"GHS_category\", \"LD50_mgkg\", \"nontoxic\", \"very_toxic\", \"SMILES\"])"
   ]
  }
 ],
 "metadata": {
  "kernelspec": {
   "display_name": "base",
   "language": "python",
   "name": "python3"
  },
  "language_info": {
   "codemirror_mode": {
    "name": "ipython",
    "version": 3
   },
   "file_extension": ".py",
   "mimetype": "text/x-python",
   "name": "python",
   "nbconvert_exporter": "python",
   "pygments_lexer": "ipython3",
   "version": "3.12.3"
  }
 },
 "nbformat": 4,
 "nbformat_minor": 5
}
