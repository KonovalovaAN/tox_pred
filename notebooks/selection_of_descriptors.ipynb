{
 "cells": [
  {
   "cell_type": "markdown",
   "id": "dc73c3e7",
   "metadata": {},
   "source": [
    "### Импорт необходимых библиотек\n",
    "\n",
    " Импортируем библиотеки для работы с данными (`pandas`, `numpy`), сериализации (`json`, `joblib`) и предобработки признаков (`VarianceThreshold`, `MinMaxScaler`) из библиотеки `scikit-learn`.\n"
   ]
  },
  {
   "cell_type": "code",
   "execution_count": 21,
   "id": "5aab50ca",
   "metadata": {},
   "outputs": [],
   "source": [
    "import pandas as pd\n",
    "import numpy as np\n",
    "import json\n",
    "\n",
    "from sklearn.feature_selection import VarianceThreshold\n",
    "from sklearn.preprocessing import MinMaxScaler\n",
    "import joblib"
   ]
  },
  {
   "cell_type": "markdown",
   "id": "d2730a9b",
   "metadata": {},
   "source": [
    "### Загрузка обучающих дескрипторов\n",
    "\n",
    "Загружаем различные типы дескрипторов для обучающей выборки по индексному столбцу `CASRN`:\n",
    "- ECFP6 в битовом и количественном представлении\n",
    "- MACCS ключи\n",
    "- RDKit 2D дескрипторы\n",
    "- Mordred дескрипторы\n"
   ]
  },
  {
   "cell_type": "code",
   "execution_count": 22,
   "id": "bcd12dde",
   "metadata": {},
   "outputs": [],
   "source": [
    "train_ecfp6_bits = pd.read_csv('../data/descriptors/train_ecfp6_bits.csv', index_col='CASRN')\n",
    "train_ecfp6_counts = pd.read_csv('../data/descriptors/train_ecfp6_counts.csv', index_col='CASRN')\n",
    "train_maccs = pd.read_csv('../data/descriptors/train_maccs.csv', index_col='CASRN')\n",
    "train_rdkit2d = pd.read_csv('../data/descriptors/train_rdkit2d.csv', index_col='CASRN')\n",
    "train_mordred = pd.read_csv('../data/descriptors/train_mordred.csv', index_col='CASRN')"
   ]
  },
  {
   "cell_type": "markdown",
   "id": "303ebc86",
   "metadata": {},
   "source": [
    "### Функция для отбора признаков\n",
    "\n",
    "Определяем функцию `feature_selection`, которая удаляет признаки с нулевой дисперсией и высоко коррелированные признаки (порог по умолчанию — 0.95). Это помогает уменьшить размерность и избежать мультиколлинеарности.\n"
   ]
  },
  {
   "cell_type": "code",
   "execution_count": 23,
   "id": "fab3e09c",
   "metadata": {},
   "outputs": [],
   "source": [
    "def feature_selection(df, nonzero_thrd = 0.0, cor_thrd = 0.95):\n",
    "\n",
    "    selector = VarianceThreshold(nonzero_thrd)\n",
    "    selector.fit(df)\n",
    "    nonzero_df = df[df.columns[selector.get_support(indices=True)]]\n",
    "    corr_matrix = nonzero_df.corr().abs()\n",
    "    upper = corr_matrix.where(np.triu(np.ones(corr_matrix.shape), k=1).astype(bool))\n",
    "    to_drop = [column for column in upper.columns if any(upper[column] > cor_thrd)]\n",
    "    \n",
    "    return nonzero_df.drop(nonzero_df[to_drop], axis=1)"
   ]
  },
  {
   "cell_type": "markdown",
   "id": "6bb9edfe",
   "metadata": {},
   "source": [
    "### Применение отбора признаков к обучающим данным\n",
    "\n",
    "Применяем функцию `feature_selection` ко всем обучающим дескрипторам и выводим размеры отфильтрованных наборов признаков.\n"
   ]
  },
  {
   "cell_type": "code",
   "execution_count": 24,
   "id": "85d7e2a9",
   "metadata": {},
   "outputs": [],
   "source": [
    "filtered_train_ecfp6_bits = feature_selection(train_ecfp6_bits)\n",
    "filtered_train_ecfp6_counts = feature_selection(train_ecfp6_counts)\n",
    "filtered_train_maccs = feature_selection(train_maccs)\n",
    "filtered_train_rdkit2d = feature_selection(train_rdkit2d)\n",
    "filtered_train_mordred = feature_selection(train_mordred)"
   ]
  },
  {
   "cell_type": "code",
   "execution_count": 25,
   "id": "da77435b",
   "metadata": {},
   "outputs": [
    {
     "data": {
      "text/plain": [
       "((8221, 2048), (8221, 1561), (8221, 145))"
      ]
     },
     "execution_count": 25,
     "metadata": {},
     "output_type": "execute_result"
    }
   ],
   "source": [
    "filtered_train_ecfp6_bits.shape, filtered_train_ecfp6_counts.shape,filtered_train_maccs.shape"
   ]
  },
  {
   "cell_type": "code",
   "execution_count": 26,
   "id": "28d9c37d",
   "metadata": {},
   "outputs": [
    {
     "data": {
      "text/plain": [
       "((8221, 462), (8221, 165))"
      ]
     },
     "execution_count": 26,
     "metadata": {},
     "output_type": "execute_result"
    }
   ],
   "source": [
    "filtered_train_mordred.shape, filtered_train_rdkit2d.shape"
   ]
  },
  {
   "cell_type": "markdown",
   "id": "bd217475",
   "metadata": {},
   "source": [
    "Создаём словарь `dict_features`, в котором для каждого типа дескрипторов сохраняем список имён признаков, прошедших отбор. Сохраняем этот словарь в JSON-файл для последующего использования при обработке тестовых данных.\n"
   ]
  },
  {
   "cell_type": "code",
   "execution_count": 27,
   "id": "1175c694",
   "metadata": {},
   "outputs": [],
   "source": [
    "desc = ['ecfp6_bits', 'ecfp6_counts', 'maccs', 'rdkit2d', 'mordred']\n",
    "filtered_features = [\n",
    "    list(filtered_train_ecfp6_bits),\n",
    "    list(filtered_train_ecfp6_counts),\n",
    "    list(filtered_train_maccs),\n",
    "    list(filtered_train_rdkit2d),\n",
    "    list(filtered_train_mordred),\n",
    "]\n",
    "\n",
    "dict_features = dict(zip(desc, filtered_features))"
   ]
  },
  {
   "cell_type": "markdown",
   "id": "eb39bcac",
   "metadata": {},
   "source": [
    "### Сохранение отобранных признаков"
   ]
  },
  {
   "cell_type": "code",
   "execution_count": 28,
   "id": "3fd63b3c",
   "metadata": {},
   "outputs": [],
   "source": [
    "with open('../data/descriptors/filtered_features.json', 'w') as f:\n",
    "    json.dump(dict_features, f)\n"
   ]
  },
  {
   "cell_type": "markdown",
   "id": "251f0c15",
   "metadata": {},
   "source": [
    "### Нормализация числовых признаков\n",
    "\n",
    "Определяем две функции:\n",
    "- `feature_norm_fit` — выполняет масштабирование признаков обучающей выборки в диапазон [0, 1] и возвращает обученный `MinMaxScaler`. \n",
    "\n",
    "- `feature_norm_transform` — масштабирует тестовые признаки с использованием уже обученного скейлера.\n",
    "Нормализация применяется только к дескрипторам `rdkit2d` и `mordred`.\n"
   ]
  },
  {
   "cell_type": "code",
   "execution_count": 29,
   "id": "346787c4",
   "metadata": {},
   "outputs": [],
   "source": [
    "def feature_norm_fit(train_df , scaler = MinMaxScaler()):\n",
    "    array =  train_df.values\n",
    "    df_norm = pd.DataFrame(scaler.fit_transform(array), columns=train_df.columns, index=train_df.index)\n",
    "    return df_norm, scaler"
   ]
  },
  {
   "cell_type": "code",
   "execution_count": 30,
   "id": "e42c7544",
   "metadata": {},
   "outputs": [],
   "source": [
    "def feature_norm_transform(test_df, scaler):\n",
    "    array =  test_df.values\n",
    "    df_norm = pd.DataFrame(scaler.transform(array), columns=test_df.columns, index=test_df.index)\n",
    "    return df_norm  "
   ]
  },
  {
   "cell_type": "markdown",
   "id": "ae729067",
   "metadata": {},
   "source": [
    "### Нормализация и сохранение скейлера для RDKit2D\n",
    "\n",
    "Применяем нормализацию к отфильтрованным RDKit2D дескрипторам и сохраняем обученный `MinMaxScaler` с помощью `joblib`.\n"
   ]
  },
  {
   "cell_type": "code",
   "execution_count": 31,
   "id": "de6d21b5",
   "metadata": {},
   "outputs": [],
   "source": [
    "norm_train_rdkit2d, scaler_rdkit2d = feature_norm_fit(filtered_train_rdkit2d)"
   ]
  },
  {
   "cell_type": "code",
   "execution_count": 32,
   "id": "49cb4987",
   "metadata": {},
   "outputs": [
    {
     "data": {
      "text/plain": [
       "<bound method BaseEstimator.get_params of MinMaxScaler()>"
      ]
     },
     "execution_count": 32,
     "metadata": {},
     "output_type": "execute_result"
    }
   ],
   "source": [
    "scaler_rdkit2d.get_params"
   ]
  },
  {
   "cell_type": "code",
   "execution_count": 33,
   "id": "5d42475a",
   "metadata": {},
   "outputs": [
    {
     "data": {
      "text/html": [
       "<div>\n",
       "<style scoped>\n",
       "    .dataframe tbody tr th:only-of-type {\n",
       "        vertical-align: middle;\n",
       "    }\n",
       "\n",
       "    .dataframe tbody tr th {\n",
       "        vertical-align: top;\n",
       "    }\n",
       "\n",
       "    .dataframe thead th {\n",
       "        text-align: right;\n",
       "    }\n",
       "</style>\n",
       "<table border=\"1\" class=\"dataframe\">\n",
       "  <thead>\n",
       "    <tr style=\"text-align: right;\">\n",
       "      <th></th>\n",
       "      <th>BalabanJ</th>\n",
       "      <th>BertzCT</th>\n",
       "      <th>Chi0</th>\n",
       "      <th>Chi3v</th>\n",
       "      <th>EState_VSA1</th>\n",
       "      <th>EState_VSA10</th>\n",
       "      <th>EState_VSA11</th>\n",
       "      <th>EState_VSA2</th>\n",
       "      <th>EState_VSA3</th>\n",
       "      <th>EState_VSA4</th>\n",
       "      <th>...</th>\n",
       "      <th>fr_sulfonamd</th>\n",
       "      <th>fr_sulfone</th>\n",
       "      <th>fr_term_acetylene</th>\n",
       "      <th>fr_tetrazole</th>\n",
       "      <th>fr_thiazole</th>\n",
       "      <th>fr_thiocyan</th>\n",
       "      <th>fr_thiophene</th>\n",
       "      <th>fr_unbrch_alkane</th>\n",
       "      <th>fr_urea</th>\n",
       "      <th>qed</th>\n",
       "    </tr>\n",
       "    <tr>\n",
       "      <th>CASRN</th>\n",
       "      <th></th>\n",
       "      <th></th>\n",
       "      <th></th>\n",
       "      <th></th>\n",
       "      <th></th>\n",
       "      <th></th>\n",
       "      <th></th>\n",
       "      <th></th>\n",
       "      <th></th>\n",
       "      <th></th>\n",
       "      <th></th>\n",
       "      <th></th>\n",
       "      <th></th>\n",
       "      <th></th>\n",
       "      <th></th>\n",
       "      <th></th>\n",
       "      <th></th>\n",
       "      <th></th>\n",
       "      <th></th>\n",
       "      <th></th>\n",
       "      <th></th>\n",
       "    </tr>\n",
       "  </thead>\n",
       "  <tbody>\n",
       "    <tr>\n",
       "      <th>23233-88-7</th>\n",
       "      <td>0.286258</td>\n",
       "      <td>0.112142</td>\n",
       "      <td>0.133237</td>\n",
       "      <td>0.157641</td>\n",
       "      <td>0.018166</td>\n",
       "      <td>0.040446</td>\n",
       "      <td>0.0</td>\n",
       "      <td>0.0</td>\n",
       "      <td>0.086767</td>\n",
       "      <td>0.05297</td>\n",
       "      <td>...</td>\n",
       "      <td>0.0</td>\n",
       "      <td>0.0</td>\n",
       "      <td>0.0</td>\n",
       "      <td>0.0</td>\n",
       "      <td>0.0</td>\n",
       "      <td>0.0</td>\n",
       "      <td>0.0</td>\n",
       "      <td>0.0</td>\n",
       "      <td>0.0</td>\n",
       "      <td>0.382204</td>\n",
       "    </tr>\n",
       "  </tbody>\n",
       "</table>\n",
       "<p>1 rows × 165 columns</p>\n",
       "</div>"
      ],
      "text/plain": [
       "            BalabanJ   BertzCT      Chi0     Chi3v  EState_VSA1  EState_VSA10  \\\n",
       "CASRN                                                                           \n",
       "23233-88-7  0.286258  0.112142  0.133237  0.157641     0.018166      0.040446   \n",
       "\n",
       "            EState_VSA11  EState_VSA2  EState_VSA3  EState_VSA4  ...  \\\n",
       "CASRN                                                            ...   \n",
       "23233-88-7           0.0          0.0     0.086767      0.05297  ...   \n",
       "\n",
       "            fr_sulfonamd  fr_sulfone  fr_term_acetylene  fr_tetrazole  \\\n",
       "CASRN                                                                   \n",
       "23233-88-7           0.0         0.0                0.0           0.0   \n",
       "\n",
       "            fr_thiazole  fr_thiocyan  fr_thiophene  fr_unbrch_alkane  fr_urea  \\\n",
       "CASRN                                                                           \n",
       "23233-88-7          0.0          0.0           0.0               0.0      0.0   \n",
       "\n",
       "                 qed  \n",
       "CASRN                 \n",
       "23233-88-7  0.382204  \n",
       "\n",
       "[1 rows x 165 columns]"
      ]
     },
     "execution_count": 33,
     "metadata": {},
     "output_type": "execute_result"
    }
   ],
   "source": [
    "norm_train_rdkit2d.head(1)"
   ]
  },
  {
   "cell_type": "code",
   "execution_count": 34,
   "id": "c3aba9a4",
   "metadata": {},
   "outputs": [
    {
     "data": {
      "text/plain": [
       "['../data/Descriptors/scaler_rdkit2d.pkl']"
      ]
     },
     "execution_count": 34,
     "metadata": {},
     "output_type": "execute_result"
    }
   ],
   "source": [
    "joblib.dump(scaler_rdkit2d, '../data/Descriptors/scaler_rdkit2d.pkl') "
   ]
  },
  {
   "cell_type": "code",
   "execution_count": 35,
   "id": "8b2afdf3",
   "metadata": {},
   "outputs": [],
   "source": [
    "test_scaler = joblib.load('../data/Descriptors/scaler_rdkit2d.pkl')"
   ]
  },
  {
   "cell_type": "code",
   "execution_count": 36,
   "id": "54e272b8",
   "metadata": {},
   "outputs": [],
   "source": [
    "test_rdkit2d = feature_norm_transform(filtered_train_rdkit2d, test_scaler)"
   ]
  },
  {
   "cell_type": "code",
   "execution_count": 37,
   "id": "8292dd33",
   "metadata": {},
   "outputs": [
    {
     "data": {
      "text/html": [
       "<div>\n",
       "<style scoped>\n",
       "    .dataframe tbody tr th:only-of-type {\n",
       "        vertical-align: middle;\n",
       "    }\n",
       "\n",
       "    .dataframe tbody tr th {\n",
       "        vertical-align: top;\n",
       "    }\n",
       "\n",
       "    .dataframe thead th {\n",
       "        text-align: right;\n",
       "    }\n",
       "</style>\n",
       "<table border=\"1\" class=\"dataframe\">\n",
       "  <thead>\n",
       "    <tr style=\"text-align: right;\">\n",
       "      <th></th>\n",
       "      <th>BalabanJ</th>\n",
       "      <th>BertzCT</th>\n",
       "      <th>Chi0</th>\n",
       "      <th>Chi3v</th>\n",
       "      <th>EState_VSA1</th>\n",
       "      <th>EState_VSA10</th>\n",
       "      <th>EState_VSA11</th>\n",
       "      <th>EState_VSA2</th>\n",
       "      <th>EState_VSA3</th>\n",
       "      <th>EState_VSA4</th>\n",
       "      <th>...</th>\n",
       "      <th>fr_sulfonamd</th>\n",
       "      <th>fr_sulfone</th>\n",
       "      <th>fr_term_acetylene</th>\n",
       "      <th>fr_tetrazole</th>\n",
       "      <th>fr_thiazole</th>\n",
       "      <th>fr_thiocyan</th>\n",
       "      <th>fr_thiophene</th>\n",
       "      <th>fr_unbrch_alkane</th>\n",
       "      <th>fr_urea</th>\n",
       "      <th>qed</th>\n",
       "    </tr>\n",
       "    <tr>\n",
       "      <th>CASRN</th>\n",
       "      <th></th>\n",
       "      <th></th>\n",
       "      <th></th>\n",
       "      <th></th>\n",
       "      <th></th>\n",
       "      <th></th>\n",
       "      <th></th>\n",
       "      <th></th>\n",
       "      <th></th>\n",
       "      <th></th>\n",
       "      <th></th>\n",
       "      <th></th>\n",
       "      <th></th>\n",
       "      <th></th>\n",
       "      <th></th>\n",
       "      <th></th>\n",
       "      <th></th>\n",
       "      <th></th>\n",
       "      <th></th>\n",
       "      <th></th>\n",
       "      <th></th>\n",
       "    </tr>\n",
       "  </thead>\n",
       "  <tbody>\n",
       "    <tr>\n",
       "      <th>23233-88-7</th>\n",
       "      <td>0.286258</td>\n",
       "      <td>0.112142</td>\n",
       "      <td>0.133237</td>\n",
       "      <td>0.157641</td>\n",
       "      <td>0.018166</td>\n",
       "      <td>0.040446</td>\n",
       "      <td>0.0</td>\n",
       "      <td>0.0</td>\n",
       "      <td>0.086767</td>\n",
       "      <td>0.05297</td>\n",
       "      <td>...</td>\n",
       "      <td>0.0</td>\n",
       "      <td>0.0</td>\n",
       "      <td>0.0</td>\n",
       "      <td>0.0</td>\n",
       "      <td>0.0</td>\n",
       "      <td>0.0</td>\n",
       "      <td>0.0</td>\n",
       "      <td>0.0</td>\n",
       "      <td>0.0</td>\n",
       "      <td>0.382204</td>\n",
       "    </tr>\n",
       "  </tbody>\n",
       "</table>\n",
       "<p>1 rows × 165 columns</p>\n",
       "</div>"
      ],
      "text/plain": [
       "            BalabanJ   BertzCT      Chi0     Chi3v  EState_VSA1  EState_VSA10  \\\n",
       "CASRN                                                                           \n",
       "23233-88-7  0.286258  0.112142  0.133237  0.157641     0.018166      0.040446   \n",
       "\n",
       "            EState_VSA11  EState_VSA2  EState_VSA3  EState_VSA4  ...  \\\n",
       "CASRN                                                            ...   \n",
       "23233-88-7           0.0          0.0     0.086767      0.05297  ...   \n",
       "\n",
       "            fr_sulfonamd  fr_sulfone  fr_term_acetylene  fr_tetrazole  \\\n",
       "CASRN                                                                   \n",
       "23233-88-7           0.0         0.0                0.0           0.0   \n",
       "\n",
       "            fr_thiazole  fr_thiocyan  fr_thiophene  fr_unbrch_alkane  fr_urea  \\\n",
       "CASRN                                                                           \n",
       "23233-88-7          0.0          0.0           0.0               0.0      0.0   \n",
       "\n",
       "                 qed  \n",
       "CASRN                 \n",
       "23233-88-7  0.382204  \n",
       "\n",
       "[1 rows x 165 columns]"
      ]
     },
     "execution_count": 37,
     "metadata": {},
     "output_type": "execute_result"
    }
   ],
   "source": [
    "test_rdkit2d.head(1) "
   ]
  },
  {
   "cell_type": "code",
   "execution_count": 38,
   "id": "6d16e0a1",
   "metadata": {},
   "outputs": [
    {
     "data": {
      "text/plain": [
       "['../data/descriptors/scaler_mordred.pkl']"
      ]
     },
     "execution_count": 38,
     "metadata": {},
     "output_type": "execute_result"
    }
   ],
   "source": [
    "norm_train_mordred, scaler_mordred = feature_norm_fit(filtered_train_mordred)\n",
    "joblib.dump(scaler_mordred, '../data/descriptors/scaler_mordred.pkl')"
   ]
  },
  {
   "cell_type": "code",
   "execution_count": 39,
   "id": "b9dbd7d5",
   "metadata": {},
   "outputs": [],
   "source": [
    "test_scaler_mordred = joblib.load('../data/descriptors/scaler_mordred.pkl')"
   ]
  },
  {
   "cell_type": "code",
   "execution_count": 40,
   "id": "1e11a0e3",
   "metadata": {},
   "outputs": [
    {
     "data": {
      "text/html": [
       "<div>\n",
       "<style scoped>\n",
       "    .dataframe tbody tr th:only-of-type {\n",
       "        vertical-align: middle;\n",
       "    }\n",
       "\n",
       "    .dataframe tbody tr th {\n",
       "        vertical-align: top;\n",
       "    }\n",
       "\n",
       "    .dataframe thead th {\n",
       "        text-align: right;\n",
       "    }\n",
       "</style>\n",
       "<table border=\"1\" class=\"dataframe\">\n",
       "  <thead>\n",
       "    <tr style=\"text-align: right;\">\n",
       "      <th></th>\n",
       "      <th>nAcid</th>\n",
       "      <th>nBase</th>\n",
       "      <th>SpAbs_A</th>\n",
       "      <th>SpMax_A</th>\n",
       "      <th>SpMAD_A</th>\n",
       "      <th>LogEE_A</th>\n",
       "      <th>VE1_A</th>\n",
       "      <th>VR1_A</th>\n",
       "      <th>nAromAtom</th>\n",
       "      <th>nAtom</th>\n",
       "      <th>...</th>\n",
       "      <th>JGI6</th>\n",
       "      <th>JGI7</th>\n",
       "      <th>JGI8</th>\n",
       "      <th>JGI9</th>\n",
       "      <th>JGI10</th>\n",
       "      <th>JGT10</th>\n",
       "      <th>SRW03</th>\n",
       "      <th>SRW05</th>\n",
       "      <th>TSRW10</th>\n",
       "      <th>WPath</th>\n",
       "    </tr>\n",
       "    <tr>\n",
       "      <th>CASRN</th>\n",
       "      <th></th>\n",
       "      <th></th>\n",
       "      <th></th>\n",
       "      <th></th>\n",
       "      <th></th>\n",
       "      <th></th>\n",
       "      <th></th>\n",
       "      <th></th>\n",
       "      <th></th>\n",
       "      <th></th>\n",
       "      <th></th>\n",
       "      <th></th>\n",
       "      <th></th>\n",
       "      <th></th>\n",
       "      <th></th>\n",
       "      <th></th>\n",
       "      <th></th>\n",
       "      <th></th>\n",
       "      <th></th>\n",
       "      <th></th>\n",
       "      <th></th>\n",
       "    </tr>\n",
       "  </thead>\n",
       "  <tbody>\n",
       "    <tr>\n",
       "      <th>23233-88-7</th>\n",
       "      <td>0.0</td>\n",
       "      <td>0.0</td>\n",
       "      <td>0.13119</td>\n",
       "      <td>0.749405</td>\n",
       "      <td>0.859231</td>\n",
       "      <td>0.622256</td>\n",
       "      <td>0.397997</td>\n",
       "      <td>1.990715e-08</td>\n",
       "      <td>0.25</td>\n",
       "      <td>0.096346</td>\n",
       "      <td>...</td>\n",
       "      <td>0.363075</td>\n",
       "      <td>0.241979</td>\n",
       "      <td>0.338535</td>\n",
       "      <td>0.456364</td>\n",
       "      <td>0.471193</td>\n",
       "      <td>0.540906</td>\n",
       "      <td>0.0</td>\n",
       "      <td>0.0</td>\n",
       "      <td>0.244308</td>\n",
       "      <td>0.004741</td>\n",
       "    </tr>\n",
       "  </tbody>\n",
       "</table>\n",
       "<p>1 rows × 462 columns</p>\n",
       "</div>"
      ],
      "text/plain": [
       "            nAcid  nBase  SpAbs_A   SpMax_A   SpMAD_A   LogEE_A     VE1_A  \\\n",
       "CASRN                                                                       \n",
       "23233-88-7    0.0    0.0  0.13119  0.749405  0.859231  0.622256  0.397997   \n",
       "\n",
       "                   VR1_A  nAromAtom     nAtom  ...      JGI6      JGI7  \\\n",
       "CASRN                                          ...                       \n",
       "23233-88-7  1.990715e-08       0.25  0.096346  ...  0.363075  0.241979   \n",
       "\n",
       "                JGI8      JGI9     JGI10     JGT10  SRW03  SRW05    TSRW10  \\\n",
       "CASRN                                                                        \n",
       "23233-88-7  0.338535  0.456364  0.471193  0.540906    0.0    0.0  0.244308   \n",
       "\n",
       "               WPath  \n",
       "CASRN                 \n",
       "23233-88-7  0.004741  \n",
       "\n",
       "[1 rows x 462 columns]"
      ]
     },
     "execution_count": 40,
     "metadata": {},
     "output_type": "execute_result"
    }
   ],
   "source": [
    "test_mordred = feature_norm_transform(filtered_train_mordred, test_scaler_mordred)\n",
    "test_mordred.head(1)"
   ]
  },
  {
   "cell_type": "code",
   "execution_count": 41,
   "id": "540eec58",
   "metadata": {},
   "outputs": [
    {
     "data": {
      "text/html": [
       "<div>\n",
       "<style scoped>\n",
       "    .dataframe tbody tr th:only-of-type {\n",
       "        vertical-align: middle;\n",
       "    }\n",
       "\n",
       "    .dataframe tbody tr th {\n",
       "        vertical-align: top;\n",
       "    }\n",
       "\n",
       "    .dataframe thead th {\n",
       "        text-align: right;\n",
       "    }\n",
       "</style>\n",
       "<table border=\"1\" class=\"dataframe\">\n",
       "  <thead>\n",
       "    <tr style=\"text-align: right;\">\n",
       "      <th></th>\n",
       "      <th>nAcid</th>\n",
       "      <th>nBase</th>\n",
       "      <th>SpAbs_A</th>\n",
       "      <th>SpMax_A</th>\n",
       "      <th>SpMAD_A</th>\n",
       "      <th>LogEE_A</th>\n",
       "      <th>VE1_A</th>\n",
       "      <th>VR1_A</th>\n",
       "      <th>nAromAtom</th>\n",
       "      <th>nAtom</th>\n",
       "      <th>...</th>\n",
       "      <th>JGI6</th>\n",
       "      <th>JGI7</th>\n",
       "      <th>JGI8</th>\n",
       "      <th>JGI9</th>\n",
       "      <th>JGI10</th>\n",
       "      <th>JGT10</th>\n",
       "      <th>SRW03</th>\n",
       "      <th>SRW05</th>\n",
       "      <th>TSRW10</th>\n",
       "      <th>WPath</th>\n",
       "    </tr>\n",
       "    <tr>\n",
       "      <th>CASRN</th>\n",
       "      <th></th>\n",
       "      <th></th>\n",
       "      <th></th>\n",
       "      <th></th>\n",
       "      <th></th>\n",
       "      <th></th>\n",
       "      <th></th>\n",
       "      <th></th>\n",
       "      <th></th>\n",
       "      <th></th>\n",
       "      <th></th>\n",
       "      <th></th>\n",
       "      <th></th>\n",
       "      <th></th>\n",
       "      <th></th>\n",
       "      <th></th>\n",
       "      <th></th>\n",
       "      <th></th>\n",
       "      <th></th>\n",
       "      <th></th>\n",
       "      <th></th>\n",
       "    </tr>\n",
       "  </thead>\n",
       "  <tbody>\n",
       "    <tr>\n",
       "      <th>23233-88-7</th>\n",
       "      <td>0.0</td>\n",
       "      <td>0.0</td>\n",
       "      <td>0.13119</td>\n",
       "      <td>0.749405</td>\n",
       "      <td>0.859231</td>\n",
       "      <td>0.622256</td>\n",
       "      <td>0.397997</td>\n",
       "      <td>1.990715e-08</td>\n",
       "      <td>0.25</td>\n",
       "      <td>0.096346</td>\n",
       "      <td>...</td>\n",
       "      <td>0.363075</td>\n",
       "      <td>0.241979</td>\n",
       "      <td>0.338535</td>\n",
       "      <td>0.456364</td>\n",
       "      <td>0.471193</td>\n",
       "      <td>0.540906</td>\n",
       "      <td>0.0</td>\n",
       "      <td>0.0</td>\n",
       "      <td>0.244308</td>\n",
       "      <td>0.004741</td>\n",
       "    </tr>\n",
       "  </tbody>\n",
       "</table>\n",
       "<p>1 rows × 462 columns</p>\n",
       "</div>"
      ],
      "text/plain": [
       "            nAcid  nBase  SpAbs_A   SpMax_A   SpMAD_A   LogEE_A     VE1_A  \\\n",
       "CASRN                                                                       \n",
       "23233-88-7    0.0    0.0  0.13119  0.749405  0.859231  0.622256  0.397997   \n",
       "\n",
       "                   VR1_A  nAromAtom     nAtom  ...      JGI6      JGI7  \\\n",
       "CASRN                                          ...                       \n",
       "23233-88-7  1.990715e-08       0.25  0.096346  ...  0.363075  0.241979   \n",
       "\n",
       "                JGI8      JGI9     JGI10     JGT10  SRW03  SRW05    TSRW10  \\\n",
       "CASRN                                                                        \n",
       "23233-88-7  0.338535  0.456364  0.471193  0.540906    0.0    0.0  0.244308   \n",
       "\n",
       "               WPath  \n",
       "CASRN                 \n",
       "23233-88-7  0.004741  \n",
       "\n",
       "[1 rows x 462 columns]"
      ]
     },
     "execution_count": 41,
     "metadata": {},
     "output_type": "execute_result"
    }
   ],
   "source": [
    "norm_train_mordred.head(1)"
   ]
  },
  {
   "cell_type": "code",
   "execution_count": 43,
   "id": "bd6f64a4",
   "metadata": {},
   "outputs": [],
   "source": [
    "filtered_train_ecfp6_bits.to_csv('../data/Bmodel_features/modeling_train_ecfp6_bits.csv')\n",
    "filtered_train_ecfp6_counts.to_csv('../data/Bmodel_features/modeling_train_ecfp6_counts.csv')\n",
    "filtered_train_maccs.to_csv('../data/Bmodel_features/modeling_train_maccs.csv')\n",
    "norm_train_rdkit2d.to_csv('../data/Bmodel_features/modeling_train_rdkit2d.csv')\n",
    "norm_train_mordred.to_csv('../data/Bmodel_features/modeling_train_mordred.csv')"
   ]
  },
  {
   "cell_type": "markdown",
   "id": "72e2eac5",
   "metadata": {},
   "source": [
    "Now Let's handle the test features"
   ]
  },
  {
   "cell_type": "code",
   "execution_count": 46,
   "id": "e2479a7d",
   "metadata": {},
   "outputs": [],
   "source": [
    "def test_feature(df, feature, scaler = None):\n",
    "    '''\n",
    "    transform the raw (computed) feature into the fowmat ready for modeling.\n",
    "    \n",
    "    df: test features\n",
    "    scaler: for rdkit2d and mordred\n",
    "    feature: name of the feature ['ecfp6_bits', 'ecfp6_counts', 'maccs', 'rdkit2d', 'mordred']\n",
    "    '''\n",
    "    \n",
    "    with open('../data/Descriptors/filtered_features.json') as f:\n",
    "        dict_features = json.load(f)\n",
    "        \n",
    "    if feature not in dict_features.keys():\n",
    "        raise Exception(f'The feature **{feature}** is not support, please choose from [ecfp6_bits, ecfp6_counts, maccs, rdkit2d, mordred]')\n",
    "        \n",
    "    filtered_desc = dict_features[feature]\n",
    "    df = df[filtered_desc]\n",
    "    \n",
    "    if scaler:\n",
    "        df = feature_norm_transform(df, scaler)\n",
    "    \n",
    "    return df"
   ]
  },
  {
   "cell_type": "code",
   "execution_count": 47,
   "id": "8d9f15c8",
   "metadata": {},
   "outputs": [],
   "source": [
    "# import all the test data\n",
    "test_ecfp6_bits = pd.read_csv('../data/Descriptors/test_ecfp6_bits.csv', index_col='CASRN')\n",
    "test_ecfp6_counts = pd.read_csv('../data/Descriptors/test_ecfp6_counts.csv', index_col='CASRN')\n",
    "test_maccs = pd.read_csv('../data/Descriptors/test_maccs.csv', index_col='CASRN')\n",
    "test_rdkit2d = pd.read_csv('../data/Descriptors/test_rdkit2d.csv', index_col='CASRN')\n",
    "test_mordred = pd.read_csv('../data/Descriptors/test_mordred.csv', index_col='CASRN')"
   ]
  },
  {
   "cell_type": "code",
   "execution_count": 48,
   "id": "1875ed37",
   "metadata": {},
   "outputs": [],
   "source": [
    "filtered_test_ecfp6_bits = test_feature(test_ecfp6_bits, 'ecfp6_bits')\n",
    "filtered_test_ecfp6_counts = test_feature(test_ecfp6_counts, 'ecfp6_counts')\n",
    "filtered_test_maccs = test_feature(test_maccs, 'maccs')"
   ]
  },
  {
   "cell_type": "code",
   "execution_count": 49,
   "id": "c6ec01d6",
   "metadata": {},
   "outputs": [
    {
     "data": {
      "text/plain": [
       "((2849, 2048), (2849, 1561), (2849, 145))"
      ]
     },
     "execution_count": 49,
     "metadata": {},
     "output_type": "execute_result"
    }
   ],
   "source": [
    "filtered_test_ecfp6_bits.shape, filtered_test_ecfp6_counts.shape, filtered_test_maccs.shape"
   ]
  },
  {
   "cell_type": "code",
   "execution_count": 50,
   "id": "ece645c6",
   "metadata": {},
   "outputs": [],
   "source": [
    "scaler_mordred = joblib.load('../data/descriptors/scaler_mordred.pkl')\n",
    "scaler_rdkit2d = joblib.load('../data/descriptors/scaler_rdkit2d.pkl') "
   ]
  },
  {
   "cell_type": "code",
   "execution_count": 51,
   "id": "a574fbb0",
   "metadata": {},
   "outputs": [],
   "source": [
    "filtered_test_rdkit2d = test_feature(test_rdkit2d, 'rdkit2d', scaler_rdkit2d)"
   ]
  },
  {
   "cell_type": "code",
   "execution_count": 52,
   "id": "38469067",
   "metadata": {},
   "outputs": [
    {
     "data": {
      "text/html": [
       "<div>\n",
       "<style scoped>\n",
       "    .dataframe tbody tr th:only-of-type {\n",
       "        vertical-align: middle;\n",
       "    }\n",
       "\n",
       "    .dataframe tbody tr th {\n",
       "        vertical-align: top;\n",
       "    }\n",
       "\n",
       "    .dataframe thead th {\n",
       "        text-align: right;\n",
       "    }\n",
       "</style>\n",
       "<table border=\"1\" class=\"dataframe\">\n",
       "  <thead>\n",
       "    <tr style=\"text-align: right;\">\n",
       "      <th></th>\n",
       "      <th>BalabanJ</th>\n",
       "      <th>BertzCT</th>\n",
       "      <th>Chi0</th>\n",
       "      <th>Chi3v</th>\n",
       "      <th>EState_VSA1</th>\n",
       "      <th>EState_VSA10</th>\n",
       "      <th>EState_VSA11</th>\n",
       "      <th>EState_VSA2</th>\n",
       "      <th>EState_VSA3</th>\n",
       "      <th>EState_VSA4</th>\n",
       "      <th>...</th>\n",
       "      <th>fr_sulfonamd</th>\n",
       "      <th>fr_sulfone</th>\n",
       "      <th>fr_term_acetylene</th>\n",
       "      <th>fr_tetrazole</th>\n",
       "      <th>fr_thiazole</th>\n",
       "      <th>fr_thiocyan</th>\n",
       "      <th>fr_thiophene</th>\n",
       "      <th>fr_unbrch_alkane</th>\n",
       "      <th>fr_urea</th>\n",
       "      <th>qed</th>\n",
       "    </tr>\n",
       "    <tr>\n",
       "      <th>CASRN</th>\n",
       "      <th></th>\n",
       "      <th></th>\n",
       "      <th></th>\n",
       "      <th></th>\n",
       "      <th></th>\n",
       "      <th></th>\n",
       "      <th></th>\n",
       "      <th></th>\n",
       "      <th></th>\n",
       "      <th></th>\n",
       "      <th></th>\n",
       "      <th></th>\n",
       "      <th></th>\n",
       "      <th></th>\n",
       "      <th></th>\n",
       "      <th></th>\n",
       "      <th></th>\n",
       "      <th></th>\n",
       "      <th></th>\n",
       "      <th></th>\n",
       "      <th></th>\n",
       "    </tr>\n",
       "  </thead>\n",
       "  <tbody>\n",
       "    <tr>\n",
       "      <th>130209-82-4</th>\n",
       "      <td>0.207313</td>\n",
       "      <td>0.100235</td>\n",
       "      <td>0.185335</td>\n",
       "      <td>0.22792</td>\n",
       "      <td>0.055726</td>\n",
       "      <td>0.16968</td>\n",
       "      <td>0.0</td>\n",
       "      <td>0.195699</td>\n",
       "      <td>0.129578</td>\n",
       "      <td>0.100139</td>\n",
       "      <td>...</td>\n",
       "      <td>0.0</td>\n",
       "      <td>0.0</td>\n",
       "      <td>0.0</td>\n",
       "      <td>0.0</td>\n",
       "      <td>0.0</td>\n",
       "      <td>0.0</td>\n",
       "      <td>0.0</td>\n",
       "      <td>0.012987</td>\n",
       "      <td>0.0</td>\n",
       "      <td>0.254728</td>\n",
       "    </tr>\n",
       "  </tbody>\n",
       "</table>\n",
       "<p>1 rows × 165 columns</p>\n",
       "</div>"
      ],
      "text/plain": [
       "             BalabanJ   BertzCT      Chi0    Chi3v  EState_VSA1  EState_VSA10  \\\n",
       "CASRN                                                                           \n",
       "130209-82-4  0.207313  0.100235  0.185335  0.22792     0.055726       0.16968   \n",
       "\n",
       "             EState_VSA11  EState_VSA2  EState_VSA3  EState_VSA4  ...  \\\n",
       "CASRN                                                             ...   \n",
       "130209-82-4           0.0     0.195699     0.129578     0.100139  ...   \n",
       "\n",
       "             fr_sulfonamd  fr_sulfone  fr_term_acetylene  fr_tetrazole  \\\n",
       "CASRN                                                                    \n",
       "130209-82-4           0.0         0.0                0.0           0.0   \n",
       "\n",
       "             fr_thiazole  fr_thiocyan  fr_thiophene  fr_unbrch_alkane  \\\n",
       "CASRN                                                                   \n",
       "130209-82-4          0.0          0.0           0.0          0.012987   \n",
       "\n",
       "             fr_urea       qed  \n",
       "CASRN                           \n",
       "130209-82-4      0.0  0.254728  \n",
       "\n",
       "[1 rows x 165 columns]"
      ]
     },
     "execution_count": 52,
     "metadata": {},
     "output_type": "execute_result"
    }
   ],
   "source": [
    "filtered_test_rdkit2d.head(1)"
   ]
  },
  {
   "cell_type": "code",
   "execution_count": 53,
   "id": "280f6233",
   "metadata": {},
   "outputs": [],
   "source": [
    "filtered_test_mordred = test_feature(test_mordred, 'mordred', scaler_mordred)"
   ]
  },
  {
   "cell_type": "code",
   "execution_count": 54,
   "id": "7142e9b1",
   "metadata": {},
   "outputs": [
    {
     "data": {
      "text/html": [
       "<div>\n",
       "<style scoped>\n",
       "    .dataframe tbody tr th:only-of-type {\n",
       "        vertical-align: middle;\n",
       "    }\n",
       "\n",
       "    .dataframe tbody tr th {\n",
       "        vertical-align: top;\n",
       "    }\n",
       "\n",
       "    .dataframe thead th {\n",
       "        text-align: right;\n",
       "    }\n",
       "</style>\n",
       "<table border=\"1\" class=\"dataframe\">\n",
       "  <thead>\n",
       "    <tr style=\"text-align: right;\">\n",
       "      <th></th>\n",
       "      <th>nAcid</th>\n",
       "      <th>nBase</th>\n",
       "      <th>SpAbs_A</th>\n",
       "      <th>SpMax_A</th>\n",
       "      <th>SpMAD_A</th>\n",
       "      <th>LogEE_A</th>\n",
       "      <th>VE1_A</th>\n",
       "      <th>VR1_A</th>\n",
       "      <th>nAromAtom</th>\n",
       "      <th>nAtom</th>\n",
       "      <th>...</th>\n",
       "      <th>JGI6</th>\n",
       "      <th>JGI7</th>\n",
       "      <th>JGI8</th>\n",
       "      <th>JGI9</th>\n",
       "      <th>JGI10</th>\n",
       "      <th>JGT10</th>\n",
       "      <th>SRW03</th>\n",
       "      <th>SRW05</th>\n",
       "      <th>TSRW10</th>\n",
       "      <th>WPath</th>\n",
       "    </tr>\n",
       "    <tr>\n",
       "      <th>CASRN</th>\n",
       "      <th></th>\n",
       "      <th></th>\n",
       "      <th></th>\n",
       "      <th></th>\n",
       "      <th></th>\n",
       "      <th></th>\n",
       "      <th></th>\n",
       "      <th></th>\n",
       "      <th></th>\n",
       "      <th></th>\n",
       "      <th></th>\n",
       "      <th></th>\n",
       "      <th></th>\n",
       "      <th></th>\n",
       "      <th></th>\n",
       "      <th></th>\n",
       "      <th></th>\n",
       "      <th></th>\n",
       "      <th></th>\n",
       "      <th></th>\n",
       "      <th></th>\n",
       "    </tr>\n",
       "  </thead>\n",
       "  <tbody>\n",
       "    <tr>\n",
       "      <th>130209-82-4</th>\n",
       "      <td>0.0</td>\n",
       "      <td>0.0</td>\n",
       "      <td>0.186544</td>\n",
       "      <td>0.750389</td>\n",
       "      <td>0.867067</td>\n",
       "      <td>0.682724</td>\n",
       "      <td>0.335865</td>\n",
       "      <td>2.993004e-07</td>\n",
       "      <td>0.125</td>\n",
       "      <td>0.225914</td>\n",
       "      <td>...</td>\n",
       "      <td>0.252108</td>\n",
       "      <td>0.1689</td>\n",
       "      <td>0.266486</td>\n",
       "      <td>0.273758</td>\n",
       "      <td>0.249418</td>\n",
       "      <td>0.412305</td>\n",
       "      <td>0.0</td>\n",
       "      <td>0.437189</td>\n",
       "      <td>0.351957</td>\n",
       "      <td>0.015544</td>\n",
       "    </tr>\n",
       "  </tbody>\n",
       "</table>\n",
       "<p>1 rows × 462 columns</p>\n",
       "</div>"
      ],
      "text/plain": [
       "             nAcid  nBase   SpAbs_A   SpMax_A   SpMAD_A   LogEE_A     VE1_A  \\\n",
       "CASRN                                                                         \n",
       "130209-82-4    0.0    0.0  0.186544  0.750389  0.867067  0.682724  0.335865   \n",
       "\n",
       "                    VR1_A  nAromAtom     nAtom  ...      JGI6    JGI7  \\\n",
       "CASRN                                           ...                     \n",
       "130209-82-4  2.993004e-07      0.125  0.225914  ...  0.252108  0.1689   \n",
       "\n",
       "                 JGI8      JGI9     JGI10     JGT10  SRW03     SRW05  \\\n",
       "CASRN                                                                  \n",
       "130209-82-4  0.266486  0.273758  0.249418  0.412305    0.0  0.437189   \n",
       "\n",
       "               TSRW10     WPath  \n",
       "CASRN                            \n",
       "130209-82-4  0.351957  0.015544  \n",
       "\n",
       "[1 rows x 462 columns]"
      ]
     },
     "execution_count": 54,
     "metadata": {},
     "output_type": "execute_result"
    }
   ],
   "source": [
    "filtered_test_mordred.head(1)\n"
   ]
  },
  {
   "cell_type": "code",
   "execution_count": 55,
   "id": "135e7c59",
   "metadata": {},
   "outputs": [
    {
     "data": {
      "text/plain": [
       "((2849, 462), (2849, 165))"
      ]
     },
     "execution_count": 55,
     "metadata": {},
     "output_type": "execute_result"
    }
   ],
   "source": [
    "filtered_test_mordred.shape, filtered_test_rdkit2d.shape"
   ]
  },
  {
   "cell_type": "code",
   "execution_count": 56,
   "id": "ef4e3011",
   "metadata": {},
   "outputs": [],
   "source": [
    "filtered_test_ecfp6_bits.to_csv('../data/Bmodel_features/modeling_test_ecfp6_bits.csv')\n",
    "filtered_test_ecfp6_counts.to_csv('../data/Bmodel_features/modeling_test_ecfp6_counts.csv')\n",
    "filtered_test_maccs.to_csv('../data/Bmodel_features/modeling_test_maccs.csv')\n",
    "filtered_test_rdkit2d.to_csv('../data/Bmodel_features/modeling_test_rdkit2d.csv')\n",
    "filtered_test_mordred.to_csv('../data/Bmodel_features/modeling_test_mordred.csv')"
   ]
  }
 ],
 "metadata": {
  "kernelspec": {
   "display_name": "base",
   "language": "python",
   "name": "python3"
  },
  "language_info": {
   "codemirror_mode": {
    "name": "ipython",
    "version": 3
   },
   "file_extension": ".py",
   "mimetype": "text/x-python",
   "name": "python",
   "nbconvert_exporter": "python",
   "pygments_lexer": "ipython3",
   "version": "3.12.3"
  }
 },
 "nbformat": 4,
 "nbformat_minor": 5
}
