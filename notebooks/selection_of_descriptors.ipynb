{
 "cells": [
  {
   "cell_type": "markdown",
   "id": "dc73c3e7",
   "metadata": {},
   "source": [
    "### Импорт необходимых библиотек\n",
    "\n",
    " Импортируем библиотеки для работы с данными (`pandas`, `numpy`), сериализации (`json`, `joblib`) и предобработки признаков (`VarianceThreshold`, `MinMaxScaler`) из библиотеки `scikit-learn`.\n"
   ]
  },
  {
   "cell_type": "code",
   "execution_count": 1,
   "id": "5aab50ca",
   "metadata": {},
   "outputs": [],
   "source": [
    "import pandas as pd\n",
    "import numpy as np\n",
    "import json\n",
    "\n",
    "from sklearn.feature_selection import VarianceThreshold\n",
    "from sklearn.preprocessing import MinMaxScaler\n",
    "import joblib"
   ]
  },
  {
   "cell_type": "markdown",
   "id": "d2730a9b",
   "metadata": {},
   "source": [
    "### Загрузка обучающих дескрипторов\n",
    "\n",
    "Загружаем различные типы дескрипторов для обучающей выборки по индексному столбцу `CASRN`:\n",
    "- ECFP6 в битовом и количественном представлении\n",
    "- MACCS ключи\n",
    "- RDKit 2D дескрипторы\n",
    "- Mordred дескрипторы\n"
   ]
  },
  {
   "cell_type": "code",
   "execution_count": 2,
   "id": "bcd12dde",
   "metadata": {},
   "outputs": [],
   "source": [
    "train_ecfp6_bits = pd.read_csv('../data/descriptors/train_ecfp6_bits.csv', index_col='CASRN')\n",
    "train_ecfp6_counts = pd.read_csv('../data/descriptors/train_ecfp6_counts.csv', index_col='CASRN')\n",
    "train_maccs = pd.read_csv('../data/descriptors/train_maccs.csv', index_col='CASRN')\n",
    "train_rdkit2d = pd.read_csv('../data/descriptors/train_rdkit2d.csv', index_col='CASRN')\n",
    "train_mordred = pd.read_csv('../data/descriptors/train_mordred.csv', index_col='CASRN')"
   ]
  },
  {
   "cell_type": "markdown",
   "id": "303ebc86",
   "metadata": {},
   "source": [
    "### Функция для отбора признаков\n",
    "\n",
    "Определяем функцию `feature_selection`, которая удаляет признаки с нулевой дисперсией и высоко коррелированные признаки (порог по умолчанию — 0.95). Это помогает уменьшить размерность и избежать мультиколлинеарности.\n"
   ]
  },
  {
   "cell_type": "code",
   "execution_count": 3,
   "id": "fab3e09c",
   "metadata": {},
   "outputs": [],
   "source": [
    "def feature_selection(df, nonzero_thrd = 0.0, cor_thrd = 0.95):\n",
    "\n",
    "    selector = VarianceThreshold(nonzero_thrd)\n",
    "    selector.fit(df)\n",
    "    nonzero_df = df[df.columns[selector.get_support(indices=True)]]\n",
    "    corr_matrix = nonzero_df.corr().abs()\n",
    "    upper = corr_matrix.where(np.triu(np.ones(corr_matrix.shape), k=1).astype(bool))\n",
    "    to_drop = [column for column in upper.columns if any(upper[column] > cor_thrd)]\n",
    "    \n",
    "    return nonzero_df.drop(nonzero_df[to_drop], axis=1)"
   ]
  },
  {
   "cell_type": "markdown",
   "id": "6bb9edfe",
   "metadata": {},
   "source": [
    "### Применение отбора признаков к обучающим данным\n",
    "\n",
    "Применяем функцию `feature_selection` ко всем обучающим дескрипторам и выводим размеры отфильтрованных наборов признаков.\n"
   ]
  },
  {
   "cell_type": "code",
   "execution_count": 4,
   "id": "85d7e2a9",
   "metadata": {},
   "outputs": [
    {
     "name": "stderr",
     "output_type": "stream",
     "text": [
      "c:\\Users\\PC\\anaconda3\\Lib\\site-packages\\numpy\\lib\\nanfunctions.py:1746: RuntimeWarning: overflow encountered in multiply\n",
      "  sqr = np.multiply(arr, arr, out=arr, where=where)\n"
     ]
    }
   ],
   "source": [
    "filtered_train_ecfp6_bits = feature_selection(train_ecfp6_bits)\n",
    "filtered_train_ecfp6_counts = feature_selection(train_ecfp6_counts)\n",
    "filtered_train_maccs = feature_selection(train_maccs)\n",
    "filtered_train_rdkit2d = feature_selection(train_rdkit2d)\n",
    "filtered_train_mordred = feature_selection(train_mordred)"
   ]
  },
  {
   "cell_type": "code",
   "execution_count": 5,
   "id": "da77435b",
   "metadata": {},
   "outputs": [
    {
     "data": {
      "text/plain": [
       "((8994, 2048), (8994, 1584), (8994, 148))"
      ]
     },
     "execution_count": 5,
     "metadata": {},
     "output_type": "execute_result"
    }
   ],
   "source": [
    "filtered_train_ecfp6_bits.shape, filtered_train_ecfp6_counts.shape,filtered_train_maccs.shape"
   ]
  },
  {
   "cell_type": "code",
   "execution_count": 6,
   "id": "28d9c37d",
   "metadata": {},
   "outputs": [
    {
     "data": {
      "text/plain": [
       "((8994, 446), (8994, 164))"
      ]
     },
     "execution_count": 6,
     "metadata": {},
     "output_type": "execute_result"
    }
   ],
   "source": [
    "filtered_train_mordred.shape, filtered_train_rdkit2d.shape"
   ]
  },
  {
   "cell_type": "markdown",
   "id": "bd217475",
   "metadata": {},
   "source": [
    "Создаём словарь `dict_features`, в котором для каждого типа дескрипторов сохраняем список имён признаков, прошедших отбор. Сохраняем этот словарь в JSON-файл для последующего использования при обработке тестовых данных.\n"
   ]
  },
  {
   "cell_type": "code",
   "execution_count": 7,
   "id": "1175c694",
   "metadata": {},
   "outputs": [],
   "source": [
    "desc = ['ecfp6_bits', 'ecfp6_counts', 'maccs', 'rdkit2d', 'mordred']\n",
    "filtered_features = [\n",
    "    list(filtered_train_ecfp6_bits),\n",
    "    list(filtered_train_ecfp6_counts),\n",
    "    list(filtered_train_maccs),\n",
    "    list(filtered_train_rdkit2d),\n",
    "    list(filtered_train_mordred),\n",
    "]\n",
    "\n",
    "dict_features = dict(zip(desc, filtered_features))"
   ]
  },
  {
   "cell_type": "markdown",
   "id": "eb39bcac",
   "metadata": {},
   "source": [
    "### Сохранение отобранных признаков"
   ]
  },
  {
   "cell_type": "code",
   "execution_count": 8,
   "id": "3fd63b3c",
   "metadata": {},
   "outputs": [],
   "source": [
    "with open('../data/descriptors/filtered_features.json', 'w') as f:\n",
    "    json.dump(dict_features, f)\n"
   ]
  },
  {
   "cell_type": "markdown",
   "id": "251f0c15",
   "metadata": {},
   "source": [
    "### Нормализация числовых признаков\n",
    "\n",
    "Определяем две функции:\n",
    "- `feature_norm_fit` — выполняет масштабирование признаков обучающей выборки в диапазон [0, 1] и возвращает обученный `MinMaxScaler`. \n",
    "\n",
    "- `feature_norm_transform` — масштабирует тестовые признаки с использованием уже обученного скейлера.\n",
    "Нормализация применяется только к дескрипторам `rdkit2d` и `mordred`.\n"
   ]
  },
  {
   "cell_type": "code",
   "execution_count": 9,
   "id": "346787c4",
   "metadata": {},
   "outputs": [],
   "source": [
    "def feature_norm_fit(train_df , scaler = MinMaxScaler()):\n",
    "    array =  train_df.values\n",
    "    df_norm = pd.DataFrame(scaler.fit_transform(array), columns=train_df.columns, index=train_df.index)\n",
    "    return df_norm, scaler"
   ]
  },
  {
   "cell_type": "code",
   "execution_count": 10,
   "id": "e42c7544",
   "metadata": {},
   "outputs": [],
   "source": [
    "def feature_norm_transform(test_df, scaler):\n",
    "    array =  test_df.values\n",
    "    df_norm = pd.DataFrame(scaler.transform(array), columns=test_df.columns, index=test_df.index)\n",
    "    return df_norm  "
   ]
  },
  {
   "cell_type": "markdown",
   "id": "ae729067",
   "metadata": {},
   "source": [
    "### Нормализация и сохранение скейлера для RDKit2D\n",
    "\n",
    "Применяем нормализацию к отфильтрованным RDKit2D дескрипторам и сохраняем обученный `MinMaxScaler` с помощью `joblib`.\n"
   ]
  },
  {
   "cell_type": "code",
   "execution_count": 11,
   "id": "de6d21b5",
   "metadata": {},
   "outputs": [],
   "source": [
    "norm_train_rdkit2d, scaler_rdkit2d = feature_norm_fit(filtered_train_rdkit2d)"
   ]
  },
  {
   "cell_type": "markdown",
   "id": "bd93957f",
   "metadata": {},
   "source": [
    "Проверка параметров scaler"
   ]
  },
  {
   "cell_type": "code",
   "execution_count": 12,
   "id": "49cb4987",
   "metadata": {},
   "outputs": [
    {
     "data": {
      "text/plain": [
       "<bound method BaseEstimator.get_params of MinMaxScaler()>"
      ]
     },
     "execution_count": 12,
     "metadata": {},
     "output_type": "execute_result"
    }
   ],
   "source": [
    "scaler_rdkit2d.get_params"
   ]
  },
  {
   "cell_type": "markdown",
   "id": "1273009c",
   "metadata": {},
   "source": [
    "Просмотр первой строки нормализованных данных"
   ]
  },
  {
   "cell_type": "code",
   "execution_count": null,
   "id": "5d42475a",
   "metadata": {},
   "outputs": [
    {
     "data": {
      "text/html": [
       "<div>\n",
       "<style scoped>\n",
       "    .dataframe tbody tr th:only-of-type {\n",
       "        vertical-align: middle;\n",
       "    }\n",
       "\n",
       "    .dataframe tbody tr th {\n",
       "        vertical-align: top;\n",
       "    }\n",
       "\n",
       "    .dataframe thead th {\n",
       "        text-align: right;\n",
       "    }\n",
       "</style>\n",
       "<table border=\"1\" class=\"dataframe\">\n",
       "  <thead>\n",
       "    <tr style=\"text-align: right;\">\n",
       "      <th></th>\n",
       "      <th>BalabanJ</th>\n",
       "      <th>BertzCT</th>\n",
       "      <th>Chi0</th>\n",
       "      <th>EState_VSA1</th>\n",
       "      <th>EState_VSA10</th>\n",
       "      <th>EState_VSA11</th>\n",
       "      <th>EState_VSA2</th>\n",
       "      <th>EState_VSA3</th>\n",
       "      <th>EState_VSA4</th>\n",
       "      <th>EState_VSA5</th>\n",
       "      <th>...</th>\n",
       "      <th>fr_sulfonamd</th>\n",
       "      <th>fr_sulfone</th>\n",
       "      <th>fr_term_acetylene</th>\n",
       "      <th>fr_tetrazole</th>\n",
       "      <th>fr_thiazole</th>\n",
       "      <th>fr_thiocyan</th>\n",
       "      <th>fr_thiophene</th>\n",
       "      <th>fr_unbrch_alkane</th>\n",
       "      <th>fr_urea</th>\n",
       "      <th>qed</th>\n",
       "    </tr>\n",
       "    <tr>\n",
       "      <th>CASRN</th>\n",
       "      <th></th>\n",
       "      <th></th>\n",
       "      <th></th>\n",
       "      <th></th>\n",
       "      <th></th>\n",
       "      <th></th>\n",
       "      <th></th>\n",
       "      <th></th>\n",
       "      <th></th>\n",
       "      <th></th>\n",
       "      <th></th>\n",
       "      <th></th>\n",
       "      <th></th>\n",
       "      <th></th>\n",
       "      <th></th>\n",
       "      <th></th>\n",
       "      <th></th>\n",
       "      <th></th>\n",
       "      <th></th>\n",
       "      <th></th>\n",
       "      <th></th>\n",
       "    </tr>\n",
       "  </thead>\n",
       "  <tbody>\n",
       "    <tr>\n",
       "      <th>100-00-5</th>\n",
       "      <td>0.36578</td>\n",
       "      <td>0.013096</td>\n",
       "      <td>0.024088</td>\n",
       "      <td>0.00495</td>\n",
       "      <td>0.024023</td>\n",
       "      <td>0.0</td>\n",
       "      <td>0.026235</td>\n",
       "      <td>0.016894</td>\n",
       "      <td>0.000321</td>\n",
       "      <td>0.094796</td>\n",
       "      <td>...</td>\n",
       "      <td>0.0</td>\n",
       "      <td>0.0</td>\n",
       "      <td>0.0</td>\n",
       "      <td>0.0</td>\n",
       "      <td>0.0</td>\n",
       "      <td>0.0</td>\n",
       "      <td>0.0</td>\n",
       "      <td>0.0</td>\n",
       "      <td>0.0</td>\n",
       "      <td>0.48663</td>\n",
       "    </tr>\n",
       "  </tbody>\n",
       "</table>\n",
       "<p>1 rows × 164 columns</p>\n",
       "</div>"
      ],
      "text/plain": [
       "          BalabanJ   BertzCT      Chi0  EState_VSA1  EState_VSA10  \\\n",
       "CASRN                                                               \n",
       "100-00-5   0.36578  0.013096  0.024088      0.00495      0.024023   \n",
       "\n",
       "          EState_VSA11  EState_VSA2  EState_VSA3  EState_VSA4  EState_VSA5  \\\n",
       "CASRN                                                                        \n",
       "100-00-5           0.0     0.026235     0.016894     0.000321     0.094796   \n",
       "\n",
       "          ...  fr_sulfonamd  fr_sulfone  fr_term_acetylene  fr_tetrazole  \\\n",
       "CASRN     ...                                                              \n",
       "100-00-5  ...           0.0         0.0                0.0           0.0   \n",
       "\n",
       "          fr_thiazole  fr_thiocyan  fr_thiophene  fr_unbrch_alkane  fr_urea  \\\n",
       "CASRN                                                                         \n",
       "100-00-5          0.0          0.0           0.0               0.0      0.0   \n",
       "\n",
       "              qed  \n",
       "CASRN              \n",
       "100-00-5  0.48663  \n",
       "\n",
       "[1 rows x 164 columns]"
      ]
     },
     "execution_count": 13,
     "metadata": {},
     "output_type": "execute_result"
    }
   ],
   "source": [
    "norm_train_rdkit2d.head(1)"
   ]
  },
  {
   "cell_type": "markdown",
   "id": "8789a804",
   "metadata": {},
   "source": [
    "Экспорт scaler в файл"
   ]
  },
  {
   "cell_type": "code",
   "execution_count": 14,
   "id": "c3aba9a4",
   "metadata": {},
   "outputs": [
    {
     "data": {
      "text/plain": [
       "['../data/descriptors/scaler_rdkit2d.pkl']"
      ]
     },
     "execution_count": 14,
     "metadata": {},
     "output_type": "execute_result"
    }
   ],
   "source": [
    "joblib.dump(scaler_rdkit2d, '../data/descriptors/scaler_rdkit2d.pkl') "
   ]
  },
  {
   "cell_type": "markdown",
   "id": "674415bc",
   "metadata": {},
   "source": [
    "Проверка работоспособности scaler \n",
    "\n",
    "Загрузка scaler"
   ]
  },
  {
   "cell_type": "code",
   "execution_count": 15,
   "id": "8b2afdf3",
   "metadata": {},
   "outputs": [],
   "source": [
    "test_scaler = joblib.load('../data/descriptors/scaler_rdkit2d.pkl')"
   ]
  },
  {
   "cell_type": "markdown",
   "id": "39f1dc44",
   "metadata": {},
   "source": [
    "Тестирование на тренировочных данных"
   ]
  },
  {
   "cell_type": "code",
   "execution_count": 16,
   "id": "54e272b8",
   "metadata": {},
   "outputs": [],
   "source": [
    "test_rdkit2d = feature_norm_transform(filtered_train_rdkit2d, test_scaler)"
   ]
  },
  {
   "cell_type": "markdown",
   "id": "83a9d41e",
   "metadata": {},
   "source": [
    "Сравнение с оригиналом"
   ]
  },
  {
   "cell_type": "code",
   "execution_count": 17,
   "id": "8292dd33",
   "metadata": {},
   "outputs": [
    {
     "data": {
      "text/html": [
       "<div>\n",
       "<style scoped>\n",
       "    .dataframe tbody tr th:only-of-type {\n",
       "        vertical-align: middle;\n",
       "    }\n",
       "\n",
       "    .dataframe tbody tr th {\n",
       "        vertical-align: top;\n",
       "    }\n",
       "\n",
       "    .dataframe thead th {\n",
       "        text-align: right;\n",
       "    }\n",
       "</style>\n",
       "<table border=\"1\" class=\"dataframe\">\n",
       "  <thead>\n",
       "    <tr style=\"text-align: right;\">\n",
       "      <th></th>\n",
       "      <th>BalabanJ</th>\n",
       "      <th>BertzCT</th>\n",
       "      <th>Chi0</th>\n",
       "      <th>EState_VSA1</th>\n",
       "      <th>EState_VSA10</th>\n",
       "      <th>EState_VSA11</th>\n",
       "      <th>EState_VSA2</th>\n",
       "      <th>EState_VSA3</th>\n",
       "      <th>EState_VSA4</th>\n",
       "      <th>EState_VSA5</th>\n",
       "      <th>...</th>\n",
       "      <th>fr_sulfonamd</th>\n",
       "      <th>fr_sulfone</th>\n",
       "      <th>fr_term_acetylene</th>\n",
       "      <th>fr_tetrazole</th>\n",
       "      <th>fr_thiazole</th>\n",
       "      <th>fr_thiocyan</th>\n",
       "      <th>fr_thiophene</th>\n",
       "      <th>fr_unbrch_alkane</th>\n",
       "      <th>fr_urea</th>\n",
       "      <th>qed</th>\n",
       "    </tr>\n",
       "    <tr>\n",
       "      <th>CASRN</th>\n",
       "      <th></th>\n",
       "      <th></th>\n",
       "      <th></th>\n",
       "      <th></th>\n",
       "      <th></th>\n",
       "      <th></th>\n",
       "      <th></th>\n",
       "      <th></th>\n",
       "      <th></th>\n",
       "      <th></th>\n",
       "      <th></th>\n",
       "      <th></th>\n",
       "      <th></th>\n",
       "      <th></th>\n",
       "      <th></th>\n",
       "      <th></th>\n",
       "      <th></th>\n",
       "      <th></th>\n",
       "      <th></th>\n",
       "      <th></th>\n",
       "      <th></th>\n",
       "    </tr>\n",
       "  </thead>\n",
       "  <tbody>\n",
       "    <tr>\n",
       "      <th>100-00-5</th>\n",
       "      <td>0.36578</td>\n",
       "      <td>0.013096</td>\n",
       "      <td>0.024088</td>\n",
       "      <td>0.00495</td>\n",
       "      <td>0.024023</td>\n",
       "      <td>0.0</td>\n",
       "      <td>0.026235</td>\n",
       "      <td>0.016894</td>\n",
       "      <td>0.000321</td>\n",
       "      <td>0.094796</td>\n",
       "      <td>...</td>\n",
       "      <td>0.0</td>\n",
       "      <td>0.0</td>\n",
       "      <td>0.0</td>\n",
       "      <td>0.0</td>\n",
       "      <td>0.0</td>\n",
       "      <td>0.0</td>\n",
       "      <td>0.0</td>\n",
       "      <td>0.0</td>\n",
       "      <td>0.0</td>\n",
       "      <td>0.48663</td>\n",
       "    </tr>\n",
       "  </tbody>\n",
       "</table>\n",
       "<p>1 rows × 164 columns</p>\n",
       "</div>"
      ],
      "text/plain": [
       "          BalabanJ   BertzCT      Chi0  EState_VSA1  EState_VSA10  \\\n",
       "CASRN                                                               \n",
       "100-00-5   0.36578  0.013096  0.024088      0.00495      0.024023   \n",
       "\n",
       "          EState_VSA11  EState_VSA2  EState_VSA3  EState_VSA4  EState_VSA5  \\\n",
       "CASRN                                                                        \n",
       "100-00-5           0.0     0.026235     0.016894     0.000321     0.094796   \n",
       "\n",
       "          ...  fr_sulfonamd  fr_sulfone  fr_term_acetylene  fr_tetrazole  \\\n",
       "CASRN     ...                                                              \n",
       "100-00-5  ...           0.0         0.0                0.0           0.0   \n",
       "\n",
       "          fr_thiazole  fr_thiocyan  fr_thiophene  fr_unbrch_alkane  fr_urea  \\\n",
       "CASRN                                                                         \n",
       "100-00-5          0.0          0.0           0.0               0.0      0.0   \n",
       "\n",
       "              qed  \n",
       "CASRN              \n",
       "100-00-5  0.48663  \n",
       "\n",
       "[1 rows x 164 columns]"
      ]
     },
     "execution_count": 17,
     "metadata": {},
     "output_type": "execute_result"
    }
   ],
   "source": [
    "test_rdkit2d.head(1) "
   ]
  },
  {
   "cell_type": "markdown",
   "id": "4a7031cc",
   "metadata": {},
   "source": [
    "Обработка Mordred дескрипторов\n",
    "\n",
    "Нормализация тренировочных данных\n",
    "\n",
    "Сохранение scaler"
   ]
  },
  {
   "cell_type": "code",
   "execution_count": 18,
   "id": "6d16e0a1",
   "metadata": {},
   "outputs": [
    {
     "data": {
      "text/plain": [
       "['../data/descriptors/scaler_mordred.pkl']"
      ]
     },
     "execution_count": 18,
     "metadata": {},
     "output_type": "execute_result"
    }
   ],
   "source": [
    "norm_train_mordred, scaler_mordred = feature_norm_fit(filtered_train_mordred)\n",
    "joblib.dump(scaler_mordred, '../data/descriptors/scaler_mordred.pkl')"
   ]
  },
  {
   "cell_type": "code",
   "execution_count": 19,
   "id": "b9dbd7d5",
   "metadata": {},
   "outputs": [],
   "source": [
    "test_scaler_mordred = joblib.load('../data/descriptors/scaler_mordred.pkl')"
   ]
  },
  {
   "cell_type": "code",
   "execution_count": 20,
   "id": "1e11a0e3",
   "metadata": {},
   "outputs": [
    {
     "data": {
      "text/html": [
       "<div>\n",
       "<style scoped>\n",
       "    .dataframe tbody tr th:only-of-type {\n",
       "        vertical-align: middle;\n",
       "    }\n",
       "\n",
       "    .dataframe tbody tr th {\n",
       "        vertical-align: top;\n",
       "    }\n",
       "\n",
       "    .dataframe thead th {\n",
       "        text-align: right;\n",
       "    }\n",
       "</style>\n",
       "<table border=\"1\" class=\"dataframe\">\n",
       "  <thead>\n",
       "    <tr style=\"text-align: right;\">\n",
       "      <th></th>\n",
       "      <th>nAcid</th>\n",
       "      <th>nBase</th>\n",
       "      <th>SpAbs_A</th>\n",
       "      <th>SpMax_A</th>\n",
       "      <th>SpMAD_A</th>\n",
       "      <th>LogEE_A</th>\n",
       "      <th>VE1_A</th>\n",
       "      <th>VR1_A</th>\n",
       "      <th>nAromAtom</th>\n",
       "      <th>nAtom</th>\n",
       "      <th>...</th>\n",
       "      <th>JGI5</th>\n",
       "      <th>JGI6</th>\n",
       "      <th>JGI7</th>\n",
       "      <th>JGI8</th>\n",
       "      <th>JGI9</th>\n",
       "      <th>JGI10</th>\n",
       "      <th>JGT10</th>\n",
       "      <th>SRW03</th>\n",
       "      <th>SRW05</th>\n",
       "      <th>TSRW10</th>\n",
       "    </tr>\n",
       "    <tr>\n",
       "      <th>CASRN</th>\n",
       "      <th></th>\n",
       "      <th></th>\n",
       "      <th></th>\n",
       "      <th></th>\n",
       "      <th></th>\n",
       "      <th></th>\n",
       "      <th></th>\n",
       "      <th></th>\n",
       "      <th></th>\n",
       "      <th></th>\n",
       "      <th></th>\n",
       "      <th></th>\n",
       "      <th></th>\n",
       "      <th></th>\n",
       "      <th></th>\n",
       "      <th></th>\n",
       "      <th></th>\n",
       "      <th></th>\n",
       "      <th></th>\n",
       "      <th></th>\n",
       "      <th></th>\n",
       "    </tr>\n",
       "  </thead>\n",
       "  <tbody>\n",
       "    <tr>\n",
       "      <th>100-00-5</th>\n",
       "      <td>0.0</td>\n",
       "      <td>0.0</td>\n",
       "      <td>0.023293</td>\n",
       "      <td>0.690983</td>\n",
       "      <td>0.836553</td>\n",
       "      <td>0.402493</td>\n",
       "      <td>0.269199</td>\n",
       "      <td>1.975149e-16</td>\n",
       "      <td>0.113208</td>\n",
       "      <td>0.013784</td>\n",
       "      <td>...</td>\n",
       "      <td>0.62963</td>\n",
       "      <td>0.0</td>\n",
       "      <td>0.0</td>\n",
       "      <td>0.0</td>\n",
       "      <td>0.0</td>\n",
       "      <td>0.0</td>\n",
       "      <td>0.533316</td>\n",
       "      <td>0.0</td>\n",
       "      <td>0.0</td>\n",
       "      <td>0.078559</td>\n",
       "    </tr>\n",
       "  </tbody>\n",
       "</table>\n",
       "<p>1 rows × 446 columns</p>\n",
       "</div>"
      ],
      "text/plain": [
       "          nAcid  nBase   SpAbs_A   SpMax_A   SpMAD_A   LogEE_A     VE1_A  \\\n",
       "CASRN                                                                      \n",
       "100-00-5    0.0    0.0  0.023293  0.690983  0.836553  0.402493  0.269199   \n",
       "\n",
       "                 VR1_A  nAromAtom     nAtom  ...     JGI5  JGI6  JGI7  JGI8  \\\n",
       "CASRN                                        ...                              \n",
       "100-00-5  1.975149e-16   0.113208  0.013784  ...  0.62963   0.0   0.0   0.0   \n",
       "\n",
       "          JGI9  JGI10     JGT10  SRW03  SRW05    TSRW10  \n",
       "CASRN                                                    \n",
       "100-00-5   0.0    0.0  0.533316    0.0    0.0  0.078559  \n",
       "\n",
       "[1 rows x 446 columns]"
      ]
     },
     "execution_count": 20,
     "metadata": {},
     "output_type": "execute_result"
    }
   ],
   "source": [
    "test_mordred = feature_norm_transform(filtered_train_mordred, test_scaler_mordred)\n",
    "test_mordred.head(1)"
   ]
  },
  {
   "cell_type": "code",
   "execution_count": 21,
   "id": "540eec58",
   "metadata": {},
   "outputs": [
    {
     "data": {
      "text/html": [
       "<div>\n",
       "<style scoped>\n",
       "    .dataframe tbody tr th:only-of-type {\n",
       "        vertical-align: middle;\n",
       "    }\n",
       "\n",
       "    .dataframe tbody tr th {\n",
       "        vertical-align: top;\n",
       "    }\n",
       "\n",
       "    .dataframe thead th {\n",
       "        text-align: right;\n",
       "    }\n",
       "</style>\n",
       "<table border=\"1\" class=\"dataframe\">\n",
       "  <thead>\n",
       "    <tr style=\"text-align: right;\">\n",
       "      <th></th>\n",
       "      <th>nAcid</th>\n",
       "      <th>nBase</th>\n",
       "      <th>SpAbs_A</th>\n",
       "      <th>SpMax_A</th>\n",
       "      <th>SpMAD_A</th>\n",
       "      <th>LogEE_A</th>\n",
       "      <th>VE1_A</th>\n",
       "      <th>VR1_A</th>\n",
       "      <th>nAromAtom</th>\n",
       "      <th>nAtom</th>\n",
       "      <th>...</th>\n",
       "      <th>JGI5</th>\n",
       "      <th>JGI6</th>\n",
       "      <th>JGI7</th>\n",
       "      <th>JGI8</th>\n",
       "      <th>JGI9</th>\n",
       "      <th>JGI10</th>\n",
       "      <th>JGT10</th>\n",
       "      <th>SRW03</th>\n",
       "      <th>SRW05</th>\n",
       "      <th>TSRW10</th>\n",
       "    </tr>\n",
       "    <tr>\n",
       "      <th>CASRN</th>\n",
       "      <th></th>\n",
       "      <th></th>\n",
       "      <th></th>\n",
       "      <th></th>\n",
       "      <th></th>\n",
       "      <th></th>\n",
       "      <th></th>\n",
       "      <th></th>\n",
       "      <th></th>\n",
       "      <th></th>\n",
       "      <th></th>\n",
       "      <th></th>\n",
       "      <th></th>\n",
       "      <th></th>\n",
       "      <th></th>\n",
       "      <th></th>\n",
       "      <th></th>\n",
       "      <th></th>\n",
       "      <th></th>\n",
       "      <th></th>\n",
       "      <th></th>\n",
       "    </tr>\n",
       "  </thead>\n",
       "  <tbody>\n",
       "    <tr>\n",
       "      <th>100-00-5</th>\n",
       "      <td>0.0</td>\n",
       "      <td>0.0</td>\n",
       "      <td>0.023293</td>\n",
       "      <td>0.690983</td>\n",
       "      <td>0.836553</td>\n",
       "      <td>0.402493</td>\n",
       "      <td>0.269199</td>\n",
       "      <td>1.975149e-16</td>\n",
       "      <td>0.113208</td>\n",
       "      <td>0.013784</td>\n",
       "      <td>...</td>\n",
       "      <td>0.62963</td>\n",
       "      <td>0.0</td>\n",
       "      <td>0.0</td>\n",
       "      <td>0.0</td>\n",
       "      <td>0.0</td>\n",
       "      <td>0.0</td>\n",
       "      <td>0.533316</td>\n",
       "      <td>0.0</td>\n",
       "      <td>0.0</td>\n",
       "      <td>0.078559</td>\n",
       "    </tr>\n",
       "  </tbody>\n",
       "</table>\n",
       "<p>1 rows × 446 columns</p>\n",
       "</div>"
      ],
      "text/plain": [
       "          nAcid  nBase   SpAbs_A   SpMax_A   SpMAD_A   LogEE_A     VE1_A  \\\n",
       "CASRN                                                                      \n",
       "100-00-5    0.0    0.0  0.023293  0.690983  0.836553  0.402493  0.269199   \n",
       "\n",
       "                 VR1_A  nAromAtom     nAtom  ...     JGI5  JGI6  JGI7  JGI8  \\\n",
       "CASRN                                        ...                              \n",
       "100-00-5  1.975149e-16   0.113208  0.013784  ...  0.62963   0.0   0.0   0.0   \n",
       "\n",
       "          JGI9  JGI10     JGT10  SRW03  SRW05    TSRW10  \n",
       "CASRN                                                    \n",
       "100-00-5   0.0    0.0  0.533316    0.0    0.0  0.078559  \n",
       "\n",
       "[1 rows x 446 columns]"
      ]
     },
     "execution_count": 21,
     "metadata": {},
     "output_type": "execute_result"
    }
   ],
   "source": [
    "norm_train_mordred.head(1)"
   ]
  },
  {
   "cell_type": "markdown",
   "id": "95d11184",
   "metadata": {},
   "source": [
    "### Экспорт подготовленных данных\n",
    "\n",
    "Сохранение тренировочных данных"
   ]
  },
  {
   "cell_type": "code",
   "execution_count": 22,
   "id": "bd6f64a4",
   "metadata": {},
   "outputs": [],
   "source": [
    "filtered_train_ecfp6_bits.to_csv('../data/Bmodel_features/modeling_train_ecfp6_bits.csv')\n",
    "filtered_train_ecfp6_counts.to_csv('../data/Bmodel_features/modeling_train_ecfp6_counts.csv')\n",
    "filtered_train_maccs.to_csv('../data/Bmodel_features/modeling_train_maccs.csv')\n",
    "norm_train_rdkit2d.to_csv('../data/Bmodel_features/modeling_train_rdkit2d.csv')\n",
    "norm_train_mordred.to_csv('../data/Bmodel_features/modeling_train_mordred.csv')"
   ]
  },
  {
   "cell_type": "markdown",
   "id": "72e2eac5",
   "metadata": {},
   "source": [
    "### Подготовка тестовых данных\n",
    "\n",
    "Функция обработки тестовых данных"
   ]
  },
  {
   "cell_type": "code",
   "execution_count": null,
   "id": "e2479a7d",
   "metadata": {},
   "outputs": [],
   "source": [
    "def test_feature(df, feature, scaler = None):\n",
    "    \n",
    "    with open('../data/descriptors/filtered_features.json') as f:\n",
    "        dict_features = json.load(f)\n",
    "        \n",
    "    if feature not in dict_features.keys():\n",
    "        raise Exception(f'The feature **{feature}** is not support, please choose from [ecfp6_bits, ecfp6_counts, maccs, rdkit2d, mordred]')\n",
    "        \n",
    "    filtered_desc = dict_features[feature]\n",
    "    df = df[filtered_desc]\n",
    "    \n",
    "    if scaler:\n",
    "        df = feature_norm_transform(df, scaler)\n",
    "    \n",
    "    return df"
   ]
  },
  {
   "cell_type": "markdown",
   "id": "798b5a47",
   "metadata": {},
   "source": [
    "Загрузка тестовых данных"
   ]
  },
  {
   "cell_type": "code",
   "execution_count": null,
   "id": "8d9f15c8",
   "metadata": {},
   "outputs": [],
   "source": [
    "test_ecfp6_bits = pd.read_csv('../data/descriptors/test_ecfp6_bits.csv', index_col='CASRN')\n",
    "test_ecfp6_counts = pd.read_csv('../data/descriptors/test_ecfp6_counts.csv', index_col='CASRN')\n",
    "test_maccs = pd.read_csv('../data/descriptors/test_maccs.csv', index_col='CASRN')\n",
    "test_rdkit2d = pd.read_csv('../data/descriptors/test_rdkit2d.csv', index_col='CASRN')\n",
    "test_mordred = pd.read_csv('../data/descriptors/test_mordred.csv', index_col='CASRN')"
   ]
  },
  {
   "cell_type": "markdown",
   "id": "9085a93d",
   "metadata": {},
   "source": [
    "### Финализация тестовых данных\n",
    "\n",
    "Обработка каждого типа данных"
   ]
  },
  {
   "cell_type": "code",
   "execution_count": 25,
   "id": "1875ed37",
   "metadata": {},
   "outputs": [],
   "source": [
    "filtered_test_ecfp6_bits = test_feature(test_ecfp6_bits, 'ecfp6_bits')\n",
    "filtered_test_ecfp6_counts = test_feature(test_ecfp6_counts, 'ecfp6_counts')\n",
    "filtered_test_maccs = test_feature(test_maccs, 'maccs')"
   ]
  },
  {
   "cell_type": "code",
   "execution_count": 26,
   "id": "c6ec01d6",
   "metadata": {},
   "outputs": [
    {
     "data": {
      "text/plain": [
       "((2895, 2048), (2895, 1584), (2895, 148))"
      ]
     },
     "execution_count": 26,
     "metadata": {},
     "output_type": "execute_result"
    }
   ],
   "source": [
    "filtered_test_ecfp6_bits.shape, filtered_test_ecfp6_counts.shape, filtered_test_maccs.shape"
   ]
  },
  {
   "cell_type": "code",
   "execution_count": 27,
   "id": "ece645c6",
   "metadata": {},
   "outputs": [],
   "source": [
    "scaler_mordred = joblib.load('../data/descriptors/scaler_mordred.pkl')\n",
    "scaler_rdkit2d = joblib.load('../data/descriptors/scaler_rdkit2d.pkl') "
   ]
  },
  {
   "cell_type": "code",
   "execution_count": 28,
   "id": "a574fbb0",
   "metadata": {},
   "outputs": [],
   "source": [
    "filtered_test_rdkit2d = test_feature(test_rdkit2d, 'rdkit2d', scaler_rdkit2d)"
   ]
  },
  {
   "cell_type": "code",
   "execution_count": 29,
   "id": "38469067",
   "metadata": {},
   "outputs": [
    {
     "data": {
      "text/html": [
       "<div>\n",
       "<style scoped>\n",
       "    .dataframe tbody tr th:only-of-type {\n",
       "        vertical-align: middle;\n",
       "    }\n",
       "\n",
       "    .dataframe tbody tr th {\n",
       "        vertical-align: top;\n",
       "    }\n",
       "\n",
       "    .dataframe thead th {\n",
       "        text-align: right;\n",
       "    }\n",
       "</style>\n",
       "<table border=\"1\" class=\"dataframe\">\n",
       "  <thead>\n",
       "    <tr style=\"text-align: right;\">\n",
       "      <th></th>\n",
       "      <th>BalabanJ</th>\n",
       "      <th>BertzCT</th>\n",
       "      <th>Chi0</th>\n",
       "      <th>EState_VSA1</th>\n",
       "      <th>EState_VSA10</th>\n",
       "      <th>EState_VSA11</th>\n",
       "      <th>EState_VSA2</th>\n",
       "      <th>EState_VSA3</th>\n",
       "      <th>EState_VSA4</th>\n",
       "      <th>EState_VSA5</th>\n",
       "      <th>...</th>\n",
       "      <th>fr_sulfonamd</th>\n",
       "      <th>fr_sulfone</th>\n",
       "      <th>fr_term_acetylene</th>\n",
       "      <th>fr_tetrazole</th>\n",
       "      <th>fr_thiazole</th>\n",
       "      <th>fr_thiocyan</th>\n",
       "      <th>fr_thiophene</th>\n",
       "      <th>fr_unbrch_alkane</th>\n",
       "      <th>fr_urea</th>\n",
       "      <th>qed</th>\n",
       "    </tr>\n",
       "    <tr>\n",
       "      <th>CASRN</th>\n",
       "      <th></th>\n",
       "      <th></th>\n",
       "      <th></th>\n",
       "      <th></th>\n",
       "      <th></th>\n",
       "      <th></th>\n",
       "      <th></th>\n",
       "      <th></th>\n",
       "      <th></th>\n",
       "      <th></th>\n",
       "      <th></th>\n",
       "      <th></th>\n",
       "      <th></th>\n",
       "      <th></th>\n",
       "      <th></th>\n",
       "      <th></th>\n",
       "      <th></th>\n",
       "      <th></th>\n",
       "      <th></th>\n",
       "      <th></th>\n",
       "      <th></th>\n",
       "    </tr>\n",
       "  </thead>\n",
       "  <tbody>\n",
       "    <tr>\n",
       "      <th>130209-82-4</th>\n",
       "      <td>0.207313</td>\n",
       "      <td>0.035201</td>\n",
       "      <td>0.072131</td>\n",
       "      <td>0.018411</td>\n",
       "      <td>0.047773</td>\n",
       "      <td>0.0</td>\n",
       "      <td>0.110288</td>\n",
       "      <td>0.129578</td>\n",
       "      <td>0.100139</td>\n",
       "      <td>0.021734</td>\n",
       "      <td>...</td>\n",
       "      <td>0.0</td>\n",
       "      <td>0.0</td>\n",
       "      <td>0.0</td>\n",
       "      <td>0.0</td>\n",
       "      <td>0.0</td>\n",
       "      <td>0.0</td>\n",
       "      <td>0.0</td>\n",
       "      <td>0.012987</td>\n",
       "      <td>0.0</td>\n",
       "      <td>0.255839</td>\n",
       "    </tr>\n",
       "  </tbody>\n",
       "</table>\n",
       "<p>1 rows × 164 columns</p>\n",
       "</div>"
      ],
      "text/plain": [
       "             BalabanJ   BertzCT      Chi0  EState_VSA1  EState_VSA10  \\\n",
       "CASRN                                                                  \n",
       "130209-82-4  0.207313  0.035201  0.072131     0.018411      0.047773   \n",
       "\n",
       "             EState_VSA11  EState_VSA2  EState_VSA3  EState_VSA4  EState_VSA5  \\\n",
       "CASRN                                                                           \n",
       "130209-82-4           0.0     0.110288     0.129578     0.100139     0.021734   \n",
       "\n",
       "             ...  fr_sulfonamd  fr_sulfone  fr_term_acetylene  fr_tetrazole  \\\n",
       "CASRN        ...                                                              \n",
       "130209-82-4  ...           0.0         0.0                0.0           0.0   \n",
       "\n",
       "             fr_thiazole  fr_thiocyan  fr_thiophene  fr_unbrch_alkane  \\\n",
       "CASRN                                                                   \n",
       "130209-82-4          0.0          0.0           0.0          0.012987   \n",
       "\n",
       "             fr_urea       qed  \n",
       "CASRN                           \n",
       "130209-82-4      0.0  0.255839  \n",
       "\n",
       "[1 rows x 164 columns]"
      ]
     },
     "execution_count": 29,
     "metadata": {},
     "output_type": "execute_result"
    }
   ],
   "source": [
    "filtered_test_rdkit2d.head(1)"
   ]
  },
  {
   "cell_type": "code",
   "execution_count": 30,
   "id": "280f6233",
   "metadata": {},
   "outputs": [],
   "source": [
    "filtered_test_mordred = test_feature(test_mordred, 'mordred', scaler_mordred)"
   ]
  },
  {
   "cell_type": "code",
   "execution_count": 31,
   "id": "7142e9b1",
   "metadata": {},
   "outputs": [
    {
     "data": {
      "text/html": [
       "<div>\n",
       "<style scoped>\n",
       "    .dataframe tbody tr th:only-of-type {\n",
       "        vertical-align: middle;\n",
       "    }\n",
       "\n",
       "    .dataframe tbody tr th {\n",
       "        vertical-align: top;\n",
       "    }\n",
       "\n",
       "    .dataframe thead th {\n",
       "        text-align: right;\n",
       "    }\n",
       "</style>\n",
       "<table border=\"1\" class=\"dataframe\">\n",
       "  <thead>\n",
       "    <tr style=\"text-align: right;\">\n",
       "      <th></th>\n",
       "      <th>nAcid</th>\n",
       "      <th>nBase</th>\n",
       "      <th>SpAbs_A</th>\n",
       "      <th>SpMax_A</th>\n",
       "      <th>SpMAD_A</th>\n",
       "      <th>LogEE_A</th>\n",
       "      <th>VE1_A</th>\n",
       "      <th>VR1_A</th>\n",
       "      <th>nAromAtom</th>\n",
       "      <th>nAtom</th>\n",
       "      <th>...</th>\n",
       "      <th>JGI5</th>\n",
       "      <th>JGI6</th>\n",
       "      <th>JGI7</th>\n",
       "      <th>JGI8</th>\n",
       "      <th>JGI9</th>\n",
       "      <th>JGI10</th>\n",
       "      <th>JGT10</th>\n",
       "      <th>SRW03</th>\n",
       "      <th>SRW05</th>\n",
       "      <th>TSRW10</th>\n",
       "    </tr>\n",
       "    <tr>\n",
       "      <th>CASRN</th>\n",
       "      <th></th>\n",
       "      <th></th>\n",
       "      <th></th>\n",
       "      <th></th>\n",
       "      <th></th>\n",
       "      <th></th>\n",
       "      <th></th>\n",
       "      <th></th>\n",
       "      <th></th>\n",
       "      <th></th>\n",
       "      <th></th>\n",
       "      <th></th>\n",
       "      <th></th>\n",
       "      <th></th>\n",
       "      <th></th>\n",
       "      <th></th>\n",
       "      <th></th>\n",
       "      <th></th>\n",
       "      <th></th>\n",
       "      <th></th>\n",
       "      <th></th>\n",
       "    </tr>\n",
       "  </thead>\n",
       "  <tbody>\n",
       "    <tr>\n",
       "      <th>130209-82-4</th>\n",
       "      <td>0.0</td>\n",
       "      <td>0.0</td>\n",
       "      <td>0.074844</td>\n",
       "      <td>0.743328</td>\n",
       "      <td>0.867067</td>\n",
       "      <td>0.582633</td>\n",
       "      <td>0.335865</td>\n",
       "      <td>1.565354e-14</td>\n",
       "      <td>0.113208</td>\n",
       "      <td>0.085213</td>\n",
       "      <td>...</td>\n",
       "      <td>0.196928</td>\n",
       "      <td>0.252108</td>\n",
       "      <td>0.1689</td>\n",
       "      <td>0.266486</td>\n",
       "      <td>0.273758</td>\n",
       "      <td>0.249418</td>\n",
       "      <td>0.412305</td>\n",
       "      <td>0.0</td>\n",
       "      <td>0.415476</td>\n",
       "      <td>0.162592</td>\n",
       "    </tr>\n",
       "  </tbody>\n",
       "</table>\n",
       "<p>1 rows × 446 columns</p>\n",
       "</div>"
      ],
      "text/plain": [
       "             nAcid  nBase   SpAbs_A   SpMax_A   SpMAD_A   LogEE_A     VE1_A  \\\n",
       "CASRN                                                                         \n",
       "130209-82-4    0.0    0.0  0.074844  0.743328  0.867067  0.582633  0.335865   \n",
       "\n",
       "                    VR1_A  nAromAtom     nAtom  ...      JGI5      JGI6  \\\n",
       "CASRN                                           ...                       \n",
       "130209-82-4  1.565354e-14   0.113208  0.085213  ...  0.196928  0.252108   \n",
       "\n",
       "               JGI7      JGI8      JGI9     JGI10     JGT10  SRW03     SRW05  \\\n",
       "CASRN                                                                          \n",
       "130209-82-4  0.1689  0.266486  0.273758  0.249418  0.412305    0.0  0.415476   \n",
       "\n",
       "               TSRW10  \n",
       "CASRN                  \n",
       "130209-82-4  0.162592  \n",
       "\n",
       "[1 rows x 446 columns]"
      ]
     },
     "execution_count": 31,
     "metadata": {},
     "output_type": "execute_result"
    }
   ],
   "source": [
    "filtered_test_mordred.head(1)\n"
   ]
  },
  {
   "cell_type": "code",
   "execution_count": 32,
   "id": "135e7c59",
   "metadata": {},
   "outputs": [
    {
     "data": {
      "text/plain": [
       "((2895, 446), (2895, 164))"
      ]
     },
     "execution_count": 32,
     "metadata": {},
     "output_type": "execute_result"
    }
   ],
   "source": [
    "filtered_test_mordred.shape, filtered_test_rdkit2d.shape"
   ]
  },
  {
   "cell_type": "markdown",
   "id": "ed427a5e",
   "metadata": {},
   "source": [
    "Сохранение результатов"
   ]
  },
  {
   "cell_type": "code",
   "execution_count": 33,
   "id": "ef4e3011",
   "metadata": {},
   "outputs": [],
   "source": [
    "filtered_test_ecfp6_bits.to_csv('../data/Bmodel_features/modeling_test_ecfp6_bits.csv')\n",
    "filtered_test_ecfp6_counts.to_csv('../data/Bmodel_features/modeling_test_ecfp6_counts.csv')\n",
    "filtered_test_maccs.to_csv('../data/Bmodel_features/modeling_test_maccs.csv')\n",
    "filtered_test_rdkit2d.to_csv('../data/Bmodel_features/modeling_test_rdkit2d.csv')\n",
    "filtered_test_mordred.to_csv('../data/Bmodel_features/modeling_test_mordred.csv')"
   ]
  }
 ],
 "metadata": {
  "kernelspec": {
   "display_name": "base",
   "language": "python",
   "name": "python3"
  },
  "language_info": {
   "codemirror_mode": {
    "name": "ipython",
    "version": 3
   },
   "file_extension": ".py",
   "mimetype": "text/x-python",
   "name": "python",
   "nbconvert_exporter": "python",
   "pygments_lexer": "ipython3",
   "version": "3.12.3"
  }
 },
 "nbformat": 4,
 "nbformat_minor": 5
}
