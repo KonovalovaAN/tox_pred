{
 "cells": [
  {
   "cell_type": "markdown",
   "metadata": {},
   "source": [
    "# Базовые модели\n",
    "\n",
    "## Эндпоинты:\n",
    "1. **EPA категория** (классы 1-4)  \n",
    "   - Классификация по системе [EPA](https://www.epa.gov/).\n",
    "   \n",
    "2. **GHS категория** (классы 1-5)  \n",
    "   - Классификация по [GHS](https://www.unece.org/ghs-rev0-2003.html).\n",
    "\n",
    "3. **LD50 (ммоль/кг)**  \n",
    "   - Регрессия для прогнозирования летальной дозы.\n",
    "\n",
    "4. **Токсичность (бинарная)**  \n",
    "   - Классификация: `Toxic` (LD50 < 2000 мг/кг → 1).\n",
    "\n",
    "5. **Высокая токсичность (бинарная)**  \n",
    "   - Классификация: `Very Toxic` (LD50 < 50 мг/кг → 1).\n",
    "\n",
    "---\n",
    "\n",
    "## Алгоритмы:\n",
    "### 1. Random Forest (RF)\n",
    "- **Тип задач**:  \n",
    "  Классификация, регрессия.\n",
    "- **Особенности**:  \n",
    "  Ансамбль решающих деревьев с оптимизацией гиперпараметров (`n_estimators`, `max_depth`, `bootstrap` и др.).\n",
    "\n",
    "### 2. Support Vector Machines (SVM) / Support Vector Regression (SVR)\n",
    "- **Тип задач**:  \n",
    "  Классификация (SVM), регрессия (SVR).\n",
    "- **Особенности**:  \n",
    "  Подбор ядра (`rbf`, `linear`) и параметров регуляризации (`C`, `gamma`).\n",
    "\n",
    "### 3. XGBoost\n",
    "- **Тип задач**:  \n",
    "  Классификация, регрессия.\n",
    "- **Особенности**:  \n",
    "  Градиентный бустинг с настройкой скорости обучения (`learning_rate`), глубины деревьев (`max_depth`), регуляризации (`gamma`, `subsample`).\n",
    "\n",
    "### 4. k-Nearest Neighbors (kNN)\n",
    "- **Тип задач**:  \n",
    "  Классификация, регрессия.\n",
    "- **Особенности**:  \n",
    "  Оптимизация метрик расстояния (`dice`, `braycurtis`), числа соседей (`n_neighbors`), весов (`weights`).\n",
    "\n",
    "---\n",
    "\n",
    "## Стратегия обучения\n",
    "- Для всех моделей проведена **5-кратная кросс-валидация**.\n",
    "- Лучшие параметры подобраны через `GridSearchCV` или `RandomizedSearchCV`.\n",
    "- Метрики оценки:  \n",
    "  - Классификация: `ROC AUC`, `F1-weighted`.  \n",
    "  - Регрессия: `MSE`.\n",
    "\n",
    "<details>\n",
    "<summary>🔍 Пример структуры гиперпараметров (RF)</summary>\n",
    "\n",
    "```python\n",
    "{\n",
    "  'n_estimators': [500, 1000, 1500],\n",
    "  'max_depth': [None, 20, 50, 80],\n",
    "  'min_samples_split': [2, 5, 10],\n",
    "  'bootstrap': [True, False]\n",
    "}"
   ]
  },
  {
   "cell_type": "markdown",
   "metadata": {},
   "source": [
    "# Результаты подбора моделей с 5-кратной кросс-валидацией\n",
    "\n",
    "## Endpoint 1: Toxic\n",
    "**Метрика оценки:** `ROC AUC`\n",
    "\n",
    "### 1. ECFP6 Bits\n",
    "- **kNN**:  \n",
    "  Параметры: `{'metric': 'dice', 'n_neighbors': 19, 'weights': 'distance'}`  \n",
    "  Лучший результат: 0.7765003505028532\n",
    "- **SVM**:  \n",
    "  Параметры: `{'C': 1, 'gamma': 0.01}`  \n",
    "  Лучший результат: 0.7615940094038895\n",
    "- **RF**:  \n",
    "  Параметры: `{'n_estimators': 500, 'min_samples_split': 10, 'min_samples_leaf': 4, 'max_features': 'sqrt', 'max_depth': 80, 'bootstrap': False}`  \n",
    "  Лучший результат: 0.7962032805553361\n",
    "- **XGBoost**:  \n",
    "  Параметры: `{'subsample': 0.6, 'n_estimators': 1500, 'min_child_weight': 3, 'max_depth': 10, 'learning_rate': 0.01, 'gamma': 1, 'colsample_bytree': 0.6}`  \n",
    "  Лучший результат: 0.779149971311067\n",
    "\n",
    "### 2. ECFP6 Counts\n",
    "- **kNN**:  \n",
    "  Параметры: `{'metric': 'braycurtis', 'n_neighbors': 15, 'weights': 'distance'}`  \n",
    "  Лучший результат: 0.7758825346243101\n",
    "- **SVM**:  \n",
    "  Параметры: `{'C': 1, 'gamma': 0.01}`  \n",
    "  Лучший результат: 0.756896105732593\n",
    "- **RF**:  \n",
    "  Параметры: `{'n_estimators': 1500, 'min_samples_split': 2, 'min_samples_leaf': 2, 'max_features': 'sqrt', 'max_depth': None, 'bootstrap': False}`  \n",
    "  Лучший результат: 0.7997123705018435\n",
    "- **XGBoost**:  \n",
    "  Параметры: `{'subsample': 0.7, 'n_estimators': 1500, 'min_child_weight': 1, 'max_depth': 10, 'learning_rate': 0.01, 'gamma': 1, 'colsample_bytree': 0.9}`  \n",
    "  Лучший результат: 0.7828889119910382\n",
    "\n",
    "### 3. MACCS\n",
    "- **kNN**:  \n",
    "  Параметры: `{'metric': 'rogerstanimoto', 'n_neighbors': 19, 'weights': 'distance'}`  \n",
    "  Лучший результат: 0.8005131593622032\n",
    "- **SVM**:  \n",
    "  Параметры: `{'C': 1, 'gamma': 0.1}`  \n",
    "  Лучший результат: 0.8142373488655791\n",
    "- **RF**:  \n",
    "  Параметры: `{'n_estimators': 1500, 'min_samples_split': 2, 'min_samples_leaf': 2, 'max_features': 'log2', 'max_depth': None, 'bootstrap': False}`  \n",
    "  Лучший результат: 0.8220226523893197\n",
    "- **XGBoost**:  \n",
    "  Параметры: `{'subsample': 0.8, 'n_estimators': 500, 'min_child_weight': 1, 'max_depth': 10, 'learning_rate': 0.01, 'gamma': 0, 'colsample_bytree': 0.6}`  \n",
    "  Лучший результат: 0.8157\n",
    "\n",
    "### 4. RDKit 2D\n",
    "- **kNN**:  \n",
    "  Параметры: `{'n_neighbors': 15, 'p': 1, 'weights': 'distance'}`  \n",
    "  Лучший результат: 0.8032485798583557\n",
    "- **SVM**:  \n",
    "  Параметры: `{'C': 1, 'gamma': 1}`  \n",
    "  Лучший результат: 0.8141723132585037\n",
    "- **RF**:  \n",
    "  Параметры: `{'n_estimators': 1500, 'min_samples_split': 5, 'min_samples_leaf': 2, 'max_features': 'sqrt', 'max_depth': 20, 'bootstrap': False}`  \n",
    "  Лучший результат: 0.8377562807671433\n",
    "- **XGBoost**:  \n",
    "  Параметры: `{'subsample': 0.8, 'n_estimators': 1500, 'min_child_weight': 3, 'max_depth': 10, 'learning_rate': 0.01, 'gamma': 0, 'colsample_bytree': 0.6}`  \n",
    "  Лучший результат: 0.8300594548863851\n",
    "\n",
    "### 5. Mordred\n",
    "- **kNN**:  \n",
    "  Параметры: `{'n_neighbors': 15, 'p': 1, 'weights': 'distance'}`  \n",
    "  Лучший результат: 0.8050440160843321\n",
    "- **SVM**:  \n",
    "  Параметры: `{'C': 10, 'gamma': 0.1}`  \n",
    "  Лучший результат: 0.8216012931247432\n",
    "- **RF**:  \n",
    "  Параметры: `{'n_estimators': 1500, 'min_samples_split': 2, 'min_samples_leaf': 4, 'max_features': 'sqrt', 'max_depth': None, 'bootstrap': False}`  \n",
    "  Лучший результат: 0.8350463294079058\n",
    "- **XGBoost**:  \n",
    "  Параметры: `{'subsample': 0.6, 'n_estimators': 500, 'min_child_weight': 1, 'max_depth': 10, 'learning_rate': 0.01, 'gamma': 1, 'colsample_bytree': 0.7}`  \n",
    "  Лучший результат: 0.8345831522387966\n",
    "\n",
    "---\n",
    "\n",
    "## Endpoint 2: EPA\n",
    "**Метрика оценки:** `F1-weighted`\n",
    "\n",
    "### 1. ECFP6 Bits\n",
    "- **kNN**:  \n",
    "  Параметры: `{'metric': 'dice', 'n_neighbors': 9, 'weights': 'distance'}`  \n",
    "  Лучший результат: 0.5280720565764737\n",
    "- **SVM**:  \n",
    "  Параметры: `{'C': 10, 'gamma': 0.01}`  \n",
    "  Лучший результат: 0.502214881274199\n",
    "- **RF**:  \n",
    "  Параметры: `{'n_estimators': 1500, 'min_samples_split': 5, 'min_samples_leaf': 2, 'max_features': 'sqrt', 'max_depth': 50, 'bootstrap': False}`  \n",
    "  Лучший результат: 0.4962855434736273\n",
    "- **XGBoost**:  \n",
    "  Параметры: `{'subsample': 0.7, 'n_estimators': 500, 'min_child_weight': 5, 'max_depth': 6, 'learning_rate': 0.1, 'gamma': 0, 'colsample_bytree': 0.8}`  \n",
    "  Лучший результат: 0.5168191594611219\n",
    "\n",
    "### 2. ECFP6 Counts\n",
    "- **kNN**:  \n",
    "  Параметры: `{'metric': 'braycurtis', 'n_neighbors': 9, 'weights': 'distance'}`  \n",
    "  Лучший результат: 0.5286790743951763\n",
    "- **SVM**:  \n",
    "  Параметры: `{'C': 10, 'gamma': 0.01}`  \n",
    "  Лучший результат: 0.507425711140356\n",
    "- **RF**:  \n",
    "  Параметры: `{'n_estimators': 1500, 'min_samples_split': 5, 'min_samples_leaf': 2, 'max_features': 'sqrt', 'max_depth': None, 'bootstrap': False}`  \n",
    "  Лучший результат: 0.49182092154551615\n",
    "- **XGBoost**:  \n",
    "  Параметры: `{'subsample': 0.7, 'n_estimators': 1500, 'min_child_weight': 3, 'max_depth': 10, 'learning_rate': 0.1, 'gamma': 0, 'colsample_bytree': 0.7}`  \n",
    "  Лучший результат: 0.5164297901337191\n",
    "\n",
    "### 3. MACCS\n",
    "- **kNN**:  \n",
    "  Параметры: `{'metric': 'rogerstanimoto', 'n_neighbors': 15, 'weights': 'distance'}`  \n",
    "  Лучший результат: 0.5400022074386337\n",
    "- **SVM**:  \n",
    "  Параметры: `{'C': 100, 'gamma': 0.1}`  \n",
    "  Лучший результат: 0.538085334634762\n",
    "- **RF**:  \n",
    "  Параметры: `{'n_estimators': 1500, 'min_samples_split': 5, 'min_samples_leaf': 2, 'max_features': 'sqrt', 'max_depth': 35, 'bootstrap': False}`  \n",
    "  Лучший результат: 0.5387384859360687\n",
    "- **XGBoost**:  \n",
    "  Параметры: `{'subsample': 0.7, 'n_estimators': 1500, 'min_child_weight': 1, 'max_depth': 6, 'learning_rate': 0.01, 'gamma': 0, 'colsample_bytree': 0.5}`  \n",
    "  Лучший результат: 0.5367818120130525\n",
    "\n",
    "### 4. RDKit 2D\n",
    "- **kNN**:  \n",
    "  Параметры: `{'n_neighbors': 9, 'p': 1, 'weights': 'distance'}`  \n",
    "  Лучший результат: 0.5394396679306864\n",
    "- **SVM**:  \n",
    "  Параметры: `{'C': 10, 'gamma': 1}`  \n",
    "  Лучший результат: 0.5396127137198012\n",
    "- **RF**:  \n",
    "  Параметры: `{'n_estimators': 500, 'min_samples_split': 2, 'min_samples_leaf': 2, 'max_features': 'sqrt', 'max_depth': 65, 'bootstrap': False}`  \n",
    "  Лучший результат: 0.544268835812836\n",
    "- **XGBoost**:  \n",
    "  Параметры: `{'subsample': 0.8, 'n_estimators': 1500, 'min_child_weight': 3, 'max_depth': 10, 'learning_rate': 0.1, 'gamma': 0, 'colsample_bytree': 0.5}`  \n",
    "  Лучший результат: 0.5437794552662495\n",
    "\n",
    "### 5. Mordred\n",
    "- **kNN**:  \n",
    "  Параметры: `{'n_neighbors': 9, 'p': 1, 'weights': 'distance'}`  \n",
    "  Лучший результат: 0.5397530479270659\n",
    "- **SVM**:  \n",
    "  Параметры: `{'C': 10, 'gamma': 1}`  \n",
    "  Лучший результат: 0.5365768484152484\n",
    "- **RF**:  \n",
    "  Параметры: `{'n_estimators': 1500, 'min_samples_split': 10, 'min_samples_leaf': 2, 'max_features': 'sqrt', 'max_depth': 50, 'bootstrap': False}`  \n",
    "  Лучший результат: 0.5431836837060968\n",
    "- **XGBoost**:  \n",
    "  Параметры: `{'subsample': 1.0, 'n_estimators': 1500, 'min_child_weight': 1, 'max_depth': 10, 'learning_rate': 0.1, 'gamma': 0, 'colsample_bytree': 0.6}`  \n",
    "  Лучший результат: 0.5482312937748454\n",
    "\n",
    "---\n",
    "\n",
    "## Endpoint 3: logLD50\n",
    "**Метрика оценки:** `MSE`\n",
    "\n",
    "### 1. ECFP6 Bits\n",
    "- **kNN**:  \n",
    "  Параметры: `{'metric': 'dice', 'n_neighbors': 15, 'weights': 'distance'}`  \n",
    "  Лучший результат: 0.5332636774453705\n",
    "- **SVM**:  \n",
    "  Параметры: `{'C': 1, 'gamma': 0.01}`  \n",
    "  Лучший результат: 0.5503405736122804\n",
    "- **RF**:  \n",
    "  Параметры: `{'n_estimators': 1500, 'min_samples_split': 2, 'min_samples_leaf': 2, 'max_features': 'sqrt', 'max_depth': 50, 'bootstrap': True}`  \n",
    "  Лучший результат: 0.5374327338246813\n",
    "- **XGBoost**:  \n",
    "  Параметры: `{'subsample': 0.6, 'n_estimators': 1500, 'min_child_weight': 1, 'max_depth': 10, 'learning_rate': 0.01, 'gamma': 0, 'colsample_bytree': 0.9}`  \n",
    "  Лучший результат: 0.49743116439673163\n",
    "\n",
    "### 2. ECFP6 Counts\n",
    "- **kNN**:  \n",
    "  Параметры: `{'metric': 'braycurtis', 'n_neighbors': 9, 'weights': 'distance'}`  \n",
    "  Лучший результат: 0.5249314216982528\n",
    "- **SVM**:  \n",
    "  Параметры: `{'C': 10, 'gamma': 0.01}`  \n",
    "  Лучший результат: 0.5453515648632298\n",
    "- **RF**:  \n",
    "  Параметры: `{'n_estimators': 1500, 'min_samples_split': 5, 'min_samples_leaf': 2, 'max_features': 'sqrt', 'max_depth': None, 'bootstrap': False}`  \n",
    "  Лучший результат: 0.5408206640969156\n",
    "- **XGBoost**:  \n",
    "  Параметры: `{'subsample': 0.9, 'n_estimators': 1500, 'min_child_weight': 3, 'max_depth': 10, 'learning_rate': 0.01, 'gamma': 0, 'colsample_bytree': 0.5}`  \n",
    "  Лучший результат: 0.4954868664317701\n",
    "\n",
    "### 3. MACCS\n",
    "- **kNN**:  \n",
    "  Параметры: `{'metric': 'rogerstanimoto', 'n_neighbors': 9, 'weights': 'distance'}`  \n",
    "  Лучший результат: 0.489269050087817\n",
    "- **SVM**:  \n",
    "  Параметры: `{'C': 10, 'gamma': 0.1}`  \n",
    "  Лучший результат: 0.45290928375622946\n",
    "- **RF**:  \n",
    "  Параметры: `{'n_estimators': 500, 'min_samples_split': 2, 'min_samples_leaf': 2, 'max_features': 'sqrt', 'max_depth': None, 'bootstrap': False}`  \n",
    "  Лучший результат: 0.443660837367564\n",
    "- **XGBoost**:  \n",
    "  Параметры: `{'subsample': 0.6, 'n_estimators': 1500, 'min_child_weight': 3, 'max_depth': 6, 'learning_rate': 0.01, 'gamma': 0, 'colsample_bytree': 0.5}`  \n",
    "  Лучший результат: 0.4310792218926224\n",
    "\n",
    "### 4. RDKit 2D\n",
    "- **kNN**:  \n",
    "  Параметры: `{'n_neighbors': 9, 'p': 1, 'weights': 'distance'}`  \n",
    "  Лучший результат: 0.49686610339448434\n",
    "- **SVM**:  \n",
    "  Параметры: `{'C': 1, 'gamma': 1}`  \n",
    "  Лучший результат: 0.49409442627621375\n",
    "- **RF**:  \n",
    "  Параметры: `{'n_estimators': 1500, 'min_samples_split': 2, 'min_samples_leaf': 2, 'max_features': 'log2', 'max_depth': 20, 'bootstrap': False}`  \n",
    "  Лучший результат: 0.46541088612250886\n",
    "- **XGBoost**:  \n",
    "  Параметры: `{'subsample': 0.7, 'n_estimators': 1500, 'min_child_weight': 5, 'max_depth': 10, 'learning_rate': 0.01, 'gamma': 0, 'colsample_bytree': 0.6}`  \n",
    "  Лучший результат: 0.4468637779795599\n",
    "\n",
    "### 5. Mordred\n",
    "- **kNN**:  \n",
    "  Параметры: `{'n_neighbors': 9, 'p': 1, 'weights': 'distance'}`  \n",
    "  Лучший результат: 0.47073453589854897\n",
    "- **SVM**:  \n",
    "  Параметры: `{'C': 10, 'gamma': 0.1}`  \n",
    "  Лучший результат: 0.46021540702351055\n",
    "- **RF**:  \n",
    "  Параметры: `{'n_estimators': 500, 'min_samples_split': 5, 'min_samples_leaf': 2, 'max_features': 'sqrt', 'max_depth': 80, 'bootstrap': False}`  \n",
    "  Лучший результат: 0.45110994944203975\n",
    "- **XGBoost**:  \n",
    "  Параметры: `{'subsample': 0.7, 'n_estimators': 1500, 'min_child_weight': 1, 'max_depth': 6, 'learning_rate': 0.01, 'gamma': 0, 'colsample_bytree': 0.7}`  \n",
    "  Лучший результат: 0.42682088858473594."
   ]
  },
  {
   "cell_type": "code",
   "execution_count": 1,
   "metadata": {},
   "outputs": [],
   "source": [
    "from utils import * \n",
    "\n",
    "import pandas as pd\n",
    "import numpy as np\n",
    "import matplotlib.pyplot as plt\n",
    "import math\n",
    "import itertools\n",
    "from pprint import pprint\n",
    "import joblib\n",
    "\n",
    "import statistics\n",
    "\n",
    "# Models\n",
    "from xgboost import XGBClassifier, XGBRegressor\n",
    "from sklearn.ensemble import RandomForestClassifier, RandomForestRegressor\n",
    "from sklearn.svm import SVC, SVR\n",
    "from sklearn.neighbors import KNeighborsClassifier, KNeighborsRegressor\n",
    "\n",
    "from sklearn.preprocessing import LabelEncoder, LabelBinarizer\n",
    "from sklearn.model_selection import KFold, cross_validate, GridSearchCV, cross_val_score, RandomizedSearchCV \n",
    "from sklearn.model_selection import cross_val_predict\n",
    "\n",
    "from sklearn.pipeline import Pipeline\n",
    "\n",
    "from sklearn.metrics import make_scorer\n",
    "\n",
    "#regression matrics\n",
    "from sklearn.metrics import mean_absolute_error , mean_squared_error, r2_score\n",
    "\n",
    "#classification metrics\n",
    "from sklearn.metrics import accuracy_score, confusion_matrix, classification_report\n",
    "from sklearn.metrics import accuracy_score, balanced_accuracy_score, roc_auc_score, f1_score, matthews_corrcoef\n",
    "\n",
    "from sklearn.base import BaseEstimator\n",
    "from sklearn.base import ClassifierMixin\n",
    "from sklearn.base import TransformerMixin\n",
    "from sklearn.base import clone\n",
    "from sklearn.model_selection._split import check_cv"
   ]
  },
  {
   "cell_type": "markdown",
   "metadata": {},
   "source": [
    "## Data"
   ]
  },
  {
   "cell_type": "code",
   "execution_count": 2,
   "metadata": {},
   "outputs": [
    {
     "data": {
      "text/plain": [
       "((8221, 6), (2849, 6))"
      ]
     },
     "execution_count": 2,
     "metadata": {},
     "output_type": "execute_result"
    }
   ],
   "source": [
    "train_labels = pd.read_csv('../data/processed/train_labels.csv', index_col = 'CASRN')\n",
    "test_labels = pd.read_csv('../data/processed/test_labels.csv', index_col = 'CASRN')\n",
    "train_labels.shape, test_labels.shape"
   ]
  },
  {
   "cell_type": "markdown",
   "metadata": {},
   "source": [
    "Check labeled data in train and test sets for each endpoints"
   ]
  },
  {
   "cell_type": "code",
   "execution_count": 3,
   "metadata": {},
   "outputs": [
    {
     "data": {
      "text/html": [
       "<div>\n",
       "<style scoped>\n",
       "    .dataframe tbody tr th:only-of-type {\n",
       "        vertical-align: middle;\n",
       "    }\n",
       "\n",
       "    .dataframe tbody tr th {\n",
       "        vertical-align: top;\n",
       "    }\n",
       "\n",
       "    .dataframe thead th {\n",
       "        text-align: right;\n",
       "    }\n",
       "</style>\n",
       "<table border=\"1\" class=\"dataframe\">\n",
       "  <thead>\n",
       "    <tr style=\"text-align: right;\">\n",
       "      <th></th>\n",
       "      <th>SMILES</th>\n",
       "      <th>logLD50_mmolkg</th>\n",
       "      <th>verytoxic</th>\n",
       "      <th>toxic</th>\n",
       "      <th>EPA_category</th>\n",
       "      <th>GHS_category</th>\n",
       "    </tr>\n",
       "    <tr>\n",
       "      <th>CASRN</th>\n",
       "      <th></th>\n",
       "      <th></th>\n",
       "      <th></th>\n",
       "      <th></th>\n",
       "      <th></th>\n",
       "      <th></th>\n",
       "    </tr>\n",
       "  </thead>\n",
       "  <tbody>\n",
       "    <tr>\n",
       "      <th>23233-88-7</th>\n",
       "      <td>CC(=O)Oc1c(Br)cc(Cl)cc1C(=S)Nc1ccc(Br)cc1</td>\n",
       "      <td>0.810998</td>\n",
       "      <td>0.0</td>\n",
       "      <td>0.0</td>\n",
       "      <td>3.0</td>\n",
       "      <td>5.0</td>\n",
       "    </tr>\n",
       "  </tbody>\n",
       "</table>\n",
       "</div>"
      ],
      "text/plain": [
       "                                               SMILES  logLD50_mmolkg  \\\n",
       "CASRN                                                                   \n",
       "23233-88-7  CC(=O)Oc1c(Br)cc(Cl)cc1C(=S)Nc1ccc(Br)cc1        0.810998   \n",
       "\n",
       "            verytoxic  toxic  EPA_category  GHS_category  \n",
       "CASRN                                                     \n",
       "23233-88-7        0.0    0.0           3.0           5.0  "
      ]
     },
     "execution_count": 3,
     "metadata": {},
     "output_type": "execute_result"
    }
   ],
   "source": [
    "train_labels.head(1)"
   ]
  },
  {
   "cell_type": "code",
   "execution_count": 4,
   "metadata": {},
   "outputs": [
    {
     "name": "stdout",
     "output_type": "stream",
     "text": [
      "LD50: Train Set: 6092 Test Set: 2145 \n",
      "Binary Toxic: Train Set: 8209 Test Set: 2844 \n",
      "EPA_category: Train Set: 8126 Test Set: 2822 \n",
      "\n",
      "The ohter two endpoint are not modeled\n",
      "Binary verytoxic: Train Set: 8219 Test Set: 2848 \n",
      "GHS_category: Train Set: 8189 Test Set: 2840\n"
     ]
    }
   ],
   "source": [
    "print('LD50:', \n",
    "      'Train Set:', train_labels.shape[0] - sum(train_labels.logLD50_mmolkg.isnull()),\n",
    "      'Test Set:',  test_labels.shape[0] - sum(test_labels.logLD50_mmolkg.isnull()),\n",
    "      '\\n'\n",
    "      'Binary Toxic:',\n",
    "      'Train Set:', train_labels.shape[0] - sum(train_labels.toxic.isnull()),\n",
    "      'Test Set:',  test_labels.shape[0] - sum(test_labels.toxic.isnull()),     \n",
    "           \n",
    "      '\\n'\n",
    "      'EPA_category:',\n",
    "      'Train Set:', train_labels.shape[0] - sum(train_labels.EPA_category.isnull()),\n",
    "      'Test Set:',  test_labels.shape[0] - sum(test_labels.EPA_category.isnull()),    \n",
    "      \n",
    "      '\\n' '\\n'\n",
    "      'The ohter two endpoint are not modeled'\n",
    "      '\\n' \n",
    "      'Binary verytoxic:',\n",
    "      'Train Set:', train_labels.shape[0] - sum(train_labels.verytoxic.isnull()),\n",
    "      'Test Set:',  test_labels.shape[0] - sum(test_labels.verytoxic.isnull()),    \n",
    "      \n",
    "      '\\n'\n",
    "      'GHS_category:',\n",
    "      'Train Set:', train_labels.shape[0] - sum(train_labels.GHS_category.isnull()),\n",
    "      'Test Set:',  test_labels.shape[0] - sum(test_labels.GHS_category.isnull())       \n",
    "     )"
   ]
  },
  {
   "cell_type": "code",
   "execution_count": 5,
   "metadata": {},
   "outputs": [],
   "source": [
    "# import all the training features\n",
    "train_ecfp6_bits = pd.read_csv('../data/Bmodel_features/modeling_train_ecfp6_bits.csv', index_col='CASRN')\n",
    "train_ecfp6_counts = pd.read_csv('../data/Bmodel_features/modeling_train_ecfp6_counts.csv', index_col='CASRN')\n",
    "train_maccs = pd.read_csv('../data/Bmodel_features/modeling_train_maccs.csv', index_col='CASRN')\n",
    "train_rdkit2d = pd.read_csv('../data/Bmodel_features/modeling_train_rdkit2d.csv', index_col='CASRN')\n",
    "train_mordred = pd.read_csv('../data/Bmodel_features/modeling_train_mordred.csv', index_col='CASRN')\n",
    "\n",
    "\n",
    "# import all the test features\n",
    "test_ecfp6_bits = pd.read_csv('../data/Bmodel_features/modeling_test_ecfp6_bits.csv', index_col='CASRN')\n",
    "test_ecfp6_counts = pd.read_csv('../data/Bmodel_features/modeling_test_ecfp6_counts.csv', index_col='CASRN')\n",
    "test_maccs = pd.read_csv('../data/Bmodel_features/modeling_test_maccs.csv', index_col='CASRN')\n",
    "test_rdkit2d = pd.read_csv('../data/Bmodel_features/modeling_test_rdkit2d.csv', index_col='CASRN')\n",
    "test_mordred = pd.read_csv('../data/Bmodel_features/modeling_test_mordred.csv', index_col='CASRN')"
   ]
  },
  {
   "cell_type": "markdown",
   "metadata": {},
   "source": [
    "# Training"
   ]
  },
  {
   "cell_type": "markdown",
   "metadata": {},
   "source": [
    "- Report the cross-validation reslut\n",
    "- Save `meta features` for building hierarchial models\n",
    "- Save `out-of-fold predictions` for evaluating the base models\n",
    "- Save the trained `base models`"
   ]
  },
  {
   "cell_type": "markdown",
   "metadata": {},
   "source": [
    "## Endpoint 1: Toxic"
   ]
  },
  {
   "cell_type": "markdown",
   "metadata": {},
   "source": [
    "### random forest"
   ]
  },
  {
   "cell_type": "code",
   "execution_count": 6,
   "metadata": {},
   "outputs": [
    {
     "name": "stdout",
     "output_type": "stream",
     "text": [
      "Accuracy: 0.788 std: 0.015\n",
      "Balance Accuracy: 0.778 std: 0.015\n",
      "matthews_corrcoef: 0.566 std: 0.03\n",
      "f1_score: 0.787 std: 0.015\n",
      "AUROC: 0.778 std: 0.015\n",
      "CPU times: total: 1h 1min 43s\n",
      "Wall time: 10min 31s\n"
     ]
    },
    {
     "data": {
      "text/plain": [
       "['../results/Base_models/Toxic_RF_mordred_CVScore']"
      ]
     },
     "execution_count": 6,
     "metadata": {},
     "output_type": "execute_result"
    }
   ],
   "source": [
    "%%time\n",
    "#yes\n",
    "endpoint = 'Toxic'\n",
    "descriptor = 'mordred'\n",
    "algorithm = 'RF'\n",
    "name = f'{endpoint}_{algorithm}_{descriptor}'\n",
    "\n",
    "encoder_toxic = joblib.load('../encoder_models/encoder_toxic.joblib')\n",
    "\n",
    "# model\n",
    "rf_clf = RandomForestClassifier(random_state =42, n_jobs=6,\n",
    "                              n_estimators = 1500, min_samples_split = 2, min_samples_leaf=4,\n",
    "                              max_features = 'sqrt', max_depth=None, bootstrap= False)\n",
    "\n",
    "#input\n",
    "a, b,c,d,e = prepare_input(train_labels, train_mordred, target = 'toxic', encoder = encoder_toxic)\n",
    "\n",
    "# results\n",
    "BCM_mf,  BCM_oof, BCM_base_model, cv_score  = Classification_meta_features(rf_clf, a, c, b, d, e,cv=10,n_jobs=1, \n",
    "                                                      col_names = [f'{name}-0', f'{name}-1'])\n",
    "# report the results\n",
    "report_clf_models(cv_score)\n",
    "\n",
    "# Save results\n",
    "BCM_mf.to_csv(f'../data/Hmodel_features/{name}.csv')\n",
    "np.save(f'../results/Base_models/{name}.npy', BCM_oof)\n",
    "joblib.dump(BCM_base_model, f'../models/Base_models/{name}.pkl')\n",
    "joblib.dump(cv_score, f'../results/Base_models/{name}_CVScore')\n"
   ]
  },
  {
   "cell_type": "code",
   "execution_count": 7,
   "metadata": {},
   "outputs": [
    {
     "name": "stdout",
     "output_type": "stream",
     "text": [
      "Accuracy: 0.787 std: 0.013\n",
      "Balance Accuracy: 0.776 std: 0.011\n",
      "matthews_corrcoef: 0.562 std: 0.024\n",
      "f1_score: 0.785 std: 0.012\n",
      "AUROC: 0.776 std: 0.011\n",
      "CPU times: total: 20min 20s\n",
      "Wall time: 3min 53s\n"
     ]
    },
    {
     "data": {
      "text/plain": [
       "['../results/Base_models/Toxic_RF_rdkit2d_CVScore']"
      ]
     },
     "execution_count": 7,
     "metadata": {},
     "output_type": "execute_result"
    }
   ],
   "source": [
    "%%time\n",
    "#yes\n",
    "#thing need to change from model to model\n",
    "# (1) descriptor (2) algorithm (3) model (4) model in the Classification_meta_features\n",
    "\n",
    "endpoint = 'Toxic'\n",
    "descriptor = 'rdkit2d'\n",
    "algorithm = 'RF'\n",
    "name = f'{endpoint}_{algorithm}_{descriptor}'\n",
    "\n",
    "encoder_toxic = joblib.load('../encoder_models/encoder_toxic.joblib')\n",
    "\n",
    "# model\n",
    "rf_clf = RandomForestClassifier(random_state =42, n_jobs=6,\n",
    "                              n_estimators = 1500, min_samples_split = 5, min_samples_leaf=2,\n",
    "                              max_features = 'sqrt', max_depth=20, bootstrap= False)\n",
    "\n",
    "#input\n",
    "a, b,c,d,e = prepare_input(train_labels, train_rdkit2d, target = 'toxic', encoder = encoder_toxic)\n",
    "\n",
    "# results\n",
    "BCM_mf,  BCM_oof, BCM_base_model, cv_score  = Classification_meta_features(rf_clf, a, c, b, d, e,cv=10,n_jobs=1, \n",
    "                                                      col_names = [f'{name}-0', f'{name}-1'])\n",
    "# report the results\n",
    "report_clf_models(cv_score)\n",
    "\n",
    "# Save results\n",
    "BCM_mf.to_csv(f'../data/Hmodel_features/{name}.csv')\n",
    "np.save(f'../results/Base_models/{name}.npy', BCM_oof)\n",
    "joblib.dump(BCM_base_model, f'../models/Base_models/{name}.pkl')\n",
    "joblib.dump(cv_score, f'../results/Base_models/{name}_CVScore')\n"
   ]
  },
  {
   "cell_type": "code",
   "execution_count": 8,
   "metadata": {},
   "outputs": [
    {
     "name": "stdout",
     "output_type": "stream",
     "text": [
      "Accuracy: 0.784 std: 0.015\n",
      "Balance Accuracy: 0.775 std: 0.014\n",
      "matthews_corrcoef: 0.558 std: 0.03\n",
      "f1_score: 0.783 std: 0.014\n",
      "AUROC: 0.775 std: 0.014\n",
      "CPU times: total: 5min 51s\n",
      "Wall time: 2min 1s\n"
     ]
    },
    {
     "data": {
      "text/plain": [
       "['../results/Base_models/Toxic_RF_maccs_CVScore']"
      ]
     },
     "execution_count": 8,
     "metadata": {},
     "output_type": "execute_result"
    }
   ],
   "source": [
    "%%time\n",
    "#yes\n",
    "#thing need to change from model to model\n",
    "# (1) descriptor (2) algorithm (3) model (4) model in the Classification_meta_features\n",
    "\n",
    "endpoint = 'Toxic'\n",
    "descriptor = 'maccs'\n",
    "algorithm = 'RF'\n",
    "name = f'{endpoint}_{algorithm}_{descriptor}'\n",
    "\n",
    "encoder_toxic = joblib.load('../encoder_models/encoder_toxic.joblib')\n",
    "\n",
    "# model\n",
    "rf_clf = RandomForestClassifier(random_state =42, n_jobs=6,\n",
    "                              n_estimators = 1500, min_samples_split = 2, min_samples_leaf=2,\n",
    "                              max_features = 'log2', max_depth=None, bootstrap= False)\n",
    "\n",
    "#input\n",
    "a, b,c,d,e = prepare_input(train_labels, train_maccs, target = 'toxic', encoder = encoder_toxic)\n",
    "\n",
    "# results\n",
    "BCM_mf,  BCM_oof, BCM_base_model, cv_score  = Classification_meta_features(rf_clf, a, c, b, d, e,cv=10,n_jobs=1, \n",
    "                                                      col_names = [f'{name}-0', f'{name}-1'])\n",
    "# report the results\n",
    "report_clf_models(cv_score)\n",
    "\n",
    "# Save results\n",
    "BCM_mf.to_csv(f'../data/Hmodel_features/{name}.csv')\n",
    "np.save(f'../results/Base_models/{name}.npy', BCM_oof)\n",
    "joblib.dump(BCM_base_model, f'../models/Base_models/{name}.pkl')\n",
    "joblib.dump(cv_score, f'../results/Base_models/{name}_CVScore')\n"
   ]
  },
  {
   "cell_type": "code",
   "execution_count": 9,
   "metadata": {},
   "outputs": [
    {
     "name": "stdout",
     "output_type": "stream",
     "text": [
      "Accuracy: 0.766 std: 0.018\n",
      "Balance Accuracy: 0.751 std: 0.017\n",
      "matthews_corrcoef: 0.521 std: 0.037\n",
      "f1_score: 0.762 std: 0.018\n",
      "AUROC: 0.751 std: 0.017\n",
      "CPU times: total: 37min 18s\n",
      "Wall time: 6min 48s\n"
     ]
    },
    {
     "data": {
      "text/plain": [
       "['../results/Base_models/Toxic_RF_ecfp6counts_CVScore']"
      ]
     },
     "execution_count": 9,
     "metadata": {},
     "output_type": "execute_result"
    }
   ],
   "source": [
    "%%time\n",
    "#yes\n",
    "#thing need to change from model to model\n",
    "# (1) descriptor (2) algorithm (3) model (4) model in the Classification_meta_features\n",
    "\n",
    "endpoint = 'Toxic'\n",
    "descriptor = 'ecfp6counts'\n",
    "algorithm = 'RF'\n",
    "name = f'{endpoint}_{algorithm}_{descriptor}'\n",
    "\n",
    "encoder_toxic = joblib.load('../encoder_models/encoder_toxic.joblib')\n",
    "\n",
    "# model\n",
    "rf_clf = RandomForestClassifier(random_state =42, n_jobs=6,\n",
    "                              n_estimators = 1500, min_samples_split = 2, min_samples_leaf=2,\n",
    "                              max_features = 'sqrt', max_depth=None, bootstrap= False)\n",
    "\n",
    "#input\n",
    "a, b,c,d,e = prepare_input(train_labels, train_ecfp6_counts, target = 'toxic', encoder = encoder_toxic)\n",
    "\n",
    "# results\n",
    "BCM_mf,  BCM_oof, BCM_base_model, cv_score  = Classification_meta_features(rf_clf, a, c, b, d, e,cv=10,n_jobs=1, \n",
    "                                                      col_names = [f'{name}-0', f'{name}-1'])\n",
    "# report the results\n",
    "report_clf_models(cv_score)\n",
    "\n",
    "# Save results\n",
    "BCM_mf.to_csv(f'../data/Hmodel_features/{name}.csv')\n",
    "np.save(f'../results/Base_models/{name}.npy', BCM_oof)\n",
    "joblib.dump(BCM_base_model, f'../models/Base_models/{name}.pkl')\n",
    "joblib.dump(cv_score, f'../results/Base_models/{name}_CVScore')\n"
   ]
  },
  {
   "cell_type": "code",
   "execution_count": 10,
   "metadata": {},
   "outputs": [
    {
     "name": "stdout",
     "output_type": "stream",
     "text": [
      "Accuracy: 0.759 std: 0.013\n",
      "Balance Accuracy: 0.744 std: 0.014\n",
      "matthews_corrcoef: 0.504 std: 0.03\n",
      "f1_score: 0.755 std: 0.013\n",
      "AUROC: 0.744 std: 0.014\n",
      "CPU times: total: 28min 11s\n",
      "Wall time: 4min 50s\n"
     ]
    },
    {
     "data": {
      "text/plain": [
       "['../results/Base_models/Toxic_RF_ecfp6bits_CVScore']"
      ]
     },
     "execution_count": 10,
     "metadata": {},
     "output_type": "execute_result"
    }
   ],
   "source": [
    "%%time\n",
    "#yes\n",
    "#thing need to change from model to model\n",
    "# (1) descriptor (2) algorithm (3) model (4) model in the Classification_meta_features\n",
    "\n",
    "endpoint = 'Toxic'\n",
    "descriptor = 'ecfp6bits'\n",
    "algorithm = 'RF'\n",
    "name = f'{endpoint}_{algorithm}_{descriptor}'\n",
    "\n",
    "encoder_toxic = joblib.load('../encoder_models/encoder_toxic.joblib')\n",
    "\n",
    "# model\n",
    "rf_clf = RandomForestClassifier(random_state =42, n_jobs=6,\n",
    "                              n_estimators = 500, min_samples_split = 10, min_samples_leaf=4,\n",
    "                              max_features = 'sqrt', max_depth=80, bootstrap= False)\n",
    "\n",
    "#input\n",
    "a, b,c,d,e = prepare_input(train_labels, train_ecfp6_bits, target = 'toxic', encoder = encoder_toxic)\n",
    "\n",
    "# results\n",
    "BCM_mf,  BCM_oof, BCM_base_model, cv_score  = Classification_meta_features(rf_clf, a, c, b, d, e,cv=10,n_jobs=1, \n",
    "                                                      col_names = [f'{name}-0', f'{name}-1'])\n",
    "# report the results\n",
    "report_clf_models(cv_score)\n",
    "\n",
    "# Save results\n",
    "BCM_mf.to_csv(f'../data/Hmodel_features/{name}.csv')\n",
    "np.save(f'../results/Base_models/{name}.npy', BCM_oof)\n",
    "joblib.dump(BCM_base_model, f'../models/Base_models/{name}.pkl')\n",
    "joblib.dump(cv_score, f'../results/Base_models/{name}_CVScore')\n"
   ]
  },
  {
   "cell_type": "markdown",
   "metadata": {},
   "source": [
    "### xgboost"
   ]
  },
  {
   "cell_type": "code",
   "execution_count": 11,
   "metadata": {},
   "outputs": [
    {
     "name": "stdout",
     "output_type": "stream",
     "text": [
      "Accuracy: 0.753 std: 0.014\n",
      "Balance Accuracy: 0.742 std: 0.014\n",
      "matthews_corrcoef: 0.492 std: 0.028\n",
      "f1_score: 0.751 std: 0.014\n",
      "AUROC: 0.742 std: 0.014\n",
      "CPU times: total: 21min 16s\n",
      "Wall time: 3min 35s\n"
     ]
    },
    {
     "data": {
      "text/plain": [
       "['../results/Base_models/Toxic_xgboost_ecfp6bits_CVScore']"
      ]
     },
     "execution_count": 11,
     "metadata": {},
     "output_type": "execute_result"
    }
   ],
   "source": [
    "%%time\n",
    "#yes\n",
    "#thing need to change from model to model\n",
    "# (1) descriptor (2) algorithm (3) model (4) model in the Classification_meta_features\n",
    "\n",
    "endpoint = 'Toxic'\n",
    "descriptor = 'ecfp6bits'\n",
    "algorithm = 'xgboost'\n",
    "name = f'{endpoint}_{algorithm}_{descriptor}'\n",
    "\n",
    "encoder_toxic = joblib.load('../encoder_models/encoder_toxic.joblib')\n",
    "\n",
    "# model\n",
    "clf = XGBClassifier(random_state =123, n_jobs=6,\n",
    "                    subsample = 0.6, n_estimators = 1500, min_child_weight=3,\n",
    "                    max_depth = 10, learning_rate=0.01, gamma= 1,\n",
    "                    colsample_bytree = 0.6)\n",
    "\n",
    "#input\n",
    "a, b,c,d,e = prepare_input(train_labels, train_ecfp6_bits, target = 'toxic', encoder = encoder_toxic)\n",
    "\n",
    "# results\n",
    "BCM_mf,  BCM_oof, BCM_base_model, cv_score  = Classification_meta_features(clf, a, c, b, d, e,cv=10,n_jobs=1, \n",
    "                                                      col_names = [f'{name}-0', f'{name}-1'])\n",
    "# report the results\n",
    "report_clf_models(cv_score)\n",
    "\n",
    "# Save results\n",
    "BCM_mf.to_csv(f'../data/Hmodel_features/{name}.csv')\n",
    "np.save(f'../results/Base_models/{name}.npy', BCM_oof)\n",
    "joblib.dump(BCM_base_model, f'../models/Base_models/{name}.pkl')\n",
    "joblib.dump(cv_score, f'../results/Base_models/{name}_CVScore')\n"
   ]
  },
  {
   "cell_type": "code",
   "execution_count": 12,
   "metadata": {},
   "outputs": [
    {
     "name": "stdout",
     "output_type": "stream",
     "text": [
      "Accuracy: 0.761 std: 0.013\n",
      "Balance Accuracy: 0.75 std: 0.012\n",
      "matthews_corrcoef: 0.508 std: 0.026\n",
      "f1_score: 0.758 std: 0.013\n",
      "AUROC: 0.75 std: 0.012\n",
      "CPU times: total: 24min 15s\n",
      "Wall time: 4min 4s\n"
     ]
    },
    {
     "data": {
      "text/plain": [
       "['../results/Base_models/Toxic_xgboost_ecfp6counts_CVScore']"
      ]
     },
     "execution_count": 12,
     "metadata": {},
     "output_type": "execute_result"
    }
   ],
   "source": [
    "%%time\n",
    "#yes\n",
    "#thing need to change from model to model\n",
    "# (1) descriptor (2) algorithm (3) model (4) model in the Classification_meta_features\n",
    "\n",
    "endpoint = 'Toxic'\n",
    "descriptor = 'ecfp6counts'\n",
    "algorithm = 'xgboost'\n",
    "name = f'{endpoint}_{algorithm}_{descriptor}'\n",
    "\n",
    "encoder_toxic = joblib.load('../encoder_models/encoder_toxic.joblib')\n",
    "\n",
    "# model\n",
    "clf = XGBClassifier(random_state =123, n_jobs=6,\n",
    "                    subsample = 0.7, n_estimators = 1500, min_child_weight=1,\n",
    "                    max_depth = 10, learning_rate=0.01, gamma= 1,\n",
    "                    colsample_bytree = 0.9)\n",
    "\n",
    "#input\n",
    "a, b,c,d,e = prepare_input(train_labels, train_ecfp6_counts, target = 'toxic', encoder = encoder_toxic)\n",
    "\n",
    "# results\n",
    "BCM_mf,  BCM_oof, BCM_base_model, cv_score  = Classification_meta_features(clf, a, c, b, d, e,cv=10,n_jobs=1, \n",
    "                                                      col_names = [f'{name}-0', f'{name}-1'])\n",
    "# report the results\n",
    "report_clf_models(cv_score)\n",
    "\n",
    "# Save results\n",
    "BCM_mf.to_csv(f'../data/Hmodel_features/{name}.csv')\n",
    "np.save(f'../results/Base_models/{name}.npy', BCM_oof)\n",
    "joblib.dump(BCM_base_model, f'../models/Base_models/{name}.pkl')\n",
    "joblib.dump(cv_score, f'../results/Base_models/{name}_CVScore')\n"
   ]
  },
  {
   "cell_type": "code",
   "execution_count": 13,
   "metadata": {},
   "outputs": [
    {
     "name": "stdout",
     "output_type": "stream",
     "text": [
      "Accuracy: 0.78 std: 0.011\n",
      "Balance Accuracy: 0.77 std: 0.012\n",
      "matthews_corrcoef: 0.549 std: 0.024\n",
      "f1_score: 0.778 std: 0.011\n",
      "AUROC: 0.77 std: 0.012\n",
      "CPU times: total: 2min 2s\n",
      "Wall time: 20.6 s\n"
     ]
    },
    {
     "data": {
      "text/plain": [
       "['../results/Base_models/Toxic_xgboost_maccs_CVScore']"
      ]
     },
     "execution_count": 13,
     "metadata": {},
     "output_type": "execute_result"
    }
   ],
   "source": [
    "%%time\n",
    "#yes\n",
    "#thing need to change from model to model\n",
    "# (1) descriptor (2) algorithm (3) model (4) model in the Classification_meta_features\n",
    "\n",
    "endpoint = 'Toxic'\n",
    "descriptor = 'maccs'\n",
    "algorithm = 'xgboost'\n",
    "name = f'{endpoint}_{algorithm}_{descriptor}'\n",
    "\n",
    "encoder_toxic = joblib.load('../encoder_models/encoder_toxic.joblib')\n",
    "\n",
    "# model\n",
    "clf = XGBClassifier(random_state =123, n_jobs=6,\n",
    "                    subsample = 0.8, n_estimators = 500, min_child_weight=1,\n",
    "                    max_depth = 10, learning_rate=0.01, gamma= 0,\n",
    "                    colsample_bytree = 0.6)\n",
    "\n",
    "#input\n",
    "a, b,c,d,e = prepare_input(train_labels, train_maccs, target = 'toxic', encoder = encoder_toxic)\n",
    "\n",
    "# results\n",
    "BCM_mf,  BCM_oof, BCM_base_model, cv_score  = Classification_meta_features(clf, a, c, b, d, e,cv=10,n_jobs=1, \n",
    "                                                      col_names = [f'{name}-0', f'{name}-1'])\n",
    "# report the results\n",
    "report_clf_models(cv_score)\n",
    "\n",
    "# Save results\n",
    "BCM_mf.to_csv(f'../data/Hmodel_features/{name}.csv')\n",
    "np.save(f'../results/Base_models/{name}.npy', BCM_oof)\n",
    "joblib.dump(BCM_base_model, f'../models/Base_models/{name}.pkl')\n",
    "joblib.dump(cv_score, f'../results/Base_models/{name}_CVScore')\n"
   ]
  },
  {
   "cell_type": "code",
   "execution_count": 14,
   "metadata": {},
   "outputs": [
    {
     "name": "stdout",
     "output_type": "stream",
     "text": [
      "Accuracy: 0.787 std: 0.014\n",
      "Balance Accuracy: 0.779 std: 0.014\n",
      "matthews_corrcoef: 0.564 std: 0.029\n",
      "f1_score: 0.786 std: 0.014\n",
      "AUROC: 0.779 std: 0.014\n",
      "CPU times: total: 14min 7s\n",
      "Wall time: 2min 21s\n"
     ]
    },
    {
     "data": {
      "text/plain": [
       "['../results/Base_models/Toxic_xgboost_rdkit2d_CVScore']"
      ]
     },
     "execution_count": 14,
     "metadata": {},
     "output_type": "execute_result"
    }
   ],
   "source": [
    "%%time\n",
    "#yes\n",
    "#thing need to change from model to model\n",
    "# (1) descriptor (2) algorithm (3) model (4) model in the Classification_meta_features\n",
    "\n",
    "endpoint = 'Toxic'\n",
    "descriptor = 'rdkit2d'\n",
    "algorithm = 'xgboost'\n",
    "name = f'{endpoint}_{algorithm}_{descriptor}'\n",
    "\n",
    "encoder_toxic = joblib.load('../encoder_models/encoder_toxic.joblib')\n",
    "\n",
    "# model\n",
    "clf = XGBClassifier(random_state =123, n_jobs=6,\n",
    "                    subsample = 0.8, n_estimators = 1500, min_child_weight=3,\n",
    "                    max_depth = 10, learning_rate=0.01, gamma= 0,\n",
    "                    colsample_bytree = 0.6)\n",
    "\n",
    "#input\n",
    "a, b,c,d,e = prepare_input(train_labels, train_rdkit2d, target = 'toxic', encoder = encoder_toxic)\n",
    "\n",
    "# results\n",
    "BCM_mf,  BCM_oof, BCM_base_model, cv_score  = Classification_meta_features(clf, a, c, b, d, e,cv=10,n_jobs=1, \n",
    "                                                      col_names = [f'{name}-0', f'{name}-1'])\n",
    "# report the results\n",
    "report_clf_models(cv_score)\n",
    "\n",
    "# Save results\n",
    "BCM_mf.to_csv(f'../data/Hmodel_features/{name}.csv')\n",
    "np.save(f'../results/Base_models/{name}.npy', BCM_oof)\n",
    "joblib.dump(BCM_base_model, f'../models/Base_models/{name}.pkl')\n",
    "joblib.dump(cv_score, f'../results/Base_models/{name}_CVScore')\n"
   ]
  },
  {
   "cell_type": "code",
   "execution_count": 15,
   "metadata": {},
   "outputs": [
    {
     "name": "stdout",
     "output_type": "stream",
     "text": [
      "Accuracy: 0.791 std: 0.017\n",
      "Balance Accuracy: 0.781 std: 0.017\n",
      "matthews_corrcoef: 0.572 std: 0.035\n",
      "f1_score: 0.789 std: 0.017\n",
      "AUROC: 0.781 std: 0.017\n",
      "CPU times: total: 52min 42s\n",
      "Wall time: 8min 50s\n"
     ]
    },
    {
     "data": {
      "text/plain": [
       "['../results/Base_models/Toxic_xgboost_mordred_CVScore']"
      ]
     },
     "execution_count": 15,
     "metadata": {},
     "output_type": "execute_result"
    }
   ],
   "source": [
    "%%time\n",
    "#yes\n",
    "#thing need to change from model to model\n",
    "# (1) descriptor (2) algorithm (3) model (4) model in the Classification_meta_features\n",
    "\n",
    "endpoint = 'Toxic'\n",
    "descriptor = 'mordred'\n",
    "algorithm = 'xgboost'\n",
    "name = f'{endpoint}_{algorithm}_{descriptor}'\n",
    "\n",
    "encoder_toxic = joblib.load('../encoder_models/encoder_toxic.joblib')\n",
    "\n",
    "# model\n",
    "clf = XGBClassifier(random_state =123, n_jobs=6,\n",
    "                    subsample = 0.6, n_estimators = 500, min_child_weight=1,\n",
    "                    max_depth = 10, learning_rate=0.01, gamma= 1,\n",
    "                    colsample_bytree = 0.7)\n",
    "\n",
    "#input\n",
    "a, b,c,d,e = prepare_input(train_labels, train_mordred, target = 'toxic', encoder = encoder_toxic)\n",
    "\n",
    "# results\n",
    "BCM_mf,  BCM_oof, BCM_base_model, cv_score  = Classification_meta_features(clf, a, c, b, d, e,cv=10,n_jobs=1, \n",
    "                                                      col_names = [f'{name}-0', f'{name}-1'])\n",
    "# report the results\n",
    "report_clf_models(cv_score)\n",
    "\n",
    "# Save results\n",
    "BCM_mf.to_csv(f'../data/Hmodel_features/{name}.csv')\n",
    "np.save(f'../results/Base_models/{name}.npy', BCM_oof)\n",
    "joblib.dump(BCM_base_model, f'../models/Base_models/{name}.pkl')\n",
    "joblib.dump(cv_score, f'../results/Base_models/{name}_CVScore')\n"
   ]
  },
  {
   "cell_type": "markdown",
   "metadata": {},
   "source": [
    "### kNN"
   ]
  },
  {
   "cell_type": "code",
   "execution_count": 16,
   "metadata": {},
   "outputs": [
    {
     "name": "stderr",
     "output_type": "stream",
     "text": [
      "c:\\Users\\PC\\anaconda3\\Lib\\site-packages\\sklearn\\metrics\\pairwise.py:2317: DataConversionWarning: Data was converted to boolean for metric dice\n",
      "  warnings.warn(msg, DataConversionWarning)\n",
      "c:\\Users\\PC\\anaconda3\\Lib\\site-packages\\sklearn\\metrics\\pairwise.py:2317: DataConversionWarning: Data was converted to boolean for metric dice\n",
      "  warnings.warn(msg, DataConversionWarning)\n",
      "c:\\Users\\PC\\anaconda3\\Lib\\site-packages\\sklearn\\metrics\\pairwise.py:2317: DataConversionWarning: Data was converted to boolean for metric dice\n",
      "  warnings.warn(msg, DataConversionWarning)\n",
      "c:\\Users\\PC\\anaconda3\\Lib\\site-packages\\sklearn\\metrics\\pairwise.py:2317: DataConversionWarning: Data was converted to boolean for metric dice\n",
      "  warnings.warn(msg, DataConversionWarning)\n",
      "c:\\Users\\PC\\anaconda3\\Lib\\site-packages\\sklearn\\metrics\\pairwise.py:2317: DataConversionWarning: Data was converted to boolean for metric dice\n",
      "  warnings.warn(msg, DataConversionWarning)\n",
      "c:\\Users\\PC\\anaconda3\\Lib\\site-packages\\sklearn\\metrics\\pairwise.py:2317: DataConversionWarning: Data was converted to boolean for metric dice\n",
      "  warnings.warn(msg, DataConversionWarning)\n",
      "c:\\Users\\PC\\anaconda3\\Lib\\site-packages\\sklearn\\metrics\\pairwise.py:2317: DataConversionWarning: Data was converted to boolean for metric dice\n",
      "  warnings.warn(msg, DataConversionWarning)\n",
      "c:\\Users\\PC\\anaconda3\\Lib\\site-packages\\sklearn\\metrics\\pairwise.py:2317: DataConversionWarning: Data was converted to boolean for metric dice\n",
      "  warnings.warn(msg, DataConversionWarning)\n",
      "c:\\Users\\PC\\anaconda3\\Lib\\site-packages\\sklearn\\metrics\\pairwise.py:2317: DataConversionWarning: Data was converted to boolean for metric dice\n",
      "  warnings.warn(msg, DataConversionWarning)\n",
      "c:\\Users\\PC\\anaconda3\\Lib\\site-packages\\sklearn\\metrics\\pairwise.py:2317: DataConversionWarning: Data was converted to boolean for metric dice\n",
      "  warnings.warn(msg, DataConversionWarning)\n",
      "c:\\Users\\PC\\anaconda3\\Lib\\site-packages\\sklearn\\metrics\\pairwise.py:2317: DataConversionWarning: Data was converted to boolean for metric dice\n",
      "  warnings.warn(msg, DataConversionWarning)\n",
      "c:\\Users\\PC\\anaconda3\\Lib\\site-packages\\sklearn\\metrics\\pairwise.py:2317: DataConversionWarning: Data was converted to boolean for metric dice\n",
      "  warnings.warn(msg, DataConversionWarning)\n",
      "c:\\Users\\PC\\anaconda3\\Lib\\site-packages\\sklearn\\metrics\\pairwise.py:2317: DataConversionWarning: Data was converted to boolean for metric dice\n",
      "  warnings.warn(msg, DataConversionWarning)\n",
      "c:\\Users\\PC\\anaconda3\\Lib\\site-packages\\sklearn\\metrics\\pairwise.py:2317: DataConversionWarning: Data was converted to boolean for metric dice\n",
      "  warnings.warn(msg, DataConversionWarning)\n",
      "c:\\Users\\PC\\anaconda3\\Lib\\site-packages\\sklearn\\metrics\\pairwise.py:2317: DataConversionWarning: Data was converted to boolean for metric dice\n",
      "  warnings.warn(msg, DataConversionWarning)\n",
      "c:\\Users\\PC\\anaconda3\\Lib\\site-packages\\sklearn\\metrics\\pairwise.py:2317: DataConversionWarning: Data was converted to boolean for metric dice\n",
      "  warnings.warn(msg, DataConversionWarning)\n",
      "c:\\Users\\PC\\anaconda3\\Lib\\site-packages\\sklearn\\metrics\\pairwise.py:2317: DataConversionWarning: Data was converted to boolean for metric dice\n",
      "  warnings.warn(msg, DataConversionWarning)\n",
      "c:\\Users\\PC\\anaconda3\\Lib\\site-packages\\sklearn\\metrics\\pairwise.py:2317: DataConversionWarning: Data was converted to boolean for metric dice\n",
      "  warnings.warn(msg, DataConversionWarning)\n",
      "c:\\Users\\PC\\anaconda3\\Lib\\site-packages\\sklearn\\metrics\\pairwise.py:2317: DataConversionWarning: Data was converted to boolean for metric dice\n",
      "  warnings.warn(msg, DataConversionWarning)\n",
      "c:\\Users\\PC\\anaconda3\\Lib\\site-packages\\sklearn\\metrics\\pairwise.py:2317: DataConversionWarning: Data was converted to boolean for metric dice\n",
      "  warnings.warn(msg, DataConversionWarning)\n",
      "c:\\Users\\PC\\anaconda3\\Lib\\site-packages\\sklearn\\metrics\\pairwise.py:2317: DataConversionWarning: Data was converted to boolean for metric dice\n",
      "  warnings.warn(msg, DataConversionWarning)\n"
     ]
    },
    {
     "name": "stdout",
     "output_type": "stream",
     "text": [
      "Accuracy: 0.746 std: 0.014\n",
      "Balance Accuracy: 0.738 std: 0.013\n",
      "matthews_corrcoef: 0.48 std: 0.028\n",
      "f1_score: 0.745 std: 0.013\n",
      "AUROC: 0.738 std: 0.013\n",
      "CPU times: total: 3min 28s\n",
      "Wall time: 3min 28s\n"
     ]
    },
    {
     "data": {
      "text/plain": [
       "['../results/Base_models/Toxic_knn_ecfp6bits_CVScore']"
      ]
     },
     "execution_count": 16,
     "metadata": {},
     "output_type": "execute_result"
    }
   ],
   "source": [
    "%%time\n",
    "#yes\n",
    "#thing need to change from model to model\n",
    "# (1) descriptor (2) algorithm (3) model (4) features\n",
    "\n",
    "endpoint = 'Toxic'\n",
    "descriptor = 'ecfp6bits'\n",
    "algorithm = 'knn'\n",
    "name = f'{endpoint}_{algorithm}_{descriptor}'\n",
    "\n",
    "encoder_toxic = joblib.load('../encoder_models/encoder_toxic.joblib')\n",
    "\n",
    "# model\n",
    "clf = KNeighborsClassifier(metric = 'dice', n_neighbors = 19, weights = 'distance')\n",
    "\n",
    "#input\n",
    "a, b,c,d,e = prepare_input(train_labels, train_ecfp6_bits, target = 'toxic', encoder = encoder_toxic)\n",
    "\n",
    "# results\n",
    "BCM_mf,  BCM_oof, BCM_base_model, cv_score  = Classification_meta_features(clf, a, c, b, d, e,cv=10,n_jobs=1, \n",
    "                                                      col_names = [f'{name}-0', f'{name}-1'])\n",
    "# report the results\n",
    "report_clf_models(cv_score)\n",
    "\n",
    "# Save results\n",
    "BCM_mf.to_csv(f'../data/Hmodel_features/{name}.csv')\n",
    "np.save(f'../results/Base_models/{name}.npy', BCM_oof)\n",
    "joblib.dump(BCM_base_model, f'../models/Base_models/{name}.pkl')\n",
    "joblib.dump(cv_score, f'../results/Base_models/{name}_CVScore')\n"
   ]
  },
  {
   "cell_type": "code",
   "execution_count": 17,
   "metadata": {},
   "outputs": [
    {
     "name": "stdout",
     "output_type": "stream",
     "text": [
      "Accuracy: 0.744 std: 0.008\n",
      "Balance Accuracy: 0.735 std: 0.008\n",
      "matthews_corrcoef: 0.475 std: 0.017\n",
      "f1_score: 0.743 std: 0.008\n",
      "AUROC: 0.735 std: 0.008\n",
      "CPU times: total: 4min 40s\n",
      "Wall time: 37.8 s\n"
     ]
    },
    {
     "data": {
      "text/plain": [
       "['../results/Base_models/Toxic_knn_ecfp6counts_CVScore']"
      ]
     },
     "execution_count": 17,
     "metadata": {},
     "output_type": "execute_result"
    }
   ],
   "source": [
    "%%time\n",
    "#yes\n",
    "#thing need to change from model to model\n",
    "# (1) descriptor (2) algorithm (3) model (4) features\n",
    "\n",
    "endpoint = 'Toxic'\n",
    "descriptor = 'ecfp6counts'\n",
    "algorithm = 'knn'\n",
    "name = f'{endpoint}_{algorithm}_{descriptor}'\n",
    "\n",
    "encoder_toxic = joblib.load('../encoder_models/encoder_toxic.joblib')\n",
    "\n",
    "# model\n",
    "clf = KNeighborsClassifier(metric = 'braycurtis', n_neighbors = 15, weights = 'distance')\n",
    "\n",
    "#input\n",
    "a, b,c,d,e = prepare_input(train_labels, train_ecfp6_counts, target = 'toxic', encoder = encoder_toxic)\n",
    "\n",
    "# results\n",
    "BCM_mf,  BCM_oof, BCM_base_model, cv_score  = Classification_meta_features(clf, a, c, b, d, e,cv=10,n_jobs=1, \n",
    "                                                      col_names = [f'{name}-0', f'{name}-1'])\n",
    "# report the results\n",
    "report_clf_models(cv_score)\n",
    "\n",
    "# Save results\n",
    "BCM_mf.to_csv(f'../data/Hmodel_features/{name}.csv')\n",
    "np.save(f'../results/Base_models/{name}.npy', BCM_oof)\n",
    "joblib.dump(BCM_base_model, f'../models/Base_models/{name}.pkl')\n",
    "joblib.dump(cv_score, f'../results/Base_models/{name}_CVScore')\n"
   ]
  },
  {
   "cell_type": "code",
   "execution_count": 18,
   "metadata": {},
   "outputs": [
    {
     "name": "stderr",
     "output_type": "stream",
     "text": [
      "c:\\Users\\PC\\anaconda3\\Lib\\site-packages\\sklearn\\metrics\\pairwise.py:2317: DataConversionWarning: Data was converted to boolean for metric rogerstanimoto\n",
      "  warnings.warn(msg, DataConversionWarning)\n",
      "c:\\Users\\PC\\anaconda3\\Lib\\site-packages\\sklearn\\metrics\\pairwise.py:2317: DataConversionWarning: Data was converted to boolean for metric rogerstanimoto\n",
      "  warnings.warn(msg, DataConversionWarning)\n",
      "c:\\Users\\PC\\anaconda3\\Lib\\site-packages\\sklearn\\metrics\\pairwise.py:2317: DataConversionWarning: Data was converted to boolean for metric rogerstanimoto\n",
      "  warnings.warn(msg, DataConversionWarning)\n",
      "c:\\Users\\PC\\anaconda3\\Lib\\site-packages\\sklearn\\metrics\\pairwise.py:2317: DataConversionWarning: Data was converted to boolean for metric rogerstanimoto\n",
      "  warnings.warn(msg, DataConversionWarning)\n",
      "c:\\Users\\PC\\anaconda3\\Lib\\site-packages\\sklearn\\metrics\\pairwise.py:2317: DataConversionWarning: Data was converted to boolean for metric rogerstanimoto\n",
      "  warnings.warn(msg, DataConversionWarning)\n",
      "c:\\Users\\PC\\anaconda3\\Lib\\site-packages\\sklearn\\metrics\\pairwise.py:2317: DataConversionWarning: Data was converted to boolean for metric rogerstanimoto\n",
      "  warnings.warn(msg, DataConversionWarning)\n",
      "c:\\Users\\PC\\anaconda3\\Lib\\site-packages\\sklearn\\metrics\\pairwise.py:2317: DataConversionWarning: Data was converted to boolean for metric rogerstanimoto\n",
      "  warnings.warn(msg, DataConversionWarning)\n",
      "c:\\Users\\PC\\anaconda3\\Lib\\site-packages\\sklearn\\metrics\\pairwise.py:2317: DataConversionWarning: Data was converted to boolean for metric rogerstanimoto\n",
      "  warnings.warn(msg, DataConversionWarning)\n",
      "c:\\Users\\PC\\anaconda3\\Lib\\site-packages\\sklearn\\metrics\\pairwise.py:2317: DataConversionWarning: Data was converted to boolean for metric rogerstanimoto\n",
      "  warnings.warn(msg, DataConversionWarning)\n",
      "c:\\Users\\PC\\anaconda3\\Lib\\site-packages\\sklearn\\metrics\\pairwise.py:2317: DataConversionWarning: Data was converted to boolean for metric rogerstanimoto\n",
      "  warnings.warn(msg, DataConversionWarning)\n",
      "c:\\Users\\PC\\anaconda3\\Lib\\site-packages\\sklearn\\metrics\\pairwise.py:2317: DataConversionWarning: Data was converted to boolean for metric rogerstanimoto\n",
      "  warnings.warn(msg, DataConversionWarning)\n",
      "c:\\Users\\PC\\anaconda3\\Lib\\site-packages\\sklearn\\metrics\\pairwise.py:2317: DataConversionWarning: Data was converted to boolean for metric rogerstanimoto\n",
      "  warnings.warn(msg, DataConversionWarning)\n",
      "c:\\Users\\PC\\anaconda3\\Lib\\site-packages\\sklearn\\metrics\\pairwise.py:2317: DataConversionWarning: Data was converted to boolean for metric rogerstanimoto\n",
      "  warnings.warn(msg, DataConversionWarning)\n",
      "c:\\Users\\PC\\anaconda3\\Lib\\site-packages\\sklearn\\metrics\\pairwise.py:2317: DataConversionWarning: Data was converted to boolean for metric rogerstanimoto\n",
      "  warnings.warn(msg, DataConversionWarning)\n",
      "c:\\Users\\PC\\anaconda3\\Lib\\site-packages\\sklearn\\metrics\\pairwise.py:2317: DataConversionWarning: Data was converted to boolean for metric rogerstanimoto\n",
      "  warnings.warn(msg, DataConversionWarning)\n",
      "c:\\Users\\PC\\anaconda3\\Lib\\site-packages\\sklearn\\metrics\\pairwise.py:2317: DataConversionWarning: Data was converted to boolean for metric rogerstanimoto\n",
      "  warnings.warn(msg, DataConversionWarning)\n",
      "c:\\Users\\PC\\anaconda3\\Lib\\site-packages\\sklearn\\metrics\\pairwise.py:2317: DataConversionWarning: Data was converted to boolean for metric rogerstanimoto\n",
      "  warnings.warn(msg, DataConversionWarning)\n",
      "c:\\Users\\PC\\anaconda3\\Lib\\site-packages\\sklearn\\metrics\\pairwise.py:2317: DataConversionWarning: Data was converted to boolean for metric rogerstanimoto\n",
      "  warnings.warn(msg, DataConversionWarning)\n",
      "c:\\Users\\PC\\anaconda3\\Lib\\site-packages\\sklearn\\metrics\\pairwise.py:2317: DataConversionWarning: Data was converted to boolean for metric rogerstanimoto\n",
      "  warnings.warn(msg, DataConversionWarning)\n",
      "c:\\Users\\PC\\anaconda3\\Lib\\site-packages\\sklearn\\metrics\\pairwise.py:2317: DataConversionWarning: Data was converted to boolean for metric rogerstanimoto\n",
      "  warnings.warn(msg, DataConversionWarning)\n",
      "c:\\Users\\PC\\anaconda3\\Lib\\site-packages\\sklearn\\metrics\\pairwise.py:2317: DataConversionWarning: Data was converted to boolean for metric rogerstanimoto\n",
      "  warnings.warn(msg, DataConversionWarning)\n"
     ]
    },
    {
     "name": "stdout",
     "output_type": "stream",
     "text": [
      "Accuracy: 0.763 std: 0.016\n",
      "Balance Accuracy: 0.752 std: 0.015\n",
      "matthews_corrcoef: 0.513 std: 0.032\n",
      "f1_score: 0.761 std: 0.015\n",
      "AUROC: 0.752 std: 0.015\n",
      "CPU times: total: 28 s\n",
      "Wall time: 27.9 s\n"
     ]
    },
    {
     "data": {
      "text/plain": [
       "['../results/Base_models/Toxic_knn_maccs_CVScore']"
      ]
     },
     "execution_count": 18,
     "metadata": {},
     "output_type": "execute_result"
    }
   ],
   "source": [
    "%%time\n",
    "#yes\n",
    "#thing need to change from model to model\n",
    "# (1) descriptor (2) algorithm (3) model (4) features\n",
    "\n",
    "endpoint = 'Toxic'\n",
    "descriptor = 'maccs'\n",
    "algorithm = 'knn'\n",
    "name = f'{endpoint}_{algorithm}_{descriptor}'\n",
    "\n",
    "encoder_toxic = joblib.load('../encoder_models/encoder_toxic.joblib')\n",
    "\n",
    "# model\n",
    "clf = KNeighborsClassifier(metric = 'rogerstanimoto', n_neighbors = 19, weights = 'distance')\n",
    "\n",
    "#input\n",
    "a, b,c,d,e = prepare_input(train_labels, train_maccs, target = 'toxic', encoder = encoder_toxic)\n",
    "\n",
    "# results\n",
    "BCM_mf,  BCM_oof, BCM_base_model, cv_score  = Classification_meta_features(clf, a, c, b, d, e,cv=10,n_jobs=1, \n",
    "                                                      col_names = [f'{name}-0', f'{name}-1'])\n",
    "# report the results\n",
    "report_clf_models(cv_score)\n",
    "\n",
    "# Save results\n",
    "BCM_mf.to_csv(f'../data/Hmodel_features/{name}.csv')\n",
    "np.save(f'../results/Base_models/{name}.npy', BCM_oof)\n",
    "joblib.dump(BCM_base_model, f'../models/Base_models/{name}.pkl')\n",
    "joblib.dump(cv_score, f'../results/Base_models/{name}_CVScore')\n"
   ]
  },
  {
   "cell_type": "code",
   "execution_count": 19,
   "metadata": {},
   "outputs": [
    {
     "name": "stdout",
     "output_type": "stream",
     "text": [
      "Accuracy: 0.763 std: 0.014\n",
      "Balance Accuracy: 0.754 std: 0.014\n",
      "matthews_corrcoef: 0.515 std: 0.03\n",
      "f1_score: 0.762 std: 0.014\n",
      "AUROC: 0.754 std: 0.014\n",
      "CPU times: total: 25 s\n",
      "Wall time: 3.19 s\n"
     ]
    },
    {
     "data": {
      "text/plain": [
       "['../results/Base_models/Toxic_knn_rdkit2d_CVScore']"
      ]
     },
     "execution_count": 19,
     "metadata": {},
     "output_type": "execute_result"
    }
   ],
   "source": [
    "%%time\n",
    "#yes\n",
    "#thing need to change from model to model\n",
    "# (1) descriptor (2) algorithm (3) model (4) features\n",
    "\n",
    "endpoint = 'Toxic'\n",
    "descriptor = 'rdkit2d'\n",
    "algorithm = 'knn'\n",
    "name = f'{endpoint}_{algorithm}_{descriptor}'\n",
    "\n",
    "encoder_toxic = joblib.load('../encoder_models/encoder_toxic.joblib')\n",
    "\n",
    "# model\n",
    "clf = KNeighborsClassifier(n_neighbors = 15, p = 1, weights = 'distance')\n",
    "\n",
    "#input\n",
    "a, b,c,d,e = prepare_input(train_labels, train_rdkit2d, target = 'toxic', encoder = encoder_toxic)\n",
    "\n",
    "# results\n",
    "BCM_mf,  BCM_oof, BCM_base_model, cv_score  = Classification_meta_features(clf, a, c, b, d, e,cv=10,n_jobs=1, \n",
    "                                                      col_names = [f'{name}-0', f'{name}-1'])\n",
    "# report the results\n",
    "report_clf_models(cv_score)\n",
    "\n",
    "# Save results\n",
    "BCM_mf.to_csv(f'../data/Hmodel_features/{name}.csv')\n",
    "np.save(f'../results/Base_models/{name}.npy', BCM_oof)\n",
    "joblib.dump(BCM_base_model, f'../models/Base_models/{name}.pkl')\n",
    "joblib.dump(cv_score, f'../results/Base_models/{name}_CVScore')\n"
   ]
  },
  {
   "cell_type": "code",
   "execution_count": 20,
   "metadata": {},
   "outputs": [
    {
     "name": "stdout",
     "output_type": "stream",
     "text": [
      "Accuracy: 0.77 std: 0.017\n",
      "Balance Accuracy: 0.763 std: 0.018\n",
      "matthews_corrcoef: 0.529 std: 0.036\n",
      "f1_score: 0.769 std: 0.017\n",
      "AUROC: 0.763 std: 0.018\n",
      "CPU times: total: 55.1 s\n",
      "Wall time: 6.94 s\n"
     ]
    },
    {
     "data": {
      "text/plain": [
       "['../results/Base_models/Toxic_knn_mordred_CVScore']"
      ]
     },
     "execution_count": 20,
     "metadata": {},
     "output_type": "execute_result"
    }
   ],
   "source": [
    "%%time\n",
    "#yes\n",
    "#thing need to change from model to model\n",
    "# (1) descriptor (2) algorithm (3) model (4) features\n",
    "\n",
    "endpoint = 'Toxic'\n",
    "descriptor = 'mordred'\n",
    "algorithm = 'knn'\n",
    "name = f'{endpoint}_{algorithm}_{descriptor}'\n",
    "\n",
    "encoder_toxic = joblib.load('../encoder_models/encoder_toxic.joblib')\n",
    "\n",
    "# model\n",
    "clf = KNeighborsClassifier(n_neighbors = 15, p = 1, weights = 'distance')\n",
    "\n",
    "#input\n",
    "a, b,c,d,e = prepare_input(train_labels, train_mordred, target = 'toxic', encoder = encoder_toxic)\n",
    "\n",
    "# results\n",
    "BCM_mf,  BCM_oof, BCM_base_model, cv_score  = Classification_meta_features(clf, a, c, b, d, e,cv=10,n_jobs=1, \n",
    "                                                      col_names = [f'{name}-0', f'{name}-1'])\n",
    "# report the results\n",
    "report_clf_models(cv_score)\n",
    "\n",
    "# Save results\n",
    "BCM_mf.to_csv(f'../data/Hmodel_features/{name}.csv')\n",
    "np.save(f'../results/Base_models/{name}.npy', BCM_oof)\n",
    "joblib.dump(BCM_base_model, f'../models/Base_models/{name}.pkl')\n",
    "joblib.dump(cv_score, f'../results/Base_models/{name}_CVScore')\n"
   ]
  },
  {
   "cell_type": "markdown",
   "metadata": {},
   "source": [
    "### SVM"
   ]
  },
  {
   "cell_type": "code",
   "execution_count": 21,
   "metadata": {},
   "outputs": [
    {
     "name": "stdout",
     "output_type": "stream",
     "text": [
      "Accuracy: 0.778 std: 0.016\n",
      "Balance Accuracy: 0.77 std: 0.016\n",
      "matthews_corrcoef: 0.545 std: 0.033\n",
      "f1_score: 0.777 std: 0.016\n",
      "AUROC: 0.77 std: 0.016\n",
      "CPU times: total: 1min 31s\n",
      "Wall time: 8min 32s\n"
     ]
    },
    {
     "data": {
      "text/plain": [
       "['../results/Base_models/Toxic_svm_mordred_CVScore']"
      ]
     },
     "execution_count": 21,
     "metadata": {},
     "output_type": "execute_result"
    }
   ],
   "source": [
    "%%time\n",
    "#yes\n",
    "#thing need to change from model to model\n",
    "# (1) descriptor (2) algorithm (3) model (4) features\n",
    "\n",
    "endpoint = 'Toxic'\n",
    "descriptor = 'mordred'\n",
    "algorithm = 'svm'\n",
    "name = f'{endpoint}_{algorithm}_{descriptor}'\n",
    "\n",
    "encoder_toxic = joblib.load('../encoder_models/encoder_toxic.joblib')\n",
    "\n",
    "# model\n",
    "clf = SVC(random_state=42, probability=True,\n",
    "          C = 10, gamma = 0.1, kernel = 'rbf')\n",
    "\n",
    "#input\n",
    "a, b,c,d,e = prepare_input(train_labels, train_mordred, target = 'toxic', encoder = encoder_toxic)\n",
    "\n",
    "# results\n",
    "BCM_mf,  BCM_oof, BCM_base_model, cv_score  = Classification_meta_features(clf, a, c, b, d, e,cv=10,n_jobs=6, \n",
    "                                                      col_names = [f'{name}-0', f'{name}-1'])\n",
    "# report the results\n",
    "report_clf_models(cv_score)\n",
    "\n",
    "# Save results\n",
    "BCM_mf.to_csv(f'../data/Hmodel_features/{name}.csv')\n",
    "np.save(f'../results/Base_models/{name}.npy', BCM_oof)\n",
    "joblib.dump(BCM_base_model, f'../models/Base_models/{name}.pkl')\n",
    "joblib.dump(cv_score, f'../results/Base_models/{name}_CVScore')\n"
   ]
  },
  {
   "cell_type": "code",
   "execution_count": 22,
   "metadata": {},
   "outputs": [
    {
     "name": "stdout",
     "output_type": "stream",
     "text": [
      "Accuracy: 0.768 std: 0.015\n",
      "Balance Accuracy: 0.757 std: 0.015\n",
      "matthews_corrcoef: 0.523 std: 0.03\n",
      "f1_score: 0.766 std: 0.015\n",
      "AUROC: 0.757 std: 0.015\n",
      "CPU times: total: 26.7 s\n",
      "Wall time: 4min 2s\n"
     ]
    },
    {
     "data": {
      "text/plain": [
       "['../results/Base_models/Toxic_svm_rdkit2d_CVScore']"
      ]
     },
     "execution_count": 22,
     "metadata": {},
     "output_type": "execute_result"
    }
   ],
   "source": [
    "%%time\n",
    "#yes\n",
    "#thing need to change from model to model\n",
    "# (1) descriptor (2) algorithm (3) model (4) features\n",
    "\n",
    "endpoint = 'Toxic'\n",
    "descriptor = 'rdkit2d'\n",
    "algorithm = 'svm'\n",
    "name = f'{endpoint}_{algorithm}_{descriptor}'\n",
    "\n",
    "encoder_toxic = joblib.load('../encoder_models/encoder_toxic.joblib')\n",
    "\n",
    "# model\n",
    "clf = SVC(random_state=42, probability=True,\n",
    "          C = 1, gamma = 1, kernel = 'rbf')\n",
    "\n",
    "#input\n",
    "a, b,c,d,e = prepare_input(train_labels, train_rdkit2d, target = 'toxic', encoder = encoder_toxic)\n",
    "\n",
    "# results\n",
    "BCM_mf,  BCM_oof, BCM_base_model, cv_score  = Classification_meta_features(clf, a, c, b, d, e,cv=10,n_jobs=6, \n",
    "                                                      col_names = [f'{name}-0', f'{name}-1'])\n",
    "# report the results\n",
    "report_clf_models(cv_score)\n",
    "\n",
    "# Save results\n",
    "BCM_mf.to_csv(f'../data/Hmodel_features/{name}.csv')\n",
    "np.save(f'../results/Base_models/{name}.npy', BCM_oof)\n",
    "joblib.dump(BCM_base_model, f'../models/Base_models/{name}.pkl')\n",
    "joblib.dump(cv_score, f'../results/Base_models/{name}_CVScore')\n"
   ]
  },
  {
   "cell_type": "code",
   "execution_count": 23,
   "metadata": {},
   "outputs": [
    {
     "name": "stdout",
     "output_type": "stream",
     "text": [
      "Accuracy: 0.781 std: 0.014\n",
      "Balance Accuracy: 0.772 std: 0.014\n",
      "matthews_corrcoef: 0.552 std: 0.03\n",
      "f1_score: 0.78 std: 0.014\n",
      "AUROC: 0.772 std: 0.014\n",
      "CPU times: total: 27.2 s\n",
      "Wall time: 4min 5s\n"
     ]
    },
    {
     "data": {
      "text/plain": [
       "['../results/Base_models/Toxic_svm_maccs_CVScore']"
      ]
     },
     "execution_count": 23,
     "metadata": {},
     "output_type": "execute_result"
    }
   ],
   "source": [
    "%%time\n",
    "#yes\n",
    "#thing need to change from model to model\n",
    "# (1) descriptor (2) algorithm (3) model (4) features\n",
    "\n",
    "endpoint = 'Toxic'\n",
    "descriptor = 'maccs'\n",
    "algorithm = 'svm'\n",
    "name = f'{endpoint}_{algorithm}_{descriptor}'\n",
    "\n",
    "encoder_toxic = joblib.load('../encoder_models/encoder_toxic.joblib')\n",
    "\n",
    "# model\n",
    "clf = SVC(random_state=42, probability=True,\n",
    "          C = 1, gamma = 0.1, kernel = 'rbf')\n",
    "\n",
    "#input\n",
    "a, b,c,d,e = prepare_input(train_labels, train_maccs, target = 'toxic', encoder = encoder_toxic)\n",
    "\n",
    "# results\n",
    "BCM_mf,  BCM_oof, BCM_base_model, cv_score  = Classification_meta_features(clf, a, c, b, d, e,cv=10,n_jobs=6, \n",
    "                                                      col_names = [f'{name}-0', f'{name}-1'])\n",
    "# report the results\n",
    "report_clf_models(cv_score)\n",
    "\n",
    "# Save results\n",
    "BCM_mf.to_csv(f'../data/Hmodel_features/{name}.csv')\n",
    "np.save(f'../results/Base_models/{name}.npy', BCM_oof)\n",
    "joblib.dump(BCM_base_model, f'../models/Base_models/{name}.pkl')\n",
    "joblib.dump(cv_score, f'../results/Base_models/{name}_CVScore')\n"
   ]
  },
  {
   "cell_type": "code",
   "execution_count": 24,
   "metadata": {},
   "outputs": [
    {
     "name": "stdout",
     "output_type": "stream",
     "text": [
      "Accuracy: 0.742 std: 0.008\n",
      "Balance Accuracy: 0.729 std: 0.008\n",
      "matthews_corrcoef: 0.469 std: 0.017\n",
      "f1_score: 0.739 std: 0.007\n",
      "AUROC: 0.729 std: 0.008\n",
      "CPU times: total: 6min 2s\n",
      "Wall time: 34min 15s\n"
     ]
    },
    {
     "data": {
      "text/plain": [
       "['../results/Base_models/Toxic_svm_ecfp6bits_CVScore']"
      ]
     },
     "execution_count": 24,
     "metadata": {},
     "output_type": "execute_result"
    }
   ],
   "source": [
    "%%time\n",
    "#yes\n",
    "#thing need to change from model to model\n",
    "# (1) descriptor (2) algorithm (3) model (4) features\n",
    "\n",
    "endpoint = 'Toxic'\n",
    "descriptor = 'ecfp6bits'\n",
    "algorithm = 'svm'\n",
    "name = f'{endpoint}_{algorithm}_{descriptor}'\n",
    "\n",
    "encoder_toxic = joblib.load('../encoder_models/encoder_toxic.joblib')\n",
    "\n",
    "# model\n",
    "clf = SVC(random_state=42, probability=True,\n",
    "          C = 1, gamma = 0.01, kernel = 'rbf')\n",
    "\n",
    "#input\n",
    "a, b,c,d,e = prepare_input(train_labels, train_ecfp6_bits, target = 'toxic', encoder = encoder_toxic)\n",
    "\n",
    "# results\n",
    "BCM_mf,  BCM_oof, BCM_base_model, cv_score  = Classification_meta_features(clf, a, c, b, d, e,cv=10,n_jobs=6, \n",
    "                                                      col_names = [f'{name}-0', f'{name}-1'])\n",
    "# report the results\n",
    "report_clf_models(cv_score)\n",
    "\n",
    "# Save results\n",
    "BCM_mf.to_csv(f'../data/Hmodel_features/{name}.csv')\n",
    "np.save(f'../results/Base_models/{name}.npy', BCM_oof)\n",
    "joblib.dump(BCM_base_model, f'../models/Base_models/{name}.pkl')\n",
    "joblib.dump(cv_score, f'../results/Base_models/{name}_CVScore')\n"
   ]
  },
  {
   "cell_type": "code",
   "execution_count": 25,
   "metadata": {},
   "outputs": [
    {
     "name": "stdout",
     "output_type": "stream",
     "text": [
      "Accuracy: 0.738 std: 0.013\n",
      "Balance Accuracy: 0.723 std: 0.014\n",
      "matthews_corrcoef: 0.46 std: 0.029\n",
      "f1_score: 0.734 std: 0.013\n",
      "AUROC: 0.723 std: 0.014\n",
      "CPU times: total: 4min 49s\n",
      "Wall time: 36min 14s\n"
     ]
    },
    {
     "data": {
      "text/plain": [
       "['../results/Base_models/Toxic_svm_ecfp6counts_CVScore']"
      ]
     },
     "execution_count": 25,
     "metadata": {},
     "output_type": "execute_result"
    }
   ],
   "source": [
    "%%time\n",
    "#yes\n",
    "#thing need to change from model to model\n",
    "# (1) descriptor (2) algorithm (3) model (4) features\n",
    "\n",
    "endpoint = 'Toxic'\n",
    "descriptor = 'ecfp6counts'\n",
    "algorithm = 'svm'\n",
    "name = f'{endpoint}_{algorithm}_{descriptor}'\n",
    "\n",
    "encoder_toxic = joblib.load('../encoder_models/encoder_toxic.joblib')\n",
    "\n",
    "# model\n",
    "clf = SVC(random_state=42, probability=True,\n",
    "          C = 1, gamma = 0.01, kernel = 'rbf')\n",
    "\n",
    "#input\n",
    "a, b,c,d,e = prepare_input(train_labels, train_ecfp6_counts, target = 'toxic', encoder = encoder_toxic)\n",
    "\n",
    "# results\n",
    "BCM_mf,  BCM_oof, BCM_base_model, cv_score  = Classification_meta_features(clf, a, c, b, d, e,cv=10,n_jobs=6, \n",
    "                                                      col_names = [f'{name}-0', f'{name}-1'])\n",
    "# report the results\n",
    "report_clf_models(cv_score)\n",
    "\n",
    "# Save results\n",
    "BCM_mf.to_csv(f'../data/Hmodel_features/{name}.csv')\n",
    "np.save(f'../results/Base_models/{name}.npy', BCM_oof)\n",
    "joblib.dump(BCM_base_model, f'../models/Base_models/{name}.pkl')\n",
    "joblib.dump(cv_score, f'../results/Base_models/{name}_CVScore')\n"
   ]
  },
  {
   "cell_type": "markdown",
   "metadata": {},
   "source": [
    "## Endpoint 2: EPA"
   ]
  },
  {
   "cell_type": "markdown",
   "metadata": {},
   "source": [
    "### Random forest"
   ]
  },
  {
   "cell_type": "code",
   "execution_count": 26,
   "metadata": {},
   "outputs": [
    {
     "name": "stdout",
     "output_type": "stream",
     "text": [
      "Accuracy: 0.635 std: 0.016\n",
      "Balance Accuracy: 0.531 std: 0.013\n",
      "matthews_corrcoef: 0.41 std: 0.026\n",
      "f1_score: 0.614 std: 0.017\n",
      "AUROC: 0.676 std: 0.012\n",
      "CPU times: total: 1h 24min 13s\n",
      "Wall time: 14min 19s\n"
     ]
    },
    {
     "data": {
      "text/plain": [
       "['../results/Base_models/EPA_RF_mordred_CVScore']"
      ]
     },
     "execution_count": 26,
     "metadata": {},
     "output_type": "execute_result"
    }
   ],
   "source": [
    "%%time\n",
    "#yes\n",
    "endpoint = 'EPA'\n",
    "descriptor = 'mordred'\n",
    "algorithm = 'RF'\n",
    "name = f'{endpoint}_{algorithm}_{descriptor}'\n",
    "\n",
    "encoder_epa = joblib.load('../encoder_models/encoder_epa.joblib')\n",
    "\n",
    "# model\n",
    "rf_clf = RandomForestClassifier(random_state =42, n_jobs=6,\n",
    "                              n_estimators = 1500, min_samples_split = 10, min_samples_leaf=2,\n",
    "                              max_features = 'sqrt', max_depth=50, bootstrap= False)\n",
    "\n",
    "#input\n",
    "a, b,c,d,e = prepare_input(train_labels, train_mordred, target = 'EPA_category', encoder = encoder_epa)\n",
    "\n",
    "# results\n",
    "MCM_mf,  MCM_oof, MCM_base_model, cv_score  = Classification_meta_features(rf_clf, a, c, b, d, e,cv=10,n_jobs=1, \n",
    "                                                      col_names = [f'{name}-1', f'{name}-2', f'{name}-3', f'{name}-4'])\n",
    "# report the results\n",
    "report_clf_models(cv_score)\n",
    "\n",
    "# Save results\n",
    "MCM_mf.to_csv(f'../data/Hmodel_features/{name}.csv')\n",
    "np.save(f'../results/Base_models/{name}.npy', MCM_oof)\n",
    "joblib.dump(MCM_base_model, f'../models/Base_models/{name}.pkl')\n",
    "joblib.dump(cv_score, f'../results/Base_models/{name}_CVScore')\n"
   ]
  },
  {
   "cell_type": "code",
   "execution_count": 27,
   "metadata": {},
   "outputs": [
    {
     "name": "stdout",
     "output_type": "stream",
     "text": [
      "Accuracy: 0.634 std: 0.012\n",
      "Balance Accuracy: 0.533 std: 0.014\n",
      "matthews_corrcoef: 0.409 std: 0.013\n",
      "f1_score: 0.615 std: 0.014\n",
      "AUROC: 0.677 std: 0.007\n",
      "CPU times: total: 8min 44s\n",
      "Wall time: 1min 34s\n"
     ]
    },
    {
     "data": {
      "text/plain": [
       "['../results/Base_models/EPA_RF_rdkit2d_CVScore']"
      ]
     },
     "execution_count": 27,
     "metadata": {},
     "output_type": "execute_result"
    }
   ],
   "source": [
    "%%time\n",
    "#yes\n",
    "endpoint = 'EPA'\n",
    "descriptor = 'rdkit2d'\n",
    "algorithm = 'RF'\n",
    "name = f'{endpoint}_{algorithm}_{descriptor}'\n",
    "\n",
    "encoder_epa = joblib.load('../encoder_models/encoder_epa.joblib')\n",
    "\n",
    "# model\n",
    "clf = RandomForestClassifier(random_state =42, n_jobs=6,\n",
    "                              n_estimators = 500, min_samples_split = 2, min_samples_leaf=2,\n",
    "                              max_features = 'sqrt', max_depth=65, bootstrap= False)\n",
    "\n",
    "#input\n",
    "a, b,c,d,e = prepare_input(train_labels, train_rdkit2d, target = 'EPA_category', encoder = encoder_epa)\n",
    "\n",
    "# results\n",
    "MCM_mf,  MCM_oof, MCM_base_model, cv_score  = Classification_meta_features(clf, a, c, b, d, e,cv=10,n_jobs=1, \n",
    "                                                      col_names = [f'{name}-1', f'{name}-2', f'{name}-3', f'{name}-4'])\n",
    "# report the results\n",
    "report_clf_models(cv_score)\n",
    "\n",
    "# Save results\n",
    "MCM_mf.to_csv(f'../data/Hmodel_features/{name}.csv')\n",
    "np.save(f'../results/Base_models/{name}.npy', MCM_oof)\n",
    "joblib.dump(MCM_base_model, f'../models/Base_models/{name}.pkl')\n",
    "joblib.dump(cv_score, f'../results/Base_models/{name}_CVScore')\n"
   ]
  },
  {
   "cell_type": "code",
   "execution_count": 28,
   "metadata": {},
   "outputs": [
    {
     "name": "stdout",
     "output_type": "stream",
     "text": [
      "Accuracy: 0.629 std: 0.013\n",
      "Balance Accuracy: 0.53 std: 0.014\n",
      "matthews_corrcoef: 0.401 std: 0.023\n",
      "f1_score: 0.609 std: 0.014\n",
      "AUROC: 0.675 std: 0.011\n",
      "CPU times: total: 8min 33s\n",
      "Wall time: 2min 11s\n"
     ]
    },
    {
     "data": {
      "text/plain": [
       "['../results/Base_models/EPA_RF_maccs_CVScore']"
      ]
     },
     "execution_count": 28,
     "metadata": {},
     "output_type": "execute_result"
    }
   ],
   "source": [
    "%%time\n",
    "#yes\n",
    "endpoint = 'EPA'\n",
    "descriptor = 'maccs'\n",
    "algorithm = 'RF'\n",
    "name = f'{endpoint}_{algorithm}_{descriptor}'\n",
    "\n",
    "encoder_epa = joblib.load('../encoder_models/encoder_epa.joblib')\n",
    "\n",
    "# model\n",
    "clf = RandomForestClassifier(random_state =42, n_jobs=6,\n",
    "                              n_estimators = 1500, min_samples_split = 5, min_samples_leaf=2,\n",
    "                              max_features = 'sqrt', max_depth=35, bootstrap= False)\n",
    "\n",
    "#input\n",
    "a, b,c,d,e = prepare_input(train_labels, train_maccs, target = 'EPA_category', encoder = encoder_epa)\n",
    "\n",
    "# results\n",
    "MCM_mf,  MCM_oof, MCM_base_model, cv_score  = Classification_meta_features(clf, a, c, b, d, e,cv=10,n_jobs=1, \n",
    "                                                      col_names = [f'{name}-1', f'{name}-2', f'{name}-3', f'{name}-4'])\n",
    "# report the results\n",
    "report_clf_models(cv_score)\n",
    "\n",
    "# Save results\n",
    "MCM_mf.to_csv(f'../data/Hmodel_features/{name}.csv')\n",
    "np.save(f'../results/Base_models/{name}.npy', MCM_oof)\n",
    "joblib.dump(MCM_base_model, f'../models/Base_models/{name}.pkl')\n",
    "joblib.dump(cv_score, f'../results/Base_models/{name}_CVScore')\n"
   ]
  },
  {
   "cell_type": "code",
   "execution_count": 29,
   "metadata": {},
   "outputs": [
    {
     "name": "stdout",
     "output_type": "stream",
     "text": [
      "Accuracy: 0.612 std: 0.019\n",
      "Balance Accuracy: 0.483 std: 0.017\n",
      "matthews_corrcoef: 0.368 std: 0.024\n",
      "f1_score: 0.569 std: 0.021\n",
      "AUROC: 0.641 std: 0.011\n",
      "CPU times: total: 1h 34min 21s\n",
      "Wall time: 16min 8s\n"
     ]
    },
    {
     "data": {
      "text/plain": [
       "['../results/Base_models/EPA_RF_ecfp6bits_CVScore']"
      ]
     },
     "execution_count": 29,
     "metadata": {},
     "output_type": "execute_result"
    }
   ],
   "source": [
    "%%time\n",
    "#yes\n",
    "endpoint = 'EPA'\n",
    "descriptor = 'ecfp6bits'\n",
    "algorithm = 'RF'\n",
    "name = f'{endpoint}_{algorithm}_{descriptor}'\n",
    "\n",
    "encoder_epa = joblib.load('../encoder_models/encoder_epa.joblib')\n",
    "\n",
    "# model\n",
    "clf = RandomForestClassifier(random_state =42, n_jobs=6,\n",
    "                              n_estimators = 1500, min_samples_split = 5, min_samples_leaf=2,\n",
    "                              max_features = 'sqrt', max_depth=50, bootstrap= False)\n",
    "\n",
    "#input\n",
    "a, b,c,d,e = prepare_input(train_labels, train_ecfp6_bits, target = 'EPA_category', encoder = encoder_epa)\n",
    "\n",
    "# results\n",
    "MCM_mf,  MCM_oof, MCM_base_model, cv_score  = Classification_meta_features(clf, a, c, b, d, e,cv=10,n_jobs=1, \n",
    "                                                      col_names = [f'{name}-1', f'{name}-2', f'{name}-3', f'{name}-4'])\n",
    "# report the results\n",
    "report_clf_models(cv_score)\n",
    "\n",
    "# Save results\n",
    "MCM_mf.to_csv(f'../data/Hmodel_features/{name}.csv')\n",
    "np.save(f'../results/Base_models/{name}.npy', MCM_oof)\n",
    "joblib.dump(MCM_base_model, f'../models/Base_models/{name}.pkl')\n",
    "joblib.dump(cv_score, f'../results/Base_models/{name}_CVScore')\n"
   ]
  },
  {
   "cell_type": "code",
   "execution_count": 30,
   "metadata": {},
   "outputs": [
    {
     "name": "stdout",
     "output_type": "stream",
     "text": [
      "Accuracy: 0.615 std: 0.019\n",
      "Balance Accuracy: 0.484 std: 0.017\n",
      "matthews_corrcoef: 0.372 std: 0.03\n",
      "f1_score: 0.574 std: 0.022\n",
      "AUROC: 0.643 std: 0.013\n",
      "CPU times: total: 33min 17s\n",
      "Wall time: 5min 57s\n"
     ]
    },
    {
     "data": {
      "text/plain": [
       "['../results/Base_models/EPA_RF_ecfp6counts_CVScore']"
      ]
     },
     "execution_count": 30,
     "metadata": {},
     "output_type": "execute_result"
    }
   ],
   "source": [
    "%%time\n",
    "#yes\n",
    "endpoint = 'EPA'\n",
    "descriptor = 'ecfp6counts'\n",
    "algorithm = 'RF'\n",
    "name = f'{endpoint}_{algorithm}_{descriptor}'\n",
    "\n",
    "encoder_epa = joblib.load('../encoder_models/encoder_epa.joblib')\n",
    "\n",
    "# model\n",
    "clf = RandomForestClassifier(random_state =42, n_jobs=6,\n",
    "                              n_estimators = 1500, min_samples_split = 5, min_samples_leaf=2,\n",
    "                              max_features = 'sqrt', max_depth=None, bootstrap= False)\n",
    "\n",
    "#input\n",
    "a, b,c,d,e = prepare_input(train_labels, train_ecfp6_counts, target = 'EPA_category', encoder = encoder_epa)\n",
    "\n",
    "# results\n",
    "MCM_mf,  MCM_oof, MCM_base_model, cv_score  = Classification_meta_features(clf, a, c, b, d, e,cv=10,n_jobs=1, \n",
    "                                                      col_names = [f'{name}-1', f'{name}-2', f'{name}-3', f'{name}-4'])\n",
    "# report the results\n",
    "report_clf_models(cv_score)\n",
    "\n",
    "# Save results\n",
    "MCM_mf.to_csv(f'../data/Hmodel_features/{name}.csv')\n",
    "np.save(f'../results/Base_models/{name}.npy', MCM_oof)\n",
    "joblib.dump(MCM_base_model, f'../models/Base_models/{name}.pkl')\n",
    "joblib.dump(cv_score, f'../results/Base_models/{name}_CVScore')\n"
   ]
  },
  {
   "cell_type": "markdown",
   "metadata": {},
   "source": [
    "### xgboost"
   ]
  },
  {
   "cell_type": "code",
   "execution_count": 31,
   "metadata": {},
   "outputs": [
    {
     "name": "stdout",
     "output_type": "stream",
     "text": [
      "Accuracy: 0.599 std: 0.013\n",
      "Balance Accuracy: 0.505 std: 0.019\n",
      "matthews_corrcoef: 0.35 std: 0.017\n",
      "f1_score: 0.577 std: 0.015\n",
      "AUROC: 0.652 std: 0.008\n",
      "CPU times: total: 24min 28s\n",
      "Wall time: 4min 8s\n"
     ]
    },
    {
     "data": {
      "text/plain": [
       "['../results/Base_models/EPA_xgboost_ecfp6bits_CVScore']"
      ]
     },
     "execution_count": 31,
     "metadata": {},
     "output_type": "execute_result"
    }
   ],
   "source": [
    "%%time\n",
    "#yes\n",
    "endpoint = 'EPA'\n",
    "descriptor = 'ecfp6bits'\n",
    "algorithm = 'xgboost'\n",
    "name = f'{endpoint}_{algorithm}_{descriptor}'\n",
    "\n",
    "encoder_epa = joblib.load('../encoder_models/encoder_epa.joblib')\n",
    "\n",
    "# model\n",
    "clf = XGBClassifier(random_state =123, n_jobs=6,\n",
    "                    subsample = 0.7, n_estimators = 500, min_child_weight=5,\n",
    "                    max_depth = 6, learning_rate=0.1, gamma= 0,\n",
    "                    colsample_bytree = 0.8)\n",
    "\n",
    "#input\n",
    "a, b,c,d,e = prepare_input(train_labels, train_ecfp6_bits, target = 'EPA_category', encoder = encoder_epa)\n",
    "\n",
    "# results\n",
    "MCM_mf,  MCM_oof, MCM_base_model, cv_score  = Classification_meta_features(clf, a, c, b, d, e,cv=10,n_jobs=1, \n",
    "                                                      col_names = [f'{name}-1', f'{name}-2', f'{name}-3', f'{name}-4'])\n",
    "# report the results\n",
    "report_clf_models(cv_score)\n",
    "\n",
    "# Save results\n",
    "MCM_mf.to_csv(f'../data/Hmodel_features/{name}.csv')\n",
    "np.save(f'../results/Base_models/{name}.npy', MCM_oof)\n",
    "joblib.dump(MCM_base_model, f'../models/Base_models/{name}.pkl')\n",
    "joblib.dump(cv_score, f'../results/Base_models/{name}_CVScore')\n"
   ]
  },
  {
   "cell_type": "code",
   "execution_count": 32,
   "metadata": {},
   "outputs": [
    {
     "name": "stdout",
     "output_type": "stream",
     "text": [
      "Accuracy: 0.605 std: 0.011\n",
      "Balance Accuracy: 0.531 std: 0.022\n",
      "matthews_corrcoef: 0.369 std: 0.027\n",
      "f1_score: 0.593 std: 0.014\n",
      "AUROC: 0.667 std: 0.014\n",
      "CPU times: total: 1h 31min 8s\n",
      "Wall time: 15min 17s\n"
     ]
    },
    {
     "data": {
      "text/plain": [
       "['../results/Base_models/EPA_xgboost_ecfp6counts_CVScore']"
      ]
     },
     "execution_count": 32,
     "metadata": {},
     "output_type": "execute_result"
    }
   ],
   "source": [
    "%%time\n",
    "#yes\n",
    "endpoint = 'EPA'\n",
    "descriptor = 'ecfp6counts'\n",
    "algorithm = 'xgboost'\n",
    "name = f'{endpoint}_{algorithm}_{descriptor}'\n",
    "\n",
    "encoder_epa = joblib.load('../encoder_models/encoder_epa.joblib')\n",
    "\n",
    "# model\n",
    "clf = XGBClassifier(random_state =123, n_jobs=6,\n",
    "                    subsample = 0.7, n_estimators = 1500, min_child_weight=3,\n",
    "                    max_depth = 10, learning_rate=0.1, gamma= 0,\n",
    "                    colsample_bytree = 0.7)\n",
    "\n",
    "#input\n",
    "a, b,c,d,e = prepare_input(train_labels, train_ecfp6_counts, target = 'EPA_category', encoder = encoder_epa)\n",
    "\n",
    "# results\n",
    "MCM_mf,  MCM_oof, MCM_base_model, cv_score  = Classification_meta_features(clf, a, c, b, d, e,cv=10,n_jobs=1, \n",
    "                                                      col_names = [f'{name}-1', f'{name}-2', f'{name}-3', f'{name}-4'])\n",
    "# report the results\n",
    "report_clf_models(cv_score)\n",
    "\n",
    "# Save results\n",
    "MCM_mf.to_csv(f'../data/Hmodel_features/{name}.csv')\n",
    "np.save(f'../results/Base_models/{name}.npy', MCM_oof)\n",
    "joblib.dump(MCM_base_model, f'../models/Base_models/{name}.pkl')\n",
    "joblib.dump(cv_score, f'../results/Base_models/{name}_CVScore')\n"
   ]
  },
  {
   "cell_type": "code",
   "execution_count": 33,
   "metadata": {},
   "outputs": [
    {
     "name": "stdout",
     "output_type": "stream",
     "text": [
      "Accuracy: 0.626 std: 0.015\n",
      "Balance Accuracy: 0.532 std: 0.01\n",
      "matthews_corrcoef: 0.397 std: 0.018\n",
      "f1_score: 0.606 std: 0.017\n",
      "AUROC: 0.675 std: 0.01\n",
      "CPU times: total: 11min 58s\n",
      "Wall time: 2min 1s\n"
     ]
    },
    {
     "data": {
      "text/plain": [
       "['../results/Base_models/EPA_xgboost_maccs_CVScore']"
      ]
     },
     "execution_count": 33,
     "metadata": {},
     "output_type": "execute_result"
    }
   ],
   "source": [
    "%%time\n",
    "#yes\n",
    "endpoint = 'EPA'\n",
    "descriptor = 'maccs'\n",
    "algorithm = 'xgboost'\n",
    "name = f'{endpoint}_{algorithm}_{descriptor}'\n",
    "\n",
    "encoder_epa = joblib.load('../encoder_models/encoder_epa.joblib')\n",
    "\n",
    "# model\n",
    "clf = XGBClassifier(random_state =123, n_jobs=6,\n",
    "                    subsample = 0.7, n_estimators = 1500, min_child_weight=1,\n",
    "                    max_depth = 6, learning_rate=0.01, gamma= 0,\n",
    "                    colsample_bytree = 0.5)\n",
    "\n",
    "#input\n",
    "a, b,c,d,e = prepare_input(train_labels, train_maccs, target = 'EPA_category', encoder = encoder_epa)\n",
    "\n",
    "# results\n",
    "MCM_mf,  MCM_oof, MCM_base_model, cv_score  = Classification_meta_features(clf, a, c, b, d, e,cv=10,n_jobs=1, \n",
    "                                                      col_names = [f'{name}-1', f'{name}-2', f'{name}-3', f'{name}-4'])\n",
    "# report the results\n",
    "report_clf_models(cv_score)\n",
    "\n",
    "# Save results\n",
    "MCM_mf.to_csv(f'../data/Hmodel_features/{name}.csv')\n",
    "np.save(f'../results/Base_models/{name}.npy', MCM_oof)\n",
    "joblib.dump(MCM_base_model, f'../models/Base_models/{name}.pkl')\n",
    "joblib.dump(cv_score, f'../results/Base_models/{name}_CVScore')\n"
   ]
  },
  {
   "cell_type": "code",
   "execution_count": 34,
   "metadata": {},
   "outputs": [
    {
     "name": "stdout",
     "output_type": "stream",
     "text": [
      "Accuracy: 0.626 std: 0.01\n",
      "Balance Accuracy: 0.551 std: 0.013\n",
      "matthews_corrcoef: 0.403 std: 0.018\n",
      "f1_score: 0.616 std: 0.011\n",
      "AUROC: 0.683 std: 0.009\n",
      "CPU times: total: 34min 20s\n",
      "Wall time: 5min 45s\n"
     ]
    },
    {
     "data": {
      "text/plain": [
       "['../results/Base_models/EPA_xgboost_rdkit2d_CVScore']"
      ]
     },
     "execution_count": 34,
     "metadata": {},
     "output_type": "execute_result"
    }
   ],
   "source": [
    "%%time\n",
    "#yes\n",
    "endpoint = 'EPA'\n",
    "descriptor = 'rdkit2d'\n",
    "algorithm = 'xgboost'\n",
    "name = f'{endpoint}_{algorithm}_{descriptor}'\n",
    "\n",
    "encoder_epa = joblib.load('../encoder_models/encoder_epa.joblib')\n",
    "\n",
    "# model\n",
    "clf = XGBClassifier(random_state =123, n_jobs=6,\n",
    "                    subsample = 0.8, n_estimators = 1500, min_child_weight=3,\n",
    "                    max_depth = 10, learning_rate=0.1, gamma= 0,\n",
    "                    colsample_bytree = 0.5)\n",
    "\n",
    "#input\n",
    "a, b,c,d,e = prepare_input(train_labels, train_rdkit2d, target = 'EPA_category', encoder = encoder_epa)\n",
    "\n",
    "# results\n",
    "MCM_mf,  MCM_oof, MCM_base_model, cv_score  = Classification_meta_features(clf, a, c, b, d, e,cv=10,n_jobs=1, \n",
    "                                                      col_names = [f'{name}-1', f'{name}-2', f'{name}-3', f'{name}-4'])\n",
    "# report the results\n",
    "report_clf_models(cv_score)\n",
    "\n",
    "# Save results\n",
    "MCM_mf.to_csv(f'../data/Hmodel_features/{name}.csv')\n",
    "np.save(f'../results/Base_models/{name}.npy', MCM_oof)\n",
    "joblib.dump(MCM_base_model, f'../models/Base_models/{name}.pkl')\n",
    "joblib.dump(cv_score, f'../results/Base_models/{name}_CVScore')\n"
   ]
  },
  {
   "cell_type": "code",
   "execution_count": 35,
   "metadata": {},
   "outputs": [
    {
     "name": "stdout",
     "output_type": "stream",
     "text": [
      "Accuracy: 0.638 std: 0.012\n",
      "Balance Accuracy: 0.556 std: 0.011\n",
      "matthews_corrcoef: 0.42 std: 0.016\n",
      "f1_score: 0.623 std: 0.013\n",
      "AUROC: 0.688 std: 0.008\n",
      "CPU times: total: 3h 5min 11s\n",
      "Wall time: 31min 5s\n"
     ]
    },
    {
     "data": {
      "text/plain": [
       "['../results/Base_models/EPA_xgboost_mordred_CVScore']"
      ]
     },
     "execution_count": 35,
     "metadata": {},
     "output_type": "execute_result"
    }
   ],
   "source": [
    "%%time\n",
    "#yes\n",
    "endpoint = 'EPA'\n",
    "descriptor = 'mordred'\n",
    "algorithm = 'xgboost'\n",
    "name = f'{endpoint}_{algorithm}_{descriptor}'\n",
    "\n",
    "encoder_epa = joblib.load('../encoder_models/encoder_epa.joblib')\n",
    "\n",
    "# model\n",
    "clf = XGBClassifier(random_state =123, n_jobs=6,\n",
    "                    subsample = 1.0, n_estimators = 1500, min_child_weight=1,\n",
    "                    max_depth = 10, learning_rate=0.1, gamma= 0,\n",
    "                    colsample_bytree = 0.6)\n",
    "\n",
    "#input\n",
    "a, b,c,d,e = prepare_input(train_labels, train_mordred, target = 'EPA_category', encoder = encoder_epa)\n",
    "\n",
    "# results\n",
    "MCM_mf,  MCM_oof, MCM_base_model, cv_score  = Classification_meta_features(clf, a, c, b, d, e,cv=10,n_jobs=1, \n",
    "                                                      col_names = [f'{name}-1', f'{name}-2', f'{name}-3', f'{name}-4'])\n",
    "# report the results\n",
    "report_clf_models(cv_score)\n",
    "\n",
    "# Save results\n",
    "MCM_mf.to_csv(f'../data/Hmodel_features/{name}.csv')\n",
    "np.save(f'../results/Base_models/{name}.npy', MCM_oof)\n",
    "joblib.dump(MCM_base_model, f'../models/Base_models/{name}.pkl')\n",
    "joblib.dump(cv_score, f'../results/Base_models/{name}_CVScore')\n"
   ]
  },
  {
   "cell_type": "markdown",
   "metadata": {},
   "source": [
    "### knn"
   ]
  },
  {
   "cell_type": "code",
   "execution_count": 36,
   "metadata": {},
   "outputs": [
    {
     "name": "stdout",
     "output_type": "stream",
     "text": [
      "Accuracy: 0.615 std: 0.01\n",
      "Balance Accuracy: 0.549 std: 0.012\n",
      "matthews_corrcoef: 0.389 std: 0.016\n",
      "f1_score: 0.605 std: 0.011\n",
      "AUROC: 0.68 std: 0.008\n",
      "CPU times: total: 1min\n",
      "Wall time: 7.72 s\n"
     ]
    },
    {
     "data": {
      "text/plain": [
       "['../results/Base_models/EPA_knn_mordred_CVScore']"
      ]
     },
     "execution_count": 36,
     "metadata": {},
     "output_type": "execute_result"
    }
   ],
   "source": [
    "%%time\n",
    "#yes\n",
    "endpoint = 'EPA'\n",
    "descriptor = 'mordred'\n",
    "algorithm = 'knn'\n",
    "name = f'{endpoint}_{algorithm}_{descriptor}'\n",
    "\n",
    "encoder_epa = joblib.load('../encoder_models/encoder_epa.joblib')\n",
    "\n",
    "# model\n",
    "clf = KNeighborsClassifier(n_neighbors = 9, p = 1, weights = 'distance')\n",
    "\n",
    "#input\n",
    "a, b,c,d,e = prepare_input(train_labels, train_mordred, target = 'EPA_category', encoder = encoder_epa)\n",
    "\n",
    "# results\n",
    "MCM_mf,  MCM_oof, MCM_base_model, cv_score  = Classification_meta_features(clf, a, c, b, d, e,cv=10,n_jobs=1, \n",
    "                                                      col_names = [f'{name}-1', f'{name}-2', f'{name}-3', f'{name}-4'])\n",
    "# report the results\n",
    "report_clf_models(cv_score)\n",
    "\n",
    "# Save results\n",
    "MCM_mf.to_csv(f'../data/Hmodel_features/{name}.csv')\n",
    "np.save(f'../results/Base_models/{name}.npy', MCM_oof)\n",
    "joblib.dump(MCM_base_model, f'../models/Base_models/{name}.pkl')\n",
    "joblib.dump(cv_score, f'../results/Base_models/{name}_CVScore')\n"
   ]
  },
  {
   "cell_type": "code",
   "execution_count": 37,
   "metadata": {},
   "outputs": [
    {
     "name": "stdout",
     "output_type": "stream",
     "text": [
      "Accuracy: 0.61 std: 0.018\n",
      "Balance Accuracy: 0.542 std: 0.015\n",
      "matthews_corrcoef: 0.381 std: 0.02\n",
      "f1_score: 0.6 std: 0.019\n",
      "AUROC: 0.677 std: 0.012\n",
      "CPU times: total: 27.4 s\n",
      "Wall time: 3.51 s\n"
     ]
    },
    {
     "data": {
      "text/plain": [
       "['../results/Base_models/EPA_knn_rdkit2d_CVScore']"
      ]
     },
     "execution_count": 37,
     "metadata": {},
     "output_type": "execute_result"
    }
   ],
   "source": [
    "%%time\n",
    "#yes\n",
    "endpoint = 'EPA'\n",
    "descriptor = 'rdkit2d'\n",
    "algorithm = 'knn'\n",
    "name = f'{endpoint}_{algorithm}_{descriptor}'\n",
    "\n",
    "encoder_epa = joblib.load('../encoder_models/encoder_epa.joblib')\n",
    "\n",
    "# model\n",
    "clf = KNeighborsClassifier(n_neighbors = 9, p = 1, weights = 'distance')\n",
    "\n",
    "#input\n",
    "a, b,c,d,e = prepare_input(train_labels, train_rdkit2d, target = 'EPA_category', encoder = encoder_epa)\n",
    "\n",
    "# results\n",
    "MCM_mf,  MCM_oof, MCM_base_model, cv_score  = Classification_meta_features(clf, a, c, b, d, e,cv=10,n_jobs=1, \n",
    "                                                      col_names = [f'{name}-1', f'{name}-2', f'{name}-3', f'{name}-4'])\n",
    "# report the results\n",
    "report_clf_models(cv_score)\n",
    "\n",
    "# Save results\n",
    "MCM_mf.to_csv(f'../data/Hmodel_features/{name}.csv')\n",
    "np.save(f'../results/Base_models/{name}.npy', MCM_oof)\n",
    "joblib.dump(MCM_base_model, f'../models/Base_models/{name}.pkl')\n",
    "joblib.dump(cv_score, f'../results/Base_models/{name}_CVScore')\n"
   ]
  },
  {
   "cell_type": "code",
   "execution_count": 38,
   "metadata": {},
   "outputs": [
    {
     "name": "stderr",
     "output_type": "stream",
     "text": [
      "c:\\Users\\PC\\anaconda3\\Lib\\site-packages\\sklearn\\metrics\\pairwise.py:2317: DataConversionWarning: Data was converted to boolean for metric rogerstanimoto\n",
      "  warnings.warn(msg, DataConversionWarning)\n",
      "c:\\Users\\PC\\anaconda3\\Lib\\site-packages\\sklearn\\metrics\\pairwise.py:2317: DataConversionWarning: Data was converted to boolean for metric rogerstanimoto\n",
      "  warnings.warn(msg, DataConversionWarning)\n",
      "c:\\Users\\PC\\anaconda3\\Lib\\site-packages\\sklearn\\metrics\\pairwise.py:2317: DataConversionWarning: Data was converted to boolean for metric rogerstanimoto\n",
      "  warnings.warn(msg, DataConversionWarning)\n",
      "c:\\Users\\PC\\anaconda3\\Lib\\site-packages\\sklearn\\metrics\\pairwise.py:2317: DataConversionWarning: Data was converted to boolean for metric rogerstanimoto\n",
      "  warnings.warn(msg, DataConversionWarning)\n",
      "c:\\Users\\PC\\anaconda3\\Lib\\site-packages\\sklearn\\metrics\\pairwise.py:2317: DataConversionWarning: Data was converted to boolean for metric rogerstanimoto\n",
      "  warnings.warn(msg, DataConversionWarning)\n",
      "c:\\Users\\PC\\anaconda3\\Lib\\site-packages\\sklearn\\metrics\\pairwise.py:2317: DataConversionWarning: Data was converted to boolean for metric rogerstanimoto\n",
      "  warnings.warn(msg, DataConversionWarning)\n",
      "c:\\Users\\PC\\anaconda3\\Lib\\site-packages\\sklearn\\metrics\\pairwise.py:2317: DataConversionWarning: Data was converted to boolean for metric rogerstanimoto\n",
      "  warnings.warn(msg, DataConversionWarning)\n",
      "c:\\Users\\PC\\anaconda3\\Lib\\site-packages\\sklearn\\metrics\\pairwise.py:2317: DataConversionWarning: Data was converted to boolean for metric rogerstanimoto\n",
      "  warnings.warn(msg, DataConversionWarning)\n",
      "c:\\Users\\PC\\anaconda3\\Lib\\site-packages\\sklearn\\metrics\\pairwise.py:2317: DataConversionWarning: Data was converted to boolean for metric rogerstanimoto\n",
      "  warnings.warn(msg, DataConversionWarning)\n",
      "c:\\Users\\PC\\anaconda3\\Lib\\site-packages\\sklearn\\metrics\\pairwise.py:2317: DataConversionWarning: Data was converted to boolean for metric rogerstanimoto\n",
      "  warnings.warn(msg, DataConversionWarning)\n",
      "c:\\Users\\PC\\anaconda3\\Lib\\site-packages\\sklearn\\metrics\\pairwise.py:2317: DataConversionWarning: Data was converted to boolean for metric rogerstanimoto\n",
      "  warnings.warn(msg, DataConversionWarning)\n",
      "c:\\Users\\PC\\anaconda3\\Lib\\site-packages\\sklearn\\metrics\\pairwise.py:2317: DataConversionWarning: Data was converted to boolean for metric rogerstanimoto\n",
      "  warnings.warn(msg, DataConversionWarning)\n",
      "c:\\Users\\PC\\anaconda3\\Lib\\site-packages\\sklearn\\metrics\\pairwise.py:2317: DataConversionWarning: Data was converted to boolean for metric rogerstanimoto\n",
      "  warnings.warn(msg, DataConversionWarning)\n",
      "c:\\Users\\PC\\anaconda3\\Lib\\site-packages\\sklearn\\metrics\\pairwise.py:2317: DataConversionWarning: Data was converted to boolean for metric rogerstanimoto\n",
      "  warnings.warn(msg, DataConversionWarning)\n",
      "c:\\Users\\PC\\anaconda3\\Lib\\site-packages\\sklearn\\metrics\\pairwise.py:2317: DataConversionWarning: Data was converted to boolean for metric rogerstanimoto\n",
      "  warnings.warn(msg, DataConversionWarning)\n",
      "c:\\Users\\PC\\anaconda3\\Lib\\site-packages\\sklearn\\metrics\\pairwise.py:2317: DataConversionWarning: Data was converted to boolean for metric rogerstanimoto\n",
      "  warnings.warn(msg, DataConversionWarning)\n",
      "c:\\Users\\PC\\anaconda3\\Lib\\site-packages\\sklearn\\metrics\\pairwise.py:2317: DataConversionWarning: Data was converted to boolean for metric rogerstanimoto\n",
      "  warnings.warn(msg, DataConversionWarning)\n",
      "c:\\Users\\PC\\anaconda3\\Lib\\site-packages\\sklearn\\metrics\\pairwise.py:2317: DataConversionWarning: Data was converted to boolean for metric rogerstanimoto\n",
      "  warnings.warn(msg, DataConversionWarning)\n",
      "c:\\Users\\PC\\anaconda3\\Lib\\site-packages\\sklearn\\metrics\\pairwise.py:2317: DataConversionWarning: Data was converted to boolean for metric rogerstanimoto\n",
      "  warnings.warn(msg, DataConversionWarning)\n",
      "c:\\Users\\PC\\anaconda3\\Lib\\site-packages\\sklearn\\metrics\\pairwise.py:2317: DataConversionWarning: Data was converted to boolean for metric rogerstanimoto\n",
      "  warnings.warn(msg, DataConversionWarning)\n",
      "c:\\Users\\PC\\anaconda3\\Lib\\site-packages\\sklearn\\metrics\\pairwise.py:2317: DataConversionWarning: Data was converted to boolean for metric rogerstanimoto\n",
      "  warnings.warn(msg, DataConversionWarning)\n"
     ]
    },
    {
     "name": "stdout",
     "output_type": "stream",
     "text": [
      "Accuracy: 0.603 std: 0.012\n",
      "Balance Accuracy: 0.525 std: 0.015\n",
      "matthews_corrcoef: 0.367 std: 0.019\n",
      "f1_score: 0.59 std: 0.015\n",
      "AUROC: 0.668 std: 0.01\n",
      "CPU times: total: 23.8 s\n",
      "Wall time: 23.5 s\n"
     ]
    },
    {
     "data": {
      "text/plain": [
       "['../results/Base_models/EPA_knn_maccs_CVScore']"
      ]
     },
     "execution_count": 38,
     "metadata": {},
     "output_type": "execute_result"
    }
   ],
   "source": [
    "%%time\n",
    "#yes\n",
    "endpoint = 'EPA'\n",
    "descriptor = 'maccs'\n",
    "algorithm = 'knn'\n",
    "name = f'{endpoint}_{algorithm}_{descriptor}'\n",
    "\n",
    "encoder_epa = joblib.load('../encoder_models/encoder_epa.joblib')\n",
    "\n",
    "# model\n",
    "clf = KNeighborsClassifier(metric = 'rogerstanimoto', n_neighbors = 15, weights = 'distance')\n",
    "\n",
    "#input\n",
    "a, b,c,d,e = prepare_input(train_labels, train_maccs, target = 'EPA_category', encoder = encoder_epa)\n",
    "\n",
    "# results\n",
    "MCM_mf,  MCM_oof, MCM_base_model, cv_score  = Classification_meta_features(clf, a, c, b, d, e,cv=10,n_jobs=1, \n",
    "                                                      col_names = [f'{name}-1', f'{name}-2', f'{name}-3', f'{name}-4'])\n",
    "# report the results\n",
    "report_clf_models(cv_score)\n",
    "\n",
    "# Save results\n",
    "MCM_mf.to_csv(f'../data/Hmodel_features/{name}.csv')\n",
    "np.save(f'../results/Base_models/{name}.npy', MCM_oof)\n",
    "joblib.dump(MCM_base_model, f'../models/Base_models/{name}.pkl')\n",
    "joblib.dump(cv_score, f'../results/Base_models/{name}_CVScore')\n"
   ]
  },
  {
   "cell_type": "code",
   "execution_count": 39,
   "metadata": {},
   "outputs": [
    {
     "name": "stdout",
     "output_type": "stream",
     "text": [
      "Accuracy: 0.605 std: 0.02\n",
      "Balance Accuracy: 0.538 std: 0.019\n",
      "matthews_corrcoef: 0.371 std: 0.029\n",
      "f1_score: 0.593 std: 0.021\n",
      "AUROC: 0.67 std: 0.015\n",
      "CPU times: total: 5min 6s\n",
      "Wall time: 41.5 s\n"
     ]
    },
    {
     "data": {
      "text/plain": [
       "['../results/Base_models/EPA_knn_ecfp6counts_CVScore']"
      ]
     },
     "execution_count": 39,
     "metadata": {},
     "output_type": "execute_result"
    }
   ],
   "source": [
    "%%time\n",
    "#yes\n",
    "endpoint = 'EPA'\n",
    "descriptor = 'ecfp6counts'\n",
    "algorithm = 'knn'\n",
    "name = f'{endpoint}_{algorithm}_{descriptor}'\n",
    "\n",
    "encoder_epa = joblib.load('../encoder_models/encoder_epa.joblib')\n",
    "\n",
    "# model\n",
    "clf = KNeighborsClassifier(metric = 'braycurtis', n_neighbors = 9, weights = 'distance')\n",
    "\n",
    "#input\n",
    "a, b,c,d,e = prepare_input(train_labels, train_ecfp6_counts, target = 'EPA_category', encoder = encoder_epa)\n",
    "\n",
    "# results\n",
    "MCM_mf,  MCM_oof, MCM_base_model, cv_score  = Classification_meta_features(clf, a, c, b, d, e,cv=10,n_jobs=1, \n",
    "                                                      col_names = [f'{name}-1', f'{name}-2', f'{name}-3', f'{name}-4'])\n",
    "# report the results\n",
    "report_clf_models(cv_score)\n",
    "\n",
    "# Save results\n",
    "MCM_mf.to_csv(f'../data/Hmodel_features/{name}.csv')\n",
    "np.save(f'../results/Base_models/{name}.npy', MCM_oof)\n",
    "joblib.dump(MCM_base_model, f'../models/Base_models/{name}.pkl')\n",
    "joblib.dump(cv_score, f'../results/Base_models/{name}_CVScore')\n"
   ]
  },
  {
   "cell_type": "code",
   "execution_count": 40,
   "metadata": {},
   "outputs": [
    {
     "name": "stderr",
     "output_type": "stream",
     "text": [
      "c:\\Users\\PC\\anaconda3\\Lib\\site-packages\\sklearn\\metrics\\pairwise.py:2317: DataConversionWarning: Data was converted to boolean for metric dice\n",
      "  warnings.warn(msg, DataConversionWarning)\n",
      "c:\\Users\\PC\\anaconda3\\Lib\\site-packages\\sklearn\\metrics\\pairwise.py:2317: DataConversionWarning: Data was converted to boolean for metric dice\n",
      "  warnings.warn(msg, DataConversionWarning)\n",
      "c:\\Users\\PC\\anaconda3\\Lib\\site-packages\\sklearn\\metrics\\pairwise.py:2317: DataConversionWarning: Data was converted to boolean for metric dice\n",
      "  warnings.warn(msg, DataConversionWarning)\n",
      "c:\\Users\\PC\\anaconda3\\Lib\\site-packages\\sklearn\\metrics\\pairwise.py:2317: DataConversionWarning: Data was converted to boolean for metric dice\n",
      "  warnings.warn(msg, DataConversionWarning)\n",
      "c:\\Users\\PC\\anaconda3\\Lib\\site-packages\\sklearn\\metrics\\pairwise.py:2317: DataConversionWarning: Data was converted to boolean for metric dice\n",
      "  warnings.warn(msg, DataConversionWarning)\n",
      "c:\\Users\\PC\\anaconda3\\Lib\\site-packages\\sklearn\\metrics\\pairwise.py:2317: DataConversionWarning: Data was converted to boolean for metric dice\n",
      "  warnings.warn(msg, DataConversionWarning)\n",
      "c:\\Users\\PC\\anaconda3\\Lib\\site-packages\\sklearn\\metrics\\pairwise.py:2317: DataConversionWarning: Data was converted to boolean for metric dice\n",
      "  warnings.warn(msg, DataConversionWarning)\n",
      "c:\\Users\\PC\\anaconda3\\Lib\\site-packages\\sklearn\\metrics\\pairwise.py:2317: DataConversionWarning: Data was converted to boolean for metric dice\n",
      "  warnings.warn(msg, DataConversionWarning)\n",
      "c:\\Users\\PC\\anaconda3\\Lib\\site-packages\\sklearn\\metrics\\pairwise.py:2317: DataConversionWarning: Data was converted to boolean for metric dice\n",
      "  warnings.warn(msg, DataConversionWarning)\n",
      "c:\\Users\\PC\\anaconda3\\Lib\\site-packages\\sklearn\\metrics\\pairwise.py:2317: DataConversionWarning: Data was converted to boolean for metric dice\n",
      "  warnings.warn(msg, DataConversionWarning)\n",
      "c:\\Users\\PC\\anaconda3\\Lib\\site-packages\\sklearn\\metrics\\pairwise.py:2317: DataConversionWarning: Data was converted to boolean for metric dice\n",
      "  warnings.warn(msg, DataConversionWarning)\n",
      "c:\\Users\\PC\\anaconda3\\Lib\\site-packages\\sklearn\\metrics\\pairwise.py:2317: DataConversionWarning: Data was converted to boolean for metric dice\n",
      "  warnings.warn(msg, DataConversionWarning)\n",
      "c:\\Users\\PC\\anaconda3\\Lib\\site-packages\\sklearn\\metrics\\pairwise.py:2317: DataConversionWarning: Data was converted to boolean for metric dice\n",
      "  warnings.warn(msg, DataConversionWarning)\n",
      "c:\\Users\\PC\\anaconda3\\Lib\\site-packages\\sklearn\\metrics\\pairwise.py:2317: DataConversionWarning: Data was converted to boolean for metric dice\n",
      "  warnings.warn(msg, DataConversionWarning)\n",
      "c:\\Users\\PC\\anaconda3\\Lib\\site-packages\\sklearn\\metrics\\pairwise.py:2317: DataConversionWarning: Data was converted to boolean for metric dice\n",
      "  warnings.warn(msg, DataConversionWarning)\n",
      "c:\\Users\\PC\\anaconda3\\Lib\\site-packages\\sklearn\\metrics\\pairwise.py:2317: DataConversionWarning: Data was converted to boolean for metric dice\n",
      "  warnings.warn(msg, DataConversionWarning)\n",
      "c:\\Users\\PC\\anaconda3\\Lib\\site-packages\\sklearn\\metrics\\pairwise.py:2317: DataConversionWarning: Data was converted to boolean for metric dice\n",
      "  warnings.warn(msg, DataConversionWarning)\n",
      "c:\\Users\\PC\\anaconda3\\Lib\\site-packages\\sklearn\\metrics\\pairwise.py:2317: DataConversionWarning: Data was converted to boolean for metric dice\n",
      "  warnings.warn(msg, DataConversionWarning)\n",
      "c:\\Users\\PC\\anaconda3\\Lib\\site-packages\\sklearn\\metrics\\pairwise.py:2317: DataConversionWarning: Data was converted to boolean for metric dice\n",
      "  warnings.warn(msg, DataConversionWarning)\n",
      "c:\\Users\\PC\\anaconda3\\Lib\\site-packages\\sklearn\\metrics\\pairwise.py:2317: DataConversionWarning: Data was converted to boolean for metric dice\n",
      "  warnings.warn(msg, DataConversionWarning)\n",
      "c:\\Users\\PC\\anaconda3\\Lib\\site-packages\\sklearn\\metrics\\pairwise.py:2317: DataConversionWarning: Data was converted to boolean for metric dice\n",
      "  warnings.warn(msg, DataConversionWarning)\n"
     ]
    },
    {
     "name": "stdout",
     "output_type": "stream",
     "text": [
      "Accuracy: 0.605 std: 0.022\n",
      "Balance Accuracy: 0.536 std: 0.023\n",
      "matthews_corrcoef: 0.372 std: 0.032\n",
      "f1_score: 0.594 std: 0.023\n",
      "AUROC: 0.672 std: 0.017\n",
      "CPU times: total: 3min 13s\n",
      "Wall time: 3min 14s\n"
     ]
    },
    {
     "data": {
      "text/plain": [
       "['../results/Base_models/EPA_knn_ecfp6bits_CVScore']"
      ]
     },
     "execution_count": 40,
     "metadata": {},
     "output_type": "execute_result"
    }
   ],
   "source": [
    "%%time\n",
    "#yes\n",
    "endpoint = 'EPA'\n",
    "descriptor = 'ecfp6bits'\n",
    "algorithm = 'knn'\n",
    "name = f'{endpoint}_{algorithm}_{descriptor}'\n",
    "\n",
    "encoder_epa = joblib.load('../encoder_models/encoder_epa.joblib')\n",
    "\n",
    "# model\n",
    "clf = KNeighborsClassifier(metric = 'dice', n_neighbors = 9, weights = 'distance')\n",
    "\n",
    "#input\n",
    "a, b,c,d,e = prepare_input(train_labels, train_ecfp6_bits, target = 'EPA_category', encoder = encoder_epa)\n",
    "\n",
    "# results\n",
    "MCM_mf,  MCM_oof, MCM_base_model, cv_score  = Classification_meta_features(clf, a, c, b, d, e,cv=10,n_jobs=1, \n",
    "                                                      col_names = [f'{name}-1', f'{name}-2', f'{name}-3', f'{name}-4'])\n",
    "# report the results\n",
    "report_clf_models(cv_score)\n",
    "\n",
    "# Save results\n",
    "MCM_mf.to_csv(f'../data/Hmodel_features/{name}.csv')\n",
    "np.save(f'../results/Base_models/{name}.npy', MCM_oof)\n",
    "joblib.dump(MCM_base_model, f'../models/Base_models/{name}.pkl')\n",
    "joblib.dump(cv_score, f'../results/Base_models/{name}_CVScore')\n"
   ]
  },
  {
   "cell_type": "markdown",
   "metadata": {},
   "source": [
    "### svm"
   ]
  },
  {
   "cell_type": "code",
   "execution_count": 41,
   "metadata": {},
   "outputs": [
    {
     "name": "stdout",
     "output_type": "stream",
     "text": [
      "Accuracy: 0.605 std: 0.01\n",
      "Balance Accuracy: 0.545 std: 0.015\n",
      "matthews_corrcoef: 0.375 std: 0.021\n",
      "f1_score: 0.597 std: 0.012\n",
      "AUROC: 0.672 std: 0.01\n",
      "CPU times: total: 42min 9s\n",
      "Wall time: 42min 21s\n"
     ]
    },
    {
     "data": {
      "text/plain": [
       "['../results/Base_models/EPA_svm_mordred_CVScore']"
      ]
     },
     "execution_count": 41,
     "metadata": {},
     "output_type": "execute_result"
    }
   ],
   "source": [
    "%%time\n",
    "#yes\n",
    "endpoint = 'EPA'\n",
    "descriptor = 'mordred'\n",
    "algorithm = 'svm'\n",
    "name = f'{endpoint}_{algorithm}_{descriptor}'\n",
    "\n",
    "encoder_epa = joblib.load('../encoder_models/encoder_epa.joblib')\n",
    "\n",
    "# model\n",
    "clf = SVC(random_state=42, probability=True,\n",
    "          C = 10, gamma = 1, kernel = 'rbf')\n",
    "\n",
    "#input\n",
    "a, b,c,d,e = prepare_input(train_labels, train_mordred, target = 'EPA_category', encoder = encoder_epa)\n",
    "\n",
    "# results\n",
    "MCM_mf,  MCM_oof, MCM_base_model, cv_score  = Classification_meta_features(clf, a, c, b, d, e,cv=10,n_jobs=1, \n",
    "                                                      col_names = [f'{name}-1', f'{name}-2', f'{name}-3', f'{name}-4'])\n",
    "# report the results\n",
    "report_clf_models(cv_score)\n",
    "\n",
    "# Save results\n",
    "MCM_mf.to_csv(f'../data/Hmodel_features/{name}.csv')\n",
    "np.save(f'../results/Base_models/{name}.npy', MCM_oof)\n",
    "joblib.dump(MCM_base_model, f'../models/Base_models/{name}.pkl')\n",
    "joblib.dump(cv_score, f'../results/Base_models/{name}_CVScore')\n"
   ]
  },
  {
   "cell_type": "code",
   "execution_count": 42,
   "metadata": {},
   "outputs": [
    {
     "name": "stdout",
     "output_type": "stream",
     "text": [
      "Accuracy: 0.61 std: 0.016\n",
      "Balance Accuracy: 0.55 std: 0.016\n",
      "matthews_corrcoef: 0.386 std: 0.019\n",
      "f1_score: 0.604 std: 0.018\n",
      "AUROC: 0.681 std: 0.011\n",
      "CPU times: total: 10min 3s\n",
      "Wall time: 11min 44s\n"
     ]
    },
    {
     "data": {
      "text/plain": [
       "['../results/Base_models/EPA_svm_rdkit2d_CVScore']"
      ]
     },
     "execution_count": 42,
     "metadata": {},
     "output_type": "execute_result"
    }
   ],
   "source": [
    "%%time\n",
    "#yes\n",
    "endpoint = 'EPA'\n",
    "descriptor = 'rdkit2d'\n",
    "algorithm = 'svm'\n",
    "name = f'{endpoint}_{algorithm}_{descriptor}'\n",
    "\n",
    "encoder_epa = joblib.load('../encoder_models/encoder_epa.joblib')\n",
    "\n",
    "# model\n",
    "clf = SVC(random_state=42, probability=True,\n",
    "          C = 10, gamma = 1, kernel = 'rbf')\n",
    "\n",
    "#input\n",
    "a, b,c,d,e = prepare_input(train_labels, train_rdkit2d, target = 'EPA_category', encoder = encoder_epa)\n",
    "\n",
    "# results\n",
    "MCM_mf,  MCM_oof, MCM_base_model, cv_score  = Classification_meta_features(clf, a, c, b, d, e,cv=10,n_jobs=1, \n",
    "                                                      col_names = [f'{name}-1', f'{name}-2', f'{name}-3', f'{name}-4'])\n",
    "# report the results\n",
    "report_clf_models(cv_score)\n",
    "\n",
    "# Save results\n",
    "MCM_mf.to_csv(f'../data/Hmodel_features/{name}.csv')\n",
    "np.save(f'../results/Base_models/{name}.npy', MCM_oof)\n",
    "joblib.dump(MCM_base_model, f'../models/Base_models/{name}.pkl')\n",
    "joblib.dump(cv_score, f'../results/Base_models/{name}_CVScore')\n"
   ]
  },
  {
   "cell_type": "code",
   "execution_count": 43,
   "metadata": {},
   "outputs": [
    {
     "name": "stdout",
     "output_type": "stream",
     "text": [
      "Accuracy: 0.598 std: 0.008\n",
      "Balance Accuracy: 0.54 std: 0.009\n",
      "matthews_corrcoef: 0.37 std: 0.01\n",
      "f1_score: 0.593 std: 0.008\n",
      "AUROC: 0.675 std: 0.006\n",
      "CPU times: total: 12min 31s\n",
      "Wall time: 12min 36s\n"
     ]
    },
    {
     "data": {
      "text/plain": [
       "['../results/Base_models/EPA_svm_maccs_CVScore']"
      ]
     },
     "execution_count": 43,
     "metadata": {},
     "output_type": "execute_result"
    }
   ],
   "source": [
    "%%time\n",
    "#yes\n",
    "endpoint = 'EPA'\n",
    "descriptor = 'maccs'\n",
    "algorithm = 'svm'\n",
    "name = f'{endpoint}_{algorithm}_{descriptor}'\n",
    "\n",
    "encoder_epa = joblib.load('../encoder_models/encoder_epa.joblib')\n",
    "\n",
    "# model\n",
    "clf = SVC(random_state=42, probability=True,\n",
    "          C = 100, gamma = 0.1, kernel = 'rbf')\n",
    "\n",
    "#input\n",
    "a, b,c,d,e = prepare_input(train_labels, train_maccs, target = 'EPA_category', encoder = encoder_epa)\n",
    "\n",
    "# results\n",
    "MCM_mf,  MCM_oof, MCM_base_model, cv_score  = Classification_meta_features(clf, a, c, b, d, e,cv=10,n_jobs=1, \n",
    "                                                      col_names = [f'{name}-1', f'{name}-2', f'{name}-3', f'{name}-4'])\n",
    "# report the results\n",
    "report_clf_models(cv_score)\n",
    "\n",
    "# Save results\n",
    "MCM_mf.to_csv(f'../data/Hmodel_features/{name}.csv')\n",
    "np.save(f'../results/Base_models/{name}.npy', MCM_oof)\n",
    "joblib.dump(MCM_base_model, f'../models/Base_models/{name}.pkl')\n",
    "joblib.dump(cv_score, f'../results/Base_models/{name}_CVScore')\n"
   ]
  },
  {
   "cell_type": "code",
   "execution_count": null,
   "metadata": {},
   "outputs": [],
   "source": [
    "%%time\n",
    "#yes\n",
    "endpoint = 'EPA'\n",
    "descriptor = 'ecfp6bits'\n",
    "algorithm = 'svm'\n",
    "name = f'{endpoint}_{algorithm}_{descriptor}'\n",
    "\n",
    "encoder_epa = joblib.load('../encoder_models/encoder_epa.joblib')\n",
    "\n",
    "# model\n",
    "clf = SVC(random_state=42, probability=True,\n",
    "          C = 10, gamma = 0.01, kernel = 'rbf')\n",
    "\n",
    "#input\n",
    "a, b,c,d,e = prepare_input(train_labels, train_ecfp6_bits, target = 'EPA_category', encoder = encoder_epa)\n",
    "\n",
    "# results\n",
    "MCM_mf,  MCM_oof, MCM_base_model, cv_score  = Classification_meta_features(clf, a, c, b, d, e,cv=10,n_jobs=1, \n",
    "                                                      col_names = [f'{name}-1', f'{name}-2', f'{name}-3', f'{name}-4'])\n",
    "# report the results\n",
    "report_clf_models(cv_score)\n",
    "\n",
    "# Save results\n",
    "MCM_mf.to_csv(f'../data/Hmodel_features/{name}.csv')\n",
    "np.save(f'../results/Base_models/{name}.npy', MCM_oof)\n",
    "joblib.dump(MCM_base_model, f'../models/Base_models/{name}.pkl')\n",
    "joblib.dump(cv_score, f'../results/Base_models/{name}_CVScore')"
   ]
  },
  {
   "cell_type": "code",
   "execution_count": null,
   "metadata": {},
   "outputs": [
    {
     "name": "stdout",
     "output_type": "stream",
     "text": [
      "Accuracy: 0.606 std: 0.018\n",
      "Balance Accuracy: 0.542 std: 0.017\n",
      "matthews_corrcoef: 0.374 std: 0.027\n",
      "f1_score: 0.597 std: 0.018\n",
      "AUROC: 0.672 std: 0.014\n",
      "CPU times: user 4h 40min 38s, sys: 5.49 s, total: 4h 40min 44s\n",
      "Wall time: 4h 40min 45s\n"
     ]
    }
   ],
   "source": [
    "%%time\n",
    "#yes\n",
    "endpoint = 'EPA'\n",
    "descriptor = 'ecfp6counts'\n",
    "algorithm = 'svm'\n",
    "name = f'{endpoint}_{algorithm}_{descriptor}'\n",
    "\n",
    "encoder_epa = joblib.load('../encoder_models/encoder_epa.joblib')\n",
    "\n",
    "# model\n",
    "clf = SVC(random_state=42, probability=True,\n",
    "          C = 10, gamma = 0.01, kernel = 'rbf')\n",
    "\n",
    "#input\n",
    "a, b,c,d,e = prepare_input(train_labels, train_ecfp6_counts, target = 'EPA_category', encoder = encoder_epa)\n",
    "\n",
    "# results\n",
    "MCM_mf,  MCM_oof, MCM_base_model, cv_score  = Classification_meta_features(clf, a, c, b, d, e,cv=10,n_jobs=1, \n",
    "                                                      col_names = [f'{name}-1', f'{name}-2', f'{name}-3', f'{name}-4'])\n",
    "# report the results\n",
    "report_clf_models(cv_score)\n",
    "\n",
    "# Save results\n",
    "MCM_mf.to_csv(f'../data/Hmodel_features/{name}.csv')\n",
    "np.save(f'../results/Base_models/{name}.npy', MCM_oof)\n",
    "joblib.dump(MCM_base_model, f'../models/Base_models/{name}.pkl')\n",
    "joblib.dump(cv_score, f'../results/Base_models/{name}_CVScore')"
   ]
  },
  {
   "cell_type": "markdown",
   "metadata": {},
   "source": [
    "## Endpoint 3: LD50"
   ]
  },
  {
   "cell_type": "markdown",
   "metadata": {},
   "source": [
    "### random forest"
   ]
  },
  {
   "cell_type": "code",
   "execution_count": null,
   "metadata": {},
   "outputs": [
    {
     "name": "stdout",
     "output_type": "stream",
     "text": [
      "RMSE: 0.597 std: 0.027\n",
      "R2: 0.562 std: 0.032\n",
      "MAE: 0.44 std: 0.018\n",
      "MSE: 0.357 std: 0.033\n",
      "CPU times: user 3min 54s, sys: 8.98 s, total: 4min 3s\n",
      "Wall time: 8min 47s\n"
     ]
    }
   ],
   "source": [
    "%%time\n",
    "#yes\n",
    "endpoint = 'LD50'\n",
    "descriptor = 'mordred'\n",
    "algorithm = 'RF'\n",
    "name = f'{endpoint}_{algorithm}_{descriptor}'\n",
    "\n",
    "# model\n",
    "rf_reg = RandomForestRegressor(random_state =42, n_jobs=6,\n",
    "                              n_estimators = 500, min_samples_split = 5, min_samples_leaf=2,\n",
    "                              max_features = 'sqrt', max_depth=80, bootstrap= False)\n",
    "\n",
    "#input\n",
    "a, b,c,d,e = prepare_input(train_labels, train_mordred, target = 'logLD50_mmolkg')\n",
    "\n",
    "# results\n",
    "RM_mf, RM_oof, RM_base_model, cv_score = Regression_meta_features(rf_reg, a, c, b, \n",
    "                                                       d, e,cv=10, n_jobs = 1, col_names = [f'{name}'])\n",
    "# report the results\n",
    "report_cv_reg_models(cv_score)\n",
    "\n",
    "# Save results\n",
    "RM_mf.to_csv(f'../data/Hmodel_features/{name}.csv')\n",
    "np.save(f'../results/Base_models/{name}.npy', RM_oof)\n",
    "joblib.dump(RM_base_model, f'../models/Base_models/{name}.pkl')\n",
    "joblib.dump(cv_score, f'../results/Base_models/{name}_CVScore')\n"
   ]
  },
  {
   "cell_type": "code",
   "execution_count": null,
   "metadata": {},
   "outputs": [
    {
     "name": "stdout",
     "output_type": "stream",
     "text": [
      "RMSE: 0.595 std: 0.027\n",
      "R2: 0.565 std: 0.029\n",
      "MAE: 0.435 std: 0.018\n",
      "MSE: 0.355 std: 0.032\n",
      "CPU times: user 2min 7s, sys: 9.69 s, total: 2min 17s\n",
      "Wall time: 3min 21s\n"
     ]
    }
   ],
   "source": [
    "%%time\n",
    "#yes\n",
    "endpoint = 'LD50'\n",
    "descriptor = 'rdkit2d'\n",
    "algorithm = 'RF'\n",
    "name = f'{endpoint}_{algorithm}_{descriptor}'\n",
    "\n",
    "# model\n",
    "rf_reg = RandomForestRegressor(random_state =42, n_jobs=6,\n",
    "                              n_estimators = 1500, min_samples_split = 2, min_samples_leaf=2,\n",
    "                              max_features = 'log2', max_depth=20, bootstrap= False)\n",
    "\n",
    "#input\n",
    "a, b,c,d,e = prepare_input(train_labels, train_rdkit2d, target = 'logLD50_mmolkg')\n",
    "\n",
    "# results\n",
    "RM_mf, RM_oof, RM_base_model, cv_score = Regression_meta_features(rf_reg, a, c, b, \n",
    "                                                       d, e,cv=10, n_jobs = 1, col_names = [f'{name}'])\n",
    "# report the results\n",
    "report_cv_reg_models(cv_score)\n",
    "\n",
    "# Save results\n",
    "RM_mf.to_csv(f'../data/Hmodel_features/{name}.csv')\n",
    "np.save(f'../results/Base_models/{name}.npy', RM_oof)\n",
    "joblib.dump(RM_base_model, f'../models/Base_models/{name}.pkl')\n",
    "joblib.dump(cv_score, f'../results/Base_models/{name}_CVScore')\n"
   ]
  },
  {
   "cell_type": "code",
   "execution_count": null,
   "metadata": {},
   "outputs": [
    {
     "name": "stdout",
     "output_type": "stream",
     "text": [
      "RMSE: 0.597 std: 0.024\n",
      "R2: 0.562 std: 0.032\n",
      "MAE: 0.44 std: 0.017\n",
      "MSE: 0.357 std: 0.029\n",
      "CPU times: user 28.3 s, sys: 2.74 s, total: 31.1 s\n",
      "Wall time: 37 s\n"
     ]
    }
   ],
   "source": [
    "%%time\n",
    "#yes\n",
    "endpoint = 'LD50'\n",
    "descriptor = 'maccs'\n",
    "algorithm = 'RF'\n",
    "name = f'{endpoint}_{algorithm}_{descriptor}'\n",
    "\n",
    "# model\n",
    "rf_reg = RandomForestRegressor(random_state =42, n_jobs=6,\n",
    "                              n_estimators = 500, min_samples_split = 2, min_samples_leaf=2,\n",
    "                              max_features = 'sqrt', max_depth=None, bootstrap= False)\n",
    "\n",
    "#input\n",
    "a, b,c,d,e = prepare_input(train_labels, train_maccs, target = 'logLD50_mmolkg')\n",
    "\n",
    "# results\n",
    "RM_mf, RM_oof, RM_base_model, cv_score = Regression_meta_features(rf_reg, a, c, b, \n",
    "                                                       d, e,cv=10, n_jobs = 1, col_names = [f'{name}'])\n",
    "# report the results\n",
    "report_cv_reg_models(cv_score)\n",
    "\n",
    "# Save results\n",
    "RM_mf.to_csv(f'../data/Hmodel_features/{name}.csv')\n",
    "np.save(f'../results/Base_models/{name}.npy', RM_oof)\n",
    "joblib.dump(RM_base_model, f'../models/Base_models/{name}.pkl')\n",
    "joblib.dump(cv_score, f'../results/Base_models/{name}_CVScore')\n"
   ]
  },
  {
   "cell_type": "code",
   "execution_count": null,
   "metadata": {},
   "outputs": [
    {
     "name": "stdout",
     "output_type": "stream",
     "text": [
      "RMSE: 0.619 std: 0.02\n",
      "R2: 0.531 std: 0.023\n",
      "MAE: 0.459 std: 0.015\n",
      "MSE: 0.383 std: 0.024\n",
      "CPU times: user 1min 27s, sys: 4.48 s, total: 1min 31s\n",
      "Wall time: 4min 42s\n"
     ]
    }
   ],
   "source": [
    "%%time\n",
    "#yes\n",
    "endpoint = 'LD50'\n",
    "descriptor = 'ecfp6counts'\n",
    "algorithm = 'RF'\n",
    "name = f'{endpoint}_{algorithm}_{descriptor}'\n",
    "\n",
    "# model\n",
    "rf_reg = RandomForestRegressor(random_state =42, n_jobs=6,\n",
    "                              n_estimators = 1500, min_samples_split = 5, min_samples_leaf=2,\n",
    "                              max_features = 'sqrt', max_depth=None, bootstrap= False)\n",
    "\n",
    "#input\n",
    "a, b,c,d,e = prepare_input(train_labels, train_ecfp6_counts, target = 'logLD50_mmolkg')\n",
    "\n",
    "# results\n",
    "RM_mf, RM_oof, RM_base_model, cv_score = Regression_meta_features(rf_reg, a, c, b, \n",
    "                                                       d, e,cv=10, n_jobs = 1, col_names = [f'{name}'])\n",
    "# report the results\n",
    "report_cv_reg_models(cv_score)\n",
    "\n",
    "# Save results\n",
    "RM_mf.to_csv(f'../data/Hmodel_features/{name}.csv')\n",
    "np.save(f'../results/Base_models/{name}.npy', RM_oof)\n",
    "joblib.dump(RM_base_model, f'../models/Base_models/{name}.pkl')\n",
    "joblib.dump(cv_score, f'../results/Base_models/{name}_CVScore')\n"
   ]
  },
  {
   "cell_type": "code",
   "execution_count": null,
   "metadata": {},
   "outputs": [
    {
     "name": "stdout",
     "output_type": "stream",
     "text": [
      "RMSE: 0.628 std: 0.022\n",
      "R2: 0.517 std: 0.026\n",
      "MAE: 0.466 std: 0.016\n",
      "MSE: 0.394 std: 0.028\n",
      "CPU times: user 3min 55s, sys: 10.3 s, total: 4min 5s\n",
      "Wall time: 12min 25s\n"
     ]
    }
   ],
   "source": [
    "%%time\n",
    "#yes\n",
    "endpoint = 'LD50'\n",
    "descriptor = 'ecfp6bits'\n",
    "algorithm = 'RF'\n",
    "name = f'{endpoint}_{algorithm}_{descriptor}'\n",
    "\n",
    "# model\n",
    "rf_reg = RandomForestRegressor(random_state =42, n_jobs=6,\n",
    "                              n_estimators = 1500, min_samples_split = 2, min_samples_leaf=2,\n",
    "                              max_features = 'sqrt', max_depth=50, bootstrap= True)\n",
    "\n",
    "#input\n",
    "a, b,c,d,e = prepare_input(train_labels, train_ecfp6_bits, target = 'logLD50_mmolkg')\n",
    "\n",
    "# results\n",
    "RM_mf, RM_oof, RM_base_model, cv_score = Regression_meta_features(rf_reg, a, c, b, \n",
    "                                                       d, e,cv=10, n_jobs = 1, col_names = [f'{name}'])\n",
    "# report the results\n",
    "report_cv_reg_models(cv_score)\n",
    "\n",
    "# Save results\n",
    "RM_mf.to_csv(f'../data/Hmodel_features/{name}.csv')\n",
    "np.save(f'../results/Base_models/{name}.npy', RM_oof)\n",
    "joblib.dump(RM_base_model, f'../models/Base_models/{name}.pkl')\n",
    "joblib.dump(cv_score, f'../results/Base_models/{name}_CVScore')\n"
   ]
  },
  {
   "cell_type": "markdown",
   "metadata": {},
   "source": [
    "### xgboost"
   ]
  },
  {
   "cell_type": "code",
   "execution_count": null,
   "metadata": {},
   "outputs": [
    {
     "name": "stdout",
     "output_type": "stream",
     "text": [
      "[22:15:28] WARNING: /workspace/src/objective/regression_obj.cu:152: reg:linear is now deprecated in favor of reg:squarederror.\n",
      "[22:17:49] WARNING: /workspace/src/objective/regression_obj.cu:152: reg:linear is now deprecated in favor of reg:squarederror.\n",
      "[22:19:57] WARNING: /workspace/src/objective/regression_obj.cu:152: reg:linear is now deprecated in favor of reg:squarederror.\n",
      "[22:22:05] WARNING: /workspace/src/objective/regression_obj.cu:152: reg:linear is now deprecated in favor of reg:squarederror.\n",
      "[22:24:12] WARNING: /workspace/src/objective/regression_obj.cu:152: reg:linear is now deprecated in favor of reg:squarederror.\n",
      "[22:26:20] WARNING: /workspace/src/objective/regression_obj.cu:152: reg:linear is now deprecated in favor of reg:squarederror.\n",
      "[22:28:27] WARNING: /workspace/src/objective/regression_obj.cu:152: reg:linear is now deprecated in favor of reg:squarederror.\n",
      "[22:30:35] WARNING: /workspace/src/objective/regression_obj.cu:152: reg:linear is now deprecated in favor of reg:squarederror.\n",
      "[22:32:42] WARNING: /workspace/src/objective/regression_obj.cu:152: reg:linear is now deprecated in favor of reg:squarederror.\n",
      "[22:34:50] WARNING: /workspace/src/objective/regression_obj.cu:152: reg:linear is now deprecated in favor of reg:squarederror.\n",
      "[22:36:57] WARNING: /workspace/src/objective/regression_obj.cu:152: reg:linear is now deprecated in favor of reg:squarederror.\n",
      "[22:39:05] WARNING: /workspace/src/objective/regression_obj.cu:152: reg:linear is now deprecated in favor of reg:squarederror.\n",
      "[22:41:12] WARNING: /workspace/src/objective/regression_obj.cu:152: reg:linear is now deprecated in favor of reg:squarederror.\n",
      "[22:43:21] WARNING: /workspace/src/objective/regression_obj.cu:152: reg:linear is now deprecated in favor of reg:squarederror.\n",
      "[22:45:28] WARNING: /workspace/src/objective/regression_obj.cu:152: reg:linear is now deprecated in favor of reg:squarederror.\n",
      "[22:47:36] WARNING: /workspace/src/objective/regression_obj.cu:152: reg:linear is now deprecated in favor of reg:squarederror.\n",
      "[22:49:43] WARNING: /workspace/src/objective/regression_obj.cu:152: reg:linear is now deprecated in favor of reg:squarederror.\n",
      "[22:51:51] WARNING: /workspace/src/objective/regression_obj.cu:152: reg:linear is now deprecated in favor of reg:squarederror.\n",
      "[22:53:58] WARNING: /workspace/src/objective/regression_obj.cu:152: reg:linear is now deprecated in favor of reg:squarederror.\n",
      "[22:56:06] WARNING: /workspace/src/objective/regression_obj.cu:152: reg:linear is now deprecated in favor of reg:squarederror.\n",
      "[22:58:13] WARNING: /workspace/src/objective/regression_obj.cu:152: reg:linear is now deprecated in favor of reg:squarederror.\n",
      "RMSE: 0.62 std: 0.025\n",
      "R2: 0.529 std: 0.03\n",
      "MAE: 0.46 std: 0.017\n",
      "MSE: 0.385 std: 0.031\n",
      "CPU times: user 4h 25min 51s, sys: 10.3 s, total: 4h 26min 1s\n",
      "Wall time: 44min 52s\n"
     ]
    }
   ],
   "source": [
    "%%time\n",
    "#yes\n",
    "endpoint = 'LD50'\n",
    "descriptor = 'ecfp6bits'\n",
    "algorithm = 'xgboost'\n",
    "name = f'{endpoint}_{algorithm}_{descriptor}'\n",
    "\n",
    "# model\n",
    "reg = XGBRegressor(random_state =123, n_jobs=6,\n",
    "                    subsample = 0.6, n_estimators = 1500, min_child_weight=1,\n",
    "                    max_depth = 10, learning_rate=0.01, gamma= 0,\n",
    "                    colsample_bytree = 0.9)\n",
    "\n",
    "#input\n",
    "a, b,c,d,e = prepare_input(train_labels, train_ecfp6_bits, target = 'logLD50_mmolkg')\n",
    "\n",
    "# results\n",
    "RM_mf, RM_oof, RM_base_model, cv_score = Regression_meta_features(reg, a, c, b, \n",
    "                                                       d, e,cv=10, n_jobs = 1, col_names = [f'{name}'])\n",
    "# report the results\n",
    "report_cv_reg_models(cv_score)\n",
    "\n",
    "# Save results\n",
    "RM_mf.to_csv(f'../data/Hmodel_features/{name}.csv')\n",
    "np.save(f'../results/Base_models/{name}.npy', RM_oof)\n",
    "joblib.dump(RM_base_model, f'../models/Base_models/{name}.pkl')\n",
    "joblib.dump(cv_score, f'../results/Base_models/{name}_CVScore')\n"
   ]
  },
  {
   "cell_type": "code",
   "execution_count": null,
   "metadata": {},
   "outputs": [
    {
     "name": "stdout",
     "output_type": "stream",
     "text": [
      "[23:00:21] WARNING: /workspace/src/objective/regression_obj.cu:152: reg:linear is now deprecated in favor of reg:squarederror.\n",
      "[23:00:59] WARNING: /workspace/src/objective/regression_obj.cu:152: reg:linear is now deprecated in favor of reg:squarederror.\n",
      "[23:01:34] WARNING: /workspace/src/objective/regression_obj.cu:152: reg:linear is now deprecated in favor of reg:squarederror.\n",
      "[23:02:08] WARNING: /workspace/src/objective/regression_obj.cu:152: reg:linear is now deprecated in favor of reg:squarederror.\n",
      "[23:02:43] WARNING: /workspace/src/objective/regression_obj.cu:152: reg:linear is now deprecated in favor of reg:squarederror.\n",
      "[23:03:17] WARNING: /workspace/src/objective/regression_obj.cu:152: reg:linear is now deprecated in favor of reg:squarederror.\n",
      "[23:03:52] WARNING: /workspace/src/objective/regression_obj.cu:152: reg:linear is now deprecated in favor of reg:squarederror.\n",
      "[23:04:27] WARNING: /workspace/src/objective/regression_obj.cu:152: reg:linear is now deprecated in favor of reg:squarederror.\n",
      "[23:05:01] WARNING: /workspace/src/objective/regression_obj.cu:152: reg:linear is now deprecated in favor of reg:squarederror.\n",
      "[23:05:36] WARNING: /workspace/src/objective/regression_obj.cu:152: reg:linear is now deprecated in favor of reg:squarederror.\n",
      "[23:06:10] WARNING: /workspace/src/objective/regression_obj.cu:152: reg:linear is now deprecated in favor of reg:squarederror.\n",
      "[23:06:45] WARNING: /workspace/src/objective/regression_obj.cu:152: reg:linear is now deprecated in favor of reg:squarederror.\n",
      "[23:07:19] WARNING: /workspace/src/objective/regression_obj.cu:152: reg:linear is now deprecated in favor of reg:squarederror.\n",
      "[23:07:54] WARNING: /workspace/src/objective/regression_obj.cu:152: reg:linear is now deprecated in favor of reg:squarederror.\n",
      "[23:08:28] WARNING: /workspace/src/objective/regression_obj.cu:152: reg:linear is now deprecated in favor of reg:squarederror.\n",
      "[23:09:03] WARNING: /workspace/src/objective/regression_obj.cu:152: reg:linear is now deprecated in favor of reg:squarederror.\n",
      "[23:09:37] WARNING: /workspace/src/objective/regression_obj.cu:152: reg:linear is now deprecated in favor of reg:squarederror.\n",
      "[23:10:12] WARNING: /workspace/src/objective/regression_obj.cu:152: reg:linear is now deprecated in favor of reg:squarederror.\n",
      "[23:10:46] WARNING: /workspace/src/objective/regression_obj.cu:152: reg:linear is now deprecated in favor of reg:squarederror.\n",
      "[23:11:21] WARNING: /workspace/src/objective/regression_obj.cu:152: reg:linear is now deprecated in favor of reg:squarederror.\n",
      "[23:11:55] WARNING: /workspace/src/objective/regression_obj.cu:152: reg:linear is now deprecated in favor of reg:squarederror.\n",
      "RMSE: 0.621 std: 0.019\n",
      "R2: 0.527 std: 0.021\n",
      "MAE: 0.461 std: 0.014\n",
      "MSE: 0.386 std: 0.024\n",
      "CPU times: user 1h 11min 19s, sys: 4.93 s, total: 1h 11min 24s\n",
      "Wall time: 12min 9s\n"
     ]
    }
   ],
   "source": [
    "%%time\n",
    "\n",
    "endpoint = 'LD50'\n",
    "descriptor = 'ecfp6counts'\n",
    "algorithm = 'xgboost'\n",
    "name = f'{endpoint}_{algorithm}_{descriptor}'\n",
    "\n",
    "# model\n",
    "reg = XGBRegressor(random_state =123, n_jobs=6,\n",
    "                    subsample =0.9, n_estimators = 1500, min_child_weight=3,\n",
    "                    max_depth = 10, learning_rate=0.01, gamma= 0,\n",
    "                    colsample_bytree = 0.5)\n",
    "\n",
    "#input\n",
    "a, b,c,d,e = prepare_input(train_labels, train_ecfp6_counts, target = 'logLD50_mmolkg')\n",
    "\n",
    "# results\n",
    "RM_mf, RM_oof, RM_base_model, cv_score = Regression_meta_features(reg, a, c, b, \n",
    "                                                       d, e,cv=10, n_jobs = 1, col_names = [f'{name}'])\n",
    "# report the results\n",
    "report_cv_reg_models(cv_score)\n",
    "\n",
    "# Save results\n",
    "RM_mf.to_csv(f'../data/Hmodel_features/{name}.csv')\n",
    "np.save(f'../results/Base_models/{name}.npy', RM_oof)\n",
    "joblib.dump(RM_base_model, f'../models/Base_models/{name}.pkl')\n",
    "joblib.dump(cv_score, f'../results/Base_models/{name}_CVScore')\n"
   ]
  },
  {
   "cell_type": "code",
   "execution_count": null,
   "metadata": {},
   "outputs": [
    {
     "name": "stdout",
     "output_type": "stream",
     "text": [
      "[23:12:30] WARNING: /workspace/src/objective/regression_obj.cu:152: reg:linear is now deprecated in favor of reg:squarederror.\n",
      "[23:12:50] WARNING: /workspace/src/objective/regression_obj.cu:152: reg:linear is now deprecated in favor of reg:squarederror.\n",
      "[23:13:07] WARNING: /workspace/src/objective/regression_obj.cu:152: reg:linear is now deprecated in favor of reg:squarederror.\n",
      "[23:13:25] WARNING: /workspace/src/objective/regression_obj.cu:152: reg:linear is now deprecated in favor of reg:squarederror.\n",
      "[23:13:43] WARNING: /workspace/src/objective/regression_obj.cu:152: reg:linear is now deprecated in favor of reg:squarederror.\n",
      "[23:14:00] WARNING: /workspace/src/objective/regression_obj.cu:152: reg:linear is now deprecated in favor of reg:squarederror.\n",
      "[23:14:18] WARNING: /workspace/src/objective/regression_obj.cu:152: reg:linear is now deprecated in favor of reg:squarederror.\n",
      "[23:14:35] WARNING: /workspace/src/objective/regression_obj.cu:152: reg:linear is now deprecated in favor of reg:squarederror.\n",
      "[23:14:53] WARNING: /workspace/src/objective/regression_obj.cu:152: reg:linear is now deprecated in favor of reg:squarederror.\n",
      "[23:15:10] WARNING: /workspace/src/objective/regression_obj.cu:152: reg:linear is now deprecated in favor of reg:squarederror.\n",
      "[23:15:28] WARNING: /workspace/src/objective/regression_obj.cu:152: reg:linear is now deprecated in favor of reg:squarederror.\n",
      "[23:15:46] WARNING: /workspace/src/objective/regression_obj.cu:152: reg:linear is now deprecated in favor of reg:squarederror.\n",
      "[23:16:03] WARNING: /workspace/src/objective/regression_obj.cu:152: reg:linear is now deprecated in favor of reg:squarederror.\n",
      "[23:16:21] WARNING: /workspace/src/objective/regression_obj.cu:152: reg:linear is now deprecated in favor of reg:squarederror.\n",
      "[23:16:39] WARNING: /workspace/src/objective/regression_obj.cu:152: reg:linear is now deprecated in favor of reg:squarederror.\n",
      "[23:16:56] WARNING: /workspace/src/objective/regression_obj.cu:152: reg:linear is now deprecated in favor of reg:squarederror.\n",
      "[23:17:14] WARNING: /workspace/src/objective/regression_obj.cu:152: reg:linear is now deprecated in favor of reg:squarederror.\n",
      "[23:17:32] WARNING: /workspace/src/objective/regression_obj.cu:152: reg:linear is now deprecated in favor of reg:squarederror.\n",
      "[23:17:50] WARNING: /workspace/src/objective/regression_obj.cu:152: reg:linear is now deprecated in favor of reg:squarederror.\n",
      "[23:18:07] WARNING: /workspace/src/objective/regression_obj.cu:152: reg:linear is now deprecated in favor of reg:squarederror.\n",
      "[23:18:25] WARNING: /workspace/src/objective/regression_obj.cu:152: reg:linear is now deprecated in favor of reg:squarederror.\n",
      "RMSE: 0.588 std: 0.026\n",
      "R2: 0.576 std: 0.032\n",
      "MAE: 0.43 std: 0.019\n",
      "MSE: 0.346 std: 0.031\n",
      "CPU times: user 37min 5s, sys: 4.37 s, total: 37min 9s\n",
      "Wall time: 6min 12s\n"
     ]
    }
   ],
   "source": [
    "%%time\n",
    "#yes\n",
    "endpoint = 'LD50'\n",
    "descriptor = 'maccs'\n",
    "algorithm = 'xgboost'\n",
    "name = f'{endpoint}_{algorithm}_{descriptor}'\n",
    "\n",
    "# model\n",
    "reg = XGBRegressor(random_state =123, n_jobs=6,\n",
    "                    subsample =0.6, n_estimators = 1500, min_child_weight=3,\n",
    "                    max_depth = 6, learning_rate=0.01, gamma= 0,\n",
    "                    colsample_bytree = 0.5)\n",
    "\n",
    "#input\n",
    "a, b,c,d,e = prepare_input(train_labels, train_maccs, target = 'logLD50_mmolkg')\n",
    "\n",
    "# results\n",
    "RM_mf, RM_oof, RM_base_model, cv_score = Regression_meta_features(reg, a, c, b, \n",
    "                                                       d, e,cv=10, n_jobs = 1, col_names = [f'{name}'])\n",
    "# report the results\n",
    "report_cv_reg_models(cv_score)\n",
    "\n",
    "# Save results\n",
    "RM_mf.to_csv(f'../data/Hmodel_features/{name}.csv')\n",
    "np.save(f'../results/Base_models/{name}.npy', RM_oof)\n",
    "joblib.dump(RM_base_model, f'../models/Base_models/{name}.pkl')\n",
    "joblib.dump(cv_score, f'../results/Base_models/{name}_CVScore')\n"
   ]
  },
  {
   "cell_type": "code",
   "execution_count": null,
   "metadata": {},
   "outputs": [
    {
     "name": "stdout",
     "output_type": "stream",
     "text": [
      "[23:18:43] WARNING: /workspace/src/objective/regression_obj.cu:152: reg:linear is now deprecated in favor of reg:squarederror.\n",
      "[23:18:49] WARNING: /workspace/src/objective/regression_obj.cu:152: reg:linear is now deprecated in favor of reg:squarederror.\n",
      "[23:18:55] WARNING: /workspace/src/objective/regression_obj.cu:152: reg:linear is now deprecated in favor of reg:squarederror.\n",
      "[23:19:00] WARNING: /workspace/src/objective/regression_obj.cu:152: reg:linear is now deprecated in favor of reg:squarederror.\n",
      "[23:19:06] WARNING: /workspace/src/objective/regression_obj.cu:152: reg:linear is now deprecated in favor of reg:squarederror.\n",
      "[23:19:11] WARNING: /workspace/src/objective/regression_obj.cu:152: reg:linear is now deprecated in favor of reg:squarederror.\n",
      "[23:19:17] WARNING: /workspace/src/objective/regression_obj.cu:152: reg:linear is now deprecated in favor of reg:squarederror.\n",
      "[23:19:22] WARNING: /workspace/src/objective/regression_obj.cu:152: reg:linear is now deprecated in favor of reg:squarederror.\n",
      "[23:19:28] WARNING: /workspace/src/objective/regression_obj.cu:152: reg:linear is now deprecated in favor of reg:squarederror.\n",
      "[23:19:33] WARNING: /workspace/src/objective/regression_obj.cu:152: reg:linear is now deprecated in favor of reg:squarederror.\n",
      "[23:19:39] WARNING: /workspace/src/objective/regression_obj.cu:152: reg:linear is now deprecated in favor of reg:squarederror.\n",
      "[23:19:44] WARNING: /workspace/src/objective/regression_obj.cu:152: reg:linear is now deprecated in favor of reg:squarederror.\n",
      "[23:19:50] WARNING: /workspace/src/objective/regression_obj.cu:152: reg:linear is now deprecated in favor of reg:squarederror.\n",
      "[23:19:55] WARNING: /workspace/src/objective/regression_obj.cu:152: reg:linear is now deprecated in favor of reg:squarederror.\n",
      "[23:20:01] WARNING: /workspace/src/objective/regression_obj.cu:152: reg:linear is now deprecated in favor of reg:squarederror.\n",
      "[23:20:06] WARNING: /workspace/src/objective/regression_obj.cu:152: reg:linear is now deprecated in favor of reg:squarederror.\n",
      "[23:20:12] WARNING: /workspace/src/objective/regression_obj.cu:152: reg:linear is now deprecated in favor of reg:squarederror.\n",
      "[23:20:17] WARNING: /workspace/src/objective/regression_obj.cu:152: reg:linear is now deprecated in favor of reg:squarederror.\n",
      "[23:20:23] WARNING: /workspace/src/objective/regression_obj.cu:152: reg:linear is now deprecated in favor of reg:squarederror.\n",
      "[23:20:29] WARNING: /workspace/src/objective/regression_obj.cu:152: reg:linear is now deprecated in favor of reg:squarederror.\n",
      "[23:20:34] WARNING: /workspace/src/objective/regression_obj.cu:152: reg:linear is now deprecated in favor of reg:squarederror.\n",
      "RMSE: 0.594 std: 0.025\n",
      "R2: 0.567 std: 0.028\n",
      "MAE: 0.435 std: 0.018\n",
      "MSE: 0.353 std: 0.03\n",
      "CPU times: user 11min 36s, sys: 1.04 s, total: 11min 37s\n",
      "Wall time: 1min 56s\n"
     ]
    }
   ],
   "source": [
    "%%time\n",
    "#yes\n",
    "endpoint = 'LD50'\n",
    "descriptor = 'rdkit2d'\n",
    "algorithm = 'xgboost'\n",
    "name = f'{endpoint}_{algorithm}_{descriptor}'\n",
    "\n",
    "# model\n",
    "reg = XGBRegressor(random_state =123, n_jobs=6,\n",
    "                    subsample =0.7, n_estimators = 1500, min_child_weight=5,\n",
    "                    max_depth = 10, learning_rate=0.01, gamma= 0,\n",
    "                    colsample_bytree = 0.6)\n",
    "\n",
    "#input\n",
    "a, b,c,d,e = prepare_input(train_labels, train_rdkit2d, target = 'logLD50_mmolkg')\n",
    "\n",
    "# results\n",
    "RM_mf, RM_oof, RM_base_model, cv_score = Regression_meta_features(reg, a, c, b, \n",
    "                                                       d, e,cv=10, n_jobs = 1, col_names = [f'{name}'])\n",
    "# report the results\n",
    "report_cv_reg_models(cv_score)\n",
    "\n",
    "# Save results\n",
    "RM_mf.to_csv(f'../data/Hmodel_features/{name}.csv')\n",
    "np.save(f'../results/Base_models/{name}.npy', RM_oof)\n",
    "joblib.dump(RM_base_model, f'../models/Base_models/{name}.pkl')\n",
    "joblib.dump(cv_score, f'../results/Base_models/{name}_CVScore')\n"
   ]
  },
  {
   "cell_type": "code",
   "execution_count": null,
   "metadata": {},
   "outputs": [
    {
     "name": "stdout",
     "output_type": "stream",
     "text": [
      "[23:20:40] WARNING: /workspace/src/objective/regression_obj.cu:152: reg:linear is now deprecated in favor of reg:squarederror.\n",
      "[23:21:11] WARNING: /workspace/src/objective/regression_obj.cu:152: reg:linear is now deprecated in favor of reg:squarederror.\n",
      "[23:21:40] WARNING: /workspace/src/objective/regression_obj.cu:152: reg:linear is now deprecated in favor of reg:squarederror.\n",
      "[23:22:09] WARNING: /workspace/src/objective/regression_obj.cu:152: reg:linear is now deprecated in favor of reg:squarederror.\n",
      "[23:22:37] WARNING: /workspace/src/objective/regression_obj.cu:152: reg:linear is now deprecated in favor of reg:squarederror.\n",
      "[23:23:05] WARNING: /workspace/src/objective/regression_obj.cu:152: reg:linear is now deprecated in favor of reg:squarederror.\n",
      "[23:23:34] WARNING: /workspace/src/objective/regression_obj.cu:152: reg:linear is now deprecated in favor of reg:squarederror.\n",
      "[23:24:03] WARNING: /workspace/src/objective/regression_obj.cu:152: reg:linear is now deprecated in favor of reg:squarederror.\n",
      "[23:24:31] WARNING: /workspace/src/objective/regression_obj.cu:152: reg:linear is now deprecated in favor of reg:squarederror.\n",
      "[23:25:00] WARNING: /workspace/src/objective/regression_obj.cu:152: reg:linear is now deprecated in favor of reg:squarederror.\n",
      "[23:25:28] WARNING: /workspace/src/objective/regression_obj.cu:152: reg:linear is now deprecated in favor of reg:squarederror.\n",
      "[23:25:57] WARNING: /workspace/src/objective/regression_obj.cu:152: reg:linear is now deprecated in favor of reg:squarederror.\n",
      "[23:26:25] WARNING: /workspace/src/objective/regression_obj.cu:152: reg:linear is now deprecated in favor of reg:squarederror.\n",
      "[23:26:54] WARNING: /workspace/src/objective/regression_obj.cu:152: reg:linear is now deprecated in favor of reg:squarederror.\n",
      "[23:27:22] WARNING: /workspace/src/objective/regression_obj.cu:152: reg:linear is now deprecated in favor of reg:squarederror.\n",
      "[23:27:51] WARNING: /workspace/src/objective/regression_obj.cu:152: reg:linear is now deprecated in favor of reg:squarederror.\n",
      "[23:28:19] WARNING: /workspace/src/objective/regression_obj.cu:152: reg:linear is now deprecated in favor of reg:squarederror.\n",
      "[23:28:48] WARNING: /workspace/src/objective/regression_obj.cu:152: reg:linear is now deprecated in favor of reg:squarederror.\n",
      "[23:29:16] WARNING: /workspace/src/objective/regression_obj.cu:152: reg:linear is now deprecated in favor of reg:squarederror.\n",
      "[23:29:45] WARNING: /workspace/src/objective/regression_obj.cu:152: reg:linear is now deprecated in favor of reg:squarederror.\n",
      "[23:30:14] WARNING: /workspace/src/objective/regression_obj.cu:152: reg:linear is now deprecated in favor of reg:squarederror.\n",
      "RMSE: 0.584 std: 0.028\n",
      "R2: 0.582 std: 0.033\n",
      "MAE: 0.428 std: 0.018\n",
      "MSE: 0.341 std: 0.033\n",
      "CPU times: user 1h 4s, sys: 2.5 s, total: 1h 7s\n",
      "Wall time: 10min 2s\n"
     ]
    }
   ],
   "source": [
    "%%time\n",
    "#yes\n",
    "endpoint = 'LD50'\n",
    "descriptor = 'mordred'\n",
    "algorithm = 'xgboost'\n",
    "name = f'{endpoint}_{algorithm}_{descriptor}'\n",
    "\n",
    "# model\n",
    "reg = XGBRegressor(random_state =123, n_jobs=6,\n",
    "                    subsample =0.7, n_estimators = 1500, min_child_weight=1,\n",
    "                    max_depth = 6, learning_rate=0.01, gamma= 0,\n",
    "                    colsample_bytree = 0.7)\n",
    "\n",
    "#input\n",
    "a, b,c,d,e = prepare_input(train_labels, train_mordred, target = 'logLD50_mmolkg')\n",
    "\n",
    "# results\n",
    "RM_mf, RM_oof, RM_base_model, cv_score = Regression_meta_features(reg, a, c, b, \n",
    "                                                       d, e,cv=10, n_jobs = 1, col_names = [f'{name}'])\n",
    "# report the results\n",
    "report_cv_reg_models(cv_score)\n",
    "\n",
    "# Save results\n",
    "RM_mf.to_csv(f'../data/Hmodel_features/{name}.csv')\n",
    "np.save(f'../results/Base_models/{name}.npy', RM_oof)\n",
    "joblib.dump(RM_base_model, f'../models/Base_models/{name}.pkl')\n",
    "joblib.dump(cv_score, f'../results/Base_models/{name}_CVScore')\n"
   ]
  },
  {
   "cell_type": "markdown",
   "metadata": {},
   "source": [
    "### knn"
   ]
  },
  {
   "cell_type": "code",
   "execution_count": null,
   "metadata": {},
   "outputs": [
    {
     "name": "stdout",
     "output_type": "stream",
     "text": [
      "RMSE: 0.609 std: 0.023\n",
      "R2: 0.545 std: 0.031\n",
      "MAE: 0.443 std: 0.015\n",
      "MSE: 0.371 std: 0.028\n",
      "CPU times: user 2min 4s, sys: 68 ms, total: 2min 4s\n",
      "Wall time: 2min 4s\n"
     ]
    }
   ],
   "source": [
    "%%time\n",
    "#yes\n",
    "endpoint = 'LD50'\n",
    "descriptor = 'mordred'\n",
    "algorithm = 'knn'\n",
    "name = f'{endpoint}_{algorithm}_{descriptor}'\n",
    "\n",
    "# model\n",
    "reg = KNeighborsRegressor(p = 1, n_neighbors = 9, weights = 'distance')\n",
    "\n",
    "#input\n",
    "a, b,c,d,e = prepare_input(train_labels, train_mordred, target = 'logLD50_mmolkg')\n",
    "\n",
    "# results\n",
    "RM_mf, RM_oof, RM_base_model, cv_score = Regression_meta_features(reg, a, c, b, \n",
    "                                                       d, e,cv=10, n_jobs = 1, col_names = [f'{name}'])\n",
    "# report the results\n",
    "report_cv_reg_models(cv_score)\n",
    "\n",
    "# Save results\n",
    "RM_mf.to_csv(f'../data/Hmodel_features/{name}.csv')\n",
    "np.save(f'../results/Base_models/{name}.npy', RM_oof)\n",
    "joblib.dump(RM_base_model, f'../models/Base_models/{name}.pkl')\n",
    "joblib.dump(cv_score, f'../results/Base_models/{name}_CVScore')\n"
   ]
  },
  {
   "cell_type": "code",
   "execution_count": null,
   "metadata": {},
   "outputs": [
    {
     "name": "stdout",
     "output_type": "stream",
     "text": [
      "RMSE: 0.628 std: 0.025\n",
      "R2: 0.516 std: 0.036\n",
      "MAE: 0.458 std: 0.017\n",
      "MSE: 0.395 std: 0.031\n",
      "CPU times: user 42.4 s, sys: 36 ms, total: 42.4 s\n",
      "Wall time: 42.4 s\n"
     ]
    }
   ],
   "source": [
    "%%time\n",
    "#yes\n",
    "endpoint = 'LD50'\n",
    "descriptor = 'rdkit2d'\n",
    "algorithm = 'knn'\n",
    "name = f'{endpoint}_{algorithm}_{descriptor}'\n",
    "\n",
    "# model\n",
    "reg = KNeighborsRegressor(p = 1, n_neighbors = 9, weights = 'distance')\n",
    "\n",
    "#input\n",
    "a, b,c,d,e = prepare_input(train_labels, train_rdkit2d, target = 'logLD50_mmolkg')\n",
    "\n",
    "# results\n",
    "RM_mf, RM_oof, RM_base_model, cv_score = Regression_meta_features(reg, a, c, b, \n",
    "                                                       d, e,cv=10, n_jobs = 1, col_names = [f'{name}'])\n",
    "# report the results\n",
    "report_cv_reg_models(cv_score)\n",
    "\n",
    "# Save results\n",
    "RM_mf.to_csv(f'../data/Hmodel_features/{name}.csv')\n",
    "np.save(f'../results/Base_models/{name}.npy', RM_oof)\n",
    "joblib.dump(RM_base_model, f'../models/Base_models/{name}.pkl')\n",
    "joblib.dump(cv_score, f'../results/Base_models/{name}_CVScore')\n"
   ]
  },
  {
   "cell_type": "code",
   "execution_count": null,
   "metadata": {},
   "outputs": [
    {
     "name": "stdout",
     "output_type": "stream",
     "text": [
      "RMSE: 0.633 std: 0.028\n",
      "R2: 0.508 std: 0.043\n",
      "MAE: 0.462 std: 0.016\n",
      "MSE: 0.402 std: 0.035\n",
      "CPU times: user 17.6 s, sys: 20 ms, total: 17.6 s\n",
      "Wall time: 17.6 s\n"
     ]
    }
   ],
   "source": [
    "%%time\n",
    "#yes\n",
    "endpoint = 'LD50'\n",
    "descriptor = 'maccs'\n",
    "algorithm = 'knn'\n",
    "name = f'{endpoint}_{algorithm}_{descriptor}'\n",
    "\n",
    "# model\n",
    "reg = KNeighborsRegressor(metric = 'rogerstanimoto', n_neighbors = 9, weights = 'distance')\n",
    "\n",
    "#input\n",
    "a, b,c,d,e = prepare_input(train_labels, train_maccs, target = 'logLD50_mmolkg')\n",
    "\n",
    "# results\n",
    "RM_mf, RM_oof, RM_base_model, cv_score = Regression_meta_features(reg, a, c, b, \n",
    "                                                       d, e,cv=10, n_jobs = 1, col_names = [f'{name}'])\n",
    "# report the results\n",
    "report_cv_reg_models(cv_score)\n",
    "\n",
    "# Save results\n",
    "RM_mf.to_csv(f'../data/Hmodel_features/{name}.csv')\n",
    "np.save(f'../results/Base_models/{name}.npy', RM_oof)\n",
    "joblib.dump(RM_base_model, f'../models/Base_models/{name}.pkl')\n",
    "joblib.dump(cv_score, f'../results/Base_models/{name}_CVScore')\n"
   ]
  },
  {
   "cell_type": "code",
   "execution_count": null,
   "metadata": {},
   "outputs": [
    {
     "name": "stdout",
     "output_type": "stream",
     "text": [
      "RMSE: 0.647 std: 0.017\n",
      "R2: 0.486 std: 0.027\n",
      "MAE: 0.477 std: 0.012\n",
      "MSE: 0.419 std: 0.023\n",
      "CPU times: user 8min 24s, sys: 1.87 s, total: 8min 26s\n",
      "Wall time: 8min 27s\n"
     ]
    }
   ],
   "source": [
    "%%time\n",
    "#yes\n",
    "endpoint = 'LD50'\n",
    "descriptor = 'ecfp6counts'\n",
    "algorithm = 'knn'\n",
    "name = f'{endpoint}_{algorithm}_{descriptor}'\n",
    "\n",
    "# model\n",
    "reg = KNeighborsRegressor(metric = 'braycurtis', n_neighbors = 9, weights = 'distance')\n",
    "\n",
    "#input\n",
    "a, b,c,d,e = prepare_input(train_labels, train_ecfp6_counts, target = 'logLD50_mmolkg')\n",
    "\n",
    "# results\n",
    "RM_mf, RM_oof, RM_base_model, cv_score = Regression_meta_features(reg, a, c, b, \n",
    "                                                       d, e,cv=10, n_jobs = 1, col_names = [f'{name}'])\n",
    "# report the results\n",
    "report_cv_reg_models(cv_score)\n",
    "\n",
    "# Save results\n",
    "RM_mf.to_csv(f'../data/Hmodel_features/{name}.csv')\n",
    "np.save(f'../results/Base_models/{name}.npy', RM_oof)\n",
    "joblib.dump(RM_base_model, f'../models/Base_models/{name}.pkl')\n",
    "joblib.dump(cv_score, f'../results/Base_models/{name}_CVScore')\n"
   ]
  },
  {
   "cell_type": "code",
   "execution_count": null,
   "metadata": {},
   "outputs": [
    {
     "name": "stdout",
     "output_type": "stream",
     "text": [
      "RMSE: 0.646 std: 0.017\n",
      "R2: 0.487 std: 0.026\n",
      "MAE: 0.477 std: 0.014\n",
      "MSE: 0.418 std: 0.022\n",
      "CPU times: user 12min 52s, sys: 1.85 s, total: 12min 53s\n",
      "Wall time: 12min 54s\n"
     ]
    }
   ],
   "source": [
    "%%time\n",
    "#yes\n",
    "endpoint = 'LD50'\n",
    "descriptor = 'ecfp6bits'\n",
    "algorithm = 'knn'\n",
    "name = f'{endpoint}_{algorithm}_{descriptor}'\n",
    "\n",
    "# model\n",
    "reg = KNeighborsRegressor(metric = 'dice', n_neighbors = 15, weights = 'distance')\n",
    "\n",
    "#input\n",
    "a, b,c,d,e = prepare_input(train_labels, train_ecfp6_bits, target = 'logLD50_mmolkg')\n",
    "\n",
    "# results\n",
    "RM_mf, RM_oof, RM_base_model, cv_score = Regression_meta_features(reg, a, c, b, \n",
    "                                                       d, e,cv=10, n_jobs = 1, col_names = [f'{name}'])\n",
    "# report the results\n",
    "report_cv_reg_models(cv_score)\n",
    "\n",
    "# Save results\n",
    "RM_mf.to_csv(f'../data/Hmodel_features/{name}.csv')\n",
    "np.save(f'../results/Base_models/{name}.npy', RM_oof)\n",
    "joblib.dump(RM_base_model, f'../models/Base_models/{name}.pkl')\n",
    "joblib.dump(cv_score, f'../results/Base_models/{name}_CVScore')\n"
   ]
  },
  {
   "cell_type": "markdown",
   "metadata": {},
   "source": [
    "### SVM"
   ]
  },
  {
   "cell_type": "code",
   "execution_count": null,
   "metadata": {},
   "outputs": [
    {
     "name": "stdout",
     "output_type": "stream",
     "text": [
      "RMSE: 0.613 std: 0.024\n",
      "R2: 0.54 std: 0.026\n",
      "MAE: 0.447 std: 0.015\n",
      "MSE: 0.376 std: 0.03\n",
      "CPU times: user 22.5 s, sys: 508 ms, total: 23 s\n",
      "Wall time: 1min 57s\n"
     ]
    }
   ],
   "source": [
    "%%time\n",
    "#yes\n",
    "endpoint = 'LD50'\n",
    "descriptor = 'mordred'\n",
    "algorithm = 'svm'\n",
    "name = f'{endpoint}_{algorithm}_{descriptor}'\n",
    "\n",
    "# model\n",
    "reg = SVR(C = 10, gamma = 0.1, kernel = 'rbf')\n",
    "\n",
    "#input\n",
    "a, b,c,d,e = prepare_input(train_labels, train_mordred, target = 'logLD50_mmolkg')\n",
    "\n",
    "# results\n",
    "RM_mf, RM_oof, RM_base_model, cv_score = Regression_meta_features(reg, a, c, b, \n",
    "                                                       d, e,cv=10, n_jobs = 6, col_names = [f'{name}'])\n",
    "# report the results\n",
    "report_cv_reg_models(cv_score)\n",
    "\n",
    "# Save results\n",
    "RM_mf.to_csv(f'../data/Hmodel_features/{name}.csv')\n",
    "np.save(f'../results/Base_models/{name}.npy', RM_oof)\n",
    "joblib.dump(RM_base_model, f'../models/Base_models/{name}.pkl')\n",
    "joblib.dump(cv_score, f'../results/Base_models/{name}_CVScore')\n"
   ]
  },
  {
   "cell_type": "code",
   "execution_count": null,
   "metadata": {},
   "outputs": [
    {
     "name": "stdout",
     "output_type": "stream",
     "text": [
      "RMSE: 0.637 std: 0.025\n",
      "R2: 0.503 std: 0.031\n",
      "MAE: 0.461 std: 0.015\n",
      "MSE: 0.406 std: 0.032\n",
      "CPU times: user 8.41 s, sys: 432 ms, total: 8.85 s\n",
      "Wall time: 44.7 s\n"
     ]
    }
   ],
   "source": [
    "%%time\n",
    "#yes\n",
    "endpoint = 'LD50'\n",
    "descriptor = 'rdkit2d'\n",
    "algorithm = 'svm'\n",
    "name = f'{endpoint}_{algorithm}_{descriptor}'\n",
    "\n",
    "# model\n",
    "reg = SVR(C = 1, gamma = 1, kernel = 'rbf')\n",
    "\n",
    "#input\n",
    "a, b,c,d,e = prepare_input(train_labels, train_rdkit2d, target = 'logLD50_mmolkg')\n",
    "\n",
    "# results\n",
    "RM_mf, RM_oof, RM_base_model, cv_score = Regression_meta_features(reg, a, c, b, \n",
    "                                                       d, e,cv=10, n_jobs = 6, col_names = [f'{name}'])\n",
    "# report the results\n",
    "report_cv_reg_models(cv_score)\n",
    "\n",
    "# Save results\n",
    "RM_mf.to_csv(f'../data/Hmodel_features/{name}.csv')\n",
    "np.save(f'../results/Base_models/{name}.npy', RM_oof)\n",
    "joblib.dump(RM_base_model, f'../models/Base_models/{name}.pkl')\n",
    "joblib.dump(cv_score, f'../results/Base_models/{name}_CVScore')\n"
   ]
  },
  {
   "cell_type": "code",
   "execution_count": null,
   "metadata": {},
   "outputs": [
    {
     "name": "stdout",
     "output_type": "stream",
     "text": [
      "RMSE: 0.61 std: 0.026\n",
      "R2: 0.543 std: 0.031\n",
      "MAE: 0.452 std: 0.019\n",
      "MSE: 0.373 std: 0.031\n",
      "CPU times: user 9.65 s, sys: 24 ms, total: 9.67 s\n",
      "Wall time: 46.9 s\n"
     ]
    }
   ],
   "source": [
    "%%time\n",
    "#yes\n",
    "endpoint = 'LD50'\n",
    "descriptor = 'maccs'\n",
    "algorithm = 'svm'\n",
    "name = f'{endpoint}_{algorithm}_{descriptor}'\n",
    "\n",
    "# model\n",
    "reg = SVR(C = 10, gamma = 0.1, kernel = 'rbf')\n",
    "\n",
    "#input\n",
    "a, b,c,d,e = prepare_input(train_labels, train_maccs, target = 'logLD50_mmolkg')\n",
    "\n",
    "# results\n",
    "RM_mf, RM_oof, RM_base_model, cv_score = Regression_meta_features(reg, a, c, b, \n",
    "                                                       d, e,cv=10, n_jobs = 6, col_names = [f'{name}'])\n",
    "# report the results\n",
    "report_cv_reg_models(cv_score)\n",
    "\n",
    "# Save results\n",
    "RM_mf.to_csv(f'../data/Hmodel_features/{name}.csv')\n",
    "np.save(f'../results/Base_models/{name}.npy', RM_oof)\n",
    "joblib.dump(RM_base_model, f'../models/Base_models/{name}.pkl')\n",
    "joblib.dump(cv_score, f'../results/Base_models/{name}_CVScore')\n"
   ]
  },
  {
   "cell_type": "code",
   "execution_count": null,
   "metadata": {},
   "outputs": [
    {
     "name": "stdout",
     "output_type": "stream",
     "text": [
      "RMSE: 0.668 std: 0.02\n",
      "R2: 0.454 std: 0.024\n",
      "MAE: 0.49 std: 0.016\n",
      "MSE: 0.446 std: 0.026\n",
      "CPU times: user 1min 19s, sys: 334 ms, total: 1min 19s\n",
      "Wall time: 7min 35s\n"
     ]
    }
   ],
   "source": [
    "%%time\n",
    "#yes\n",
    "endpoint = 'LD50'\n",
    "descriptor = 'ecfp6bits'\n",
    "algorithm = 'svm'\n",
    "name = f'{endpoint}_{algorithm}_{descriptor}'\n",
    "\n",
    "# model\n",
    "reg = SVR(C = 1, gamma = 0.01, kernel = 'rbf')\n",
    "\n",
    "#input\n",
    "a, b,c,d,e = prepare_input(train_labels, train_ecfp6_bits, target = 'logLD50_mmolkg')\n",
    "\n",
    "# results\n",
    "RM_mf, RM_oof, RM_base_model, cv_score = Regression_meta_features(reg, a, c, b, \n",
    "                                                       d, e,cv=10, n_jobs = 6, col_names = [f'{name}'])\n",
    "# report the results\n",
    "report_cv_reg_models(cv_score)\n",
    "\n",
    "# Save results\n",
    "RM_mf.to_csv(f'../data/Hmodel_features/{name}.csv')\n",
    "np.save(f'../results/Base_models/{name}.npy', RM_oof)\n",
    "joblib.dump(RM_base_model, f'../models/Base_models/{name}.pkl')\n",
    "joblib.dump(cv_score, f'../results/Base_models/{name}_CVScore')\n"
   ]
  },
  {
   "cell_type": "code",
   "execution_count": null,
   "metadata": {},
   "outputs": [
    {
     "name": "stdout",
     "output_type": "stream",
     "text": [
      "RMSE: 0.623 std: 0.013\n",
      "R2: 0.524 std: 0.02\n",
      "MAE: 0.465 std: 0.009\n",
      "MSE: 0.388 std: 0.016\n",
      "CPU times: user 1min 21s, sys: 272 ms, total: 1min 21s\n",
      "Wall time: 7min 37s\n"
     ]
    }
   ],
   "source": [
    "%%time\n",
    "#yes\n",
    "endpoint = 'LD50'\n",
    "descriptor = 'ecfp6counts'\n",
    "algorithm = 'svm'\n",
    "name = f'{endpoint}_{algorithm}_{descriptor}'\n",
    "\n",
    "# model\n",
    "reg = SVR(C = 10, gamma = 0.01, kernel = 'rbf')\n",
    "\n",
    "#input\n",
    "a, b,c,d,e = prepare_input(train_labels, train_ecfp6_counts, target = 'logLD50_mmolkg')\n",
    "\n",
    "# results\n",
    "RM_mf, RM_oof, RM_base_model, cv_score = Regression_meta_features(reg, a, c, b, \n",
    "                                                       d, e,cv=10, n_jobs = 6, col_names = [f'{name}'])\n",
    "# report the results\n",
    "report_cv_reg_models(cv_score)\n",
    "\n",
    "# Save results\n",
    "RM_mf.to_csv(f'../data/Hmodel_features/{name}.csv')\n",
    "np.save(f'../results/Base_models/{name}.npy', RM_oof)\n",
    "joblib.dump(RM_base_model, f'../models/Base_models/{name}.pkl')\n",
    "joblib.dump(cv_score, f'../results/Base_models/{name}_CVScore')"
   ]
  }
 ],
 "metadata": {
  "kernelspec": {
   "display_name": "base",
   "language": "python",
   "name": "python3"
  },
  "language_info": {
   "codemirror_mode": {
    "name": "ipython",
    "version": 3
   },
   "file_extension": ".py",
   "mimetype": "text/x-python",
   "name": "python",
   "nbconvert_exporter": "python",
   "pygments_lexer": "ipython3",
   "version": "3.12.3"
  }
 },
 "nbformat": 4,
 "nbformat_minor": 2
}
